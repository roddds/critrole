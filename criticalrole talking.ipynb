{
 "cells": [
  {
   "cell_type": "markdown",
   "metadata": {},
   "source": [
    "# Critical Role stats\n",
    "\n",
    "* Longest stretch of time without speaking"
   ]
  },
  {
   "cell_type": "markdown",
   "metadata": {},
   "source": [
    "## Download all Campaign 2 subtitles\n",
    "\n",
    "(takes about an hour)\n",
    "\n",
    "```bash\n",
    "youtube-dl https://www.youtube.com/playlist\\?list\\=PL1tiwbzkOjQxD0jjAE7PsWoaCrs0EkBH2 \\\n",
    "    --skip-download \\\n",
    "    --write-sub \\\n",
    "    --sub-lang en \\\n",
    "    --convert-subs srt\n",
    "```"
   ]
  },
  {
   "cell_type": "code",
   "execution_count": 1,
   "metadata": {},
   "outputs": [
    {
     "name": "stderr",
     "output_type": "stream",
     "text": [
      "/home/rodrigo/.pyenv/versions/3.8.6/envs/critrolesubs/lib/python3.8/site-packages/pandas/compat/__init__.py:120: UserWarning: Could not import the lzma module. Your installed Python is incomplete. Attempting to use lzma compression will result in a RuntimeError.\n",
      "  warnings.warn(msg)\n"
     ]
    }
   ],
   "source": [
    "import os\n",
    "import re\n",
    "import datetime\n",
    "from collections import defaultdict\n",
    "import webvtt\n",
    "from IPython.display import display, Markdown\n",
    "import humanfriendly\n",
    "from pandas import DataFrame as df"
   ]
  },
  {
   "cell_type": "code",
   "execution_count": 2,
   "metadata": {},
   "outputs": [
    {
     "data": {
      "text/plain": [
       "'/home/rodrigo/critrolesubs'"
      ]
     },
     "execution_count": 2,
     "metadata": {},
     "output_type": "execute_result"
    }
   ],
   "source": [
    "os.path.abspath(os.curdir)"
   ]
  },
  {
   "cell_type": "code",
   "execution_count": 3,
   "metadata": {},
   "outputs": [],
   "source": [
    "title_pattern = r'(?P<filename>^(?P<title>.+) _ Critical Role ?_ Campaign 2,? Episode (?P<episode>\\d+).*$)'\n",
    "speaker_pattern = r'(?P<speaker>^[A-Z]+):'\n",
    "emotion_pattern = r'^[\\(\\[](?P<emotion>.+)[\\)\\]]$'"
   ]
  },
  {
   "cell_type": "code",
   "execution_count": 4,
   "metadata": {},
   "outputs": [
    {
     "data": {
      "text/plain": [
       "{'filename': 'Curious Beginnings  _ Critical Role _ Campaign 2, Episode 1-byva0hOj8CU.en.vtt',\n",
       " 'title': 'Curious Beginnings ',\n",
       " 'episode': '1'}"
      ]
     },
     "execution_count": 4,
     "metadata": {},
     "output_type": "execute_result"
    }
   ],
   "source": [
    "def parse_subtitles_directory(path):\n",
    "    '''\n",
    "    \"path\" is a directory containing subtitles in VTT format\n",
    "    for Campaign 2, downloaded with youtube-dl. Returns a list\n",
    "    of dictionaries containing { title, filename, episode } (with\n",
    "    `episode` being the episode number in the campaign), sorted\n",
    "    by episode number\n",
    "    '''\n",
    "    filenames = [sub for sub in os.listdir(path) if sub.lower().endswith('.vtt')]\n",
    "    parsed = [\n",
    "        re.match(title_pattern, fn).groupdict()\n",
    "        for fn in filenames\n",
    "    ]\n",
    "    return sorted(parsed, key=lambda x: int(x['episode']))\n",
    "\n",
    "episodes = parse_subtitles_directory('.')\n",
    "episodes[0]"
   ]
  },
  {
   "cell_type": "code",
   "execution_count": 5,
   "metadata": {},
   "outputs": [],
   "source": [
    "def get_episode_subtitles(filename):\n",
    "    parser = webvtt.webvtt.WebVTT()\n",
    "    return parser.read(filename).captions"
   ]
  },
  {
   "cell_type": "code",
   "execution_count": 7,
   "metadata": {},
   "outputs": [
    {
     "data": {
      "text/plain": [
       "[<Caption start=00:00:00.100 end=00:00:01.354 text=MATT: Hello, everyone.>,\n",
       " <Caption start=00:00:01.354 end=00:00:03.170 text=(laughter)>,\n",
       " <Caption start=00:00:03.170 end=00:00:07.071 text=MATT: And welcome to tonight's episode of Critical\\nRole, where a bunch of us nerdy-ass voice actors>,\n",
       " <Caption start=00:00:07.071 end=00:00:12.030 text=sit around and play the first game of our new\\ncampaign of Dungeons and Dragons.>,\n",
       " <Caption start=00:00:12.030 end=00:00:15.002 text=(cheering)>]"
      ]
     },
     "execution_count": 7,
     "metadata": {},
     "output_type": "execute_result"
    }
   ],
   "source": [
    "subtitles = get_episode_subtitles(episodes[0]['filename'])\n",
    "subtitles[0:5]"
   ]
  },
  {
   "cell_type": "code",
   "execution_count": 10,
   "metadata": {},
   "outputs": [],
   "source": [
    "CAST = ['Matt', 'Travis', 'Marisha', 'Liam', 'Sam', 'Laura', 'Taliesin', 'Ashley', 'All', 'Everyone', 'Brian']"
   ]
  },
  {
   "cell_type": "code",
   "execution_count": 11,
   "metadata": {},
   "outputs": [],
   "source": [
    "def get_lines_per_cast_member(subtitles):\n",
    "    lines_per_person = defaultdict(list)\n",
    "    last_subtitle = None\n",
    "\n",
    "    for subtitle in subtitles:\n",
    "        speaker = re.match(speaker_pattern, subtitle.text)\n",
    "\n",
    "        if speaker is None:\n",
    "            is_emotion = bool(re.match(emotion_pattern, subtitle.text))\n",
    "            if is_emotion:\n",
    "                lines_per_person['All'].append(subtitle)\n",
    "            else:\n",
    "                last_subtitle._lines += subtitle.lines\n",
    "                last_subtitle._end = subtitle._end\n",
    "            continue\n",
    "        else:\n",
    "            last_subtitle = subtitle\n",
    "\n",
    "        speaker_name = speaker.groupdict()['speaker'].title()\n",
    "        lines_per_person[speaker_name].append(subtitle)\n",
    "\n",
    "        if speaker_name not in CAST:\n",
    "            print(f'Added to cast: {speaker_name}')\n",
    "            CAST.append(speaker_name)\n",
    "    \n",
    "    return dict(lines_per_person)"
   ]
  },
  {
   "cell_type": "code",
   "execution_count": 12,
   "metadata": {},
   "outputs": [
    {
     "data": {
      "text/plain": [
       "[<Caption start=00:00:00.100 end=00:00:01.354 text=MATT: Hello, everyone.>,\n",
       " <Caption start=00:00:03.170 end=00:00:12.030 text=MATT: And welcome to tonight's episode of Critical\\nRole, where a bunch of us nerdy-ass voice actors\\nsit around and play the first game of our new\\ncampaign of Dungeons and Dragons.>,\n",
       " <Caption start=00:00:15.002 end=00:01:21.948 text=MATT: Super excited to be back. I've missed this a\\nlot. Missed this-- oh, you guys will be fine. So\\nyes. Glad you guys can join us, apparently in some\\ncrazy numbers. So welcome new viewers. Hope you\\nenjoy your stay. So, without further ado, let's\\nget this going so we can get through our\\nannouncements. Since it is our first episode of\\nthe year, of the campaign, I want to make sure\\nthat we get our announcements out of the way.\\nWe've got some cool stuff to talk about. First and\\nforemost, we have two sponsors tonight. Our first\\nsponsor-- and we're going into, for a time, a cool\\npartnership with the folks at DnD Beyond,\\nactually. They've been really awesome, and we've\\nbeen talking, and anybody who hasn't seen it, it's\\nan online digital tool where you can create your\\nown D&amp;D character, they have options to purchase\\nany of the current D&amp;D books out there, and then\\ncarry over any of the character options and racial\\noptions over into it, so you can basically use it\\nas a tool. We'll be using it to help us out in the\\ngame as we go, 'cause it's actually got some pretty\\ncool stuff. So excited about that. It is D-N-D\\nBeyond, by the way, if you haven't seen, not the\\nampersand. It's D-N-D.>]"
      ]
     },
     "execution_count": 12,
     "metadata": {},
     "output_type": "execute_result"
    }
   ],
   "source": [
    "lines_per_person = get_lines_per_cast_member(subtitles)\n",
    "lines_per_person['Matt'][0:3]"
   ]
  },
  {
   "cell_type": "code",
   "execution_count": 13,
   "metadata": {},
   "outputs": [],
   "source": [
    "def get_intervals_between_lines(lines):\n",
    "    intervals = []\n",
    "\n",
    "    for index, line in enumerate(lines):\n",
    "        if index == 0:\n",
    "            continue\n",
    "        previous_line = lines[index - 1]\n",
    "        interval = (\n",
    "            datetime.timedelta(seconds=line.start_in_seconds)\n",
    "            - datetime.timedelta(seconds=previous_line.end_in_seconds)\n",
    "        )\n",
    "        intervals.append({\n",
    "            'interval': interval,\n",
    "            'starting_line': previous_line,\n",
    "            'ending_line': line\n",
    "        })\n",
    "\n",
    "    return sorted(intervals, key=lambda x: x['interval'], reverse=True)\n",
    "\n",
    "def get_intervals_between_lines_per_speaker(lines_per_person):\n",
    "    intervals = {}\n",
    "\n",
    "    for speaker, lines in lines_per_person.items():\n",
    "        intervals[speaker] = get_intervals_between_lines(lines)\n",
    "    \n",
    "    return intervals"
   ]
  },
  {
   "cell_type": "code",
   "execution_count": 14,
   "metadata": {},
   "outputs": [
    {
     "data": {
      "text/plain": [
       "[{'interval': datetime.timedelta(seconds=1017, microseconds=119000),\n",
       "  'starting_line': <Caption start=01:32:08.081 end=01:32:09.582 text=MATT: We'll see you here in a few minutes.>,\n",
       "  'ending_line': <Caption start=01:49:06.701 end=01:49:10.388 text=MATT: Welcome back, ladies and gentlemen. Guys!\\nWow!>},\n",
       " {'interval': datetime.timedelta(seconds=173, microseconds=214000),\n",
       "  'starting_line': <Caption start=00:22:04.811 end=00:22:21.919 text=MATT: So Caleb, as you come to consciousness, you\\nglance over and can see, slowly snoring and\\nrousing at about the same time, Nott's eyes blink\\nopen, her slowly groaning face looking over\\ntowards you.>,\n",
       "  'ending_line': <Caption start=00:25:15.133 end=00:25:25.268 text=MATT: At this point, you notice the gentle smell\\nof cooked meats and promises of mediocre porridge\\nand eggs just barely begins to creep beneath the\\nsubtle floor of your room, meet your nostrils.>},\n",
       " {'interval': datetime.timedelta(seconds=134, microseconds=115000),\n",
       "  'starting_line': <Caption start=01:02:41.656 end=01:02:44.291 text=MATT: Soltryce.>,\n",
       "  'ending_line': <Caption start=01:04:58.406 end=01:05:02.330 text=MATT: It is the Crick-Queen's Call.>}]"
      ]
     },
     "execution_count": 14,
     "metadata": {},
     "output_type": "execute_result"
    }
   ],
   "source": [
    "intervals_per_speaker = get_intervals_between_lines_per_speaker(lines_per_person)\n",
    "intervals_per_speaker['Matt'][0:3]"
   ]
  },
  {
   "cell_type": "code",
   "execution_count": 15,
   "metadata": {},
   "outputs": [],
   "source": [
    "def get_longest_interval_per_speaker(intervals_per_speaker):\n",
    "    longest_intervals = {}\n",
    "    for speaker, intervals in intervals_per_speaker.items():\n",
    "        if intervals:\n",
    "            longest_intervals[speaker] = intervals[0]\n",
    "    return longest_intervals"
   ]
  },
  {
   "cell_type": "code",
   "execution_count": 16,
   "metadata": {},
   "outputs": [
    {
     "data": {
      "text/plain": [
       "{'Matt': {'interval': datetime.timedelta(seconds=1017, microseconds=119000),\n",
       "  'starting_line': <Caption start=01:32:08.081 end=01:32:09.582 text=MATT: We'll see you here in a few minutes.>,\n",
       "  'ending_line': <Caption start=01:49:06.701 end=01:49:10.388 text=MATT: Welcome back, ladies and gentlemen. Guys!\\nWow!>},\n",
       " 'All': {'interval': datetime.timedelta(seconds=427, microseconds=258000),\n",
       "  'starting_line': <Caption start=02:24:25.904 end=02:24:28.715 text=(yelling)>,\n",
       "  'ending_line': <Caption start=02:31:35.973 end=02:31:40.504 text=(laughter)>},\n",
       " 'Laura': {'interval': datetime.timedelta(seconds=1205, microseconds=298000),\n",
       "  'starting_line': <Caption start=01:32:10.442 end=01:32:11.302 text=LAURA: Magic!>,\n",
       "  'ending_line': <Caption start=01:52:16.600 end=01:52:31.389 text=LAURA: Here's the thing. Some of us have weapons\\nthat we don't want to pass away to other people,\\nso how much of a chance is it that we could get\\nthrough without having to do that, you know?>},\n",
       " 'Travis': {'interval': datetime.timedelta(seconds=1141, microseconds=754000),\n",
       "  'starting_line': <Caption start=01:31:04.635 end=01:31:06.904 text=TRAVIS: Face is on fire.>,\n",
       "  'ending_line': <Caption start=01:50:08.658 end=01:50:10.238 text=TRAVIS: Bring that ass back.>},\n",
       " 'Sam': {'interval': datetime.timedelta(seconds=1134, microseconds=369000),\n",
       "  'starting_line': <Caption start=01:31:10.886 end=01:31:15.869 text=SAM: Ashley, I'll do whatever you want, but if you\\ntake my weapons I might kill you.>,\n",
       "  'ending_line': <Caption start=01:50:10.238 end=01:50:14.875 text=SAM: Five dragons swoop down.>},\n",
       " 'Marisha': {'interval': datetime.timedelta(seconds=1315, microseconds=364000),\n",
       "  'starting_line': <Caption start=01:30:04.248 end=01:30:05.810 text=MARISHA: What?>,\n",
       "  'ending_line': <Caption start=01:52:01.174 end=01:52:04.532 text=MARISHA: What happened to 'no sick people'?>},\n",
       " 'Taliesin': {'interval': datetime.timedelta(seconds=1704, microseconds=553000),\n",
       "  'starting_line': <Caption start=00:16:28.205 end=00:16:30.509 text=TALIESIN: This has been great.>,\n",
       "  'ending_line': <Caption start=00:44:55.062 end=00:44:57.204 text=TALIESIN: Neither did I.>},\n",
       " 'Liam': {'interval': datetime.timedelta(seconds=1120, microseconds=496000),\n",
       "  'starting_line': <Caption start=02:05:35.398 end=02:05:38.825 text=LIAM: I'm going to keep my hand on my meager purse\\nfor the evening.>,\n",
       "  'ending_line': <Caption start=02:24:19.321 end=02:24:23.861 text=LIAM: The miniatures come out, guys!>},\n",
       " 'Ashley': {'interval': datetime.timedelta(seconds=1766, microseconds=284000),\n",
       "  'starting_line': <Caption start=00:56:06.954 end=00:56:10.331 text=ASHLEY: Yep, nice to meet you all. You're so, uh,\\nwonderful.>,\n",
       "  'ending_line': <Caption start=01:25:36.615 end=01:25:37.698 text=ASHLEY: Beedle-deedle.>}}"
      ]
     },
     "execution_count": 16,
     "metadata": {},
     "output_type": "execute_result"
    }
   ],
   "source": [
    "longest_intervals = get_longest_interval_per_speaker(intervals_per_speaker)\n",
    "longest_intervals"
   ]
  },
  {
   "cell_type": "code",
   "execution_count": 17,
   "metadata": {},
   "outputs": [],
   "source": [
    "def get_longest_interval_of_episode(intervals_per_speaker):\n",
    "    longest_intervals = get_longest_interval_per_speaker(intervals_per_speaker)\n",
    "    return sorted(longest_intervals.items(), reverse=True, key=lambda x: x[1]['interval'])[0]\n",
    "\n",
    "def get_speaker_with_longest_interval(intervals_per_speaker):\n",
    "    return get_longest_interval_of_episode(intervals_per_speaker)[0]"
   ]
  },
  {
   "cell_type": "code",
   "execution_count": 18,
   "metadata": {},
   "outputs": [
    {
     "data": {
      "text/plain": [
       "('Ashley',\n",
       " {'interval': datetime.timedelta(seconds=1766, microseconds=284000),\n",
       "  'starting_line': <Caption start=00:56:06.954 end=00:56:10.331 text=ASHLEY: Yep, nice to meet you all. You're so, uh,\\nwonderful.>,\n",
       "  'ending_line': <Caption start=01:25:36.615 end=01:25:37.698 text=ASHLEY: Beedle-deedle.>})"
      ]
     },
     "execution_count": 18,
     "metadata": {},
     "output_type": "execute_result"
    }
   ],
   "source": [
    "speaker, longest_interval = get_longest_interval_of_episode(intervals_per_speaker)\n",
    "speaker, longest_interval"
   ]
  },
  {
   "cell_type": "code",
   "execution_count": 18,
   "metadata": {
    "scrolled": true
   },
   "outputs": [
    {
     "data": {
      "text/markdown": [
       "# Episode 1 - Curious Beginnings "
      ],
      "text/plain": [
       "<IPython.core.display.Markdown object>"
      ]
     },
     "metadata": {},
     "output_type": "display_data"
    },
    {
     "data": {
      "text/html": [
       "<div>\n",
       "<style scoped>\n",
       "    .dataframe tbody tr th:only-of-type {\n",
       "        vertical-align: middle;\n",
       "    }\n",
       "\n",
       "    .dataframe tbody tr th {\n",
       "        vertical-align: top;\n",
       "    }\n",
       "\n",
       "    .dataframe thead th {\n",
       "        text-align: right;\n",
       "    }\n",
       "</style>\n",
       "<table border=\"1\" class=\"dataframe\">\n",
       "  <thead>\n",
       "    <tr style=\"text-align: right;\">\n",
       "      <th></th>\n",
       "      <th>interval</th>\n",
       "      <th>starting_line</th>\n",
       "      <th>ending_line</th>\n",
       "    </tr>\n",
       "  </thead>\n",
       "  <tbody>\n",
       "    <tr>\n",
       "      <th>Ashley</th>\n",
       "      <td>0 days 00:29:26.284000</td>\n",
       "      <td>00:56:06.954 00:56:10.331 ASHLEY: Yep, nice to...</td>\n",
       "      <td>01:25:36.615 01:25:37.698 ASHLEY: Beedle-deedle.</td>\n",
       "    </tr>\n",
       "    <tr>\n",
       "      <th>Taliesin</th>\n",
       "      <td>0 days 00:28:24.553000</td>\n",
       "      <td>00:16:28.205 00:16:30.509 TALIESIN: This has b...</td>\n",
       "      <td>00:44:55.062 00:44:57.204 TALIESIN: Neither di...</td>\n",
       "    </tr>\n",
       "    <tr>\n",
       "      <th>Marisha</th>\n",
       "      <td>0 days 00:21:55.364000</td>\n",
       "      <td>01:30:04.248 01:30:05.810 MARISHA: What?</td>\n",
       "      <td>01:52:01.174 01:52:04.532 MARISHA: What happen...</td>\n",
       "    </tr>\n",
       "    <tr>\n",
       "      <th>Laura</th>\n",
       "      <td>0 days 00:20:05.298000</td>\n",
       "      <td>01:32:10.442 01:32:11.302 LAURA: Magic!</td>\n",
       "      <td>01:52:16.600 01:52:31.389 LAURA: Here's the th...</td>\n",
       "    </tr>\n",
       "    <tr>\n",
       "      <th>Travis</th>\n",
       "      <td>0 days 00:19:01.754000</td>\n",
       "      <td>01:31:04.635 01:31:06.904 TRAVIS: Face is on f...</td>\n",
       "      <td>01:50:08.658 01:50:10.238 TRAVIS: Bring that a...</td>\n",
       "    </tr>\n",
       "    <tr>\n",
       "      <th>Sam</th>\n",
       "      <td>0 days 00:18:54.369000</td>\n",
       "      <td>01:31:10.886 01:31:15.869 SAM: Ashley, I'll do...</td>\n",
       "      <td>01:50:10.238 01:50:14.875 SAM: Five dragons sw...</td>\n",
       "    </tr>\n",
       "    <tr>\n",
       "      <th>Liam</th>\n",
       "      <td>0 days 00:18:40.496000</td>\n",
       "      <td>02:05:35.398 02:05:38.825 LIAM: I'm going to k...</td>\n",
       "      <td>02:24:19.321 02:24:23.861 LIAM: The miniatures...</td>\n",
       "    </tr>\n",
       "    <tr>\n",
       "      <th>Matt</th>\n",
       "      <td>0 days 00:16:57.119000</td>\n",
       "      <td>01:32:08.081 01:32:09.582 MATT: We'll see you ...</td>\n",
       "      <td>01:49:06.701 01:49:10.388 MATT: Welcome back, ...</td>\n",
       "    </tr>\n",
       "    <tr>\n",
       "      <th>All</th>\n",
       "      <td>0 days 00:07:07.258000</td>\n",
       "      <td>02:24:25.904 02:24:28.715 (yelling)</td>\n",
       "      <td>02:31:35.973 02:31:40.504 (laughter)</td>\n",
       "    </tr>\n",
       "  </tbody>\n",
       "</table>\n",
       "</div>"
      ],
      "text/plain": [
       "                       interval  \\\n",
       "Ashley   0 days 00:29:26.284000   \n",
       "Taliesin 0 days 00:28:24.553000   \n",
       "Marisha  0 days 00:21:55.364000   \n",
       "Laura    0 days 00:20:05.298000   \n",
       "Travis   0 days 00:19:01.754000   \n",
       "Sam      0 days 00:18:54.369000   \n",
       "Liam     0 days 00:18:40.496000   \n",
       "Matt     0 days 00:16:57.119000   \n",
       "All      0 days 00:07:07.258000   \n",
       "\n",
       "                                              starting_line  \\\n",
       "Ashley    00:56:06.954 00:56:10.331 ASHLEY: Yep, nice to...   \n",
       "Taliesin  00:16:28.205 00:16:30.509 TALIESIN: This has b...   \n",
       "Marisha            01:30:04.248 01:30:05.810 MARISHA: What?   \n",
       "Laura               01:32:10.442 01:32:11.302 LAURA: Magic!   \n",
       "Travis    01:31:04.635 01:31:06.904 TRAVIS: Face is on f...   \n",
       "Sam       01:31:10.886 01:31:15.869 SAM: Ashley, I'll do...   \n",
       "Liam      02:05:35.398 02:05:38.825 LIAM: I'm going to k...   \n",
       "Matt      01:32:08.081 01:32:09.582 MATT: We'll see you ...   \n",
       "All                     02:24:25.904 02:24:28.715 (yelling)   \n",
       "\n",
       "                                                ending_line  \n",
       "Ashley     01:25:36.615 01:25:37.698 ASHLEY: Beedle-deedle.  \n",
       "Taliesin  00:44:55.062 00:44:57.204 TALIESIN: Neither di...  \n",
       "Marisha   01:52:01.174 01:52:04.532 MARISHA: What happen...  \n",
       "Laura     01:52:16.600 01:52:31.389 LAURA: Here's the th...  \n",
       "Travis    01:50:08.658 01:50:10.238 TRAVIS: Bring that a...  \n",
       "Sam       01:50:10.238 01:50:14.875 SAM: Five dragons sw...  \n",
       "Liam      02:24:19.321 02:24:23.861 LIAM: The miniatures...  \n",
       "Matt      01:49:06.701 01:49:10.388 MATT: Welcome back, ...  \n",
       "All                    02:31:35.973 02:31:40.504 (laughter)  "
      ]
     },
     "metadata": {},
     "output_type": "display_data"
    },
    {
     "data": {
      "text/markdown": [
       "# Episode 2 - A Show of Scrutiny"
      ],
      "text/plain": [
       "<IPython.core.display.Markdown object>"
      ]
     },
     "metadata": {},
     "output_type": "display_data"
    },
    {
     "data": {
      "text/html": [
       "<div>\n",
       "<style scoped>\n",
       "    .dataframe tbody tr th:only-of-type {\n",
       "        vertical-align: middle;\n",
       "    }\n",
       "\n",
       "    .dataframe tbody tr th {\n",
       "        vertical-align: top;\n",
       "    }\n",
       "\n",
       "    .dataframe thead th {\n",
       "        text-align: right;\n",
       "    }\n",
       "</style>\n",
       "<table border=\"1\" class=\"dataframe\">\n",
       "  <thead>\n",
       "    <tr style=\"text-align: right;\">\n",
       "      <th></th>\n",
       "      <th>interval</th>\n",
       "      <th>starting_line</th>\n",
       "      <th>ending_line</th>\n",
       "    </tr>\n",
       "  </thead>\n",
       "  <tbody>\n",
       "    <tr>\n",
       "      <th>All</th>\n",
       "      <td>0 days 00:32:10.831000</td>\n",
       "      <td>03:23:07.433 03:23:10.215 (laughter)</td>\n",
       "      <td>03:55:21.046 03:55:25.773 (laughter)</td>\n",
       "    </tr>\n",
       "    <tr>\n",
       "      <th>Travis</th>\n",
       "      <td>0 days 00:20:39.095000</td>\n",
       "      <td>03:36:20.674 03:36:21.687 TRAVIS: You ever cas...</td>\n",
       "      <td>03:57:00.782 03:57:02.949 TRAVIS: Reversal!</td>\n",
       "    </tr>\n",
       "    <tr>\n",
       "      <th>Taliesin</th>\n",
       "      <td>0 days 00:19:24.878000</td>\n",
       "      <td>02:05:37.518 02:05:41.150 TALIESIN: I'd like t...</td>\n",
       "      <td>02:25:06.028 02:25:13.838 TALIESIN: I'm compar...</td>\n",
       "    </tr>\n",
       "    <tr>\n",
       "      <th>Sam</th>\n",
       "      <td>0 days 00:19:16.673000</td>\n",
       "      <td>02:05:58.521 02:06:01.514 SAM: This is excitin...</td>\n",
       "      <td>02:25:18.187 02:25:21.534 SAM: Your game is re...</td>\n",
       "    </tr>\n",
       "    <tr>\n",
       "      <th>Liam</th>\n",
       "      <td>0 days 00:19:12.490000</td>\n",
       "      <td>02:05:21.170 02:05:26.979 LIAM: It's been a wh...</td>\n",
       "      <td>02:24:39.469 02:24:42.860 LIAM: That's your wo...</td>\n",
       "    </tr>\n",
       "    <tr>\n",
       "      <th>Laura</th>\n",
       "      <td>0 days 00:17:44.632000</td>\n",
       "      <td>02:04:39.270 02:04:40.480 LAURA: What?</td>\n",
       "      <td>02:22:25.112 02:22:26.905 LAURA: Do we still h...</td>\n",
       "    </tr>\n",
       "    <tr>\n",
       "      <th>Marisha</th>\n",
       "      <td>0 days 00:15:20.516000</td>\n",
       "      <td>02:05:41.150 02:05:42.161 MARISHA: Agreed.</td>\n",
       "      <td>02:21:02.677 02:21:07.322 MARISHA: I love how ...</td>\n",
       "    </tr>\n",
       "    <tr>\n",
       "      <th>Matt</th>\n",
       "      <td>0 days 00:14:13.539000</td>\n",
       "      <td>02:06:01.514 02:06:28.138 MATT: Indeed. I supp...</td>\n",
       "      <td>02:20:41.677 02:21:02.563 MATT: Welcome back, ...</td>\n",
       "    </tr>\n",
       "  </tbody>\n",
       "</table>\n",
       "</div>"
      ],
      "text/plain": [
       "                       interval  \\\n",
       "All      0 days 00:32:10.831000   \n",
       "Travis   0 days 00:20:39.095000   \n",
       "Taliesin 0 days 00:19:24.878000   \n",
       "Sam      0 days 00:19:16.673000   \n",
       "Liam     0 days 00:19:12.490000   \n",
       "Laura    0 days 00:17:44.632000   \n",
       "Marisha  0 days 00:15:20.516000   \n",
       "Matt     0 days 00:14:13.539000   \n",
       "\n",
       "                                              starting_line  \\\n",
       "All                    03:23:07.433 03:23:10.215 (laughter)   \n",
       "Travis    03:36:20.674 03:36:21.687 TRAVIS: You ever cas...   \n",
       "Taliesin  02:05:37.518 02:05:41.150 TALIESIN: I'd like t...   \n",
       "Sam       02:05:58.521 02:06:01.514 SAM: This is excitin...   \n",
       "Liam      02:05:21.170 02:05:26.979 LIAM: It's been a wh...   \n",
       "Laura                02:04:39.270 02:04:40.480 LAURA: What?   \n",
       "Marisha          02:05:41.150 02:05:42.161 MARISHA: Agreed.   \n",
       "Matt      02:06:01.514 02:06:28.138 MATT: Indeed. I supp...   \n",
       "\n",
       "                                                ending_line  \n",
       "All                    03:55:21.046 03:55:25.773 (laughter)  \n",
       "Travis          03:57:00.782 03:57:02.949 TRAVIS: Reversal!  \n",
       "Taliesin  02:25:06.028 02:25:13.838 TALIESIN: I'm compar...  \n",
       "Sam       02:25:18.187 02:25:21.534 SAM: Your game is re...  \n",
       "Liam      02:24:39.469 02:24:42.860 LIAM: That's your wo...  \n",
       "Laura     02:22:25.112 02:22:26.905 LAURA: Do we still h...  \n",
       "Marisha   02:21:02.677 02:21:07.322 MARISHA: I love how ...  \n",
       "Matt      02:20:41.677 02:21:02.563 MATT: Welcome back, ...  "
      ]
     },
     "metadata": {},
     "output_type": "display_data"
    },
    {
     "data": {
      "text/markdown": [
       "# Episode 3 - The Midnight Chase"
      ],
      "text/plain": [
       "<IPython.core.display.Markdown object>"
      ]
     },
     "metadata": {},
     "output_type": "display_data"
    },
    {
     "data": {
      "text/html": [
       "<div>\n",
       "<style scoped>\n",
       "    .dataframe tbody tr th:only-of-type {\n",
       "        vertical-align: middle;\n",
       "    }\n",
       "\n",
       "    .dataframe tbody tr th {\n",
       "        vertical-align: top;\n",
       "    }\n",
       "\n",
       "    .dataframe thead th {\n",
       "        text-align: right;\n",
       "    }\n",
       "</style>\n",
       "<table border=\"1\" class=\"dataframe\">\n",
       "  <thead>\n",
       "    <tr style=\"text-align: right;\">\n",
       "      <th></th>\n",
       "      <th>interval</th>\n",
       "      <th>starting_line</th>\n",
       "      <th>ending_line</th>\n",
       "    </tr>\n",
       "  </thead>\n",
       "  <tbody>\n",
       "    <tr>\n",
       "      <th>Sam</th>\n",
       "      <td>0 days 00:17:53.002000</td>\n",
       "      <td>02:12:18.740 02:12:21.444 SAM: I'm drinking to...</td>\n",
       "      <td>02:30:14.446 02:30:16.744 SAM: Nighttime beach...</td>\n",
       "    </tr>\n",
       "    <tr>\n",
       "      <th>Laura</th>\n",
       "      <td>0 days 00:16:15.066000</td>\n",
       "      <td>02:12:15.809 02:12:17.150 LAURA: So it went well?</td>\n",
       "      <td>02:28:32.216 02:28:34.401 LAURA: I choked on m...</td>\n",
       "    </tr>\n",
       "    <tr>\n",
       "      <th>Taliesin</th>\n",
       "      <td>0 days 00:15:45.035000</td>\n",
       "      <td>02:12:21.444 02:12:23.429 TALIESIN: Eight.</td>\n",
       "      <td>02:28:08.464 02:28:10.433 TALIESIN: I was weir...</td>\n",
       "    </tr>\n",
       "    <tr>\n",
       "      <th>All</th>\n",
       "      <td>0 days 00:15:44.808000</td>\n",
       "      <td>03:07:45.148 03:07:46.805 (laughter)</td>\n",
       "      <td>03:23:31.613 03:23:34.259 (laughter)</td>\n",
       "    </tr>\n",
       "    <tr>\n",
       "      <th>Marisha</th>\n",
       "      <td>0 days 00:15:41.683000</td>\n",
       "      <td>02:12:17.150 02:12:18.740 MARISHA: (high-pitch...</td>\n",
       "      <td>02:28:00.423 02:28:02.312 MARISHA: You already...</td>\n",
       "    </tr>\n",
       "    <tr>\n",
       "      <th>Liam</th>\n",
       "      <td>0 days 00:15:25.708000</td>\n",
       "      <td>02:12:25.320 02:12:27.074 LIAM: 20.</td>\n",
       "      <td>02:27:52.782 02:27:55.679 LIAM: (laughing)</td>\n",
       "    </tr>\n",
       "    <tr>\n",
       "      <th>Travis</th>\n",
       "      <td>0 days 00:14:52.888000</td>\n",
       "      <td>02:12:54.728 02:12:57.535 TRAVIS: Crookedstone...</td>\n",
       "      <td>02:27:50.423 02:27:52.782 TRAVIS: Wow. There's...</td>\n",
       "    </tr>\n",
       "    <tr>\n",
       "      <th>Matt</th>\n",
       "      <td>0 days 00:14:29.523000</td>\n",
       "      <td>02:12:57.535 02:13:17.104 MATT: It's time. We'...</td>\n",
       "      <td>02:27:46.627 02:27:50.423 MATT: Welcome back! ...</td>\n",
       "    </tr>\n",
       "  </tbody>\n",
       "</table>\n",
       "</div>"
      ],
      "text/plain": [
       "                       interval  \\\n",
       "Sam      0 days 00:17:53.002000   \n",
       "Laura    0 days 00:16:15.066000   \n",
       "Taliesin 0 days 00:15:45.035000   \n",
       "All      0 days 00:15:44.808000   \n",
       "Marisha  0 days 00:15:41.683000   \n",
       "Liam     0 days 00:15:25.708000   \n",
       "Travis   0 days 00:14:52.888000   \n",
       "Matt     0 days 00:14:29.523000   \n",
       "\n",
       "                                              starting_line  \\\n",
       "Sam       02:12:18.740 02:12:21.444 SAM: I'm drinking to...   \n",
       "Laura     02:12:15.809 02:12:17.150 LAURA: So it went well?   \n",
       "Taliesin         02:12:21.444 02:12:23.429 TALIESIN: Eight.   \n",
       "All                    03:07:45.148 03:07:46.805 (laughter)   \n",
       "Marisha   02:12:17.150 02:12:18.740 MARISHA: (high-pitch...   \n",
       "Liam                    02:12:25.320 02:12:27.074 LIAM: 20.   \n",
       "Travis    02:12:54.728 02:12:57.535 TRAVIS: Crookedstone...   \n",
       "Matt      02:12:57.535 02:13:17.104 MATT: It's time. We'...   \n",
       "\n",
       "                                                ending_line  \n",
       "Sam       02:30:14.446 02:30:16.744 SAM: Nighttime beach...  \n",
       "Laura     02:28:32.216 02:28:34.401 LAURA: I choked on m...  \n",
       "Taliesin  02:28:08.464 02:28:10.433 TALIESIN: I was weir...  \n",
       "All                    03:23:31.613 03:23:34.259 (laughter)  \n",
       "Marisha   02:28:00.423 02:28:02.312 MARISHA: You already...  \n",
       "Liam             02:27:52.782 02:27:55.679 LIAM: (laughing)  \n",
       "Travis    02:27:50.423 02:27:52.782 TRAVIS: Wow. There's...  \n",
       "Matt      02:27:46.627 02:27:50.423 MATT: Welcome back! ...  "
      ]
     },
     "metadata": {},
     "output_type": "display_data"
    },
    {
     "data": {
      "text/markdown": [
       "# Episode 4 - Disparate Pieces"
      ],
      "text/plain": [
       "<IPython.core.display.Markdown object>"
      ]
     },
     "metadata": {},
     "output_type": "display_data"
    },
    {
     "data": {
      "text/html": [
       "<div>\n",
       "<style scoped>\n",
       "    .dataframe tbody tr th:only-of-type {\n",
       "        vertical-align: middle;\n",
       "    }\n",
       "\n",
       "    .dataframe tbody tr th {\n",
       "        vertical-align: top;\n",
       "    }\n",
       "\n",
       "    .dataframe thead th {\n",
       "        text-align: right;\n",
       "    }\n",
       "</style>\n",
       "<table border=\"1\" class=\"dataframe\">\n",
       "  <thead>\n",
       "    <tr style=\"text-align: right;\">\n",
       "      <th></th>\n",
       "      <th>interval</th>\n",
       "      <th>starting_line</th>\n",
       "      <th>ending_line</th>\n",
       "    </tr>\n",
       "  </thead>\n",
       "  <tbody>\n",
       "    <tr>\n",
       "      <th>Sam</th>\n",
       "      <td>0 days 00:45:42.072000</td>\n",
       "      <td>01:55:25.629 01:55:27.592 SAM: Yorda.</td>\n",
       "      <td>02:41:09.664 02:41:38.386 SAM: That sounds lov...</td>\n",
       "    </tr>\n",
       "    <tr>\n",
       "      <th>Ashley</th>\n",
       "      <td>0 days 00:44:23.444000</td>\n",
       "      <td>01:51:43.753 01:51:47.144 ASHLEY: (chuckles) Y...</td>\n",
       "      <td>02:36:10.588 02:36:11.650 ASHLEY: What happene...</td>\n",
       "    </tr>\n",
       "    <tr>\n",
       "      <th>All</th>\n",
       "      <td>0 days 00:40:57.649000</td>\n",
       "      <td>02:00:03.618 02:06:51.505 [break]</td>\n",
       "      <td>02:47:49.154 02:47:52.511 (laughter)</td>\n",
       "    </tr>\n",
       "    <tr>\n",
       "      <th>Laura</th>\n",
       "      <td>0 days 00:36:12.064000</td>\n",
       "      <td>01:59:01.625 01:59:03.596 LAURA: It's pretty a...</td>\n",
       "      <td>02:35:15.660 02:35:23.893 LAURA: Oh, yes! Of c...</td>\n",
       "    </tr>\n",
       "    <tr>\n",
       "      <th>Taliesin</th>\n",
       "      <td>0 days 00:35:33.988000</td>\n",
       "      <td>01:58:32.595 01:58:35.892 TALIESIN: Everybody ...</td>\n",
       "      <td>02:34:09.880 02:34:12.258 TALIESIN: Quiet dign...</td>\n",
       "    </tr>\n",
       "    <tr>\n",
       "      <th>Liam</th>\n",
       "      <td>0 days 00:35:00.702000</td>\n",
       "      <td>01:59:03.596 01:59:05.932 LIAM: The writing on...</td>\n",
       "      <td>02:34:06.634 02:34:09.880 LIAM: I'm sure every...</td>\n",
       "    </tr>\n",
       "    <tr>\n",
       "      <th>Travis</th>\n",
       "      <td>0 days 00:22:01.754000</td>\n",
       "      <td>02:12:01.243 02:12:03.110 TRAVIS: Don't die!</td>\n",
       "      <td>02:34:04.864 02:34:06.634 TRAVIS: Are you alive?</td>\n",
       "    </tr>\n",
       "    <tr>\n",
       "      <th>Marisha</th>\n",
       "      <td>0 days 00:11:57.164000</td>\n",
       "      <td>01:59:45.916 01:59:57.902 MARISHA: They gave u...</td>\n",
       "      <td>02:11:55.066 02:11:57.673 MARISHA: See you, guys.</td>\n",
       "    </tr>\n",
       "    <tr>\n",
       "      <th>Matt</th>\n",
       "      <td>0 days 00:11:24.665000</td>\n",
       "      <td>01:59:57.902 02:00:01.235 MATT: (Elvis impress...</td>\n",
       "      <td>02:11:25.900 02:11:55.066 MATT: Hello, everyon...</td>\n",
       "    </tr>\n",
       "  </tbody>\n",
       "</table>\n",
       "</div>"
      ],
      "text/plain": [
       "                       interval  \\\n",
       "Sam      0 days 00:45:42.072000   \n",
       "Ashley   0 days 00:44:23.444000   \n",
       "All      0 days 00:40:57.649000   \n",
       "Laura    0 days 00:36:12.064000   \n",
       "Taliesin 0 days 00:35:33.988000   \n",
       "Liam     0 days 00:35:00.702000   \n",
       "Travis   0 days 00:22:01.754000   \n",
       "Marisha  0 days 00:11:57.164000   \n",
       "Matt     0 days 00:11:24.665000   \n",
       "\n",
       "                                              starting_line  \\\n",
       "Sam                   01:55:25.629 01:55:27.592 SAM: Yorda.   \n",
       "Ashley    01:51:43.753 01:51:47.144 ASHLEY: (chuckles) Y...   \n",
       "All                       02:00:03.618 02:06:51.505 [break]   \n",
       "Laura     01:59:01.625 01:59:03.596 LAURA: It's pretty a...   \n",
       "Taliesin  01:58:32.595 01:58:35.892 TALIESIN: Everybody ...   \n",
       "Liam      01:59:03.596 01:59:05.932 LIAM: The writing on...   \n",
       "Travis         02:12:01.243 02:12:03.110 TRAVIS: Don't die!   \n",
       "Marisha   01:59:45.916 01:59:57.902 MARISHA: They gave u...   \n",
       "Matt      01:59:57.902 02:00:01.235 MATT: (Elvis impress...   \n",
       "\n",
       "                                                ending_line  \n",
       "Sam       02:41:09.664 02:41:38.386 SAM: That sounds lov...  \n",
       "Ashley    02:36:10.588 02:36:11.650 ASHLEY: What happene...  \n",
       "All                    02:47:49.154 02:47:52.511 (laughter)  \n",
       "Laura     02:35:15.660 02:35:23.893 LAURA: Oh, yes! Of c...  \n",
       "Taliesin  02:34:09.880 02:34:12.258 TALIESIN: Quiet dign...  \n",
       "Liam      02:34:06.634 02:34:09.880 LIAM: I'm sure every...  \n",
       "Travis     02:34:04.864 02:34:06.634 TRAVIS: Are you alive?  \n",
       "Marisha   02:11:55.066 02:11:57.673 MARISHA: See you, guys.  \n",
       "Matt      02:11:25.900 02:11:55.066 MATT: Hello, everyon...  "
      ]
     },
     "metadata": {},
     "output_type": "display_data"
    },
    {
     "data": {
      "text/markdown": [
       "# Episode 5 - The Open Road"
      ],
      "text/plain": [
       "<IPython.core.display.Markdown object>"
      ]
     },
     "metadata": {},
     "output_type": "display_data"
    },
    {
     "data": {
      "text/html": [
       "<div>\n",
       "<style scoped>\n",
       "    .dataframe tbody tr th:only-of-type {\n",
       "        vertical-align: middle;\n",
       "    }\n",
       "\n",
       "    .dataframe tbody tr th {\n",
       "        vertical-align: top;\n",
       "    }\n",
       "\n",
       "    .dataframe thead th {\n",
       "        text-align: right;\n",
       "    }\n",
       "</style>\n",
       "<table border=\"1\" class=\"dataframe\">\n",
       "  <thead>\n",
       "    <tr style=\"text-align: right;\">\n",
       "      <th></th>\n",
       "      <th>interval</th>\n",
       "      <th>starting_line</th>\n",
       "      <th>ending_line</th>\n",
       "    </tr>\n",
       "  </thead>\n",
       "  <tbody>\n",
       "    <tr>\n",
       "      <th>Sam</th>\n",
       "      <td>0 days 00:25:32.394000</td>\n",
       "      <td>02:56:45.770 02:56:46.921 SAM: We don't have t...</td>\n",
       "      <td>03:22:19.315 03:22:20.468 SAM: Feed and Mead?</td>\n",
       "    </tr>\n",
       "    <tr>\n",
       "      <th>Travis</th>\n",
       "      <td>0 days 00:23:12.728000</td>\n",
       "      <td>02:52:23.324 02:52:24.821 TRAVIS: Let them go!</td>\n",
       "      <td>03:15:37.549 03:15:43.311 TRAVIS: What were th...</td>\n",
       "    </tr>\n",
       "    <tr>\n",
       "      <th>All</th>\n",
       "      <td>0 days 00:21:42.234000</td>\n",
       "      <td>02:31:39.571 02:31:41.591 ALL: Yes.</td>\n",
       "      <td>02:53:23.825 02:53:25.417 (groaning)</td>\n",
       "    </tr>\n",
       "    <tr>\n",
       "      <th>Taliesin</th>\n",
       "      <td>0 days 00:20:08.855000</td>\n",
       "      <td>02:55:54.612 02:55:56.504 TALIESIN: I'm going ...</td>\n",
       "      <td>03:16:05.359 03:16:06.986 TALIESIN: That was w...</td>\n",
       "    </tr>\n",
       "    <tr>\n",
       "      <th>Liam</th>\n",
       "      <td>0 days 00:19:37.732000</td>\n",
       "      <td>02:54:24.115 02:54:25.349 LIAM: It's dark, too.</td>\n",
       "      <td>03:14:03.081 03:14:08.374 LIAM: You beat me to...</td>\n",
       "    </tr>\n",
       "    <tr>\n",
       "      <th>Laura</th>\n",
       "      <td>0 days 00:18:38.313000</td>\n",
       "      <td>02:55:03.132 02:55:20.425 LAURA: I'll run up a...</td>\n",
       "      <td>03:13:58.738 03:14:03.081 LAURA: Of course, I ...</td>\n",
       "    </tr>\n",
       "    <tr>\n",
       "      <th>Marisha</th>\n",
       "      <td>0 days 00:18:13.762000</td>\n",
       "      <td>02:55:52.152 02:55:54.612 MARISHA: Ah shit, th...</td>\n",
       "      <td>03:14:08.374 03:14:11.700 MARISHA: We're like:...</td>\n",
       "    </tr>\n",
       "    <tr>\n",
       "      <th>Matt</th>\n",
       "      <td>0 days 00:14:49.145000</td>\n",
       "      <td>02:56:46.921 02:57:15.729 MATT: No, they just ...</td>\n",
       "      <td>03:12:04.874 03:13:58.738 MATT: Welcome back, ...</td>\n",
       "    </tr>\n",
       "  </tbody>\n",
       "</table>\n",
       "</div>"
      ],
      "text/plain": [
       "                       interval  \\\n",
       "Sam      0 days 00:25:32.394000   \n",
       "Travis   0 days 00:23:12.728000   \n",
       "All      0 days 00:21:42.234000   \n",
       "Taliesin 0 days 00:20:08.855000   \n",
       "Liam     0 days 00:19:37.732000   \n",
       "Laura    0 days 00:18:38.313000   \n",
       "Marisha  0 days 00:18:13.762000   \n",
       "Matt     0 days 00:14:49.145000   \n",
       "\n",
       "                                              starting_line  \\\n",
       "Sam       02:56:45.770 02:56:46.921 SAM: We don't have t...   \n",
       "Travis       02:52:23.324 02:52:24.821 TRAVIS: Let them go!   \n",
       "All                     02:31:39.571 02:31:41.591 ALL: Yes.   \n",
       "Taliesin  02:55:54.612 02:55:56.504 TALIESIN: I'm going ...   \n",
       "Liam        02:54:24.115 02:54:25.349 LIAM: It's dark, too.   \n",
       "Laura     02:55:03.132 02:55:20.425 LAURA: I'll run up a...   \n",
       "Marisha   02:55:52.152 02:55:54.612 MARISHA: Ah shit, th...   \n",
       "Matt      02:56:46.921 02:57:15.729 MATT: No, they just ...   \n",
       "\n",
       "                                                ending_line  \n",
       "Sam           03:22:19.315 03:22:20.468 SAM: Feed and Mead?  \n",
       "Travis    03:15:37.549 03:15:43.311 TRAVIS: What were th...  \n",
       "All                    02:53:23.825 02:53:25.417 (groaning)  \n",
       "Taliesin  03:16:05.359 03:16:06.986 TALIESIN: That was w...  \n",
       "Liam      03:14:03.081 03:14:08.374 LIAM: You beat me to...  \n",
       "Laura     03:13:58.738 03:14:03.081 LAURA: Of course, I ...  \n",
       "Marisha   03:14:08.374 03:14:11.700 MARISHA: We're like:...  \n",
       "Matt      03:12:04.874 03:13:58.738 MATT: Welcome back, ...  "
      ]
     },
     "metadata": {},
     "output_type": "display_data"
    },
    {
     "data": {
      "text/markdown": [
       "# Episode 6 - The Howling Mines"
      ],
      "text/plain": [
       "<IPython.core.display.Markdown object>"
      ]
     },
     "metadata": {},
     "output_type": "display_data"
    },
    {
     "data": {
      "text/html": [
       "<div>\n",
       "<style scoped>\n",
       "    .dataframe tbody tr th:only-of-type {\n",
       "        vertical-align: middle;\n",
       "    }\n",
       "\n",
       "    .dataframe tbody tr th {\n",
       "        vertical-align: top;\n",
       "    }\n",
       "\n",
       "    .dataframe thead th {\n",
       "        text-align: right;\n",
       "    }\n",
       "</style>\n",
       "<table border=\"1\" class=\"dataframe\">\n",
       "  <thead>\n",
       "    <tr style=\"text-align: right;\">\n",
       "      <th></th>\n",
       "      <th>interval</th>\n",
       "      <th>starting_line</th>\n",
       "      <th>ending_line</th>\n",
       "    </tr>\n",
       "  </thead>\n",
       "  <tbody>\n",
       "    <tr>\n",
       "      <th>All</th>\n",
       "      <td>0 days 00:44:31.830000</td>\n",
       "      <td>02:42:27.933 02:42:29.656 (laughing)</td>\n",
       "      <td>03:27:01.486 03:27:03.253 (laughter)</td>\n",
       "    </tr>\n",
       "    <tr>\n",
       "      <th>Marisha</th>\n",
       "      <td>0 days 00:20:57.083000</td>\n",
       "      <td>02:14:55.878 02:14:58.142 MARISHA: Yeah, littl...</td>\n",
       "      <td>02:35:55.225 02:35:56.325 MARISHA: This sucks.</td>\n",
       "    </tr>\n",
       "    <tr>\n",
       "      <th>Travis</th>\n",
       "      <td>0 days 00:18:04.070000</td>\n",
       "      <td>02:18:09.493 02:18:12.696 TRAVIS: You sussed i...</td>\n",
       "      <td>02:36:16.766 02:36:17.583 TRAVIS: 15.</td>\n",
       "    </tr>\n",
       "    <tr>\n",
       "      <th>Taliesin</th>\n",
       "      <td>0 days 00:17:02.919000</td>\n",
       "      <td>02:19:01.489 02:19:02.777 TALIESIN: Trap, trap.</td>\n",
       "      <td>02:36:05.696 02:36:06.816 TALIESIN: Do I still...</td>\n",
       "    </tr>\n",
       "    <tr>\n",
       "      <th>Sam</th>\n",
       "      <td>0 days 00:16:34.909000</td>\n",
       "      <td>02:19:02.777 02:19:04.090 SAM: Right path.</td>\n",
       "      <td>02:35:38.999 02:35:43.477 SAM: I would have be...</td>\n",
       "    </tr>\n",
       "    <tr>\n",
       "      <th>Liam</th>\n",
       "      <td>0 days 00:16:20.630000</td>\n",
       "      <td>02:19:21.311 02:19:22.847 LIAM: Down the woode...</td>\n",
       "      <td>02:35:43.477 02:35:44.885 LIAM: You can see in...</td>\n",
       "    </tr>\n",
       "    <tr>\n",
       "      <th>Laura</th>\n",
       "      <td>0 days 00:16:11.143000</td>\n",
       "      <td>02:19:07.766 02:19:09.351 LAURA: We're stealth...</td>\n",
       "      <td>02:35:20.494 02:35:22.010 LAURA: We were steal...</td>\n",
       "    </tr>\n",
       "    <tr>\n",
       "      <th>Matt</th>\n",
       "      <td>0 days 00:13:42.151000</td>\n",
       "      <td>02:19:22.847 02:20:04.803 MATT: Before we get ...</td>\n",
       "      <td>02:33:46.954 02:33:59.484 MATT: Welcome back. ...</td>\n",
       "    </tr>\n",
       "  </tbody>\n",
       "</table>\n",
       "</div>"
      ],
      "text/plain": [
       "                       interval  \\\n",
       "All      0 days 00:44:31.830000   \n",
       "Marisha  0 days 00:20:57.083000   \n",
       "Travis   0 days 00:18:04.070000   \n",
       "Taliesin 0 days 00:17:02.919000   \n",
       "Sam      0 days 00:16:34.909000   \n",
       "Liam     0 days 00:16:20.630000   \n",
       "Laura    0 days 00:16:11.143000   \n",
       "Matt     0 days 00:13:42.151000   \n",
       "\n",
       "                                              starting_line  \\\n",
       "All                    02:42:27.933 02:42:29.656 (laughing)   \n",
       "Marisha   02:14:55.878 02:14:58.142 MARISHA: Yeah, littl...   \n",
       "Travis    02:18:09.493 02:18:12.696 TRAVIS: You sussed i...   \n",
       "Taliesin    02:19:01.489 02:19:02.777 TALIESIN: Trap, trap.   \n",
       "Sam              02:19:02.777 02:19:04.090 SAM: Right path.   \n",
       "Liam      02:19:21.311 02:19:22.847 LIAM: Down the woode...   \n",
       "Laura     02:19:07.766 02:19:09.351 LAURA: We're stealth...   \n",
       "Matt      02:19:22.847 02:20:04.803 MATT: Before we get ...   \n",
       "\n",
       "                                                ending_line  \n",
       "All                    03:27:01.486 03:27:03.253 (laughter)  \n",
       "Marisha      02:35:55.225 02:35:56.325 MARISHA: This sucks.  \n",
       "Travis                02:36:16.766 02:36:17.583 TRAVIS: 15.  \n",
       "Taliesin  02:36:05.696 02:36:06.816 TALIESIN: Do I still...  \n",
       "Sam       02:35:38.999 02:35:43.477 SAM: I would have be...  \n",
       "Liam      02:35:43.477 02:35:44.885 LIAM: You can see in...  \n",
       "Laura     02:35:20.494 02:35:22.010 LAURA: We were steal...  \n",
       "Matt      02:33:46.954 02:33:59.484 MATT: Welcome back. ...  "
      ]
     },
     "metadata": {},
     "output_type": "display_data"
    },
    {
     "data": {
      "text/markdown": [
       "# Episode 7 - Hush"
      ],
      "text/plain": [
       "<IPython.core.display.Markdown object>"
      ]
     },
     "metadata": {},
     "output_type": "display_data"
    },
    {
     "name": "stdout",
     "output_type": "stream",
     "text": [
      "Added to cast: Khary\n"
     ]
    },
    {
     "data": {
      "text/html": [
       "<div>\n",
       "<style scoped>\n",
       "    .dataframe tbody tr th:only-of-type {\n",
       "        vertical-align: middle;\n",
       "    }\n",
       "\n",
       "    .dataframe tbody tr th {\n",
       "        vertical-align: top;\n",
       "    }\n",
       "\n",
       "    .dataframe thead th {\n",
       "        text-align: right;\n",
       "    }\n",
       "</style>\n",
       "<table border=\"1\" class=\"dataframe\">\n",
       "  <thead>\n",
       "    <tr style=\"text-align: right;\">\n",
       "      <th></th>\n",
       "      <th>interval</th>\n",
       "      <th>starting_line</th>\n",
       "      <th>ending_line</th>\n",
       "    </tr>\n",
       "  </thead>\n",
       "  <tbody>\n",
       "    <tr>\n",
       "      <th>All</th>\n",
       "      <td>0 days 00:21:40.086000</td>\n",
       "      <td>02:38:55.928 02:38:58.131 (laughter)</td>\n",
       "      <td>03:00:38.217 03:00:40.486 (laughter)</td>\n",
       "    </tr>\n",
       "    <tr>\n",
       "      <th>Khary</th>\n",
       "      <td>0 days 00:17:29.866000</td>\n",
       "      <td>02:22:55.824 02:22:58.090 KHARY: I know that t...</td>\n",
       "      <td>02:40:27.956 02:40:30.403 KHARY: I could use it.</td>\n",
       "    </tr>\n",
       "    <tr>\n",
       "      <th>Sam</th>\n",
       "      <td>0 days 00:16:04.672000</td>\n",
       "      <td>02:24:38.016 02:24:39.111 SAM: It's mostly cur...</td>\n",
       "      <td>02:40:43.783 02:40:47.001 SAM: Where does Shak...</td>\n",
       "    </tr>\n",
       "    <tr>\n",
       "      <th>Laura</th>\n",
       "      <td>0 days 00:13:37.920000</td>\n",
       "      <td>02:25:17.433 02:25:20.211 LAURA: Thanks, Wyrmw...</td>\n",
       "      <td>02:38:58.131 02:39:00.037 LAURA: No. Congratul...</td>\n",
       "    </tr>\n",
       "    <tr>\n",
       "      <th>Marisha</th>\n",
       "      <td>0 days 00:13:07.628000</td>\n",
       "      <td>02:25:14.551 02:25:17.433 MARISHA: It's so great.</td>\n",
       "      <td>02:38:25.061 02:38:32.850 MARISHA: They came f...</td>\n",
       "    </tr>\n",
       "    <tr>\n",
       "      <th>Travis</th>\n",
       "      <td>0 days 00:12:58.274000</td>\n",
       "      <td>02:25:42.600 02:25:44.192 TRAVIS: I've gotta pee!</td>\n",
       "      <td>02:38:42.466 02:38:44.796 TRAVIS: Other people...</td>\n",
       "    </tr>\n",
       "    <tr>\n",
       "      <th>Liam</th>\n",
       "      <td>0 days 00:12:57.761000</td>\n",
       "      <td>02:25:10.005 02:25:11.032 LIAM: It's yours.</td>\n",
       "      <td>02:38:08.793 02:38:09.450 LIAM: Yeah.</td>\n",
       "    </tr>\n",
       "    <tr>\n",
       "      <th>Taliesin</th>\n",
       "      <td>0 days 00:12:48.589000</td>\n",
       "      <td>02:25:44.192 02:25:45.291 TALIESIN: Nice.</td>\n",
       "      <td>02:38:33.880 02:38:39.226 TALIESIN: I'm here m...</td>\n",
       "    </tr>\n",
       "    <tr>\n",
       "      <th>Matt</th>\n",
       "      <td>0 days 00:12:18.890000</td>\n",
       "      <td>02:25:20.211 02:25:42.600 MATT: Oh, they give ...</td>\n",
       "      <td>02:38:01.490 02:38:08.793 MATT: Hello and welc...</td>\n",
       "    </tr>\n",
       "  </tbody>\n",
       "</table>\n",
       "</div>"
      ],
      "text/plain": [
       "                       interval  \\\n",
       "All      0 days 00:21:40.086000   \n",
       "Khary    0 days 00:17:29.866000   \n",
       "Sam      0 days 00:16:04.672000   \n",
       "Laura    0 days 00:13:37.920000   \n",
       "Marisha  0 days 00:13:07.628000   \n",
       "Travis   0 days 00:12:58.274000   \n",
       "Liam     0 days 00:12:57.761000   \n",
       "Taliesin 0 days 00:12:48.589000   \n",
       "Matt     0 days 00:12:18.890000   \n",
       "\n",
       "                                              starting_line  \\\n",
       "All                    02:38:55.928 02:38:58.131 (laughter)   \n",
       "Khary     02:22:55.824 02:22:58.090 KHARY: I know that t...   \n",
       "Sam       02:24:38.016 02:24:39.111 SAM: It's mostly cur...   \n",
       "Laura     02:25:17.433 02:25:20.211 LAURA: Thanks, Wyrmw...   \n",
       "Marisha   02:25:14.551 02:25:17.433 MARISHA: It's so great.   \n",
       "Travis    02:25:42.600 02:25:44.192 TRAVIS: I've gotta pee!   \n",
       "Liam            02:25:10.005 02:25:11.032 LIAM: It's yours.   \n",
       "Taliesin          02:25:44.192 02:25:45.291 TALIESIN: Nice.   \n",
       "Matt      02:25:20.211 02:25:42.600 MATT: Oh, they give ...   \n",
       "\n",
       "                                                ending_line  \n",
       "All                    03:00:38.217 03:00:40.486 (laughter)  \n",
       "Khary      02:40:27.956 02:40:30.403 KHARY: I could use it.  \n",
       "Sam       02:40:43.783 02:40:47.001 SAM: Where does Shak...  \n",
       "Laura     02:38:58.131 02:39:00.037 LAURA: No. Congratul...  \n",
       "Marisha   02:38:25.061 02:38:32.850 MARISHA: They came f...  \n",
       "Travis    02:38:42.466 02:38:44.796 TRAVIS: Other people...  \n",
       "Liam                  02:38:08.793 02:38:09.450 LIAM: Yeah.  \n",
       "Taliesin  02:38:33.880 02:38:39.226 TALIESIN: I'm here m...  \n",
       "Matt      02:38:01.490 02:38:08.793 MATT: Hello and welc...  "
      ]
     },
     "metadata": {},
     "output_type": "display_data"
    },
    {
     "data": {
      "text/markdown": [
       "# Episode 8 - The Gates of Zadash"
      ],
      "text/plain": [
       "<IPython.core.display.Markdown object>"
      ]
     },
     "metadata": {},
     "output_type": "display_data"
    },
    {
     "data": {
      "text/html": [
       "<div>\n",
       "<style scoped>\n",
       "    .dataframe tbody tr th:only-of-type {\n",
       "        vertical-align: middle;\n",
       "    }\n",
       "\n",
       "    .dataframe tbody tr th {\n",
       "        vertical-align: top;\n",
       "    }\n",
       "\n",
       "    .dataframe thead th {\n",
       "        text-align: right;\n",
       "    }\n",
       "</style>\n",
       "<table border=\"1\" class=\"dataframe\">\n",
       "  <thead>\n",
       "    <tr style=\"text-align: right;\">\n",
       "      <th></th>\n",
       "      <th>interval</th>\n",
       "      <th>starting_line</th>\n",
       "      <th>ending_line</th>\n",
       "    </tr>\n",
       "  </thead>\n",
       "  <tbody>\n",
       "    <tr>\n",
       "      <th>All</th>\n",
       "      <td>0 days 00:27:22.124000</td>\n",
       "      <td>02:50:11.019 02:50:12.631 (laughter)</td>\n",
       "      <td>03:17:34.755 03:17:38.805 (laughter)</td>\n",
       "    </tr>\n",
       "    <tr>\n",
       "      <th>Sam</th>\n",
       "      <td>0 days 00:26:27.316000</td>\n",
       "      <td>01:30:43.489 01:30:45.683 SAM: Yeehaw!</td>\n",
       "      <td>01:57:12.999 01:57:14.650 SAM: Like a gentleman?</td>\n",
       "    </tr>\n",
       "    <tr>\n",
       "      <th>Taliesin</th>\n",
       "      <td>0 days 00:18:28.150000</td>\n",
       "      <td>01:32:15.362 01:32:19.406 TALIESIN: It's the--...</td>\n",
       "      <td>01:50:47.556 01:50:52.086 TALIESIN: I'd say we...</td>\n",
       "    </tr>\n",
       "    <tr>\n",
       "      <th>Laura</th>\n",
       "      <td>0 days 00:17:51.296000</td>\n",
       "      <td>01:32:25.129 01:32:26.413 LAURA: Look at that ...</td>\n",
       "      <td>01:50:17.709 01:50:21.424 LAURA: Well, Nott sl...</td>\n",
       "    </tr>\n",
       "    <tr>\n",
       "      <th>Travis</th>\n",
       "      <td>0 days 00:17:23.730000</td>\n",
       "      <td>01:31:32.328 01:31:36.326 TRAVIS: Yeah, when y...</td>\n",
       "      <td>01:49:00.056 01:49:05.363 TRAVIS: Yep. Marisha.</td>\n",
       "    </tr>\n",
       "    <tr>\n",
       "      <th>Marisha</th>\n",
       "      <td>0 days 00:17:22.850000</td>\n",
       "      <td>01:31:39.879 01:31:42.513 MARISHA: I'm going t...</td>\n",
       "      <td>01:49:05.363 01:49:06.509 MARISHA: Uh-huh?</td>\n",
       "    </tr>\n",
       "    <tr>\n",
       "      <th>Liam</th>\n",
       "      <td>0 days 00:17:03.804000</td>\n",
       "      <td>01:32:02.385 01:32:04.996 LIAM: Oh shit, look ...</td>\n",
       "      <td>01:49:08.800 01:49:09.540 LIAM: Stop!</td>\n",
       "    </tr>\n",
       "    <tr>\n",
       "      <th>Matt</th>\n",
       "      <td>0 days 00:15:34.034000</td>\n",
       "      <td>01:32:26.413 01:33:03.437 MATT: It's freaking ...</td>\n",
       "      <td>01:48:37.471 01:49:00.056 MATT: Hello everyone...</td>\n",
       "    </tr>\n",
       "  </tbody>\n",
       "</table>\n",
       "</div>"
      ],
      "text/plain": [
       "                       interval  \\\n",
       "All      0 days 00:27:22.124000   \n",
       "Sam      0 days 00:26:27.316000   \n",
       "Taliesin 0 days 00:18:28.150000   \n",
       "Laura    0 days 00:17:51.296000   \n",
       "Travis   0 days 00:17:23.730000   \n",
       "Marisha  0 days 00:17:22.850000   \n",
       "Liam     0 days 00:17:03.804000   \n",
       "Matt     0 days 00:15:34.034000   \n",
       "\n",
       "                                              starting_line  \\\n",
       "All                    02:50:11.019 02:50:12.631 (laughter)   \n",
       "Sam                  01:30:43.489 01:30:45.683 SAM: Yeehaw!   \n",
       "Taliesin  01:32:15.362 01:32:19.406 TALIESIN: It's the--...   \n",
       "Laura     01:32:25.129 01:32:26.413 LAURA: Look at that ...   \n",
       "Travis    01:31:32.328 01:31:36.326 TRAVIS: Yeah, when y...   \n",
       "Marisha   01:31:39.879 01:31:42.513 MARISHA: I'm going t...   \n",
       "Liam      01:32:02.385 01:32:04.996 LIAM: Oh shit, look ...   \n",
       "Matt      01:32:26.413 01:33:03.437 MATT: It's freaking ...   \n",
       "\n",
       "                                                ending_line  \n",
       "All                    03:17:34.755 03:17:38.805 (laughter)  \n",
       "Sam        01:57:12.999 01:57:14.650 SAM: Like a gentleman?  \n",
       "Taliesin  01:50:47.556 01:50:52.086 TALIESIN: I'd say we...  \n",
       "Laura     01:50:17.709 01:50:21.424 LAURA: Well, Nott sl...  \n",
       "Travis      01:49:00.056 01:49:05.363 TRAVIS: Yep. Marisha.  \n",
       "Marisha          01:49:05.363 01:49:06.509 MARISHA: Uh-huh?  \n",
       "Liam                  01:49:08.800 01:49:09.540 LIAM: Stop!  \n",
       "Matt      01:48:37.471 01:49:00.056 MATT: Hello everyone...  "
      ]
     },
     "metadata": {},
     "output_type": "display_data"
    },
    {
     "data": {
      "text/markdown": [
       "# Episode 9 - Steam and Conversation"
      ],
      "text/plain": [
       "<IPython.core.display.Markdown object>"
      ]
     },
     "metadata": {},
     "output_type": "display_data"
    },
    {
     "data": {
      "text/html": [
       "<div>\n",
       "<style scoped>\n",
       "    .dataframe tbody tr th:only-of-type {\n",
       "        vertical-align: middle;\n",
       "    }\n",
       "\n",
       "    .dataframe tbody tr th {\n",
       "        vertical-align: top;\n",
       "    }\n",
       "\n",
       "    .dataframe thead th {\n",
       "        text-align: right;\n",
       "    }\n",
       "</style>\n",
       "<table border=\"1\" class=\"dataframe\">\n",
       "  <thead>\n",
       "    <tr style=\"text-align: right;\">\n",
       "      <th></th>\n",
       "      <th>interval</th>\n",
       "      <th>starting_line</th>\n",
       "      <th>ending_line</th>\n",
       "    </tr>\n",
       "  </thead>\n",
       "  <tbody>\n",
       "    <tr>\n",
       "      <th>All</th>\n",
       "      <td>0 days 00:42:01.215000</td>\n",
       "      <td>00:34:14.828 00:34:17.131 (various eating noises)</td>\n",
       "      <td>01:16:18.346 01:16:21.346 (laughter)</td>\n",
       "    </tr>\n",
       "    <tr>\n",
       "      <th>Ashley</th>\n",
       "      <td>0 days 00:25:33.879000</td>\n",
       "      <td>03:00:46.854 03:00:48.403 ASHLEY: Maybe it cam...</td>\n",
       "      <td>03:26:22.282 03:26:24.493 ASHLEY: How did-- di...</td>\n",
       "    </tr>\n",
       "    <tr>\n",
       "      <th>Marisha</th>\n",
       "      <td>0 days 00:19:56.283000</td>\n",
       "      <td>01:53:05.463 01:53:09.430 MARISHA: Okay, I loo...</td>\n",
       "      <td>02:13:05.713 02:13:07.664 MARISHA: You have sh...</td>\n",
       "    </tr>\n",
       "    <tr>\n",
       "      <th>Travis</th>\n",
       "      <td>0 days 00:19:14.305000</td>\n",
       "      <td>01:55:59.190 01:56:00.915 TRAVIS: Don't let he...</td>\n",
       "      <td>02:15:15.220 02:15:17.602 TRAVIS: Are we all h...</td>\n",
       "    </tr>\n",
       "    <tr>\n",
       "      <th>Sam</th>\n",
       "      <td>0 days 00:18:25.377000</td>\n",
       "      <td>01:56:51.433 01:56:53.936 SAM: My itch has bee...</td>\n",
       "      <td>02:15:19.313 02:15:23.641 SAM: Is there a plac...</td>\n",
       "    </tr>\n",
       "    <tr>\n",
       "      <th>Laura</th>\n",
       "      <td>0 days 00:17:19.541000</td>\n",
       "      <td>01:57:13.461 01:57:14.691 LAURA: 12.</td>\n",
       "      <td>02:14:34.232 02:14:36.739 LAURA: Are there peo...</td>\n",
       "    </tr>\n",
       "    <tr>\n",
       "      <th>Taliesin</th>\n",
       "      <td>0 days 00:17:16.397000</td>\n",
       "      <td>01:57:09.170 01:57:10.691 TALIESIN: Or the Pla...</td>\n",
       "      <td>02:14:27.088 02:14:30.935 TALIESIN: We've got ...</td>\n",
       "    </tr>\n",
       "    <tr>\n",
       "      <th>Liam</th>\n",
       "      <td>0 days 00:16:17.081000</td>\n",
       "      <td>01:56:48.466 01:56:50.583 LIAM: Yeah, okay well.</td>\n",
       "      <td>02:13:07.664 02:13:09.083 LIAM: Oh, I pooped o...</td>\n",
       "    </tr>\n",
       "    <tr>\n",
       "      <th>Matt</th>\n",
       "      <td>0 days 00:14:46.044000</td>\n",
       "      <td>01:57:53.478 01:58:00.846 MATT: We'll be back ...</td>\n",
       "      <td>02:12:46.890 02:13:05.213 MATT: Welcome back, ...</td>\n",
       "    </tr>\n",
       "  </tbody>\n",
       "</table>\n",
       "</div>"
      ],
      "text/plain": [
       "                       interval  \\\n",
       "All      0 days 00:42:01.215000   \n",
       "Ashley   0 days 00:25:33.879000   \n",
       "Marisha  0 days 00:19:56.283000   \n",
       "Travis   0 days 00:19:14.305000   \n",
       "Sam      0 days 00:18:25.377000   \n",
       "Laura    0 days 00:17:19.541000   \n",
       "Taliesin 0 days 00:17:16.397000   \n",
       "Liam     0 days 00:16:17.081000   \n",
       "Matt     0 days 00:14:46.044000   \n",
       "\n",
       "                                              starting_line  \\\n",
       "All       00:34:14.828 00:34:17.131 (various eating noises)   \n",
       "Ashley    03:00:46.854 03:00:48.403 ASHLEY: Maybe it cam...   \n",
       "Marisha   01:53:05.463 01:53:09.430 MARISHA: Okay, I loo...   \n",
       "Travis    01:55:59.190 01:56:00.915 TRAVIS: Don't let he...   \n",
       "Sam       01:56:51.433 01:56:53.936 SAM: My itch has bee...   \n",
       "Laura                  01:57:13.461 01:57:14.691 LAURA: 12.   \n",
       "Taliesin  01:57:09.170 01:57:10.691 TALIESIN: Or the Pla...   \n",
       "Liam       01:56:48.466 01:56:50.583 LIAM: Yeah, okay well.   \n",
       "Matt      01:57:53.478 01:58:00.846 MATT: We'll be back ...   \n",
       "\n",
       "                                                ending_line  \n",
       "All                    01:16:18.346 01:16:21.346 (laughter)  \n",
       "Ashley    03:26:22.282 03:26:24.493 ASHLEY: How did-- di...  \n",
       "Marisha   02:13:05.713 02:13:07.664 MARISHA: You have sh...  \n",
       "Travis    02:15:15.220 02:15:17.602 TRAVIS: Are we all h...  \n",
       "Sam       02:15:19.313 02:15:23.641 SAM: Is there a plac...  \n",
       "Laura     02:14:34.232 02:14:36.739 LAURA: Are there peo...  \n",
       "Taliesin  02:14:27.088 02:14:30.935 TALIESIN: We've got ...  \n",
       "Liam      02:13:07.664 02:13:09.083 LIAM: Oh, I pooped o...  \n",
       "Matt      02:12:46.890 02:13:05.213 MATT: Welcome back, ...  "
      ]
     },
     "metadata": {},
     "output_type": "display_data"
    },
    {
     "data": {
      "text/markdown": [
       "# Episode 10 - Waste and Webs"
      ],
      "text/plain": [
       "<IPython.core.display.Markdown object>"
      ]
     },
     "metadata": {},
     "output_type": "display_data"
    },
    {
     "data": {
      "text/html": [
       "<div>\n",
       "<style scoped>\n",
       "    .dataframe tbody tr th:only-of-type {\n",
       "        vertical-align: middle;\n",
       "    }\n",
       "\n",
       "    .dataframe tbody tr th {\n",
       "        vertical-align: top;\n",
       "    }\n",
       "\n",
       "    .dataframe thead th {\n",
       "        text-align: right;\n",
       "    }\n",
       "</style>\n",
       "<table border=\"1\" class=\"dataframe\">\n",
       "  <thead>\n",
       "    <tr style=\"text-align: right;\">\n",
       "      <th></th>\n",
       "      <th>interval</th>\n",
       "      <th>starting_line</th>\n",
       "      <th>ending_line</th>\n",
       "    </tr>\n",
       "  </thead>\n",
       "  <tbody>\n",
       "    <tr>\n",
       "      <th>Marisha</th>\n",
       "      <td>0 days 00:27:41.070000</td>\n",
       "      <td>01:35:09.633 01:35:12.497 MARISHA: You still h...</td>\n",
       "      <td>02:02:53.567 02:02:54.774 MARISHA: What?!</td>\n",
       "    </tr>\n",
       "    <tr>\n",
       "      <th>Ashley</th>\n",
       "      <td>0 days 00:23:42.657000</td>\n",
       "      <td>03:26:27.616 03:26:28.858 ASHLEY: Bathhouse?</td>\n",
       "      <td>03:50:11.515 03:50:12.651 ASHLEY: Kill them.</td>\n",
       "    </tr>\n",
       "    <tr>\n",
       "      <th>Taliesin</th>\n",
       "      <td>0 days 00:20:26.825000</td>\n",
       "      <td>01:43:03.832 01:43:08.894 TALIESIN: I'm going ...</td>\n",
       "      <td>02:03:35.719 02:03:37.898 TALIESIN: I'd forgot...</td>\n",
       "    </tr>\n",
       "    <tr>\n",
       "      <th>Liam</th>\n",
       "      <td>0 days 00:19:27.386000</td>\n",
       "      <td>01:43:48.063 01:43:49.881 LIAM: That is also g...</td>\n",
       "      <td>02:03:17.267 02:03:19.193 LIAM: Is Jester righ...</td>\n",
       "    </tr>\n",
       "    <tr>\n",
       "      <th>Sam</th>\n",
       "      <td>0 days 00:18:28.168000</td>\n",
       "      <td>01:45:02.339 01:45:04.799 SAM: Wait, no! But t...</td>\n",
       "      <td>02:03:32.967 02:03:35.719 SAM: All clear in th...</td>\n",
       "    </tr>\n",
       "    <tr>\n",
       "      <th>Laura</th>\n",
       "      <td>0 days 00:17:24.673000</td>\n",
       "      <td>01:45:15.336 01:45:17.102 LAURA: I don't like ...</td>\n",
       "      <td>02:02:41.775 02:02:44.516 LAURA: Is he reachable?</td>\n",
       "    </tr>\n",
       "    <tr>\n",
       "      <th>Travis</th>\n",
       "      <td>0 days 00:16:46.229000</td>\n",
       "      <td>01:46:33.203 01:46:35.052 TRAVIS: Is there an ...</td>\n",
       "      <td>02:03:21.281 02:03:25.033 TRAVIS: If you had t...</td>\n",
       "    </tr>\n",
       "    <tr>\n",
       "      <th>All</th>\n",
       "      <td>0 days 00:14:59.714000</td>\n",
       "      <td>01:16:10.310 01:16:11.310 (laughter)</td>\n",
       "      <td>01:31:11.024 01:31:13.930 (laughter)</td>\n",
       "    </tr>\n",
       "    <tr>\n",
       "      <th>Matt</th>\n",
       "      <td>0 days 00:14:43.516000</td>\n",
       "      <td>01:46:35.052 01:46:53.989 MATT: No. But yes, t...</td>\n",
       "      <td>02:01:37.505 02:02:41.775 MATT: And welcome ba...</td>\n",
       "    </tr>\n",
       "  </tbody>\n",
       "</table>\n",
       "</div>"
      ],
      "text/plain": [
       "                       interval  \\\n",
       "Marisha  0 days 00:27:41.070000   \n",
       "Ashley   0 days 00:23:42.657000   \n",
       "Taliesin 0 days 00:20:26.825000   \n",
       "Liam     0 days 00:19:27.386000   \n",
       "Sam      0 days 00:18:28.168000   \n",
       "Laura    0 days 00:17:24.673000   \n",
       "Travis   0 days 00:16:46.229000   \n",
       "All      0 days 00:14:59.714000   \n",
       "Matt     0 days 00:14:43.516000   \n",
       "\n",
       "                                              starting_line  \\\n",
       "Marisha   01:35:09.633 01:35:12.497 MARISHA: You still h...   \n",
       "Ashley         03:26:27.616 03:26:28.858 ASHLEY: Bathhouse?   \n",
       "Taliesin  01:43:03.832 01:43:08.894 TALIESIN: I'm going ...   \n",
       "Liam      01:43:48.063 01:43:49.881 LIAM: That is also g...   \n",
       "Sam       01:45:02.339 01:45:04.799 SAM: Wait, no! But t...   \n",
       "Laura     01:45:15.336 01:45:17.102 LAURA: I don't like ...   \n",
       "Travis    01:46:33.203 01:46:35.052 TRAVIS: Is there an ...   \n",
       "All                    01:16:10.310 01:16:11.310 (laughter)   \n",
       "Matt      01:46:35.052 01:46:53.989 MATT: No. But yes, t...   \n",
       "\n",
       "                                                ending_line  \n",
       "Marisha           02:02:53.567 02:02:54.774 MARISHA: What?!  \n",
       "Ashley         03:50:11.515 03:50:12.651 ASHLEY: Kill them.  \n",
       "Taliesin  02:03:35.719 02:03:37.898 TALIESIN: I'd forgot...  \n",
       "Liam      02:03:17.267 02:03:19.193 LIAM: Is Jester righ...  \n",
       "Sam       02:03:32.967 02:03:35.719 SAM: All clear in th...  \n",
       "Laura     02:02:41.775 02:02:44.516 LAURA: Is he reachable?  \n",
       "Travis    02:03:21.281 02:03:25.033 TRAVIS: If you had t...  \n",
       "All                    01:31:11.024 01:31:13.930 (laughter)  \n",
       "Matt      02:01:37.505 02:02:41.775 MATT: And welcome ba...  "
      ]
     },
     "metadata": {},
     "output_type": "display_data"
    },
    {
     "data": {
      "text/markdown": [
       "# Episode 11 - Zemnian Nights"
      ],
      "text/plain": [
       "<IPython.core.display.Markdown object>"
      ]
     },
     "metadata": {},
     "output_type": "display_data"
    },
    {
     "data": {
      "text/html": [
       "<div>\n",
       "<style scoped>\n",
       "    .dataframe tbody tr th:only-of-type {\n",
       "        vertical-align: middle;\n",
       "    }\n",
       "\n",
       "    .dataframe tbody tr th {\n",
       "        vertical-align: top;\n",
       "    }\n",
       "\n",
       "    .dataframe thead th {\n",
       "        text-align: right;\n",
       "    }\n",
       "</style>\n",
       "<table border=\"1\" class=\"dataframe\">\n",
       "  <thead>\n",
       "    <tr style=\"text-align: right;\">\n",
       "      <th></th>\n",
       "      <th>interval</th>\n",
       "      <th>starting_line</th>\n",
       "      <th>ending_line</th>\n",
       "    </tr>\n",
       "  </thead>\n",
       "  <tbody>\n",
       "    <tr>\n",
       "      <th>Taliesin</th>\n",
       "      <td>0 days 00:28:03.329000</td>\n",
       "      <td>01:38:54.905 01:39:03.306 TALIESIN: Well, you ...</td>\n",
       "      <td>02:07:06.635 02:07:08.298 TALIESIN: That was a...</td>\n",
       "    </tr>\n",
       "    <tr>\n",
       "      <th>All</th>\n",
       "      <td>0 days 00:27:17.662000</td>\n",
       "      <td>02:24:50.412 02:24:55.017 ALL: (whispering)</td>\n",
       "      <td>02:52:12.679 02:52:14.649 (laughing)</td>\n",
       "    </tr>\n",
       "    <tr>\n",
       "      <th>Liam</th>\n",
       "      <td>0 days 00:25:55.467000</td>\n",
       "      <td>01:46:03.604 01:46:05.326 LIAM: Yeah, it's coc...</td>\n",
       "      <td>02:12:00.793 02:12:02.332 LIAM: Oh no.</td>\n",
       "    </tr>\n",
       "    <tr>\n",
       "      <th>Sam</th>\n",
       "      <td>0 days 00:17:43.793000</td>\n",
       "      <td>02:20:47.635 02:20:49.590 SAM: I think I can d...</td>\n",
       "      <td>02:38:33.383 02:38:35.755 SAM: \"Shut up.\"</td>\n",
       "    </tr>\n",
       "    <tr>\n",
       "      <th>Marisha</th>\n",
       "      <td>0 days 00:16:51.196000</td>\n",
       "      <td>01:51:03.886 01:51:05.324 MARISHA: Iva!</td>\n",
       "      <td>02:07:56.520 02:07:57.674 MARISHA: Go kill--</td>\n",
       "    </tr>\n",
       "    <tr>\n",
       "      <th>Laura</th>\n",
       "      <td>0 days 00:16:40.696000</td>\n",
       "      <td>01:51:15.541 01:51:19.654 LAURA: You probably ...</td>\n",
       "      <td>02:08:00.350 02:08:02.396 LAURA: I don't think...</td>\n",
       "    </tr>\n",
       "    <tr>\n",
       "      <th>Travis</th>\n",
       "      <td>0 days 00:15:50.204000</td>\n",
       "      <td>01:51:05.614 01:51:15.541 TRAVIS: I remember m...</td>\n",
       "      <td>02:07:05.745 02:07:06.635 TRAVIS: Yeah!</td>\n",
       "    </tr>\n",
       "    <tr>\n",
       "      <th>Matt</th>\n",
       "      <td>0 days 00:14:59.784000</td>\n",
       "      <td>01:51:19.654 01:52:03.148 MATT: Before we go t...</td>\n",
       "      <td>02:07:02.932 02:07:05.745 MATT: Welcome back, ...</td>\n",
       "    </tr>\n",
       "  </tbody>\n",
       "</table>\n",
       "</div>"
      ],
      "text/plain": [
       "                       interval  \\\n",
       "Taliesin 0 days 00:28:03.329000   \n",
       "All      0 days 00:27:17.662000   \n",
       "Liam     0 days 00:25:55.467000   \n",
       "Sam      0 days 00:17:43.793000   \n",
       "Marisha  0 days 00:16:51.196000   \n",
       "Laura    0 days 00:16:40.696000   \n",
       "Travis   0 days 00:15:50.204000   \n",
       "Matt     0 days 00:14:59.784000   \n",
       "\n",
       "                                              starting_line  \\\n",
       "Taliesin  01:38:54.905 01:39:03.306 TALIESIN: Well, you ...   \n",
       "All             02:24:50.412 02:24:55.017 ALL: (whispering)   \n",
       "Liam      01:46:03.604 01:46:05.326 LIAM: Yeah, it's coc...   \n",
       "Sam       02:20:47.635 02:20:49.590 SAM: I think I can d...   \n",
       "Marisha             01:51:03.886 01:51:05.324 MARISHA: Iva!   \n",
       "Laura     01:51:15.541 01:51:19.654 LAURA: You probably ...   \n",
       "Travis    01:51:05.614 01:51:15.541 TRAVIS: I remember m...   \n",
       "Matt      01:51:19.654 01:52:03.148 MATT: Before we go t...   \n",
       "\n",
       "                                                ending_line  \n",
       "Taliesin  02:07:06.635 02:07:08.298 TALIESIN: That was a...  \n",
       "All                    02:52:12.679 02:52:14.649 (laughing)  \n",
       "Liam                 02:12:00.793 02:12:02.332 LIAM: Oh no.  \n",
       "Sam               02:38:33.383 02:38:35.755 SAM: \"Shut up.\"  \n",
       "Marisha        02:07:56.520 02:07:57.674 MARISHA: Go kill--  \n",
       "Laura     02:08:00.350 02:08:02.396 LAURA: I don't think...  \n",
       "Travis              02:07:05.745 02:07:06.635 TRAVIS: Yeah!  \n",
       "Matt      02:07:02.932 02:07:05.745 MATT: Welcome back, ...  "
      ]
     },
     "metadata": {},
     "output_type": "display_data"
    },
    {
     "data": {
      "text/markdown": [
       "# Episode 12 - Midnight Espionage"
      ],
      "text/plain": [
       "<IPython.core.display.Markdown object>"
      ]
     },
     "metadata": {},
     "output_type": "display_data"
    },
    {
     "name": "stdout",
     "output_type": "stream",
     "text": [
      "Added to cast: Everybody\n"
     ]
    },
    {
     "data": {
      "text/html": [
       "<div>\n",
       "<style scoped>\n",
       "    .dataframe tbody tr th:only-of-type {\n",
       "        vertical-align: middle;\n",
       "    }\n",
       "\n",
       "    .dataframe tbody tr th {\n",
       "        vertical-align: top;\n",
       "    }\n",
       "\n",
       "    .dataframe thead th {\n",
       "        text-align: right;\n",
       "    }\n",
       "</style>\n",
       "<table border=\"1\" class=\"dataframe\">\n",
       "  <thead>\n",
       "    <tr style=\"text-align: right;\">\n",
       "      <th></th>\n",
       "      <th>interval</th>\n",
       "      <th>starting_line</th>\n",
       "      <th>ending_line</th>\n",
       "    </tr>\n",
       "  </thead>\n",
       "  <tbody>\n",
       "    <tr>\n",
       "      <th>All</th>\n",
       "      <td>0 days 00:20:55.816000</td>\n",
       "      <td>01:04:14.481 01:04:16.301 ALL: Nine!</td>\n",
       "      <td>01:25:12.117 01:25:15.511 (laughter)</td>\n",
       "    </tr>\n",
       "    <tr>\n",
       "      <th>Laura</th>\n",
       "      <td>0 days 00:20:55.102000</td>\n",
       "      <td>00:55:48.487 00:55:49.645 LAURA: In your butt.</td>\n",
       "      <td>01:16:44.747 01:16:46.850 LAURA: No, no, he’s ...</td>\n",
       "    </tr>\n",
       "    <tr>\n",
       "      <th>Taliesin</th>\n",
       "      <td>0 days 00:20:17.618000</td>\n",
       "      <td>01:31:16.018 01:31:17.270 TALIESIN: It was a g...</td>\n",
       "      <td>01:51:34.888 01:51:37.710 TALIESIN: I was thin...</td>\n",
       "    </tr>\n",
       "    <tr>\n",
       "      <th>Marisha</th>\n",
       "      <td>0 days 00:18:59.245000</td>\n",
       "      <td>01:31:47.922 01:31:49.700 MARISHA: Why is ther...</td>\n",
       "      <td>01:50:48.945 01:50:51.610 MARISHA: Beau gets a...</td>\n",
       "    </tr>\n",
       "    <tr>\n",
       "      <th>Travis</th>\n",
       "      <td>0 days 00:17:24.483000</td>\n",
       "      <td>01:29:12.457 01:29:13.055 TRAVIS: Nott.</td>\n",
       "      <td>01:46:37.538 01:46:39.207 TRAVIS: Nor in your ...</td>\n",
       "    </tr>\n",
       "    <tr>\n",
       "      <th>Sam</th>\n",
       "      <td>0 days 00:14:55.783000</td>\n",
       "      <td>01:30:34.479 01:30:37.490 SAM: All right. Sure...</td>\n",
       "      <td>01:45:33.273 01:45:53.311 SAM: I would like to...</td>\n",
       "    </tr>\n",
       "    <tr>\n",
       "      <th>Liam</th>\n",
       "      <td>0 days 00:14:05.389000</td>\n",
       "      <td>01:31:46.017 01:31:47.922 LIAM: Is he at the h...</td>\n",
       "      <td>01:45:53.311 01:45:56.059 LIAM: Where did you ...</td>\n",
       "    </tr>\n",
       "    <tr>\n",
       "      <th>Matt</th>\n",
       "      <td>0 days 00:13:02.928000</td>\n",
       "      <td>01:31:49.700 01:32:08.152 MATT: It's a deck bo...</td>\n",
       "      <td>01:45:11.080 01:45:33.273 MATT: Hello, and wel...</td>\n",
       "    </tr>\n",
       "  </tbody>\n",
       "</table>\n",
       "</div>"
      ],
      "text/plain": [
       "                       interval  \\\n",
       "All      0 days 00:20:55.816000   \n",
       "Laura    0 days 00:20:55.102000   \n",
       "Taliesin 0 days 00:20:17.618000   \n",
       "Marisha  0 days 00:18:59.245000   \n",
       "Travis   0 days 00:17:24.483000   \n",
       "Sam      0 days 00:14:55.783000   \n",
       "Liam     0 days 00:14:05.389000   \n",
       "Matt     0 days 00:13:02.928000   \n",
       "\n",
       "                                              starting_line  \\\n",
       "All                    01:04:14.481 01:04:16.301 ALL: Nine!   \n",
       "Laura        00:55:48.487 00:55:49.645 LAURA: In your butt.   \n",
       "Taliesin  01:31:16.018 01:31:17.270 TALIESIN: It was a g...   \n",
       "Marisha   01:31:47.922 01:31:49.700 MARISHA: Why is ther...   \n",
       "Travis              01:29:12.457 01:29:13.055 TRAVIS: Nott.   \n",
       "Sam       01:30:34.479 01:30:37.490 SAM: All right. Sure...   \n",
       "Liam      01:31:46.017 01:31:47.922 LIAM: Is he at the h...   \n",
       "Matt      01:31:49.700 01:32:08.152 MATT: It's a deck bo...   \n",
       "\n",
       "                                                ending_line  \n",
       "All                    01:25:12.117 01:25:15.511 (laughter)  \n",
       "Laura     01:16:44.747 01:16:46.850 LAURA: No, no, he’s ...  \n",
       "Taliesin  01:51:34.888 01:51:37.710 TALIESIN: I was thin...  \n",
       "Marisha   01:50:48.945 01:50:51.610 MARISHA: Beau gets a...  \n",
       "Travis    01:46:37.538 01:46:39.207 TRAVIS: Nor in your ...  \n",
       "Sam       01:45:33.273 01:45:53.311 SAM: I would like to...  \n",
       "Liam      01:45:53.311 01:45:56.059 LIAM: Where did you ...  \n",
       "Matt      01:45:11.080 01:45:33.273 MATT: Hello, and wel...  "
      ]
     },
     "metadata": {},
     "output_type": "display_data"
    },
    {
     "data": {
      "text/markdown": [
       "# Episode 13 - Lost & Found"
      ],
      "text/plain": [
       "<IPython.core.display.Markdown object>"
      ]
     },
     "metadata": {},
     "output_type": "display_data"
    },
    {
     "data": {
      "text/html": [
       "<div>\n",
       "<style scoped>\n",
       "    .dataframe tbody tr th:only-of-type {\n",
       "        vertical-align: middle;\n",
       "    }\n",
       "\n",
       "    .dataframe tbody tr th {\n",
       "        vertical-align: top;\n",
       "    }\n",
       "\n",
       "    .dataframe thead th {\n",
       "        text-align: right;\n",
       "    }\n",
       "</style>\n",
       "<table border=\"1\" class=\"dataframe\">\n",
       "  <thead>\n",
       "    <tr style=\"text-align: right;\">\n",
       "      <th></th>\n",
       "      <th>interval</th>\n",
       "      <th>starting_line</th>\n",
       "      <th>ending_line</th>\n",
       "    </tr>\n",
       "  </thead>\n",
       "  <tbody>\n",
       "    <tr>\n",
       "      <th>Taliesin</th>\n",
       "      <td>0 days 00:20:04.081000</td>\n",
       "      <td>02:02:22.503 02:02:24.464 TALIESIN: There shou...</td>\n",
       "      <td>02:22:28.545 02:22:30.574 TALIESIN: There's mo...</td>\n",
       "    </tr>\n",
       "    <tr>\n",
       "      <th>All</th>\n",
       "      <td>0 days 00:19:39.762000</td>\n",
       "      <td>01:33:35.193 01:33:39.215 (laughter)</td>\n",
       "      <td>01:53:18.977 01:53:20.607 (distant clattering)</td>\n",
       "    </tr>\n",
       "    <tr>\n",
       "      <th>Liam</th>\n",
       "      <td>0 days 00:19:02.936000</td>\n",
       "      <td>02:02:45.242 02:02:47.280 LIAM: How about now?</td>\n",
       "      <td>02:21:50.216 02:21:51.470 LIAM: It was like a ...</td>\n",
       "    </tr>\n",
       "    <tr>\n",
       "      <th>Sam</th>\n",
       "      <td>0 days 00:18:59.440000</td>\n",
       "      <td>02:03:15.178 02:03:17.243 SAM: Two floors belo...</td>\n",
       "      <td>02:22:16.683 02:22:17.654 SAM: Yorick.</td>\n",
       "    </tr>\n",
       "    <tr>\n",
       "      <th>Travis</th>\n",
       "      <td>0 days 00:18:56.348000</td>\n",
       "      <td>02:03:26.752 02:03:28.354 TRAVIS: Who are that?</td>\n",
       "      <td>02:22:24.702 02:22:25.564 TRAVIS: Not downstairs?</td>\n",
       "    </tr>\n",
       "    <tr>\n",
       "      <th>Laura</th>\n",
       "      <td>0 days 00:14:59.371000</td>\n",
       "      <td>02:07:21.032 02:07:22.134 LAURA: Oh no.</td>\n",
       "      <td>02:22:21.505 02:22:24.702 LAURA: Are we in a r...</td>\n",
       "    </tr>\n",
       "    <tr>\n",
       "      <th>Marisha</th>\n",
       "      <td>0 days 00:14:38.457000</td>\n",
       "      <td>02:07:12.835 02:07:19.364 MARISHA: We almost k...</td>\n",
       "      <td>02:21:57.821 02:21:59.432 MARISHA: Ey, represent!</td>\n",
       "    </tr>\n",
       "    <tr>\n",
       "      <th>Matt</th>\n",
       "      <td>0 days 00:13:42.417000</td>\n",
       "      <td>02:07:22.134 02:08:02.739 MATT: There’s a lot ...</td>\n",
       "      <td>02:21:45.156 02:21:49.326 MATT: And welcome ba...</td>\n",
       "    </tr>\n",
       "  </tbody>\n",
       "</table>\n",
       "</div>"
      ],
      "text/plain": [
       "                       interval  \\\n",
       "Taliesin 0 days 00:20:04.081000   \n",
       "All      0 days 00:19:39.762000   \n",
       "Liam     0 days 00:19:02.936000   \n",
       "Sam      0 days 00:18:59.440000   \n",
       "Travis   0 days 00:18:56.348000   \n",
       "Laura    0 days 00:14:59.371000   \n",
       "Marisha  0 days 00:14:38.457000   \n",
       "Matt     0 days 00:13:42.417000   \n",
       "\n",
       "                                              starting_line  \\\n",
       "Taliesin  02:02:22.503 02:02:24.464 TALIESIN: There shou...   \n",
       "All                    01:33:35.193 01:33:39.215 (laughter)   \n",
       "Liam         02:02:45.242 02:02:47.280 LIAM: How about now?   \n",
       "Sam       02:03:15.178 02:03:17.243 SAM: Two floors belo...   \n",
       "Travis      02:03:26.752 02:03:28.354 TRAVIS: Who are that?   \n",
       "Laura               02:07:21.032 02:07:22.134 LAURA: Oh no.   \n",
       "Marisha   02:07:12.835 02:07:19.364 MARISHA: We almost k...   \n",
       "Matt      02:07:22.134 02:08:02.739 MATT: There’s a lot ...   \n",
       "\n",
       "                                                ending_line  \n",
       "Taliesin  02:22:28.545 02:22:30.574 TALIESIN: There's mo...  \n",
       "All          01:53:18.977 01:53:20.607 (distant clattering)  \n",
       "Liam      02:21:50.216 02:21:51.470 LIAM: It was like a ...  \n",
       "Sam                  02:22:16.683 02:22:17.654 SAM: Yorick.  \n",
       "Travis    02:22:24.702 02:22:25.564 TRAVIS: Not downstairs?  \n",
       "Laura     02:22:21.505 02:22:24.702 LAURA: Are we in a r...  \n",
       "Marisha   02:21:57.821 02:21:59.432 MARISHA: Ey, represent!  \n",
       "Matt      02:21:45.156 02:21:49.326 MATT: And welcome ba...  "
      ]
     },
     "metadata": {},
     "output_type": "display_data"
    },
    {
     "data": {
      "text/markdown": [
       "# Episode 14 - Fleeting Memories"
      ],
      "text/plain": [
       "<IPython.core.display.Markdown object>"
      ]
     },
     "metadata": {},
     "output_type": "display_data"
    },
    {
     "name": "stdout",
     "output_type": "stream",
     "text": [
      "Added to cast: Joel\n"
     ]
    },
    {
     "data": {
      "text/html": [
       "<div>\n",
       "<style scoped>\n",
       "    .dataframe tbody tr th:only-of-type {\n",
       "        vertical-align: middle;\n",
       "    }\n",
       "\n",
       "    .dataframe tbody tr th {\n",
       "        vertical-align: top;\n",
       "    }\n",
       "\n",
       "    .dataframe thead th {\n",
       "        text-align: right;\n",
       "    }\n",
       "</style>\n",
       "<table border=\"1\" class=\"dataframe\">\n",
       "  <thead>\n",
       "    <tr style=\"text-align: right;\">\n",
       "      <th></th>\n",
       "      <th>interval</th>\n",
       "      <th>starting_line</th>\n",
       "      <th>ending_line</th>\n",
       "    </tr>\n",
       "  </thead>\n",
       "  <tbody>\n",
       "    <tr>\n",
       "      <th>All</th>\n",
       "      <td>0 days 00:28:16.829000</td>\n",
       "      <td>00:09:02.024 00:10:12.574 [groovy Critical Rol...</td>\n",
       "      <td>00:38:29.403 00:38:36.493 (silence)</td>\n",
       "    </tr>\n",
       "    <tr>\n",
       "      <th>Ashley</th>\n",
       "      <td>0 days 00:22:51.858000</td>\n",
       "      <td>01:29:52.805 01:29:56.070 ASHLEY: That's a sha...</td>\n",
       "      <td>01:52:47.928 01:52:52.142 ASHLEY: (laughs) Fuc...</td>\n",
       "    </tr>\n",
       "    <tr>\n",
       "      <th>Sam</th>\n",
       "      <td>0 days 00:16:48.933000</td>\n",
       "      <td>01:34:36.744 01:34:43.404 SAM: No, it wasn't m...</td>\n",
       "      <td>01:51:32.337 01:51:36.033 SAM: Is Dolan gone? ...</td>\n",
       "    </tr>\n",
       "    <tr>\n",
       "      <th>Marisha</th>\n",
       "      <td>0 days 00:12:06.459000</td>\n",
       "      <td>00:04:54.268 00:04:57.503 MARISHA: So go pee, ...</td>\n",
       "      <td>00:17:03.962 00:17:06.120 MARISHA: Oh, Yasha f...</td>\n",
       "    </tr>\n",
       "    <tr>\n",
       "      <th>Liam</th>\n",
       "      <td>0 days 00:11:28.633000</td>\n",
       "      <td>00:27:19.054 00:27:24.044 LIAM: I will also st...</td>\n",
       "      <td>00:38:52.677 00:38:57.889 LIAM: (as Jester) Je...</td>\n",
       "    </tr>\n",
       "    <tr>\n",
       "      <th>Taliesin</th>\n",
       "      <td>0 days 00:10:05.904000</td>\n",
       "      <td>02:50:53.979 02:50:55.860 TALIESIN: Yeah, that...</td>\n",
       "      <td>03:01:01.764 03:01:09.412 TALIESIN: Hey, Beau....</td>\n",
       "    </tr>\n",
       "    <tr>\n",
       "      <th>Travis</th>\n",
       "      <td>0 days 00:07:21.792000</td>\n",
       "      <td>01:41:35.419 01:41:46.020 TRAVIS: And we have ...</td>\n",
       "      <td>01:49:07.812 01:49:09.360 TRAVIS: They're gett...</td>\n",
       "    </tr>\n",
       "    <tr>\n",
       "      <th>Matt</th>\n",
       "      <td>0 days 00:06:59.975000</td>\n",
       "      <td>01:41:46.020 01:42:05.201 MATT: A huge thank y...</td>\n",
       "      <td>01:49:05.176 01:49:07.812 MATT: Welcome back. ...</td>\n",
       "    </tr>\n",
       "    <tr>\n",
       "      <th>Joel</th>\n",
       "      <td>0 days 00:00:12.533000</td>\n",
       "      <td>01:38:56.030 01:39:06.651 JOEL: NOLA. So we're...</td>\n",
       "      <td>01:39:19.184 01:39:35.821 JOEL: Yeah, so we ha...</td>\n",
       "    </tr>\n",
       "  </tbody>\n",
       "</table>\n",
       "</div>"
      ],
      "text/plain": [
       "                       interval  \\\n",
       "All      0 days 00:28:16.829000   \n",
       "Ashley   0 days 00:22:51.858000   \n",
       "Sam      0 days 00:16:48.933000   \n",
       "Marisha  0 days 00:12:06.459000   \n",
       "Liam     0 days 00:11:28.633000   \n",
       "Taliesin 0 days 00:10:05.904000   \n",
       "Travis   0 days 00:07:21.792000   \n",
       "Matt     0 days 00:06:59.975000   \n",
       "Joel     0 days 00:00:12.533000   \n",
       "\n",
       "                                              starting_line  \\\n",
       "All       00:09:02.024 00:10:12.574 [groovy Critical Rol...   \n",
       "Ashley    01:29:52.805 01:29:56.070 ASHLEY: That's a sha...   \n",
       "Sam       01:34:36.744 01:34:43.404 SAM: No, it wasn't m...   \n",
       "Marisha   00:04:54.268 00:04:57.503 MARISHA: So go pee, ...   \n",
       "Liam      00:27:19.054 00:27:24.044 LIAM: I will also st...   \n",
       "Taliesin  02:50:53.979 02:50:55.860 TALIESIN: Yeah, that...   \n",
       "Travis    01:41:35.419 01:41:46.020 TRAVIS: And we have ...   \n",
       "Matt      01:41:46.020 01:42:05.201 MATT: A huge thank y...   \n",
       "Joel      01:38:56.030 01:39:06.651 JOEL: NOLA. So we're...   \n",
       "\n",
       "                                                ending_line  \n",
       "All                     00:38:29.403 00:38:36.493 (silence)  \n",
       "Ashley    01:52:47.928 01:52:52.142 ASHLEY: (laughs) Fuc...  \n",
       "Sam       01:51:32.337 01:51:36.033 SAM: Is Dolan gone? ...  \n",
       "Marisha   00:17:03.962 00:17:06.120 MARISHA: Oh, Yasha f...  \n",
       "Liam      00:38:52.677 00:38:57.889 LIAM: (as Jester) Je...  \n",
       "Taliesin  03:01:01.764 03:01:09.412 TALIESIN: Hey, Beau....  \n",
       "Travis    01:49:07.812 01:49:09.360 TRAVIS: They're gett...  \n",
       "Matt      01:49:05.176 01:49:07.812 MATT: Welcome back. ...  \n",
       "Joel      01:39:19.184 01:39:35.821 JOEL: Yeah, so we ha...  "
      ]
     },
     "metadata": {},
     "output_type": "display_data"
    },
    {
     "data": {
      "text/markdown": [
       "# Episode 15 - Where the River Goes"
      ],
      "text/plain": [
       "<IPython.core.display.Markdown object>"
      ]
     },
     "metadata": {},
     "output_type": "display_data"
    },
    {
     "data": {
      "text/html": [
       "<div>\n",
       "<style scoped>\n",
       "    .dataframe tbody tr th:only-of-type {\n",
       "        vertical-align: middle;\n",
       "    }\n",
       "\n",
       "    .dataframe tbody tr th {\n",
       "        vertical-align: top;\n",
       "    }\n",
       "\n",
       "    .dataframe thead th {\n",
       "        text-align: right;\n",
       "    }\n",
       "</style>\n",
       "<table border=\"1\" class=\"dataframe\">\n",
       "  <thead>\n",
       "    <tr style=\"text-align: right;\">\n",
       "      <th></th>\n",
       "      <th>interval</th>\n",
       "      <th>starting_line</th>\n",
       "      <th>ending_line</th>\n",
       "    </tr>\n",
       "  </thead>\n",
       "  <tbody>\n",
       "    <tr>\n",
       "      <th>All</th>\n",
       "      <td>0 days 00:29:37.611000</td>\n",
       "      <td>01:29:36.453 01:29:38.770 (laughter)</td>\n",
       "      <td>01:59:16.381 02:16:50.729 [break]</td>\n",
       "    </tr>\n",
       "    <tr>\n",
       "      <th>Ashley</th>\n",
       "      <td>0 days 00:24:06.753000</td>\n",
       "      <td>01:54:32.184 01:54:35.247 ASHLEY: Yep, that's ...</td>\n",
       "      <td>02:18:42.000 02:18:45.403 ASHLEY: Can I dig th...</td>\n",
       "    </tr>\n",
       "    <tr>\n",
       "      <th>Marisha</th>\n",
       "      <td>0 days 00:21:44.763000</td>\n",
       "      <td>01:55:56.321 01:55:57.640 MARISHA: Nice! That'...</td>\n",
       "      <td>02:17:42.403 02:17:47.431 MARISHA: I know. I d...</td>\n",
       "    </tr>\n",
       "    <tr>\n",
       "      <th>Laura</th>\n",
       "      <td>0 days 00:21:14.011000</td>\n",
       "      <td>01:56:20.512 01:56:23.036 LAURA: I should have...</td>\n",
       "      <td>02:17:37.047 02:17:42.363 LAURA: Those guys we...</td>\n",
       "    </tr>\n",
       "    <tr>\n",
       "      <th>Taliesin</th>\n",
       "      <td>0 days 00:20:00.021000</td>\n",
       "      <td>01:58:28.960 01:58:32.794 TALIESIN: I'm going ...</td>\n",
       "      <td>02:18:32.815 02:18:35.406 TALIESIN: I was goin...</td>\n",
       "    </tr>\n",
       "    <tr>\n",
       "      <th>Liam</th>\n",
       "      <td>0 days 00:19:43.641000</td>\n",
       "      <td>01:58:24.969 01:58:26.592 LIAM: Oh shit, that'...</td>\n",
       "      <td>02:18:10.233 02:18:11.940 LIAM: Don't strain a...</td>\n",
       "    </tr>\n",
       "    <tr>\n",
       "      <th>Sam</th>\n",
       "      <td>0 days 00:19:21.427000</td>\n",
       "      <td>01:58:26.592 01:58:28.960 SAM: That was amazing!</td>\n",
       "      <td>02:17:50.387 02:17:52.661 SAM: I'm desperately...</td>\n",
       "    </tr>\n",
       "    <tr>\n",
       "      <th>Travis</th>\n",
       "      <td>0 days 00:18:57.963000</td>\n",
       "      <td>01:58:02.328 01:58:03.544 TRAVIS: Ugh, it's in...</td>\n",
       "      <td>02:17:01.507 02:17:03.655 TRAVIS: TheMostJost!</td>\n",
       "    </tr>\n",
       "    <tr>\n",
       "      <th>Matt</th>\n",
       "      <td>0 days 00:17:34.970000</td>\n",
       "      <td>01:58:32.794 01:59:16.381 MATT: All right. And...</td>\n",
       "      <td>02:16:51.351 02:17:01.507 MATT: Hello, and wel...</td>\n",
       "    </tr>\n",
       "  </tbody>\n",
       "</table>\n",
       "</div>"
      ],
      "text/plain": [
       "                       interval  \\\n",
       "All      0 days 00:29:37.611000   \n",
       "Ashley   0 days 00:24:06.753000   \n",
       "Marisha  0 days 00:21:44.763000   \n",
       "Laura    0 days 00:21:14.011000   \n",
       "Taliesin 0 days 00:20:00.021000   \n",
       "Liam     0 days 00:19:43.641000   \n",
       "Sam      0 days 00:19:21.427000   \n",
       "Travis   0 days 00:18:57.963000   \n",
       "Matt     0 days 00:17:34.970000   \n",
       "\n",
       "                                              starting_line  \\\n",
       "All                    01:29:36.453 01:29:38.770 (laughter)   \n",
       "Ashley    01:54:32.184 01:54:35.247 ASHLEY: Yep, that's ...   \n",
       "Marisha   01:55:56.321 01:55:57.640 MARISHA: Nice! That'...   \n",
       "Laura     01:56:20.512 01:56:23.036 LAURA: I should have...   \n",
       "Taliesin  01:58:28.960 01:58:32.794 TALIESIN: I'm going ...   \n",
       "Liam      01:58:24.969 01:58:26.592 LIAM: Oh shit, that'...   \n",
       "Sam        01:58:26.592 01:58:28.960 SAM: That was amazing!   \n",
       "Travis    01:58:02.328 01:58:03.544 TRAVIS: Ugh, it's in...   \n",
       "Matt      01:58:32.794 01:59:16.381 MATT: All right. And...   \n",
       "\n",
       "                                                ending_line  \n",
       "All                       01:59:16.381 02:16:50.729 [break]  \n",
       "Ashley    02:18:42.000 02:18:45.403 ASHLEY: Can I dig th...  \n",
       "Marisha   02:17:42.403 02:17:47.431 MARISHA: I know. I d...  \n",
       "Laura     02:17:37.047 02:17:42.363 LAURA: Those guys we...  \n",
       "Taliesin  02:18:32.815 02:18:35.406 TALIESIN: I was goin...  \n",
       "Liam      02:18:10.233 02:18:11.940 LIAM: Don't strain a...  \n",
       "Sam       02:17:50.387 02:17:52.661 SAM: I'm desperately...  \n",
       "Travis       02:17:01.507 02:17:03.655 TRAVIS: TheMostJost!  \n",
       "Matt      02:16:51.351 02:17:01.507 MATT: Hello, and wel...  "
      ]
     },
     "metadata": {},
     "output_type": "display_data"
    },
    {
     "data": {
      "text/markdown": [
       "# Episode 16 - A Favor in Kind"
      ],
      "text/plain": [
       "<IPython.core.display.Markdown object>"
      ]
     },
     "metadata": {},
     "output_type": "display_data"
    },
    {
     "data": {
      "text/html": [
       "<div>\n",
       "<style scoped>\n",
       "    .dataframe tbody tr th:only-of-type {\n",
       "        vertical-align: middle;\n",
       "    }\n",
       "\n",
       "    .dataframe tbody tr th {\n",
       "        vertical-align: top;\n",
       "    }\n",
       "\n",
       "    .dataframe thead th {\n",
       "        text-align: right;\n",
       "    }\n",
       "</style>\n",
       "<table border=\"1\" class=\"dataframe\">\n",
       "  <thead>\n",
       "    <tr style=\"text-align: right;\">\n",
       "      <th></th>\n",
       "      <th>interval</th>\n",
       "      <th>starting_line</th>\n",
       "      <th>ending_line</th>\n",
       "    </tr>\n",
       "  </thead>\n",
       "  <tbody>\n",
       "    <tr>\n",
       "      <th>Ashley</th>\n",
       "      <td>0 days 00:29:30.636000</td>\n",
       "      <td>01:50:25.264 01:50:26.416 ASHLEY: Much better.</td>\n",
       "      <td>02:19:57.052 02:19:59.860 ASHLEY: I would like...</td>\n",
       "    </tr>\n",
       "    <tr>\n",
       "      <th>Taliesin</th>\n",
       "      <td>0 days 00:28:01.512000</td>\n",
       "      <td>03:22:26.621 03:22:29.973 TALIESIN: Oh yeah, l...</td>\n",
       "      <td>03:50:31.485 03:50:33.575 TALIESIN: What's it ...</td>\n",
       "    </tr>\n",
       "    <tr>\n",
       "      <th>All</th>\n",
       "      <td>0 days 00:27:43.845000</td>\n",
       "      <td>01:20:25.372 01:20:28.986 (exclamations of sur...</td>\n",
       "      <td>01:48:12.831 01:48:15.074 (gasping)</td>\n",
       "    </tr>\n",
       "    <tr>\n",
       "      <th>Liam</th>\n",
       "      <td>0 days 00:19:26.219000</td>\n",
       "      <td>02:00:49.058 02:00:50.757 LIAM: It's the same ...</td>\n",
       "      <td>02:20:16.976 02:20:22.754 LIAM: That is not co...</td>\n",
       "    </tr>\n",
       "    <tr>\n",
       "      <th>Sam</th>\n",
       "      <td>0 days 00:19:12.826000</td>\n",
       "      <td>02:00:37.545 02:00:41.094 SAM: (singing) Every...</td>\n",
       "      <td>02:19:53.920 02:19:55.374 SAM: Oh, we did a lo...</td>\n",
       "    </tr>\n",
       "    <tr>\n",
       "      <th>Laura</th>\n",
       "      <td>0 days 00:18:56.030000</td>\n",
       "      <td>02:00:56.745 02:00:59.344 LAURA: Sorry, I want...</td>\n",
       "      <td>02:19:55.374 02:19:57.052 LAURA: Yes, we did a...</td>\n",
       "    </tr>\n",
       "    <tr>\n",
       "      <th>Marisha</th>\n",
       "      <td>0 days 00:18:52.627000</td>\n",
       "      <td>02:00:50.757 02:00:52.924 MARISHA: Crack into ...</td>\n",
       "      <td>02:19:45.551 02:19:49.991 MARISHA: I do a few ...</td>\n",
       "    </tr>\n",
       "    <tr>\n",
       "      <th>Travis</th>\n",
       "      <td>0 days 00:12:33.232000</td>\n",
       "      <td>02:06:32.765 02:06:34.269 TRAVIS: Oh, you craz...</td>\n",
       "      <td>02:19:07.501 02:19:09.566 TRAVIS: Wow, good ca...</td>\n",
       "    </tr>\n",
       "    <tr>\n",
       "      <th>Matt</th>\n",
       "      <td>0 days 00:12:29.514000</td>\n",
       "      <td>02:06:34.269 02:06:35.349 MATT: (evil laughter)</td>\n",
       "      <td>02:19:04.863 02:19:07.501 MATT: Welcome back e...</td>\n",
       "    </tr>\n",
       "  </tbody>\n",
       "</table>\n",
       "</div>"
      ],
      "text/plain": [
       "                       interval  \\\n",
       "Ashley   0 days 00:29:30.636000   \n",
       "Taliesin 0 days 00:28:01.512000   \n",
       "All      0 days 00:27:43.845000   \n",
       "Liam     0 days 00:19:26.219000   \n",
       "Sam      0 days 00:19:12.826000   \n",
       "Laura    0 days 00:18:56.030000   \n",
       "Marisha  0 days 00:18:52.627000   \n",
       "Travis   0 days 00:12:33.232000   \n",
       "Matt     0 days 00:12:29.514000   \n",
       "\n",
       "                                              starting_line  \\\n",
       "Ashley       01:50:25.264 01:50:26.416 ASHLEY: Much better.   \n",
       "Taliesin  03:22:26.621 03:22:29.973 TALIESIN: Oh yeah, l...   \n",
       "All       01:20:25.372 01:20:28.986 (exclamations of sur...   \n",
       "Liam      02:00:49.058 02:00:50.757 LIAM: It's the same ...   \n",
       "Sam       02:00:37.545 02:00:41.094 SAM: (singing) Every...   \n",
       "Laura     02:00:56.745 02:00:59.344 LAURA: Sorry, I want...   \n",
       "Marisha   02:00:50.757 02:00:52.924 MARISHA: Crack into ...   \n",
       "Travis    02:06:32.765 02:06:34.269 TRAVIS: Oh, you craz...   \n",
       "Matt        02:06:34.269 02:06:35.349 MATT: (evil laughter)   \n",
       "\n",
       "                                                ending_line  \n",
       "Ashley    02:19:57.052 02:19:59.860 ASHLEY: I would like...  \n",
       "Taliesin  03:50:31.485 03:50:33.575 TALIESIN: What's it ...  \n",
       "All                     01:48:12.831 01:48:15.074 (gasping)  \n",
       "Liam      02:20:16.976 02:20:22.754 LIAM: That is not co...  \n",
       "Sam       02:19:53.920 02:19:55.374 SAM: Oh, we did a lo...  \n",
       "Laura     02:19:55.374 02:19:57.052 LAURA: Yes, we did a...  \n",
       "Marisha   02:19:45.551 02:19:49.991 MARISHA: I do a few ...  \n",
       "Travis    02:19:07.501 02:19:09.566 TRAVIS: Wow, good ca...  \n",
       "Matt      02:19:04.863 02:19:07.501 MATT: Welcome back e...  "
      ]
     },
     "metadata": {},
     "output_type": "display_data"
    },
    {
     "data": {
      "text/markdown": [
       "# Episode 17 - Harvest Close"
      ],
      "text/plain": [
       "<IPython.core.display.Markdown object>"
      ]
     },
     "metadata": {},
     "output_type": "display_data"
    },
    {
     "data": {
      "text/html": [
       "<div>\n",
       "<style scoped>\n",
       "    .dataframe tbody tr th:only-of-type {\n",
       "        vertical-align: middle;\n",
       "    }\n",
       "\n",
       "    .dataframe tbody tr th {\n",
       "        vertical-align: top;\n",
       "    }\n",
       "\n",
       "    .dataframe thead th {\n",
       "        text-align: right;\n",
       "    }\n",
       "</style>\n",
       "<table border=\"1\" class=\"dataframe\">\n",
       "  <thead>\n",
       "    <tr style=\"text-align: right;\">\n",
       "      <th></th>\n",
       "      <th>interval</th>\n",
       "      <th>starting_line</th>\n",
       "      <th>ending_line</th>\n",
       "    </tr>\n",
       "  </thead>\n",
       "  <tbody>\n",
       "    <tr>\n",
       "      <th>Taliesin</th>\n",
       "      <td>0 days 00:23:24.236000</td>\n",
       "      <td>01:49:11.024 01:49:15.727 TALIESIN: I think th...</td>\n",
       "      <td>02:12:39.963 02:12:41.355 TALIESIN: Oh, I thin...</td>\n",
       "    </tr>\n",
       "    <tr>\n",
       "      <th>All</th>\n",
       "      <td>0 days 00:21:50.079000</td>\n",
       "      <td>02:34:39.117 02:34:41.273 (laughter)</td>\n",
       "      <td>02:56:31.352 02:56:33.475 ALL: What?!</td>\n",
       "    </tr>\n",
       "    <tr>\n",
       "      <th>Ashley</th>\n",
       "      <td>0 days 00:21:48.760000</td>\n",
       "      <td>01:55:54.720 01:55:56.206 ASHLEY: What did you...</td>\n",
       "      <td>02:17:44.966 02:17:48.642 ASHLEY: What are we ...</td>\n",
       "    </tr>\n",
       "    <tr>\n",
       "      <th>Liam</th>\n",
       "      <td>0 days 00:16:43.686000</td>\n",
       "      <td>01:56:51.940 01:56:53.699 LIAM: (sniffs)</td>\n",
       "      <td>02:13:37.385 02:13:40.884 LIAM: I'm also curio...</td>\n",
       "    </tr>\n",
       "    <tr>\n",
       "      <th>Marisha</th>\n",
       "      <td>0 days 00:16:32.555000</td>\n",
       "      <td>01:56:50.661 01:56:51.940 MARISHA: You look go...</td>\n",
       "      <td>02:13:24.495 02:13:28.812 MARISHA: Hey, what d...</td>\n",
       "    </tr>\n",
       "    <tr>\n",
       "      <th>Sam</th>\n",
       "      <td>0 days 00:16:08.569000</td>\n",
       "      <td>01:57:25.532 01:57:27.468 SAM: Aw, man. What a...</td>\n",
       "      <td>02:13:36.037 02:13:37.385 SAM: Yes, very.</td>\n",
       "    </tr>\n",
       "    <tr>\n",
       "      <th>Travis</th>\n",
       "      <td>0 days 00:15:52.189000</td>\n",
       "      <td>01:56:53.699 01:56:56.806 TRAVIS: Okay, shall ...</td>\n",
       "      <td>02:12:48.995 02:12:51.879 TRAVIS: Yeah, we'd l...</td>\n",
       "    </tr>\n",
       "    <tr>\n",
       "      <th>Laura</th>\n",
       "      <td>0 days 00:14:51.373000</td>\n",
       "      <td>01:57:43.120 01:57:44.885 LAURA: Aren't those ...</td>\n",
       "      <td>02:12:36.258 02:12:39.963 LAURA: Should we go ...</td>\n",
       "    </tr>\n",
       "    <tr>\n",
       "      <th>Matt</th>\n",
       "      <td>0 days 00:12:59.139000</td>\n",
       "      <td>01:57:44.885 01:58:12.665 MATT: That is, actua...</td>\n",
       "      <td>02:11:11.804 02:12:36.258 MATT: You guys are s...</td>\n",
       "    </tr>\n",
       "  </tbody>\n",
       "</table>\n",
       "</div>"
      ],
      "text/plain": [
       "                       interval  \\\n",
       "Taliesin 0 days 00:23:24.236000   \n",
       "All      0 days 00:21:50.079000   \n",
       "Ashley   0 days 00:21:48.760000   \n",
       "Liam     0 days 00:16:43.686000   \n",
       "Marisha  0 days 00:16:32.555000   \n",
       "Sam      0 days 00:16:08.569000   \n",
       "Travis   0 days 00:15:52.189000   \n",
       "Laura    0 days 00:14:51.373000   \n",
       "Matt     0 days 00:12:59.139000   \n",
       "\n",
       "                                              starting_line  \\\n",
       "Taliesin  01:49:11.024 01:49:15.727 TALIESIN: I think th...   \n",
       "All                    02:34:39.117 02:34:41.273 (laughter)   \n",
       "Ashley    01:55:54.720 01:55:56.206 ASHLEY: What did you...   \n",
       "Liam               01:56:51.940 01:56:53.699 LIAM: (sniffs)   \n",
       "Marisha   01:56:50.661 01:56:51.940 MARISHA: You look go...   \n",
       "Sam       01:57:25.532 01:57:27.468 SAM: Aw, man. What a...   \n",
       "Travis    01:56:53.699 01:56:56.806 TRAVIS: Okay, shall ...   \n",
       "Laura     01:57:43.120 01:57:44.885 LAURA: Aren't those ...   \n",
       "Matt      01:57:44.885 01:58:12.665 MATT: That is, actua...   \n",
       "\n",
       "                                                ending_line  \n",
       "Taliesin  02:12:39.963 02:12:41.355 TALIESIN: Oh, I thin...  \n",
       "All                   02:56:31.352 02:56:33.475 ALL: What?!  \n",
       "Ashley    02:17:44.966 02:17:48.642 ASHLEY: What are we ...  \n",
       "Liam      02:13:37.385 02:13:40.884 LIAM: I'm also curio...  \n",
       "Marisha   02:13:24.495 02:13:28.812 MARISHA: Hey, what d...  \n",
       "Sam               02:13:36.037 02:13:37.385 SAM: Yes, very.  \n",
       "Travis    02:12:48.995 02:12:51.879 TRAVIS: Yeah, we'd l...  \n",
       "Laura     02:12:36.258 02:12:39.963 LAURA: Should we go ...  \n",
       "Matt      02:11:11.804 02:12:36.258 MATT: You guys are s...  "
      ]
     },
     "metadata": {},
     "output_type": "display_data"
    },
    {
     "data": {
      "text/markdown": [
       "# Episode 18 - Whispers of War"
      ],
      "text/plain": [
       "<IPython.core.display.Markdown object>"
      ]
     },
     "metadata": {},
     "output_type": "display_data"
    },
    {
     "data": {
      "text/html": [
       "<div>\n",
       "<style scoped>\n",
       "    .dataframe tbody tr th:only-of-type {\n",
       "        vertical-align: middle;\n",
       "    }\n",
       "\n",
       "    .dataframe tbody tr th {\n",
       "        vertical-align: top;\n",
       "    }\n",
       "\n",
       "    .dataframe thead th {\n",
       "        text-align: right;\n",
       "    }\n",
       "</style>\n",
       "<table border=\"1\" class=\"dataframe\">\n",
       "  <thead>\n",
       "    <tr style=\"text-align: right;\">\n",
       "      <th></th>\n",
       "      <th>interval</th>\n",
       "      <th>starting_line</th>\n",
       "      <th>ending_line</th>\n",
       "    </tr>\n",
       "  </thead>\n",
       "  <tbody>\n",
       "    <tr>\n",
       "      <th>All</th>\n",
       "      <td>0 days 01:02:54.076000</td>\n",
       "      <td>03:05:21.251 03:05:25.109 (laughter)</td>\n",
       "      <td>04:08:19.185 04:08:22.029 (groaning)</td>\n",
       "    </tr>\n",
       "    <tr>\n",
       "      <th>Ashley</th>\n",
       "      <td>0 days 00:27:05.907000</td>\n",
       "      <td>02:37:54.977 02:37:57.254 ASHLEY: Okay.</td>\n",
       "      <td>03:05:03.161 03:05:05.079 ASHLEY: We were goin...</td>\n",
       "    </tr>\n",
       "    <tr>\n",
       "      <th>Taliesin</th>\n",
       "      <td>0 days 00:25:18.105000</td>\n",
       "      <td>02:37:45.440 02:37:47.605 TALIESIN: (loud gigg...</td>\n",
       "      <td>03:03:05.710 03:03:08.066 TALIESIN: Oh, is the...</td>\n",
       "    </tr>\n",
       "    <tr>\n",
       "      <th>Travis</th>\n",
       "      <td>0 days 00:22:16.616000</td>\n",
       "      <td>02:42:59.593 02:43:02.408 TRAVIS: (yelling)</td>\n",
       "      <td>03:05:19.024 03:05:21.251 TRAVIS: Can I ask fo...</td>\n",
       "    </tr>\n",
       "    <tr>\n",
       "      <th>Laura</th>\n",
       "      <td>0 days 00:22:10.172000</td>\n",
       "      <td>02:42:40.312 02:42:45.306 LAURA: Bitch! Fine, ...</td>\n",
       "      <td>03:04:55.478 03:04:57.724 LAURA: Oh no, we mis...</td>\n",
       "    </tr>\n",
       "    <tr>\n",
       "      <th>Matt</th>\n",
       "      <td>0 days 00:19:26.289000</td>\n",
       "      <td>02:42:50.177 02:42:54.589 MATT: Oh, sure. Well...</td>\n",
       "      <td>03:02:20.878 03:02:29.116 MATT: Can we retriev...</td>\n",
       "    </tr>\n",
       "    <tr>\n",
       "      <th>Liam</th>\n",
       "      <td>0 days 00:19:08.456000</td>\n",
       "      <td>01:49:10.013 01:49:15.151 LIAM: Yes.\\nTALIESIN...</td>\n",
       "      <td>02:08:23.607 02:08:28.152 LIAM: Very obviously...</td>\n",
       "    </tr>\n",
       "    <tr>\n",
       "      <th>Sam</th>\n",
       "      <td>0 days 00:18:45.749000</td>\n",
       "      <td>01:50:15.240 01:50:16.411 SAM: It's still your...</td>\n",
       "      <td>02:09:02.160 02:09:07.152 SAM: I mean, we're g...</td>\n",
       "    </tr>\n",
       "    <tr>\n",
       "      <th>Marisha</th>\n",
       "      <td>0 days 00:17:19.836000</td>\n",
       "      <td>01:50:09.188 01:50:12.594 MARISHA: We're at a ...</td>\n",
       "      <td>02:07:32.430 02:07:35.518 MARISHA: And thank y...</td>\n",
       "    </tr>\n",
       "  </tbody>\n",
       "</table>\n",
       "</div>"
      ],
      "text/plain": [
       "                       interval  \\\n",
       "All      0 days 01:02:54.076000   \n",
       "Ashley   0 days 00:27:05.907000   \n",
       "Taliesin 0 days 00:25:18.105000   \n",
       "Travis   0 days 00:22:16.616000   \n",
       "Laura    0 days 00:22:10.172000   \n",
       "Matt     0 days 00:19:26.289000   \n",
       "Liam     0 days 00:19:08.456000   \n",
       "Sam      0 days 00:18:45.749000   \n",
       "Marisha  0 days 00:17:19.836000   \n",
       "\n",
       "                                              starting_line  \\\n",
       "All                    03:05:21.251 03:05:25.109 (laughter)   \n",
       "Ashley              02:37:54.977 02:37:57.254 ASHLEY: Okay.   \n",
       "Taliesin  02:37:45.440 02:37:47.605 TALIESIN: (loud gigg...   \n",
       "Travis          02:42:59.593 02:43:02.408 TRAVIS: (yelling)   \n",
       "Laura     02:42:40.312 02:42:45.306 LAURA: Bitch! Fine, ...   \n",
       "Matt      02:42:50.177 02:42:54.589 MATT: Oh, sure. Well...   \n",
       "Liam      01:49:10.013 01:49:15.151 LIAM: Yes.\\nTALIESIN...   \n",
       "Sam       01:50:15.240 01:50:16.411 SAM: It's still your...   \n",
       "Marisha   01:50:09.188 01:50:12.594 MARISHA: We're at a ...   \n",
       "\n",
       "                                                ending_line  \n",
       "All                    04:08:19.185 04:08:22.029 (groaning)  \n",
       "Ashley    03:05:03.161 03:05:05.079 ASHLEY: We were goin...  \n",
       "Taliesin  03:03:05.710 03:03:08.066 TALIESIN: Oh, is the...  \n",
       "Travis    03:05:19.024 03:05:21.251 TRAVIS: Can I ask fo...  \n",
       "Laura     03:04:55.478 03:04:57.724 LAURA: Oh no, we mis...  \n",
       "Matt      03:02:20.878 03:02:29.116 MATT: Can we retriev...  \n",
       "Liam      02:08:23.607 02:08:28.152 LIAM: Very obviously...  \n",
       "Sam       02:09:02.160 02:09:07.152 SAM: I mean, we're g...  \n",
       "Marisha   02:07:32.430 02:07:35.518 MARISHA: And thank y...  "
      ]
     },
     "metadata": {},
     "output_type": "display_data"
    },
    {
     "data": {
      "text/markdown": [
       "# Episode 19 - The Gentleman's Path"
      ],
      "text/plain": [
       "<IPython.core.display.Markdown object>"
      ]
     },
     "metadata": {},
     "output_type": "display_data"
    },
    {
     "data": {
      "text/html": [
       "<div>\n",
       "<style scoped>\n",
       "    .dataframe tbody tr th:only-of-type {\n",
       "        vertical-align: middle;\n",
       "    }\n",
       "\n",
       "    .dataframe tbody tr th {\n",
       "        vertical-align: top;\n",
       "    }\n",
       "\n",
       "    .dataframe thead th {\n",
       "        text-align: right;\n",
       "    }\n",
       "</style>\n",
       "<table border=\"1\" class=\"dataframe\">\n",
       "  <thead>\n",
       "    <tr style=\"text-align: right;\">\n",
       "      <th></th>\n",
       "      <th>interval</th>\n",
       "      <th>starting_line</th>\n",
       "      <th>ending_line</th>\n",
       "    </tr>\n",
       "  </thead>\n",
       "  <tbody>\n",
       "    <tr>\n",
       "      <th>All</th>\n",
       "      <td>0 days 00:36:06.120000</td>\n",
       "      <td>01:59:28.158 02:19:18.839 [break]</td>\n",
       "      <td>02:55:24.959 02:55:30.800 (counting)</td>\n",
       "    </tr>\n",
       "    <tr>\n",
       "      <th>Taliesin</th>\n",
       "      <td>0 days 00:26:47.299000</td>\n",
       "      <td>01:54:41.133 01:54:42.977 TALIESIN: That's lov...</td>\n",
       "      <td>02:21:30.276 02:21:31.044 TALIESIN: 16.</td>\n",
       "    </tr>\n",
       "    <tr>\n",
       "      <th>Ashley</th>\n",
       "      <td>0 days 00:23:17.159000</td>\n",
       "      <td>01:58:14.726 01:58:16.116 ASHLEY: It did! I go...</td>\n",
       "      <td>02:21:33.275 02:21:43.311 ASHLEY: It's really ...</td>\n",
       "    </tr>\n",
       "    <tr>\n",
       "      <th>Laura</th>\n",
       "      <td>0 days 00:22:25.271000</td>\n",
       "      <td>01:57:16.167 01:57:17.765 LAURA: Or a sleep ar...</td>\n",
       "      <td>02:19:43.036 02:19:49.440 LAURA: At least we g...</td>\n",
       "    </tr>\n",
       "    <tr>\n",
       "      <th>Travis</th>\n",
       "      <td>0 days 00:22:25.146000</td>\n",
       "      <td>01:57:14.354 01:57:16.167 TRAVIS: Poison arrow.</td>\n",
       "      <td>02:19:41.313 02:19:43.036 TRAVIS: Bring it out!</td>\n",
       "    </tr>\n",
       "    <tr>\n",
       "      <th>Marisha</th>\n",
       "      <td>0 days 00:21:23.401000</td>\n",
       "      <td>01:59:07.479 01:59:24.655 MARISHA: And stay tu...</td>\n",
       "      <td>02:20:48.056 02:20:52.250 MARISHA: Here we go!...</td>\n",
       "    </tr>\n",
       "    <tr>\n",
       "      <th>Sam</th>\n",
       "      <td>0 days 00:21:11.488000</td>\n",
       "      <td>01:58:33.858 01:58:37.952 SAM: Never going to ...</td>\n",
       "      <td>02:19:49.440 02:19:56.497 SAM: Anyway Caleb, t...</td>\n",
       "    </tr>\n",
       "    <tr>\n",
       "      <th>Liam</th>\n",
       "      <td>0 days 00:21:10.835000</td>\n",
       "      <td>01:58:47.661 01:58:48.995 LIAM: Matt's wood.</td>\n",
       "      <td>02:19:59.830 02:20:01.730 LIAM: There's big pe...</td>\n",
       "    </tr>\n",
       "    <tr>\n",
       "      <th>Matt</th>\n",
       "      <td>0 days 00:19:50.773000</td>\n",
       "      <td>01:59:24.655 01:59:28.158 MATT: Thank you. We'...</td>\n",
       "      <td>02:19:18.931 02:19:41.313 MATT: Welcome back, ...</td>\n",
       "    </tr>\n",
       "  </tbody>\n",
       "</table>\n",
       "</div>"
      ],
      "text/plain": [
       "                       interval  \\\n",
       "All      0 days 00:36:06.120000   \n",
       "Taliesin 0 days 00:26:47.299000   \n",
       "Ashley   0 days 00:23:17.159000   \n",
       "Laura    0 days 00:22:25.271000   \n",
       "Travis   0 days 00:22:25.146000   \n",
       "Marisha  0 days 00:21:23.401000   \n",
       "Sam      0 days 00:21:11.488000   \n",
       "Liam     0 days 00:21:10.835000   \n",
       "Matt     0 days 00:19:50.773000   \n",
       "\n",
       "                                              starting_line  \\\n",
       "All                       01:59:28.158 02:19:18.839 [break]   \n",
       "Taliesin  01:54:41.133 01:54:42.977 TALIESIN: That's lov...   \n",
       "Ashley    01:58:14.726 01:58:16.116 ASHLEY: It did! I go...   \n",
       "Laura     01:57:16.167 01:57:17.765 LAURA: Or a sleep ar...   \n",
       "Travis      01:57:14.354 01:57:16.167 TRAVIS: Poison arrow.   \n",
       "Marisha   01:59:07.479 01:59:24.655 MARISHA: And stay tu...   \n",
       "Sam       01:58:33.858 01:58:37.952 SAM: Never going to ...   \n",
       "Liam           01:58:47.661 01:58:48.995 LIAM: Matt's wood.   \n",
       "Matt      01:59:24.655 01:59:28.158 MATT: Thank you. We'...   \n",
       "\n",
       "                                                ending_line  \n",
       "All                    02:55:24.959 02:55:30.800 (counting)  \n",
       "Taliesin            02:21:30.276 02:21:31.044 TALIESIN: 16.  \n",
       "Ashley    02:21:33.275 02:21:43.311 ASHLEY: It's really ...  \n",
       "Laura     02:19:43.036 02:19:49.440 LAURA: At least we g...  \n",
       "Travis      02:19:41.313 02:19:43.036 TRAVIS: Bring it out!  \n",
       "Marisha   02:20:48.056 02:20:52.250 MARISHA: Here we go!...  \n",
       "Sam       02:19:49.440 02:19:56.497 SAM: Anyway Caleb, t...  \n",
       "Liam      02:19:59.830 02:20:01.730 LIAM: There's big pe...  \n",
       "Matt      02:19:18.931 02:19:41.313 MATT: Welcome back, ...  "
      ]
     },
     "metadata": {},
     "output_type": "display_data"
    },
    {
     "data": {
      "text/markdown": [
       "# Episode 20 - Labenda Awaits"
      ],
      "text/plain": [
       "<IPython.core.display.Markdown object>"
      ]
     },
     "metadata": {},
     "output_type": "display_data"
    },
    {
     "data": {
      "text/html": [
       "<div>\n",
       "<style scoped>\n",
       "    .dataframe tbody tr th:only-of-type {\n",
       "        vertical-align: middle;\n",
       "    }\n",
       "\n",
       "    .dataframe tbody tr th {\n",
       "        vertical-align: top;\n",
       "    }\n",
       "\n",
       "    .dataframe thead th {\n",
       "        text-align: right;\n",
       "    }\n",
       "</style>\n",
       "<table border=\"1\" class=\"dataframe\">\n",
       "  <thead>\n",
       "    <tr style=\"text-align: right;\">\n",
       "      <th></th>\n",
       "      <th>interval</th>\n",
       "      <th>starting_line</th>\n",
       "      <th>ending_line</th>\n",
       "    </tr>\n",
       "  </thead>\n",
       "  <tbody>\n",
       "    <tr>\n",
       "      <th>All</th>\n",
       "      <td>0 days 00:30:35.419000</td>\n",
       "      <td>01:06:36.102 01:06:37.830 (laughter)</td>\n",
       "      <td>01:37:13.249 01:37:15.698 (gasping)</td>\n",
       "    </tr>\n",
       "    <tr>\n",
       "      <th>Ashley</th>\n",
       "      <td>0 days 00:15:45.568000</td>\n",
       "      <td>02:02:08.822 02:02:10.020 ASHLEY: Perfect. Yea...</td>\n",
       "      <td>02:17:55.588 02:17:58.812 ASHLEY: It's like a ...</td>\n",
       "    </tr>\n",
       "    <tr>\n",
       "      <th>Laura</th>\n",
       "      <td>0 days 00:11:05.140000</td>\n",
       "      <td>00:48:19.581 00:48:24.323 LAURA: Shit! Storm!</td>\n",
       "      <td>00:59:29.463 00:59:32.188 LAURA: That's not th...</td>\n",
       "    </tr>\n",
       "    <tr>\n",
       "      <th>Taliesin</th>\n",
       "      <td>0 days 00:10:31.585000</td>\n",
       "      <td>00:46:58.754 00:47:00.436 TALIESIN: At least I...</td>\n",
       "      <td>00:57:32.021 00:57:33.947 TALIESIN: Pistachio ...</td>\n",
       "    </tr>\n",
       "    <tr>\n",
       "      <th>Liam</th>\n",
       "      <td>0 days 00:10:12.462000</td>\n",
       "      <td>01:51:58.643 01:52:00.412 LIAM: +2 on your AC.</td>\n",
       "      <td>02:02:12.874 02:02:18.783 LIAM: Ja, it seems l...</td>\n",
       "    </tr>\n",
       "    <tr>\n",
       "      <th>Marisha</th>\n",
       "      <td>0 days 00:09:45.698000</td>\n",
       "      <td>00:04:39.051 00:04:39.627 MARISHA: Exactly!</td>\n",
       "      <td>00:14:25.325 00:14:26.762 MARISHA: Yeah, it's ...</td>\n",
       "    </tr>\n",
       "    <tr>\n",
       "      <th>Travis</th>\n",
       "      <td>0 days 00:09:13.932000</td>\n",
       "      <td>00:47:19.887 00:47:23.077 TRAVIS: Which was Mo...</td>\n",
       "      <td>00:56:37.009 00:56:38.568 TRAVIS: Did she go b...</td>\n",
       "    </tr>\n",
       "    <tr>\n",
       "      <th>Sam</th>\n",
       "      <td>0 days 00:08:37.281000</td>\n",
       "      <td>00:48:16.470 00:48:18.214 SAM: What?!</td>\n",
       "      <td>00:56:55.495 00:57:00.785 SAM: So was she a Xh...</td>\n",
       "    </tr>\n",
       "    <tr>\n",
       "      <th>Matt</th>\n",
       "      <td>0 days 00:05:19.074000</td>\n",
       "      <td>03:18:45.206 03:18:47.742 MATT: That was Kiri.</td>\n",
       "      <td>03:24:06.816 03:24:09.383 MATT: (like Beau) \"O...</td>\n",
       "    </tr>\n",
       "  </tbody>\n",
       "</table>\n",
       "</div>"
      ],
      "text/plain": [
       "                       interval  \\\n",
       "All      0 days 00:30:35.419000   \n",
       "Ashley   0 days 00:15:45.568000   \n",
       "Laura    0 days 00:11:05.140000   \n",
       "Taliesin 0 days 00:10:31.585000   \n",
       "Liam     0 days 00:10:12.462000   \n",
       "Marisha  0 days 00:09:45.698000   \n",
       "Travis   0 days 00:09:13.932000   \n",
       "Sam      0 days 00:08:37.281000   \n",
       "Matt     0 days 00:05:19.074000   \n",
       "\n",
       "                                              starting_line  \\\n",
       "All                    01:06:36.102 01:06:37.830 (laughter)   \n",
       "Ashley    02:02:08.822 02:02:10.020 ASHLEY: Perfect. Yea...   \n",
       "Laura         00:48:19.581 00:48:24.323 LAURA: Shit! Storm!   \n",
       "Taliesin  00:46:58.754 00:47:00.436 TALIESIN: At least I...   \n",
       "Liam         01:51:58.643 01:52:00.412 LIAM: +2 on your AC.   \n",
       "Marisha         00:04:39.051 00:04:39.627 MARISHA: Exactly!   \n",
       "Travis    00:47:19.887 00:47:23.077 TRAVIS: Which was Mo...   \n",
       "Sam                   00:48:16.470 00:48:18.214 SAM: What?!   \n",
       "Matt         03:18:45.206 03:18:47.742 MATT: That was Kiri.   \n",
       "\n",
       "                                                ending_line  \n",
       "All                     01:37:13.249 01:37:15.698 (gasping)  \n",
       "Ashley    02:17:55.588 02:17:58.812 ASHLEY: It's like a ...  \n",
       "Laura     00:59:29.463 00:59:32.188 LAURA: That's not th...  \n",
       "Taliesin  00:57:32.021 00:57:33.947 TALIESIN: Pistachio ...  \n",
       "Liam      02:02:12.874 02:02:18.783 LIAM: Ja, it seems l...  \n",
       "Marisha   00:14:25.325 00:14:26.762 MARISHA: Yeah, it's ...  \n",
       "Travis    00:56:37.009 00:56:38.568 TRAVIS: Did she go b...  \n",
       "Sam       00:56:55.495 00:57:00.785 SAM: So was she a Xh...  \n",
       "Matt      03:24:06.816 03:24:09.383 MATT: (like Beau) \"O...  "
      ]
     },
     "metadata": {},
     "output_type": "display_data"
    },
    {
     "data": {
      "text/markdown": [
       "# Episode 21 - Stalker in the Swamp"
      ],
      "text/plain": [
       "<IPython.core.display.Markdown object>"
      ]
     },
     "metadata": {},
     "output_type": "display_data"
    },
    {
     "name": "stdout",
     "output_type": "stream",
     "text": [
      "Added to cast: Mark\n"
     ]
    },
    {
     "data": {
      "text/html": [
       "<div>\n",
       "<style scoped>\n",
       "    .dataframe tbody tr th:only-of-type {\n",
       "        vertical-align: middle;\n",
       "    }\n",
       "\n",
       "    .dataframe tbody tr th {\n",
       "        vertical-align: top;\n",
       "    }\n",
       "\n",
       "    .dataframe thead th {\n",
       "        text-align: right;\n",
       "    }\n",
       "</style>\n",
       "<table border=\"1\" class=\"dataframe\">\n",
       "  <thead>\n",
       "    <tr style=\"text-align: right;\">\n",
       "      <th></th>\n",
       "      <th>interval</th>\n",
       "      <th>starting_line</th>\n",
       "      <th>ending_line</th>\n",
       "    </tr>\n",
       "  </thead>\n",
       "  <tbody>\n",
       "    <tr>\n",
       "      <th>All</th>\n",
       "      <td>0 days 00:51:54.056000</td>\n",
       "      <td>02:09:16.707 02:09:19.170 (groaning)</td>\n",
       "      <td>03:01:13.226 03:01:15.280 (yelling)</td>\n",
       "    </tr>\n",
       "    <tr>\n",
       "      <th>Ashley</th>\n",
       "      <td>0 days 00:19:23.135000</td>\n",
       "      <td>02:04:01.897 02:04:05.484 ASHLEY: Does that no...</td>\n",
       "      <td>02:23:28.619 02:23:31.747 ASHLEY: So good! I l...</td>\n",
       "    </tr>\n",
       "    <tr>\n",
       "      <th>Sam</th>\n",
       "      <td>0 days 00:12:43.706000</td>\n",
       "      <td>03:02:51.709 03:02:54.560 SAM: It still doesn'...</td>\n",
       "      <td>03:15:38.266 03:15:46.146 SAM: I'll fire at th...</td>\n",
       "    </tr>\n",
       "    <tr>\n",
       "      <th>Mark</th>\n",
       "      <td>0 days 00:12:08.791000</td>\n",
       "      <td>03:02:32.806 03:02:35.762 MARK: Six. Six twins.</td>\n",
       "      <td>03:14:44.553 03:14:50.442 MARK: Has it been an...</td>\n",
       "    </tr>\n",
       "    <tr>\n",
       "      <th>Liam</th>\n",
       "      <td>0 days 00:10:33.774000</td>\n",
       "      <td>03:20:28.687 03:20:33.764 LIAM: 20 feet behind...</td>\n",
       "      <td>03:31:07.538 03:31:08.973 LIAM: That's an action.</td>\n",
       "    </tr>\n",
       "    <tr>\n",
       "      <th>Taliesin</th>\n",
       "      <td>0 days 00:09:26.549000</td>\n",
       "      <td>00:07:38.418 00:07:39.236 TALIESIN: Oh shit.</td>\n",
       "      <td>00:17:05.785 00:17:08.366 TALIESIN: Definitely...</td>\n",
       "    </tr>\n",
       "    <tr>\n",
       "      <th>Marisha</th>\n",
       "      <td>0 days 00:07:33.443000</td>\n",
       "      <td>04:11:17.742 04:11:19.381 MARISHA: That's fair.</td>\n",
       "      <td>04:18:52.824 04:18:54.967 MARISHA: Troll, and ...</td>\n",
       "    </tr>\n",
       "    <tr>\n",
       "      <th>Travis</th>\n",
       "      <td>0 days 00:06:43.777000</td>\n",
       "      <td>04:04:49.184 04:04:50.524 TRAVIS: Are you natu...</td>\n",
       "      <td>04:11:34.301 04:11:38.974 TRAVIS: Cali, I'm ju...</td>\n",
       "    </tr>\n",
       "    <tr>\n",
       "      <th>Matt</th>\n",
       "      <td>0 days 00:04:56.545000</td>\n",
       "      <td>04:04:50.524 04:04:52.838 MATT: No, it's faded.</td>\n",
       "      <td>04:09:49.383 04:09:52.296 MATT: She's not bein...</td>\n",
       "    </tr>\n",
       "    <tr>\n",
       "      <th>Laura</th>\n",
       "      <td>0 days 00:04:44.278000</td>\n",
       "      <td>01:18:44.257 01:18:47.052 LAURA: We are keepin...</td>\n",
       "      <td>01:23:31.330 01:23:42.141 LAURA: The thing is,...</td>\n",
       "    </tr>\n",
       "  </tbody>\n",
       "</table>\n",
       "</div>"
      ],
      "text/plain": [
       "                       interval  \\\n",
       "All      0 days 00:51:54.056000   \n",
       "Ashley   0 days 00:19:23.135000   \n",
       "Sam      0 days 00:12:43.706000   \n",
       "Mark     0 days 00:12:08.791000   \n",
       "Liam     0 days 00:10:33.774000   \n",
       "Taliesin 0 days 00:09:26.549000   \n",
       "Marisha  0 days 00:07:33.443000   \n",
       "Travis   0 days 00:06:43.777000   \n",
       "Matt     0 days 00:04:56.545000   \n",
       "Laura    0 days 00:04:44.278000   \n",
       "\n",
       "                                              starting_line  \\\n",
       "All                    02:09:16.707 02:09:19.170 (groaning)   \n",
       "Ashley    02:04:01.897 02:04:05.484 ASHLEY: Does that no...   \n",
       "Sam       03:02:51.709 03:02:54.560 SAM: It still doesn'...   \n",
       "Mark        03:02:32.806 03:02:35.762 MARK: Six. Six twins.   \n",
       "Liam      03:20:28.687 03:20:33.764 LIAM: 20 feet behind...   \n",
       "Taliesin       00:07:38.418 00:07:39.236 TALIESIN: Oh shit.   \n",
       "Marisha     04:11:17.742 04:11:19.381 MARISHA: That's fair.   \n",
       "Travis    04:04:49.184 04:04:50.524 TRAVIS: Are you natu...   \n",
       "Matt        04:04:50.524 04:04:52.838 MATT: No, it's faded.   \n",
       "Laura     01:18:44.257 01:18:47.052 LAURA: We are keepin...   \n",
       "\n",
       "                                                ending_line  \n",
       "All                     03:01:13.226 03:01:15.280 (yelling)  \n",
       "Ashley    02:23:28.619 02:23:31.747 ASHLEY: So good! I l...  \n",
       "Sam       03:15:38.266 03:15:46.146 SAM: I'll fire at th...  \n",
       "Mark      03:14:44.553 03:14:50.442 MARK: Has it been an...  \n",
       "Liam      03:31:07.538 03:31:08.973 LIAM: That's an action.  \n",
       "Taliesin  00:17:05.785 00:17:08.366 TALIESIN: Definitely...  \n",
       "Marisha   04:18:52.824 04:18:54.967 MARISHA: Troll, and ...  \n",
       "Travis    04:11:34.301 04:11:38.974 TRAVIS: Cali, I'm ju...  \n",
       "Matt      04:09:49.383 04:09:52.296 MATT: She's not bein...  \n",
       "Laura     01:23:31.330 01:23:42.141 LAURA: The thing is,...  "
      ]
     },
     "metadata": {},
     "output_type": "display_data"
    },
    {
     "data": {
      "text/markdown": [
       "# Episode 22 - Lost Treasures"
      ],
      "text/plain": [
       "<IPython.core.display.Markdown object>"
      ]
     },
     "metadata": {},
     "output_type": "display_data"
    },
    {
     "name": "stdout",
     "output_type": "stream",
     "text": [
      "Added to cast: Babs\n"
     ]
    },
    {
     "data": {
      "text/html": [
       "<div>\n",
       "<style scoped>\n",
       "    .dataframe tbody tr th:only-of-type {\n",
       "        vertical-align: middle;\n",
       "    }\n",
       "\n",
       "    .dataframe tbody tr th {\n",
       "        vertical-align: top;\n",
       "    }\n",
       "\n",
       "    .dataframe thead th {\n",
       "        text-align: right;\n",
       "    }\n",
       "</style>\n",
       "<table border=\"1\" class=\"dataframe\">\n",
       "  <thead>\n",
       "    <tr style=\"text-align: right;\">\n",
       "      <th></th>\n",
       "      <th>interval</th>\n",
       "      <th>starting_line</th>\n",
       "      <th>ending_line</th>\n",
       "    </tr>\n",
       "  </thead>\n",
       "  <tbody>\n",
       "    <tr>\n",
       "      <th>All</th>\n",
       "      <td>0 days 00:31:55.340000</td>\n",
       "      <td>00:08:38.086 00:08:40.487 (laughter)</td>\n",
       "      <td>00:40:35.827 00:40:39.988 (laughter)</td>\n",
       "    </tr>\n",
       "    <tr>\n",
       "      <th>Ashley</th>\n",
       "      <td>0 days 00:25:31.260000</td>\n",
       "      <td>00:03:59.244 00:04:00.874 ASHLEY: Is that what...</td>\n",
       "      <td>00:29:32.134 00:29:34.974 ASHLEY: I rolled a t...</td>\n",
       "    </tr>\n",
       "    <tr>\n",
       "      <th>Taliesin</th>\n",
       "      <td>0 days 00:15:43.938000</td>\n",
       "      <td>01:05:45.095 01:05:46.587 TALIESIN: And then i...</td>\n",
       "      <td>01:21:30.525 01:21:31.844 TALIESIN: I feel you...</td>\n",
       "    </tr>\n",
       "    <tr>\n",
       "      <th>Marisha</th>\n",
       "      <td>0 days 00:13:40.272000</td>\n",
       "      <td>00:29:13.527 00:29:21.665 MARISHA: I rolled a ...</td>\n",
       "      <td>00:43:01.937 00:43:04.109 MARISHA: Wow.</td>\n",
       "    </tr>\n",
       "    <tr>\n",
       "      <th>Liam</th>\n",
       "      <td>0 days 00:10:46.819000</td>\n",
       "      <td>01:10:03.319 01:10:05.998 LIAM: From the caver...</td>\n",
       "      <td>01:20:52.817 01:20:53.736 LIAM: What's the lig...</td>\n",
       "    </tr>\n",
       "    <tr>\n",
       "      <th>Laura</th>\n",
       "      <td>0 days 00:07:46.441000</td>\n",
       "      <td>01:24:56.567 01:24:57.834 LAURA: You didn't mo...</td>\n",
       "      <td>01:32:44.275 01:33:03.278 LAURA: Okay. I'm goi...</td>\n",
       "    </tr>\n",
       "    <tr>\n",
       "      <th>Travis</th>\n",
       "      <td>0 days 00:07:30.869000</td>\n",
       "      <td>01:29:53.449 01:29:57.816 TRAVIS: Whoosh. Worc...</td>\n",
       "      <td>01:37:28.685 01:37:40.634 TRAVIS: I forgot to ...</td>\n",
       "    </tr>\n",
       "    <tr>\n",
       "      <th>Sam</th>\n",
       "      <td>0 days 00:07:09.650000</td>\n",
       "      <td>02:28:05.671 02:28:15.199 SAM: I think she's o...</td>\n",
       "      <td>02:35:24.849 02:35:27.293 SAM: Let's hear it, ...</td>\n",
       "    </tr>\n",
       "    <tr>\n",
       "      <th>Matt</th>\n",
       "      <td>0 days 00:04:25.147000</td>\n",
       "      <td>00:36:33.365 00:36:34.542 MATT: Sure.</td>\n",
       "      <td>00:40:59.689 00:41:14.037 MATT: Okay. In the e...</td>\n",
       "    </tr>\n",
       "    <tr>\n",
       "      <th>Babs</th>\n",
       "      <td>0 days 00:00:04.802000</td>\n",
       "      <td>02:24:15.445 02:24:19.315 BABS: Thank you! Yes...</td>\n",
       "      <td>02:24:24.117 02:24:25.540 BABS: Bye, guys!</td>\n",
       "    </tr>\n",
       "  </tbody>\n",
       "</table>\n",
       "</div>"
      ],
      "text/plain": [
       "                       interval  \\\n",
       "All      0 days 00:31:55.340000   \n",
       "Ashley   0 days 00:25:31.260000   \n",
       "Taliesin 0 days 00:15:43.938000   \n",
       "Marisha  0 days 00:13:40.272000   \n",
       "Liam     0 days 00:10:46.819000   \n",
       "Laura    0 days 00:07:46.441000   \n",
       "Travis   0 days 00:07:30.869000   \n",
       "Sam      0 days 00:07:09.650000   \n",
       "Matt     0 days 00:04:25.147000   \n",
       "Babs     0 days 00:00:04.802000   \n",
       "\n",
       "                                              starting_line  \\\n",
       "All                    00:08:38.086 00:08:40.487 (laughter)   \n",
       "Ashley    00:03:59.244 00:04:00.874 ASHLEY: Is that what...   \n",
       "Taliesin  01:05:45.095 01:05:46.587 TALIESIN: And then i...   \n",
       "Marisha   00:29:13.527 00:29:21.665 MARISHA: I rolled a ...   \n",
       "Liam      01:10:03.319 01:10:05.998 LIAM: From the caver...   \n",
       "Laura     01:24:56.567 01:24:57.834 LAURA: You didn't mo...   \n",
       "Travis    01:29:53.449 01:29:57.816 TRAVIS: Whoosh. Worc...   \n",
       "Sam       02:28:05.671 02:28:15.199 SAM: I think she's o...   \n",
       "Matt                  00:36:33.365 00:36:34.542 MATT: Sure.   \n",
       "Babs      02:24:15.445 02:24:19.315 BABS: Thank you! Yes...   \n",
       "\n",
       "                                                ending_line  \n",
       "All                    00:40:35.827 00:40:39.988 (laughter)  \n",
       "Ashley    00:29:32.134 00:29:34.974 ASHLEY: I rolled a t...  \n",
       "Taliesin  01:21:30.525 01:21:31.844 TALIESIN: I feel you...  \n",
       "Marisha             00:43:01.937 00:43:04.109 MARISHA: Wow.  \n",
       "Liam      01:20:52.817 01:20:53.736 LIAM: What's the lig...  \n",
       "Laura     01:32:44.275 01:33:03.278 LAURA: Okay. I'm goi...  \n",
       "Travis    01:37:28.685 01:37:40.634 TRAVIS: I forgot to ...  \n",
       "Sam       02:35:24.849 02:35:27.293 SAM: Let's hear it, ...  \n",
       "Matt      00:40:59.689 00:41:14.037 MATT: Okay. In the e...  \n",
       "Babs             02:24:24.117 02:24:25.540 BABS: Bye, guys!  "
      ]
     },
     "metadata": {},
     "output_type": "display_data"
    },
    {
     "data": {
      "text/markdown": [
       "# Episode 23 - Have Bird, Will Travel"
      ],
      "text/plain": [
       "<IPython.core.display.Markdown object>"
      ]
     },
     "metadata": {},
     "output_type": "display_data"
    },
    {
     "data": {
      "text/html": [
       "<div>\n",
       "<style scoped>\n",
       "    .dataframe tbody tr th:only-of-type {\n",
       "        vertical-align: middle;\n",
       "    }\n",
       "\n",
       "    .dataframe tbody tr th {\n",
       "        vertical-align: top;\n",
       "    }\n",
       "\n",
       "    .dataframe thead th {\n",
       "        text-align: right;\n",
       "    }\n",
       "</style>\n",
       "<table border=\"1\" class=\"dataframe\">\n",
       "  <thead>\n",
       "    <tr style=\"text-align: right;\">\n",
       "      <th></th>\n",
       "      <th>interval</th>\n",
       "      <th>starting_line</th>\n",
       "      <th>ending_line</th>\n",
       "    </tr>\n",
       "  </thead>\n",
       "  <tbody>\n",
       "    <tr>\n",
       "      <th>All</th>\n",
       "      <td>0 days 00:47:54.265000</td>\n",
       "      <td>02:54:19.342 02:54:22.862 (laughter)</td>\n",
       "      <td>03:42:17.127 03:42:18.656 ALL: Blushing Tankard.</td>\n",
       "    </tr>\n",
       "    <tr>\n",
       "      <th>Ashley</th>\n",
       "      <td>0 days 00:26:38.140000</td>\n",
       "      <td>02:21:00.995 02:21:03.511 ASHLEY: That's all y...</td>\n",
       "      <td>02:47:41.651 02:47:42.813 ASHLEY: I'll keep wa...</td>\n",
       "    </tr>\n",
       "    <tr>\n",
       "      <th>Liam</th>\n",
       "      <td>0 days 00:12:24.694000</td>\n",
       "      <td>00:42:29.908 00:42:44.388 LIAM: Three, four, e...</td>\n",
       "      <td>00:55:09.082 00:55:26.752 LIAM: Oh, this thing...</td>\n",
       "    </tr>\n",
       "    <tr>\n",
       "      <th>Sam</th>\n",
       "      <td>0 days 00:10:13.266000</td>\n",
       "      <td>01:47:20.056 01:47:23.076 SAM: It's just an ex...</td>\n",
       "      <td>01:57:36.342 01:57:39.393 SAM: I don't think t...</td>\n",
       "    </tr>\n",
       "    <tr>\n",
       "      <th>Travis</th>\n",
       "      <td>0 days 00:09:18.554000</td>\n",
       "      <td>02:03:35.528 02:03:37.914 TRAVIS: Holy shit.</td>\n",
       "      <td>02:12:56.468 02:12:57.811 TRAVIS: Yeah, it's c...</td>\n",
       "    </tr>\n",
       "    <tr>\n",
       "      <th>Marisha</th>\n",
       "      <td>0 days 00:08:55.738000</td>\n",
       "      <td>00:48:48.671 00:48:50.437 MARISHA: Heavy metal...</td>\n",
       "      <td>00:57:46.175 00:57:48.026 MARISHA: Oh no!</td>\n",
       "    </tr>\n",
       "    <tr>\n",
       "      <th>Laura</th>\n",
       "      <td>0 days 00:08:32.833000</td>\n",
       "      <td>02:48:31.564 02:48:33.309 LAURA: (laughs)</td>\n",
       "      <td>02:57:06.142 02:57:07.606 LAURA: Natural 20!</td>\n",
       "    </tr>\n",
       "    <tr>\n",
       "      <th>Taliesin</th>\n",
       "      <td>0 days 00:06:44.329000</td>\n",
       "      <td>00:35:02.185 00:35:04.160 TALIESIN: Good thing...</td>\n",
       "      <td>00:41:48.489 00:41:53.544 TALIESIN: But you ca...</td>\n",
       "    </tr>\n",
       "    <tr>\n",
       "      <th>Matt</th>\n",
       "      <td>0 days 00:02:58.979000</td>\n",
       "      <td>00:10:56.005 00:11:03.231 MATT: If I recall, y...</td>\n",
       "      <td>00:14:02.210 00:14:07.245 MATT: What is your m...</td>\n",
       "    </tr>\n",
       "  </tbody>\n",
       "</table>\n",
       "</div>"
      ],
      "text/plain": [
       "                       interval  \\\n",
       "All      0 days 00:47:54.265000   \n",
       "Ashley   0 days 00:26:38.140000   \n",
       "Liam     0 days 00:12:24.694000   \n",
       "Sam      0 days 00:10:13.266000   \n",
       "Travis   0 days 00:09:18.554000   \n",
       "Marisha  0 days 00:08:55.738000   \n",
       "Laura    0 days 00:08:32.833000   \n",
       "Taliesin 0 days 00:06:44.329000   \n",
       "Matt     0 days 00:02:58.979000   \n",
       "\n",
       "                                              starting_line  \\\n",
       "All                    02:54:19.342 02:54:22.862 (laughter)   \n",
       "Ashley    02:21:00.995 02:21:03.511 ASHLEY: That's all y...   \n",
       "Liam      00:42:29.908 00:42:44.388 LIAM: Three, four, e...   \n",
       "Sam       01:47:20.056 01:47:23.076 SAM: It's just an ex...   \n",
       "Travis         02:03:35.528 02:03:37.914 TRAVIS: Holy shit.   \n",
       "Marisha   00:48:48.671 00:48:50.437 MARISHA: Heavy metal...   \n",
       "Laura             02:48:31.564 02:48:33.309 LAURA: (laughs)   \n",
       "Taliesin  00:35:02.185 00:35:04.160 TALIESIN: Good thing...   \n",
       "Matt      00:10:56.005 00:11:03.231 MATT: If I recall, y...   \n",
       "\n",
       "                                                ending_line  \n",
       "All        03:42:17.127 03:42:18.656 ALL: Blushing Tankard.  \n",
       "Ashley    02:47:41.651 02:47:42.813 ASHLEY: I'll keep wa...  \n",
       "Liam      00:55:09.082 00:55:26.752 LIAM: Oh, this thing...  \n",
       "Sam       01:57:36.342 01:57:39.393 SAM: I don't think t...  \n",
       "Travis    02:12:56.468 02:12:57.811 TRAVIS: Yeah, it's c...  \n",
       "Marisha           00:57:46.175 00:57:48.026 MARISHA: Oh no!  \n",
       "Laura          02:57:06.142 02:57:07.606 LAURA: Natural 20!  \n",
       "Taliesin  00:41:48.489 00:41:53.544 TALIESIN: But you ca...  \n",
       "Matt      00:14:02.210 00:14:07.245 MATT: What is your m...  "
      ]
     },
     "metadata": {},
     "output_type": "display_data"
    },
    {
     "data": {
      "text/markdown": [
       "# Episode 24 - The Hour of Honor"
      ],
      "text/plain": [
       "<IPython.core.display.Markdown object>"
      ]
     },
     "metadata": {},
     "output_type": "display_data"
    },
    {
     "data": {
      "text/html": [
       "<div>\n",
       "<style scoped>\n",
       "    .dataframe tbody tr th:only-of-type {\n",
       "        vertical-align: middle;\n",
       "    }\n",
       "\n",
       "    .dataframe tbody tr th {\n",
       "        vertical-align: top;\n",
       "    }\n",
       "\n",
       "    .dataframe thead th {\n",
       "        text-align: right;\n",
       "    }\n",
       "</style>\n",
       "<table border=\"1\" class=\"dataframe\">\n",
       "  <thead>\n",
       "    <tr style=\"text-align: right;\">\n",
       "      <th></th>\n",
       "      <th>interval</th>\n",
       "      <th>starting_line</th>\n",
       "      <th>ending_line</th>\n",
       "    </tr>\n",
       "  </thead>\n",
       "  <tbody>\n",
       "    <tr>\n",
       "      <th>All</th>\n",
       "      <td>0 days 00:42:37.032000</td>\n",
       "      <td>02:53:12.577 02:53:16.238 ALL: (speaking Infer...</td>\n",
       "      <td>03:35:53.270 03:46:14.244 [music]</td>\n",
       "    </tr>\n",
       "    <tr>\n",
       "      <th>Taliesin</th>\n",
       "      <td>0 days 00:13:45.128000</td>\n",
       "      <td>03:05:51.984 03:05:53.344 TALIESIN: With dicks...</td>\n",
       "      <td>03:19:38.472 03:19:42.298 TALIESIN: How long h...</td>\n",
       "    </tr>\n",
       "    <tr>\n",
       "      <th>Liam</th>\n",
       "      <td>0 days 00:13:16.995000</td>\n",
       "      <td>00:07:58.851 00:08:00.455 LIAM: Not to be conf...</td>\n",
       "      <td>00:21:17.450 00:21:18.744 LIAM: No, you throw it.</td>\n",
       "    </tr>\n",
       "    <tr>\n",
       "      <th>Laura</th>\n",
       "      <td>0 days 00:09:01.461000</td>\n",
       "      <td>01:08:56.410 01:08:58.594 LAURA: I want to loo...</td>\n",
       "      <td>01:18:00.055 01:18:02.918 LAURA: Well, you sho...</td>\n",
       "    </tr>\n",
       "    <tr>\n",
       "      <th>Marisha</th>\n",
       "      <td>0 days 00:09:00.602000</td>\n",
       "      <td>02:32:24.486 02:32:26.918 MARISHA: Who? What, ...</td>\n",
       "      <td>02:41:27.520 02:41:28.853 MARISHA: It's a repe...</td>\n",
       "    </tr>\n",
       "    <tr>\n",
       "      <th>Sam</th>\n",
       "      <td>0 days 00:08:25.134000</td>\n",
       "      <td>01:37:09.447 01:37:11.855 SAM: All right. So I...</td>\n",
       "      <td>01:45:36.989 01:45:39.039 SAM: He's trash talk...</td>\n",
       "    </tr>\n",
       "    <tr>\n",
       "      <th>Matt</th>\n",
       "      <td>0 days 00:06:27.160000</td>\n",
       "      <td>01:10:44.803 01:10:47.379 MATT: Then he goes a...</td>\n",
       "      <td>01:17:14.539 01:17:22.376 MATT: At this point,...</td>\n",
       "    </tr>\n",
       "    <tr>\n",
       "      <th>Travis</th>\n",
       "      <td>0 days 00:05:17.160000</td>\n",
       "      <td>00:30:11.107 00:30:13.859 TRAVIS: That dice ju...</td>\n",
       "      <td>00:35:31.019 00:35:46.036 TRAVIS: Caleb and I ...</td>\n",
       "    </tr>\n",
       "  </tbody>\n",
       "</table>\n",
       "</div>"
      ],
      "text/plain": [
       "                       interval  \\\n",
       "All      0 days 00:42:37.032000   \n",
       "Taliesin 0 days 00:13:45.128000   \n",
       "Liam     0 days 00:13:16.995000   \n",
       "Laura    0 days 00:09:01.461000   \n",
       "Marisha  0 days 00:09:00.602000   \n",
       "Sam      0 days 00:08:25.134000   \n",
       "Matt     0 days 00:06:27.160000   \n",
       "Travis   0 days 00:05:17.160000   \n",
       "\n",
       "                                              starting_line  \\\n",
       "All       02:53:12.577 02:53:16.238 ALL: (speaking Infer...   \n",
       "Taliesin  03:05:51.984 03:05:53.344 TALIESIN: With dicks...   \n",
       "Liam      00:07:58.851 00:08:00.455 LIAM: Not to be conf...   \n",
       "Laura     01:08:56.410 01:08:58.594 LAURA: I want to loo...   \n",
       "Marisha   02:32:24.486 02:32:26.918 MARISHA: Who? What, ...   \n",
       "Sam       01:37:09.447 01:37:11.855 SAM: All right. So I...   \n",
       "Matt      01:10:44.803 01:10:47.379 MATT: Then he goes a...   \n",
       "Travis    00:30:11.107 00:30:13.859 TRAVIS: That dice ju...   \n",
       "\n",
       "                                                ending_line  \n",
       "All                       03:35:53.270 03:46:14.244 [music]  \n",
       "Taliesin  03:19:38.472 03:19:42.298 TALIESIN: How long h...  \n",
       "Liam      00:21:17.450 00:21:18.744 LIAM: No, you throw it.  \n",
       "Laura     01:18:00.055 01:18:02.918 LAURA: Well, you sho...  \n",
       "Marisha   02:41:27.520 02:41:28.853 MARISHA: It's a repe...  \n",
       "Sam       01:45:36.989 01:45:39.039 SAM: He's trash talk...  \n",
       "Matt      01:17:14.539 01:17:22.376 MATT: At this point,...  \n",
       "Travis    00:35:31.019 00:35:46.036 TRAVIS: Caleb and I ...  "
      ]
     },
     "metadata": {},
     "output_type": "display_data"
    },
    {
     "data": {
      "text/markdown": [
       "# Episode 25 - Divergent Paths "
      ],
      "text/plain": [
       "<IPython.core.display.Markdown object>"
      ]
     },
     "metadata": {},
     "output_type": "display_data"
    },
    {
     "data": {
      "text/html": [
       "<div>\n",
       "<style scoped>\n",
       "    .dataframe tbody tr th:only-of-type {\n",
       "        vertical-align: middle;\n",
       "    }\n",
       "\n",
       "    .dataframe tbody tr th {\n",
       "        vertical-align: top;\n",
       "    }\n",
       "\n",
       "    .dataframe thead th {\n",
       "        text-align: right;\n",
       "    }\n",
       "</style>\n",
       "<table border=\"1\" class=\"dataframe\">\n",
       "  <thead>\n",
       "    <tr style=\"text-align: right;\">\n",
       "      <th></th>\n",
       "      <th>interval</th>\n",
       "      <th>starting_line</th>\n",
       "      <th>ending_line</th>\n",
       "    </tr>\n",
       "  </thead>\n",
       "  <tbody>\n",
       "    <tr>\n",
       "      <th>All</th>\n",
       "      <td>0 days 00:37:01.720000</td>\n",
       "      <td>00:07:42.140 00:09:03.338 [groovy Critical Rol...</td>\n",
       "      <td>00:46:05.058 00:46:06.323 (laughter)</td>\n",
       "    </tr>\n",
       "    <tr>\n",
       "      <th>Liam</th>\n",
       "      <td>0 days 00:17:06.672000</td>\n",
       "      <td>01:45:30.179 01:45:32.235 LIAM: Six.</td>\n",
       "      <td>02:02:38.907 02:02:45.726 LIAM: [no audio]\\nSA...</td>\n",
       "    </tr>\n",
       "    <tr>\n",
       "      <th>Marisha</th>\n",
       "      <td>0 days 00:14:40.774000</td>\n",
       "      <td>03:29:30.168 03:29:35.935 MARISHA: If you're d...</td>\n",
       "      <td>03:44:16.709 03:44:19.495 MARISHA: My heart.</td>\n",
       "    </tr>\n",
       "    <tr>\n",
       "      <th>Ashley</th>\n",
       "      <td>0 days 00:11:29.442000</td>\n",
       "      <td>01:01:53.960 01:01:55.573 ASHLEY: Yeah.</td>\n",
       "      <td>01:13:25.015 01:13:25.976 ASHLEY: Okay.</td>\n",
       "    </tr>\n",
       "    <tr>\n",
       "      <th>Sam</th>\n",
       "      <td>0 days 00:08:44.941000</td>\n",
       "      <td>01:04:01.185 01:04:02.601 SAM: How many doors ...</td>\n",
       "      <td>01:12:47.542 01:12:48.491 SAM: We're doing thi...</td>\n",
       "    </tr>\n",
       "    <tr>\n",
       "      <th>Taliesin</th>\n",
       "      <td>0 days 00:08:41.257000</td>\n",
       "      <td>03:27:46.590 03:27:48.211 TALIESIN: Let's make...</td>\n",
       "      <td>03:36:29.468 03:36:36.285 TALIESIN: Where was ...</td>\n",
       "    </tr>\n",
       "    <tr>\n",
       "      <th>Matt</th>\n",
       "      <td>0 days 00:03:11.200000</td>\n",
       "      <td>03:17:56.790 03:17:58.203 MATT: I think it was...</td>\n",
       "      <td>03:21:09.403 03:21:21.632 MATT: That's amazing...</td>\n",
       "    </tr>\n",
       "  </tbody>\n",
       "</table>\n",
       "</div>"
      ],
      "text/plain": [
       "                       interval  \\\n",
       "All      0 days 00:37:01.720000   \n",
       "Liam     0 days 00:17:06.672000   \n",
       "Marisha  0 days 00:14:40.774000   \n",
       "Ashley   0 days 00:11:29.442000   \n",
       "Sam      0 days 00:08:44.941000   \n",
       "Taliesin 0 days 00:08:41.257000   \n",
       "Matt     0 days 00:03:11.200000   \n",
       "\n",
       "                                              starting_line  \\\n",
       "All       00:07:42.140 00:09:03.338 [groovy Critical Rol...   \n",
       "Liam                   01:45:30.179 01:45:32.235 LIAM: Six.   \n",
       "Marisha   03:29:30.168 03:29:35.935 MARISHA: If you're d...   \n",
       "Ashley              01:01:53.960 01:01:55.573 ASHLEY: Yeah.   \n",
       "Sam       01:04:01.185 01:04:02.601 SAM: How many doors ...   \n",
       "Taliesin  03:27:46.590 03:27:48.211 TALIESIN: Let's make...   \n",
       "Matt      03:17:56.790 03:17:58.203 MATT: I think it was...   \n",
       "\n",
       "                                                ending_line  \n",
       "All                    00:46:05.058 00:46:06.323 (laughter)  \n",
       "Liam      02:02:38.907 02:02:45.726 LIAM: [no audio]\\nSA...  \n",
       "Marisha        03:44:16.709 03:44:19.495 MARISHA: My heart.  \n",
       "Ashley              01:13:25.015 01:13:25.976 ASHLEY: Okay.  \n",
       "Sam       01:12:47.542 01:12:48.491 SAM: We're doing thi...  \n",
       "Taliesin  03:36:29.468 03:36:36.285 TALIESIN: Where was ...  \n",
       "Matt      03:21:09.403 03:21:21.632 MATT: That's amazing...  "
      ]
     },
     "metadata": {},
     "output_type": "display_data"
    },
    {
     "data": {
      "text/markdown": [
       "# Episode 26 - Found & Lost"
      ],
      "text/plain": [
       "<IPython.core.display.Markdown object>"
      ]
     },
     "metadata": {},
     "output_type": "display_data"
    },
    {
     "data": {
      "text/html": [
       "<div>\n",
       "<style scoped>\n",
       "    .dataframe tbody tr th:only-of-type {\n",
       "        vertical-align: middle;\n",
       "    }\n",
       "\n",
       "    .dataframe tbody tr th {\n",
       "        vertical-align: top;\n",
       "    }\n",
       "\n",
       "    .dataframe thead th {\n",
       "        text-align: right;\n",
       "    }\n",
       "</style>\n",
       "<table border=\"1\" class=\"dataframe\">\n",
       "  <thead>\n",
       "    <tr style=\"text-align: right;\">\n",
       "      <th></th>\n",
       "      <th>interval</th>\n",
       "      <th>starting_line</th>\n",
       "      <th>ending_line</th>\n",
       "    </tr>\n",
       "  </thead>\n",
       "  <tbody>\n",
       "    <tr>\n",
       "      <th>All</th>\n",
       "      <td>0 days 00:35:39.239000</td>\n",
       "      <td>03:45:26.197 03:45:30.146 (laughter)</td>\n",
       "      <td>04:21:09.385 04:21:11.611 ALL: Whoa!</td>\n",
       "    </tr>\n",
       "    <tr>\n",
       "      <th>Sam</th>\n",
       "      <td>0 days 00:11:01.871000</td>\n",
       "      <td>02:39:02.476 02:39:04.934 SAM: Well, this has ...</td>\n",
       "      <td>02:50:06.805 02:50:09.293 SAM: It's got five w...</td>\n",
       "    </tr>\n",
       "    <tr>\n",
       "      <th>Ashley</th>\n",
       "      <td>0 days 00:09:17.522000</td>\n",
       "      <td>02:39:10.686 02:39:11.696 ASHLEY: Yeah, I'm go...</td>\n",
       "      <td>02:48:29.218 02:48:31.968 ASHLEY: It goes with...</td>\n",
       "    </tr>\n",
       "    <tr>\n",
       "      <th>Marisha</th>\n",
       "      <td>0 days 00:08:05.394000</td>\n",
       "      <td>02:14:21.074 02:14:24.085 MARISHA: Oh! They ar...</td>\n",
       "      <td>02:22:29.479 02:22:38.861 MARISHA: We'll try. ...</td>\n",
       "    </tr>\n",
       "    <tr>\n",
       "      <th>Liam</th>\n",
       "      <td>0 days 00:07:36.273000</td>\n",
       "      <td>04:25:07.995 04:25:31.259 LIAM: I'm going to h...</td>\n",
       "      <td>04:33:07.532 04:33:15.881 LIAM: The moment she...</td>\n",
       "    </tr>\n",
       "    <tr>\n",
       "      <th>Taliesin</th>\n",
       "      <td>0 days 00:07:09.248000</td>\n",
       "      <td>00:04:41.074 00:04:42.909 TALIESIN: And scene.</td>\n",
       "      <td>00:11:52.157 00:11:54.829 TALIESIN: Fjord neve...</td>\n",
       "    </tr>\n",
       "    <tr>\n",
       "      <th>Matt</th>\n",
       "      <td>0 days 00:05:58.380000</td>\n",
       "      <td>00:34:03.662 00:34:05.312 MATT: Walked over as...</td>\n",
       "      <td>00:40:03.692 00:40:05.054 MATT: Make a history...</td>\n",
       "    </tr>\n",
       "  </tbody>\n",
       "</table>\n",
       "</div>"
      ],
      "text/plain": [
       "                       interval  \\\n",
       "All      0 days 00:35:39.239000   \n",
       "Sam      0 days 00:11:01.871000   \n",
       "Ashley   0 days 00:09:17.522000   \n",
       "Marisha  0 days 00:08:05.394000   \n",
       "Liam     0 days 00:07:36.273000   \n",
       "Taliesin 0 days 00:07:09.248000   \n",
       "Matt     0 days 00:05:58.380000   \n",
       "\n",
       "                                              starting_line  \\\n",
       "All                    03:45:26.197 03:45:30.146 (laughter)   \n",
       "Sam       02:39:02.476 02:39:04.934 SAM: Well, this has ...   \n",
       "Ashley    02:39:10.686 02:39:11.696 ASHLEY: Yeah, I'm go...   \n",
       "Marisha   02:14:21.074 02:14:24.085 MARISHA: Oh! They ar...   \n",
       "Liam      04:25:07.995 04:25:31.259 LIAM: I'm going to h...   \n",
       "Taliesin     00:04:41.074 00:04:42.909 TALIESIN: And scene.   \n",
       "Matt      00:34:03.662 00:34:05.312 MATT: Walked over as...   \n",
       "\n",
       "                                                ending_line  \n",
       "All                    04:21:09.385 04:21:11.611 ALL: Whoa!  \n",
       "Sam       02:50:06.805 02:50:09.293 SAM: It's got five w...  \n",
       "Ashley    02:48:29.218 02:48:31.968 ASHLEY: It goes with...  \n",
       "Marisha   02:22:29.479 02:22:38.861 MARISHA: We'll try. ...  \n",
       "Liam      04:33:07.532 04:33:15.881 LIAM: The moment she...  \n",
       "Taliesin  00:11:52.157 00:11:54.829 TALIESIN: Fjord neve...  \n",
       "Matt      00:40:03.692 00:40:05.054 MATT: Make a history...  "
      ]
     },
     "metadata": {},
     "output_type": "display_data"
    },
    {
     "data": {
      "text/markdown": [
       "# Episode 27 - Converging Fury "
      ],
      "text/plain": [
       "<IPython.core.display.Markdown object>"
      ]
     },
     "metadata": {},
     "output_type": "display_data"
    },
    {
     "name": "stdout",
     "output_type": "stream",
     "text": [
      "Added to cast: Sumalee\n"
     ]
    },
    {
     "data": {
      "text/html": [
       "<div>\n",
       "<style scoped>\n",
       "    .dataframe tbody tr th:only-of-type {\n",
       "        vertical-align: middle;\n",
       "    }\n",
       "\n",
       "    .dataframe tbody tr th {\n",
       "        vertical-align: top;\n",
       "    }\n",
       "\n",
       "    .dataframe thead th {\n",
       "        text-align: right;\n",
       "    }\n",
       "</style>\n",
       "<table border=\"1\" class=\"dataframe\">\n",
       "  <thead>\n",
       "    <tr style=\"text-align: right;\">\n",
       "      <th></th>\n",
       "      <th>interval</th>\n",
       "      <th>starting_line</th>\n",
       "      <th>ending_line</th>\n",
       "    </tr>\n",
       "  </thead>\n",
       "  <tbody>\n",
       "    <tr>\n",
       "      <th>Sumalee</th>\n",
       "      <td>0 days 00:30:15.446000</td>\n",
       "      <td>02:25:29.565 02:25:40.170 SUMALEE: I'd like to...</td>\n",
       "      <td>02:55:55.616 02:55:56.692 SUMALEE: I have a go...</td>\n",
       "    </tr>\n",
       "    <tr>\n",
       "      <th>All</th>\n",
       "      <td>0 days 00:29:02.802000</td>\n",
       "      <td>00:08:30.674 00:08:37.155 (laughter)</td>\n",
       "      <td>00:37:39.957 00:37:43.188 (cheering)</td>\n",
       "    </tr>\n",
       "    <tr>\n",
       "      <th>Ashley</th>\n",
       "      <td>0 days 00:10:27.595000</td>\n",
       "      <td>03:24:18.844 03:24:20.909 ASHLEY: That wonderf...</td>\n",
       "      <td>03:34:48.504 03:34:50.440 ASHLEY: Can you guys...</td>\n",
       "    </tr>\n",
       "    <tr>\n",
       "      <th>Marisha</th>\n",
       "      <td>0 days 00:10:13.773000</td>\n",
       "      <td>01:55:07.400 01:55:08.887 MARISHA: Yeah, exactly!</td>\n",
       "      <td>02:05:22.660 02:05:24.472 MARISHA: Hotel price...</td>\n",
       "    </tr>\n",
       "    <tr>\n",
       "      <th>Matt</th>\n",
       "      <td>0 days 00:08:47.036000</td>\n",
       "      <td>01:56:20.055 01:56:21.252 MATT: You do not.</td>\n",
       "      <td>02:05:08.288 02:05:22.660 MATT: As both Nila a...</td>\n",
       "    </tr>\n",
       "    <tr>\n",
       "      <th>Liam</th>\n",
       "      <td>0 days 00:08:06.276000</td>\n",
       "      <td>03:34:52.182 03:34:53.457 LIAM: After a while,...</td>\n",
       "      <td>03:42:59.733 03:43:01.805 LIAM: That's a 17.</td>\n",
       "    </tr>\n",
       "    <tr>\n",
       "      <th>Sam</th>\n",
       "      <td>0 days 00:07:51.235000</td>\n",
       "      <td>02:12:27.660 02:12:30.808 SAM: We're going to ...</td>\n",
       "      <td>02:20:22.043 02:20:23.562 SAM: Odor sack?</td>\n",
       "    </tr>\n",
       "    <tr>\n",
       "      <th>Taliesin</th>\n",
       "      <td>0 days 00:00:06.249000</td>\n",
       "      <td>03:50:03.588 03:50:05.935 TALIESIN: Goddamn it...</td>\n",
       "      <td>03:50:12.184 03:50:18.528 TALIESIN: It was abo...</td>\n",
       "    </tr>\n",
       "  </tbody>\n",
       "</table>\n",
       "</div>"
      ],
      "text/plain": [
       "                       interval  \\\n",
       "Sumalee  0 days 00:30:15.446000   \n",
       "All      0 days 00:29:02.802000   \n",
       "Ashley   0 days 00:10:27.595000   \n",
       "Marisha  0 days 00:10:13.773000   \n",
       "Matt     0 days 00:08:47.036000   \n",
       "Liam     0 days 00:08:06.276000   \n",
       "Sam      0 days 00:07:51.235000   \n",
       "Taliesin 0 days 00:00:06.249000   \n",
       "\n",
       "                                              starting_line  \\\n",
       "Sumalee   02:25:29.565 02:25:40.170 SUMALEE: I'd like to...   \n",
       "All                    00:08:30.674 00:08:37.155 (laughter)   \n",
       "Ashley    03:24:18.844 03:24:20.909 ASHLEY: That wonderf...   \n",
       "Marisha   01:55:07.400 01:55:08.887 MARISHA: Yeah, exactly!   \n",
       "Matt            01:56:20.055 01:56:21.252 MATT: You do not.   \n",
       "Liam      03:34:52.182 03:34:53.457 LIAM: After a while,...   \n",
       "Sam       02:12:27.660 02:12:30.808 SAM: We're going to ...   \n",
       "Taliesin  03:50:03.588 03:50:05.935 TALIESIN: Goddamn it...   \n",
       "\n",
       "                                                ending_line  \n",
       "Sumalee   02:55:55.616 02:55:56.692 SUMALEE: I have a go...  \n",
       "All                    00:37:39.957 00:37:43.188 (cheering)  \n",
       "Ashley    03:34:48.504 03:34:50.440 ASHLEY: Can you guys...  \n",
       "Marisha   02:05:22.660 02:05:24.472 MARISHA: Hotel price...  \n",
       "Matt      02:05:08.288 02:05:22.660 MATT: As both Nila a...  \n",
       "Liam           03:42:59.733 03:43:01.805 LIAM: That's a 17.  \n",
       "Sam               02:20:22.043 02:20:23.562 SAM: Odor sack?  \n",
       "Taliesin  03:50:12.184 03:50:18.528 TALIESIN: It was abo...  "
      ]
     },
     "metadata": {},
     "output_type": "display_data"
    },
    {
     "data": {
      "text/markdown": [
       "# Episode 28 - Within the Nest"
      ],
      "text/plain": [
       "<IPython.core.display.Markdown object>"
      ]
     },
     "metadata": {},
     "output_type": "display_data"
    },
    {
     "data": {
      "text/html": [
       "<div>\n",
       "<style scoped>\n",
       "    .dataframe tbody tr th:only-of-type {\n",
       "        vertical-align: middle;\n",
       "    }\n",
       "\n",
       "    .dataframe tbody tr th {\n",
       "        vertical-align: top;\n",
       "    }\n",
       "\n",
       "    .dataframe thead th {\n",
       "        text-align: right;\n",
       "    }\n",
       "</style>\n",
       "<table border=\"1\" class=\"dataframe\">\n",
       "  <thead>\n",
       "    <tr style=\"text-align: right;\">\n",
       "      <th></th>\n",
       "      <th>interval</th>\n",
       "      <th>starting_line</th>\n",
       "      <th>ending_line</th>\n",
       "    </tr>\n",
       "  </thead>\n",
       "  <tbody>\n",
       "    <tr>\n",
       "      <th>All</th>\n",
       "      <td>0 days 00:29:48.291000</td>\n",
       "      <td>01:32:44.107 01:32:46.790 (laughter)</td>\n",
       "      <td>02:02:35.081 02:02:40.387 ALL: Ten!</td>\n",
       "    </tr>\n",
       "    <tr>\n",
       "      <th>Taliesin</th>\n",
       "      <td>0 days 00:12:59.757000</td>\n",
       "      <td>02:42:50.604 02:43:03.033 TALIESIN: Actually, ...</td>\n",
       "      <td>02:56:02.790 02:56:05.354 TALIESIN: Another 60...</td>\n",
       "    </tr>\n",
       "    <tr>\n",
       "      <th>Liam</th>\n",
       "      <td>0 days 00:11:55.840000</td>\n",
       "      <td>03:43:10.514 03:43:12.983 LIAM: (quietly) I do...</td>\n",
       "      <td>03:55:08.823 03:55:12.888 LIAM: I have so much...</td>\n",
       "    </tr>\n",
       "    <tr>\n",
       "      <th>Sumalee</th>\n",
       "      <td>0 days 00:10:23.593000</td>\n",
       "      <td>00:34:45.209 00:34:48.338 SUMALEE: We shall su...</td>\n",
       "      <td>00:45:11.931 00:45:13.522 SUMALEE: Could an an...</td>\n",
       "    </tr>\n",
       "    <tr>\n",
       "      <th>Matt</th>\n",
       "      <td>0 days 00:10:09.829000</td>\n",
       "      <td>01:00:23.772 01:00:26.851 MATT: You actually h...</td>\n",
       "      <td>01:10:36.680 01:10:50.194 MATT: It's a chitino...</td>\n",
       "    </tr>\n",
       "    <tr>\n",
       "      <th>Ashley</th>\n",
       "      <td>0 days 00:08:02.355000</td>\n",
       "      <td>03:39:02.730 03:39:03.992 ASHLEY: Perfect.</td>\n",
       "      <td>03:47:06.347 03:47:09.195 ASHLEY: Oh my god. Y...</td>\n",
       "    </tr>\n",
       "    <tr>\n",
       "      <th>Marisha</th>\n",
       "      <td>0 days 00:06:02.001000</td>\n",
       "      <td>00:51:51.193 00:51:54.076 MARISHA: Casala.</td>\n",
       "      <td>00:57:56.077 00:57:59.253 MARISHA: Wait, back ...</td>\n",
       "    </tr>\n",
       "    <tr>\n",
       "      <th>Sam</th>\n",
       "      <td>0 days 00:04:41.362000</td>\n",
       "      <td>00:39:16.992 00:39:19.890 SAM: Should we hop t...</td>\n",
       "      <td>00:44:01.252 00:44:07.545 SAM: Is there any si...</td>\n",
       "    </tr>\n",
       "  </tbody>\n",
       "</table>\n",
       "</div>"
      ],
      "text/plain": [
       "                       interval  \\\n",
       "All      0 days 00:29:48.291000   \n",
       "Taliesin 0 days 00:12:59.757000   \n",
       "Liam     0 days 00:11:55.840000   \n",
       "Sumalee  0 days 00:10:23.593000   \n",
       "Matt     0 days 00:10:09.829000   \n",
       "Ashley   0 days 00:08:02.355000   \n",
       "Marisha  0 days 00:06:02.001000   \n",
       "Sam      0 days 00:04:41.362000   \n",
       "\n",
       "                                              starting_line  \\\n",
       "All                    01:32:44.107 01:32:46.790 (laughter)   \n",
       "Taliesin  02:42:50.604 02:43:03.033 TALIESIN: Actually, ...   \n",
       "Liam      03:43:10.514 03:43:12.983 LIAM: (quietly) I do...   \n",
       "Sumalee   00:34:45.209 00:34:48.338 SUMALEE: We shall su...   \n",
       "Matt      01:00:23.772 01:00:26.851 MATT: You actually h...   \n",
       "Ashley           03:39:02.730 03:39:03.992 ASHLEY: Perfect.   \n",
       "Marisha          00:51:51.193 00:51:54.076 MARISHA: Casala.   \n",
       "Sam       00:39:16.992 00:39:19.890 SAM: Should we hop t...   \n",
       "\n",
       "                                                ending_line  \n",
       "All                     02:02:35.081 02:02:40.387 ALL: Ten!  \n",
       "Taliesin  02:56:02.790 02:56:05.354 TALIESIN: Another 60...  \n",
       "Liam      03:55:08.823 03:55:12.888 LIAM: I have so much...  \n",
       "Sumalee   00:45:11.931 00:45:13.522 SUMALEE: Could an an...  \n",
       "Matt      01:10:36.680 01:10:50.194 MATT: It's a chitino...  \n",
       "Ashley    03:47:06.347 03:47:09.195 ASHLEY: Oh my god. Y...  \n",
       "Marisha   00:57:56.077 00:57:59.253 MARISHA: Wait, back ...  \n",
       "Sam       00:44:01.252 00:44:07.545 SAM: Is there any si...  "
      ]
     },
     "metadata": {},
     "output_type": "display_data"
    },
    {
     "data": {
      "text/markdown": [
       "# Episode 29 - The Stalking Nightmare"
      ],
      "text/plain": [
       "<IPython.core.display.Markdown object>"
      ]
     },
     "metadata": {},
     "output_type": "display_data"
    },
    {
     "name": "stdout",
     "output_type": "stream",
     "text": [
      "Added to cast: Audience\n"
     ]
    },
    {
     "data": {
      "text/html": [
       "<div>\n",
       "<style scoped>\n",
       "    .dataframe tbody tr th:only-of-type {\n",
       "        vertical-align: middle;\n",
       "    }\n",
       "\n",
       "    .dataframe tbody tr th {\n",
       "        vertical-align: top;\n",
       "    }\n",
       "\n",
       "    .dataframe thead th {\n",
       "        text-align: right;\n",
       "    }\n",
       "</style>\n",
       "<table border=\"1\" class=\"dataframe\">\n",
       "  <thead>\n",
       "    <tr style=\"text-align: right;\">\n",
       "      <th></th>\n",
       "      <th>interval</th>\n",
       "      <th>starting_line</th>\n",
       "      <th>ending_line</th>\n",
       "    </tr>\n",
       "  </thead>\n",
       "  <tbody>\n",
       "    <tr>\n",
       "      <th>Audience</th>\n",
       "      <td>0 days 00:50:08.485000</td>\n",
       "      <td>00:40:08.405 00:40:10.199 AUDIENCE: Don't fuck...</td>\n",
       "      <td>01:30:18.684 01:30:21.773 AUDIENCE: Wait!</td>\n",
       "    </tr>\n",
       "    <tr>\n",
       "      <th>Liam</th>\n",
       "      <td>0 days 00:17:37.822000</td>\n",
       "      <td>02:27:15.497 02:27:16.240 LIAM: Typically.</td>\n",
       "      <td>02:44:54.062 02:45:13.011 LIAM: Okay, this is ...</td>\n",
       "    </tr>\n",
       "    <tr>\n",
       "      <th>Taliesin</th>\n",
       "      <td>0 days 00:15:04.871000</td>\n",
       "      <td>00:14:48.499 00:14:58.414 TALIESIN: That was t...</td>\n",
       "      <td>00:30:03.285 00:30:07.043 TALIESIN: I'll be th...</td>\n",
       "    </tr>\n",
       "    <tr>\n",
       "      <th>Khary</th>\n",
       "      <td>0 days 00:12:25.314000</td>\n",
       "      <td>03:17:40.498 03:17:42.068 KHARY: I should have...</td>\n",
       "      <td>03:30:07.382 03:30:10.095 KHARY: I will use Ma...</td>\n",
       "    </tr>\n",
       "    <tr>\n",
       "      <th>Ashley</th>\n",
       "      <td>0 days 00:11:50.175000</td>\n",
       "      <td>00:10:15.494 00:10:18.278 ASHLEY: Time to high...</td>\n",
       "      <td>00:22:08.453 00:22:11.410 ASHLEY: Yeah. Where'...</td>\n",
       "    </tr>\n",
       "    <tr>\n",
       "      <th>Sam</th>\n",
       "      <td>0 days 00:09:43.932000</td>\n",
       "      <td>00:17:27.945 00:17:29.365 SAM: (screaming)</td>\n",
       "      <td>00:27:13.297 00:27:18.489 SAM: Matt, do they h...</td>\n",
       "    </tr>\n",
       "    <tr>\n",
       "      <th>Marisha</th>\n",
       "      <td>0 days 00:09:18.471000</td>\n",
       "      <td>00:56:33.906 00:56:35.237 MARISHA: Seven.</td>\n",
       "      <td>01:05:53.708 01:05:59.006 MARISHA: Ooh. No!</td>\n",
       "    </tr>\n",
       "    <tr>\n",
       "      <th>All</th>\n",
       "      <td>0 days 00:08:17.373000</td>\n",
       "      <td>01:37:08.128 01:37:16.074 [cheering]</td>\n",
       "      <td>01:45:33.447 01:45:38.626 [cheering]</td>\n",
       "    </tr>\n",
       "    <tr>\n",
       "      <th>Matt</th>\n",
       "      <td>0 days 00:05:37.154000</td>\n",
       "      <td>02:05:27.289 02:05:28.015 MATT: Individual.</td>\n",
       "      <td>02:11:05.169 02:11:10.464 MATT: All right, you...</td>\n",
       "    </tr>\n",
       "    <tr>\n",
       "      <th>Laura</th>\n",
       "      <td>0 days 00:00:49.702000</td>\n",
       "      <td>00:04:30.205 00:04:31.847 LAURA: We miss you s...</td>\n",
       "      <td>00:05:21.549 00:05:24.198 LAURA: We'll be watc...</td>\n",
       "    </tr>\n",
       "    <tr>\n",
       "      <th>Brian</th>\n",
       "      <td>0 days 00:00:36.636000</td>\n",
       "      <td>00:07:19.543 00:07:24.779 BRIAN: Hide your kid...</td>\n",
       "      <td>00:08:01.415 00:08:22.352 BRIAN: And-- Oh no. ...</td>\n",
       "    </tr>\n",
       "    <tr>\n",
       "      <th>Travis</th>\n",
       "      <td>0 days 00:00:29.503000</td>\n",
       "      <td>00:04:28.775 00:04:30.205 TRAVIS: So much!</td>\n",
       "      <td>00:04:59.708 00:05:00.892 TRAVIS: Yeah!</td>\n",
       "    </tr>\n",
       "  </tbody>\n",
       "</table>\n",
       "</div>"
      ],
      "text/plain": [
       "                       interval  \\\n",
       "Audience 0 days 00:50:08.485000   \n",
       "Liam     0 days 00:17:37.822000   \n",
       "Taliesin 0 days 00:15:04.871000   \n",
       "Khary    0 days 00:12:25.314000   \n",
       "Ashley   0 days 00:11:50.175000   \n",
       "Sam      0 days 00:09:43.932000   \n",
       "Marisha  0 days 00:09:18.471000   \n",
       "All      0 days 00:08:17.373000   \n",
       "Matt     0 days 00:05:37.154000   \n",
       "Laura    0 days 00:00:49.702000   \n",
       "Brian    0 days 00:00:36.636000   \n",
       "Travis   0 days 00:00:29.503000   \n",
       "\n",
       "                                              starting_line  \\\n",
       "Audience  00:40:08.405 00:40:10.199 AUDIENCE: Don't fuck...   \n",
       "Liam             02:27:15.497 02:27:16.240 LIAM: Typically.   \n",
       "Taliesin  00:14:48.499 00:14:58.414 TALIESIN: That was t...   \n",
       "Khary     03:17:40.498 03:17:42.068 KHARY: I should have...   \n",
       "Ashley    00:10:15.494 00:10:18.278 ASHLEY: Time to high...   \n",
       "Sam              00:17:27.945 00:17:29.365 SAM: (screaming)   \n",
       "Marisha           00:56:33.906 00:56:35.237 MARISHA: Seven.   \n",
       "All                    01:37:08.128 01:37:16.074 [cheering]   \n",
       "Matt            02:05:27.289 02:05:28.015 MATT: Individual.   \n",
       "Laura     00:04:30.205 00:04:31.847 LAURA: We miss you s...   \n",
       "Brian     00:07:19.543 00:07:24.779 BRIAN: Hide your kid...   \n",
       "Travis           00:04:28.775 00:04:30.205 TRAVIS: So much!   \n",
       "\n",
       "                                                ending_line  \n",
       "Audience          01:30:18.684 01:30:21.773 AUDIENCE: Wait!  \n",
       "Liam      02:44:54.062 02:45:13.011 LIAM: Okay, this is ...  \n",
       "Taliesin  00:30:03.285 00:30:07.043 TALIESIN: I'll be th...  \n",
       "Khary     03:30:07.382 03:30:10.095 KHARY: I will use Ma...  \n",
       "Ashley    00:22:08.453 00:22:11.410 ASHLEY: Yeah. Where'...  \n",
       "Sam       00:27:13.297 00:27:18.489 SAM: Matt, do they h...  \n",
       "Marisha         01:05:53.708 01:05:59.006 MARISHA: Ooh. No!  \n",
       "All                    01:45:33.447 01:45:38.626 [cheering]  \n",
       "Matt      02:11:05.169 02:11:10.464 MATT: All right, you...  \n",
       "Laura     00:05:21.549 00:05:24.198 LAURA: We'll be watc...  \n",
       "Brian     00:08:01.415 00:08:22.352 BRIAN: And-- Oh no. ...  \n",
       "Travis              00:04:59.708 00:05:00.892 TRAVIS: Yeah!  "
      ]
     },
     "metadata": {},
     "output_type": "display_data"
    },
    {
     "data": {
      "text/markdown": [
       "# Episode 30 - The Journey Home"
      ],
      "text/plain": [
       "<IPython.core.display.Markdown object>"
      ]
     },
     "metadata": {},
     "output_type": "display_data"
    },
    {
     "data": {
      "text/html": [
       "<div>\n",
       "<style scoped>\n",
       "    .dataframe tbody tr th:only-of-type {\n",
       "        vertical-align: middle;\n",
       "    }\n",
       "\n",
       "    .dataframe tbody tr th {\n",
       "        vertical-align: top;\n",
       "    }\n",
       "\n",
       "    .dataframe thead th {\n",
       "        text-align: right;\n",
       "    }\n",
       "</style>\n",
       "<table border=\"1\" class=\"dataframe\">\n",
       "  <thead>\n",
       "    <tr style=\"text-align: right;\">\n",
       "      <th></th>\n",
       "      <th>interval</th>\n",
       "      <th>starting_line</th>\n",
       "      <th>ending_line</th>\n",
       "    </tr>\n",
       "  </thead>\n",
       "  <tbody>\n",
       "    <tr>\n",
       "      <th>All</th>\n",
       "      <td>0 days 00:43:33.775000</td>\n",
       "      <td>02:15:26.604 02:15:32.702 (laughter)</td>\n",
       "      <td>02:59:06.477 02:59:09.737 (laughter)</td>\n",
       "    </tr>\n",
       "    <tr>\n",
       "      <th>Laura</th>\n",
       "      <td>0 days 00:21:35.206000</td>\n",
       "      <td>01:31:01.804 01:31:04.192 LAURA: That is impor...</td>\n",
       "      <td>01:52:39.398 01:52:45.509 LAURA: We're doing e...</td>\n",
       "    </tr>\n",
       "    <tr>\n",
       "      <th>Taliesin</th>\n",
       "      <td>0 days 00:16:17.717000</td>\n",
       "      <td>01:04:20.584 01:04:21.620 TALIESIN: Quite a bit.</td>\n",
       "      <td>01:20:39.337 01:20:42.757 TALIESIN: I hope it'...</td>\n",
       "    </tr>\n",
       "    <tr>\n",
       "      <th>Travis</th>\n",
       "      <td>0 days 00:11:18.769000</td>\n",
       "      <td>02:10:04.994 02:10:06.439 TRAVIS: Holy shit.</td>\n",
       "      <td>02:21:25.208 02:21:37.862 TRAVIS: I'll hop off...</td>\n",
       "    </tr>\n",
       "    <tr>\n",
       "      <th>Sam</th>\n",
       "      <td>0 days 00:09:31.060000</td>\n",
       "      <td>01:39:18.605 01:39:20.442 SAM: (cooing)</td>\n",
       "      <td>01:48:51.502 01:48:53.901 SAM: Us?</td>\n",
       "    </tr>\n",
       "    <tr>\n",
       "      <th>Marisha</th>\n",
       "      <td>0 days 00:09:03.902000</td>\n",
       "      <td>01:58:54.596 01:58:55.701 MARISHA: Definitely ...</td>\n",
       "      <td>02:07:59.603 02:08:01.306 MARISHA: I wish you ...</td>\n",
       "    </tr>\n",
       "    <tr>\n",
       "      <th>Liam</th>\n",
       "      <td>0 days 00:09:00.384000</td>\n",
       "      <td>00:07:41.845 00:07:43.904 LIAM: Jeez, get off ...</td>\n",
       "      <td>00:16:44.288 00:16:51.610 LIAM: Seeing Beau go...</td>\n",
       "    </tr>\n",
       "    <tr>\n",
       "      <th>Matt</th>\n",
       "      <td>0 days 00:05:27.708000</td>\n",
       "      <td>02:09:21.575 02:10:04.994 MATT: As this is hap...</td>\n",
       "      <td>02:15:32.702 02:15:42.081 MATT: Continuing sou...</td>\n",
       "    </tr>\n",
       "  </tbody>\n",
       "</table>\n",
       "</div>"
      ],
      "text/plain": [
       "                       interval  \\\n",
       "All      0 days 00:43:33.775000   \n",
       "Laura    0 days 00:21:35.206000   \n",
       "Taliesin 0 days 00:16:17.717000   \n",
       "Travis   0 days 00:11:18.769000   \n",
       "Sam      0 days 00:09:31.060000   \n",
       "Marisha  0 days 00:09:03.902000   \n",
       "Liam     0 days 00:09:00.384000   \n",
       "Matt     0 days 00:05:27.708000   \n",
       "\n",
       "                                              starting_line  \\\n",
       "All                    02:15:26.604 02:15:32.702 (laughter)   \n",
       "Laura     01:31:01.804 01:31:04.192 LAURA: That is impor...   \n",
       "Taliesin   01:04:20.584 01:04:21.620 TALIESIN: Quite a bit.   \n",
       "Travis         02:10:04.994 02:10:06.439 TRAVIS: Holy shit.   \n",
       "Sam                 01:39:18.605 01:39:20.442 SAM: (cooing)   \n",
       "Marisha   01:58:54.596 01:58:55.701 MARISHA: Definitely ...   \n",
       "Liam      00:07:41.845 00:07:43.904 LIAM: Jeez, get off ...   \n",
       "Matt      02:09:21.575 02:10:04.994 MATT: As this is hap...   \n",
       "\n",
       "                                                ending_line  \n",
       "All                    02:59:06.477 02:59:09.737 (laughter)  \n",
       "Laura     01:52:39.398 01:52:45.509 LAURA: We're doing e...  \n",
       "Taliesin  01:20:39.337 01:20:42.757 TALIESIN: I hope it'...  \n",
       "Travis    02:21:25.208 02:21:37.862 TRAVIS: I'll hop off...  \n",
       "Sam                      01:48:51.502 01:48:53.901 SAM: Us?  \n",
       "Marisha   02:07:59.603 02:08:01.306 MARISHA: I wish you ...  \n",
       "Liam      00:16:44.288 00:16:51.610 LIAM: Seeing Beau go...  \n",
       "Matt      02:15:32.702 02:15:42.081 MATT: Continuing sou...  "
      ]
     },
     "metadata": {},
     "output_type": "display_data"
    },
    {
     "data": {
      "text/markdown": [
       "# Episode 31 - Commerce & Chaos"
      ],
      "text/plain": [
       "<IPython.core.display.Markdown object>"
      ]
     },
     "metadata": {},
     "output_type": "display_data"
    },
    {
     "data": {
      "text/html": [
       "<div>\n",
       "<style scoped>\n",
       "    .dataframe tbody tr th:only-of-type {\n",
       "        vertical-align: middle;\n",
       "    }\n",
       "\n",
       "    .dataframe tbody tr th {\n",
       "        vertical-align: top;\n",
       "    }\n",
       "\n",
       "    .dataframe thead th {\n",
       "        text-align: right;\n",
       "    }\n",
       "</style>\n",
       "<table border=\"1\" class=\"dataframe\">\n",
       "  <thead>\n",
       "    <tr style=\"text-align: right;\">\n",
       "      <th></th>\n",
       "      <th>interval</th>\n",
       "      <th>starting_line</th>\n",
       "      <th>ending_line</th>\n",
       "    </tr>\n",
       "  </thead>\n",
       "  <tbody>\n",
       "    <tr>\n",
       "      <th>Liam</th>\n",
       "      <td>0 days 00:37:16.351000</td>\n",
       "      <td>01:40:56.722 01:41:06.327 LIAM: Ja, good, cool...</td>\n",
       "      <td>02:18:22.678 02:18:25.213 LIAM: Is the Travele...</td>\n",
       "    </tr>\n",
       "    <tr>\n",
       "      <th>All</th>\n",
       "      <td>0 days 00:31:28.024000</td>\n",
       "      <td>01:58:33.796 01:58:36.162 (laughter)</td>\n",
       "      <td>02:30:04.186 02:30:06.986 (laughter)</td>\n",
       "    </tr>\n",
       "    <tr>\n",
       "      <th>Marisha</th>\n",
       "      <td>0 days 00:29:50.694000</td>\n",
       "      <td>01:34:20.857 01:34:23.164 MARISHA: I go find C...</td>\n",
       "      <td>02:04:13.858 02:04:16.119 MARISHA: Our lord an...</td>\n",
       "    </tr>\n",
       "    <tr>\n",
       "      <th>Sam</th>\n",
       "      <td>0 days 00:21:51.259000</td>\n",
       "      <td>00:26:41.631 00:26:45.080 SAM: I mean, I don't...</td>\n",
       "      <td>00:48:36.339 00:48:38.569 SAM: Shopping and cr...</td>\n",
       "    </tr>\n",
       "    <tr>\n",
       "      <th>Laura</th>\n",
       "      <td>0 days 00:17:58.728000</td>\n",
       "      <td>01:14:35.656 01:14:37.994 LAURA: I'm done with...</td>\n",
       "      <td>01:32:36.722 01:32:38.077 LAURA: Everybody, be...</td>\n",
       "    </tr>\n",
       "    <tr>\n",
       "      <th>Taliesin</th>\n",
       "      <td>0 days 00:17:55.847000</td>\n",
       "      <td>01:14:26.806 01:14:35.656 TALIESIN: I'm perfec...</td>\n",
       "      <td>01:32:31.503 01:32:34.296 TALIESIN: You have m...</td>\n",
       "    </tr>\n",
       "    <tr>\n",
       "      <th>Travis</th>\n",
       "      <td>0 days 00:14:19.627000</td>\n",
       "      <td>00:12:43.090 00:12:45.378 TRAVIS: Oh shit! Okay!</td>\n",
       "      <td>00:27:05.005 00:27:06.435 TRAVIS: (deadpan) Wa...</td>\n",
       "    </tr>\n",
       "    <tr>\n",
       "      <th>Matt</th>\n",
       "      <td>0 days 00:06:35.516000</td>\n",
       "      <td>02:50:39.841 02:51:11.503 MATT: You see as the...</td>\n",
       "      <td>02:57:47.019 02:57:50.019 MATT: No, that's wha...</td>\n",
       "    </tr>\n",
       "  </tbody>\n",
       "</table>\n",
       "</div>"
      ],
      "text/plain": [
       "                       interval  \\\n",
       "Liam     0 days 00:37:16.351000   \n",
       "All      0 days 00:31:28.024000   \n",
       "Marisha  0 days 00:29:50.694000   \n",
       "Sam      0 days 00:21:51.259000   \n",
       "Laura    0 days 00:17:58.728000   \n",
       "Taliesin 0 days 00:17:55.847000   \n",
       "Travis   0 days 00:14:19.627000   \n",
       "Matt     0 days 00:06:35.516000   \n",
       "\n",
       "                                              starting_line  \\\n",
       "Liam      01:40:56.722 01:41:06.327 LIAM: Ja, good, cool...   \n",
       "All                    01:58:33.796 01:58:36.162 (laughter)   \n",
       "Marisha   01:34:20.857 01:34:23.164 MARISHA: I go find C...   \n",
       "Sam       00:26:41.631 00:26:45.080 SAM: I mean, I don't...   \n",
       "Laura     01:14:35.656 01:14:37.994 LAURA: I'm done with...   \n",
       "Taliesin  01:14:26.806 01:14:35.656 TALIESIN: I'm perfec...   \n",
       "Travis     00:12:43.090 00:12:45.378 TRAVIS: Oh shit! Okay!   \n",
       "Matt      02:50:39.841 02:51:11.503 MATT: You see as the...   \n",
       "\n",
       "                                                ending_line  \n",
       "Liam      02:18:22.678 02:18:25.213 LIAM: Is the Travele...  \n",
       "All                    02:30:04.186 02:30:06.986 (laughter)  \n",
       "Marisha   02:04:13.858 02:04:16.119 MARISHA: Our lord an...  \n",
       "Sam       00:48:36.339 00:48:38.569 SAM: Shopping and cr...  \n",
       "Laura     01:32:36.722 01:32:38.077 LAURA: Everybody, be...  \n",
       "Taliesin  01:32:31.503 01:32:34.296 TALIESIN: You have m...  \n",
       "Travis    00:27:05.005 00:27:06.435 TRAVIS: (deadpan) Wa...  \n",
       "Matt      02:57:47.019 02:57:50.019 MATT: No, that's wha...  "
      ]
     },
     "metadata": {},
     "output_type": "display_data"
    },
    {
     "data": {
      "text/markdown": [
       "# Episode 32 - Beyond the Boundaries "
      ],
      "text/plain": [
       "<IPython.core.display.Markdown object>"
      ]
     },
     "metadata": {},
     "output_type": "display_data"
    },
    {
     "data": {
      "text/html": [
       "<div>\n",
       "<style scoped>\n",
       "    .dataframe tbody tr th:only-of-type {\n",
       "        vertical-align: middle;\n",
       "    }\n",
       "\n",
       "    .dataframe tbody tr th {\n",
       "        vertical-align: top;\n",
       "    }\n",
       "\n",
       "    .dataframe thead th {\n",
       "        text-align: right;\n",
       "    }\n",
       "</style>\n",
       "<table border=\"1\" class=\"dataframe\">\n",
       "  <thead>\n",
       "    <tr style=\"text-align: right;\">\n",
       "      <th></th>\n",
       "      <th>interval</th>\n",
       "      <th>starting_line</th>\n",
       "      <th>ending_line</th>\n",
       "    </tr>\n",
       "  </thead>\n",
       "  <tbody>\n",
       "    <tr>\n",
       "      <th>All</th>\n",
       "      <td>0 days 00:24:43.186000</td>\n",
       "      <td>00:20:12.059 00:20:18.529 (laughter)</td>\n",
       "      <td>00:45:01.715 00:45:05.395 (laughter)</td>\n",
       "    </tr>\n",
       "    <tr>\n",
       "      <th>Laura</th>\n",
       "      <td>0 days 00:13:50.494000</td>\n",
       "      <td>01:43:47.755 01:43:50.293 LAURA: You spent a t...</td>\n",
       "      <td>01:57:40.787 01:57:44.091 LAURA: Well, the tar...</td>\n",
       "    </tr>\n",
       "    <tr>\n",
       "      <th>Marisha</th>\n",
       "      <td>0 days 00:12:07.764000</td>\n",
       "      <td>00:05:14.726 00:05:20.620 MARISHA: If anyone o...</td>\n",
       "      <td>00:17:28.384 00:17:29.477 MARISHA: That's an o...</td>\n",
       "    </tr>\n",
       "    <tr>\n",
       "      <th>Sam</th>\n",
       "      <td>0 days 00:11:32.625000</td>\n",
       "      <td>03:20:15.253 03:20:17.368 SAM: We're going to ...</td>\n",
       "      <td>03:31:49.993 03:31:52.484 SAM: I'm going to ea...</td>\n",
       "    </tr>\n",
       "    <tr>\n",
       "      <th>Liam</th>\n",
       "      <td>0 days 00:09:43.653000</td>\n",
       "      <td>01:46:46.564 01:46:50.480 LIAM: It just means ...</td>\n",
       "      <td>01:56:34.133 01:56:35.814 LIAM: How far to the...</td>\n",
       "    </tr>\n",
       "    <tr>\n",
       "      <th>Taliesin</th>\n",
       "      <td>0 days 00:09:17.588000</td>\n",
       "      <td>00:34:43.086 00:34:49.205 TALIESIN: I don't kn...</td>\n",
       "      <td>00:44:06.793 00:44:07.672 TALIESIN: Pick one.</td>\n",
       "    </tr>\n",
       "    <tr>\n",
       "      <th>Travis</th>\n",
       "      <td>0 days 00:09:11.855000</td>\n",
       "      <td>02:42:15.248 02:42:16.659 TRAVIS: She is, man!</td>\n",
       "      <td>02:51:28.514 02:51:35.124 TRAVIS: Yeah, I just...</td>\n",
       "    </tr>\n",
       "    <tr>\n",
       "      <th>Matt</th>\n",
       "      <td>0 days 00:02:20.890000</td>\n",
       "      <td>00:00:53.100 00:00:53.693 MATT: Sam.</td>\n",
       "      <td>00:03:14.583 00:03:15.055 MATT: Yeah!</td>\n",
       "    </tr>\n",
       "  </tbody>\n",
       "</table>\n",
       "</div>"
      ],
      "text/plain": [
       "                       interval  \\\n",
       "All      0 days 00:24:43.186000   \n",
       "Laura    0 days 00:13:50.494000   \n",
       "Marisha  0 days 00:12:07.764000   \n",
       "Sam      0 days 00:11:32.625000   \n",
       "Liam     0 days 00:09:43.653000   \n",
       "Taliesin 0 days 00:09:17.588000   \n",
       "Travis   0 days 00:09:11.855000   \n",
       "Matt     0 days 00:02:20.890000   \n",
       "\n",
       "                                              starting_line  \\\n",
       "All                    00:20:12.059 00:20:18.529 (laughter)   \n",
       "Laura     01:43:47.755 01:43:50.293 LAURA: You spent a t...   \n",
       "Marisha   00:05:14.726 00:05:20.620 MARISHA: If anyone o...   \n",
       "Sam       03:20:15.253 03:20:17.368 SAM: We're going to ...   \n",
       "Liam      01:46:46.564 01:46:50.480 LIAM: It just means ...   \n",
       "Taliesin  00:34:43.086 00:34:49.205 TALIESIN: I don't kn...   \n",
       "Travis       02:42:15.248 02:42:16.659 TRAVIS: She is, man!   \n",
       "Matt                   00:00:53.100 00:00:53.693 MATT: Sam.   \n",
       "\n",
       "                                                ending_line  \n",
       "All                    00:45:01.715 00:45:05.395 (laughter)  \n",
       "Laura     01:57:40.787 01:57:44.091 LAURA: Well, the tar...  \n",
       "Marisha   00:17:28.384 00:17:29.477 MARISHA: That's an o...  \n",
       "Sam       03:31:49.993 03:31:52.484 SAM: I'm going to ea...  \n",
       "Liam      01:56:34.133 01:56:35.814 LIAM: How far to the...  \n",
       "Taliesin      00:44:06.793 00:44:07.672 TALIESIN: Pick one.  \n",
       "Travis    02:51:28.514 02:51:35.124 TRAVIS: Yeah, I just...  \n",
       "Matt                  00:03:14.583 00:03:15.055 MATT: Yeah!  "
      ]
     },
     "metadata": {},
     "output_type": "display_data"
    },
    {
     "data": {
      "text/markdown": [
       "# Episode 33 - The Ruby and the Sapphire"
      ],
      "text/plain": [
       "<IPython.core.display.Markdown object>"
      ]
     },
     "metadata": {},
     "output_type": "display_data"
    },
    {
     "data": {
      "text/html": [
       "<div>\n",
       "<style scoped>\n",
       "    .dataframe tbody tr th:only-of-type {\n",
       "        vertical-align: middle;\n",
       "    }\n",
       "\n",
       "    .dataframe tbody tr th {\n",
       "        vertical-align: top;\n",
       "    }\n",
       "\n",
       "    .dataframe thead th {\n",
       "        text-align: right;\n",
       "    }\n",
       "</style>\n",
       "<table border=\"1\" class=\"dataframe\">\n",
       "  <thead>\n",
       "    <tr style=\"text-align: right;\">\n",
       "      <th></th>\n",
       "      <th>interval</th>\n",
       "      <th>starting_line</th>\n",
       "      <th>ending_line</th>\n",
       "    </tr>\n",
       "  </thead>\n",
       "  <tbody>\n",
       "    <tr>\n",
       "      <th>All</th>\n",
       "      <td>0 days 01:24:37.629000</td>\n",
       "      <td>00:11:20.849 00:12:38.909 [groovy Critical Rol...</td>\n",
       "      <td>01:37:16.538 01:37:18.247 (shouting)</td>\n",
       "    </tr>\n",
       "    <tr>\n",
       "      <th>Taliesin</th>\n",
       "      <td>0 days 00:20:24.230000</td>\n",
       "      <td>01:24:23.569 01:24:25.031 TALIESIN: Aw!</td>\n",
       "      <td>01:44:49.261 01:44:50.533 TALIESIN: No.</td>\n",
       "    </tr>\n",
       "    <tr>\n",
       "      <th>Marisha</th>\n",
       "      <td>0 days 00:15:31.749000</td>\n",
       "      <td>02:59:51.898 02:59:53.574 MARISHA: We should c...</td>\n",
       "      <td>03:15:25.323 03:15:29.780 MARISHA: My passive ...</td>\n",
       "    </tr>\n",
       "    <tr>\n",
       "      <th>Sam</th>\n",
       "      <td>0 days 00:13:55.217000</td>\n",
       "      <td>02:38:07.860 02:38:11.140 SAM: What about you,...</td>\n",
       "      <td>02:52:06.357 02:52:08.627 SAM: We're going to ...</td>\n",
       "    </tr>\n",
       "    <tr>\n",
       "      <th>Laura</th>\n",
       "      <td>0 days 00:13:43.447000</td>\n",
       "      <td>02:38:11.140 02:38:14.619 LAURA: I'm going to ...</td>\n",
       "      <td>02:51:58.066 02:52:02.157 LAURA: It's really p...</td>\n",
       "    </tr>\n",
       "    <tr>\n",
       "      <th>Liam</th>\n",
       "      <td>0 days 00:10:12.906000</td>\n",
       "      <td>01:55:24.575 01:55:26.662 LIAM: Fish out of wa...</td>\n",
       "      <td>02:05:39.568 02:05:41.428 LIAM: What was that ...</td>\n",
       "    </tr>\n",
       "    <tr>\n",
       "      <th>Travis</th>\n",
       "      <td>0 days 00:09:29.864000</td>\n",
       "      <td>03:00:16.180 03:00:18.642 TRAVIS: So good.</td>\n",
       "      <td>03:09:48.506 03:09:51.898 TRAVIS: Shit.</td>\n",
       "    </tr>\n",
       "    <tr>\n",
       "      <th>Matt</th>\n",
       "      <td>0 days 00:05:21.048000</td>\n",
       "      <td>00:14:34.756 00:14:49.099 MATT: Mighty Nein, a...</td>\n",
       "      <td>00:20:10.147 00:20:11.832 MATT: Make an insigh...</td>\n",
       "    </tr>\n",
       "  </tbody>\n",
       "</table>\n",
       "</div>"
      ],
      "text/plain": [
       "                       interval  \\\n",
       "All      0 days 01:24:37.629000   \n",
       "Taliesin 0 days 00:20:24.230000   \n",
       "Marisha  0 days 00:15:31.749000   \n",
       "Sam      0 days 00:13:55.217000   \n",
       "Laura    0 days 00:13:43.447000   \n",
       "Liam     0 days 00:10:12.906000   \n",
       "Travis   0 days 00:09:29.864000   \n",
       "Matt     0 days 00:05:21.048000   \n",
       "\n",
       "                                              starting_line  \\\n",
       "All       00:11:20.849 00:12:38.909 [groovy Critical Rol...   \n",
       "Taliesin            01:24:23.569 01:24:25.031 TALIESIN: Aw!   \n",
       "Marisha   02:59:51.898 02:59:53.574 MARISHA: We should c...   \n",
       "Sam       02:38:07.860 02:38:11.140 SAM: What about you,...   \n",
       "Laura     02:38:11.140 02:38:14.619 LAURA: I'm going to ...   \n",
       "Liam      01:55:24.575 01:55:26.662 LIAM: Fish out of wa...   \n",
       "Travis           03:00:16.180 03:00:18.642 TRAVIS: So good.   \n",
       "Matt      00:14:34.756 00:14:49.099 MATT: Mighty Nein, a...   \n",
       "\n",
       "                                                ending_line  \n",
       "All                    01:37:16.538 01:37:18.247 (shouting)  \n",
       "Taliesin            01:44:49.261 01:44:50.533 TALIESIN: No.  \n",
       "Marisha   03:15:25.323 03:15:29.780 MARISHA: My passive ...  \n",
       "Sam       02:52:06.357 02:52:08.627 SAM: We're going to ...  \n",
       "Laura     02:51:58.066 02:52:02.157 LAURA: It's really p...  \n",
       "Liam      02:05:39.568 02:05:41.428 LIAM: What was that ...  \n",
       "Travis              03:09:48.506 03:09:51.898 TRAVIS: Shit.  \n",
       "Matt      00:20:10.147 00:20:11.832 MATT: Make an insigh...  "
      ]
     },
     "metadata": {},
     "output_type": "display_data"
    },
    {
     "data": {
      "text/markdown": [
       "# Episode 34 - Encroaching Waters"
      ],
      "text/plain": [
       "<IPython.core.display.Markdown object>"
      ]
     },
     "metadata": {},
     "output_type": "display_data"
    },
    {
     "name": "stdout",
     "output_type": "stream",
     "text": [
      "Added to cast: Max\n",
      "Added to cast: Cast\n"
     ]
    },
    {
     "data": {
      "text/html": [
       "<div>\n",
       "<style scoped>\n",
       "    .dataframe tbody tr th:only-of-type {\n",
       "        vertical-align: middle;\n",
       "    }\n",
       "\n",
       "    .dataframe tbody tr th {\n",
       "        vertical-align: top;\n",
       "    }\n",
       "\n",
       "    .dataframe thead th {\n",
       "        text-align: right;\n",
       "    }\n",
       "</style>\n",
       "<table border=\"1\" class=\"dataframe\">\n",
       "  <thead>\n",
       "    <tr style=\"text-align: right;\">\n",
       "      <th></th>\n",
       "      <th>interval</th>\n",
       "      <th>starting_line</th>\n",
       "      <th>ending_line</th>\n",
       "    </tr>\n",
       "  </thead>\n",
       "  <tbody>\n",
       "    <tr>\n",
       "      <th>Ashley</th>\n",
       "      <td>0 days 00:20:04.868000</td>\n",
       "      <td>01:13:22.552 01:13:23.508 ASHLEY: Yeah.</td>\n",
       "      <td>01:33:28.376 01:33:33.707 ASHLEY: Could I look...</td>\n",
       "    </tr>\n",
       "    <tr>\n",
       "      <th>All</th>\n",
       "      <td>0 days 00:17:55.035000</td>\n",
       "      <td>02:27:30.133 02:27:31.529 (laughter)</td>\n",
       "      <td>02:45:26.564 02:45:28.067 ALL: (gasping)</td>\n",
       "    </tr>\n",
       "    <tr>\n",
       "      <th>Taliesin</th>\n",
       "      <td>0 days 00:09:44.681000</td>\n",
       "      <td>01:27:39.560 01:27:42.968 TALIESIN: Frumpkin, ...</td>\n",
       "      <td>01:37:27.649 01:37:36.678 TALIESIN: Based on t...</td>\n",
       "    </tr>\n",
       "    <tr>\n",
       "      <th>Liam</th>\n",
       "      <td>0 days 00:08:45.481000</td>\n",
       "      <td>03:20:10.282 03:20:12.023 LIAM: Are you a fan ...</td>\n",
       "      <td>03:28:57.504 03:29:00.757 LIAM: What's the dis...</td>\n",
       "    </tr>\n",
       "    <tr>\n",
       "      <th>Marisha</th>\n",
       "      <td>0 days 00:08:33.764000</td>\n",
       "      <td>00:22:01.283 00:22:02.803 MARISHA: Just go on ...</td>\n",
       "      <td>00:30:36.567 00:30:38.351 MARISHA: Crotchety h...</td>\n",
       "    </tr>\n",
       "    <tr>\n",
       "      <th>Sam</th>\n",
       "      <td>0 days 00:08:33.450000</td>\n",
       "      <td>00:35:26.277 00:35:28.231 SAM: 200 gold.</td>\n",
       "      <td>00:44:01.681 00:44:05.597 SAM: Cue heavy metal...</td>\n",
       "    </tr>\n",
       "    <tr>\n",
       "      <th>Laura</th>\n",
       "      <td>0 days 00:06:48.706000</td>\n",
       "      <td>00:07:18.949 00:07:21.305 LAURA: Are you going...</td>\n",
       "      <td>00:14:10.011 00:14:11.453 LAURA: Is that a shell?</td>\n",
       "    </tr>\n",
       "    <tr>\n",
       "      <th>Travis</th>\n",
       "      <td>0 days 00:06:33.487000</td>\n",
       "      <td>02:10:52.910 02:10:54.313 TRAVIS: That is my t...</td>\n",
       "      <td>02:17:27.800 02:17:28.533 TRAVIS: Nein.</td>\n",
       "    </tr>\n",
       "    <tr>\n",
       "      <th>Matt</th>\n",
       "      <td>0 days 00:05:24.520000</td>\n",
       "      <td>00:50:26.482 00:50:28.262 MATT: You have no id...</td>\n",
       "      <td>00:55:52.782 00:55:59.204 MATT: You see this b...</td>\n",
       "    </tr>\n",
       "    <tr>\n",
       "      <th>Cast</th>\n",
       "      <td>0 days 00:00:58.408000</td>\n",
       "      <td>02:03:26.441 02:03:27.778 CAST: Ruby!</td>\n",
       "      <td>02:04:26.186 02:04:27.755 CAST: Ooh!</td>\n",
       "    </tr>\n",
       "    <tr>\n",
       "      <th>Max</th>\n",
       "      <td>0 days 00:00:03.940000</td>\n",
       "      <td>00:00:37.892 00:00:42.072 MAX: (as Nott, but b...</td>\n",
       "      <td>00:00:46.012 00:01:05.070 MAX: Anyway, being w...</td>\n",
       "    </tr>\n",
       "  </tbody>\n",
       "</table>\n",
       "</div>"
      ],
      "text/plain": [
       "                       interval  \\\n",
       "Ashley   0 days 00:20:04.868000   \n",
       "All      0 days 00:17:55.035000   \n",
       "Taliesin 0 days 00:09:44.681000   \n",
       "Liam     0 days 00:08:45.481000   \n",
       "Marisha  0 days 00:08:33.764000   \n",
       "Sam      0 days 00:08:33.450000   \n",
       "Laura    0 days 00:06:48.706000   \n",
       "Travis   0 days 00:06:33.487000   \n",
       "Matt     0 days 00:05:24.520000   \n",
       "Cast     0 days 00:00:58.408000   \n",
       "Max      0 days 00:00:03.940000   \n",
       "\n",
       "                                              starting_line  \\\n",
       "Ashley              01:13:22.552 01:13:23.508 ASHLEY: Yeah.   \n",
       "All                    02:27:30.133 02:27:31.529 (laughter)   \n",
       "Taliesin  01:27:39.560 01:27:42.968 TALIESIN: Frumpkin, ...   \n",
       "Liam      03:20:10.282 03:20:12.023 LIAM: Are you a fan ...   \n",
       "Marisha   00:22:01.283 00:22:02.803 MARISHA: Just go on ...   \n",
       "Sam                00:35:26.277 00:35:28.231 SAM: 200 gold.   \n",
       "Laura     00:07:18.949 00:07:21.305 LAURA: Are you going...   \n",
       "Travis    02:10:52.910 02:10:54.313 TRAVIS: That is my t...   \n",
       "Matt      00:50:26.482 00:50:28.262 MATT: You have no id...   \n",
       "Cast                  02:03:26.441 02:03:27.778 CAST: Ruby!   \n",
       "Max       00:00:37.892 00:00:42.072 MAX: (as Nott, but b...   \n",
       "\n",
       "                                                ending_line  \n",
       "Ashley    01:33:28.376 01:33:33.707 ASHLEY: Could I look...  \n",
       "All                02:45:26.564 02:45:28.067 ALL: (gasping)  \n",
       "Taliesin  01:37:27.649 01:37:36.678 TALIESIN: Based on t...  \n",
       "Liam      03:28:57.504 03:29:00.757 LIAM: What's the dis...  \n",
       "Marisha   00:30:36.567 00:30:38.351 MARISHA: Crotchety h...  \n",
       "Sam       00:44:01.681 00:44:05.597 SAM: Cue heavy metal...  \n",
       "Laura     00:14:10.011 00:14:11.453 LAURA: Is that a shell?  \n",
       "Travis              02:17:27.800 02:17:28.533 TRAVIS: Nein.  \n",
       "Matt      00:55:52.782 00:55:59.204 MATT: You see this b...  \n",
       "Cast                   02:04:26.186 02:04:27.755 CAST: Ooh!  \n",
       "Max       00:00:46.012 00:01:05.070 MAX: Anyway, being w...  "
      ]
     },
     "metadata": {},
     "output_type": "display_data"
    },
    {
     "data": {
      "text/markdown": [
       "# Episode 35 - Dockside Diplomacy"
      ],
      "text/plain": [
       "<IPython.core.display.Markdown object>"
      ]
     },
     "metadata": {},
     "output_type": "display_data"
    },
    {
     "data": {
      "text/html": [
       "<div>\n",
       "<style scoped>\n",
       "    .dataframe tbody tr th:only-of-type {\n",
       "        vertical-align: middle;\n",
       "    }\n",
       "\n",
       "    .dataframe tbody tr th {\n",
       "        vertical-align: top;\n",
       "    }\n",
       "\n",
       "    .dataframe thead th {\n",
       "        text-align: right;\n",
       "    }\n",
       "</style>\n",
       "<table border=\"1\" class=\"dataframe\">\n",
       "  <thead>\n",
       "    <tr style=\"text-align: right;\">\n",
       "      <th></th>\n",
       "      <th>interval</th>\n",
       "      <th>starting_line</th>\n",
       "      <th>ending_line</th>\n",
       "    </tr>\n",
       "  </thead>\n",
       "  <tbody>\n",
       "    <tr>\n",
       "      <th>All</th>\n",
       "      <td>0 days 00:19:31.455000</td>\n",
       "      <td>02:14:43.433 02:14:44.691 (laughter)</td>\n",
       "      <td>02:34:16.146 02:34:18.161 (laughter)</td>\n",
       "    </tr>\n",
       "    <tr>\n",
       "      <th>Taliesin</th>\n",
       "      <td>0 days 00:19:19.540000</td>\n",
       "      <td>01:02:20.163 01:02:21.721 TALIESIN: That was a...</td>\n",
       "      <td>01:21:41.261 01:21:55.311 TALIESIN: I'm going ...</td>\n",
       "    </tr>\n",
       "    <tr>\n",
       "      <th>Laura</th>\n",
       "      <td>0 days 00:11:51.569000</td>\n",
       "      <td>00:08:35.879 00:08:36.550 LAURA: Woo!</td>\n",
       "      <td>00:20:28.119 00:20:32.700 LAURA: I stand next ...</td>\n",
       "    </tr>\n",
       "    <tr>\n",
       "      <th>Liam</th>\n",
       "      <td>0 days 00:10:17.999000</td>\n",
       "      <td>00:04:44.734 00:04:47.417 LIAM: Why did we sta...</td>\n",
       "      <td>00:15:05.416 00:15:09.522 LIAM: They're hidden...</td>\n",
       "    </tr>\n",
       "    <tr>\n",
       "      <th>Sam</th>\n",
       "      <td>0 days 00:08:29.793000</td>\n",
       "      <td>00:08:39.469 00:08:42.921 SAM: Yeah, someone w...</td>\n",
       "      <td>00:17:12.714 00:17:14.373 SAM: Ask him to put ...</td>\n",
       "    </tr>\n",
       "    <tr>\n",
       "      <th>Marisha</th>\n",
       "      <td>0 days 00:07:04.707000</td>\n",
       "      <td>03:01:03.192 03:01:04.692 MARISHA: Miss.</td>\n",
       "      <td>03:08:09.399 03:08:21.590 MARISHA: I see Fjord...</td>\n",
       "    </tr>\n",
       "    <tr>\n",
       "      <th>Travis</th>\n",
       "      <td>0 days 00:06:34.966000</td>\n",
       "      <td>00:08:48.906 00:08:51.211 TRAVIS: Arsequeef wi...</td>\n",
       "      <td>00:15:26.177 00:15:27.659 TRAVIS: He is.</td>\n",
       "    </tr>\n",
       "    <tr>\n",
       "      <th>Matt</th>\n",
       "      <td>0 days 00:03:03.865000</td>\n",
       "      <td>00:00:08.291 00:00:18.627 MATT: Before we get ...</td>\n",
       "      <td>00:03:22.492 00:03:25.027 MATT: Thank you, Sam.</td>\n",
       "    </tr>\n",
       "  </tbody>\n",
       "</table>\n",
       "</div>"
      ],
      "text/plain": [
       "                       interval  \\\n",
       "All      0 days 00:19:31.455000   \n",
       "Taliesin 0 days 00:19:19.540000   \n",
       "Laura    0 days 00:11:51.569000   \n",
       "Liam     0 days 00:10:17.999000   \n",
       "Sam      0 days 00:08:29.793000   \n",
       "Marisha  0 days 00:07:04.707000   \n",
       "Travis   0 days 00:06:34.966000   \n",
       "Matt     0 days 00:03:03.865000   \n",
       "\n",
       "                                              starting_line  \\\n",
       "All                    02:14:43.433 02:14:44.691 (laughter)   \n",
       "Taliesin  01:02:20.163 01:02:21.721 TALIESIN: That was a...   \n",
       "Laura                 00:08:35.879 00:08:36.550 LAURA: Woo!   \n",
       "Liam      00:04:44.734 00:04:47.417 LIAM: Why did we sta...   \n",
       "Sam       00:08:39.469 00:08:42.921 SAM: Yeah, someone w...   \n",
       "Marisha            03:01:03.192 03:01:04.692 MARISHA: Miss.   \n",
       "Travis    00:08:48.906 00:08:51.211 TRAVIS: Arsequeef wi...   \n",
       "Matt      00:00:08.291 00:00:18.627 MATT: Before we get ...   \n",
       "\n",
       "                                                ending_line  \n",
       "All                    02:34:16.146 02:34:18.161 (laughter)  \n",
       "Taliesin  01:21:41.261 01:21:55.311 TALIESIN: I'm going ...  \n",
       "Laura     00:20:28.119 00:20:32.700 LAURA: I stand next ...  \n",
       "Liam      00:15:05.416 00:15:09.522 LIAM: They're hidden...  \n",
       "Sam       00:17:12.714 00:17:14.373 SAM: Ask him to put ...  \n",
       "Marisha   03:08:09.399 03:08:21.590 MARISHA: I see Fjord...  \n",
       "Travis             00:15:26.177 00:15:27.659 TRAVIS: He is.  \n",
       "Matt        00:03:22.492 00:03:25.027 MATT: Thank you, Sam.  "
      ]
     },
     "metadata": {},
     "output_type": "display_data"
    },
    {
     "data": {
      "text/markdown": [
       "# Episode 36 - O Captain, Who's Captain"
      ],
      "text/plain": [
       "<IPython.core.display.Markdown object>"
      ]
     },
     "metadata": {},
     "output_type": "display_data"
    },
    {
     "data": {
      "text/html": [
       "<div>\n",
       "<style scoped>\n",
       "    .dataframe tbody tr th:only-of-type {\n",
       "        vertical-align: middle;\n",
       "    }\n",
       "\n",
       "    .dataframe tbody tr th {\n",
       "        vertical-align: top;\n",
       "    }\n",
       "\n",
       "    .dataframe thead th {\n",
       "        text-align: right;\n",
       "    }\n",
       "</style>\n",
       "<table border=\"1\" class=\"dataframe\">\n",
       "  <thead>\n",
       "    <tr style=\"text-align: right;\">\n",
       "      <th></th>\n",
       "      <th>interval</th>\n",
       "      <th>starting_line</th>\n",
       "      <th>ending_line</th>\n",
       "    </tr>\n",
       "  </thead>\n",
       "  <tbody>\n",
       "    <tr>\n",
       "      <th>All</th>\n",
       "      <td>0 days 00:35:08.545000</td>\n",
       "      <td>03:17:17.670 03:17:19.381 (cheering)</td>\n",
       "      <td>03:52:27.926 04:05:01.115 [music]</td>\n",
       "    </tr>\n",
       "    <tr>\n",
       "      <th>Taliesin</th>\n",
       "      <td>0 days 00:20:31.932000</td>\n",
       "      <td>00:39:19.773 00:39:22.158 TALIESIN: Oh no, I'm...</td>\n",
       "      <td>00:59:54.090 00:59:56.095 TALIESIN: Hey.</td>\n",
       "    </tr>\n",
       "    <tr>\n",
       "      <th>Sam</th>\n",
       "      <td>0 days 00:16:00.266000</td>\n",
       "      <td>02:16:55.209 02:16:55.957 SAM: It's a new thing.</td>\n",
       "      <td>02:32:56.223 02:32:59.468 SAM: Marisha, you ha...</td>\n",
       "    </tr>\n",
       "    <tr>\n",
       "      <th>Matt</th>\n",
       "      <td>0 days 00:13:25.773000</td>\n",
       "      <td>00:58:36.522 00:59:04.334 MATT: As you guys ar...</td>\n",
       "      <td>01:12:30.107 01:12:32.769 MATT: No, that was i...</td>\n",
       "    </tr>\n",
       "    <tr>\n",
       "      <th>Laura</th>\n",
       "      <td>0 days 00:11:57.837000</td>\n",
       "      <td>01:22:13.005 01:22:15.913 LAURA: I'm going to ...</td>\n",
       "      <td>01:34:13.750 01:34:15.630 LAURA: Found a carpe...</td>\n",
       "    </tr>\n",
       "    <tr>\n",
       "      <th>Liam</th>\n",
       "      <td>0 days 00:11:32.663000</td>\n",
       "      <td>02:37:12.074 02:37:44.506 LIAM: A couple rules...</td>\n",
       "      <td>02:49:17.169 02:49:29.215 LIAM: Oh hey. Rub a ...</td>\n",
       "    </tr>\n",
       "    <tr>\n",
       "      <th>Travis</th>\n",
       "      <td>0 days 00:10:46.319000</td>\n",
       "      <td>02:53:52.279 02:53:53.272 TRAVIS: 16.</td>\n",
       "      <td>03:04:39.591 03:04:44.864 TRAVIS: I'll aim two...</td>\n",
       "    </tr>\n",
       "    <tr>\n",
       "      <th>Marisha</th>\n",
       "      <td>0 days 00:09:45.073000</td>\n",
       "      <td>02:22:49.769 02:22:52.596 MARISHA: Nope. Seven.</td>\n",
       "      <td>02:32:37.669 02:32:39.961 MARISHA: I'll go.</td>\n",
       "    </tr>\n",
       "  </tbody>\n",
       "</table>\n",
       "</div>"
      ],
      "text/plain": [
       "                       interval  \\\n",
       "All      0 days 00:35:08.545000   \n",
       "Taliesin 0 days 00:20:31.932000   \n",
       "Sam      0 days 00:16:00.266000   \n",
       "Matt     0 days 00:13:25.773000   \n",
       "Laura    0 days 00:11:57.837000   \n",
       "Liam     0 days 00:11:32.663000   \n",
       "Travis   0 days 00:10:46.319000   \n",
       "Marisha  0 days 00:09:45.073000   \n",
       "\n",
       "                                              starting_line  \\\n",
       "All                    03:17:17.670 03:17:19.381 (cheering)   \n",
       "Taliesin  00:39:19.773 00:39:22.158 TALIESIN: Oh no, I'm...   \n",
       "Sam        02:16:55.209 02:16:55.957 SAM: It's a new thing.   \n",
       "Matt      00:58:36.522 00:59:04.334 MATT: As you guys ar...   \n",
       "Laura     01:22:13.005 01:22:15.913 LAURA: I'm going to ...   \n",
       "Liam      02:37:12.074 02:37:44.506 LIAM: A couple rules...   \n",
       "Travis                02:53:52.279 02:53:53.272 TRAVIS: 16.   \n",
       "Marisha     02:22:49.769 02:22:52.596 MARISHA: Nope. Seven.   \n",
       "\n",
       "                                                ending_line  \n",
       "All                       03:52:27.926 04:05:01.115 [music]  \n",
       "Taliesin           00:59:54.090 00:59:56.095 TALIESIN: Hey.  \n",
       "Sam       02:32:56.223 02:32:59.468 SAM: Marisha, you ha...  \n",
       "Matt      01:12:30.107 01:12:32.769 MATT: No, that was i...  \n",
       "Laura     01:34:13.750 01:34:15.630 LAURA: Found a carpe...  \n",
       "Liam      02:49:17.169 02:49:29.215 LIAM: Oh hey. Rub a ...  \n",
       "Travis    03:04:39.591 03:04:44.864 TRAVIS: I'll aim two...  \n",
       "Marisha         02:32:37.669 02:32:39.961 MARISHA: I'll go.  "
      ]
     },
     "metadata": {},
     "output_type": "display_data"
    },
    {
     "data": {
      "text/markdown": [
       "# Episode 37 - Dangerous Liaisons"
      ],
      "text/plain": [
       "<IPython.core.display.Markdown object>"
      ]
     },
     "metadata": {},
     "output_type": "display_data"
    },
    {
     "name": "stdout",
     "output_type": "stream",
     "text": [
      "Added to cast: Lenore\n"
     ]
    },
    {
     "data": {
      "text/html": [
       "<div>\n",
       "<style scoped>\n",
       "    .dataframe tbody tr th:only-of-type {\n",
       "        vertical-align: middle;\n",
       "    }\n",
       "\n",
       "    .dataframe tbody tr th {\n",
       "        vertical-align: top;\n",
       "    }\n",
       "\n",
       "    .dataframe thead th {\n",
       "        text-align: right;\n",
       "    }\n",
       "</style>\n",
       "<table border=\"1\" class=\"dataframe\">\n",
       "  <thead>\n",
       "    <tr style=\"text-align: right;\">\n",
       "      <th></th>\n",
       "      <th>interval</th>\n",
       "      <th>starting_line</th>\n",
       "      <th>ending_line</th>\n",
       "    </tr>\n",
       "  </thead>\n",
       "  <tbody>\n",
       "    <tr>\n",
       "      <th>Brian</th>\n",
       "      <td>0 days 01:56:31.478000</td>\n",
       "      <td>00:00:10.161 00:06:45.607 BRIAN: Hello, New Yo...</td>\n",
       "      <td>02:03:17.085 02:03:34.852 BRIAN: All right, ev...</td>\n",
       "    </tr>\n",
       "    <tr>\n",
       "      <th>Ashley</th>\n",
       "      <td>0 days 00:41:55.660000</td>\n",
       "      <td>00:57:51.203 00:57:54.174 ASHLEY: Shit.</td>\n",
       "      <td>01:39:49.834 01:39:52.301 ASHLEY: Dreams and v...</td>\n",
       "    </tr>\n",
       "    <tr>\n",
       "      <th>Taliesin</th>\n",
       "      <td>0 days 00:37:33.253000</td>\n",
       "      <td>01:47:06.248 01:47:16.798 TALIESIN: Yeah. I me...</td>\n",
       "      <td>02:24:50.051 02:24:53.519 TALIESIN: Roll well.</td>\n",
       "    </tr>\n",
       "    <tr>\n",
       "      <th>Liam</th>\n",
       "      <td>0 days 00:13:38.734000</td>\n",
       "      <td>02:35:50.431 02:35:56.933 LIAM: Yeah, I place ...</td>\n",
       "      <td>02:49:35.667 02:49:40.005 LIAM: Also, why did ...</td>\n",
       "    </tr>\n",
       "    <tr>\n",
       "      <th>Laura</th>\n",
       "      <td>0 days 00:13:36.668000</td>\n",
       "      <td>02:03:02.213 02:03:03.896 LAURA: We've got to ...</td>\n",
       "      <td>02:16:40.564 02:16:44.701 LAURA: Jester's just...</td>\n",
       "    </tr>\n",
       "    <tr>\n",
       "      <th>Marisha</th>\n",
       "      <td>0 days 00:12:07.394000</td>\n",
       "      <td>02:35:45.424 02:35:47.176 MARISHA: Let's get s...</td>\n",
       "      <td>02:47:54.570 02:47:55.612 MARISHA: Moses shit.</td>\n",
       "    </tr>\n",
       "    <tr>\n",
       "      <th>All</th>\n",
       "      <td>0 days 00:11:16.283000</td>\n",
       "      <td>02:33:07.497 02:33:12.301 [laughter]</td>\n",
       "      <td>02:44:28.584 02:44:32.070 [cheering]</td>\n",
       "    </tr>\n",
       "    <tr>\n",
       "      <th>Sam</th>\n",
       "      <td>0 days 00:08:38.429000</td>\n",
       "      <td>00:44:20.889 00:44:50.142 SAM: I was told this...</td>\n",
       "      <td>00:53:28.571 00:53:42.555 SAM: I would say thi...</td>\n",
       "    </tr>\n",
       "    <tr>\n",
       "      <th>Travis</th>\n",
       "      <td>0 days 00:07:36.453000</td>\n",
       "      <td>00:07:48.808 00:07:50.060 TRAVIS: Oh yeah. Mai...</td>\n",
       "      <td>00:15:26.513 00:15:27.313 TRAVIS: Amazing.</td>\n",
       "    </tr>\n",
       "    <tr>\n",
       "      <th>Matt</th>\n",
       "      <td>0 days 00:07:06.153000</td>\n",
       "      <td>01:37:33.577 01:37:35.728 MATT: Yeah, sure.</td>\n",
       "      <td>01:44:41.881 01:44:44.968 MATT: Make a medicin...</td>\n",
       "    </tr>\n",
       "    <tr>\n",
       "      <th>Lenore</th>\n",
       "      <td>0 days 00:00:31.286000</td>\n",
       "      <td>02:05:16.564 02:05:23.409 LENORE: Okay, great,...</td>\n",
       "      <td>02:05:54.695 02:05:56.945 LENORE: Yes. I want ...</td>\n",
       "    </tr>\n",
       "  </tbody>\n",
       "</table>\n",
       "</div>"
      ],
      "text/plain": [
       "                       interval  \\\n",
       "Brian    0 days 01:56:31.478000   \n",
       "Ashley   0 days 00:41:55.660000   \n",
       "Taliesin 0 days 00:37:33.253000   \n",
       "Liam     0 days 00:13:38.734000   \n",
       "Laura    0 days 00:13:36.668000   \n",
       "Marisha  0 days 00:12:07.394000   \n",
       "All      0 days 00:11:16.283000   \n",
       "Sam      0 days 00:08:38.429000   \n",
       "Travis   0 days 00:07:36.453000   \n",
       "Matt     0 days 00:07:06.153000   \n",
       "Lenore   0 days 00:00:31.286000   \n",
       "\n",
       "                                              starting_line  \\\n",
       "Brian     00:00:10.161 00:06:45.607 BRIAN: Hello, New Yo...   \n",
       "Ashley              00:57:51.203 00:57:54.174 ASHLEY: Shit.   \n",
       "Taliesin  01:47:06.248 01:47:16.798 TALIESIN: Yeah. I me...   \n",
       "Liam      02:35:50.431 02:35:56.933 LIAM: Yeah, I place ...   \n",
       "Laura     02:03:02.213 02:03:03.896 LAURA: We've got to ...   \n",
       "Marisha   02:35:45.424 02:35:47.176 MARISHA: Let's get s...   \n",
       "All                    02:33:07.497 02:33:12.301 [laughter]   \n",
       "Sam       00:44:20.889 00:44:50.142 SAM: I was told this...   \n",
       "Travis    00:07:48.808 00:07:50.060 TRAVIS: Oh yeah. Mai...   \n",
       "Matt            01:37:33.577 01:37:35.728 MATT: Yeah, sure.   \n",
       "Lenore    02:05:16.564 02:05:23.409 LENORE: Okay, great,...   \n",
       "\n",
       "                                                ending_line  \n",
       "Brian     02:03:17.085 02:03:34.852 BRIAN: All right, ev...  \n",
       "Ashley    01:39:49.834 01:39:52.301 ASHLEY: Dreams and v...  \n",
       "Taliesin     02:24:50.051 02:24:53.519 TALIESIN: Roll well.  \n",
       "Liam      02:49:35.667 02:49:40.005 LIAM: Also, why did ...  \n",
       "Laura     02:16:40.564 02:16:44.701 LAURA: Jester's just...  \n",
       "Marisha      02:47:54.570 02:47:55.612 MARISHA: Moses shit.  \n",
       "All                    02:44:28.584 02:44:32.070 [cheering]  \n",
       "Sam       00:53:28.571 00:53:42.555 SAM: I would say thi...  \n",
       "Travis           00:15:26.513 00:15:27.313 TRAVIS: Amazing.  \n",
       "Matt      01:44:41.881 01:44:44.968 MATT: Make a medicin...  \n",
       "Lenore    02:05:54.695 02:05:56.945 LENORE: Yes. I want ...  "
      ]
     },
     "metadata": {},
     "output_type": "display_data"
    },
    {
     "data": {
      "text/markdown": [
       "# Episode 38 - Welcome to the Jungle"
      ],
      "text/plain": [
       "<IPython.core.display.Markdown object>"
      ]
     },
     "metadata": {},
     "output_type": "display_data"
    },
    {
     "data": {
      "text/html": [
       "<div>\n",
       "<style scoped>\n",
       "    .dataframe tbody tr th:only-of-type {\n",
       "        vertical-align: middle;\n",
       "    }\n",
       "\n",
       "    .dataframe tbody tr th {\n",
       "        vertical-align: top;\n",
       "    }\n",
       "\n",
       "    .dataframe thead th {\n",
       "        text-align: right;\n",
       "    }\n",
       "</style>\n",
       "<table border=\"1\" class=\"dataframe\">\n",
       "  <thead>\n",
       "    <tr style=\"text-align: right;\">\n",
       "      <th></th>\n",
       "      <th>interval</th>\n",
       "      <th>starting_line</th>\n",
       "      <th>ending_line</th>\n",
       "    </tr>\n",
       "  </thead>\n",
       "  <tbody>\n",
       "    <tr>\n",
       "      <th>All</th>\n",
       "      <td>0 days 00:46:06.668000</td>\n",
       "      <td>02:12:30.194 02:12:32.295 (laughter)</td>\n",
       "      <td>02:58:38.963 02:58:42.363 (cheering)</td>\n",
       "    </tr>\n",
       "    <tr>\n",
       "      <th>Liam</th>\n",
       "      <td>0 days 00:14:21.825000</td>\n",
       "      <td>00:14:56.568 00:15:00.321 LIAM: (whispering) T...</td>\n",
       "      <td>00:29:22.146 00:29:25.124 LIAM: May I have a l...</td>\n",
       "    </tr>\n",
       "    <tr>\n",
       "      <th>Marisha</th>\n",
       "      <td>0 days 00:10:32.749000</td>\n",
       "      <td>01:05:30.779 01:05:35.242 MARISHA: Yasha can l...</td>\n",
       "      <td>01:16:07.991 01:16:12.503 MARISHA: Football ta...</td>\n",
       "    </tr>\n",
       "    <tr>\n",
       "      <th>Taliesin</th>\n",
       "      <td>0 days 00:09:54.666000</td>\n",
       "      <td>00:54:02.906 00:54:07.872 TALIESIN: You're rea...</td>\n",
       "      <td>01:04:02.538 01:04:07.877 TALIESIN: I've got b...</td>\n",
       "    </tr>\n",
       "    <tr>\n",
       "      <th>Laura</th>\n",
       "      <td>0 days 00:09:23.990000</td>\n",
       "      <td>00:14:02.936 00:14:03.542 LAURA: Yeah.</td>\n",
       "      <td>00:23:27.532 00:23:29.069 LAURA: Switch that f...</td>\n",
       "    </tr>\n",
       "    <tr>\n",
       "      <th>Travis</th>\n",
       "      <td>0 days 00:08:19.184000</td>\n",
       "      <td>01:55:46.165 01:55:47.381 TRAVIS: Cool.</td>\n",
       "      <td>02:04:06.565 02:04:08.332 TRAVIS: Let's get ev...</td>\n",
       "    </tr>\n",
       "    <tr>\n",
       "      <th>Sam</th>\n",
       "      <td>0 days 00:06:13.693000</td>\n",
       "      <td>02:37:20.899 02:37:23.803 SAM: You're going to...</td>\n",
       "      <td>02:43:37.496 02:43:38.471 SAM: Yeah.</td>\n",
       "    </tr>\n",
       "    <tr>\n",
       "      <th>Matt</th>\n",
       "      <td>0 days 00:04:18.643000</td>\n",
       "      <td>00:46:20.927 00:46:45.393 MATT: Sure, all righ...</td>\n",
       "      <td>00:51:04.036 00:51:07.823 MATT: Jamedi's a few...</td>\n",
       "    </tr>\n",
       "  </tbody>\n",
       "</table>\n",
       "</div>"
      ],
      "text/plain": [
       "                       interval  \\\n",
       "All      0 days 00:46:06.668000   \n",
       "Liam     0 days 00:14:21.825000   \n",
       "Marisha  0 days 00:10:32.749000   \n",
       "Taliesin 0 days 00:09:54.666000   \n",
       "Laura    0 days 00:09:23.990000   \n",
       "Travis   0 days 00:08:19.184000   \n",
       "Sam      0 days 00:06:13.693000   \n",
       "Matt     0 days 00:04:18.643000   \n",
       "\n",
       "                                              starting_line  \\\n",
       "All                    02:12:30.194 02:12:32.295 (laughter)   \n",
       "Liam      00:14:56.568 00:15:00.321 LIAM: (whispering) T...   \n",
       "Marisha   01:05:30.779 01:05:35.242 MARISHA: Yasha can l...   \n",
       "Taliesin  00:54:02.906 00:54:07.872 TALIESIN: You're rea...   \n",
       "Laura                00:14:02.936 00:14:03.542 LAURA: Yeah.   \n",
       "Travis              01:55:46.165 01:55:47.381 TRAVIS: Cool.   \n",
       "Sam       02:37:20.899 02:37:23.803 SAM: You're going to...   \n",
       "Matt      00:46:20.927 00:46:45.393 MATT: Sure, all righ...   \n",
       "\n",
       "                                                ending_line  \n",
       "All                    02:58:38.963 02:58:42.363 (cheering)  \n",
       "Liam      00:29:22.146 00:29:25.124 LIAM: May I have a l...  \n",
       "Marisha   01:16:07.991 01:16:12.503 MARISHA: Football ta...  \n",
       "Taliesin  01:04:02.538 01:04:07.877 TALIESIN: I've got b...  \n",
       "Laura     00:23:27.532 00:23:29.069 LAURA: Switch that f...  \n",
       "Travis    02:04:06.565 02:04:08.332 TRAVIS: Let's get ev...  \n",
       "Sam                    02:43:37.496 02:43:38.471 SAM: Yeah.  \n",
       "Matt      00:51:04.036 00:51:07.823 MATT: Jamedi's a few...  "
      ]
     },
     "metadata": {},
     "output_type": "display_data"
    },
    {
     "data": {
      "text/markdown": [
       "# Episode 39 - Temple of the False Serpent"
      ],
      "text/plain": [
       "<IPython.core.display.Markdown object>"
      ]
     },
     "metadata": {},
     "output_type": "display_data"
    },
    {
     "data": {
      "text/html": [
       "<div>\n",
       "<style scoped>\n",
       "    .dataframe tbody tr th:only-of-type {\n",
       "        vertical-align: middle;\n",
       "    }\n",
       "\n",
       "    .dataframe tbody tr th {\n",
       "        vertical-align: top;\n",
       "    }\n",
       "\n",
       "    .dataframe thead th {\n",
       "        text-align: right;\n",
       "    }\n",
       "</style>\n",
       "<table border=\"1\" class=\"dataframe\">\n",
       "  <thead>\n",
       "    <tr style=\"text-align: right;\">\n",
       "      <th></th>\n",
       "      <th>interval</th>\n",
       "      <th>starting_line</th>\n",
       "      <th>ending_line</th>\n",
       "    </tr>\n",
       "  </thead>\n",
       "  <tbody>\n",
       "    <tr>\n",
       "      <th>All</th>\n",
       "      <td>0 days 00:36:11.198000</td>\n",
       "      <td>03:17:04.410 03:17:14.910 (music)</td>\n",
       "      <td>03:53:26.108 03:53:32.568 (music)</td>\n",
       "    </tr>\n",
       "    <tr>\n",
       "      <th>Marisha</th>\n",
       "      <td>0 days 00:11:37.597000</td>\n",
       "      <td>00:40:48.752 00:40:53.901 MARISHA: I look at Y...</td>\n",
       "      <td>00:52:31.498 00:52:43.285 MARISHA: While all t...</td>\n",
       "    </tr>\n",
       "    <tr>\n",
       "      <th>Taliesin</th>\n",
       "      <td>0 days 00:11:25.134000</td>\n",
       "      <td>00:01:13.462 00:01:15.702 TALIESIN: Say it wit...</td>\n",
       "      <td>00:12:40.836 00:12:43.042 TALIESIN: Deep in th...</td>\n",
       "    </tr>\n",
       "    <tr>\n",
       "      <th>Laura</th>\n",
       "      <td>0 days 00:08:35.103000</td>\n",
       "      <td>02:09:48.110 02:09:50.180 LAURA: They're like ...</td>\n",
       "      <td>02:18:25.283 02:18:27.687 LAURA: Can I try rea...</td>\n",
       "    </tr>\n",
       "    <tr>\n",
       "      <th>Liam</th>\n",
       "      <td>0 days 00:08:30</td>\n",
       "      <td>00:24:15.355 00:24:17.846 LIAM: Things you nev...</td>\n",
       "      <td>00:32:47.846 00:33:03.464 LIAM: I was rummagin...</td>\n",
       "    </tr>\n",
       "    <tr>\n",
       "      <th>Sam</th>\n",
       "      <td>0 days 00:07:38.752000</td>\n",
       "      <td>01:01:53.384 01:01:56.745 SAM: Nice.</td>\n",
       "      <td>01:09:35.497 01:09:36.843 SAM: Look at you, Mr...</td>\n",
       "    </tr>\n",
       "    <tr>\n",
       "      <th>Travis</th>\n",
       "      <td>0 days 00:06:00.148000</td>\n",
       "      <td>02:49:16.058 02:49:18.128 TRAVIS: Oh, she got ...</td>\n",
       "      <td>02:55:18.276 02:55:21.917 TRAVIS: Yeah. I will...</td>\n",
       "    </tr>\n",
       "    <tr>\n",
       "      <th>Matt</th>\n",
       "      <td>0 days 00:02:44.265000</td>\n",
       "      <td>00:00:08.907 00:00:19.544 MATT: Before we get ...</td>\n",
       "      <td>00:03:03.809 00:03:09.076 MATT: You look about...</td>\n",
       "    </tr>\n",
       "  </tbody>\n",
       "</table>\n",
       "</div>"
      ],
      "text/plain": [
       "                       interval  \\\n",
       "All      0 days 00:36:11.198000   \n",
       "Marisha  0 days 00:11:37.597000   \n",
       "Taliesin 0 days 00:11:25.134000   \n",
       "Laura    0 days 00:08:35.103000   \n",
       "Liam            0 days 00:08:30   \n",
       "Sam      0 days 00:07:38.752000   \n",
       "Travis   0 days 00:06:00.148000   \n",
       "Matt     0 days 00:02:44.265000   \n",
       "\n",
       "                                              starting_line  \\\n",
       "All                       03:17:04.410 03:17:14.910 (music)   \n",
       "Marisha   00:40:48.752 00:40:53.901 MARISHA: I look at Y...   \n",
       "Taliesin  00:01:13.462 00:01:15.702 TALIESIN: Say it wit...   \n",
       "Laura     02:09:48.110 02:09:50.180 LAURA: They're like ...   \n",
       "Liam      00:24:15.355 00:24:17.846 LIAM: Things you nev...   \n",
       "Sam                    01:01:53.384 01:01:56.745 SAM: Nice.   \n",
       "Travis    02:49:16.058 02:49:18.128 TRAVIS: Oh, she got ...   \n",
       "Matt      00:00:08.907 00:00:19.544 MATT: Before we get ...   \n",
       "\n",
       "                                                ending_line  \n",
       "All                       03:53:26.108 03:53:32.568 (music)  \n",
       "Marisha   00:52:31.498 00:52:43.285 MARISHA: While all t...  \n",
       "Taliesin  00:12:40.836 00:12:43.042 TALIESIN: Deep in th...  \n",
       "Laura     02:18:25.283 02:18:27.687 LAURA: Can I try rea...  \n",
       "Liam      00:32:47.846 00:33:03.464 LIAM: I was rummagin...  \n",
       "Sam       01:09:35.497 01:09:36.843 SAM: Look at you, Mr...  \n",
       "Travis    02:55:18.276 02:55:21.917 TRAVIS: Yeah. I will...  \n",
       "Matt      00:03:03.809 00:03:09.076 MATT: You look about...  "
      ]
     },
     "metadata": {},
     "output_type": "display_data"
    },
    {
     "data": {
      "text/markdown": [
       "# Episode 40 - Dubious Pursuits"
      ],
      "text/plain": [
       "<IPython.core.display.Markdown object>"
      ]
     },
     "metadata": {},
     "output_type": "display_data"
    },
    {
     "data": {
      "text/html": [
       "<div>\n",
       "<style scoped>\n",
       "    .dataframe tbody tr th:only-of-type {\n",
       "        vertical-align: middle;\n",
       "    }\n",
       "\n",
       "    .dataframe tbody tr th {\n",
       "        vertical-align: top;\n",
       "    }\n",
       "\n",
       "    .dataframe thead th {\n",
       "        text-align: right;\n",
       "    }\n",
       "</style>\n",
       "<table border=\"1\" class=\"dataframe\">\n",
       "  <thead>\n",
       "    <tr style=\"text-align: right;\">\n",
       "      <th></th>\n",
       "      <th>interval</th>\n",
       "      <th>starting_line</th>\n",
       "      <th>ending_line</th>\n",
       "    </tr>\n",
       "  </thead>\n",
       "  <tbody>\n",
       "    <tr>\n",
       "      <th>All</th>\n",
       "      <td>0 days 00:39:04.470000</td>\n",
       "      <td>00:17:30.450 00:17:33.401 (laughter)</td>\n",
       "      <td>00:56:37.871 00:56:40.880 (laughter)</td>\n",
       "    </tr>\n",
       "    <tr>\n",
       "      <th>Taliesin</th>\n",
       "      <td>0 days 00:13:54.700000</td>\n",
       "      <td>02:38:01.491 02:38:03.170 TALIESIN: A long rest.</td>\n",
       "      <td>02:51:57.870 02:52:03.281 TALIESIN: I'm very m...</td>\n",
       "    </tr>\n",
       "    <tr>\n",
       "      <th>Marisha</th>\n",
       "      <td>0 days 00:10:50.885000</td>\n",
       "      <td>02:41:41.589 02:41:44.083 MARISHA: (whispering...</td>\n",
       "      <td>02:52:34.968 02:52:39.681 MARISHA: Make a cons...</td>\n",
       "    </tr>\n",
       "    <tr>\n",
       "      <th>Liam</th>\n",
       "      <td>0 days 00:09:30.948000</td>\n",
       "      <td>02:09:13.130 02:09:15.117 LIAM: Is that super-...</td>\n",
       "      <td>02:18:46.065 02:19:11.592 LIAM: It was in a hu...</td>\n",
       "    </tr>\n",
       "    <tr>\n",
       "      <th>Sam</th>\n",
       "      <td>0 days 00:07:28.355000</td>\n",
       "      <td>02:37:48.043 02:37:51.610 SAM: Oh, I don't car...</td>\n",
       "      <td>02:45:19.965 02:45:22.958 SAM: Contested!</td>\n",
       "    </tr>\n",
       "    <tr>\n",
       "      <th>Travis</th>\n",
       "      <td>0 days 00:06:28.950000</td>\n",
       "      <td>00:20:42.245 00:20:47.761 TRAVIS: I'll mirror ...</td>\n",
       "      <td>00:27:16.711 00:27:23.065 TRAVIS: The eyes, th...</td>\n",
       "    </tr>\n",
       "    <tr>\n",
       "      <th>Matt</th>\n",
       "      <td>0 days 00:05:49.638000</td>\n",
       "      <td>02:26:14.004 02:26:19.577 MATT: If you were to...</td>\n",
       "      <td>02:32:09.215 02:32:33.914 MATT: Yasha puts her...</td>\n",
       "    </tr>\n",
       "  </tbody>\n",
       "</table>\n",
       "</div>"
      ],
      "text/plain": [
       "                       interval  \\\n",
       "All      0 days 00:39:04.470000   \n",
       "Taliesin 0 days 00:13:54.700000   \n",
       "Marisha  0 days 00:10:50.885000   \n",
       "Liam     0 days 00:09:30.948000   \n",
       "Sam      0 days 00:07:28.355000   \n",
       "Travis   0 days 00:06:28.950000   \n",
       "Matt     0 days 00:05:49.638000   \n",
       "\n",
       "                                              starting_line  \\\n",
       "All                    00:17:30.450 00:17:33.401 (laughter)   \n",
       "Taliesin   02:38:01.491 02:38:03.170 TALIESIN: A long rest.   \n",
       "Marisha   02:41:41.589 02:41:44.083 MARISHA: (whispering...   \n",
       "Liam      02:09:13.130 02:09:15.117 LIAM: Is that super-...   \n",
       "Sam       02:37:48.043 02:37:51.610 SAM: Oh, I don't car...   \n",
       "Travis    00:20:42.245 00:20:47.761 TRAVIS: I'll mirror ...   \n",
       "Matt      02:26:14.004 02:26:19.577 MATT: If you were to...   \n",
       "\n",
       "                                                ending_line  \n",
       "All                    00:56:37.871 00:56:40.880 (laughter)  \n",
       "Taliesin  02:51:57.870 02:52:03.281 TALIESIN: I'm very m...  \n",
       "Marisha   02:52:34.968 02:52:39.681 MARISHA: Make a cons...  \n",
       "Liam      02:18:46.065 02:19:11.592 LIAM: It was in a hu...  \n",
       "Sam               02:45:19.965 02:45:22.958 SAM: Contested!  \n",
       "Travis    00:27:16.711 00:27:23.065 TRAVIS: The eyes, th...  \n",
       "Matt      02:32:09.215 02:32:33.914 MATT: Yasha puts her...  "
      ]
     },
     "metadata": {},
     "output_type": "display_data"
    },
    {
     "data": {
      "text/markdown": [
       "# Episode 41 - A Pirate's Life for Me"
      ],
      "text/plain": [
       "<IPython.core.display.Markdown object>"
      ]
     },
     "metadata": {},
     "output_type": "display_data"
    },
    {
     "data": {
      "text/html": [
       "<div>\n",
       "<style scoped>\n",
       "    .dataframe tbody tr th:only-of-type {\n",
       "        vertical-align: middle;\n",
       "    }\n",
       "\n",
       "    .dataframe tbody tr th {\n",
       "        vertical-align: top;\n",
       "    }\n",
       "\n",
       "    .dataframe thead th {\n",
       "        text-align: right;\n",
       "    }\n",
       "</style>\n",
       "<table border=\"1\" class=\"dataframe\">\n",
       "  <thead>\n",
       "    <tr style=\"text-align: right;\">\n",
       "      <th></th>\n",
       "      <th>interval</th>\n",
       "      <th>starting_line</th>\n",
       "      <th>ending_line</th>\n",
       "    </tr>\n",
       "  </thead>\n",
       "  <tbody>\n",
       "    <tr>\n",
       "      <th>All</th>\n",
       "      <td>0 days 00:37:29.655000</td>\n",
       "      <td>00:41:15.987 00:41:18.747 (exclamations)</td>\n",
       "      <td>01:18:48.402 01:18:52.675 (laughter)</td>\n",
       "    </tr>\n",
       "    <tr>\n",
       "      <th>Liam</th>\n",
       "      <td>0 days 00:20:21.590000</td>\n",
       "      <td>00:37:45.869 00:37:47.028 LIAM: Oh jeez.</td>\n",
       "      <td>00:58:08.618 00:58:10.525 LIAM: What the fuck.</td>\n",
       "    </tr>\n",
       "    <tr>\n",
       "      <th>Taliesin</th>\n",
       "      <td>0 days 00:16:44.795000</td>\n",
       "      <td>02:29:16.046 02:29:20.285 TALIESIN: I'm going ...</td>\n",
       "      <td>02:46:05.080 02:46:06.898 TALIESIN: Blow me in...</td>\n",
       "    </tr>\n",
       "    <tr>\n",
       "      <th>Marisha</th>\n",
       "      <td>0 days 00:14:43.062000</td>\n",
       "      <td>00:03:09.644 00:03:11.486 MARISHA: That was no...</td>\n",
       "      <td>00:17:54.548 00:17:56.261 MARISHA: Just like F...</td>\n",
       "    </tr>\n",
       "    <tr>\n",
       "      <th>Laura</th>\n",
       "      <td>0 days 00:13:08.149000</td>\n",
       "      <td>01:37:13.757 01:37:17.245 LAURA: Googly eyes i...</td>\n",
       "      <td>01:50:25.394 01:50:29.549 LAURA: Lieb! Get bac...</td>\n",
       "    </tr>\n",
       "    <tr>\n",
       "      <th>Sam</th>\n",
       "      <td>0 days 00:08:27.279000</td>\n",
       "      <td>00:45:53.026 00:45:57.045 SAM: They're torturi...</td>\n",
       "      <td>00:54:24.324 00:54:39.624 SAM: (shouting) All ...</td>\n",
       "    </tr>\n",
       "    <tr>\n",
       "      <th>Matt</th>\n",
       "      <td>0 days 00:05:52.799000</td>\n",
       "      <td>00:12:11.170 00:12:13.574 MATT: We can say thi...</td>\n",
       "      <td>00:18:06.373 00:18:08.841 MATT: You get to rem...</td>\n",
       "    </tr>\n",
       "    <tr>\n",
       "      <th>Travis</th>\n",
       "      <td>0 days 00:05:28.499000</td>\n",
       "      <td>02:35:13.866 02:35:15.408 TRAVIS: What do you ...</td>\n",
       "      <td>02:40:43.907 02:40:45.504 TRAVIS: What?</td>\n",
       "    </tr>\n",
       "  </tbody>\n",
       "</table>\n",
       "</div>"
      ],
      "text/plain": [
       "                       interval  \\\n",
       "All      0 days 00:37:29.655000   \n",
       "Liam     0 days 00:20:21.590000   \n",
       "Taliesin 0 days 00:16:44.795000   \n",
       "Marisha  0 days 00:14:43.062000   \n",
       "Laura    0 days 00:13:08.149000   \n",
       "Sam      0 days 00:08:27.279000   \n",
       "Matt     0 days 00:05:52.799000   \n",
       "Travis   0 days 00:05:28.499000   \n",
       "\n",
       "                                              starting_line  \\\n",
       "All                00:41:15.987 00:41:18.747 (exclamations)   \n",
       "Liam               00:37:45.869 00:37:47.028 LIAM: Oh jeez.   \n",
       "Taliesin  02:29:16.046 02:29:20.285 TALIESIN: I'm going ...   \n",
       "Marisha   00:03:09.644 00:03:11.486 MARISHA: That was no...   \n",
       "Laura     01:37:13.757 01:37:17.245 LAURA: Googly eyes i...   \n",
       "Sam       00:45:53.026 00:45:57.045 SAM: They're torturi...   \n",
       "Matt      00:12:11.170 00:12:13.574 MATT: We can say thi...   \n",
       "Travis    02:35:13.866 02:35:15.408 TRAVIS: What do you ...   \n",
       "\n",
       "                                                ending_line  \n",
       "All                    01:18:48.402 01:18:52.675 (laughter)  \n",
       "Liam         00:58:08.618 00:58:10.525 LIAM: What the fuck.  \n",
       "Taliesin  02:46:05.080 02:46:06.898 TALIESIN: Blow me in...  \n",
       "Marisha   00:17:54.548 00:17:56.261 MARISHA: Just like F...  \n",
       "Laura     01:50:25.394 01:50:29.549 LAURA: Lieb! Get bac...  \n",
       "Sam       00:54:24.324 00:54:39.624 SAM: (shouting) All ...  \n",
       "Matt      00:18:06.373 00:18:08.841 MATT: You get to rem...  \n",
       "Travis              02:40:43.907 02:40:45.504 TRAVIS: What?  "
      ]
     },
     "metadata": {},
     "output_type": "display_data"
    },
    {
     "data": {
      "text/markdown": [
       "# Episode 42 - A Hole in the Plan"
      ],
      "text/plain": [
       "<IPython.core.display.Markdown object>"
      ]
     },
     "metadata": {},
     "output_type": "display_data"
    },
    {
     "data": {
      "text/html": [
       "<div>\n",
       "<style scoped>\n",
       "    .dataframe tbody tr th:only-of-type {\n",
       "        vertical-align: middle;\n",
       "    }\n",
       "\n",
       "    .dataframe tbody tr th {\n",
       "        vertical-align: top;\n",
       "    }\n",
       "\n",
       "    .dataframe thead th {\n",
       "        text-align: right;\n",
       "    }\n",
       "</style>\n",
       "<table border=\"1\" class=\"dataframe\">\n",
       "  <thead>\n",
       "    <tr style=\"text-align: right;\">\n",
       "      <th></th>\n",
       "      <th>interval</th>\n",
       "      <th>starting_line</th>\n",
       "      <th>ending_line</th>\n",
       "    </tr>\n",
       "  </thead>\n",
       "  <tbody>\n",
       "    <tr>\n",
       "      <th>All</th>\n",
       "      <td>0 days 00:23:37.358000</td>\n",
       "      <td>00:58:25.682 00:58:27.838 (underwater glubbing)</td>\n",
       "      <td>01:22:05.196 01:22:11.729 (laughter)</td>\n",
       "    </tr>\n",
       "    <tr>\n",
       "      <th>Sam</th>\n",
       "      <td>0 days 00:12:42.959000</td>\n",
       "      <td>01:08:31.191 01:08:35.183 SAM: You're welcome,...</td>\n",
       "      <td>01:21:18.142 01:21:19.809 SAM: Okay.</td>\n",
       "    </tr>\n",
       "    <tr>\n",
       "      <th>Taliesin</th>\n",
       "      <td>0 days 00:11:24.304000</td>\n",
       "      <td>02:04:10.962 02:04:17.633 TALIESIN: Oh, you're...</td>\n",
       "      <td>02:15:41.937 02:15:45.649 TALIESIN: Does Nott'...</td>\n",
       "    </tr>\n",
       "    <tr>\n",
       "      <th>Liam</th>\n",
       "      <td>0 days 00:09:48.534000</td>\n",
       "      <td>00:20:35.849 00:20:39.434 LIAM: Where do you h...</td>\n",
       "      <td>00:30:27.968 00:30:30.131 LIAM: What do you sn...</td>\n",
       "    </tr>\n",
       "    <tr>\n",
       "      <th>Marisha</th>\n",
       "      <td>0 days 00:09:29.362000</td>\n",
       "      <td>00:23:29.176 00:23:31.504 MARISHA: (knowing la...</td>\n",
       "      <td>00:33:00.866 00:33:01.971 MARISHA: Do it!</td>\n",
       "    </tr>\n",
       "    <tr>\n",
       "      <th>Travis</th>\n",
       "      <td>0 days 00:08:03.749000</td>\n",
       "      <td>02:13:41.602 02:13:43.169 TRAVIS: Can you give...</td>\n",
       "      <td>02:21:46.918 02:21:49.420 TRAVIS: I don't need...</td>\n",
       "    </tr>\n",
       "    <tr>\n",
       "      <th>Laura</th>\n",
       "      <td>0 days 00:06:59.675000</td>\n",
       "      <td>00:42:22.836 00:42:25.467 LAURA: The Little Sa...</td>\n",
       "      <td>00:49:25.142 00:49:26.401 LAURA: Do we recogni...</td>\n",
       "    </tr>\n",
       "    <tr>\n",
       "      <th>Matt</th>\n",
       "      <td>0 days 00:05:44.868000</td>\n",
       "      <td>01:08:48.620 01:08:49.891 MATT: Jester?</td>\n",
       "      <td>01:14:34.759 01:14:37.065 MATT: Make a percept...</td>\n",
       "    </tr>\n",
       "  </tbody>\n",
       "</table>\n",
       "</div>"
      ],
      "text/plain": [
       "                       interval  \\\n",
       "All      0 days 00:23:37.358000   \n",
       "Sam      0 days 00:12:42.959000   \n",
       "Taliesin 0 days 00:11:24.304000   \n",
       "Liam     0 days 00:09:48.534000   \n",
       "Marisha  0 days 00:09:29.362000   \n",
       "Travis   0 days 00:08:03.749000   \n",
       "Laura    0 days 00:06:59.675000   \n",
       "Matt     0 days 00:05:44.868000   \n",
       "\n",
       "                                              starting_line  \\\n",
       "All         00:58:25.682 00:58:27.838 (underwater glubbing)   \n",
       "Sam       01:08:31.191 01:08:35.183 SAM: You're welcome,...   \n",
       "Taliesin  02:04:10.962 02:04:17.633 TALIESIN: Oh, you're...   \n",
       "Liam      00:20:35.849 00:20:39.434 LIAM: Where do you h...   \n",
       "Marisha   00:23:29.176 00:23:31.504 MARISHA: (knowing la...   \n",
       "Travis    02:13:41.602 02:13:43.169 TRAVIS: Can you give...   \n",
       "Laura     00:42:22.836 00:42:25.467 LAURA: The Little Sa...   \n",
       "Matt                01:08:48.620 01:08:49.891 MATT: Jester?   \n",
       "\n",
       "                                                ending_line  \n",
       "All                    01:22:05.196 01:22:11.729 (laughter)  \n",
       "Sam                    01:21:18.142 01:21:19.809 SAM: Okay.  \n",
       "Taliesin  02:15:41.937 02:15:45.649 TALIESIN: Does Nott'...  \n",
       "Liam      00:30:27.968 00:30:30.131 LIAM: What do you sn...  \n",
       "Marisha           00:33:00.866 00:33:01.971 MARISHA: Do it!  \n",
       "Travis    02:21:46.918 02:21:49.420 TRAVIS: I don't need...  \n",
       "Laura     00:49:25.142 00:49:26.401 LAURA: Do we recogni...  \n",
       "Matt      01:14:34.759 01:14:37.065 MATT: Make a percept...  "
      ]
     },
     "metadata": {},
     "output_type": "display_data"
    },
    {
     "data": {
      "text/markdown": [
       "# Episode 43 - In Hot Water"
      ],
      "text/plain": [
       "<IPython.core.display.Markdown object>"
      ]
     },
     "metadata": {},
     "output_type": "display_data"
    },
    {
     "data": {
      "text/html": [
       "<div>\n",
       "<style scoped>\n",
       "    .dataframe tbody tr th:only-of-type {\n",
       "        vertical-align: middle;\n",
       "    }\n",
       "\n",
       "    .dataframe tbody tr th {\n",
       "        vertical-align: top;\n",
       "    }\n",
       "\n",
       "    .dataframe thead th {\n",
       "        text-align: right;\n",
       "    }\n",
       "</style>\n",
       "<table border=\"1\" class=\"dataframe\">\n",
       "  <thead>\n",
       "    <tr style=\"text-align: right;\">\n",
       "      <th></th>\n",
       "      <th>interval</th>\n",
       "      <th>starting_line</th>\n",
       "      <th>ending_line</th>\n",
       "    </tr>\n",
       "  </thead>\n",
       "  <tbody>\n",
       "    <tr>\n",
       "      <th>All</th>\n",
       "      <td>0 days 00:32:42.028000</td>\n",
       "      <td>02:34:26.842 02:34:33.290 (laughter)</td>\n",
       "      <td>03:07:15.318 03:07:19.540 (laughter)</td>\n",
       "    </tr>\n",
       "    <tr>\n",
       "      <th>Sam</th>\n",
       "      <td>0 days 00:18:53.330000</td>\n",
       "      <td>01:55:33.495 01:55:36.025 SAM: Is he with us?</td>\n",
       "      <td>02:14:29.355 02:14:32.139 SAM: I have a sample...</td>\n",
       "    </tr>\n",
       "    <tr>\n",
       "      <th>Laura</th>\n",
       "      <td>0 days 00:18:29.495000</td>\n",
       "      <td>00:26:00.622 00:26:09.251 LAURA: I'm going to ...</td>\n",
       "      <td>00:44:38.746 00:44:43.474 LAURA: Whoa, that's ...</td>\n",
       "    </tr>\n",
       "    <tr>\n",
       "      <th>Taliesin</th>\n",
       "      <td>0 days 00:13:47.642000</td>\n",
       "      <td>02:02:40.155 02:02:42.658 TALIESIN: Oh, yeah.</td>\n",
       "      <td>02:16:30.300 02:16:31.829 TALIESIN: We'll be f...</td>\n",
       "    </tr>\n",
       "    <tr>\n",
       "      <th>Marisha</th>\n",
       "      <td>0 days 00:09:45.758000</td>\n",
       "      <td>00:37:16.558 00:37:19.577 MARISHA: Good. Going...</td>\n",
       "      <td>00:47:05.335 00:47:06.528 MARISHA: The tavern?</td>\n",
       "    </tr>\n",
       "    <tr>\n",
       "      <th>Liam</th>\n",
       "      <td>0 days 00:07:33.181000</td>\n",
       "      <td>00:44:50.565 00:44:52.635 LIAM: Yeah. I'm out.</td>\n",
       "      <td>00:52:25.816 00:52:27.847 LIAM: Vanna's going ...</td>\n",
       "    </tr>\n",
       "    <tr>\n",
       "      <th>Travis</th>\n",
       "      <td>0 days 00:05:54.429000</td>\n",
       "      <td>02:36:09.762 02:36:12.432 TRAVIS: No, I'm just...</td>\n",
       "      <td>02:42:06.861 02:42:08.862 TRAVIS: Yeah.</td>\n",
       "    </tr>\n",
       "    <tr>\n",
       "      <th>Matt</th>\n",
       "      <td>0 days 00:05:05.189000</td>\n",
       "      <td>02:36:35.903 02:36:54.058 MATT: Not quite. All...</td>\n",
       "      <td>02:41:59.247 02:42:00.978 MATT: Yeah.</td>\n",
       "    </tr>\n",
       "  </tbody>\n",
       "</table>\n",
       "</div>"
      ],
      "text/plain": [
       "                       interval  \\\n",
       "All      0 days 00:32:42.028000   \n",
       "Sam      0 days 00:18:53.330000   \n",
       "Laura    0 days 00:18:29.495000   \n",
       "Taliesin 0 days 00:13:47.642000   \n",
       "Marisha  0 days 00:09:45.758000   \n",
       "Liam     0 days 00:07:33.181000   \n",
       "Travis   0 days 00:05:54.429000   \n",
       "Matt     0 days 00:05:05.189000   \n",
       "\n",
       "                                              starting_line  \\\n",
       "All                    02:34:26.842 02:34:33.290 (laughter)   \n",
       "Sam           01:55:33.495 01:55:36.025 SAM: Is he with us?   \n",
       "Laura     00:26:00.622 00:26:09.251 LAURA: I'm going to ...   \n",
       "Taliesin      02:02:40.155 02:02:42.658 TALIESIN: Oh, yeah.   \n",
       "Marisha   00:37:16.558 00:37:19.577 MARISHA: Good. Going...   \n",
       "Liam         00:44:50.565 00:44:52.635 LIAM: Yeah. I'm out.   \n",
       "Travis    02:36:09.762 02:36:12.432 TRAVIS: No, I'm just...   \n",
       "Matt      02:36:35.903 02:36:54.058 MATT: Not quite. All...   \n",
       "\n",
       "                                                ending_line  \n",
       "All                    03:07:15.318 03:07:19.540 (laughter)  \n",
       "Sam       02:14:29.355 02:14:32.139 SAM: I have a sample...  \n",
       "Laura     00:44:38.746 00:44:43.474 LAURA: Whoa, that's ...  \n",
       "Taliesin  02:16:30.300 02:16:31.829 TALIESIN: We'll be f...  \n",
       "Marisha      00:47:05.335 00:47:06.528 MARISHA: The tavern?  \n",
       "Liam      00:52:25.816 00:52:27.847 LIAM: Vanna's going ...  \n",
       "Travis              02:42:06.861 02:42:08.862 TRAVIS: Yeah.  \n",
       "Matt                  02:41:59.247 02:42:00.978 MATT: Yeah.  "
      ]
     },
     "metadata": {},
     "output_type": "display_data"
    },
    {
     "data": {
      "text/markdown": [
       "# Episode 44 - The Diver's Grave"
      ],
      "text/plain": [
       "<IPython.core.display.Markdown object>"
      ]
     },
     "metadata": {},
     "output_type": "display_data"
    },
    {
     "data": {
      "text/html": [
       "<div>\n",
       "<style scoped>\n",
       "    .dataframe tbody tr th:only-of-type {\n",
       "        vertical-align: middle;\n",
       "    }\n",
       "\n",
       "    .dataframe tbody tr th {\n",
       "        vertical-align: top;\n",
       "    }\n",
       "\n",
       "    .dataframe thead th {\n",
       "        text-align: right;\n",
       "    }\n",
       "</style>\n",
       "<table border=\"1\" class=\"dataframe\">\n",
       "  <thead>\n",
       "    <tr style=\"text-align: right;\">\n",
       "      <th></th>\n",
       "      <th>interval</th>\n",
       "      <th>starting_line</th>\n",
       "      <th>ending_line</th>\n",
       "    </tr>\n",
       "  </thead>\n",
       "  <tbody>\n",
       "    <tr>\n",
       "      <th>Ashley</th>\n",
       "      <td>0 days 03:44:54.703000</td>\n",
       "      <td>00:12:41.772 00:13:22.756 ASHLEY: (singing) Th...</td>\n",
       "      <td>03:58:17.459 03:58:58.702 ASHLEY: (singing) Th...</td>\n",
       "    </tr>\n",
       "    <tr>\n",
       "      <th>All</th>\n",
       "      <td>0 days 00:33:59.467000</td>\n",
       "      <td>00:20:14.925 00:20:17.373 (laughter)</td>\n",
       "      <td>00:54:16.840 00:54:18.641 (groaning)</td>\n",
       "    </tr>\n",
       "    <tr>\n",
       "      <th>Marisha</th>\n",
       "      <td>0 days 00:11:39.365000</td>\n",
       "      <td>00:27:57.230 00:27:58.247 MARISHA: Nein.</td>\n",
       "      <td>00:39:37.612 00:39:40.548 MARISHA: Why don't y...</td>\n",
       "    </tr>\n",
       "    <tr>\n",
       "      <th>Liam</th>\n",
       "      <td>0 days 00:11:23.707000</td>\n",
       "      <td>02:56:55.990 02:56:58.514 LIAM: Them's the bre...</td>\n",
       "      <td>03:08:22.221 03:08:25.761 LIAM: The murk. It's...</td>\n",
       "    </tr>\n",
       "    <tr>\n",
       "      <th>Taliesin</th>\n",
       "      <td>0 days 00:11:06.501000</td>\n",
       "      <td>00:06:06.147 00:06:07.162 TALIESIN: There was ...</td>\n",
       "      <td>00:17:13.663 00:17:15.882 TALIESIN: Of course.</td>\n",
       "    </tr>\n",
       "    <tr>\n",
       "      <th>Laura</th>\n",
       "      <td>0 days 00:09:01.172000</td>\n",
       "      <td>01:01:29.153 01:01:33.487 LAURA: What's its we...</td>\n",
       "      <td>01:10:34.659 01:10:36.924 LAURA: Is it hexed, ...</td>\n",
       "    </tr>\n",
       "    <tr>\n",
       "      <th>Sam</th>\n",
       "      <td>0 days 00:06:16.363000</td>\n",
       "      <td>00:03:43.803 00:03:45.309 SAM: SamIsOurHero.</td>\n",
       "      <td>00:10:01.672 00:10:13.297 SAM: Yes and we have...</td>\n",
       "    </tr>\n",
       "    <tr>\n",
       "      <th>Travis</th>\n",
       "      <td>0 days 00:04:44.189000</td>\n",
       "      <td>00:11:43.393 00:11:46.999 TRAVIS: Let's let Ma...</td>\n",
       "      <td>00:16:31.188 00:16:34.234 TRAVIS: I saw it. Th...</td>\n",
       "    </tr>\n",
       "    <tr>\n",
       "      <th>Matt</th>\n",
       "      <td>0 days 00:02:24.901000</td>\n",
       "      <td>00:09:12.745 00:09:22.098 MATT: That was prett...</td>\n",
       "      <td>00:11:46.999 00:12:10.574 MATT: Without furthe...</td>\n",
       "    </tr>\n",
       "  </tbody>\n",
       "</table>\n",
       "</div>"
      ],
      "text/plain": [
       "                       interval  \\\n",
       "Ashley   0 days 03:44:54.703000   \n",
       "All      0 days 00:33:59.467000   \n",
       "Marisha  0 days 00:11:39.365000   \n",
       "Liam     0 days 00:11:23.707000   \n",
       "Taliesin 0 days 00:11:06.501000   \n",
       "Laura    0 days 00:09:01.172000   \n",
       "Sam      0 days 00:06:16.363000   \n",
       "Travis   0 days 00:04:44.189000   \n",
       "Matt     0 days 00:02:24.901000   \n",
       "\n",
       "                                              starting_line  \\\n",
       "Ashley    00:12:41.772 00:13:22.756 ASHLEY: (singing) Th...   \n",
       "All                    00:20:14.925 00:20:17.373 (laughter)   \n",
       "Marisha            00:27:57.230 00:27:58.247 MARISHA: Nein.   \n",
       "Liam      02:56:55.990 02:56:58.514 LIAM: Them's the bre...   \n",
       "Taliesin  00:06:06.147 00:06:07.162 TALIESIN: There was ...   \n",
       "Laura     01:01:29.153 01:01:33.487 LAURA: What's its we...   \n",
       "Sam            00:03:43.803 00:03:45.309 SAM: SamIsOurHero.   \n",
       "Travis    00:11:43.393 00:11:46.999 TRAVIS: Let's let Ma...   \n",
       "Matt      00:09:12.745 00:09:22.098 MATT: That was prett...   \n",
       "\n",
       "                                                ending_line  \n",
       "Ashley    03:58:17.459 03:58:58.702 ASHLEY: (singing) Th...  \n",
       "All                    00:54:16.840 00:54:18.641 (groaning)  \n",
       "Marisha   00:39:37.612 00:39:40.548 MARISHA: Why don't y...  \n",
       "Liam      03:08:22.221 03:08:25.761 LIAM: The murk. It's...  \n",
       "Taliesin     00:17:13.663 00:17:15.882 TALIESIN: Of course.  \n",
       "Laura     01:10:34.659 01:10:36.924 LAURA: Is it hexed, ...  \n",
       "Sam       00:10:01.672 00:10:13.297 SAM: Yes and we have...  \n",
       "Travis    00:16:31.188 00:16:34.234 TRAVIS: I saw it. Th...  \n",
       "Matt      00:11:46.999 00:12:10.574 MATT: Without furthe...  "
      ]
     },
     "metadata": {},
     "output_type": "display_data"
    },
    {
     "data": {
      "text/markdown": [
       "# Episode 45 - The Stowaway"
      ],
      "text/plain": [
       "<IPython.core.display.Markdown object>"
      ]
     },
     "metadata": {},
     "output_type": "display_data"
    },
    {
     "name": "stdout",
     "output_type": "stream",
     "text": [
      "Added to cast: Deborah\n"
     ]
    },
    {
     "data": {
      "text/html": [
       "<div>\n",
       "<style scoped>\n",
       "    .dataframe tbody tr th:only-of-type {\n",
       "        vertical-align: middle;\n",
       "    }\n",
       "\n",
       "    .dataframe tbody tr th {\n",
       "        vertical-align: top;\n",
       "    }\n",
       "\n",
       "    .dataframe thead th {\n",
       "        text-align: right;\n",
       "    }\n",
       "</style>\n",
       "<table border=\"1\" class=\"dataframe\">\n",
       "  <thead>\n",
       "    <tr style=\"text-align: right;\">\n",
       "      <th></th>\n",
       "      <th>interval</th>\n",
       "      <th>starting_line</th>\n",
       "      <th>ending_line</th>\n",
       "    </tr>\n",
       "  </thead>\n",
       "  <tbody>\n",
       "    <tr>\n",
       "      <th>All</th>\n",
       "      <td>0 days 00:31:17.011000</td>\n",
       "      <td>00:36:08.784 00:36:12.488 (laughter)</td>\n",
       "      <td>01:07:29.499 01:07:35.604 (laughter)</td>\n",
       "    </tr>\n",
       "    <tr>\n",
       "      <th>Deborah</th>\n",
       "      <td>0 days 00:16:28.338000</td>\n",
       "      <td>03:03:07.789 03:03:09.907 DEBORAH: I came to d...</td>\n",
       "      <td>03:19:38.245 03:19:40.036 DEBORAH: I think it ...</td>\n",
       "    </tr>\n",
       "    <tr>\n",
       "      <th>Laura</th>\n",
       "      <td>0 days 00:14:00.926000</td>\n",
       "      <td>03:00:14.773 03:00:16.024 LAURA: Oh no.</td>\n",
       "      <td>03:14:16.950 03:14:17.676 LAURA: Natural 20!</td>\n",
       "    </tr>\n",
       "    <tr>\n",
       "      <th>Marisha</th>\n",
       "      <td>0 days 00:13:12.563000</td>\n",
       "      <td>02:59:44.726 02:59:48.145 MARISHA: My actions ...</td>\n",
       "      <td>03:13:00.708 03:13:03.643 MARISHA: Oh no.</td>\n",
       "    </tr>\n",
       "    <tr>\n",
       "      <th>Sam</th>\n",
       "      <td>0 days 00:12:20.608000</td>\n",
       "      <td>01:05:33.902 01:05:36.397 SAM: Okay. Are you e...</td>\n",
       "      <td>01:17:57.005 01:18:13.611 SAM: You had mention...</td>\n",
       "    </tr>\n",
       "    <tr>\n",
       "      <th>Taliesin</th>\n",
       "      <td>0 days 00:12:20.537000</td>\n",
       "      <td>01:20:26.171 01:20:29.909 TALIESIN: This is da...</td>\n",
       "      <td>01:32:50.446 01:32:54.153 TALIESIN: I'm finall...</td>\n",
       "    </tr>\n",
       "    <tr>\n",
       "      <th>Liam</th>\n",
       "      <td>0 days 00:11:54.092000</td>\n",
       "      <td>00:22:37.745 00:22:40.864 LIAM: He was vague a...</td>\n",
       "      <td>00:34:34.956 00:34:36.854 LIAM: That's pretty ...</td>\n",
       "    </tr>\n",
       "    <tr>\n",
       "      <th>Travis</th>\n",
       "      <td>0 days 00:10:45.696000</td>\n",
       "      <td>02:40:19.271 02:40:20.547 TRAVIS: I have been ...</td>\n",
       "      <td>02:51:06.243 02:51:08.253 TRAVIS: (whispering)...</td>\n",
       "    </tr>\n",
       "    <tr>\n",
       "      <th>Matt</th>\n",
       "      <td>0 days 00:04:27.187000</td>\n",
       "      <td>04:38:18.631 04:38:23.202 MATT: You watch her ...</td>\n",
       "      <td>04:42:50.389 04:43:18.749 MATT: You both quiet...</td>\n",
       "    </tr>\n",
       "  </tbody>\n",
       "</table>\n",
       "</div>"
      ],
      "text/plain": [
       "                       interval  \\\n",
       "All      0 days 00:31:17.011000   \n",
       "Deborah  0 days 00:16:28.338000   \n",
       "Laura    0 days 00:14:00.926000   \n",
       "Marisha  0 days 00:13:12.563000   \n",
       "Sam      0 days 00:12:20.608000   \n",
       "Taliesin 0 days 00:12:20.537000   \n",
       "Liam     0 days 00:11:54.092000   \n",
       "Travis   0 days 00:10:45.696000   \n",
       "Matt     0 days 00:04:27.187000   \n",
       "\n",
       "                                              starting_line  \\\n",
       "All                    00:36:08.784 00:36:12.488 (laughter)   \n",
       "Deborah   03:03:07.789 03:03:09.907 DEBORAH: I came to d...   \n",
       "Laura               03:00:14.773 03:00:16.024 LAURA: Oh no.   \n",
       "Marisha   02:59:44.726 02:59:48.145 MARISHA: My actions ...   \n",
       "Sam       01:05:33.902 01:05:36.397 SAM: Okay. Are you e...   \n",
       "Taliesin  01:20:26.171 01:20:29.909 TALIESIN: This is da...   \n",
       "Liam      00:22:37.745 00:22:40.864 LIAM: He was vague a...   \n",
       "Travis    02:40:19.271 02:40:20.547 TRAVIS: I have been ...   \n",
       "Matt      04:38:18.631 04:38:23.202 MATT: You watch her ...   \n",
       "\n",
       "                                                ending_line  \n",
       "All                    01:07:29.499 01:07:35.604 (laughter)  \n",
       "Deborah   03:19:38.245 03:19:40.036 DEBORAH: I think it ...  \n",
       "Laura          03:14:16.950 03:14:17.676 LAURA: Natural 20!  \n",
       "Marisha           03:13:00.708 03:13:03.643 MARISHA: Oh no.  \n",
       "Sam       01:17:57.005 01:18:13.611 SAM: You had mention...  \n",
       "Taliesin  01:32:50.446 01:32:54.153 TALIESIN: I'm finall...  \n",
       "Liam      00:34:34.956 00:34:36.854 LIAM: That's pretty ...  \n",
       "Travis    02:51:06.243 02:51:08.253 TRAVIS: (whispering)...  \n",
       "Matt      04:42:50.389 04:43:18.749 MATT: You both quiet...  "
      ]
     },
     "metadata": {},
     "output_type": "display_data"
    },
    {
     "data": {
      "text/markdown": [
       "# Episode 46 - A Storm of Memories"
      ],
      "text/plain": [
       "<IPython.core.display.Markdown object>"
      ]
     },
     "metadata": {},
     "output_type": "display_data"
    },
    {
     "data": {
      "text/html": [
       "<div>\n",
       "<style scoped>\n",
       "    .dataframe tbody tr th:only-of-type {\n",
       "        vertical-align: middle;\n",
       "    }\n",
       "\n",
       "    .dataframe tbody tr th {\n",
       "        vertical-align: top;\n",
       "    }\n",
       "\n",
       "    .dataframe thead th {\n",
       "        text-align: right;\n",
       "    }\n",
       "</style>\n",
       "<table border=\"1\" class=\"dataframe\">\n",
       "  <thead>\n",
       "    <tr style=\"text-align: right;\">\n",
       "      <th></th>\n",
       "      <th>interval</th>\n",
       "      <th>starting_line</th>\n",
       "      <th>ending_line</th>\n",
       "    </tr>\n",
       "  </thead>\n",
       "  <tbody>\n",
       "    <tr>\n",
       "      <th>Liam</th>\n",
       "      <td>0 days 00:40:54.230000</td>\n",
       "      <td>01:39:53.642 01:39:58.444 LIAM: She can rage; ...</td>\n",
       "      <td>02:20:52.674 02:20:56.636 LIAM: (singing to th...</td>\n",
       "    </tr>\n",
       "    <tr>\n",
       "      <th>Ashley</th>\n",
       "      <td>0 days 00:32:05.779000</td>\n",
       "      <td>00:08:13.420 00:08:59.105 ASHLEY: (singing) Th...</td>\n",
       "      <td>00:41:04.884 00:41:06.935 ASHLEY: You guys jus...</td>\n",
       "    </tr>\n",
       "    <tr>\n",
       "      <th>All</th>\n",
       "      <td>0 days 00:30:40.563000</td>\n",
       "      <td>01:31:37.397 01:31:44.071 ALL: (groaning)</td>\n",
       "      <td>02:02:24.634 02:02:30.554 (background music, t...</td>\n",
       "    </tr>\n",
       "    <tr>\n",
       "      <th>Marisha</th>\n",
       "      <td>0 days 00:30:15.688000</td>\n",
       "      <td>01:32:28.667 01:32:29.811 MARISHA: (singing) C...</td>\n",
       "      <td>02:02:45.499 02:02:47.129 MARISHA: Sentinel, b...</td>\n",
       "    </tr>\n",
       "    <tr>\n",
       "      <th>Taliesin</th>\n",
       "      <td>0 days 00:26:28.647000</td>\n",
       "      <td>01:47:51.854 01:47:53.953 TALIESIN: Oh my god!</td>\n",
       "      <td>02:14:22.600 02:14:26.020 TALIESIN: (snoring)</td>\n",
       "    </tr>\n",
       "    <tr>\n",
       "      <th>Travis</th>\n",
       "      <td>0 days 00:14:56.976000</td>\n",
       "      <td>01:24:58.223 01:25:01.468 TRAVIS: No, get some...</td>\n",
       "      <td>01:39:58.444 01:40:01.311 TRAVIS: Rage doesn't...</td>\n",
       "    </tr>\n",
       "    <tr>\n",
       "      <th>Sam</th>\n",
       "      <td>0 days 00:13:54.370000</td>\n",
       "      <td>02:18:54.085 02:18:59.887 SAM: Look at the fir...</td>\n",
       "      <td>02:32:54.257 02:32:58.670 SAM: We've all had a...</td>\n",
       "    </tr>\n",
       "    <tr>\n",
       "      <th>Matt</th>\n",
       "      <td>0 days 00:11:40.841000</td>\n",
       "      <td>00:42:02.819 00:42:11.030 MATT: As you guys ar...</td>\n",
       "      <td>00:53:51.871 00:53:53.546 MATT: Make an invest...</td>\n",
       "    </tr>\n",
       "    <tr>\n",
       "      <th>Laura</th>\n",
       "      <td>0 days 00:10:38.959000</td>\n",
       "      <td>01:29:44.535 01:29:47.339 LAURA: Okay.</td>\n",
       "      <td>01:40:26.298 01:40:28.853 LAURA: Would we have...</td>\n",
       "    </tr>\n",
       "  </tbody>\n",
       "</table>\n",
       "</div>"
      ],
      "text/plain": [
       "                       interval  \\\n",
       "Liam     0 days 00:40:54.230000   \n",
       "Ashley   0 days 00:32:05.779000   \n",
       "All      0 days 00:30:40.563000   \n",
       "Marisha  0 days 00:30:15.688000   \n",
       "Taliesin 0 days 00:26:28.647000   \n",
       "Travis   0 days 00:14:56.976000   \n",
       "Sam      0 days 00:13:54.370000   \n",
       "Matt     0 days 00:11:40.841000   \n",
       "Laura    0 days 00:10:38.959000   \n",
       "\n",
       "                                              starting_line  \\\n",
       "Liam      01:39:53.642 01:39:58.444 LIAM: She can rage; ...   \n",
       "Ashley    00:08:13.420 00:08:59.105 ASHLEY: (singing) Th...   \n",
       "All               01:31:37.397 01:31:44.071 ALL: (groaning)   \n",
       "Marisha   01:32:28.667 01:32:29.811 MARISHA: (singing) C...   \n",
       "Taliesin     01:47:51.854 01:47:53.953 TALIESIN: Oh my god!   \n",
       "Travis    01:24:58.223 01:25:01.468 TRAVIS: No, get some...   \n",
       "Sam       02:18:54.085 02:18:59.887 SAM: Look at the fir...   \n",
       "Matt      00:42:02.819 00:42:11.030 MATT: As you guys ar...   \n",
       "Laura                01:29:44.535 01:29:47.339 LAURA: Okay.   \n",
       "\n",
       "                                                ending_line  \n",
       "Liam      02:20:52.674 02:20:56.636 LIAM: (singing to th...  \n",
       "Ashley    00:41:04.884 00:41:06.935 ASHLEY: You guys jus...  \n",
       "All       02:02:24.634 02:02:30.554 (background music, t...  \n",
       "Marisha   02:02:45.499 02:02:47.129 MARISHA: Sentinel, b...  \n",
       "Taliesin      02:14:22.600 02:14:26.020 TALIESIN: (snoring)  \n",
       "Travis    01:39:58.444 01:40:01.311 TRAVIS: Rage doesn't...  \n",
       "Sam       02:32:54.257 02:32:58.670 SAM: We've all had a...  \n",
       "Matt      00:53:51.871 00:53:53.546 MATT: Make an invest...  \n",
       "Laura     01:40:26.298 01:40:28.853 LAURA: Would we have...  "
      ]
     },
     "metadata": {},
     "output_type": "display_data"
    },
    {
     "data": {
      "text/markdown": [
       "# Episode 47 - The Second Seal"
      ],
      "text/plain": [
       "<IPython.core.display.Markdown object>"
      ]
     },
     "metadata": {},
     "output_type": "display_data"
    },
    {
     "data": {
      "text/html": [
       "<div>\n",
       "<style scoped>\n",
       "    .dataframe tbody tr th:only-of-type {\n",
       "        vertical-align: middle;\n",
       "    }\n",
       "\n",
       "    .dataframe tbody tr th {\n",
       "        vertical-align: top;\n",
       "    }\n",
       "\n",
       "    .dataframe thead th {\n",
       "        text-align: right;\n",
       "    }\n",
       "</style>\n",
       "<table border=\"1\" class=\"dataframe\">\n",
       "  <thead>\n",
       "    <tr style=\"text-align: right;\">\n",
       "      <th></th>\n",
       "      <th>interval</th>\n",
       "      <th>starting_line</th>\n",
       "      <th>ending_line</th>\n",
       "    </tr>\n",
       "  </thead>\n",
       "  <tbody>\n",
       "    <tr>\n",
       "      <th>All</th>\n",
       "      <td>0 days 00:39:35.430000</td>\n",
       "      <td>00:10:16.343 00:10:23.301 [fire burning]</td>\n",
       "      <td>00:49:58.731 00:50:03.395 (laughter)</td>\n",
       "    </tr>\n",
       "    <tr>\n",
       "      <th>Taliesin</th>\n",
       "      <td>0 days 00:14:27.248000</td>\n",
       "      <td>00:39:11.169 00:39:13.065 TALIESIN: I see her ...</td>\n",
       "      <td>00:53:40.313 00:53:42.234 TALIESIN: I'm fine e...</td>\n",
       "    </tr>\n",
       "    <tr>\n",
       "      <th>Travis</th>\n",
       "      <td>0 days 00:10:21.021000</td>\n",
       "      <td>03:22:44.112 03:22:50.395 TRAVIS: (whispering)...</td>\n",
       "      <td>03:33:11.416 03:33:22.367 TRAVIS: Oh man. That...</td>\n",
       "    </tr>\n",
       "    <tr>\n",
       "      <th>Marisha</th>\n",
       "      <td>0 days 00:10:01.748000</td>\n",
       "      <td>01:28:03.648 01:28:04.440 MARISHA: Copy.</td>\n",
       "      <td>01:38:06.188 01:38:08.630 MARISHA: They're thi...</td>\n",
       "    </tr>\n",
       "    <tr>\n",
       "      <th>Liam</th>\n",
       "      <td>0 days 00:09:51.452000</td>\n",
       "      <td>00:55:10.203 00:55:13.566 LIAM: Character drop...</td>\n",
       "      <td>01:05:05.018 01:05:06.336 LIAM: Double that.</td>\n",
       "    </tr>\n",
       "    <tr>\n",
       "      <th>Sam</th>\n",
       "      <td>0 days 00:09:28.516000</td>\n",
       "      <td>01:54:52.705 01:54:55.424 SAM: Better hand him...</td>\n",
       "      <td>02:04:23.940 02:04:24.894 SAM: Are we in there?</td>\n",
       "    </tr>\n",
       "    <tr>\n",
       "      <th>Laura</th>\n",
       "      <td>0 days 00:09:14.698000</td>\n",
       "      <td>03:25:12.712 03:25:14.900 LAURA: 20.</td>\n",
       "      <td>03:34:29.598 03:34:31.798 LAURA: I'm going to ...</td>\n",
       "    </tr>\n",
       "    <tr>\n",
       "      <th>Matt</th>\n",
       "      <td>0 days 00:05:59.599000</td>\n",
       "      <td>03:25:51.440 03:25:53.868 MATT: On the Balleat...</td>\n",
       "      <td>03:31:53.467 03:33:07.865 MATT: After a few da...</td>\n",
       "    </tr>\n",
       "  </tbody>\n",
       "</table>\n",
       "</div>"
      ],
      "text/plain": [
       "                       interval  \\\n",
       "All      0 days 00:39:35.430000   \n",
       "Taliesin 0 days 00:14:27.248000   \n",
       "Travis   0 days 00:10:21.021000   \n",
       "Marisha  0 days 00:10:01.748000   \n",
       "Liam     0 days 00:09:51.452000   \n",
       "Sam      0 days 00:09:28.516000   \n",
       "Laura    0 days 00:09:14.698000   \n",
       "Matt     0 days 00:05:59.599000   \n",
       "\n",
       "                                              starting_line  \\\n",
       "All                00:10:16.343 00:10:23.301 [fire burning]   \n",
       "Taliesin  00:39:11.169 00:39:13.065 TALIESIN: I see her ...   \n",
       "Travis    03:22:44.112 03:22:50.395 TRAVIS: (whispering)...   \n",
       "Marisha            01:28:03.648 01:28:04.440 MARISHA: Copy.   \n",
       "Liam      00:55:10.203 00:55:13.566 LIAM: Character drop...   \n",
       "Sam       01:54:52.705 01:54:55.424 SAM: Better hand him...   \n",
       "Laura                  03:25:12.712 03:25:14.900 LAURA: 20.   \n",
       "Matt      03:25:51.440 03:25:53.868 MATT: On the Balleat...   \n",
       "\n",
       "                                                ending_line  \n",
       "All                    00:49:58.731 00:50:03.395 (laughter)  \n",
       "Taliesin  00:53:40.313 00:53:42.234 TALIESIN: I'm fine e...  \n",
       "Travis    03:33:11.416 03:33:22.367 TRAVIS: Oh man. That...  \n",
       "Marisha   01:38:06.188 01:38:08.630 MARISHA: They're thi...  \n",
       "Liam           01:05:05.018 01:05:06.336 LIAM: Double that.  \n",
       "Sam         02:04:23.940 02:04:24.894 SAM: Are we in there?  \n",
       "Laura     03:34:29.598 03:34:31.798 LAURA: I'm going to ...  \n",
       "Matt      03:31:53.467 03:33:07.865 MATT: After a few da...  "
      ]
     },
     "metadata": {},
     "output_type": "display_data"
    },
    {
     "data": {
      "text/markdown": [
       "# Episode 48 - Homeward Bound"
      ],
      "text/plain": [
       "<IPython.core.display.Markdown object>"
      ]
     },
     "metadata": {},
     "output_type": "display_data"
    },
    {
     "data": {
      "text/html": [
       "<div>\n",
       "<style scoped>\n",
       "    .dataframe tbody tr th:only-of-type {\n",
       "        vertical-align: middle;\n",
       "    }\n",
       "\n",
       "    .dataframe tbody tr th {\n",
       "        vertical-align: top;\n",
       "    }\n",
       "\n",
       "    .dataframe thead th {\n",
       "        text-align: right;\n",
       "    }\n",
       "</style>\n",
       "<table border=\"1\" class=\"dataframe\">\n",
       "  <thead>\n",
       "    <tr style=\"text-align: right;\">\n",
       "      <th></th>\n",
       "      <th>interval</th>\n",
       "      <th>starting_line</th>\n",
       "      <th>ending_line</th>\n",
       "    </tr>\n",
       "  </thead>\n",
       "  <tbody>\n",
       "    <tr>\n",
       "      <th>All</th>\n",
       "      <td>0 days 00:31:34.629000</td>\n",
       "      <td>03:00:38.827 03:00:41.679 (laughter)</td>\n",
       "      <td>03:32:16.308 03:32:19.134 (cheering)</td>\n",
       "    </tr>\n",
       "    <tr>\n",
       "      <th>Liam</th>\n",
       "      <td>0 days 00:16:49.543000</td>\n",
       "      <td>01:41:41.867 01:41:42.604 LIAM: For what?</td>\n",
       "      <td>01:58:32.147 01:58:36.604 LIAM: Oh god, I need...</td>\n",
       "    </tr>\n",
       "    <tr>\n",
       "      <th>Travis</th>\n",
       "      <td>0 days 00:13:49.628000</td>\n",
       "      <td>00:26:34.273 00:26:35.424 TRAVIS: Is it bigger?</td>\n",
       "      <td>00:40:25.052 00:40:31.965 TRAVIS: You assaulte...</td>\n",
       "    </tr>\n",
       "    <tr>\n",
       "      <th>Marisha</th>\n",
       "      <td>0 days 00:12:30.819000</td>\n",
       "      <td>00:28:04.686 00:28:06.223 MARISHA: (whispering...</td>\n",
       "      <td>00:40:37.042 00:40:40.351 MARISHA: Sam attempt...</td>\n",
       "    </tr>\n",
       "    <tr>\n",
       "      <th>Sam</th>\n",
       "      <td>0 days 00:11:04.583000</td>\n",
       "      <td>01:50:50.989 01:50:51.774 SAM: Yep.</td>\n",
       "      <td>02:01:56.357 02:01:57.279 SAM: I think so.</td>\n",
       "    </tr>\n",
       "    <tr>\n",
       "      <th>Laura</th>\n",
       "      <td>0 days 00:10:26.898000</td>\n",
       "      <td>01:51:28.221 01:51:30.381 LAURA: And all three...</td>\n",
       "      <td>02:01:57.279 02:02:00.466 LAURA: Can we go in?...</td>\n",
       "    </tr>\n",
       "    <tr>\n",
       "      <th>Taliesin</th>\n",
       "      <td>0 days 00:10:04.402000</td>\n",
       "      <td>00:26:27.946 00:26:34.273 TALIESIN: That's int...</td>\n",
       "      <td>00:36:38.675 00:36:40.685 TALIESIN: Great Nico...</td>\n",
       "    </tr>\n",
       "    <tr>\n",
       "      <th>Matt</th>\n",
       "      <td>0 days 00:06:12.633000</td>\n",
       "      <td>02:54:14.900 02:54:16.399 MATT: Yeah.</td>\n",
       "      <td>03:00:29.032 03:00:32.901 MATT: All right. Do ...</td>\n",
       "    </tr>\n",
       "  </tbody>\n",
       "</table>\n",
       "</div>"
      ],
      "text/plain": [
       "                       interval  \\\n",
       "All      0 days 00:31:34.629000   \n",
       "Liam     0 days 00:16:49.543000   \n",
       "Travis   0 days 00:13:49.628000   \n",
       "Marisha  0 days 00:12:30.819000   \n",
       "Sam      0 days 00:11:04.583000   \n",
       "Laura    0 days 00:10:26.898000   \n",
       "Taliesin 0 days 00:10:04.402000   \n",
       "Matt     0 days 00:06:12.633000   \n",
       "\n",
       "                                              starting_line  \\\n",
       "All                    03:00:38.827 03:00:41.679 (laughter)   \n",
       "Liam              01:41:41.867 01:41:42.604 LIAM: For what?   \n",
       "Travis      00:26:34.273 00:26:35.424 TRAVIS: Is it bigger?   \n",
       "Marisha   00:28:04.686 00:28:06.223 MARISHA: (whispering...   \n",
       "Sam                     01:50:50.989 01:50:51.774 SAM: Yep.   \n",
       "Laura     01:51:28.221 01:51:30.381 LAURA: And all three...   \n",
       "Taliesin  00:26:27.946 00:26:34.273 TALIESIN: That's int...   \n",
       "Matt                  02:54:14.900 02:54:16.399 MATT: Yeah.   \n",
       "\n",
       "                                                ending_line  \n",
       "All                    03:32:16.308 03:32:19.134 (cheering)  \n",
       "Liam      01:58:32.147 01:58:36.604 LIAM: Oh god, I need...  \n",
       "Travis    00:40:25.052 00:40:31.965 TRAVIS: You assaulte...  \n",
       "Marisha   00:40:37.042 00:40:40.351 MARISHA: Sam attempt...  \n",
       "Sam              02:01:56.357 02:01:57.279 SAM: I think so.  \n",
       "Laura     02:01:57.279 02:02:00.466 LAURA: Can we go in?...  \n",
       "Taliesin  00:36:38.675 00:36:40.685 TALIESIN: Great Nico...  \n",
       "Matt      03:00:29.032 03:00:32.901 MATT: All right. Do ...  "
      ]
     },
     "metadata": {},
     "output_type": "display_data"
    },
    {
     "data": {
      "text/markdown": [
       "# Episode 49 - A Game of Names"
      ],
      "text/plain": [
       "<IPython.core.display.Markdown object>"
      ]
     },
     "metadata": {},
     "output_type": "display_data"
    },
    {
     "name": "stdout",
     "output_type": "stream",
     "text": [
      "Added to cast: Dani\n"
     ]
    },
    {
     "data": {
      "text/html": [
       "<div>\n",
       "<style scoped>\n",
       "    .dataframe tbody tr th:only-of-type {\n",
       "        vertical-align: middle;\n",
       "    }\n",
       "\n",
       "    .dataframe tbody tr th {\n",
       "        vertical-align: top;\n",
       "    }\n",
       "\n",
       "    .dataframe thead th {\n",
       "        text-align: right;\n",
       "    }\n",
       "</style>\n",
       "<table border=\"1\" class=\"dataframe\">\n",
       "  <thead>\n",
       "    <tr style=\"text-align: right;\">\n",
       "      <th></th>\n",
       "      <th>interval</th>\n",
       "      <th>starting_line</th>\n",
       "      <th>ending_line</th>\n",
       "    </tr>\n",
       "  </thead>\n",
       "  <tbody>\n",
       "    <tr>\n",
       "      <th>All</th>\n",
       "      <td>0 days 00:41:22.566000</td>\n",
       "      <td>02:25:56.689 02:26:00.526 (groaning)</td>\n",
       "      <td>03:07:23.092 03:07:24.691 ALL: What?!</td>\n",
       "    </tr>\n",
       "    <tr>\n",
       "      <th>Taliesin</th>\n",
       "      <td>0 days 00:25:52.913000</td>\n",
       "      <td>00:49:08.993 00:49:10.094 TALIESIN: Because I'm--</td>\n",
       "      <td>01:15:03.007 01:15:04.888 TALIESIN: (whisperin...</td>\n",
       "    </tr>\n",
       "    <tr>\n",
       "      <th>Matt</th>\n",
       "      <td>0 days 00:20:59.594000</td>\n",
       "      <td>00:48:48.737 00:48:55.690 MATT: You're in the ...</td>\n",
       "      <td>01:09:55.284 01:09:57.523 MATT: Caleb, roll an...</td>\n",
       "    </tr>\n",
       "    <tr>\n",
       "      <th>Liam</th>\n",
       "      <td>0 days 00:15:05.357000</td>\n",
       "      <td>00:17:38.544 00:17:41.086 LIAM: We were being ...</td>\n",
       "      <td>00:32:46.443 00:32:53.046 LIAM: Is anyone else...</td>\n",
       "    </tr>\n",
       "    <tr>\n",
       "      <th>Travis</th>\n",
       "      <td>0 days 00:12:09.134000</td>\n",
       "      <td>00:20:26.729 00:20:28.004 TRAVIS: Are you a go...</td>\n",
       "      <td>00:32:37.138 00:32:40.562 TRAVIS: Do we know w...</td>\n",
       "    </tr>\n",
       "    <tr>\n",
       "      <th>Marisha</th>\n",
       "      <td>0 days 00:11:56.937000</td>\n",
       "      <td>00:23:13.169 00:23:17.701 MARISHA: Oh, that's ...</td>\n",
       "      <td>00:35:14.638 00:35:16.620 MARISHA: Nott, I kno...</td>\n",
       "    </tr>\n",
       "    <tr>\n",
       "      <th>Laura</th>\n",
       "      <td>0 days 00:09:36.145000</td>\n",
       "      <td>01:38:05.183 01:38:07.661 LAURA: A lot of sold...</td>\n",
       "      <td>01:47:43.806 01:47:44.637 LAURA: Traci?</td>\n",
       "    </tr>\n",
       "    <tr>\n",
       "      <th>Sam</th>\n",
       "      <td>0 days 00:08:56.607000</td>\n",
       "      <td>01:34:18.468 01:34:20.666 SAM: Dr. Demi Leric,...</td>\n",
       "      <td>01:43:17.273 01:43:20.184 SAM: Next time on Co...</td>\n",
       "    </tr>\n",
       "    <tr>\n",
       "      <th>Dani</th>\n",
       "      <td>0 days 00:01:16.183000</td>\n",
       "      <td>00:03:08.073 00:03:09.214 DANI: Uh-uh.</td>\n",
       "      <td>00:04:25.397 00:04:26.623 DANI: @ItsDaniCarr.</td>\n",
       "    </tr>\n",
       "  </tbody>\n",
       "</table>\n",
       "</div>"
      ],
      "text/plain": [
       "                       interval  \\\n",
       "All      0 days 00:41:22.566000   \n",
       "Taliesin 0 days 00:25:52.913000   \n",
       "Matt     0 days 00:20:59.594000   \n",
       "Liam     0 days 00:15:05.357000   \n",
       "Travis   0 days 00:12:09.134000   \n",
       "Marisha  0 days 00:11:56.937000   \n",
       "Laura    0 days 00:09:36.145000   \n",
       "Sam      0 days 00:08:56.607000   \n",
       "Dani     0 days 00:01:16.183000   \n",
       "\n",
       "                                              starting_line  \\\n",
       "All                    02:25:56.689 02:26:00.526 (groaning)   \n",
       "Taliesin  00:49:08.993 00:49:10.094 TALIESIN: Because I'm--   \n",
       "Matt      00:48:48.737 00:48:55.690 MATT: You're in the ...   \n",
       "Liam      00:17:38.544 00:17:41.086 LIAM: We were being ...   \n",
       "Travis    00:20:26.729 00:20:28.004 TRAVIS: Are you a go...   \n",
       "Marisha   00:23:13.169 00:23:17.701 MARISHA: Oh, that's ...   \n",
       "Laura     01:38:05.183 01:38:07.661 LAURA: A lot of sold...   \n",
       "Sam       01:34:18.468 01:34:20.666 SAM: Dr. Demi Leric,...   \n",
       "Dani                 00:03:08.073 00:03:09.214 DANI: Uh-uh.   \n",
       "\n",
       "                                                ending_line  \n",
       "All                   03:07:23.092 03:07:24.691 ALL: What?!  \n",
       "Taliesin  01:15:03.007 01:15:04.888 TALIESIN: (whisperin...  \n",
       "Matt      01:09:55.284 01:09:57.523 MATT: Caleb, roll an...  \n",
       "Liam      00:32:46.443 00:32:53.046 LIAM: Is anyone else...  \n",
       "Travis    00:32:37.138 00:32:40.562 TRAVIS: Do we know w...  \n",
       "Marisha   00:35:14.638 00:35:16.620 MARISHA: Nott, I kno...  \n",
       "Laura               01:47:43.806 01:47:44.637 LAURA: Traci?  \n",
       "Sam       01:43:17.273 01:43:20.184 SAM: Next time on Co...  \n",
       "Dani          00:04:25.397 00:04:26.623 DANI: @ItsDaniCarr.  "
      ]
     },
     "metadata": {},
     "output_type": "display_data"
    },
    {
     "data": {
      "text/markdown": [
       "# Episode 50 - The Endless Burrows"
      ],
      "text/plain": [
       "<IPython.core.display.Markdown object>"
      ]
     },
     "metadata": {},
     "output_type": "display_data"
    },
    {
     "name": "stdout",
     "output_type": "stream",
     "text": [
      "Added to cast: Chris\n"
     ]
    },
    {
     "data": {
      "text/html": [
       "<div>\n",
       "<style scoped>\n",
       "    .dataframe tbody tr th:only-of-type {\n",
       "        vertical-align: middle;\n",
       "    }\n",
       "\n",
       "    .dataframe tbody tr th {\n",
       "        vertical-align: top;\n",
       "    }\n",
       "\n",
       "    .dataframe thead th {\n",
       "        text-align: right;\n",
       "    }\n",
       "</style>\n",
       "<table border=\"1\" class=\"dataframe\">\n",
       "  <thead>\n",
       "    <tr style=\"text-align: right;\">\n",
       "      <th></th>\n",
       "      <th>interval</th>\n",
       "      <th>starting_line</th>\n",
       "      <th>ending_line</th>\n",
       "    </tr>\n",
       "  </thead>\n",
       "  <tbody>\n",
       "    <tr>\n",
       "      <th>Chris</th>\n",
       "      <td>0 days 01:02:14.401000</td>\n",
       "      <td>02:51:32.334 02:51:35.145 CHRIS: A little gree...</td>\n",
       "      <td>03:53:49.546 03:54:09.349 CHRIS: Somebody wrot...</td>\n",
       "    </tr>\n",
       "    <tr>\n",
       "      <th>All</th>\n",
       "      <td>0 days 00:24:49.922000</td>\n",
       "      <td>02:04:23.129 02:04:28.365 ALL: (mimicking Matt...</td>\n",
       "      <td>02:29:18.287 02:29:23.597 (yells of surprise a...</td>\n",
       "    </tr>\n",
       "    <tr>\n",
       "      <th>Marisha</th>\n",
       "      <td>0 days 00:10:56.216000</td>\n",
       "      <td>01:04:30.070 01:04:33.597 MARISHA: Yes, she is.</td>\n",
       "      <td>01:15:29.813 01:15:32.650 MARISHA: Ah! Doo-bah!</td>\n",
       "    </tr>\n",
       "    <tr>\n",
       "      <th>Laura</th>\n",
       "      <td>0 days 00:08:55.780000</td>\n",
       "      <td>01:04:44.372 01:04:45.348 LAURA: He's hexed?</td>\n",
       "      <td>01:13:41.128 01:13:42.074 LAURA: Woo!</td>\n",
       "    </tr>\n",
       "    <tr>\n",
       "      <th>Taliesin</th>\n",
       "      <td>0 days 00:08:28.684000</td>\n",
       "      <td>01:00:17.606 01:00:22.828 TALIESIN: Okay, that...</td>\n",
       "      <td>01:08:51.512 01:08:52.533 TALIESIN: Cancelled.</td>\n",
       "    </tr>\n",
       "    <tr>\n",
       "      <th>Liam</th>\n",
       "      <td>0 days 00:08:26.490000</td>\n",
       "      <td>00:06:48.776 00:06:51.754 LIAM: Matteo is a ma...</td>\n",
       "      <td>00:15:18.244 00:15:29.101 LIAM: That's not hap...</td>\n",
       "    </tr>\n",
       "    <tr>\n",
       "      <th>Sam</th>\n",
       "      <td>0 days 00:08:13.853000</td>\n",
       "      <td>02:43:24.861 02:43:26.840 SAM: Spurt 30 feet a...</td>\n",
       "      <td>02:51:40.693 02:51:43.519 SAM: My boy! He was ...</td>\n",
       "    </tr>\n",
       "    <tr>\n",
       "      <th>Travis</th>\n",
       "      <td>0 days 00:05:53.808000</td>\n",
       "      <td>02:44:10.636 02:44:17.493 TRAVIS: (laughing) \"...</td>\n",
       "      <td>02:50:11.301 02:50:12.787 TRAVIS: Yes!</td>\n",
       "    </tr>\n",
       "    <tr>\n",
       "      <th>Matt</th>\n",
       "      <td>0 days 00:03:41.389000</td>\n",
       "      <td>02:39:38.093 02:39:40.129 MATT: Still hitting ...</td>\n",
       "      <td>02:43:21.518 02:43:24.514 MATT: (laughing) All...</td>\n",
       "    </tr>\n",
       "  </tbody>\n",
       "</table>\n",
       "</div>"
      ],
      "text/plain": [
       "                       interval  \\\n",
       "Chris    0 days 01:02:14.401000   \n",
       "All      0 days 00:24:49.922000   \n",
       "Marisha  0 days 00:10:56.216000   \n",
       "Laura    0 days 00:08:55.780000   \n",
       "Taliesin 0 days 00:08:28.684000   \n",
       "Liam     0 days 00:08:26.490000   \n",
       "Sam      0 days 00:08:13.853000   \n",
       "Travis   0 days 00:05:53.808000   \n",
       "Matt     0 days 00:03:41.389000   \n",
       "\n",
       "                                              starting_line  \\\n",
       "Chris     02:51:32.334 02:51:35.145 CHRIS: A little gree...   \n",
       "All       02:04:23.129 02:04:28.365 ALL: (mimicking Matt...   \n",
       "Marisha     01:04:30.070 01:04:33.597 MARISHA: Yes, she is.   \n",
       "Laura          01:04:44.372 01:04:45.348 LAURA: He's hexed?   \n",
       "Taliesin  01:00:17.606 01:00:22.828 TALIESIN: Okay, that...   \n",
       "Liam      00:06:48.776 00:06:51.754 LIAM: Matteo is a ma...   \n",
       "Sam       02:43:24.861 02:43:26.840 SAM: Spurt 30 feet a...   \n",
       "Travis    02:44:10.636 02:44:17.493 TRAVIS: (laughing) \"...   \n",
       "Matt      02:39:38.093 02:39:40.129 MATT: Still hitting ...   \n",
       "\n",
       "                                                ending_line  \n",
       "Chris     03:53:49.546 03:54:09.349 CHRIS: Somebody wrot...  \n",
       "All       02:29:18.287 02:29:23.597 (yells of surprise a...  \n",
       "Marisha     01:15:29.813 01:15:32.650 MARISHA: Ah! Doo-bah!  \n",
       "Laura                 01:13:41.128 01:13:42.074 LAURA: Woo!  \n",
       "Taliesin     01:08:51.512 01:08:52.533 TALIESIN: Cancelled.  \n",
       "Liam      00:15:18.244 00:15:29.101 LIAM: That's not hap...  \n",
       "Sam       02:51:40.693 02:51:43.519 SAM: My boy! He was ...  \n",
       "Travis               02:50:11.301 02:50:12.787 TRAVIS: Yes!  \n",
       "Matt      02:43:21.518 02:43:24.514 MATT: (laughing) All...  "
      ]
     },
     "metadata": {},
     "output_type": "display_data"
    },
    {
     "data": {
      "text/markdown": [
       "# Episode 51 - Xhorhas"
      ],
      "text/plain": [
       "<IPython.core.display.Markdown object>"
      ]
     },
     "metadata": {},
     "output_type": "display_data"
    },
    {
     "data": {
      "text/html": [
       "<div>\n",
       "<style scoped>\n",
       "    .dataframe tbody tr th:only-of-type {\n",
       "        vertical-align: middle;\n",
       "    }\n",
       "\n",
       "    .dataframe tbody tr th {\n",
       "        vertical-align: top;\n",
       "    }\n",
       "\n",
       "    .dataframe thead th {\n",
       "        text-align: right;\n",
       "    }\n",
       "</style>\n",
       "<table border=\"1\" class=\"dataframe\">\n",
       "  <thead>\n",
       "    <tr style=\"text-align: right;\">\n",
       "      <th></th>\n",
       "      <th>interval</th>\n",
       "      <th>starting_line</th>\n",
       "      <th>ending_line</th>\n",
       "    </tr>\n",
       "  </thead>\n",
       "  <tbody>\n",
       "    <tr>\n",
       "      <th>All</th>\n",
       "      <td>0 days 01:08:35.407000</td>\n",
       "      <td>01:35:55.857 01:35:59.019 (laughter)</td>\n",
       "      <td>02:44:34.426 02:44:37.417 (laughter)</td>\n",
       "    </tr>\n",
       "    <tr>\n",
       "      <th>Liam</th>\n",
       "      <td>0 days 00:12:29.893000</td>\n",
       "      <td>02:03:39.274 02:03:41.023 LIAM: Yeah. Get it, ...</td>\n",
       "      <td>02:16:10.916 02:16:12.338 LIAM: That was Matt.</td>\n",
       "    </tr>\n",
       "    <tr>\n",
       "      <th>Travis</th>\n",
       "      <td>0 days 00:11:17.511000</td>\n",
       "      <td>02:28:07.943 02:28:09.065 TRAVIS: Nice.</td>\n",
       "      <td>02:39:26.576 02:39:28.151 TRAVIS: I'd be most ...</td>\n",
       "    </tr>\n",
       "    <tr>\n",
       "      <th>Marisha</th>\n",
       "      <td>0 days 00:09:46.549000</td>\n",
       "      <td>00:05:28.602 00:05:29.953 MARISHA: It was pret...</td>\n",
       "      <td>00:15:16.502 00:15:18.303 MARISHA: 60?</td>\n",
       "    </tr>\n",
       "    <tr>\n",
       "      <th>Sam</th>\n",
       "      <td>0 days 00:08:54.928000</td>\n",
       "      <td>00:39:37.165 00:39:38.353 SAM: Everyone?</td>\n",
       "      <td>00:48:33.281 00:48:36.651 SAM: Welcome to Xhor...</td>\n",
       "    </tr>\n",
       "    <tr>\n",
       "      <th>Taliesin</th>\n",
       "      <td>0 days 00:07:52.828000</td>\n",
       "      <td>03:00:29.459 03:00:30.357 TALIESIN: 11.</td>\n",
       "      <td>03:08:23.185 03:08:25.180 TALIESIN: Ooh. 18.</td>\n",
       "    </tr>\n",
       "    <tr>\n",
       "      <th>Laura</th>\n",
       "      <td>0 days 00:07:28.398000</td>\n",
       "      <td>01:59:45.896 01:59:48.384 LAURA: What? He had ...</td>\n",
       "      <td>02:07:16.782 02:07:22.992 LAURA: Okay. I am go...</td>\n",
       "    </tr>\n",
       "    <tr>\n",
       "      <th>Matt</th>\n",
       "      <td>0 days 00:03:01.030000</td>\n",
       "      <td>00:00:32.452 00:00:46.829 MATT: I mean, that's...</td>\n",
       "      <td>00:03:47.859 00:03:58.087 MATT: Discord. Thank...</td>\n",
       "    </tr>\n",
       "  </tbody>\n",
       "</table>\n",
       "</div>"
      ],
      "text/plain": [
       "                       interval  \\\n",
       "All      0 days 01:08:35.407000   \n",
       "Liam     0 days 00:12:29.893000   \n",
       "Travis   0 days 00:11:17.511000   \n",
       "Marisha  0 days 00:09:46.549000   \n",
       "Sam      0 days 00:08:54.928000   \n",
       "Taliesin 0 days 00:07:52.828000   \n",
       "Laura    0 days 00:07:28.398000   \n",
       "Matt     0 days 00:03:01.030000   \n",
       "\n",
       "                                              starting_line  \\\n",
       "All                    01:35:55.857 01:35:59.019 (laughter)   \n",
       "Liam      02:03:39.274 02:03:41.023 LIAM: Yeah. Get it, ...   \n",
       "Travis              02:28:07.943 02:28:09.065 TRAVIS: Nice.   \n",
       "Marisha   00:05:28.602 00:05:29.953 MARISHA: It was pret...   \n",
       "Sam                00:39:37.165 00:39:38.353 SAM: Everyone?   \n",
       "Taliesin            03:00:29.459 03:00:30.357 TALIESIN: 11.   \n",
       "Laura     01:59:45.896 01:59:48.384 LAURA: What? He had ...   \n",
       "Matt      00:00:32.452 00:00:46.829 MATT: I mean, that's...   \n",
       "\n",
       "                                                ending_line  \n",
       "All                    02:44:34.426 02:44:37.417 (laughter)  \n",
       "Liam         02:16:10.916 02:16:12.338 LIAM: That was Matt.  \n",
       "Travis    02:39:26.576 02:39:28.151 TRAVIS: I'd be most ...  \n",
       "Marisha              00:15:16.502 00:15:18.303 MARISHA: 60?  \n",
       "Sam       00:48:33.281 00:48:36.651 SAM: Welcome to Xhor...  \n",
       "Taliesin       03:08:23.185 03:08:25.180 TALIESIN: Ooh. 18.  \n",
       "Laura     02:07:16.782 02:07:22.992 LAURA: Okay. I am go...  \n",
       "Matt      00:03:47.859 00:03:58.087 MATT: Discord. Thank...  "
      ]
     },
     "metadata": {},
     "output_type": "display_data"
    },
    {
     "data": {
      "text/markdown": [
       "# Episode 52 - Feral Business"
      ],
      "text/plain": [
       "<IPython.core.display.Markdown object>"
      ]
     },
     "metadata": {},
     "output_type": "display_data"
    },
    {
     "name": "stdout",
     "output_type": "stream",
     "text": [
      "Added to cast: Narrator\n"
     ]
    },
    {
     "data": {
      "text/html": [
       "<div>\n",
       "<style scoped>\n",
       "    .dataframe tbody tr th:only-of-type {\n",
       "        vertical-align: middle;\n",
       "    }\n",
       "\n",
       "    .dataframe tbody tr th {\n",
       "        vertical-align: top;\n",
       "    }\n",
       "\n",
       "    .dataframe thead th {\n",
       "        text-align: right;\n",
       "    }\n",
       "</style>\n",
       "<table border=\"1\" class=\"dataframe\">\n",
       "  <thead>\n",
       "    <tr style=\"text-align: right;\">\n",
       "      <th></th>\n",
       "      <th>interval</th>\n",
       "      <th>starting_line</th>\n",
       "      <th>ending_line</th>\n",
       "    </tr>\n",
       "  </thead>\n",
       "  <tbody>\n",
       "    <tr>\n",
       "      <th>All</th>\n",
       "      <td>0 days 01:02:02.199000</td>\n",
       "      <td>01:44:48.083 02:04:31.769 [break]</td>\n",
       "      <td>03:06:33.968 03:06:35.948 (cheering)</td>\n",
       "    </tr>\n",
       "    <tr>\n",
       "      <th>Liam</th>\n",
       "      <td>0 days 00:26:21.564000</td>\n",
       "      <td>03:34:31.019 03:34:32.389 LIAM: I believe in you.</td>\n",
       "      <td>04:00:53.953 04:00:55.482 LIAM: They have an E...</td>\n",
       "    </tr>\n",
       "    <tr>\n",
       "      <th>Taliesin</th>\n",
       "      <td>0 days 00:23:51.427000</td>\n",
       "      <td>03:38:01.370 03:38:02.388 TALIESIN: All right.</td>\n",
       "      <td>04:01:53.815 04:01:57.439 TALIESIN: I might kn...</td>\n",
       "    </tr>\n",
       "    <tr>\n",
       "      <th>Laura</th>\n",
       "      <td>0 days 00:23:40.094000</td>\n",
       "      <td>01:42:35.521 01:42:38.261 LAURA: What if it's ...</td>\n",
       "      <td>02:06:18.355 02:06:20.180 LAURA: Did everybody...</td>\n",
       "    </tr>\n",
       "    <tr>\n",
       "      <th>Travis</th>\n",
       "      <td>0 days 00:21:35.978000</td>\n",
       "      <td>01:43:13.822 01:43:15.327 TRAVIS: You juice-a ...</td>\n",
       "      <td>02:04:51.305 02:04:53.092 TRAVIS: You're givin...</td>\n",
       "    </tr>\n",
       "    <tr>\n",
       "      <th>Marisha</th>\n",
       "      <td>0 days 00:21:19.490000</td>\n",
       "      <td>01:43:44.823 01:43:46.130 MARISHA: I knew it!</td>\n",
       "      <td>02:05:05.620 02:05:07.507 MARISHA: Y'all come ...</td>\n",
       "    </tr>\n",
       "    <tr>\n",
       "      <th>Sam</th>\n",
       "      <td>0 days 00:20:47.871000</td>\n",
       "      <td>01:44:11.754 01:44:13.347 SAM: It's beautiful....</td>\n",
       "      <td>02:05:01.218 02:05:02.730 SAM: Yee-haw, Matt.</td>\n",
       "    </tr>\n",
       "    <tr>\n",
       "      <th>Matt</th>\n",
       "      <td>0 days 00:19:45.766000</td>\n",
       "      <td>01:44:13.347 01:44:46.633 MATT: It's a great c...</td>\n",
       "      <td>02:04:32.399 02:04:51.305 MATT: Welcome back, ...</td>\n",
       "    </tr>\n",
       "  </tbody>\n",
       "</table>\n",
       "</div>"
      ],
      "text/plain": [
       "                       interval  \\\n",
       "All      0 days 01:02:02.199000   \n",
       "Liam     0 days 00:26:21.564000   \n",
       "Taliesin 0 days 00:23:51.427000   \n",
       "Laura    0 days 00:23:40.094000   \n",
       "Travis   0 days 00:21:35.978000   \n",
       "Marisha  0 days 00:21:19.490000   \n",
       "Sam      0 days 00:20:47.871000   \n",
       "Matt     0 days 00:19:45.766000   \n",
       "\n",
       "                                              starting_line  \\\n",
       "All                       01:44:48.083 02:04:31.769 [break]   \n",
       "Liam      03:34:31.019 03:34:32.389 LIAM: I believe in you.   \n",
       "Taliesin     03:38:01.370 03:38:02.388 TALIESIN: All right.   \n",
       "Laura     01:42:35.521 01:42:38.261 LAURA: What if it's ...   \n",
       "Travis    01:43:13.822 01:43:15.327 TRAVIS: You juice-a ...   \n",
       "Marisha       01:43:44.823 01:43:46.130 MARISHA: I knew it!   \n",
       "Sam       01:44:11.754 01:44:13.347 SAM: It's beautiful....   \n",
       "Matt      01:44:13.347 01:44:46.633 MATT: It's a great c...   \n",
       "\n",
       "                                                ending_line  \n",
       "All                    03:06:33.968 03:06:35.948 (cheering)  \n",
       "Liam      04:00:53.953 04:00:55.482 LIAM: They have an E...  \n",
       "Taliesin  04:01:53.815 04:01:57.439 TALIESIN: I might kn...  \n",
       "Laura     02:06:18.355 02:06:20.180 LAURA: Did everybody...  \n",
       "Travis    02:04:51.305 02:04:53.092 TRAVIS: You're givin...  \n",
       "Marisha   02:05:05.620 02:05:07.507 MARISHA: Y'all come ...  \n",
       "Sam           02:05:01.218 02:05:02.730 SAM: Yee-haw, Matt.  \n",
       "Matt      02:04:32.399 02:04:51.305 MATT: Welcome back, ...  "
      ]
     },
     "metadata": {},
     "output_type": "display_data"
    },
    {
     "data": {
      "text/markdown": [
       "# Episode 53 - Cornered"
      ],
      "text/plain": [
       "<IPython.core.display.Markdown object>"
      ]
     },
     "metadata": {},
     "output_type": "display_data"
    },
    {
     "data": {
      "text/html": [
       "<div>\n",
       "<style scoped>\n",
       "    .dataframe tbody tr th:only-of-type {\n",
       "        vertical-align: middle;\n",
       "    }\n",
       "\n",
       "    .dataframe tbody tr th {\n",
       "        vertical-align: top;\n",
       "    }\n",
       "\n",
       "    .dataframe thead th {\n",
       "        text-align: right;\n",
       "    }\n",
       "</style>\n",
       "<table border=\"1\" class=\"dataframe\">\n",
       "  <thead>\n",
       "    <tr style=\"text-align: right;\">\n",
       "      <th></th>\n",
       "      <th>interval</th>\n",
       "      <th>starting_line</th>\n",
       "      <th>ending_line</th>\n",
       "    </tr>\n",
       "  </thead>\n",
       "  <tbody>\n",
       "    <tr>\n",
       "      <th>All</th>\n",
       "      <td>0 days 00:27:04.033000</td>\n",
       "      <td>02:00:24.015 02:12:04.089 [music]</td>\n",
       "      <td>02:39:08.122 02:39:11.006 (chanting and table ...</td>\n",
       "    </tr>\n",
       "    <tr>\n",
       "      <th>Liam</th>\n",
       "      <td>0 days 00:26:27.205000</td>\n",
       "      <td>01:53:52.369 01:54:39.748 LIAM: Poor Quebec.\\n...</td>\n",
       "      <td>02:21:06.953 02:21:08.493 LIAM: You did? Really?</td>\n",
       "    </tr>\n",
       "    <tr>\n",
       "      <th>Laura</th>\n",
       "      <td>0 days 00:24:53.028000</td>\n",
       "      <td>01:51:14.042 01:51:15.721 LAURA: To the Four C...</td>\n",
       "      <td>02:16:08.749 02:16:10.807 LAURA: In the other ...</td>\n",
       "    </tr>\n",
       "    <tr>\n",
       "      <th>Sam</th>\n",
       "      <td>0 days 00:23:56.231000</td>\n",
       "      <td>01:51:08.950 01:51:10.891 SAM: We'll go gossip.</td>\n",
       "      <td>02:15:07.122 02:15:09.685 SAM: I'm sure it's f...</td>\n",
       "    </tr>\n",
       "    <tr>\n",
       "      <th>Taliesin</th>\n",
       "      <td>0 days 00:15:43.018000</td>\n",
       "      <td>01:59:25.488 01:59:27.985 TALIESIN: Because th...</td>\n",
       "      <td>02:15:11.003 02:15:12.856 TALIESIN: Deep joke.</td>\n",
       "    </tr>\n",
       "    <tr>\n",
       "      <th>Travis</th>\n",
       "      <td>0 days 00:14:35.644000</td>\n",
       "      <td>01:57:33.889 01:57:45.280 TRAVIS: It hit my uv...</td>\n",
       "      <td>02:12:20.924 02:12:22.681 TRAVIS: (robotic voi...</td>\n",
       "    </tr>\n",
       "    <tr>\n",
       "      <th>Matt</th>\n",
       "      <td>0 days 00:12:38.601000</td>\n",
       "      <td>01:59:24.536 01:59:25.488 MATT: Apparently.</td>\n",
       "      <td>02:12:04.089 02:12:16.727 MATT: And welcome ba...</td>\n",
       "    </tr>\n",
       "    <tr>\n",
       "      <th>Marisha</th>\n",
       "      <td>0 days 00:12:16.881000</td>\n",
       "      <td>01:59:57.924 01:59:59.846 MARISHA: Like that?</td>\n",
       "      <td>02:12:16.727 02:12:18.003 MARISHA: It's a bot.</td>\n",
       "    </tr>\n",
       "    <tr>\n",
       "      <th>Brian</th>\n",
       "      <td>0 days 00:00:03.450000</td>\n",
       "      <td>01:56:59.135 01:57:05.671 BRIAN: If we ride ou...</td>\n",
       "      <td>01:57:09.121 01:57:11.013 BRIAN: Why are you s...</td>\n",
       "    </tr>\n",
       "  </tbody>\n",
       "</table>\n",
       "</div>"
      ],
      "text/plain": [
       "                       interval  \\\n",
       "All      0 days 00:27:04.033000   \n",
       "Liam     0 days 00:26:27.205000   \n",
       "Laura    0 days 00:24:53.028000   \n",
       "Sam      0 days 00:23:56.231000   \n",
       "Taliesin 0 days 00:15:43.018000   \n",
       "Travis   0 days 00:14:35.644000   \n",
       "Matt     0 days 00:12:38.601000   \n",
       "Marisha  0 days 00:12:16.881000   \n",
       "Brian    0 days 00:00:03.450000   \n",
       "\n",
       "                                              starting_line  \\\n",
       "All                       02:00:24.015 02:12:04.089 [music]   \n",
       "Liam      01:53:52.369 01:54:39.748 LIAM: Poor Quebec.\\n...   \n",
       "Laura     01:51:14.042 01:51:15.721 LAURA: To the Four C...   \n",
       "Sam         01:51:08.950 01:51:10.891 SAM: We'll go gossip.   \n",
       "Taliesin  01:59:25.488 01:59:27.985 TALIESIN: Because th...   \n",
       "Travis    01:57:33.889 01:57:45.280 TRAVIS: It hit my uv...   \n",
       "Matt            01:59:24.536 01:59:25.488 MATT: Apparently.   \n",
       "Marisha       01:59:57.924 01:59:59.846 MARISHA: Like that?   \n",
       "Brian     01:56:59.135 01:57:05.671 BRIAN: If we ride ou...   \n",
       "\n",
       "                                                ending_line  \n",
       "All       02:39:08.122 02:39:11.006 (chanting and table ...  \n",
       "Liam       02:21:06.953 02:21:08.493 LIAM: You did? Really?  \n",
       "Laura     02:16:08.749 02:16:10.807 LAURA: In the other ...  \n",
       "Sam       02:15:07.122 02:15:09.685 SAM: I'm sure it's f...  \n",
       "Taliesin     02:15:11.003 02:15:12.856 TALIESIN: Deep joke.  \n",
       "Travis    02:12:20.924 02:12:22.681 TRAVIS: (robotic voi...  \n",
       "Matt      02:12:04.089 02:12:16.727 MATT: And welcome ba...  \n",
       "Marisha      02:12:16.727 02:12:18.003 MARISHA: It's a bot.  \n",
       "Brian     01:57:09.121 01:57:11.013 BRIAN: Why are you s...  "
      ]
     },
     "metadata": {},
     "output_type": "display_data"
    },
    {
     "data": {
      "text/markdown": [
       "# Episode 54 - Well Beneath"
      ],
      "text/plain": [
       "<IPython.core.display.Markdown object>"
      ]
     },
     "metadata": {},
     "output_type": "display_data"
    },
    {
     "name": "stdout",
     "output_type": "stream",
     "text": [
      "Added to cast: Laur\n",
      "Added to cast: Jennifer\n"
     ]
    },
    {
     "data": {
      "text/html": [
       "<div>\n",
       "<style scoped>\n",
       "    .dataframe tbody tr th:only-of-type {\n",
       "        vertical-align: middle;\n",
       "    }\n",
       "\n",
       "    .dataframe tbody tr th {\n",
       "        vertical-align: top;\n",
       "    }\n",
       "\n",
       "    .dataframe thead th {\n",
       "        text-align: right;\n",
       "    }\n",
       "</style>\n",
       "<table border=\"1\" class=\"dataframe\">\n",
       "  <thead>\n",
       "    <tr style=\"text-align: right;\">\n",
       "      <th></th>\n",
       "      <th>interval</th>\n",
       "      <th>starting_line</th>\n",
       "      <th>ending_line</th>\n",
       "    </tr>\n",
       "  </thead>\n",
       "  <tbody>\n",
       "    <tr>\n",
       "      <th>All</th>\n",
       "      <td>0 days 00:27:14.716000</td>\n",
       "      <td>03:07:24.885 03:07:26.913 (shocked grunts)</td>\n",
       "      <td>03:34:41.629 03:34:43.218 (cheering)</td>\n",
       "    </tr>\n",
       "    <tr>\n",
       "      <th>Marisha</th>\n",
       "      <td>0 days 00:20:57.629000</td>\n",
       "      <td>02:07:55.074 02:08:02.907 MARISHA: We are also...</td>\n",
       "      <td>02:29:00.536 02:29:02.002 MARISHA: Thanks for ...</td>\n",
       "    </tr>\n",
       "    <tr>\n",
       "      <th>Taliesin</th>\n",
       "      <td>0 days 00:19:45.640000</td>\n",
       "      <td>02:07:41.303 02:07:45.419 TALIESIN: We're not ...</td>\n",
       "      <td>02:27:31.059 02:27:32.877 TALIESIN: Mike's great.</td>\n",
       "    </tr>\n",
       "    <tr>\n",
       "      <th>Travis</th>\n",
       "      <td>0 days 00:17:00.539000</td>\n",
       "      <td>02:11:08.900 02:11:20.950 TRAVIS: Yes, and kee...</td>\n",
       "      <td>02:28:21.489 02:28:26.909 TRAVIS: No, we're no...</td>\n",
       "    </tr>\n",
       "    <tr>\n",
       "      <th>Laura</th>\n",
       "      <td>0 days 00:16:59.851000</td>\n",
       "      <td>02:10:51.554 02:11:02.045 LAURA: Yeah, we shou...</td>\n",
       "      <td>02:28:01.896 02:28:03.620 LAURA: Thank you.</td>\n",
       "    </tr>\n",
       "    <tr>\n",
       "      <th>Sam</th>\n",
       "      <td>0 days 00:16:20.055000</td>\n",
       "      <td>02:11:02.045 02:11:08.900 SAM: Remember, if yo...</td>\n",
       "      <td>02:27:28.955 02:27:30.106 SAM: I'm a Mike guy.</td>\n",
       "    </tr>\n",
       "    <tr>\n",
       "      <th>Matt</th>\n",
       "      <td>0 days 00:15:44.014000</td>\n",
       "      <td>02:11:20.950 02:11:35.745 MATT: Now we began t...</td>\n",
       "      <td>02:27:19.759 02:27:28.955 MATT: Hello everyone...</td>\n",
       "    </tr>\n",
       "    <tr>\n",
       "      <th>Liam</th>\n",
       "      <td>0 days 00:13:41.008000</td>\n",
       "      <td>02:12:28.778 02:14:10.785 LIAM: Subscribe.\\nOr...</td>\n",
       "      <td>02:27:51.793 02:27:54.825 LIAM: Maybe it's jus...</td>\n",
       "    </tr>\n",
       "    <tr>\n",
       "      <th>Chris</th>\n",
       "      <td>0 days 00:04:13.616000</td>\n",
       "      <td>02:07:45.419 02:07:55.074 CHRIS: Are we drawin...</td>\n",
       "      <td>02:12:08.690 02:12:17.004 CHRIS: One of the fi...</td>\n",
       "    </tr>\n",
       "    <tr>\n",
       "      <th>Brian</th>\n",
       "      <td>0 days 00:00:08.314000</td>\n",
       "      <td>02:12:03.669 02:12:08.690 BRIAN: This week Bet...</td>\n",
       "      <td>02:12:17.004 02:12:19.596 BRIAN: What do you m...</td>\n",
       "    </tr>\n",
       "  </tbody>\n",
       "</table>\n",
       "</div>"
      ],
      "text/plain": [
       "                       interval  \\\n",
       "All      0 days 00:27:14.716000   \n",
       "Marisha  0 days 00:20:57.629000   \n",
       "Taliesin 0 days 00:19:45.640000   \n",
       "Travis   0 days 00:17:00.539000   \n",
       "Laura    0 days 00:16:59.851000   \n",
       "Sam      0 days 00:16:20.055000   \n",
       "Matt     0 days 00:15:44.014000   \n",
       "Liam     0 days 00:13:41.008000   \n",
       "Chris    0 days 00:04:13.616000   \n",
       "Brian    0 days 00:00:08.314000   \n",
       "\n",
       "                                              starting_line  \\\n",
       "All              03:07:24.885 03:07:26.913 (shocked grunts)   \n",
       "Marisha   02:07:55.074 02:08:02.907 MARISHA: We are also...   \n",
       "Taliesin  02:07:41.303 02:07:45.419 TALIESIN: We're not ...   \n",
       "Travis    02:11:08.900 02:11:20.950 TRAVIS: Yes, and kee...   \n",
       "Laura     02:10:51.554 02:11:02.045 LAURA: Yeah, we shou...   \n",
       "Sam       02:11:02.045 02:11:08.900 SAM: Remember, if yo...   \n",
       "Matt      02:11:20.950 02:11:35.745 MATT: Now we began t...   \n",
       "Liam      02:12:28.778 02:14:10.785 LIAM: Subscribe.\\nOr...   \n",
       "Chris     02:07:45.419 02:07:55.074 CHRIS: Are we drawin...   \n",
       "Brian     02:12:03.669 02:12:08.690 BRIAN: This week Bet...   \n",
       "\n",
       "                                                ending_line  \n",
       "All                    03:34:41.629 03:34:43.218 (cheering)  \n",
       "Marisha   02:29:00.536 02:29:02.002 MARISHA: Thanks for ...  \n",
       "Taliesin  02:27:31.059 02:27:32.877 TALIESIN: Mike's great.  \n",
       "Travis    02:28:21.489 02:28:26.909 TRAVIS: No, we're no...  \n",
       "Laura           02:28:01.896 02:28:03.620 LAURA: Thank you.  \n",
       "Sam          02:27:28.955 02:27:30.106 SAM: I'm a Mike guy.  \n",
       "Matt      02:27:19.759 02:27:28.955 MATT: Hello everyone...  \n",
       "Liam      02:27:51.793 02:27:54.825 LIAM: Maybe it's jus...  \n",
       "Chris     02:12:08.690 02:12:17.004 CHRIS: One of the fi...  \n",
       "Brian     02:12:17.004 02:12:19.596 BRIAN: What do you m...  "
      ]
     },
     "metadata": {},
     "output_type": "display_data"
    },
    {
     "data": {
      "text/markdown": [
       "# Episode 55 - Duplicity"
      ],
      "text/plain": [
       "<IPython.core.display.Markdown object>"
      ]
     },
     "metadata": {},
     "output_type": "display_data"
    },
    {
     "name": "stdout",
     "output_type": "stream",
     "text": [
      "Added to cast: Biscuit\n",
      "Added to cast: Amy\n"
     ]
    },
    {
     "data": {
      "text/html": [
       "<div>\n",
       "<style scoped>\n",
       "    .dataframe tbody tr th:only-of-type {\n",
       "        vertical-align: middle;\n",
       "    }\n",
       "\n",
       "    .dataframe tbody tr th {\n",
       "        vertical-align: top;\n",
       "    }\n",
       "\n",
       "    .dataframe thead th {\n",
       "        text-align: right;\n",
       "    }\n",
       "</style>\n",
       "<table border=\"1\" class=\"dataframe\">\n",
       "  <thead>\n",
       "    <tr style=\"text-align: right;\">\n",
       "      <th></th>\n",
       "      <th>interval</th>\n",
       "      <th>starting_line</th>\n",
       "      <th>ending_line</th>\n",
       "    </tr>\n",
       "  </thead>\n",
       "  <tbody>\n",
       "    <tr>\n",
       "      <th>Laura</th>\n",
       "      <td>0 days 00:23:41.802000</td>\n",
       "      <td>01:50:13.547 01:50:16.428 LAURA: That's becaus...</td>\n",
       "      <td>02:13:58.230 02:13:59.647 LAURA: Whoa. What is...</td>\n",
       "    </tr>\n",
       "    <tr>\n",
       "      <th>Sam</th>\n",
       "      <td>0 days 00:23:32.687000</td>\n",
       "      <td>01:50:22.178 01:50:26.960 SAM: They're still t...</td>\n",
       "      <td>02:13:59.647 02:14:00.952 SAM: Awesome. Great.</td>\n",
       "    </tr>\n",
       "    <tr>\n",
       "      <th>Matt</th>\n",
       "      <td>0 days 00:21:27.929000</td>\n",
       "      <td>01:50:52.942 01:52:05.091 MATT: A beautiful Bo...</td>\n",
       "      <td>02:13:33.020 02:13:52.658 MATT: And welcome ba...</td>\n",
       "    </tr>\n",
       "    <tr>\n",
       "      <th>All</th>\n",
       "      <td>0 days 00:20:41.886000</td>\n",
       "      <td>02:38:24.569 02:38:26.311 (yelling)</td>\n",
       "      <td>02:59:08.197 02:59:10.922 (laughing)</td>\n",
       "    </tr>\n",
       "    <tr>\n",
       "      <th>Taliesin</th>\n",
       "      <td>0 days 00:18:28.542000</td>\n",
       "      <td>01:56:13.108 01:56:20.688 TALIESIN: You got ti...</td>\n",
       "      <td>02:14:49.230 02:14:51.050 TALIESIN: 14.\\nMARIS...</td>\n",
       "    </tr>\n",
       "    <tr>\n",
       "      <th>Marisha</th>\n",
       "      <td>0 days 00:16:48.586000</td>\n",
       "      <td>01:57:05.096 01:57:07.487 MARISHA: (eerily) Th...</td>\n",
       "      <td>02:13:56.073 02:13:57.348 MARISHA: New initiat...</td>\n",
       "    </tr>\n",
       "    <tr>\n",
       "      <th>Travis</th>\n",
       "      <td>0 days 00:15:21.063000</td>\n",
       "      <td>01:58:29.804 01:58:32.704 TRAVIS: Ooh. Pig sooie!</td>\n",
       "      <td>02:13:53.767 02:13:56.073 TRAVIS: Sure they wo...</td>\n",
       "    </tr>\n",
       "    <tr>\n",
       "      <th>Liam</th>\n",
       "      <td>0 days 00:13:44.924000</td>\n",
       "      <td>01:58:32.704 02:00:16.028 LIAM: Subscribe or d...</td>\n",
       "      <td>02:14:00.952 02:14:02.302 LIAM: Oh, that's shit!</td>\n",
       "    </tr>\n",
       "    <tr>\n",
       "      <th>Amy</th>\n",
       "      <td>0 days 00:00:20.014000</td>\n",
       "      <td>01:55:48.003 01:55:49.436 AMY: Yes!</td>\n",
       "      <td>01:56:09.450 01:56:13.108 AMY: Oh, dang!\\nTiny...</td>\n",
       "    </tr>\n",
       "    <tr>\n",
       "      <th>Brian</th>\n",
       "      <td>0 days 00:00:12.195000</td>\n",
       "      <td>01:56:49.500 01:56:51.115 BRIAN: Oh, yeah, we ...</td>\n",
       "      <td>01:57:03.310 01:57:05.096 BRIAN: The what?\\nTR...</td>\n",
       "    </tr>\n",
       "    <tr>\n",
       "      <th>Biscuit</th>\n",
       "      <td>0 days 00:00:09.106000</td>\n",
       "      <td>01:54:41.460 01:54:43.320 BISCUIT: Just my mem...</td>\n",
       "      <td>01:54:52.426 01:54:53.742 BISCUIT: The horse i...</td>\n",
       "    </tr>\n",
       "  </tbody>\n",
       "</table>\n",
       "</div>"
      ],
      "text/plain": [
       "                       interval  \\\n",
       "Laura    0 days 00:23:41.802000   \n",
       "Sam      0 days 00:23:32.687000   \n",
       "Matt     0 days 00:21:27.929000   \n",
       "All      0 days 00:20:41.886000   \n",
       "Taliesin 0 days 00:18:28.542000   \n",
       "Marisha  0 days 00:16:48.586000   \n",
       "Travis   0 days 00:15:21.063000   \n",
       "Liam     0 days 00:13:44.924000   \n",
       "Amy      0 days 00:00:20.014000   \n",
       "Brian    0 days 00:00:12.195000   \n",
       "Biscuit  0 days 00:00:09.106000   \n",
       "\n",
       "                                              starting_line  \\\n",
       "Laura     01:50:13.547 01:50:16.428 LAURA: That's becaus...   \n",
       "Sam       01:50:22.178 01:50:26.960 SAM: They're still t...   \n",
       "Matt      01:50:52.942 01:52:05.091 MATT: A beautiful Bo...   \n",
       "All                     02:38:24.569 02:38:26.311 (yelling)   \n",
       "Taliesin  01:56:13.108 01:56:20.688 TALIESIN: You got ti...   \n",
       "Marisha   01:57:05.096 01:57:07.487 MARISHA: (eerily) Th...   \n",
       "Travis    01:58:29.804 01:58:32.704 TRAVIS: Ooh. Pig sooie!   \n",
       "Liam      01:58:32.704 02:00:16.028 LIAM: Subscribe or d...   \n",
       "Amy                     01:55:48.003 01:55:49.436 AMY: Yes!   \n",
       "Brian     01:56:49.500 01:56:51.115 BRIAN: Oh, yeah, we ...   \n",
       "Biscuit   01:54:41.460 01:54:43.320 BISCUIT: Just my mem...   \n",
       "\n",
       "                                                ending_line  \n",
       "Laura     02:13:58.230 02:13:59.647 LAURA: Whoa. What is...  \n",
       "Sam          02:13:59.647 02:14:00.952 SAM: Awesome. Great.  \n",
       "Matt      02:13:33.020 02:13:52.658 MATT: And welcome ba...  \n",
       "All                    02:59:08.197 02:59:10.922 (laughing)  \n",
       "Taliesin  02:14:49.230 02:14:51.050 TALIESIN: 14.\\nMARIS...  \n",
       "Marisha   02:13:56.073 02:13:57.348 MARISHA: New initiat...  \n",
       "Travis    02:13:53.767 02:13:56.073 TRAVIS: Sure they wo...  \n",
       "Liam       02:14:00.952 02:14:02.302 LIAM: Oh, that's shit!  \n",
       "Amy       01:56:09.450 01:56:13.108 AMY: Oh, dang!\\nTiny...  \n",
       "Brian     01:57:03.310 01:57:05.096 BRIAN: The what?\\nTR...  \n",
       "Biscuit   01:54:52.426 01:54:53.742 BISCUIT: The horse i...  "
      ]
     },
     "metadata": {},
     "output_type": "display_data"
    },
    {
     "data": {
      "text/markdown": [
       "# Episode 56 - The Favor"
      ],
      "text/plain": [
       "<IPython.core.display.Markdown object>"
      ]
     },
     "metadata": {},
     "output_type": "display_data"
    },
    {
     "name": "stdout",
     "output_type": "stream",
     "text": [
      "Added to cast: Ben\n",
      "Added to cast: Aimee\n",
      "Added to cast: Bobby\n",
      "Added to cast: Dave\n",
      "Added to cast: Grey\n",
      "Added to cast: Tim\n",
      "Added to cast: Yvette\n",
      "Added to cast: Tony\n",
      "Added to cast: Whitney\n"
     ]
    },
    {
     "data": {
      "text/html": [
       "<div>\n",
       "<style scoped>\n",
       "    .dataframe tbody tr th:only-of-type {\n",
       "        vertical-align: middle;\n",
       "    }\n",
       "\n",
       "    .dataframe tbody tr th {\n",
       "        vertical-align: top;\n",
       "    }\n",
       "\n",
       "    .dataframe thead th {\n",
       "        text-align: right;\n",
       "    }\n",
       "</style>\n",
       "<table border=\"1\" class=\"dataframe\">\n",
       "  <thead>\n",
       "    <tr style=\"text-align: right;\">\n",
       "      <th></th>\n",
       "      <th>interval</th>\n",
       "      <th>starting_line</th>\n",
       "      <th>ending_line</th>\n",
       "    </tr>\n",
       "  </thead>\n",
       "  <tbody>\n",
       "    <tr>\n",
       "      <th>Liam</th>\n",
       "      <td>0 days 00:26:54.340000</td>\n",
       "      <td>01:32:16.786 01:32:18.400 LIAM: Put some toget...</td>\n",
       "      <td>01:59:12.740 01:59:14.363 LIAM: (imitates cat ...</td>\n",
       "    </tr>\n",
       "    <tr>\n",
       "      <th>Sam</th>\n",
       "      <td>0 days 00:23:43.591000</td>\n",
       "      <td>01:32:26.553 01:32:28.011 SAM: We have a camer...</td>\n",
       "      <td>01:56:11.602 01:56:15.303 SAM: Zethriss Olios....</td>\n",
       "    </tr>\n",
       "    <tr>\n",
       "      <th>Marisha</th>\n",
       "      <td>0 days 00:23:06.402000</td>\n",
       "      <td>01:38:59.765 01:39:01.913 MARISHA: \"The prophe...</td>\n",
       "      <td>02:02:08.315 02:02:09.948 MARISHA: I want to d...</td>\n",
       "    </tr>\n",
       "    <tr>\n",
       "      <th>Laura</th>\n",
       "      <td>0 days 00:20:21.605000</td>\n",
       "      <td>01:35:05.764 01:35:07.333 LAURA: Be normal, what?</td>\n",
       "      <td>01:55:28.938 01:55:31.824 LAURA: I feel like I...</td>\n",
       "    </tr>\n",
       "    <tr>\n",
       "      <th>Travis</th>\n",
       "      <td>0 days 00:15:09.002000</td>\n",
       "      <td>01:40:25.936 01:40:26.911 TRAVIS: Pig-sooie!</td>\n",
       "      <td>01:55:35.913 01:55:37.040 TRAVIS: For now.</td>\n",
       "    </tr>\n",
       "    <tr>\n",
       "      <th>All</th>\n",
       "      <td>0 days 00:14:51.123000</td>\n",
       "      <td>01:42:03.437 01:42:08.370 (dramatic music)</td>\n",
       "      <td>01:56:59.493 01:57:00.326 (laughter)</td>\n",
       "    </tr>\n",
       "    <tr>\n",
       "      <th>Matt</th>\n",
       "      <td>0 days 00:13:08.012000</td>\n",
       "      <td>01:40:32.487 01:42:01.648 MATT: \"Oh! (chuckles...</td>\n",
       "      <td>01:55:09.660 01:55:28.938 MATT: Welcome back, ...</td>\n",
       "    </tr>\n",
       "    <tr>\n",
       "      <th>Ben</th>\n",
       "      <td>0 days 00:01:13.585000</td>\n",
       "      <td>00:02:20.069 00:02:30.347 BEN: Sam is the man ...</td>\n",
       "      <td>00:03:43.932 00:03:47.164 BEN: Sam is the man ...</td>\n",
       "    </tr>\n",
       "    <tr>\n",
       "      <th>Bobby</th>\n",
       "      <td>0 days 00:01:01.983000</td>\n",
       "      <td>00:03:33.336 00:03:35.586 BOBBY: Sam Riegel fo...</td>\n",
       "      <td>00:04:37.569 00:04:45.347 BOBBY: Vote for Sam ...</td>\n",
       "    </tr>\n",
       "    <tr>\n",
       "      <th>Aimee</th>\n",
       "      <td>0 days 00:00:59.099000</td>\n",
       "      <td>00:02:38.697 00:02:48.065 AIMEE: Truth, justic...</td>\n",
       "      <td>00:03:47.164 00:03:57.170 AIMEE: Vote for Sam....</td>\n",
       "    </tr>\n",
       "    <tr>\n",
       "      <th>Taliesin</th>\n",
       "      <td>0 days 00:00:13.211000</td>\n",
       "      <td>01:36:17.013 01:36:19.058 TALIESIN: Nice.</td>\n",
       "      <td>01:36:32.269 01:36:37.477 TALIESIN: I'm glad t...</td>\n",
       "    </tr>\n",
       "    <tr>\n",
       "      <th>Brian</th>\n",
       "      <td>0 days 00:00:11.719000</td>\n",
       "      <td>01:38:27.207 01:38:31.972 BRIAN: It's the arma...</td>\n",
       "      <td>01:38:43.691 01:38:44.994 BRIAN: Oh yeah, we d...</td>\n",
       "    </tr>\n",
       "    <tr>\n",
       "      <th>Grey</th>\n",
       "      <td>0 days 00:00:08.884000</td>\n",
       "      <td>00:02:58.663 00:03:04.809 GREY: Sam Riegel is ...</td>\n",
       "      <td>00:03:13.693 00:03:30.696 GREY: So I said I wo...</td>\n",
       "    </tr>\n",
       "    <tr>\n",
       "      <th>Whitney</th>\n",
       "      <td>0 days 00:00:08.584000</td>\n",
       "      <td>01:35:28.583 01:35:32.827 WHITNEY: I want to b...</td>\n",
       "      <td>01:35:41.411 01:35:42.556 WHITNEY: Is this con...</td>\n",
       "    </tr>\n",
       "  </tbody>\n",
       "</table>\n",
       "</div>"
      ],
      "text/plain": [
       "                       interval  \\\n",
       "Liam     0 days 00:26:54.340000   \n",
       "Sam      0 days 00:23:43.591000   \n",
       "Marisha  0 days 00:23:06.402000   \n",
       "Laura    0 days 00:20:21.605000   \n",
       "Travis   0 days 00:15:09.002000   \n",
       "All      0 days 00:14:51.123000   \n",
       "Matt     0 days 00:13:08.012000   \n",
       "Ben      0 days 00:01:13.585000   \n",
       "Bobby    0 days 00:01:01.983000   \n",
       "Aimee    0 days 00:00:59.099000   \n",
       "Taliesin 0 days 00:00:13.211000   \n",
       "Brian    0 days 00:00:11.719000   \n",
       "Grey     0 days 00:00:08.884000   \n",
       "Whitney  0 days 00:00:08.584000   \n",
       "\n",
       "                                              starting_line  \\\n",
       "Liam      01:32:16.786 01:32:18.400 LIAM: Put some toget...   \n",
       "Sam       01:32:26.553 01:32:28.011 SAM: We have a camer...   \n",
       "Marisha   01:38:59.765 01:39:01.913 MARISHA: \"The prophe...   \n",
       "Laura     01:35:05.764 01:35:07.333 LAURA: Be normal, what?   \n",
       "Travis         01:40:25.936 01:40:26.911 TRAVIS: Pig-sooie!   \n",
       "All              01:42:03.437 01:42:08.370 (dramatic music)   \n",
       "Matt      01:40:32.487 01:42:01.648 MATT: \"Oh! (chuckles...   \n",
       "Ben       00:02:20.069 00:02:30.347 BEN: Sam is the man ...   \n",
       "Bobby     00:03:33.336 00:03:35.586 BOBBY: Sam Riegel fo...   \n",
       "Aimee     00:02:38.697 00:02:48.065 AIMEE: Truth, justic...   \n",
       "Taliesin          01:36:17.013 01:36:19.058 TALIESIN: Nice.   \n",
       "Brian     01:38:27.207 01:38:31.972 BRIAN: It's the arma...   \n",
       "Grey      00:02:58.663 00:03:04.809 GREY: Sam Riegel is ...   \n",
       "Whitney   01:35:28.583 01:35:32.827 WHITNEY: I want to b...   \n",
       "\n",
       "                                                ending_line  \n",
       "Liam      01:59:12.740 01:59:14.363 LIAM: (imitates cat ...  \n",
       "Sam       01:56:11.602 01:56:15.303 SAM: Zethriss Olios....  \n",
       "Marisha   02:02:08.315 02:02:09.948 MARISHA: I want to d...  \n",
       "Laura     01:55:28.938 01:55:31.824 LAURA: I feel like I...  \n",
       "Travis           01:55:35.913 01:55:37.040 TRAVIS: For now.  \n",
       "All                    01:56:59.493 01:57:00.326 (laughter)  \n",
       "Matt      01:55:09.660 01:55:28.938 MATT: Welcome back, ...  \n",
       "Ben       00:03:43.932 00:03:47.164 BEN: Sam is the man ...  \n",
       "Bobby     00:04:37.569 00:04:45.347 BOBBY: Vote for Sam ...  \n",
       "Aimee     00:03:47.164 00:03:57.170 AIMEE: Vote for Sam....  \n",
       "Taliesin  01:36:32.269 01:36:37.477 TALIESIN: I'm glad t...  \n",
       "Brian     01:38:43.691 01:38:44.994 BRIAN: Oh yeah, we d...  \n",
       "Grey      00:03:13.693 00:03:30.696 GREY: So I said I wo...  \n",
       "Whitney   01:35:41.411 01:35:42.556 WHITNEY: Is this con...  "
      ]
     },
     "metadata": {},
     "output_type": "display_data"
    },
    {
     "data": {
      "text/markdown": [
       "# Episode 57 - In Love and War"
      ],
      "text/plain": [
       "<IPython.core.display.Markdown object>"
      ]
     },
     "metadata": {},
     "output_type": "display_data"
    },
    {
     "name": "stdout",
     "output_type": "stream",
     "text": [
      "Added to cast: Jason\n"
     ]
    },
    {
     "data": {
      "text/html": [
       "<div>\n",
       "<style scoped>\n",
       "    .dataframe tbody tr th:only-of-type {\n",
       "        vertical-align: middle;\n",
       "    }\n",
       "\n",
       "    .dataframe tbody tr th {\n",
       "        vertical-align: top;\n",
       "    }\n",
       "\n",
       "    .dataframe thead th {\n",
       "        text-align: right;\n",
       "    }\n",
       "</style>\n",
       "<table border=\"1\" class=\"dataframe\">\n",
       "  <thead>\n",
       "    <tr style=\"text-align: right;\">\n",
       "      <th></th>\n",
       "      <th>interval</th>\n",
       "      <th>starting_line</th>\n",
       "      <th>ending_line</th>\n",
       "    </tr>\n",
       "  </thead>\n",
       "  <tbody>\n",
       "    <tr>\n",
       "      <th>Matt</th>\n",
       "      <td>0 days 00:26:52.078000</td>\n",
       "      <td>01:50:23.969 01:50:55.111 MATT: We're going to...</td>\n",
       "      <td>02:17:47.189 02:18:33.308 MATT: And welcome ba...</td>\n",
       "    </tr>\n",
       "    <tr>\n",
       "      <th>Taliesin</th>\n",
       "      <td>0 days 00:26:26.353000</td>\n",
       "      <td>00:04:44.166 00:04:45.107 TALIESIN: You know t...</td>\n",
       "      <td>00:31:11.460 00:31:13.110 TALIESIN: Free passage.</td>\n",
       "    </tr>\n",
       "    <tr>\n",
       "      <th>Liam</th>\n",
       "      <td>0 days 00:22:57.832000</td>\n",
       "      <td>01:55:20.895 01:55:37.665 LIAM: \"She told you ...</td>\n",
       "      <td>02:18:35.497 02:18:37.851 LIAM: To critters, t...</td>\n",
       "    </tr>\n",
       "    <tr>\n",
       "      <th>All</th>\n",
       "      <td>0 days 00:20:43.173000</td>\n",
       "      <td>01:25:51.143 01:25:54.302 (laughter)</td>\n",
       "      <td>01:46:37.475 01:46:41.917 (laughter)</td>\n",
       "    </tr>\n",
       "    <tr>\n",
       "      <th>Marisha</th>\n",
       "      <td>0 days 00:20:27.155000</td>\n",
       "      <td>01:57:13.124 01:58:06.153 MARISHA: Like that?\\...</td>\n",
       "      <td>02:18:33.308 02:18:35.497 MARISHA: To Critters!</td>\n",
       "    </tr>\n",
       "    <tr>\n",
       "      <th>Laura</th>\n",
       "      <td>0 days 00:16:01.179000</td>\n",
       "      <td>02:03:20.574 02:03:37.616 LAURA: I think the t...</td>\n",
       "      <td>02:19:38.795 02:19:40.466 LAURA: Eyes, eyes, e...</td>\n",
       "    </tr>\n",
       "    <tr>\n",
       "      <th>Sam</th>\n",
       "      <td>0 days 00:15:55.874000</td>\n",
       "      <td>02:02:51.077 02:03:20.574 SAM: I was going for...</td>\n",
       "      <td>02:19:16.448 02:19:17.432 SAM: L'Chaim.</td>\n",
       "    </tr>\n",
       "    <tr>\n",
       "      <th>Travis</th>\n",
       "      <td>0 days 00:15:03.537000</td>\n",
       "      <td>02:03:37.616 02:04:11.320 TRAVIS: I think the ...</td>\n",
       "      <td>02:19:14.857 02:19:16.448 TRAVIS: Thank you.</td>\n",
       "    </tr>\n",
       "    <tr>\n",
       "      <th>Brian</th>\n",
       "      <td>0 days 00:00:27.615000</td>\n",
       "      <td>01:54:38.888 01:54:41.858 BRIAN: A vessel?\\nA ...</td>\n",
       "      <td>01:55:09.473 01:55:17.039 BRIAN: Wait, the big...</td>\n",
       "    </tr>\n",
       "  </tbody>\n",
       "</table>\n",
       "</div>"
      ],
      "text/plain": [
       "                       interval  \\\n",
       "Matt     0 days 00:26:52.078000   \n",
       "Taliesin 0 days 00:26:26.353000   \n",
       "Liam     0 days 00:22:57.832000   \n",
       "All      0 days 00:20:43.173000   \n",
       "Marisha  0 days 00:20:27.155000   \n",
       "Laura    0 days 00:16:01.179000   \n",
       "Sam      0 days 00:15:55.874000   \n",
       "Travis   0 days 00:15:03.537000   \n",
       "Brian    0 days 00:00:27.615000   \n",
       "\n",
       "                                              starting_line  \\\n",
       "Matt      01:50:23.969 01:50:55.111 MATT: We're going to...   \n",
       "Taliesin  00:04:44.166 00:04:45.107 TALIESIN: You know t...   \n",
       "Liam      01:55:20.895 01:55:37.665 LIAM: \"She told you ...   \n",
       "All                    01:25:51.143 01:25:54.302 (laughter)   \n",
       "Marisha   01:57:13.124 01:58:06.153 MARISHA: Like that?\\...   \n",
       "Laura     02:03:20.574 02:03:37.616 LAURA: I think the t...   \n",
       "Sam       02:02:51.077 02:03:20.574 SAM: I was going for...   \n",
       "Travis    02:03:37.616 02:04:11.320 TRAVIS: I think the ...   \n",
       "Brian     01:54:38.888 01:54:41.858 BRIAN: A vessel?\\nA ...   \n",
       "\n",
       "                                                ending_line  \n",
       "Matt      02:17:47.189 02:18:33.308 MATT: And welcome ba...  \n",
       "Taliesin  00:31:11.460 00:31:13.110 TALIESIN: Free passage.  \n",
       "Liam      02:18:35.497 02:18:37.851 LIAM: To critters, t...  \n",
       "All                    01:46:37.475 01:46:41.917 (laughter)  \n",
       "Marisha     02:18:33.308 02:18:35.497 MARISHA: To Critters!  \n",
       "Laura     02:19:38.795 02:19:40.466 LAURA: Eyes, eyes, e...  \n",
       "Sam                 02:19:16.448 02:19:17.432 SAM: L'Chaim.  \n",
       "Travis         02:19:14.857 02:19:16.448 TRAVIS: Thank you.  \n",
       "Brian     01:55:09.473 01:55:17.039 BRIAN: Wait, the big...  "
      ]
     },
     "metadata": {},
     "output_type": "display_data"
    },
    {
     "data": {
      "text/markdown": [
       "# Episode 58 - Wood and Steel"
      ],
      "text/plain": [
       "<IPython.core.display.Markdown object>"
      ]
     },
     "metadata": {},
     "output_type": "display_data"
    },
    {
     "name": "stdout",
     "output_type": "stream",
     "text": [
      "Added to cast: Brittany\n"
     ]
    },
    {
     "data": {
      "text/html": [
       "<div>\n",
       "<style scoped>\n",
       "    .dataframe tbody tr th:only-of-type {\n",
       "        vertical-align: middle;\n",
       "    }\n",
       "\n",
       "    .dataframe tbody tr th {\n",
       "        vertical-align: top;\n",
       "    }\n",
       "\n",
       "    .dataframe thead th {\n",
       "        text-align: right;\n",
       "    }\n",
       "</style>\n",
       "<table border=\"1\" class=\"dataframe\">\n",
       "  <thead>\n",
       "    <tr style=\"text-align: right;\">\n",
       "      <th></th>\n",
       "      <th>interval</th>\n",
       "      <th>starting_line</th>\n",
       "      <th>ending_line</th>\n",
       "    </tr>\n",
       "  </thead>\n",
       "  <tbody>\n",
       "    <tr>\n",
       "      <th>Ashley</th>\n",
       "      <td>0 days 00:53:04.350000</td>\n",
       "      <td>00:49:06.082 00:49:09.100 ASHLEY: Let's get yo...</td>\n",
       "      <td>01:42:13.450 01:42:23.417 ASHLEY: Yes, hello.\\...</td>\n",
       "    </tr>\n",
       "    <tr>\n",
       "      <th>Taliesin</th>\n",
       "      <td>0 days 00:28:11.046000</td>\n",
       "      <td>00:52:24.680 00:52:26.910 TALIESIN: I know whe...</td>\n",
       "      <td>01:20:37.956 01:20:39.970 TALIESIN: Shoo shoo ...</td>\n",
       "    </tr>\n",
       "    <tr>\n",
       "      <th>Sam</th>\n",
       "      <td>0 days 00:27:49.829000</td>\n",
       "      <td>00:56:35.490 00:56:37.581 SAM: She digs it.</td>\n",
       "      <td>01:24:27.410 01:24:31.217 SAM: Don't send Nott...</td>\n",
       "    </tr>\n",
       "    <tr>\n",
       "      <th>All</th>\n",
       "      <td>0 days 00:26:00.832000</td>\n",
       "      <td>03:15:36.068 03:15:37.830 (laughter)</td>\n",
       "      <td>03:41:38.662 03:41:41.179 (laughter)</td>\n",
       "    </tr>\n",
       "    <tr>\n",
       "      <th>Laura</th>\n",
       "      <td>0 days 00:18:17.915000</td>\n",
       "      <td>01:02:03.608 01:02:05.575 LAURA: Ah, I hate th...</td>\n",
       "      <td>01:20:23.490 01:20:34.890 LAURA: Take the stuf...</td>\n",
       "    </tr>\n",
       "    <tr>\n",
       "      <th>Travis</th>\n",
       "      <td>0 days 00:17:19.652000</td>\n",
       "      <td>02:08:55.148 02:08:56.698 TRAVIS: Bye, you guys.</td>\n",
       "      <td>02:26:16.350 02:26:17.920 TRAVIS: How many gia...</td>\n",
       "    </tr>\n",
       "    <tr>\n",
       "      <th>Liam</th>\n",
       "      <td>0 days 00:17:03.323000</td>\n",
       "      <td>00:28:39.498 00:28:41.077 LIAM: That's all you...</td>\n",
       "      <td>00:45:44.400 00:45:49.100 LIAM: (as Sol Rosenb...</td>\n",
       "    </tr>\n",
       "    <tr>\n",
       "      <th>Marisha</th>\n",
       "      <td>0 days 00:16:34.040000</td>\n",
       "      <td>02:08:18.500 02:08:19.510 MARISHA: All that vo...</td>\n",
       "      <td>02:24:53.550 02:24:56.790 MARISHA: Right, I to...</td>\n",
       "    </tr>\n",
       "    <tr>\n",
       "      <th>Matt</th>\n",
       "      <td>0 days 00:14:49.986000</td>\n",
       "      <td>02:08:28.240 02:08:31.184 MATT: Yeah, it's abo...</td>\n",
       "      <td>02:23:21.170 02:23:27.730 MATT: Hello everyone...</td>\n",
       "    </tr>\n",
       "    <tr>\n",
       "      <th>Brian</th>\n",
       "      <td>0 days 00:00:39.854000</td>\n",
       "      <td>02:02:06.391 02:02:07.880 BRIAN: Um--</td>\n",
       "      <td>02:02:47.734 02:03:04.009 BRIAN: A magic cat?\\...</td>\n",
       "    </tr>\n",
       "    <tr>\n",
       "      <th>Brittany</th>\n",
       "      <td>0 days 00:00:25.082000</td>\n",
       "      <td>02:02:11.360 02:02:45.353 BRITTANY: \"The gamev...</td>\n",
       "      <td>02:03:10.435 02:03:29.302 BRITTANY: \"A liabili...</td>\n",
       "    </tr>\n",
       "  </tbody>\n",
       "</table>\n",
       "</div>"
      ],
      "text/plain": [
       "                       interval  \\\n",
       "Ashley   0 days 00:53:04.350000   \n",
       "Taliesin 0 days 00:28:11.046000   \n",
       "Sam      0 days 00:27:49.829000   \n",
       "All      0 days 00:26:00.832000   \n",
       "Laura    0 days 00:18:17.915000   \n",
       "Travis   0 days 00:17:19.652000   \n",
       "Liam     0 days 00:17:03.323000   \n",
       "Marisha  0 days 00:16:34.040000   \n",
       "Matt     0 days 00:14:49.986000   \n",
       "Brian    0 days 00:00:39.854000   \n",
       "Brittany 0 days 00:00:25.082000   \n",
       "\n",
       "                                              starting_line  \\\n",
       "Ashley    00:49:06.082 00:49:09.100 ASHLEY: Let's get yo...   \n",
       "Taliesin  00:52:24.680 00:52:26.910 TALIESIN: I know whe...   \n",
       "Sam             00:56:35.490 00:56:37.581 SAM: She digs it.   \n",
       "All                    03:15:36.068 03:15:37.830 (laughter)   \n",
       "Laura     01:02:03.608 01:02:05.575 LAURA: Ah, I hate th...   \n",
       "Travis     02:08:55.148 02:08:56.698 TRAVIS: Bye, you guys.   \n",
       "Liam      00:28:39.498 00:28:41.077 LIAM: That's all you...   \n",
       "Marisha   02:08:18.500 02:08:19.510 MARISHA: All that vo...   \n",
       "Matt      02:08:28.240 02:08:31.184 MATT: Yeah, it's abo...   \n",
       "Brian                 02:02:06.391 02:02:07.880 BRIAN: Um--   \n",
       "Brittany  02:02:11.360 02:02:45.353 BRITTANY: \"The gamev...   \n",
       "\n",
       "                                                ending_line  \n",
       "Ashley    01:42:13.450 01:42:23.417 ASHLEY: Yes, hello.\\...  \n",
       "Taliesin  01:20:37.956 01:20:39.970 TALIESIN: Shoo shoo ...  \n",
       "Sam       01:24:27.410 01:24:31.217 SAM: Don't send Nott...  \n",
       "All                    03:41:38.662 03:41:41.179 (laughter)  \n",
       "Laura     01:20:23.490 01:20:34.890 LAURA: Take the stuf...  \n",
       "Travis    02:26:16.350 02:26:17.920 TRAVIS: How many gia...  \n",
       "Liam      00:45:44.400 00:45:49.100 LIAM: (as Sol Rosenb...  \n",
       "Marisha   02:24:53.550 02:24:56.790 MARISHA: Right, I to...  \n",
       "Matt      02:23:21.170 02:23:27.730 MATT: Hello everyone...  \n",
       "Brian     02:02:47.734 02:03:04.009 BRIAN: A magic cat?\\...  \n",
       "Brittany  02:03:10.435 02:03:29.302 BRITTANY: \"A liabili...  "
      ]
     },
     "metadata": {},
     "output_type": "display_data"
    },
    {
     "data": {
      "text/markdown": [
       "# Episode 59 - Perspective"
      ],
      "text/plain": [
       "<IPython.core.display.Markdown object>"
      ]
     },
     "metadata": {},
     "output_type": "display_data"
    },
    {
     "data": {
      "text/html": [
       "<div>\n",
       "<style scoped>\n",
       "    .dataframe tbody tr th:only-of-type {\n",
       "        vertical-align: middle;\n",
       "    }\n",
       "\n",
       "    .dataframe tbody tr th {\n",
       "        vertical-align: top;\n",
       "    }\n",
       "\n",
       "    .dataframe thead th {\n",
       "        text-align: right;\n",
       "    }\n",
       "</style>\n",
       "<table border=\"1\" class=\"dataframe\">\n",
       "  <thead>\n",
       "    <tr style=\"text-align: right;\">\n",
       "      <th></th>\n",
       "      <th>interval</th>\n",
       "      <th>starting_line</th>\n",
       "      <th>ending_line</th>\n",
       "    </tr>\n",
       "  </thead>\n",
       "  <tbody>\n",
       "    <tr>\n",
       "      <th>Ashley</th>\n",
       "      <td>0 days 00:37:47.550000</td>\n",
       "      <td>01:53:21.264 01:53:23.067 ASHLEY: Uh-oh.</td>\n",
       "      <td>02:31:10.617 02:31:12.495 ASHLEY: Yes, did you...</td>\n",
       "    </tr>\n",
       "    <tr>\n",
       "      <th>Laura</th>\n",
       "      <td>0 days 00:26:53.044000</td>\n",
       "      <td>01:56:35.615 01:56:37.046 LAURA: Yeah, I thoug...</td>\n",
       "      <td>02:23:30.090 02:23:31.757 LAURA: Beau can be w...</td>\n",
       "    </tr>\n",
       "    <tr>\n",
       "      <th>Sam</th>\n",
       "      <td>0 days 00:24:41.167000</td>\n",
       "      <td>01:56:33.469 01:56:35.615 SAM: Moorbounders?</td>\n",
       "      <td>02:21:16.782 02:21:29.194 SAM: As we ride, I'm...</td>\n",
       "    </tr>\n",
       "    <tr>\n",
       "      <th>Travis</th>\n",
       "      <td>0 days 00:23:21.810000</td>\n",
       "      <td>02:03:11.047 02:03:51.475 TRAVIS: Gods.\\nAnybo...</td>\n",
       "      <td>02:27:13.285 02:27:14.918 TRAVIS: Fucking knew...</td>\n",
       "    </tr>\n",
       "    <tr>\n",
       "      <th>Marisha</th>\n",
       "      <td>0 days 00:23:14.014000</td>\n",
       "      <td>02:00:16.568 02:00:17.743 MARISHA: (screaming)</td>\n",
       "      <td>02:23:31.757 02:23:33.967 MARISHA: I--wherever.</td>\n",
       "    </tr>\n",
       "    <tr>\n",
       "      <th>Matt</th>\n",
       "      <td>0 days 00:21:00.171000</td>\n",
       "      <td>01:58:00.607 01:59:41.357 MATT: We'll be back ...</td>\n",
       "      <td>02:20:41.528 02:21:04.213 MATT: Hello everyone...</td>\n",
       "    </tr>\n",
       "    <tr>\n",
       "      <th>All</th>\n",
       "      <td>0 days 00:20:54.259000</td>\n",
       "      <td>02:06:10.878 02:06:13.711 [intense orchestral ...</td>\n",
       "      <td>02:27:07.970 02:27:10.717 (laughter)</td>\n",
       "    </tr>\n",
       "    <tr>\n",
       "      <th>Liam</th>\n",
       "      <td>0 days 00:19:24.206000</td>\n",
       "      <td>02:02:02.063 02:02:04.988 LIAM: (exaggerated e...</td>\n",
       "      <td>02:21:29.194 02:21:30.863 LIAM: Why today?</td>\n",
       "    </tr>\n",
       "    <tr>\n",
       "      <th>Taliesin</th>\n",
       "      <td>0 days 00:17:43.074000</td>\n",
       "      <td>02:03:57.715 02:06:02.805 TALIESIN: Like a sym...</td>\n",
       "      <td>02:23:45.879 02:23:47.120 TALIESIN: Yeah, we w...</td>\n",
       "    </tr>\n",
       "    <tr>\n",
       "      <th>Dani</th>\n",
       "      <td>0 days 00:01:09.238000</td>\n",
       "      <td>01:59:55.591 01:59:56.649 DANI: Next question!</td>\n",
       "      <td>02:01:05.887 02:01:07.723 DANI: Y'all make me ...</td>\n",
       "    </tr>\n",
       "    <tr>\n",
       "      <th>Brian</th>\n",
       "      <td>0 days 00:00:28.218000</td>\n",
       "      <td>02:01:24.284 02:01:26.533 BRIAN: You can sign ...</td>\n",
       "      <td>02:01:54.751 02:01:55.584 BRIAN: Here we go.</td>\n",
       "    </tr>\n",
       "    <tr>\n",
       "      <th>Joel</th>\n",
       "      <td>0 days 00:00:26.012000</td>\n",
       "      <td>00:05:42.037 00:05:47.344 JOEL: So cheers, y'a...</td>\n",
       "      <td>00:06:13.356 00:06:16.092 JOEL: Okay, can we g...</td>\n",
       "    </tr>\n",
       "  </tbody>\n",
       "</table>\n",
       "</div>"
      ],
      "text/plain": [
       "                       interval  \\\n",
       "Ashley   0 days 00:37:47.550000   \n",
       "Laura    0 days 00:26:53.044000   \n",
       "Sam      0 days 00:24:41.167000   \n",
       "Travis   0 days 00:23:21.810000   \n",
       "Marisha  0 days 00:23:14.014000   \n",
       "Matt     0 days 00:21:00.171000   \n",
       "All      0 days 00:20:54.259000   \n",
       "Liam     0 days 00:19:24.206000   \n",
       "Taliesin 0 days 00:17:43.074000   \n",
       "Dani     0 days 00:01:09.238000   \n",
       "Brian    0 days 00:00:28.218000   \n",
       "Joel     0 days 00:00:26.012000   \n",
       "\n",
       "                                              starting_line  \\\n",
       "Ashley             01:53:21.264 01:53:23.067 ASHLEY: Uh-oh.   \n",
       "Laura     01:56:35.615 01:56:37.046 LAURA: Yeah, I thoug...   \n",
       "Sam            01:56:33.469 01:56:35.615 SAM: Moorbounders?   \n",
       "Travis    02:03:11.047 02:03:51.475 TRAVIS: Gods.\\nAnybo...   \n",
       "Marisha      02:00:16.568 02:00:17.743 MARISHA: (screaming)   \n",
       "Matt      01:58:00.607 01:59:41.357 MATT: We'll be back ...   \n",
       "All       02:06:10.878 02:06:13.711 [intense orchestral ...   \n",
       "Liam      02:02:02.063 02:02:04.988 LIAM: (exaggerated e...   \n",
       "Taliesin  02:03:57.715 02:06:02.805 TALIESIN: Like a sym...   \n",
       "Dani         01:59:55.591 01:59:56.649 DANI: Next question!   \n",
       "Brian     02:01:24.284 02:01:26.533 BRIAN: You can sign ...   \n",
       "Joel      00:05:42.037 00:05:47.344 JOEL: So cheers, y'a...   \n",
       "\n",
       "                                                ending_line  \n",
       "Ashley    02:31:10.617 02:31:12.495 ASHLEY: Yes, did you...  \n",
       "Laura     02:23:30.090 02:23:31.757 LAURA: Beau can be w...  \n",
       "Sam       02:21:16.782 02:21:29.194 SAM: As we ride, I'm...  \n",
       "Travis    02:27:13.285 02:27:14.918 TRAVIS: Fucking knew...  \n",
       "Marisha     02:23:31.757 02:23:33.967 MARISHA: I--wherever.  \n",
       "Matt      02:20:41.528 02:21:04.213 MATT: Hello everyone...  \n",
       "All                    02:27:07.970 02:27:10.717 (laughter)  \n",
       "Liam             02:21:29.194 02:21:30.863 LIAM: Why today?  \n",
       "Taliesin  02:23:45.879 02:23:47.120 TALIESIN: Yeah, we w...  \n",
       "Dani      02:01:05.887 02:01:07.723 DANI: Y'all make me ...  \n",
       "Brian          02:01:54.751 02:01:55.584 BRIAN: Here we go.  \n",
       "Joel      00:06:13.356 00:06:16.092 JOEL: Okay, can we g...  "
      ]
     },
     "metadata": {},
     "output_type": "display_data"
    },
    {
     "data": {
      "text/markdown": [
       "# Episode 60 - A Turtle By Any Other Name"
      ],
      "text/plain": [
       "<IPython.core.display.Markdown object>"
      ]
     },
     "metadata": {},
     "output_type": "display_data"
    },
    {
     "data": {
      "text/html": [
       "<div>\n",
       "<style scoped>\n",
       "    .dataframe tbody tr th:only-of-type {\n",
       "        vertical-align: middle;\n",
       "    }\n",
       "\n",
       "    .dataframe tbody tr th {\n",
       "        vertical-align: top;\n",
       "    }\n",
       "\n",
       "    .dataframe thead th {\n",
       "        text-align: right;\n",
       "    }\n",
       "</style>\n",
       "<table border=\"1\" class=\"dataframe\">\n",
       "  <thead>\n",
       "    <tr style=\"text-align: right;\">\n",
       "      <th></th>\n",
       "      <th>interval</th>\n",
       "      <th>starting_line</th>\n",
       "      <th>ending_line</th>\n",
       "    </tr>\n",
       "  </thead>\n",
       "  <tbody>\n",
       "    <tr>\n",
       "      <th>Travis</th>\n",
       "      <td>0 days 00:28:42.378000</td>\n",
       "      <td>03:26:42.820 03:26:46.290 TRAVIS: Jester gives...</td>\n",
       "      <td>03:55:28.668 03:55:30.038 TRAVIS: Welcome back...</td>\n",
       "    </tr>\n",
       "    <tr>\n",
       "      <th>Marisha</th>\n",
       "      <td>0 days 00:24:01.588000</td>\n",
       "      <td>03:26:58.711 03:27:00.319 MARISHA: Feels good!</td>\n",
       "      <td>03:51:01.907 03:51:02.814 MARISHA: Oh my god, ...</td>\n",
       "    </tr>\n",
       "    <tr>\n",
       "      <th>Laura</th>\n",
       "      <td>0 days 00:22:01.866000</td>\n",
       "      <td>02:05:00.309 02:05:02.109 LAURA: Why couldn't ...</td>\n",
       "      <td>02:27:03.975 02:27:05.175 LAURA: The jellyfish.</td>\n",
       "    </tr>\n",
       "    <tr>\n",
       "      <th>Liam</th>\n",
       "      <td>0 days 00:20:30.537000</td>\n",
       "      <td>02:04:54.487 02:04:55.320 LIAM: Awesome.</td>\n",
       "      <td>02:25:25.857 02:25:27.764 LIAM: That is the na...</td>\n",
       "    </tr>\n",
       "    <tr>\n",
       "      <th>All</th>\n",
       "      <td>0 days 00:19:58.914000</td>\n",
       "      <td>03:01:43.900 03:01:45.124 (sniffing)</td>\n",
       "      <td>03:21:44.038 03:21:45.684 (paper peeling)</td>\n",
       "    </tr>\n",
       "    <tr>\n",
       "      <th>Matt</th>\n",
       "      <td>0 days 00:18:48.892000</td>\n",
       "      <td>02:05:08.457 02:06:19.135 MATT: We'll be back ...</td>\n",
       "      <td>02:25:08.027 02:25:24.612 MATT: Welcome back.\\...</td>\n",
       "    </tr>\n",
       "    <tr>\n",
       "      <th>Sam</th>\n",
       "      <td>0 days 00:18:41.075000</td>\n",
       "      <td>02:06:30.367 02:07:39.022 SAM: I'm a fan of ho...</td>\n",
       "      <td>02:26:20.097 02:26:23.729 SAM: What--are you g...</td>\n",
       "    </tr>\n",
       "    <tr>\n",
       "      <th>Ashley</th>\n",
       "      <td>0 days 00:18:34.794000</td>\n",
       "      <td>03:03:33.845 03:03:35.347 ASHLEY: That was alm...</td>\n",
       "      <td>03:22:10.141 03:22:14.408 ASHLEY: I'm uncomfor...</td>\n",
       "    </tr>\n",
       "    <tr>\n",
       "      <th>Taliesin</th>\n",
       "      <td>0 days 00:12:08.746000</td>\n",
       "      <td>02:12:48.548 02:14:09.192 TALIESIN: For your c...</td>\n",
       "      <td>02:26:17.938 02:26:19.067 TALIESIN: Take it to...</td>\n",
       "    </tr>\n",
       "    <tr>\n",
       "      <th>Dani</th>\n",
       "      <td>0 days 00:01:16.072000</td>\n",
       "      <td>02:11:15.266 02:11:17.826 DANI: A plus, Steve.</td>\n",
       "      <td>02:12:33.898 02:12:35.315 DANI: Jesus.</td>\n",
       "    </tr>\n",
       "    <tr>\n",
       "      <th>Brian</th>\n",
       "      <td>0 days 00:00:26.162000</td>\n",
       "      <td>02:10:16.295 02:10:18.984 BRIAN: Yeah, do it t...</td>\n",
       "      <td>02:10:45.146 02:10:47.812 BRIAN: Ashley.\\nTALI...</td>\n",
       "    </tr>\n",
       "  </tbody>\n",
       "</table>\n",
       "</div>"
      ],
      "text/plain": [
       "                       interval  \\\n",
       "Travis   0 days 00:28:42.378000   \n",
       "Marisha  0 days 00:24:01.588000   \n",
       "Laura    0 days 00:22:01.866000   \n",
       "Liam     0 days 00:20:30.537000   \n",
       "All      0 days 00:19:58.914000   \n",
       "Matt     0 days 00:18:48.892000   \n",
       "Sam      0 days 00:18:41.075000   \n",
       "Ashley   0 days 00:18:34.794000   \n",
       "Taliesin 0 days 00:12:08.746000   \n",
       "Dani     0 days 00:01:16.072000   \n",
       "Brian    0 days 00:00:26.162000   \n",
       "\n",
       "                                              starting_line  \\\n",
       "Travis    03:26:42.820 03:26:46.290 TRAVIS: Jester gives...   \n",
       "Marisha      03:26:58.711 03:27:00.319 MARISHA: Feels good!   \n",
       "Laura     02:05:00.309 02:05:02.109 LAURA: Why couldn't ...   \n",
       "Liam               02:04:54.487 02:04:55.320 LIAM: Awesome.   \n",
       "All                    03:01:43.900 03:01:45.124 (sniffing)   \n",
       "Matt      02:05:08.457 02:06:19.135 MATT: We'll be back ...   \n",
       "Sam       02:06:30.367 02:07:39.022 SAM: I'm a fan of ho...   \n",
       "Ashley    03:03:33.845 03:03:35.347 ASHLEY: That was alm...   \n",
       "Taliesin  02:12:48.548 02:14:09.192 TALIESIN: For your c...   \n",
       "Dani         02:11:15.266 02:11:17.826 DANI: A plus, Steve.   \n",
       "Brian     02:10:16.295 02:10:18.984 BRIAN: Yeah, do it t...   \n",
       "\n",
       "                                                ending_line  \n",
       "Travis    03:55:28.668 03:55:30.038 TRAVIS: Welcome back...  \n",
       "Marisha   03:51:01.907 03:51:02.814 MARISHA: Oh my god, ...  \n",
       "Laura       02:27:03.975 02:27:05.175 LAURA: The jellyfish.  \n",
       "Liam      02:25:25.857 02:25:27.764 LIAM: That is the na...  \n",
       "All               03:21:44.038 03:21:45.684 (paper peeling)  \n",
       "Matt      02:25:08.027 02:25:24.612 MATT: Welcome back.\\...  \n",
       "Sam       02:26:20.097 02:26:23.729 SAM: What--are you g...  \n",
       "Ashley    03:22:10.141 03:22:14.408 ASHLEY: I'm uncomfor...  \n",
       "Taliesin  02:26:17.938 02:26:19.067 TALIESIN: Take it to...  \n",
       "Dani                 02:12:33.898 02:12:35.315 DANI: Jesus.  \n",
       "Brian     02:10:45.146 02:10:47.812 BRIAN: Ashley.\\nTALI...  "
      ]
     },
     "metadata": {},
     "output_type": "display_data"
    },
    {
     "data": {
      "text/markdown": [
       "# Episode 61 - Agreements"
      ],
      "text/plain": [
       "<IPython.core.display.Markdown object>"
      ]
     },
     "metadata": {},
     "output_type": "display_data"
    },
    {
     "name": "stdout",
     "output_type": "stream",
     "text": [
      "Added to cast: Binwin\n",
      "Added to cast: Crowy\n",
      "Added to cast: Jerry\n"
     ]
    },
    {
     "data": {
      "text/html": [
       "<div>\n",
       "<style scoped>\n",
       "    .dataframe tbody tr th:only-of-type {\n",
       "        vertical-align: middle;\n",
       "    }\n",
       "\n",
       "    .dataframe tbody tr th {\n",
       "        vertical-align: top;\n",
       "    }\n",
       "\n",
       "    .dataframe thead th {\n",
       "        text-align: right;\n",
       "    }\n",
       "</style>\n",
       "<table border=\"1\" class=\"dataframe\">\n",
       "  <thead>\n",
       "    <tr style=\"text-align: right;\">\n",
       "      <th></th>\n",
       "      <th>interval</th>\n",
       "      <th>starting_line</th>\n",
       "      <th>ending_line</th>\n",
       "    </tr>\n",
       "  </thead>\n",
       "  <tbody>\n",
       "    <tr>\n",
       "      <th>Taliesin</th>\n",
       "      <td>0 days 00:35:38.220000</td>\n",
       "      <td>01:34:07.563 01:34:10.370 TALIESIN: I like it,...</td>\n",
       "      <td>02:09:48.590 02:09:51.634 TALIESIN: This dice ...</td>\n",
       "    </tr>\n",
       "    <tr>\n",
       "      <th>Ashley</th>\n",
       "      <td>0 days 00:33:38.913000</td>\n",
       "      <td>02:20:33.117 02:20:34.157 ASHLEY: Okay.</td>\n",
       "      <td>02:54:13.070 02:54:15.280 ASHLEY: I'm going to...</td>\n",
       "    </tr>\n",
       "    <tr>\n",
       "      <th>Marisha</th>\n",
       "      <td>0 days 00:29:28.344000</td>\n",
       "      <td>02:44:32.051 02:44:33.176 MARISHA: Interesting.</td>\n",
       "      <td>03:14:01.520 03:14:02.620 MARISHA: Oh, he's fu...</td>\n",
       "    </tr>\n",
       "    <tr>\n",
       "      <th>Liam</th>\n",
       "      <td>0 days 00:26:07.986000</td>\n",
       "      <td>01:44:14.860 01:44:16.110 LIAM: You got muggled!</td>\n",
       "      <td>02:10:24.096 02:10:29.030 LIAM: I think that w...</td>\n",
       "    </tr>\n",
       "    <tr>\n",
       "      <th>Laura</th>\n",
       "      <td>0 days 00:25:29.941000</td>\n",
       "      <td>01:44:21.465 01:44:23.035 LAURA: Squib!\\nSAM: ...</td>\n",
       "      <td>02:09:52.976 02:09:54.328 LAURA: (laughs)</td>\n",
       "    </tr>\n",
       "    <tr>\n",
       "      <th>Matt</th>\n",
       "      <td>0 days 00:21:47.280000</td>\n",
       "      <td>01:47:43.163 01:47:44.354 MATT: In this area?</td>\n",
       "      <td>02:09:31.634 02:09:48.590 MATT: And welcome ba...</td>\n",
       "    </tr>\n",
       "    <tr>\n",
       "      <th>Travis</th>\n",
       "      <td>0 days 00:21:25.929000</td>\n",
       "      <td>02:20:12.180 02:20:15.261 TRAVIS: Do you want ...</td>\n",
       "      <td>02:41:41.190 02:41:49.072 TRAVIS: Hey, Caduceu...</td>\n",
       "    </tr>\n",
       "    <tr>\n",
       "      <th>All</th>\n",
       "      <td>0 days 00:18:48.588000</td>\n",
       "      <td>00:18:51.809 00:18:54.890 (Wayne's World flash...</td>\n",
       "      <td>00:37:43.478 00:37:45.929 (laughter)</td>\n",
       "    </tr>\n",
       "    <tr>\n",
       "      <th>Sam</th>\n",
       "      <td>0 days 00:17:35.140000</td>\n",
       "      <td>01:51:32.300 01:53:24.120 SAM: I'm a fan of ho...</td>\n",
       "      <td>02:10:59.260 02:11:03.862 SAM: She's a tinkere...</td>\n",
       "    </tr>\n",
       "    <tr>\n",
       "      <th>Brian</th>\n",
       "      <td>0 days 00:02:34.795000</td>\n",
       "      <td>01:50:55.182 01:50:56.015 BRIAN: Yeah.</td>\n",
       "      <td>01:53:30.810 01:53:37.438 BRIAN: Hello there. ...</td>\n",
       "    </tr>\n",
       "    <tr>\n",
       "      <th>Binwin</th>\n",
       "      <td>0 days 00:00:17.230000</td>\n",
       "      <td>01:46:09.370 01:46:10.220 BINWIN: Of course not.</td>\n",
       "      <td>01:46:27.450 01:46:29.280 BINWIN: How do you l...</td>\n",
       "    </tr>\n",
       "    <tr>\n",
       "      <th>Crowy</th>\n",
       "      <td>0 days 00:00:03.030000</td>\n",
       "      <td>01:46:29.280 01:46:35.490 CROWY: Create the be...</td>\n",
       "      <td>01:46:38.520 01:46:44.010 CROWY: You click on ...</td>\n",
       "    </tr>\n",
       "    <tr>\n",
       "      <th>Jerry</th>\n",
       "      <td>0 days 00:00:02.124000</td>\n",
       "      <td>01:57:44.300 01:57:46.560 JERRY: Then one hole...</td>\n",
       "      <td>01:57:48.684 01:57:49.950 JERRY: Isn't that--c...</td>\n",
       "    </tr>\n",
       "  </tbody>\n",
       "</table>\n",
       "</div>"
      ],
      "text/plain": [
       "                       interval  \\\n",
       "Taliesin 0 days 00:35:38.220000   \n",
       "Ashley   0 days 00:33:38.913000   \n",
       "Marisha  0 days 00:29:28.344000   \n",
       "Liam     0 days 00:26:07.986000   \n",
       "Laura    0 days 00:25:29.941000   \n",
       "Matt     0 days 00:21:47.280000   \n",
       "Travis   0 days 00:21:25.929000   \n",
       "All      0 days 00:18:48.588000   \n",
       "Sam      0 days 00:17:35.140000   \n",
       "Brian    0 days 00:02:34.795000   \n",
       "Binwin   0 days 00:00:17.230000   \n",
       "Crowy    0 days 00:00:03.030000   \n",
       "Jerry    0 days 00:00:02.124000   \n",
       "\n",
       "                                              starting_line  \\\n",
       "Taliesin  01:34:07.563 01:34:10.370 TALIESIN: I like it,...   \n",
       "Ashley              02:20:33.117 02:20:34.157 ASHLEY: Okay.   \n",
       "Marisha     02:44:32.051 02:44:33.176 MARISHA: Interesting.   \n",
       "Liam       01:44:14.860 01:44:16.110 LIAM: You got muggled!   \n",
       "Laura     01:44:21.465 01:44:23.035 LAURA: Squib!\\nSAM: ...   \n",
       "Matt          01:47:43.163 01:47:44.354 MATT: In this area?   \n",
       "Travis    02:20:12.180 02:20:15.261 TRAVIS: Do you want ...   \n",
       "All       00:18:51.809 00:18:54.890 (Wayne's World flash...   \n",
       "Sam       01:51:32.300 01:53:24.120 SAM: I'm a fan of ho...   \n",
       "Brian                01:50:55.182 01:50:56.015 BRIAN: Yeah.   \n",
       "Binwin     01:46:09.370 01:46:10.220 BINWIN: Of course not.   \n",
       "Crowy     01:46:29.280 01:46:35.490 CROWY: Create the be...   \n",
       "Jerry     01:57:44.300 01:57:46.560 JERRY: Then one hole...   \n",
       "\n",
       "                                                ending_line  \n",
       "Taliesin  02:09:48.590 02:09:51.634 TALIESIN: This dice ...  \n",
       "Ashley    02:54:13.070 02:54:15.280 ASHLEY: I'm going to...  \n",
       "Marisha   03:14:01.520 03:14:02.620 MARISHA: Oh, he's fu...  \n",
       "Liam      02:10:24.096 02:10:29.030 LIAM: I think that w...  \n",
       "Laura             02:09:52.976 02:09:54.328 LAURA: (laughs)  \n",
       "Matt      02:09:31.634 02:09:48.590 MATT: And welcome ba...  \n",
       "Travis    02:41:41.190 02:41:49.072 TRAVIS: Hey, Caduceu...  \n",
       "All                    00:37:43.478 00:37:45.929 (laughter)  \n",
       "Sam       02:10:59.260 02:11:03.862 SAM: She's a tinkere...  \n",
       "Brian     01:53:30.810 01:53:37.438 BRIAN: Hello there. ...  \n",
       "Binwin    01:46:27.450 01:46:29.280 BINWIN: How do you l...  \n",
       "Crowy     01:46:38.520 01:46:44.010 CROWY: You click on ...  \n",
       "Jerry     01:57:48.684 01:57:49.950 JERRY: Isn't that--c...  "
      ]
     },
     "metadata": {},
     "output_type": "display_data"
    },
    {
     "data": {
      "text/markdown": [
       "# Episode 62 - Domestic Respite"
      ],
      "text/plain": [
       "<IPython.core.display.Markdown object>"
      ]
     },
     "metadata": {},
     "output_type": "display_data"
    },
    {
     "data": {
      "text/html": [
       "<div>\n",
       "<style scoped>\n",
       "    .dataframe tbody tr th:only-of-type {\n",
       "        vertical-align: middle;\n",
       "    }\n",
       "\n",
       "    .dataframe tbody tr th {\n",
       "        vertical-align: top;\n",
       "    }\n",
       "\n",
       "    .dataframe thead th {\n",
       "        text-align: right;\n",
       "    }\n",
       "</style>\n",
       "<table border=\"1\" class=\"dataframe\">\n",
       "  <thead>\n",
       "    <tr style=\"text-align: right;\">\n",
       "      <th></th>\n",
       "      <th>interval</th>\n",
       "      <th>starting_line</th>\n",
       "      <th>ending_line</th>\n",
       "    </tr>\n",
       "  </thead>\n",
       "  <tbody>\n",
       "    <tr>\n",
       "      <th>Ashley</th>\n",
       "      <td>0 days 00:29:22.492000</td>\n",
       "      <td>01:01:56.310 01:01:57.430 ASHLEY: Is that what...</td>\n",
       "      <td>01:31:19.922 01:31:21.272 ASHLEY: I just thoug...</td>\n",
       "    </tr>\n",
       "    <tr>\n",
       "      <th>Laura</th>\n",
       "      <td>0 days 00:23:58.078000</td>\n",
       "      <td>02:07:27.620 02:07:29.902 LAURA: It's the peep...</td>\n",
       "      <td>02:31:27.980 02:31:28.813 LAURA: Mm.\\nTRAVIS: ...</td>\n",
       "    </tr>\n",
       "    <tr>\n",
       "      <th>All</th>\n",
       "      <td>0 days 00:22:26.232000</td>\n",
       "      <td>03:34:05.859 03:34:08.442 (laughter)</td>\n",
       "      <td>03:56:34.674 03:56:36.980 (laughter)</td>\n",
       "    </tr>\n",
       "    <tr>\n",
       "      <th>Liam</th>\n",
       "      <td>0 days 00:21:11.180000</td>\n",
       "      <td>02:07:32.850 02:07:33.683 LIAM: Oh, boy.</td>\n",
       "      <td>02:28:44.863 02:28:51.087 LIAM: Four days late...</td>\n",
       "    </tr>\n",
       "    <tr>\n",
       "      <th>Marisha</th>\n",
       "      <td>0 days 00:19:54.503000</td>\n",
       "      <td>02:10:52.451 02:10:55.077 MARISHA: Oh, my, it'...</td>\n",
       "      <td>02:30:49.580 02:30:54.230 MARISHA: Well.\\nLet'...</td>\n",
       "    </tr>\n",
       "    <tr>\n",
       "      <th>Matt</th>\n",
       "      <td>0 days 00:18:45.560000</td>\n",
       "      <td>02:07:33.683 02:08:51.400 MATT: This awesome F...</td>\n",
       "      <td>02:27:36.960 02:27:47.610 MATT: Hello, everyon...</td>\n",
       "    </tr>\n",
       "    <tr>\n",
       "      <th>Travis</th>\n",
       "      <td>0 days 00:17:49.397000</td>\n",
       "      <td>02:10:56.144 02:11:01.690 TRAVIS: ♪ Them other...</td>\n",
       "      <td>02:28:51.087 02:28:51.920 TRAVIS: (meows)</td>\n",
       "    </tr>\n",
       "    <tr>\n",
       "      <th>Taliesin</th>\n",
       "      <td>0 days 00:14:20.530000</td>\n",
       "      <td>02:13:56.105 02:13:58.620 TALIESIN: I feel lik...</td>\n",
       "      <td>02:28:19.150 02:28:27.398 TALIESIN: Just for i...</td>\n",
       "    </tr>\n",
       "    <tr>\n",
       "      <th>Sam</th>\n",
       "      <td>0 days 00:14:04.728000</td>\n",
       "      <td>02:15:07.556 02:15:08.462 SAM: I'm a fan of--</td>\n",
       "      <td>02:29:13.190 02:29:14.959 SAM: Spent it on Sun...</td>\n",
       "    </tr>\n",
       "    <tr>\n",
       "      <th>Brian</th>\n",
       "      <td>0 days 00:00:20.583000</td>\n",
       "      <td>02:09:36.361 02:09:38.736 BRIAN: My parents to...</td>\n",
       "      <td>02:09:59.319 02:10:00.165 BRIAN: You're the ba...</td>\n",
       "    </tr>\n",
       "    <tr>\n",
       "      <th>Dani</th>\n",
       "      <td>0 days 00:00:15.224000</td>\n",
       "      <td>02:09:14.759 02:09:16.426 DANI: That was adora...</td>\n",
       "      <td>02:09:31.650 02:09:34.262 DANI: We can't stop ...</td>\n",
       "    </tr>\n",
       "    <tr>\n",
       "      <th>Brittany</th>\n",
       "      <td>0 days 00:00:03.129000</td>\n",
       "      <td>02:13:45.173 02:13:46.281 BRITTANY: Get out.</td>\n",
       "      <td>02:13:49.410 02:13:50.600 BRITTANY: You guys, ...</td>\n",
       "    </tr>\n",
       "  </tbody>\n",
       "</table>\n",
       "</div>"
      ],
      "text/plain": [
       "                       interval  \\\n",
       "Ashley   0 days 00:29:22.492000   \n",
       "Laura    0 days 00:23:58.078000   \n",
       "All      0 days 00:22:26.232000   \n",
       "Liam     0 days 00:21:11.180000   \n",
       "Marisha  0 days 00:19:54.503000   \n",
       "Matt     0 days 00:18:45.560000   \n",
       "Travis   0 days 00:17:49.397000   \n",
       "Taliesin 0 days 00:14:20.530000   \n",
       "Sam      0 days 00:14:04.728000   \n",
       "Brian    0 days 00:00:20.583000   \n",
       "Dani     0 days 00:00:15.224000   \n",
       "Brittany 0 days 00:00:03.129000   \n",
       "\n",
       "                                              starting_line  \\\n",
       "Ashley    01:01:56.310 01:01:57.430 ASHLEY: Is that what...   \n",
       "Laura     02:07:27.620 02:07:29.902 LAURA: It's the peep...   \n",
       "All                    03:34:05.859 03:34:08.442 (laughter)   \n",
       "Liam               02:07:32.850 02:07:33.683 LIAM: Oh, boy.   \n",
       "Marisha   02:10:52.451 02:10:55.077 MARISHA: Oh, my, it'...   \n",
       "Matt      02:07:33.683 02:08:51.400 MATT: This awesome F...   \n",
       "Travis    02:10:56.144 02:11:01.690 TRAVIS: ♪ Them other...   \n",
       "Taliesin  02:13:56.105 02:13:58.620 TALIESIN: I feel lik...   \n",
       "Sam           02:15:07.556 02:15:08.462 SAM: I'm a fan of--   \n",
       "Brian     02:09:36.361 02:09:38.736 BRIAN: My parents to...   \n",
       "Dani      02:09:14.759 02:09:16.426 DANI: That was adora...   \n",
       "Brittany       02:13:45.173 02:13:46.281 BRITTANY: Get out.   \n",
       "\n",
       "                                                ending_line  \n",
       "Ashley    01:31:19.922 01:31:21.272 ASHLEY: I just thoug...  \n",
       "Laura     02:31:27.980 02:31:28.813 LAURA: Mm.\\nTRAVIS: ...  \n",
       "All                    03:56:34.674 03:56:36.980 (laughter)  \n",
       "Liam      02:28:44.863 02:28:51.087 LIAM: Four days late...  \n",
       "Marisha   02:30:49.580 02:30:54.230 MARISHA: Well.\\nLet'...  \n",
       "Matt      02:27:36.960 02:27:47.610 MATT: Hello, everyon...  \n",
       "Travis            02:28:51.087 02:28:51.920 TRAVIS: (meows)  \n",
       "Taliesin  02:28:19.150 02:28:27.398 TALIESIN: Just for i...  \n",
       "Sam       02:29:13.190 02:29:14.959 SAM: Spent it on Sun...  \n",
       "Brian     02:09:59.319 02:10:00.165 BRIAN: You're the ba...  \n",
       "Dani      02:09:31.650 02:09:34.262 DANI: We can't stop ...  \n",
       "Brittany  02:13:49.410 02:13:50.600 BRITTANY: You guys, ...  "
      ]
     },
     "metadata": {},
     "output_type": "display_data"
    },
    {
     "data": {
      "text/markdown": [
       "# Episode 63 - Intervention"
      ],
      "text/plain": [
       "<IPython.core.display.Markdown object>"
      ]
     },
     "metadata": {},
     "output_type": "display_data"
    },
    {
     "data": {
      "text/html": [
       "<div>\n",
       "<style scoped>\n",
       "    .dataframe tbody tr th:only-of-type {\n",
       "        vertical-align: middle;\n",
       "    }\n",
       "\n",
       "    .dataframe tbody tr th {\n",
       "        vertical-align: top;\n",
       "    }\n",
       "\n",
       "    .dataframe thead th {\n",
       "        text-align: right;\n",
       "    }\n",
       "</style>\n",
       "<table border=\"1\" class=\"dataframe\">\n",
       "  <thead>\n",
       "    <tr style=\"text-align: right;\">\n",
       "      <th></th>\n",
       "      <th>interval</th>\n",
       "      <th>starting_line</th>\n",
       "      <th>ending_line</th>\n",
       "    </tr>\n",
       "  </thead>\n",
       "  <tbody>\n",
       "    <tr>\n",
       "      <th>Liam</th>\n",
       "      <td>0 days 00:26:38.875000</td>\n",
       "      <td>02:05:36.696 02:05:42.232 LIAM: Where's the dr...</td>\n",
       "      <td>02:32:21.107 02:32:27.659 LIAM: Well, I tell t...</td>\n",
       "    </tr>\n",
       "    <tr>\n",
       "      <th>Sam</th>\n",
       "      <td>0 days 00:24:55.959000</td>\n",
       "      <td>02:06:48.687 02:06:50.528 SAM: I don't know wh...</td>\n",
       "      <td>02:31:46.487 02:31:47.578 SAM: Oh god.\\nTALIES...</td>\n",
       "    </tr>\n",
       "    <tr>\n",
       "      <th>Taliesin</th>\n",
       "      <td>0 days 00:24:52.337000</td>\n",
       "      <td>02:06:33.200 02:06:35.415 TALIESIN: Just got t...</td>\n",
       "      <td>02:31:27.752 02:31:28.594 TALIESIN: Cluster fl...</td>\n",
       "    </tr>\n",
       "    <tr>\n",
       "      <th>Travis</th>\n",
       "      <td>0 days 00:24:33.810000</td>\n",
       "      <td>02:07:12.727 02:07:13.768 TRAVIS: S-C-R-Y.</td>\n",
       "      <td>02:31:47.578 02:31:51.527 TRAVIS: Come on, we ...</td>\n",
       "    </tr>\n",
       "    <tr>\n",
       "      <th>All</th>\n",
       "      <td>0 days 00:22:53.149000</td>\n",
       "      <td>03:07:06.445 03:07:09.157 (laughter)</td>\n",
       "      <td>03:30:02.306 03:30:04.730 (yelling)</td>\n",
       "    </tr>\n",
       "    <tr>\n",
       "      <th>Ashley</th>\n",
       "      <td>0 days 00:20:12.346000</td>\n",
       "      <td>00:58:30.687 00:58:32.603 ASHLEY: Yes.\\nMARISH...</td>\n",
       "      <td>01:18:44.949 01:18:45.782 ASHLEY: 23.</td>\n",
       "    </tr>\n",
       "    <tr>\n",
       "      <th>Marisha</th>\n",
       "      <td>0 days 00:17:25.901000</td>\n",
       "      <td>02:14:34.877 02:14:35.981 MARISHA: \"Love you, ...</td>\n",
       "      <td>02:32:01.882 02:32:04.554 MARISHA: It was a ma...</td>\n",
       "    </tr>\n",
       "    <tr>\n",
       "      <th>Laura</th>\n",
       "      <td>0 days 00:15:05.599000</td>\n",
       "      <td>02:16:42.315 02:16:45.928 LAURA: Look at how h...</td>\n",
       "      <td>02:31:51.527 02:31:55.660 LAURA: They're how f...</td>\n",
       "    </tr>\n",
       "    <tr>\n",
       "      <th>Matt</th>\n",
       "      <td>0 days 00:12:37.416000</td>\n",
       "      <td>02:16:52.528 02:18:39.021 MATT: (grunting)\\n\"O...</td>\n",
       "      <td>02:31:16.437 02:31:18.216 MATT: Welcome back.\\...</td>\n",
       "    </tr>\n",
       "    <tr>\n",
       "      <th>Dani</th>\n",
       "      <td>0 days 00:01:42.694000</td>\n",
       "      <td>02:10:31.282 02:10:32.317 DANI: Yes.</td>\n",
       "      <td>02:12:15.011 02:12:16.493 DANI: He's flirted w...</td>\n",
       "    </tr>\n",
       "    <tr>\n",
       "      <th>Brian</th>\n",
       "      <td>0 days 00:01:03.095000</td>\n",
       "      <td>02:10:33.725 02:10:35.828 BRIAN: If you don't,...</td>\n",
       "      <td>02:11:38.923 02:11:42.368 BRIAN: You make your...</td>\n",
       "    </tr>\n",
       "  </tbody>\n",
       "</table>\n",
       "</div>"
      ],
      "text/plain": [
       "                       interval  \\\n",
       "Liam     0 days 00:26:38.875000   \n",
       "Sam      0 days 00:24:55.959000   \n",
       "Taliesin 0 days 00:24:52.337000   \n",
       "Travis   0 days 00:24:33.810000   \n",
       "All      0 days 00:22:53.149000   \n",
       "Ashley   0 days 00:20:12.346000   \n",
       "Marisha  0 days 00:17:25.901000   \n",
       "Laura    0 days 00:15:05.599000   \n",
       "Matt     0 days 00:12:37.416000   \n",
       "Dani     0 days 00:01:42.694000   \n",
       "Brian    0 days 00:01:03.095000   \n",
       "\n",
       "                                              starting_line  \\\n",
       "Liam      02:05:36.696 02:05:42.232 LIAM: Where's the dr...   \n",
       "Sam       02:06:48.687 02:06:50.528 SAM: I don't know wh...   \n",
       "Taliesin  02:06:33.200 02:06:35.415 TALIESIN: Just got t...   \n",
       "Travis           02:07:12.727 02:07:13.768 TRAVIS: S-C-R-Y.   \n",
       "All                    03:07:06.445 03:07:09.157 (laughter)   \n",
       "Ashley    00:58:30.687 00:58:32.603 ASHLEY: Yes.\\nMARISH...   \n",
       "Marisha   02:14:34.877 02:14:35.981 MARISHA: \"Love you, ...   \n",
       "Laura     02:16:42.315 02:16:45.928 LAURA: Look at how h...   \n",
       "Matt      02:16:52.528 02:18:39.021 MATT: (grunting)\\n\"O...   \n",
       "Dani                   02:10:31.282 02:10:32.317 DANI: Yes.   \n",
       "Brian     02:10:33.725 02:10:35.828 BRIAN: If you don't,...   \n",
       "\n",
       "                                                ending_line  \n",
       "Liam      02:32:21.107 02:32:27.659 LIAM: Well, I tell t...  \n",
       "Sam       02:31:46.487 02:31:47.578 SAM: Oh god.\\nTALIES...  \n",
       "Taliesin  02:31:27.752 02:31:28.594 TALIESIN: Cluster fl...  \n",
       "Travis    02:31:47.578 02:31:51.527 TRAVIS: Come on, we ...  \n",
       "All                     03:30:02.306 03:30:04.730 (yelling)  \n",
       "Ashley                01:18:44.949 01:18:45.782 ASHLEY: 23.  \n",
       "Marisha   02:32:01.882 02:32:04.554 MARISHA: It was a ma...  \n",
       "Laura     02:31:51.527 02:31:55.660 LAURA: They're how f...  \n",
       "Matt      02:31:16.437 02:31:18.216 MATT: Welcome back.\\...  \n",
       "Dani      02:12:15.011 02:12:16.493 DANI: He's flirted w...  \n",
       "Brian     02:11:38.923 02:11:42.368 BRIAN: You make your...  "
      ]
     },
     "metadata": {},
     "output_type": "display_data"
    },
    {
     "data": {
      "text/markdown": [
       "# Episode 64 - A Dangerous Chase"
      ],
      "text/plain": [
       "<IPython.core.display.Markdown object>"
      ]
     },
     "metadata": {},
     "output_type": "display_data"
    },
    {
     "name": "stdout",
     "output_type": "stream",
     "text": [
      "Added to cast: Producer\n"
     ]
    },
    {
     "data": {
      "text/html": [
       "<div>\n",
       "<style scoped>\n",
       "    .dataframe tbody tr th:only-of-type {\n",
       "        vertical-align: middle;\n",
       "    }\n",
       "\n",
       "    .dataframe tbody tr th {\n",
       "        vertical-align: top;\n",
       "    }\n",
       "\n",
       "    .dataframe thead th {\n",
       "        text-align: right;\n",
       "    }\n",
       "</style>\n",
       "<table border=\"1\" class=\"dataframe\">\n",
       "  <thead>\n",
       "    <tr style=\"text-align: right;\">\n",
       "      <th></th>\n",
       "      <th>interval</th>\n",
       "      <th>starting_line</th>\n",
       "      <th>ending_line</th>\n",
       "    </tr>\n",
       "  </thead>\n",
       "  <tbody>\n",
       "    <tr>\n",
       "      <th>Mark</th>\n",
       "      <td>0 days 01:27:41.621000</td>\n",
       "      <td>00:06:59.029 00:07:00.474 MARK: Yeah, and it w...</td>\n",
       "      <td>01:34:42.095 01:35:28.727 MARK: Bidet, Critter...</td>\n",
       "    </tr>\n",
       "    <tr>\n",
       "      <th>Ashley</th>\n",
       "      <td>0 days 00:22:22.094000</td>\n",
       "      <td>01:31:17.941 01:31:19.550 ASHLEY: Resistance? ...</td>\n",
       "      <td>01:53:41.644 01:53:44.713 ASHLEY: Um! That's t...</td>\n",
       "    </tr>\n",
       "    <tr>\n",
       "      <th>Taliesin</th>\n",
       "      <td>0 days 00:22:21.464000</td>\n",
       "      <td>01:31:20.626 01:31:23.249 TALIESIN: Just casti...</td>\n",
       "      <td>01:53:44.713 01:53:45.546 TALIESIN: I know.</td>\n",
       "    </tr>\n",
       "    <tr>\n",
       "      <th>Travis</th>\n",
       "      <td>0 days 00:21:01.565000</td>\n",
       "      <td>01:32:50.163 01:32:53.072 TRAVIS: Oh, fucking no!</td>\n",
       "      <td>01:53:54.637 01:53:56.845 TRAVIS: What's the n...</td>\n",
       "    </tr>\n",
       "    <tr>\n",
       "      <th>Laura</th>\n",
       "      <td>0 days 00:20:01.453000</td>\n",
       "      <td>01:33:11.825 01:33:12.658 LAURA: I'm going to ...</td>\n",
       "      <td>01:53:14.111 01:53:15.143 LAURA: -- delivery.</td>\n",
       "    </tr>\n",
       "    <tr>\n",
       "      <th>Marisha</th>\n",
       "      <td>0 days 00:17:45.114000</td>\n",
       "      <td>01:36:15.194 01:36:20.663 MARISHA: That's righ...</td>\n",
       "      <td>01:54:05.777 01:54:09.189 MARISHA: Skingorger,...</td>\n",
       "    </tr>\n",
       "    <tr>\n",
       "      <th>Matt</th>\n",
       "      <td>0 days 00:16:26.893000</td>\n",
       "      <td>01:36:24.052 01:36:36.799 MATT: Love you guys....</td>\n",
       "      <td>01:53:03.692 01:53:14.111 MATT: And welcome ba...</td>\n",
       "    </tr>\n",
       "    <tr>\n",
       "      <th>Sam</th>\n",
       "      <td>0 days 00:13:43.437000</td>\n",
       "      <td>01:40:12.882 01:40:14.700 SAM: I, if that were...</td>\n",
       "      <td>01:53:58.137 01:53:59.273 SAM: Ooh.</td>\n",
       "    </tr>\n",
       "    <tr>\n",
       "      <th>Liam</th>\n",
       "      <td>0 days 00:13:09.983000</td>\n",
       "      <td>01:40:44.123 01:40:49.290 LIAM: I still haven'...</td>\n",
       "      <td>01:53:59.273 01:54:00.106 LIAM: What is it?!</td>\n",
       "    </tr>\n",
       "    <tr>\n",
       "      <th>All</th>\n",
       "      <td>0 days 00:12:47.002000</td>\n",
       "      <td>01:40:49.290 01:40:52.040 [dramatic music]</td>\n",
       "      <td>01:53:39.042 01:53:40.459 ALL: Hmm.</td>\n",
       "    </tr>\n",
       "    <tr>\n",
       "      <th>Dani</th>\n",
       "      <td>0 days 00:00:40.074000</td>\n",
       "      <td>01:38:21.142 01:38:26.964 DANI: Woo, Cosplay o...</td>\n",
       "      <td>01:39:07.038 01:39:08.489 DANI: I love all the...</td>\n",
       "    </tr>\n",
       "    <tr>\n",
       "      <th>Brian</th>\n",
       "      <td>0 days 00:00:25.488000</td>\n",
       "      <td>01:40:14.700 01:40:17.802 BRIAN: Are you willi...</td>\n",
       "      <td>01:40:43.290 01:40:44.123 BRIAN: Wow.</td>\n",
       "    </tr>\n",
       "  </tbody>\n",
       "</table>\n",
       "</div>"
      ],
      "text/plain": [
       "                       interval  \\\n",
       "Mark     0 days 01:27:41.621000   \n",
       "Ashley   0 days 00:22:22.094000   \n",
       "Taliesin 0 days 00:22:21.464000   \n",
       "Travis   0 days 00:21:01.565000   \n",
       "Laura    0 days 00:20:01.453000   \n",
       "Marisha  0 days 00:17:45.114000   \n",
       "Matt     0 days 00:16:26.893000   \n",
       "Sam      0 days 00:13:43.437000   \n",
       "Liam     0 days 00:13:09.983000   \n",
       "All      0 days 00:12:47.002000   \n",
       "Dani     0 days 00:00:40.074000   \n",
       "Brian    0 days 00:00:25.488000   \n",
       "\n",
       "                                              starting_line  \\\n",
       "Mark      00:06:59.029 00:07:00.474 MARK: Yeah, and it w...   \n",
       "Ashley    01:31:17.941 01:31:19.550 ASHLEY: Resistance? ...   \n",
       "Taliesin  01:31:20.626 01:31:23.249 TALIESIN: Just casti...   \n",
       "Travis    01:32:50.163 01:32:53.072 TRAVIS: Oh, fucking no!   \n",
       "Laura     01:33:11.825 01:33:12.658 LAURA: I'm going to ...   \n",
       "Marisha   01:36:15.194 01:36:20.663 MARISHA: That's righ...   \n",
       "Matt      01:36:24.052 01:36:36.799 MATT: Love you guys....   \n",
       "Sam       01:40:12.882 01:40:14.700 SAM: I, if that were...   \n",
       "Liam      01:40:44.123 01:40:49.290 LIAM: I still haven'...   \n",
       "All              01:40:49.290 01:40:52.040 [dramatic music]   \n",
       "Dani      01:38:21.142 01:38:26.964 DANI: Woo, Cosplay o...   \n",
       "Brian     01:40:14.700 01:40:17.802 BRIAN: Are you willi...   \n",
       "\n",
       "                                                ending_line  \n",
       "Mark      01:34:42.095 01:35:28.727 MARK: Bidet, Critter...  \n",
       "Ashley    01:53:41.644 01:53:44.713 ASHLEY: Um! That's t...  \n",
       "Taliesin        01:53:44.713 01:53:45.546 TALIESIN: I know.  \n",
       "Travis    01:53:54.637 01:53:56.845 TRAVIS: What's the n...  \n",
       "Laura         01:53:14.111 01:53:15.143 LAURA: -- delivery.  \n",
       "Marisha   01:54:05.777 01:54:09.189 MARISHA: Skingorger,...  \n",
       "Matt      01:53:03.692 01:53:14.111 MATT: And welcome ba...  \n",
       "Sam                     01:53:58.137 01:53:59.273 SAM: Ooh.  \n",
       "Liam           01:53:59.273 01:54:00.106 LIAM: What is it?!  \n",
       "All                     01:53:39.042 01:53:40.459 ALL: Hmm.  \n",
       "Dani      01:39:07.038 01:39:08.489 DANI: I love all the...  \n",
       "Brian                 01:40:43.290 01:40:44.123 BRIAN: Wow.  "
      ]
     },
     "metadata": {},
     "output_type": "display_data"
    },
    {
     "data": {
      "text/markdown": [
       "# Episode 65 - Chases and Trees"
      ],
      "text/plain": [
       "<IPython.core.display.Markdown object>"
      ]
     },
     "metadata": {},
     "output_type": "display_data"
    },
    {
     "name": "stdout",
     "output_type": "stream",
     "text": [
      "Added to cast: Offscreen\n"
     ]
    },
    {
     "data": {
      "text/html": [
       "<div>\n",
       "<style scoped>\n",
       "    .dataframe tbody tr th:only-of-type {\n",
       "        vertical-align: middle;\n",
       "    }\n",
       "\n",
       "    .dataframe tbody tr th {\n",
       "        vertical-align: top;\n",
       "    }\n",
       "\n",
       "    .dataframe thead th {\n",
       "        text-align: right;\n",
       "    }\n",
       "</style>\n",
       "<table border=\"1\" class=\"dataframe\">\n",
       "  <thead>\n",
       "    <tr style=\"text-align: right;\">\n",
       "      <th></th>\n",
       "      <th>interval</th>\n",
       "      <th>starting_line</th>\n",
       "      <th>ending_line</th>\n",
       "    </tr>\n",
       "  </thead>\n",
       "  <tbody>\n",
       "    <tr>\n",
       "      <th>Mark</th>\n",
       "      <td>0 days 01:53:49.352000</td>\n",
       "      <td>00:10:44.145 00:10:46.728 MARK: Ah, ah, ah, I ...</td>\n",
       "      <td>02:04:36.080 02:05:37.055 MARK: Bidet, Critter...</td>\n",
       "    </tr>\n",
       "    <tr>\n",
       "      <th>Laura</th>\n",
       "      <td>0 days 00:27:12.094000</td>\n",
       "      <td>02:01:21.085 02:01:22.502 LAURA: Turn invisible.</td>\n",
       "      <td>02:28:34.596 02:28:35.839 LAURA: We won't use ...</td>\n",
       "    </tr>\n",
       "    <tr>\n",
       "      <th>Marisha</th>\n",
       "      <td>0 days 00:26:48.484000</td>\n",
       "      <td>02:01:33.925 02:01:36.468 MARISHA: I'll meet y...</td>\n",
       "      <td>02:28:24.952 02:28:28.789 MARISHA: This shit i...</td>\n",
       "    </tr>\n",
       "    <tr>\n",
       "      <th>Sam</th>\n",
       "      <td>0 days 00:24:14.148000</td>\n",
       "      <td>02:02:48.537 02:03:36.420 SAM: ♪ Danger zone. ...</td>\n",
       "      <td>02:27:50.568 02:28:17.200 SAM: Also, Matt befo...</td>\n",
       "    </tr>\n",
       "    <tr>\n",
       "      <th>Ashley</th>\n",
       "      <td>0 days 00:24:02.933000</td>\n",
       "      <td>02:04:27.380 02:04:28.225 ASHLEY: Yeah.</td>\n",
       "      <td>02:28:31.158 02:28:33.325 ASHLEY: I'm going to...</td>\n",
       "    </tr>\n",
       "    <tr>\n",
       "      <th>Liam</th>\n",
       "      <td>0 days 00:20:11.081000</td>\n",
       "      <td>02:57:08.079 02:57:12.355 LIAM: It eventually ...</td>\n",
       "      <td>03:17:23.436 03:17:24.511 LIAM: Maybe it's a g...</td>\n",
       "    </tr>\n",
       "    <tr>\n",
       "      <th>Taliesin</th>\n",
       "      <td>0 days 00:19:43.332000</td>\n",
       "      <td>02:51:07.528 02:51:12.091 TALIESIN: I mean tha...</td>\n",
       "      <td>03:10:55.423 03:10:57.911 TALIESIN: Oh yeah, n...</td>\n",
       "    </tr>\n",
       "    <tr>\n",
       "      <th>Travis</th>\n",
       "      <td>0 days 00:19:29.777000</td>\n",
       "      <td>02:09:19.016 02:09:22.661 TRAVIS: What is this...</td>\n",
       "      <td>02:28:52.438 02:28:54.538 TRAVIS: That is so u...</td>\n",
       "    </tr>\n",
       "    <tr>\n",
       "      <th>All</th>\n",
       "      <td>0 days 00:16:03.394000</td>\n",
       "      <td>00:28:40.705 00:28:43.480 (laughter)</td>\n",
       "      <td>00:44:46.874 00:44:48.107 (impact)</td>\n",
       "    </tr>\n",
       "    <tr>\n",
       "      <th>Matt</th>\n",
       "      <td>0 days 00:13:23.859000</td>\n",
       "      <td>02:14:05.924 02:14:06.757 MATT: Nice.\\nTALIESI...</td>\n",
       "      <td>02:27:30.616 02:27:33.976 MATT: And welcome ba...</td>\n",
       "    </tr>\n",
       "    <tr>\n",
       "      <th>Dani</th>\n",
       "      <td>0 days 00:01:22.173000</td>\n",
       "      <td>02:11:51.935 02:11:53.510 DANI: Beautiful.</td>\n",
       "      <td>02:13:15.683 02:13:21.953 DANI: Yeah, fan art ...</td>\n",
       "    </tr>\n",
       "    <tr>\n",
       "      <th>Brian</th>\n",
       "      <td>0 days 00:01:14.792000</td>\n",
       "      <td>02:04:26.060 02:04:27.380 BRIAN: Those are the...</td>\n",
       "      <td>02:05:42.172 02:05:45.169 BRIAN: It's our litt...</td>\n",
       "    </tr>\n",
       "    <tr>\n",
       "      <th>Jerry</th>\n",
       "      <td>0 days 00:00:01.279000</td>\n",
       "      <td>02:07:51.645 02:07:52.478 JERRY: Down.</td>\n",
       "      <td>02:07:53.757 02:07:54.590 JERRY: Press X.</td>\n",
       "    </tr>\n",
       "  </tbody>\n",
       "</table>\n",
       "</div>"
      ],
      "text/plain": [
       "                       interval  \\\n",
       "Mark     0 days 01:53:49.352000   \n",
       "Laura    0 days 00:27:12.094000   \n",
       "Marisha  0 days 00:26:48.484000   \n",
       "Sam      0 days 00:24:14.148000   \n",
       "Ashley   0 days 00:24:02.933000   \n",
       "Liam     0 days 00:20:11.081000   \n",
       "Taliesin 0 days 00:19:43.332000   \n",
       "Travis   0 days 00:19:29.777000   \n",
       "All      0 days 00:16:03.394000   \n",
       "Matt     0 days 00:13:23.859000   \n",
       "Dani     0 days 00:01:22.173000   \n",
       "Brian    0 days 00:01:14.792000   \n",
       "Jerry    0 days 00:00:01.279000   \n",
       "\n",
       "                                              starting_line  \\\n",
       "Mark      00:10:44.145 00:10:46.728 MARK: Ah, ah, ah, I ...   \n",
       "Laura      02:01:21.085 02:01:22.502 LAURA: Turn invisible.   \n",
       "Marisha   02:01:33.925 02:01:36.468 MARISHA: I'll meet y...   \n",
       "Sam       02:02:48.537 02:03:36.420 SAM: ♪ Danger zone. ...   \n",
       "Ashley              02:04:27.380 02:04:28.225 ASHLEY: Yeah.   \n",
       "Liam      02:57:08.079 02:57:12.355 LIAM: It eventually ...   \n",
       "Taliesin  02:51:07.528 02:51:12.091 TALIESIN: I mean tha...   \n",
       "Travis    02:09:19.016 02:09:22.661 TRAVIS: What is this...   \n",
       "All                    00:28:40.705 00:28:43.480 (laughter)   \n",
       "Matt      02:14:05.924 02:14:06.757 MATT: Nice.\\nTALIESI...   \n",
       "Dani             02:11:51.935 02:11:53.510 DANI: Beautiful.   \n",
       "Brian     02:04:26.060 02:04:27.380 BRIAN: Those are the...   \n",
       "Jerry                02:07:51.645 02:07:52.478 JERRY: Down.   \n",
       "\n",
       "                                                ending_line  \n",
       "Mark      02:04:36.080 02:05:37.055 MARK: Bidet, Critter...  \n",
       "Laura     02:28:34.596 02:28:35.839 LAURA: We won't use ...  \n",
       "Marisha   02:28:24.952 02:28:28.789 MARISHA: This shit i...  \n",
       "Sam       02:27:50.568 02:28:17.200 SAM: Also, Matt befo...  \n",
       "Ashley    02:28:31.158 02:28:33.325 ASHLEY: I'm going to...  \n",
       "Liam      03:17:23.436 03:17:24.511 LIAM: Maybe it's a g...  \n",
       "Taliesin  03:10:55.423 03:10:57.911 TALIESIN: Oh yeah, n...  \n",
       "Travis    02:28:52.438 02:28:54.538 TRAVIS: That is so u...  \n",
       "All                      00:44:46.874 00:44:48.107 (impact)  \n",
       "Matt      02:27:30.616 02:27:33.976 MATT: And welcome ba...  \n",
       "Dani      02:13:15.683 02:13:21.953 DANI: Yeah, fan art ...  \n",
       "Brian     02:05:42.172 02:05:45.169 BRIAN: It's our litt...  \n",
       "Jerry             02:07:53.757 02:07:54.590 JERRY: Press X.  "
      ]
     },
     "metadata": {},
     "output_type": "display_data"
    },
    {
     "data": {
      "text/markdown": [
       "# Episode 66 - Beneath Bazzoxan"
      ],
      "text/plain": [
       "<IPython.core.display.Markdown object>"
      ]
     },
     "metadata": {},
     "output_type": "display_data"
    },
    {
     "name": "stdout",
     "output_type": "stream",
     "text": [
      "Added to cast: Christina\n"
     ]
    },
    {
     "data": {
      "text/html": [
       "<div>\n",
       "<style scoped>\n",
       "    .dataframe tbody tr th:only-of-type {\n",
       "        vertical-align: middle;\n",
       "    }\n",
       "\n",
       "    .dataframe tbody tr th {\n",
       "        vertical-align: top;\n",
       "    }\n",
       "\n",
       "    .dataframe thead th {\n",
       "        text-align: right;\n",
       "    }\n",
       "</style>\n",
       "<table border=\"1\" class=\"dataframe\">\n",
       "  <thead>\n",
       "    <tr style=\"text-align: right;\">\n",
       "      <th></th>\n",
       "      <th>interval</th>\n",
       "      <th>starting_line</th>\n",
       "      <th>ending_line</th>\n",
       "    </tr>\n",
       "  </thead>\n",
       "  <tbody>\n",
       "    <tr>\n",
       "      <th>Ashley</th>\n",
       "      <td>0 days 00:32:12.085000</td>\n",
       "      <td>02:05:50.820 02:05:52.720 ASHLEY: Yeah, it's g...</td>\n",
       "      <td>02:38:04.805 02:38:07.420 ASHLEY: Yeah, that c...</td>\n",
       "    </tr>\n",
       "    <tr>\n",
       "      <th>Laura</th>\n",
       "      <td>0 days 00:29:41.343000</td>\n",
       "      <td>01:35:04.050 01:35:05.397 LAURA: Travis, where...</td>\n",
       "      <td>02:04:46.740 02:04:51.156 LAURA: I mean, he mi...</td>\n",
       "    </tr>\n",
       "    <tr>\n",
       "      <th>Marisha</th>\n",
       "      <td>0 days 00:23:41.944000</td>\n",
       "      <td>02:08:00.564 02:08:03.970 MARISHA: Yeah.\\nTher...</td>\n",
       "      <td>02:31:45.914 02:31:49.770 MARISHA: Oh. (grunts)</td>\n",
       "    </tr>\n",
       "    <tr>\n",
       "      <th>Sam</th>\n",
       "      <td>0 days 00:22:39.852000</td>\n",
       "      <td>01:36:17.466 01:36:18.540 SAM: Awesome.</td>\n",
       "      <td>01:58:58.392 01:58:59.452 SAM: This since Dyna...</td>\n",
       "    </tr>\n",
       "    <tr>\n",
       "      <th>Taliesin</th>\n",
       "      <td>0 days 00:22:16.281000</td>\n",
       "      <td>01:35:56.380 01:36:06.909 TALIESIN: My spire s...</td>\n",
       "      <td>01:58:23.190 01:58:25.800 TALIESIN: You cover ...</td>\n",
       "    </tr>\n",
       "    <tr>\n",
       "      <th>Matt</th>\n",
       "      <td>0 days 00:21:36.756000</td>\n",
       "      <td>01:36:19.715 01:36:27.004 MATT: We want it onl...</td>\n",
       "      <td>01:58:03.760 01:58:23.190 MATT: Welcome back.\\...</td>\n",
       "    </tr>\n",
       "    <tr>\n",
       "      <th>All</th>\n",
       "      <td>0 days 00:20:11.331000</td>\n",
       "      <td>01:45:19.461 01:45:22.211 (dramatic music)</td>\n",
       "      <td>02:05:33.542 02:05:35.841 (laughter)</td>\n",
       "    </tr>\n",
       "    <tr>\n",
       "      <th>Travis</th>\n",
       "      <td>0 days 00:16:40.526000</td>\n",
       "      <td>01:42:16.068 01:42:27.450 TRAVIS: It's chilly ...</td>\n",
       "      <td>01:59:07.976 01:59:19.548 TRAVIS: (sighs) Do I...</td>\n",
       "    </tr>\n",
       "    <tr>\n",
       "      <th>Liam</th>\n",
       "      <td>0 days 00:13:59.779000</td>\n",
       "      <td>02:41:19.190 02:41:22.228 LIAM: She's getting ...</td>\n",
       "      <td>02:55:22.007 02:55:23.290 LIAM: (whistling) So...</td>\n",
       "    </tr>\n",
       "    <tr>\n",
       "      <th>Mark</th>\n",
       "      <td>0 days 00:01:19.556000</td>\n",
       "      <td>00:03:52.792 00:03:59.297 MARK: Well, after yo...</td>\n",
       "      <td>00:05:18.853 00:05:22.186 MARK: Uh, uh, uh. I ...</td>\n",
       "    </tr>\n",
       "    <tr>\n",
       "      <th>Dani</th>\n",
       "      <td>0 days 00:01:14.449000</td>\n",
       "      <td>01:37:21.970 01:38:04.021 DANI: Hey, Christina...</td>\n",
       "      <td>01:39:18.470 01:39:20.280 DANI: It was such a ...</td>\n",
       "    </tr>\n",
       "    <tr>\n",
       "      <th>Brian</th>\n",
       "      <td>0 days 00:00:28.510000</td>\n",
       "      <td>01:42:48.560 01:42:49.610 BRIAN: Your mom stil...</td>\n",
       "      <td>01:43:18.120 01:43:19.015 BRIAN: Those are the...</td>\n",
       "    </tr>\n",
       "  </tbody>\n",
       "</table>\n",
       "</div>"
      ],
      "text/plain": [
       "                       interval  \\\n",
       "Ashley   0 days 00:32:12.085000   \n",
       "Laura    0 days 00:29:41.343000   \n",
       "Marisha  0 days 00:23:41.944000   \n",
       "Sam      0 days 00:22:39.852000   \n",
       "Taliesin 0 days 00:22:16.281000   \n",
       "Matt     0 days 00:21:36.756000   \n",
       "All      0 days 00:20:11.331000   \n",
       "Travis   0 days 00:16:40.526000   \n",
       "Liam     0 days 00:13:59.779000   \n",
       "Mark     0 days 00:01:19.556000   \n",
       "Dani     0 days 00:01:14.449000   \n",
       "Brian    0 days 00:00:28.510000   \n",
       "\n",
       "                                              starting_line  \\\n",
       "Ashley    02:05:50.820 02:05:52.720 ASHLEY: Yeah, it's g...   \n",
       "Laura     01:35:04.050 01:35:05.397 LAURA: Travis, where...   \n",
       "Marisha   02:08:00.564 02:08:03.970 MARISHA: Yeah.\\nTher...   \n",
       "Sam                 01:36:17.466 01:36:18.540 SAM: Awesome.   \n",
       "Taliesin  01:35:56.380 01:36:06.909 TALIESIN: My spire s...   \n",
       "Matt      01:36:19.715 01:36:27.004 MATT: We want it onl...   \n",
       "All              01:45:19.461 01:45:22.211 (dramatic music)   \n",
       "Travis    01:42:16.068 01:42:27.450 TRAVIS: It's chilly ...   \n",
       "Liam      02:41:19.190 02:41:22.228 LIAM: She's getting ...   \n",
       "Mark      00:03:52.792 00:03:59.297 MARK: Well, after yo...   \n",
       "Dani      01:37:21.970 01:38:04.021 DANI: Hey, Christina...   \n",
       "Brian     01:42:48.560 01:42:49.610 BRIAN: Your mom stil...   \n",
       "\n",
       "                                                ending_line  \n",
       "Ashley    02:38:04.805 02:38:07.420 ASHLEY: Yeah, that c...  \n",
       "Laura     02:04:46.740 02:04:51.156 LAURA: I mean, he mi...  \n",
       "Marisha     02:31:45.914 02:31:49.770 MARISHA: Oh. (grunts)  \n",
       "Sam       01:58:58.392 01:58:59.452 SAM: This since Dyna...  \n",
       "Taliesin  01:58:23.190 01:58:25.800 TALIESIN: You cover ...  \n",
       "Matt      01:58:03.760 01:58:23.190 MATT: Welcome back.\\...  \n",
       "All                    02:05:33.542 02:05:35.841 (laughter)  \n",
       "Travis    01:59:07.976 01:59:19.548 TRAVIS: (sighs) Do I...  \n",
       "Liam      02:55:22.007 02:55:23.290 LIAM: (whistling) So...  \n",
       "Mark      00:05:18.853 00:05:22.186 MARK: Uh, uh, uh. I ...  \n",
       "Dani      01:39:18.470 01:39:20.280 DANI: It was such a ...  \n",
       "Brian     01:43:18.120 01:43:19.015 BRIAN: Those are the...  "
      ]
     },
     "metadata": {},
     "output_type": "display_data"
    },
    {
     "data": {
      "text/markdown": [
       "# Episode 67 - Beyond the Eyes of Angels"
      ],
      "text/plain": [
       "<IPython.core.display.Markdown object>"
      ]
     },
     "metadata": {},
     "output_type": "display_data"
    },
    {
     "data": {
      "text/html": [
       "<div>\n",
       "<style scoped>\n",
       "    .dataframe tbody tr th:only-of-type {\n",
       "        vertical-align: middle;\n",
       "    }\n",
       "\n",
       "    .dataframe tbody tr th {\n",
       "        vertical-align: top;\n",
       "    }\n",
       "\n",
       "    .dataframe thead th {\n",
       "        text-align: right;\n",
       "    }\n",
       "</style>\n",
       "<table border=\"1\" class=\"dataframe\">\n",
       "  <thead>\n",
       "    <tr style=\"text-align: right;\">\n",
       "      <th></th>\n",
       "      <th>interval</th>\n",
       "      <th>starting_line</th>\n",
       "      <th>ending_line</th>\n",
       "    </tr>\n",
       "  </thead>\n",
       "  <tbody>\n",
       "    <tr>\n",
       "      <th>Marisha</th>\n",
       "      <td>0 days 00:31:19.154000</td>\n",
       "      <td>02:30:27.959 02:30:31.694 MARISHA: Okay.\\nI ju...</td>\n",
       "      <td>03:01:50.848 03:01:54.222 MARISHA: Honey Heist...</td>\n",
       "    </tr>\n",
       "    <tr>\n",
       "      <th>Laura</th>\n",
       "      <td>0 days 00:27:37.847000</td>\n",
       "      <td>02:35:05.523 02:35:07.080 LAURA: I guess I wil...</td>\n",
       "      <td>03:02:44.927 03:02:46.335 LAURA: Isildur.</td>\n",
       "    </tr>\n",
       "    <tr>\n",
       "      <th>Ashley</th>\n",
       "      <td>0 days 00:26:41.192000</td>\n",
       "      <td>02:36:09.130 02:36:15.455 ASHLEY: So cool.\\nSA...</td>\n",
       "      <td>03:02:56.647 03:02:57.894 ASHLEY: Isildur.</td>\n",
       "    </tr>\n",
       "    <tr>\n",
       "      <th>All</th>\n",
       "      <td>0 days 00:24:20.298000</td>\n",
       "      <td>02:08:24.913 02:08:27.754 (mutters)</td>\n",
       "      <td>02:32:48.052 02:32:49.550 (laughs)</td>\n",
       "    </tr>\n",
       "    <tr>\n",
       "      <th>Matt</th>\n",
       "      <td>0 days 00:24:17.002000</td>\n",
       "      <td>02:36:15.455 02:37:12.571 MATT: Not that far o...</td>\n",
       "      <td>03:01:29.573 03:01:38.435 MATT: Welcome back, ...</td>\n",
       "    </tr>\n",
       "    <tr>\n",
       "      <th>Travis</th>\n",
       "      <td>0 days 00:22:22.552000</td>\n",
       "      <td>02:40:26.980 02:40:28.230 TRAVIS: Nobody cares.</td>\n",
       "      <td>03:02:50.782 03:02:51.615 TRAVIS: Got to give ...</td>\n",
       "    </tr>\n",
       "    <tr>\n",
       "      <th>Sam</th>\n",
       "      <td>0 days 00:19:38.233000</td>\n",
       "      <td>02:45:48.594 02:45:59.675 SAM: Yes.\\nBRIAN: Oh...</td>\n",
       "      <td>03:05:37.908 03:05:42.759 SAM: They're are und...</td>\n",
       "    </tr>\n",
       "    <tr>\n",
       "      <th>Taliesin</th>\n",
       "      <td>0 days 00:16:32.385000</td>\n",
       "      <td>02:46:02.975 02:48:09.276 TALIESIN: Like a sym...</td>\n",
       "      <td>03:04:41.661 03:04:50.411 TALIESIN: I'm alread...</td>\n",
       "    </tr>\n",
       "    <tr>\n",
       "      <th>Liam</th>\n",
       "      <td>0 days 00:16:25.687000</td>\n",
       "      <td>02:45:19.709 02:45:22.042 LIAM: You've never p...</td>\n",
       "      <td>03:01:47.729 03:01:49.762 LIAM: (small creatur...</td>\n",
       "    </tr>\n",
       "    <tr>\n",
       "      <th>Max</th>\n",
       "      <td>0 days 00:04:22.688000</td>\n",
       "      <td>02:39:56.064 02:39:59.377 MAX: Nope.\\nTRAVIS: ...</td>\n",
       "      <td>02:44:22.065 02:44:23.966 MAX: Thanks for the ...</td>\n",
       "    </tr>\n",
       "    <tr>\n",
       "      <th>Dani</th>\n",
       "      <td>0 days 00:01:48.536000</td>\n",
       "      <td>02:42:46.829 02:42:48.527 DANI: Yes!\\nBRIAN: Wow.</td>\n",
       "      <td>02:44:37.063 02:44:48.818 DANI: It's so good!\\...</td>\n",
       "    </tr>\n",
       "    <tr>\n",
       "      <th>Brian</th>\n",
       "      <td>0 days 00:00:52.198000</td>\n",
       "      <td>02:42:38.724 02:42:42.483 BRIAN: A gelatinous ...</td>\n",
       "      <td>02:43:34.681 02:43:38.381 BRIAN: Oh, maybe it ...</td>\n",
       "    </tr>\n",
       "  </tbody>\n",
       "</table>\n",
       "</div>"
      ],
      "text/plain": [
       "                       interval  \\\n",
       "Marisha  0 days 00:31:19.154000   \n",
       "Laura    0 days 00:27:37.847000   \n",
       "Ashley   0 days 00:26:41.192000   \n",
       "All      0 days 00:24:20.298000   \n",
       "Matt     0 days 00:24:17.002000   \n",
       "Travis   0 days 00:22:22.552000   \n",
       "Sam      0 days 00:19:38.233000   \n",
       "Taliesin 0 days 00:16:32.385000   \n",
       "Liam     0 days 00:16:25.687000   \n",
       "Max      0 days 00:04:22.688000   \n",
       "Dani     0 days 00:01:48.536000   \n",
       "Brian    0 days 00:00:52.198000   \n",
       "\n",
       "                                              starting_line  \\\n",
       "Marisha   02:30:27.959 02:30:31.694 MARISHA: Okay.\\nI ju...   \n",
       "Laura     02:35:05.523 02:35:07.080 LAURA: I guess I wil...   \n",
       "Ashley    02:36:09.130 02:36:15.455 ASHLEY: So cool.\\nSA...   \n",
       "All                     02:08:24.913 02:08:27.754 (mutters)   \n",
       "Matt      02:36:15.455 02:37:12.571 MATT: Not that far o...   \n",
       "Travis      02:40:26.980 02:40:28.230 TRAVIS: Nobody cares.   \n",
       "Sam       02:45:48.594 02:45:59.675 SAM: Yes.\\nBRIAN: Oh...   \n",
       "Taliesin  02:46:02.975 02:48:09.276 TALIESIN: Like a sym...   \n",
       "Liam      02:45:19.709 02:45:22.042 LIAM: You've never p...   \n",
       "Max       02:39:56.064 02:39:59.377 MAX: Nope.\\nTRAVIS: ...   \n",
       "Dani      02:42:46.829 02:42:48.527 DANI: Yes!\\nBRIAN: Wow.   \n",
       "Brian     02:42:38.724 02:42:42.483 BRIAN: A gelatinous ...   \n",
       "\n",
       "                                                ending_line  \n",
       "Marisha   03:01:50.848 03:01:54.222 MARISHA: Honey Heist...  \n",
       "Laura             03:02:44.927 03:02:46.335 LAURA: Isildur.  \n",
       "Ashley           03:02:56.647 03:02:57.894 ASHLEY: Isildur.  \n",
       "All                      02:32:48.052 02:32:49.550 (laughs)  \n",
       "Matt      03:01:29.573 03:01:38.435 MATT: Welcome back, ...  \n",
       "Travis    03:02:50.782 03:02:51.615 TRAVIS: Got to give ...  \n",
       "Sam       03:05:37.908 03:05:42.759 SAM: They're are und...  \n",
       "Taliesin  03:04:41.661 03:04:50.411 TALIESIN: I'm alread...  \n",
       "Liam      03:01:47.729 03:01:49.762 LIAM: (small creatur...  \n",
       "Max       02:44:22.065 02:44:23.966 MAX: Thanks for the ...  \n",
       "Dani      02:44:37.063 02:44:48.818 DANI: It's so good!\\...  \n",
       "Brian     02:43:34.681 02:43:38.381 BRIAN: Oh, maybe it ...  "
      ]
     },
     "metadata": {},
     "output_type": "display_data"
    },
    {
     "data": {
      "text/markdown": [
       "# Episode 68 - Reflections"
      ],
      "text/plain": [
       "<IPython.core.display.Markdown object>"
      ]
     },
     "metadata": {},
     "output_type": "display_data"
    },
    {
     "name": "stdout",
     "output_type": "stream",
     "text": [
      "Added to cast: Erica\n"
     ]
    },
    {
     "data": {
      "text/html": [
       "<div>\n",
       "<style scoped>\n",
       "    .dataframe tbody tr th:only-of-type {\n",
       "        vertical-align: middle;\n",
       "    }\n",
       "\n",
       "    .dataframe tbody tr th {\n",
       "        vertical-align: top;\n",
       "    }\n",
       "\n",
       "    .dataframe thead th {\n",
       "        text-align: right;\n",
       "    }\n",
       "</style>\n",
       "<table border=\"1\" class=\"dataframe\">\n",
       "  <thead>\n",
       "    <tr style=\"text-align: right;\">\n",
       "      <th></th>\n",
       "      <th>interval</th>\n",
       "      <th>starting_line</th>\n",
       "      <th>ending_line</th>\n",
       "    </tr>\n",
       "  </thead>\n",
       "  <tbody>\n",
       "    <tr>\n",
       "      <th>Ashley</th>\n",
       "      <td>0 days 00:31:55.164000</td>\n",
       "      <td>01:51:52.394 01:51:54.818 ASHLEY: Good grief.\\...</td>\n",
       "      <td>02:23:49.982 02:23:52.455 ASHLEY: What's the f...</td>\n",
       "    </tr>\n",
       "    <tr>\n",
       "      <th>Liam</th>\n",
       "      <td>0 days 00:29:22.405000</td>\n",
       "      <td>01:54:15.032 01:54:23.037 LIAM: Yeah, yeah yea...</td>\n",
       "      <td>02:23:45.442 02:23:48.282 LIAM: Happy channel-...</td>\n",
       "    </tr>\n",
       "    <tr>\n",
       "      <th>Sam</th>\n",
       "      <td>0 days 00:28:53.068000</td>\n",
       "      <td>01:55:01.230 01:55:02.183 SAM: Struggling.</td>\n",
       "      <td>02:23:55.251 02:23:58.342 SAM: Yep.\\nI got you...</td>\n",
       "    </tr>\n",
       "    <tr>\n",
       "      <th>Travis</th>\n",
       "      <td>0 days 00:21:45.200000</td>\n",
       "      <td>02:01:53.519 02:02:03.082 TRAVIS: And all of t...</td>\n",
       "      <td>02:23:48.282 02:23:49.982 TRAVIS: Love you, La...</td>\n",
       "    </tr>\n",
       "    <tr>\n",
       "      <th>Matt</th>\n",
       "      <td>0 days 00:19:41.723000</td>\n",
       "      <td>02:02:36.866 02:03:44.115 MATT: Wait, Max is B...</td>\n",
       "      <td>02:23:25.838 02:23:27.313 MATT: And welcome ba...</td>\n",
       "    </tr>\n",
       "    <tr>\n",
       "      <th>All</th>\n",
       "      <td>0 days 00:19:01.481000</td>\n",
       "      <td>02:30:22.855 02:30:25.105 (laughter)</td>\n",
       "      <td>02:49:26.586 02:49:28.127 (screaming)</td>\n",
       "    </tr>\n",
       "    <tr>\n",
       "      <th>Taliesin</th>\n",
       "      <td>0 days 00:17:32.933000</td>\n",
       "      <td>02:06:16.638 02:06:21.329 TALIESIN: I know, it...</td>\n",
       "      <td>02:23:54.262 02:23:55.251 TALIESIN: Is it paper?</td>\n",
       "    </tr>\n",
       "    <tr>\n",
       "      <th>Marisha</th>\n",
       "      <td>0 days 00:13:57.467000</td>\n",
       "      <td>02:09:44.675 02:09:46.334 MARISHA: That's just...</td>\n",
       "      <td>02:23:43.801 02:23:45.442 MARISHA: Happy chann...</td>\n",
       "    </tr>\n",
       "    <tr>\n",
       "      <th>Dani</th>\n",
       "      <td>0 days 00:11:05.056000</td>\n",
       "      <td>01:57:53.455 01:57:56.530 DANI: Marisha, we're...</td>\n",
       "      <td>02:09:01.586 02:09:02.849 DANI: Not a lot of s...</td>\n",
       "    </tr>\n",
       "    <tr>\n",
       "      <th>Brian</th>\n",
       "      <td>0 days 00:00:56.131000</td>\n",
       "      <td>02:06:21.329 02:06:30.637 BRIAN: Beau just gav...</td>\n",
       "      <td>02:07:26.768 02:07:28.369 BRIAN: Laura--\\nDANI...</td>\n",
       "    </tr>\n",
       "    <tr>\n",
       "      <th>Laura</th>\n",
       "      <td>0 days 00:00:16.634000</td>\n",
       "      <td>02:08:55.464 02:08:56.297 LAURA: Yeah.</td>\n",
       "      <td>02:09:12.931 02:09:15.613 LAURA: Yeah.\\nThis i...</td>\n",
       "    </tr>\n",
       "    <tr>\n",
       "      <th>Erica</th>\n",
       "      <td>0 days 00:00:11.993000</td>\n",
       "      <td>02:05:22.130 02:05:22.963 ERICA: No!</td>\n",
       "      <td>02:05:34.956 02:05:37.872 ERICA: Aw.\\nTALIESIN...</td>\n",
       "    </tr>\n",
       "  </tbody>\n",
       "</table>\n",
       "</div>"
      ],
      "text/plain": [
       "                       interval  \\\n",
       "Ashley   0 days 00:31:55.164000   \n",
       "Liam     0 days 00:29:22.405000   \n",
       "Sam      0 days 00:28:53.068000   \n",
       "Travis   0 days 00:21:45.200000   \n",
       "Matt     0 days 00:19:41.723000   \n",
       "All      0 days 00:19:01.481000   \n",
       "Taliesin 0 days 00:17:32.933000   \n",
       "Marisha  0 days 00:13:57.467000   \n",
       "Dani     0 days 00:11:05.056000   \n",
       "Brian    0 days 00:00:56.131000   \n",
       "Laura    0 days 00:00:16.634000   \n",
       "Erica    0 days 00:00:11.993000   \n",
       "\n",
       "                                              starting_line  \\\n",
       "Ashley    01:51:52.394 01:51:54.818 ASHLEY: Good grief.\\...   \n",
       "Liam      01:54:15.032 01:54:23.037 LIAM: Yeah, yeah yea...   \n",
       "Sam              01:55:01.230 01:55:02.183 SAM: Struggling.   \n",
       "Travis    02:01:53.519 02:02:03.082 TRAVIS: And all of t...   \n",
       "Matt      02:02:36.866 02:03:44.115 MATT: Wait, Max is B...   \n",
       "All                    02:30:22.855 02:30:25.105 (laughter)   \n",
       "Taliesin  02:06:16.638 02:06:21.329 TALIESIN: I know, it...   \n",
       "Marisha   02:09:44.675 02:09:46.334 MARISHA: That's just...   \n",
       "Dani      01:57:53.455 01:57:56.530 DANI: Marisha, we're...   \n",
       "Brian     02:06:21.329 02:06:30.637 BRIAN: Beau just gav...   \n",
       "Laura                02:08:55.464 02:08:56.297 LAURA: Yeah.   \n",
       "Erica                  02:05:22.130 02:05:22.963 ERICA: No!   \n",
       "\n",
       "                                                ending_line  \n",
       "Ashley    02:23:49.982 02:23:52.455 ASHLEY: What's the f...  \n",
       "Liam      02:23:45.442 02:23:48.282 LIAM: Happy channel-...  \n",
       "Sam       02:23:55.251 02:23:58.342 SAM: Yep.\\nI got you...  \n",
       "Travis    02:23:48.282 02:23:49.982 TRAVIS: Love you, La...  \n",
       "Matt      02:23:25.838 02:23:27.313 MATT: And welcome ba...  \n",
       "All                   02:49:26.586 02:49:28.127 (screaming)  \n",
       "Taliesin   02:23:54.262 02:23:55.251 TALIESIN: Is it paper?  \n",
       "Marisha   02:23:43.801 02:23:45.442 MARISHA: Happy chann...  \n",
       "Dani      02:09:01.586 02:09:02.849 DANI: Not a lot of s...  \n",
       "Brian     02:07:26.768 02:07:28.369 BRIAN: Laura--\\nDANI...  \n",
       "Laura     02:09:12.931 02:09:15.613 LAURA: Yeah.\\nThis i...  \n",
       "Erica     02:05:34.956 02:05:37.872 ERICA: Aw.\\nTALIESIN...  "
      ]
     },
     "metadata": {},
     "output_type": "display_data"
    },
    {
     "data": {
      "text/markdown": [
       "# Episode 69 - The King's Cage"
      ],
      "text/plain": [
       "<IPython.core.display.Markdown object>"
      ]
     },
     "metadata": {},
     "output_type": "display_data"
    },
    {
     "name": "stdout",
     "output_type": "stream",
     "text": [
      "Added to cast: Both\n"
     ]
    },
    {
     "data": {
      "text/html": [
       "<div>\n",
       "<style scoped>\n",
       "    .dataframe tbody tr th:only-of-type {\n",
       "        vertical-align: middle;\n",
       "    }\n",
       "\n",
       "    .dataframe tbody tr th {\n",
       "        vertical-align: top;\n",
       "    }\n",
       "\n",
       "    .dataframe thead th {\n",
       "        text-align: right;\n",
       "    }\n",
       "</style>\n",
       "<table border=\"1\" class=\"dataframe\">\n",
       "  <thead>\n",
       "    <tr style=\"text-align: right;\">\n",
       "      <th></th>\n",
       "      <th>interval</th>\n",
       "      <th>starting_line</th>\n",
       "      <th>ending_line</th>\n",
       "    </tr>\n",
       "  </thead>\n",
       "  <tbody>\n",
       "    <tr>\n",
       "      <th>All</th>\n",
       "      <td>0 days 00:30:50.686000</td>\n",
       "      <td>03:46:33.169 03:46:34.767 (laughter)</td>\n",
       "      <td>04:17:25.453 04:17:28.147 (laughs)</td>\n",
       "    </tr>\n",
       "    <tr>\n",
       "      <th>Laura</th>\n",
       "      <td>0 days 00:28:30.100000</td>\n",
       "      <td>01:28:09.840 01:28:27.260 LAURA: Historically....</td>\n",
       "      <td>01:56:57.360 01:57:00.360 LAURA: Oh shit.\\nOh ...</td>\n",
       "    </tr>\n",
       "    <tr>\n",
       "      <th>Marisha</th>\n",
       "      <td>0 days 00:27:45.020000</td>\n",
       "      <td>01:30:04.030 01:30:05.450 MARISHA: It's super ...</td>\n",
       "      <td>01:57:50.470 01:57:52.590 MARISHA: Ozzy Osbour...</td>\n",
       "    </tr>\n",
       "    <tr>\n",
       "      <th>Sam</th>\n",
       "      <td>0 days 00:27:43.720000</td>\n",
       "      <td>01:29:29.502 01:29:31.720 SAM: We're all simul...</td>\n",
       "      <td>01:57:15.440 01:57:16.669 SAM: He emerges and--</td>\n",
       "    </tr>\n",
       "    <tr>\n",
       "      <th>Travis</th>\n",
       "      <td>0 days 00:26:18.100000</td>\n",
       "      <td>01:29:07.910 01:29:11.670 TRAVIS: You got to b...</td>\n",
       "      <td>01:55:29.770 01:56:57.360 TRAVIS: Default Prop...</td>\n",
       "    </tr>\n",
       "    <tr>\n",
       "      <th>Ashley</th>\n",
       "      <td>0 days 00:26:13.660000</td>\n",
       "      <td>03:46:37.330 03:46:39.740 ASHLEY: And you?\\nAS...</td>\n",
       "      <td>04:12:53.400 04:12:55.325 ASHLEY: Oh boy, oh b...</td>\n",
       "    </tr>\n",
       "    <tr>\n",
       "      <th>Matt</th>\n",
       "      <td>0 days 00:24:06.702000</td>\n",
       "      <td>01:30:05.450 01:31:11.181 MATT: It has a grani...</td>\n",
       "      <td>01:55:17.883 01:55:29.770 MATT: And welcome ba...</td>\n",
       "    </tr>\n",
       "    <tr>\n",
       "      <th>Liam</th>\n",
       "      <td>0 days 00:19:30.019000</td>\n",
       "      <td>01:37:42.350 01:37:46.650 LIAM: You're picking...</td>\n",
       "      <td>01:57:16.669 01:57:18.937 LIAM: Hey, I just wa...</td>\n",
       "    </tr>\n",
       "    <tr>\n",
       "      <th>Taliesin</th>\n",
       "      <td>0 days 00:17:51.752000</td>\n",
       "      <td>01:39:02.853 01:41:16.470 TALIESIN: A lonely t...</td>\n",
       "      <td>01:59:08.222 01:59:09.480 TALIESIN: No.</td>\n",
       "    </tr>\n",
       "    <tr>\n",
       "      <th>Dani</th>\n",
       "      <td>0 days 00:00:58.620000</td>\n",
       "      <td>01:35:27.050 01:35:40.010 DANI: I'm not going ...</td>\n",
       "      <td>01:36:38.630 01:36:49.420 DANI: So cute.\\nLIAM...</td>\n",
       "    </tr>\n",
       "    <tr>\n",
       "      <th>Brian</th>\n",
       "      <td>0 days 00:00:34.614000</td>\n",
       "      <td>01:37:41.140 01:37:42.350 BRIAN: Keep going, k...</td>\n",
       "      <td>01:38:16.964 01:38:34.161 BRIAN: Hello, Christ...</td>\n",
       "    </tr>\n",
       "    <tr>\n",
       "      <th>Max</th>\n",
       "      <td>0 days 00:00:18.120000</td>\n",
       "      <td>01:35:50.680 01:35:52.760 MAX: There's no way ...</td>\n",
       "      <td>01:36:10.880 01:36:13.360 MAX: Off-brand.\\nDAN...</td>\n",
       "    </tr>\n",
       "    <tr>\n",
       "      <th>Binwin</th>\n",
       "      <td>0 days 00:00:17.500000</td>\n",
       "      <td>01:31:40.140 01:31:40.990 BINWIN: Of course not.</td>\n",
       "      <td>01:31:58.490 01:31:59.450 BINWIN: The K is sil...</td>\n",
       "    </tr>\n",
       "    <tr>\n",
       "      <th>Crowy</th>\n",
       "      <td>0 days 00:00:08.747000</td>\n",
       "      <td>01:31:28.060 01:31:28.893 CROWY: Hello.</td>\n",
       "      <td>01:31:37.640 01:31:40.140 CROWY: Let's talk ab...</td>\n",
       "    </tr>\n",
       "    <tr>\n",
       "      <th>Christina</th>\n",
       "      <td>0 days 00:00:01.490000</td>\n",
       "      <td>01:38:40.520 01:38:41.370 CHRISTINA: He's here.</td>\n",
       "      <td>01:38:42.860 01:38:43.693 CHRISTINA: (screams)</td>\n",
       "    </tr>\n",
       "  </tbody>\n",
       "</table>\n",
       "</div>"
      ],
      "text/plain": [
       "                        interval  \\\n",
       "All       0 days 00:30:50.686000   \n",
       "Laura     0 days 00:28:30.100000   \n",
       "Marisha   0 days 00:27:45.020000   \n",
       "Sam       0 days 00:27:43.720000   \n",
       "Travis    0 days 00:26:18.100000   \n",
       "Ashley    0 days 00:26:13.660000   \n",
       "Matt      0 days 00:24:06.702000   \n",
       "Liam      0 days 00:19:30.019000   \n",
       "Taliesin  0 days 00:17:51.752000   \n",
       "Dani      0 days 00:00:58.620000   \n",
       "Brian     0 days 00:00:34.614000   \n",
       "Max       0 days 00:00:18.120000   \n",
       "Binwin    0 days 00:00:17.500000   \n",
       "Crowy     0 days 00:00:08.747000   \n",
       "Christina 0 days 00:00:01.490000   \n",
       "\n",
       "                                               starting_line  \\\n",
       "All                     03:46:33.169 03:46:34.767 (laughter)   \n",
       "Laura      01:28:09.840 01:28:27.260 LAURA: Historically....   \n",
       "Marisha    01:30:04.030 01:30:05.450 MARISHA: It's super ...   \n",
       "Sam        01:29:29.502 01:29:31.720 SAM: We're all simul...   \n",
       "Travis     01:29:07.910 01:29:11.670 TRAVIS: You got to b...   \n",
       "Ashley     03:46:37.330 03:46:39.740 ASHLEY: And you?\\nAS...   \n",
       "Matt       01:30:05.450 01:31:11.181 MATT: It has a grani...   \n",
       "Liam       01:37:42.350 01:37:46.650 LIAM: You're picking...   \n",
       "Taliesin   01:39:02.853 01:41:16.470 TALIESIN: A lonely t...   \n",
       "Dani       01:35:27.050 01:35:40.010 DANI: I'm not going ...   \n",
       "Brian      01:37:41.140 01:37:42.350 BRIAN: Keep going, k...   \n",
       "Max        01:35:50.680 01:35:52.760 MAX: There's no way ...   \n",
       "Binwin      01:31:40.140 01:31:40.990 BINWIN: Of course not.   \n",
       "Crowy                01:31:28.060 01:31:28.893 CROWY: Hello.   \n",
       "Christina    01:38:40.520 01:38:41.370 CHRISTINA: He's here.   \n",
       "\n",
       "                                                 ending_line  \n",
       "All                       04:17:25.453 04:17:28.147 (laughs)  \n",
       "Laura      01:56:57.360 01:57:00.360 LAURA: Oh shit.\\nOh ...  \n",
       "Marisha    01:57:50.470 01:57:52.590 MARISHA: Ozzy Osbour...  \n",
       "Sam          01:57:15.440 01:57:16.669 SAM: He emerges and--  \n",
       "Travis     01:55:29.770 01:56:57.360 TRAVIS: Default Prop...  \n",
       "Ashley     04:12:53.400 04:12:55.325 ASHLEY: Oh boy, oh b...  \n",
       "Matt       01:55:17.883 01:55:29.770 MATT: And welcome ba...  \n",
       "Liam       01:57:16.669 01:57:18.937 LIAM: Hey, I just wa...  \n",
       "Taliesin             01:59:08.222 01:59:09.480 TALIESIN: No.  \n",
       "Dani       01:36:38.630 01:36:49.420 DANI: So cute.\\nLIAM...  \n",
       "Brian      01:38:16.964 01:38:34.161 BRIAN: Hello, Christ...  \n",
       "Max        01:36:10.880 01:36:13.360 MAX: Off-brand.\\nDAN...  \n",
       "Binwin     01:31:58.490 01:31:59.450 BINWIN: The K is sil...  \n",
       "Crowy      01:31:37.640 01:31:40.140 CROWY: Let's talk ab...  \n",
       "Christina     01:38:42.860 01:38:43.693 CHRISTINA: (screams)  "
      ]
     },
     "metadata": {},
     "output_type": "display_data"
    },
    {
     "data": {
      "text/markdown": [
       "# Episode 70 - Causatum"
      ],
      "text/plain": [
       "<IPython.core.display.Markdown object>"
      ]
     },
     "metadata": {},
     "output_type": "display_data"
    },
    {
     "data": {
      "text/html": [
       "<div>\n",
       "<style scoped>\n",
       "    .dataframe tbody tr th:only-of-type {\n",
       "        vertical-align: middle;\n",
       "    }\n",
       "\n",
       "    .dataframe tbody tr th {\n",
       "        vertical-align: top;\n",
       "    }\n",
       "\n",
       "    .dataframe thead th {\n",
       "        text-align: right;\n",
       "    }\n",
       "</style>\n",
       "<table border=\"1\" class=\"dataframe\">\n",
       "  <thead>\n",
       "    <tr style=\"text-align: right;\">\n",
       "      <th></th>\n",
       "      <th>interval</th>\n",
       "      <th>starting_line</th>\n",
       "      <th>ending_line</th>\n",
       "    </tr>\n",
       "  </thead>\n",
       "  <tbody>\n",
       "    <tr>\n",
       "      <th>Liam</th>\n",
       "      <td>0 days 00:33:10.330000</td>\n",
       "      <td>01:52:51.550 01:52:53.570 LIAM: Yes.</td>\n",
       "      <td>02:26:03.900 02:26:22.867 LIAM: Well I have so...</td>\n",
       "    </tr>\n",
       "    <tr>\n",
       "      <th>Sam</th>\n",
       "      <td>0 days 00:31:54.545000</td>\n",
       "      <td>01:53:08.500 01:53:11.205 SAM: Guys, I bought ...</td>\n",
       "      <td>02:25:05.750 02:25:07.347 SAM: Oh, we're alrea...</td>\n",
       "    </tr>\n",
       "    <tr>\n",
       "      <th>Laura</th>\n",
       "      <td>0 days 00:21:46.484000</td>\n",
       "      <td>02:03:37.470 02:03:38.390 LAURA: Yeah.</td>\n",
       "      <td>02:25:24.874 02:25:26.490 LAURA: Can we open t...</td>\n",
       "    </tr>\n",
       "    <tr>\n",
       "      <th>Taliesin</th>\n",
       "      <td>0 days 00:21:45.173000</td>\n",
       "      <td>02:02:45.230 02:02:49.070 TALIESIN: ♪ The D20 ...</td>\n",
       "      <td>02:24:34.243 02:24:36.302 TALIESIN: The beast ...</td>\n",
       "    </tr>\n",
       "    <tr>\n",
       "      <th>Marisha</th>\n",
       "      <td>0 days 00:20:45.952000</td>\n",
       "      <td>02:03:49.440 02:03:50.350 MARISHA: So cool.</td>\n",
       "      <td>02:24:36.302 02:24:37.135 MARISHA: Half of a--</td>\n",
       "    </tr>\n",
       "    <tr>\n",
       "      <th>Travis</th>\n",
       "      <td>0 days 00:15:26.325000</td>\n",
       "      <td>02:09:04.480 02:09:10.810 TRAVIS: I don't want...</td>\n",
       "      <td>02:24:37.135 02:24:39.460 TRAVIS: Downsizing.\\...</td>\n",
       "    </tr>\n",
       "    <tr>\n",
       "      <th>All</th>\n",
       "      <td>0 days 00:13:16.457000</td>\n",
       "      <td>02:11:09.730 02:11:12.147 [epic music]</td>\n",
       "      <td>02:24:28.604 02:24:29.437 (cheering)</td>\n",
       "    </tr>\n",
       "    <tr>\n",
       "      <th>Matt</th>\n",
       "      <td>0 days 00:13:10.174000</td>\n",
       "      <td>02:09:22.960 02:11:08.330 MATT: (groans)\\nWell...</td>\n",
       "      <td>02:24:18.504 02:24:34.243 MATT: And welcome ba...</td>\n",
       "    </tr>\n",
       "    <tr>\n",
       "      <th>Dani</th>\n",
       "      <td>0 days 00:00:43.800000</td>\n",
       "      <td>02:06:30.050 02:06:31.340 DANI: Oh boy.</td>\n",
       "      <td>02:07:15.140 02:07:17.690 DANI: Well well well...</td>\n",
       "    </tr>\n",
       "    <tr>\n",
       "      <th>Brian</th>\n",
       "      <td>0 days 00:00:36.780000</td>\n",
       "      <td>02:06:39.762 02:06:51.590 BRIAN: I don't want ...</td>\n",
       "      <td>02:07:28.370 02:07:31.404 BRIAN: A likely stor...</td>\n",
       "    </tr>\n",
       "  </tbody>\n",
       "</table>\n",
       "</div>"
      ],
      "text/plain": [
       "                       interval  \\\n",
       "Liam     0 days 00:33:10.330000   \n",
       "Sam      0 days 00:31:54.545000   \n",
       "Laura    0 days 00:21:46.484000   \n",
       "Taliesin 0 days 00:21:45.173000   \n",
       "Marisha  0 days 00:20:45.952000   \n",
       "Travis   0 days 00:15:26.325000   \n",
       "All      0 days 00:13:16.457000   \n",
       "Matt     0 days 00:13:10.174000   \n",
       "Dani     0 days 00:00:43.800000   \n",
       "Brian    0 days 00:00:36.780000   \n",
       "\n",
       "                                              starting_line  \\\n",
       "Liam                   01:52:51.550 01:52:53.570 LIAM: Yes.   \n",
       "Sam       01:53:08.500 01:53:11.205 SAM: Guys, I bought ...   \n",
       "Laura                02:03:37.470 02:03:38.390 LAURA: Yeah.   \n",
       "Taliesin  02:02:45.230 02:02:49.070 TALIESIN: ♪ The D20 ...   \n",
       "Marisha         02:03:49.440 02:03:50.350 MARISHA: So cool.   \n",
       "Travis    02:09:04.480 02:09:10.810 TRAVIS: I don't want...   \n",
       "All                  02:11:09.730 02:11:12.147 [epic music]   \n",
       "Matt      02:09:22.960 02:11:08.330 MATT: (groans)\\nWell...   \n",
       "Dani                02:06:30.050 02:06:31.340 DANI: Oh boy.   \n",
       "Brian     02:06:39.762 02:06:51.590 BRIAN: I don't want ...   \n",
       "\n",
       "                                                ending_line  \n",
       "Liam      02:26:03.900 02:26:22.867 LIAM: Well I have so...  \n",
       "Sam       02:25:05.750 02:25:07.347 SAM: Oh, we're alrea...  \n",
       "Laura     02:25:24.874 02:25:26.490 LAURA: Can we open t...  \n",
       "Taliesin  02:24:34.243 02:24:36.302 TALIESIN: The beast ...  \n",
       "Marisha      02:24:36.302 02:24:37.135 MARISHA: Half of a--  \n",
       "Travis    02:24:37.135 02:24:39.460 TRAVIS: Downsizing.\\...  \n",
       "All                    02:24:28.604 02:24:29.437 (cheering)  \n",
       "Matt      02:24:18.504 02:24:34.243 MATT: And welcome ba...  \n",
       "Dani      02:07:15.140 02:07:17.690 DANI: Well well well...  \n",
       "Brian     02:07:28.370 02:07:31.404 BRIAN: A likely stor...  "
      ]
     },
     "metadata": {},
     "output_type": "display_data"
    },
    {
     "data": {
      "text/markdown": [
       "# Episode 71 - Family Gathering"
      ],
      "text/plain": [
       "<IPython.core.display.Markdown object>"
      ]
     },
     "metadata": {},
     "output_type": "display_data"
    },
    {
     "name": "stdout",
     "output_type": "stream",
     "text": [
      "Added to cast: Ronin\n",
      "Added to cast: Siri\n"
     ]
    },
    {
     "data": {
      "text/html": [
       "<div>\n",
       "<style scoped>\n",
       "    .dataframe tbody tr th:only-of-type {\n",
       "        vertical-align: middle;\n",
       "    }\n",
       "\n",
       "    .dataframe tbody tr th {\n",
       "        vertical-align: top;\n",
       "    }\n",
       "\n",
       "    .dataframe thead th {\n",
       "        text-align: right;\n",
       "    }\n",
       "</style>\n",
       "<table border=\"1\" class=\"dataframe\">\n",
       "  <thead>\n",
       "    <tr style=\"text-align: right;\">\n",
       "      <th></th>\n",
       "      <th>interval</th>\n",
       "      <th>starting_line</th>\n",
       "      <th>ending_line</th>\n",
       "    </tr>\n",
       "  </thead>\n",
       "  <tbody>\n",
       "    <tr>\n",
       "      <th>Dani</th>\n",
       "      <td>0 days 01:50:33.511000</td>\n",
       "      <td>00:07:26.881 00:07:35.256 DANI: Well, that is ...</td>\n",
       "      <td>01:58:08.767 01:58:10.425 DANI: Hey Christina,...</td>\n",
       "    </tr>\n",
       "    <tr>\n",
       "      <th>Travis</th>\n",
       "      <td>0 days 00:44:01.938000</td>\n",
       "      <td>01:49:21.339 01:49:23.164 TRAVIS: Yep, caught ...</td>\n",
       "      <td>02:33:25.102 02:33:27.066 TRAVIS: I'm just han...</td>\n",
       "    </tr>\n",
       "    <tr>\n",
       "      <th>Liam</th>\n",
       "      <td>0 days 00:33:52.674000</td>\n",
       "      <td>00:08:12.722 00:08:13.799 LIAM: Thanks for tro...</td>\n",
       "      <td>00:42:06.473 00:42:10.107 LIAM: I know I'm not...</td>\n",
       "    </tr>\n",
       "    <tr>\n",
       "      <th>Sam</th>\n",
       "      <td>0 days 00:24:21.545000</td>\n",
       "      <td>00:15:50.453 00:15:51.453 SAM: The hotel might...</td>\n",
       "      <td>00:40:12.998 00:40:15.627 SAM: Ooh.</td>\n",
       "    </tr>\n",
       "    <tr>\n",
       "      <th>Laura</th>\n",
       "      <td>0 days 00:23:40.512000</td>\n",
       "      <td>01:55:57.128 01:56:03.867 LAURA: I'll put on t...</td>\n",
       "      <td>02:19:44.379 02:19:45.474 LAURA: I dunno.</td>\n",
       "    </tr>\n",
       "    <tr>\n",
       "      <th>Marisha</th>\n",
       "      <td>0 days 00:23:03.210000</td>\n",
       "      <td>01:56:34.423 01:56:35.256 MARISHA: Hey!</td>\n",
       "      <td>02:19:38.466 02:19:40.703 MARISHA: Isn't that ...</td>\n",
       "    </tr>\n",
       "    <tr>\n",
       "      <th>Matt</th>\n",
       "      <td>0 days 00:21:16.730000</td>\n",
       "      <td>01:57:03.915 01:58:01.408 MATT: K-I-L-N, once....</td>\n",
       "      <td>02:19:18.138 02:19:33.522 MATT: Welcome back.\\...</td>\n",
       "    </tr>\n",
       "    <tr>\n",
       "      <th>Taliesin</th>\n",
       "      <td>0 days 00:15:49.464000</td>\n",
       "      <td>02:04:10.204 02:04:11.378 TALIESIN: You're all...</td>\n",
       "      <td>02:20:00.842 02:20:02.121 TALIESIN: It's not w...</td>\n",
       "    </tr>\n",
       "    <tr>\n",
       "      <th>All</th>\n",
       "      <td>0 days 00:13:24.199000</td>\n",
       "      <td>00:24:11.948 00:24:13.660 (laughter)</td>\n",
       "      <td>00:37:37.859 00:37:39.859 (sighs)</td>\n",
       "    </tr>\n",
       "    <tr>\n",
       "      <th>Ronin</th>\n",
       "      <td>0 days 00:01:25.401000</td>\n",
       "      <td>00:04:46.868 00:04:49.118 RONIN: (babbling)</td>\n",
       "      <td>00:06:14.519 00:06:17.269 RONIN: (screams)</td>\n",
       "    </tr>\n",
       "    <tr>\n",
       "      <th>Brian</th>\n",
       "      <td>0 days 00:00:56.258000</td>\n",
       "      <td>01:59:45.080 01:59:59.184 BRIAN: Is constantly...</td>\n",
       "      <td>02:00:55.442 02:00:59.504 BRIAN: She sounded s...</td>\n",
       "    </tr>\n",
       "    <tr>\n",
       "      <th>Christina</th>\n",
       "      <td>0 days 00:00:01.209000</td>\n",
       "      <td>01:58:54.362 01:58:55.315 CHRISTINA: He's here.</td>\n",
       "      <td>01:58:56.524 01:59:12.879 CHRISTINA: (screams)...</td>\n",
       "    </tr>\n",
       "  </tbody>\n",
       "</table>\n",
       "</div>"
      ],
      "text/plain": [
       "                        interval  \\\n",
       "Dani      0 days 01:50:33.511000   \n",
       "Travis    0 days 00:44:01.938000   \n",
       "Liam      0 days 00:33:52.674000   \n",
       "Sam       0 days 00:24:21.545000   \n",
       "Laura     0 days 00:23:40.512000   \n",
       "Marisha   0 days 00:23:03.210000   \n",
       "Matt      0 days 00:21:16.730000   \n",
       "Taliesin  0 days 00:15:49.464000   \n",
       "All       0 days 00:13:24.199000   \n",
       "Ronin     0 days 00:01:25.401000   \n",
       "Brian     0 days 00:00:56.258000   \n",
       "Christina 0 days 00:00:01.209000   \n",
       "\n",
       "                                               starting_line  \\\n",
       "Dani       00:07:26.881 00:07:35.256 DANI: Well, that is ...   \n",
       "Travis     01:49:21.339 01:49:23.164 TRAVIS: Yep, caught ...   \n",
       "Liam       00:08:12.722 00:08:13.799 LIAM: Thanks for tro...   \n",
       "Sam        00:15:50.453 00:15:51.453 SAM: The hotel might...   \n",
       "Laura      01:55:57.128 01:56:03.867 LAURA: I'll put on t...   \n",
       "Marisha              01:56:34.423 01:56:35.256 MARISHA: Hey!   \n",
       "Matt       01:57:03.915 01:58:01.408 MATT: K-I-L-N, once....   \n",
       "Taliesin   02:04:10.204 02:04:11.378 TALIESIN: You're all...   \n",
       "All                     00:24:11.948 00:24:13.660 (laughter)   \n",
       "Ronin            00:04:46.868 00:04:49.118 RONIN: (babbling)   \n",
       "Brian      01:59:45.080 01:59:59.184 BRIAN: Is constantly...   \n",
       "Christina    01:58:54.362 01:58:55.315 CHRISTINA: He's here.   \n",
       "\n",
       "                                                 ending_line  \n",
       "Dani       01:58:08.767 01:58:10.425 DANI: Hey Christina,...  \n",
       "Travis     02:33:25.102 02:33:27.066 TRAVIS: I'm just han...  \n",
       "Liam       00:42:06.473 00:42:10.107 LIAM: I know I'm not...  \n",
       "Sam                      00:40:12.998 00:40:15.627 SAM: Ooh.  \n",
       "Laura              02:19:44.379 02:19:45.474 LAURA: I dunno.  \n",
       "Marisha    02:19:38.466 02:19:40.703 MARISHA: Isn't that ...  \n",
       "Matt       02:19:18.138 02:19:33.522 MATT: Welcome back.\\...  \n",
       "Taliesin   02:20:00.842 02:20:02.121 TALIESIN: It's not w...  \n",
       "All                        00:37:37.859 00:37:39.859 (sighs)  \n",
       "Ronin             00:06:14.519 00:06:17.269 RONIN: (screams)  \n",
       "Brian      02:00:55.442 02:00:59.504 BRIAN: She sounded s...  \n",
       "Christina  01:58:56.524 01:59:12.879 CHRISTINA: (screams)...  "
      ]
     },
     "metadata": {},
     "output_type": "display_data"
    },
    {
     "data": {
      "text/markdown": [
       "# Episode 72 - Clay and Dust"
      ],
      "text/plain": [
       "<IPython.core.display.Markdown object>"
      ]
     },
     "metadata": {},
     "output_type": "display_data"
    },
    {
     "name": "stdout",
     "output_type": "stream",
     "text": [
      "Added to cast: Benwin\n",
      "Added to cast: Ryan\n"
     ]
    },
    {
     "data": {
      "text/html": [
       "<div>\n",
       "<style scoped>\n",
       "    .dataframe tbody tr th:only-of-type {\n",
       "        vertical-align: middle;\n",
       "    }\n",
       "\n",
       "    .dataframe tbody tr th {\n",
       "        vertical-align: top;\n",
       "    }\n",
       "\n",
       "    .dataframe thead th {\n",
       "        text-align: right;\n",
       "    }\n",
       "</style>\n",
       "<table border=\"1\" class=\"dataframe\">\n",
       "  <thead>\n",
       "    <tr style=\"text-align: right;\">\n",
       "      <th></th>\n",
       "      <th>interval</th>\n",
       "      <th>starting_line</th>\n",
       "      <th>ending_line</th>\n",
       "    </tr>\n",
       "  </thead>\n",
       "  <tbody>\n",
       "    <tr>\n",
       "      <th>Taliesin</th>\n",
       "      <td>0 days 00:23:39.597000</td>\n",
       "      <td>02:16:30.780 02:17:35.897 TALIESIN: Good eveni...</td>\n",
       "      <td>02:41:15.494 02:41:17.483 TALIESIN: Sigg-il.</td>\n",
       "    </tr>\n",
       "    <tr>\n",
       "      <th>All</th>\n",
       "      <td>0 days 00:22:55.310000</td>\n",
       "      <td>03:04:27.866 03:04:30.143 (groaning)</td>\n",
       "      <td>03:27:25.453 03:27:27.617 (gasping)</td>\n",
       "    </tr>\n",
       "    <tr>\n",
       "      <th>Marisha</th>\n",
       "      <td>0 days 00:20:50.130000</td>\n",
       "      <td>02:20:16.735 02:20:27.353 MARISHA: Pardon my a...</td>\n",
       "      <td>02:41:17.483 02:41:18.863 MARISHA: Made up words.</td>\n",
       "    </tr>\n",
       "    <tr>\n",
       "      <th>Laura</th>\n",
       "      <td>0 days 00:18:15.339000</td>\n",
       "      <td>02:23:26.592 02:23:27.704 LAURA: Right?</td>\n",
       "      <td>02:41:43.043 02:41:44.897 LAURA: Oh, that's good.</td>\n",
       "    </tr>\n",
       "    <tr>\n",
       "      <th>Sam</th>\n",
       "      <td>0 days 00:17:54.505000</td>\n",
       "      <td>02:23:32.074 02:23:45.446 SAM: But no, I have ...</td>\n",
       "      <td>02:41:39.951 02:41:41.407 SAM: Just some ghost...</td>\n",
       "    </tr>\n",
       "    <tr>\n",
       "      <th>Travis</th>\n",
       "      <td>0 days 00:17:39.795000</td>\n",
       "      <td>02:23:24.574 02:23:26.592 TRAVIS: Only a d10?</td>\n",
       "      <td>02:41:06.387 02:41:07.832 TRAVIS: You're going...</td>\n",
       "    </tr>\n",
       "    <tr>\n",
       "      <th>Matt</th>\n",
       "      <td>0 days 00:17:14.752000</td>\n",
       "      <td>02:23:27.704 02:23:28.739 MATT: Well it's a mu...</td>\n",
       "      <td>02:40:43.491 02:41:06.387 MATT: And welcome ba...</td>\n",
       "    </tr>\n",
       "    <tr>\n",
       "      <th>Liam</th>\n",
       "      <td>0 days 00:14:24.604000</td>\n",
       "      <td>02:25:21.869 02:27:03.697 LIAM: Subscribe, or ...</td>\n",
       "      <td>02:41:28.301 02:41:30.834 LIAM: There's a lot ...</td>\n",
       "    </tr>\n",
       "    <tr>\n",
       "      <th>Brian</th>\n",
       "      <td>0 days 00:02:25.111000</td>\n",
       "      <td>02:17:35.897 02:18:08.622 BRIAN: This year we ...</td>\n",
       "      <td>02:20:33.733 02:20:35.942 BRIAN: There you go....</td>\n",
       "    </tr>\n",
       "    <tr>\n",
       "      <th>Dani</th>\n",
       "      <td>0 days 00:01:00.118000</td>\n",
       "      <td>02:23:49.965 02:23:51.291 DANI: Hey Christina,...</td>\n",
       "      <td>02:24:51.409 02:25:18.410 DANI: Delightful.\\nU...</td>\n",
       "    </tr>\n",
       "    <tr>\n",
       "      <th>Ashley</th>\n",
       "      <td>0 days 00:00:23.458000</td>\n",
       "      <td>02:20:00.965 02:20:03.895 ASHLEY: Aww, well ar...</td>\n",
       "      <td>02:20:27.353 02:20:28.517 ASHLEY: Big?</td>\n",
       "    </tr>\n",
       "    <tr>\n",
       "      <th>Benwin</th>\n",
       "      <td>0 days 00:00:17.428000</td>\n",
       "      <td>02:15:28.320 02:15:29.275 BENWIN: Of course not.</td>\n",
       "      <td>02:15:46.703 02:15:47.803 BENWIN: The K is sil...</td>\n",
       "    </tr>\n",
       "    <tr>\n",
       "      <th>Crowy</th>\n",
       "      <td>0 days 00:00:08.967000</td>\n",
       "      <td>02:15:16.113 02:15:16.954 CROWY: Hello.</td>\n",
       "      <td>02:15:25.921 02:15:28.320 CROWY: Let's talk ab...</td>\n",
       "    </tr>\n",
       "    <tr>\n",
       "      <th>Ryan</th>\n",
       "      <td>0 days 00:00:02.300000</td>\n",
       "      <td>02:20:41.498 02:20:47.944 RYAN: Hello, my name...</td>\n",
       "      <td>02:20:50.244 02:20:52.812 RYAN: Yeah, so he ma...</td>\n",
       "    </tr>\n",
       "    <tr>\n",
       "      <th>Christina</th>\n",
       "      <td>0 days 00:00:01.264000</td>\n",
       "      <td>02:24:35.670 02:24:36.642 CHRISTINA: He's here.</td>\n",
       "      <td>02:24:37.906 02:24:38.739 CHRISTINA: (screams)</td>\n",
       "    </tr>\n",
       "  </tbody>\n",
       "</table>\n",
       "</div>"
      ],
      "text/plain": [
       "                        interval  \\\n",
       "Taliesin  0 days 00:23:39.597000   \n",
       "All       0 days 00:22:55.310000   \n",
       "Marisha   0 days 00:20:50.130000   \n",
       "Laura     0 days 00:18:15.339000   \n",
       "Sam       0 days 00:17:54.505000   \n",
       "Travis    0 days 00:17:39.795000   \n",
       "Matt      0 days 00:17:14.752000   \n",
       "Liam      0 days 00:14:24.604000   \n",
       "Brian     0 days 00:02:25.111000   \n",
       "Dani      0 days 00:01:00.118000   \n",
       "Ashley    0 days 00:00:23.458000   \n",
       "Benwin    0 days 00:00:17.428000   \n",
       "Crowy     0 days 00:00:08.967000   \n",
       "Ryan      0 days 00:00:02.300000   \n",
       "Christina 0 days 00:00:01.264000   \n",
       "\n",
       "                                               starting_line  \\\n",
       "Taliesin   02:16:30.780 02:17:35.897 TALIESIN: Good eveni...   \n",
       "All                     03:04:27.866 03:04:30.143 (groaning)   \n",
       "Marisha    02:20:16.735 02:20:27.353 MARISHA: Pardon my a...   \n",
       "Laura                02:23:26.592 02:23:27.704 LAURA: Right?   \n",
       "Sam        02:23:32.074 02:23:45.446 SAM: But no, I have ...   \n",
       "Travis         02:23:24.574 02:23:26.592 TRAVIS: Only a d10?   \n",
       "Matt       02:23:27.704 02:23:28.739 MATT: Well it's a mu...   \n",
       "Liam       02:25:21.869 02:27:03.697 LIAM: Subscribe, or ...   \n",
       "Brian      02:17:35.897 02:18:08.622 BRIAN: This year we ...   \n",
       "Dani       02:23:49.965 02:23:51.291 DANI: Hey Christina,...   \n",
       "Ashley     02:20:00.965 02:20:03.895 ASHLEY: Aww, well ar...   \n",
       "Benwin      02:15:28.320 02:15:29.275 BENWIN: Of course not.   \n",
       "Crowy                02:15:16.113 02:15:16.954 CROWY: Hello.   \n",
       "Ryan       02:20:41.498 02:20:47.944 RYAN: Hello, my name...   \n",
       "Christina    02:24:35.670 02:24:36.642 CHRISTINA: He's here.   \n",
       "\n",
       "                                                 ending_line  \n",
       "Taliesin        02:41:15.494 02:41:17.483 TALIESIN: Sigg-il.  \n",
       "All                      03:27:25.453 03:27:27.617 (gasping)  \n",
       "Marisha    02:41:17.483 02:41:18.863 MARISHA: Made up words.  \n",
       "Laura      02:41:43.043 02:41:44.897 LAURA: Oh, that's good.  \n",
       "Sam        02:41:39.951 02:41:41.407 SAM: Just some ghost...  \n",
       "Travis     02:41:06.387 02:41:07.832 TRAVIS: You're going...  \n",
       "Matt       02:40:43.491 02:41:06.387 MATT: And welcome ba...  \n",
       "Liam       02:41:28.301 02:41:30.834 LIAM: There's a lot ...  \n",
       "Brian      02:20:33.733 02:20:35.942 BRIAN: There you go....  \n",
       "Dani       02:24:51.409 02:25:18.410 DANI: Delightful.\\nU...  \n",
       "Ashley                02:20:27.353 02:20:28.517 ASHLEY: Big?  \n",
       "Benwin     02:15:46.703 02:15:47.803 BENWIN: The K is sil...  \n",
       "Crowy      02:15:25.921 02:15:28.320 CROWY: Let's talk ab...  \n",
       "Ryan       02:20:50.244 02:20:52.812 RYAN: Yeah, so he ma...  \n",
       "Christina     02:24:37.906 02:24:38.739 CHRISTINA: (screams)  "
      ]
     },
     "metadata": {},
     "output_type": "display_data"
    },
    {
     "data": {
      "text/markdown": [
       "# Episode 73 - Uthodurn"
      ],
      "text/plain": [
       "<IPython.core.display.Markdown object>"
      ]
     },
     "metadata": {},
     "output_type": "display_data"
    },
    {
     "name": "stdout",
     "output_type": "stream",
     "text": [
      "Added to cast: Amanda\n"
     ]
    },
    {
     "data": {
      "text/html": [
       "<div>\n",
       "<style scoped>\n",
       "    .dataframe tbody tr th:only-of-type {\n",
       "        vertical-align: middle;\n",
       "    }\n",
       "\n",
       "    .dataframe tbody tr th {\n",
       "        vertical-align: top;\n",
       "    }\n",
       "\n",
       "    .dataframe thead th {\n",
       "        text-align: right;\n",
       "    }\n",
       "</style>\n",
       "<table border=\"1\" class=\"dataframe\">\n",
       "  <thead>\n",
       "    <tr style=\"text-align: right;\">\n",
       "      <th></th>\n",
       "      <th>interval</th>\n",
       "      <th>starting_line</th>\n",
       "      <th>ending_line</th>\n",
       "    </tr>\n",
       "  </thead>\n",
       "  <tbody>\n",
       "    <tr>\n",
       "      <th>Brian</th>\n",
       "      <td>0 days 02:00:25.516000</td>\n",
       "      <td>00:06:52.166 00:07:20.364 BRIAN: The only pers...</td>\n",
       "      <td>02:07:45.880 02:07:47.100 BRIAN: Yeah.\\nAMANDA...</td>\n",
       "    </tr>\n",
       "    <tr>\n",
       "      <th>Audience</th>\n",
       "      <td>0 days 01:18:10.391000</td>\n",
       "      <td>02:47:15.348 02:47:16.848 AUDIENCE: Nein!</td>\n",
       "      <td>04:05:27.239 04:05:36.960 AUDIENCE: (chanting)...</td>\n",
       "    </tr>\n",
       "    <tr>\n",
       "      <th>Laura</th>\n",
       "      <td>0 days 00:25:19.804000</td>\n",
       "      <td>02:04:54.830 02:04:56.906 LAURA: Gorillas are ...</td>\n",
       "      <td>02:30:16.710 02:30:20.380 LAURA: How'd that re...</td>\n",
       "    </tr>\n",
       "    <tr>\n",
       "      <th>Marisha</th>\n",
       "      <td>0 days 00:25:14.430000</td>\n",
       "      <td>02:05:16.908 02:05:18.140 MARISHA: What?</td>\n",
       "      <td>02:30:32.570 02:30:40.015 MARISHA: Wow.\\nTALIE...</td>\n",
       "    </tr>\n",
       "    <tr>\n",
       "      <th>Sam</th>\n",
       "      <td>0 days 00:23:16.555000</td>\n",
       "      <td>02:06:06.552 02:06:08.135 SAM: That was intense.</td>\n",
       "      <td>02:29:24.690 02:29:47.818 SAM: Matt, there's n...</td>\n",
       "    </tr>\n",
       "    <tr>\n",
       "      <th>Matt</th>\n",
       "      <td>0 days 00:22:37.765000</td>\n",
       "      <td>02:06:11.740 02:06:17.105 MATT: (laughs) You g...</td>\n",
       "      <td>02:28:54.870 02:28:56.356 MATT: And welcome back.</td>\n",
       "    </tr>\n",
       "    <tr>\n",
       "      <th>Travis</th>\n",
       "      <td>0 days 00:16:29.559000</td>\n",
       "      <td>02:12:37.400 02:12:43.980 TRAVIS: Dollar, doll...</td>\n",
       "      <td>02:29:13.539 02:29:14.826 TRAVIS: What is that?</td>\n",
       "    </tr>\n",
       "    <tr>\n",
       "      <th>Taliesin</th>\n",
       "      <td>0 days 00:16:05.940000</td>\n",
       "      <td>02:12:53.130 02:12:55.370 TALIESIN: The llama ...</td>\n",
       "      <td>02:29:01.310 02:29:04.700 TALIESIN: Oh, no, oh...</td>\n",
       "    </tr>\n",
       "    <tr>\n",
       "      <th>Liam</th>\n",
       "      <td>0 days 00:15:02.120000</td>\n",
       "      <td>03:08:49.022 03:08:53.750 LIAM: Yeah, maybe fi...</td>\n",
       "      <td>03:23:55.870 03:23:59.677 LIAM: It is exactly ...</td>\n",
       "    </tr>\n",
       "    <tr>\n",
       "      <th>All</th>\n",
       "      <td>0 days 00:12:34.182000</td>\n",
       "      <td>02:16:17.799 02:16:22.174 (dramatic music)</td>\n",
       "      <td>02:28:56.356 02:28:59.356 [cheering]</td>\n",
       "    </tr>\n",
       "    <tr>\n",
       "      <th>Dani</th>\n",
       "      <td>0 days 00:01:37.740000</td>\n",
       "      <td>02:10:56.372 02:10:57.720 DANI: We don't blame...</td>\n",
       "      <td>02:12:35.460 02:12:37.400 DANI: You're showing...</td>\n",
       "    </tr>\n",
       "    <tr>\n",
       "      <th>Chris</th>\n",
       "      <td>0 days 00:00:21.690000</td>\n",
       "      <td>02:09:04.120 02:09:05.620 CHRIS: About nine ye...</td>\n",
       "      <td>02:09:27.310 02:09:28.740 CHRIS: Well, thank y...</td>\n",
       "    </tr>\n",
       "    <tr>\n",
       "      <th>Amanda</th>\n",
       "      <td>0 days 00:00:00</td>\n",
       "      <td>02:07:17.460 02:07:43.440 AMANDA: And that kin...</td>\n",
       "      <td>02:07:43.440 02:07:45.880 AMANDA: We were neve...</td>\n",
       "    </tr>\n",
       "  </tbody>\n",
       "</table>\n",
       "</div>"
      ],
      "text/plain": [
       "                       interval  \\\n",
       "Brian    0 days 02:00:25.516000   \n",
       "Audience 0 days 01:18:10.391000   \n",
       "Laura    0 days 00:25:19.804000   \n",
       "Marisha  0 days 00:25:14.430000   \n",
       "Sam      0 days 00:23:16.555000   \n",
       "Matt     0 days 00:22:37.765000   \n",
       "Travis   0 days 00:16:29.559000   \n",
       "Taliesin 0 days 00:16:05.940000   \n",
       "Liam     0 days 00:15:02.120000   \n",
       "All      0 days 00:12:34.182000   \n",
       "Dani     0 days 00:01:37.740000   \n",
       "Chris    0 days 00:00:21.690000   \n",
       "Amanda          0 days 00:00:00   \n",
       "\n",
       "                                              starting_line  \\\n",
       "Brian     00:06:52.166 00:07:20.364 BRIAN: The only pers...   \n",
       "Audience          02:47:15.348 02:47:16.848 AUDIENCE: Nein!   \n",
       "Laura     02:04:54.830 02:04:56.906 LAURA: Gorillas are ...   \n",
       "Marisha            02:05:16.908 02:05:18.140 MARISHA: What?   \n",
       "Sam        02:06:06.552 02:06:08.135 SAM: That was intense.   \n",
       "Matt      02:06:11.740 02:06:17.105 MATT: (laughs) You g...   \n",
       "Travis    02:12:37.400 02:12:43.980 TRAVIS: Dollar, doll...   \n",
       "Taliesin  02:12:53.130 02:12:55.370 TALIESIN: The llama ...   \n",
       "Liam      03:08:49.022 03:08:53.750 LIAM: Yeah, maybe fi...   \n",
       "All              02:16:17.799 02:16:22.174 (dramatic music)   \n",
       "Dani      02:10:56.372 02:10:57.720 DANI: We don't blame...   \n",
       "Chris     02:09:04.120 02:09:05.620 CHRIS: About nine ye...   \n",
       "Amanda    02:07:17.460 02:07:43.440 AMANDA: And that kin...   \n",
       "\n",
       "                                                ending_line  \n",
       "Brian     02:07:45.880 02:07:47.100 BRIAN: Yeah.\\nAMANDA...  \n",
       "Audience  04:05:27.239 04:05:36.960 AUDIENCE: (chanting)...  \n",
       "Laura     02:30:16.710 02:30:20.380 LAURA: How'd that re...  \n",
       "Marisha   02:30:32.570 02:30:40.015 MARISHA: Wow.\\nTALIE...  \n",
       "Sam       02:29:24.690 02:29:47.818 SAM: Matt, there's n...  \n",
       "Matt      02:28:54.870 02:28:56.356 MATT: And welcome back.  \n",
       "Travis      02:29:13.539 02:29:14.826 TRAVIS: What is that?  \n",
       "Taliesin  02:29:01.310 02:29:04.700 TALIESIN: Oh, no, oh...  \n",
       "Liam      03:23:55.870 03:23:59.677 LIAM: It is exactly ...  \n",
       "All                    02:28:56.356 02:28:59.356 [cheering]  \n",
       "Dani      02:12:35.460 02:12:37.400 DANI: You're showing...  \n",
       "Chris     02:09:27.310 02:09:28.740 CHRIS: Well, thank y...  \n",
       "Amanda    02:07:43.440 02:07:45.880 AMANDA: We were neve...  "
      ]
     },
     "metadata": {},
     "output_type": "display_data"
    },
    {
     "data": {
      "text/markdown": [
       "# Episode 74 - Manifold Morals"
      ],
      "text/plain": [
       "<IPython.core.display.Markdown object>"
      ]
     },
     "metadata": {},
     "output_type": "display_data"
    },
    {
     "name": "stdout",
     "output_type": "stream",
     "text": [
      "Added to cast: Adam\n",
      "Added to cast: Mica\n"
     ]
    },
    {
     "data": {
      "text/html": [
       "<div>\n",
       "<style scoped>\n",
       "    .dataframe tbody tr th:only-of-type {\n",
       "        vertical-align: middle;\n",
       "    }\n",
       "\n",
       "    .dataframe tbody tr th {\n",
       "        vertical-align: top;\n",
       "    }\n",
       "\n",
       "    .dataframe thead th {\n",
       "        text-align: right;\n",
       "    }\n",
       "</style>\n",
       "<table border=\"1\" class=\"dataframe\">\n",
       "  <thead>\n",
       "    <tr style=\"text-align: right;\">\n",
       "      <th></th>\n",
       "      <th>interval</th>\n",
       "      <th>starting_line</th>\n",
       "      <th>ending_line</th>\n",
       "    </tr>\n",
       "  </thead>\n",
       "  <tbody>\n",
       "    <tr>\n",
       "      <th>Brian</th>\n",
       "      <td>0 days 02:05:52.051000</td>\n",
       "      <td>00:01:31.652 00:01:43.939 BRIAN: I'm being tol...</td>\n",
       "      <td>02:07:35.990 02:07:37.361 BRIAN: Mm-hmm.</td>\n",
       "    </tr>\n",
       "    <tr>\n",
       "      <th>Taliesin</th>\n",
       "      <td>0 days 00:32:46.997000</td>\n",
       "      <td>02:05:28.452 02:05:29.645 TALIESIN: We're goin...</td>\n",
       "      <td>02:38:16.642 02:38:17.475 TALIESIN: Huh.</td>\n",
       "    </tr>\n",
       "    <tr>\n",
       "      <th>Laura</th>\n",
       "      <td>0 days 00:29:30.451000</td>\n",
       "      <td>02:12:56.768 02:12:58.037 LAURA: Look at the b...</td>\n",
       "      <td>02:42:28.488 02:42:33.693 LAURA: Is 100 year-o...</td>\n",
       "    </tr>\n",
       "    <tr>\n",
       "      <th>Marisha</th>\n",
       "      <td>0 days 00:26:46.087000</td>\n",
       "      <td>02:05:20.797 02:05:23.503 MARISHA: Man, why-- ...</td>\n",
       "      <td>02:32:09.590 02:32:12.441 MARISHA: I can't-- I...</td>\n",
       "    </tr>\n",
       "    <tr>\n",
       "      <th>Mica</th>\n",
       "      <td>0 days 00:26:42.388000</td>\n",
       "      <td>02:05:29.645 02:05:32.686 MICA: Umi's house.\\n...</td>\n",
       "      <td>02:32:15.074 02:32:16.746 MICA: Fly. Kill it.</td>\n",
       "    </tr>\n",
       "    <tr>\n",
       "      <th>Matt</th>\n",
       "      <td>0 days 00:22:35.431000</td>\n",
       "      <td>02:09:13.501 02:09:16.514 MATT: I have to go t...</td>\n",
       "      <td>02:31:51.945 02:32:04.656 MATT: And welcome ba...</td>\n",
       "    </tr>\n",
       "    <tr>\n",
       "      <th>Sam</th>\n",
       "      <td>0 days 00:18:44.454000</td>\n",
       "      <td>02:13:18.827 02:13:20.202 SAM: Fourth attempt!</td>\n",
       "      <td>02:32:04.656 02:32:07.081 SAM: Sometimes I Ash...</td>\n",
       "    </tr>\n",
       "    <tr>\n",
       "      <th>Travis</th>\n",
       "      <td>0 days 00:15:50.622000</td>\n",
       "      <td>02:17:27.407 02:17:29.842 TRAVIS: I mean, I do...</td>\n",
       "      <td>02:33:20.464 02:33:29.430 TRAVIS: No, we're ob...</td>\n",
       "    </tr>\n",
       "    <tr>\n",
       "      <th>All</th>\n",
       "      <td>0 days 00:14:58.218000</td>\n",
       "      <td>02:19:07.255 02:19:12.072 (epic music)</td>\n",
       "      <td>02:34:10.290 02:34:12.540 (laughs)</td>\n",
       "    </tr>\n",
       "    <tr>\n",
       "      <th>Liam</th>\n",
       "      <td>0 days 00:13:06.229000</td>\n",
       "      <td>02:17:32.549 02:19:06.212 LIAM: Subscribe or d...</td>\n",
       "      <td>02:32:12.441 02:32:15.074 LIAM: Are we going a...</td>\n",
       "    </tr>\n",
       "    <tr>\n",
       "      <th>Dani</th>\n",
       "      <td>0 days 00:00:20.730000</td>\n",
       "      <td>02:08:51.046 02:08:51.889 DANI: It's awful!</td>\n",
       "      <td>02:09:12.619 02:09:13.501 DANI: He owns you, Sam.</td>\n",
       "    </tr>\n",
       "    <tr>\n",
       "      <th>Adam</th>\n",
       "      <td>0 days 00:00:03.749000</td>\n",
       "      <td>00:05:15.948 00:05:17.224 ADAM: What are you d...</td>\n",
       "      <td>00:05:20.973 00:05:29.602 ADAM: Presidents of ...</td>\n",
       "    </tr>\n",
       "    <tr>\n",
       "      <th>Amanda</th>\n",
       "      <td>0 days 00:00:01.371000</td>\n",
       "      <td>02:07:11.301 02:07:35.990 AMANDA: And that kin...</td>\n",
       "      <td>02:07:37.361 02:07:39.734 AMANDA: We were neve...</td>\n",
       "    </tr>\n",
       "  </tbody>\n",
       "</table>\n",
       "</div>"
      ],
      "text/plain": [
       "                       interval  \\\n",
       "Brian    0 days 02:05:52.051000   \n",
       "Taliesin 0 days 00:32:46.997000   \n",
       "Laura    0 days 00:29:30.451000   \n",
       "Marisha  0 days 00:26:46.087000   \n",
       "Mica     0 days 00:26:42.388000   \n",
       "Matt     0 days 00:22:35.431000   \n",
       "Sam      0 days 00:18:44.454000   \n",
       "Travis   0 days 00:15:50.622000   \n",
       "All      0 days 00:14:58.218000   \n",
       "Liam     0 days 00:13:06.229000   \n",
       "Dani     0 days 00:00:20.730000   \n",
       "Adam     0 days 00:00:03.749000   \n",
       "Amanda   0 days 00:00:01.371000   \n",
       "\n",
       "                                              starting_line  \\\n",
       "Brian     00:01:31.652 00:01:43.939 BRIAN: I'm being tol...   \n",
       "Taliesin  02:05:28.452 02:05:29.645 TALIESIN: We're goin...   \n",
       "Laura     02:12:56.768 02:12:58.037 LAURA: Look at the b...   \n",
       "Marisha   02:05:20.797 02:05:23.503 MARISHA: Man, why-- ...   \n",
       "Mica      02:05:29.645 02:05:32.686 MICA: Umi's house.\\n...   \n",
       "Matt      02:09:13.501 02:09:16.514 MATT: I have to go t...   \n",
       "Sam          02:13:18.827 02:13:20.202 SAM: Fourth attempt!   \n",
       "Travis    02:17:27.407 02:17:29.842 TRAVIS: I mean, I do...   \n",
       "All                  02:19:07.255 02:19:12.072 (epic music)   \n",
       "Liam      02:17:32.549 02:19:06.212 LIAM: Subscribe or d...   \n",
       "Dani            02:08:51.046 02:08:51.889 DANI: It's awful!   \n",
       "Adam      00:05:15.948 00:05:17.224 ADAM: What are you d...   \n",
       "Amanda    02:07:11.301 02:07:35.990 AMANDA: And that kin...   \n",
       "\n",
       "                                                ending_line  \n",
       "Brian              02:07:35.990 02:07:37.361 BRIAN: Mm-hmm.  \n",
       "Taliesin           02:38:16.642 02:38:17.475 TALIESIN: Huh.  \n",
       "Laura     02:42:28.488 02:42:33.693 LAURA: Is 100 year-o...  \n",
       "Marisha   02:32:09.590 02:32:12.441 MARISHA: I can't-- I...  \n",
       "Mica          02:32:15.074 02:32:16.746 MICA: Fly. Kill it.  \n",
       "Matt      02:31:51.945 02:32:04.656 MATT: And welcome ba...  \n",
       "Sam       02:32:04.656 02:32:07.081 SAM: Sometimes I Ash...  \n",
       "Travis    02:33:20.464 02:33:29.430 TRAVIS: No, we're ob...  \n",
       "All                      02:34:10.290 02:34:12.540 (laughs)  \n",
       "Liam      02:32:12.441 02:32:15.074 LIAM: Are we going a...  \n",
       "Dani      02:09:12.619 02:09:13.501 DANI: He owns you, Sam.  \n",
       "Adam      00:05:20.973 00:05:29.602 ADAM: Presidents of ...  \n",
       "Amanda    02:07:37.361 02:07:39.734 AMANDA: We were neve...  "
      ]
     },
     "metadata": {},
     "output_type": "display_data"
    },
    {
     "data": {
      "text/markdown": [
       "# Episode 75 - Rime and Reason"
      ],
      "text/plain": [
       "<IPython.core.display.Markdown object>"
      ]
     },
     "metadata": {},
     "output_type": "display_data"
    },
    {
     "data": {
      "text/html": [
       "<div>\n",
       "<style scoped>\n",
       "    .dataframe tbody tr th:only-of-type {\n",
       "        vertical-align: middle;\n",
       "    }\n",
       "\n",
       "    .dataframe tbody tr th {\n",
       "        vertical-align: top;\n",
       "    }\n",
       "\n",
       "    .dataframe thead th {\n",
       "        text-align: right;\n",
       "    }\n",
       "</style>\n",
       "<table border=\"1\" class=\"dataframe\">\n",
       "  <thead>\n",
       "    <tr style=\"text-align: right;\">\n",
       "      <th></th>\n",
       "      <th>interval</th>\n",
       "      <th>starting_line</th>\n",
       "      <th>ending_line</th>\n",
       "    </tr>\n",
       "  </thead>\n",
       "  <tbody>\n",
       "    <tr>\n",
       "      <th>Liam</th>\n",
       "      <td>0 days 00:55:52.232000</td>\n",
       "      <td>01:36:08.908 01:36:11.059 LIAM: Save it for Ca...</td>\n",
       "      <td>02:32:03.291 02:32:04.124 LIAM: \"String bean!\"</td>\n",
       "    </tr>\n",
       "    <tr>\n",
       "      <th>Laura</th>\n",
       "      <td>0 days 00:43:01.271000</td>\n",
       "      <td>02:07:21.918 02:07:25.185 LAURA: That's true, ...</td>\n",
       "      <td>02:50:26.456 02:50:28.577 LAURA: People can se...</td>\n",
       "    </tr>\n",
       "    <tr>\n",
       "      <th>Sam</th>\n",
       "      <td>0 days 00:24:55.060000</td>\n",
       "      <td>02:07:25.185 02:07:28.535 SAM: All right, so, ...</td>\n",
       "      <td>02:32:23.595 02:32:28.295 SAM: \"Yes, not appea...</td>\n",
       "    </tr>\n",
       "    <tr>\n",
       "      <th>Matt</th>\n",
       "      <td>0 days 00:24:18.344000</td>\n",
       "      <td>02:24:12.107 02:24:59.354 MATT: Perfect.\\n♪ Yo...</td>\n",
       "      <td>02:49:17.698 02:49:53.780 MATT: And welcome ba...</td>\n",
       "    </tr>\n",
       "    <tr>\n",
       "      <th>Mica</th>\n",
       "      <td>0 days 00:19:57.733000</td>\n",
       "      <td>02:06:28.033 02:06:34.217 MICA: You can levita...</td>\n",
       "      <td>02:26:31.950 02:26:48.875 MICA: I've always li...</td>\n",
       "    </tr>\n",
       "    <tr>\n",
       "      <th>All</th>\n",
       "      <td>0 days 00:17:57.808000</td>\n",
       "      <td>02:06:11.851 02:06:13.188 (laughter)</td>\n",
       "      <td>02:24:10.996 02:24:12.107 (cheering)</td>\n",
       "    </tr>\n",
       "    <tr>\n",
       "      <th>Marisha</th>\n",
       "      <td>0 days 00:17:53.614000</td>\n",
       "      <td>02:32:54.271 02:33:07.879 MARISHA: \"He's a dis...</td>\n",
       "      <td>02:51:01.493 02:51:05.788 MARISHA: All right, ...</td>\n",
       "    </tr>\n",
       "    <tr>\n",
       "      <th>Travis</th>\n",
       "      <td>0 days 00:16:04.401000</td>\n",
       "      <td>02:33:40.291 02:33:49.379 TRAVIS: I think so.\\...</td>\n",
       "      <td>02:49:53.780 02:49:54.702 TRAVIS: Oh shit.</td>\n",
       "    </tr>\n",
       "    <tr>\n",
       "      <th>Taliesin</th>\n",
       "      <td>0 days 00:16:02.785000</td>\n",
       "      <td>02:33:57.192 02:36:12.336 TALIESIN: A lonely t...</td>\n",
       "      <td>02:52:15.121 02:52:16.295 TALIESIN: Hey!\\nTRAV...</td>\n",
       "    </tr>\n",
       "    <tr>\n",
       "      <th>Dani</th>\n",
       "      <td>0 days 00:01:26.120000</td>\n",
       "      <td>02:28:34.405 02:28:36.152 DANI: Wow.\\nBRIAN: H...</td>\n",
       "      <td>02:30:02.272 02:30:03.232 DANI: Did you do it?</td>\n",
       "    </tr>\n",
       "    <tr>\n",
       "      <th>Brian</th>\n",
       "      <td>0 days 00:00:49.145000</td>\n",
       "      <td>02:32:44.148 02:32:47.889 BRIAN: But if Travis...</td>\n",
       "      <td>02:33:37.034 02:33:40.291 BRIAN: Okay, okay.\\n...</td>\n",
       "    </tr>\n",
       "    <tr>\n",
       "      <th>Ashley</th>\n",
       "      <td>0 days 00:00:42.933000</td>\n",
       "      <td>02:32:07.430 02:32:10.369 ASHLEY: \"You moldy, ...</td>\n",
       "      <td>02:32:53.302 02:32:54.271 ASHLEY: Oh, god.</td>\n",
       "    </tr>\n",
       "    <tr>\n",
       "      <th>Brittany</th>\n",
       "      <td>0 days 00:00:29.107000</td>\n",
       "      <td>02:32:16.699 02:32:18.782 BRITTANY: \"You re-an...</td>\n",
       "      <td>02:32:47.889 02:32:49.434 BRITTANY: \"A liabili...</td>\n",
       "    </tr>\n",
       "    <tr>\n",
       "      <th>Binwin</th>\n",
       "      <td>0 days 00:00:17.386000</td>\n",
       "      <td>02:25:28.319 02:25:29.307 BINWIN: Of course not.</td>\n",
       "      <td>02:25:46.693 02:25:47.848 BINWIN: The K is sil...</td>\n",
       "    </tr>\n",
       "    <tr>\n",
       "      <th>Crowy</th>\n",
       "      <td>0 days 00:00:03.233000</td>\n",
       "      <td>02:25:47.848 02:25:53.902 CROWY: Create the be...</td>\n",
       "      <td>02:25:57.135 02:26:02.316 CROWY: You can click...</td>\n",
       "    </tr>\n",
       "  </tbody>\n",
       "</table>\n",
       "</div>"
      ],
      "text/plain": [
       "                       interval  \\\n",
       "Liam     0 days 00:55:52.232000   \n",
       "Laura    0 days 00:43:01.271000   \n",
       "Sam      0 days 00:24:55.060000   \n",
       "Matt     0 days 00:24:18.344000   \n",
       "Mica     0 days 00:19:57.733000   \n",
       "All      0 days 00:17:57.808000   \n",
       "Marisha  0 days 00:17:53.614000   \n",
       "Travis   0 days 00:16:04.401000   \n",
       "Taliesin 0 days 00:16:02.785000   \n",
       "Dani     0 days 00:01:26.120000   \n",
       "Brian    0 days 00:00:49.145000   \n",
       "Ashley   0 days 00:00:42.933000   \n",
       "Brittany 0 days 00:00:29.107000   \n",
       "Binwin   0 days 00:00:17.386000   \n",
       "Crowy    0 days 00:00:03.233000   \n",
       "\n",
       "                                              starting_line  \\\n",
       "Liam      01:36:08.908 01:36:11.059 LIAM: Save it for Ca...   \n",
       "Laura     02:07:21.918 02:07:25.185 LAURA: That's true, ...   \n",
       "Sam       02:07:25.185 02:07:28.535 SAM: All right, so, ...   \n",
       "Matt      02:24:12.107 02:24:59.354 MATT: Perfect.\\n♪ Yo...   \n",
       "Mica      02:06:28.033 02:06:34.217 MICA: You can levita...   \n",
       "All                    02:06:11.851 02:06:13.188 (laughter)   \n",
       "Marisha   02:32:54.271 02:33:07.879 MARISHA: \"He's a dis...   \n",
       "Travis    02:33:40.291 02:33:49.379 TRAVIS: I think so.\\...   \n",
       "Taliesin  02:33:57.192 02:36:12.336 TALIESIN: A lonely t...   \n",
       "Dani      02:28:34.405 02:28:36.152 DANI: Wow.\\nBRIAN: H...   \n",
       "Brian     02:32:44.148 02:32:47.889 BRIAN: But if Travis...   \n",
       "Ashley    02:32:07.430 02:32:10.369 ASHLEY: \"You moldy, ...   \n",
       "Brittany  02:32:16.699 02:32:18.782 BRITTANY: \"You re-an...   \n",
       "Binwin     02:25:28.319 02:25:29.307 BINWIN: Of course not.   \n",
       "Crowy     02:25:47.848 02:25:53.902 CROWY: Create the be...   \n",
       "\n",
       "                                                ending_line  \n",
       "Liam         02:32:03.291 02:32:04.124 LIAM: \"String bean!\"  \n",
       "Laura     02:50:26.456 02:50:28.577 LAURA: People can se...  \n",
       "Sam       02:32:23.595 02:32:28.295 SAM: \"Yes, not appea...  \n",
       "Matt      02:49:17.698 02:49:53.780 MATT: And welcome ba...  \n",
       "Mica      02:26:31.950 02:26:48.875 MICA: I've always li...  \n",
       "All                    02:24:10.996 02:24:12.107 (cheering)  \n",
       "Marisha   02:51:01.493 02:51:05.788 MARISHA: All right, ...  \n",
       "Travis           02:49:53.780 02:49:54.702 TRAVIS: Oh shit.  \n",
       "Taliesin  02:52:15.121 02:52:16.295 TALIESIN: Hey!\\nTRAV...  \n",
       "Dani         02:30:02.272 02:30:03.232 DANI: Did you do it?  \n",
       "Brian     02:33:37.034 02:33:40.291 BRIAN: Okay, okay.\\n...  \n",
       "Ashley           02:32:53.302 02:32:54.271 ASHLEY: Oh, god.  \n",
       "Brittany  02:32:47.889 02:32:49.434 BRITTANY: \"A liabili...  \n",
       "Binwin    02:25:46.693 02:25:47.848 BINWIN: The K is sil...  \n",
       "Crowy     02:25:57.135 02:26:02.316 CROWY: You can click...  "
      ]
     },
     "metadata": {},
     "output_type": "display_data"
    },
    {
     "data": {
      "text/markdown": [
       "# Episode 76 - Refjorged"
      ],
      "text/plain": [
       "<IPython.core.display.Markdown object>"
      ]
     },
     "metadata": {},
     "output_type": "display_data"
    },
    {
     "name": "stdout",
     "output_type": "stream",
     "text": [
      "Added to cast: Steve\n"
     ]
    },
    {
     "data": {
      "text/html": [
       "<div>\n",
       "<style scoped>\n",
       "    .dataframe tbody tr th:only-of-type {\n",
       "        vertical-align: middle;\n",
       "    }\n",
       "\n",
       "    .dataframe tbody tr th {\n",
       "        vertical-align: top;\n",
       "    }\n",
       "\n",
       "    .dataframe thead th {\n",
       "        text-align: right;\n",
       "    }\n",
       "</style>\n",
       "<table border=\"1\" class=\"dataframe\">\n",
       "  <thead>\n",
       "    <tr style=\"text-align: right;\">\n",
       "      <th></th>\n",
       "      <th>interval</th>\n",
       "      <th>starting_line</th>\n",
       "      <th>ending_line</th>\n",
       "    </tr>\n",
       "  </thead>\n",
       "  <tbody>\n",
       "    <tr>\n",
       "      <th>Laura</th>\n",
       "      <td>0 days 00:39:52.257000</td>\n",
       "      <td>01:40:47.255 01:40:50.497 LAURA: You got it.\\n...</td>\n",
       "      <td>02:20:42.754 02:20:53.278 LAURA: Mm, cupcakes....</td>\n",
       "    </tr>\n",
       "    <tr>\n",
       "      <th>Liam</th>\n",
       "      <td>0 days 00:35:41.123000</td>\n",
       "      <td>01:46:32.262 01:46:33.227 LIAM: Return to the ...</td>\n",
       "      <td>02:22:14.350 02:22:20.567 LIAM: So today we ar...</td>\n",
       "    </tr>\n",
       "    <tr>\n",
       "      <th>Sam</th>\n",
       "      <td>0 days 00:33:37.794000</td>\n",
       "      <td>01:47:13.780 01:47:15.484 SAM: Yeah, yeah!</td>\n",
       "      <td>02:20:53.278 02:20:59.098 SAM: All right.\\nCan...</td>\n",
       "    </tr>\n",
       "    <tr>\n",
       "      <th>Marisha</th>\n",
       "      <td>0 days 00:27:28.475000</td>\n",
       "      <td>01:46:30.593 01:46:32.262 MARISHA: Let's go.</td>\n",
       "      <td>02:14:00.737 02:14:02.314 MARISHA: Oh shit.</td>\n",
       "    </tr>\n",
       "    <tr>\n",
       "      <th>Mica</th>\n",
       "      <td>0 days 00:24:04.931000</td>\n",
       "      <td>04:34:57.321 04:34:59.136 MICA: Hobbling, stum...</td>\n",
       "      <td>04:59:04.067 04:59:05.102 MICA: I know!</td>\n",
       "    </tr>\n",
       "    <tr>\n",
       "      <th>Travis</th>\n",
       "      <td>0 days 00:20:13.912000</td>\n",
       "      <td>04:31:48.609 04:31:50.042 TRAVIS: No.</td>\n",
       "      <td>04:52:03.954 04:52:05.320 TRAVIS: Hi.</td>\n",
       "    </tr>\n",
       "    <tr>\n",
       "      <th>Matt</th>\n",
       "      <td>0 days 00:18:40.398000</td>\n",
       "      <td>01:54:10.290 01:54:11.783 MATT: It's happening!</td>\n",
       "      <td>02:12:52.181 02:13:04.044 MATT: And welcome ba...</td>\n",
       "    </tr>\n",
       "    <tr>\n",
       "      <th>Taliesin</th>\n",
       "      <td>0 days 00:18:14.548000</td>\n",
       "      <td>01:40:18.660 01:40:19.825 TALIESIN: All right.</td>\n",
       "      <td>01:58:34.373 01:59:54.841 TALIESIN: For your c...</td>\n",
       "    </tr>\n",
       "    <tr>\n",
       "      <th>All</th>\n",
       "      <td>0 days 00:13:02.521000</td>\n",
       "      <td>01:59:56.640 02:00:01.523 (dramatic music)</td>\n",
       "      <td>02:13:04.044 02:13:05.852 (laughter and cheering)</td>\n",
       "    </tr>\n",
       "    <tr>\n",
       "      <th>Dani</th>\n",
       "      <td>0 days 00:01:40.605000</td>\n",
       "      <td>01:56:42.761 01:56:49.636 DANI: Off in the dis...</td>\n",
       "      <td>01:58:30.241 01:58:34.373 DANI: I just want to...</td>\n",
       "    </tr>\n",
       "    <tr>\n",
       "      <th>Brian</th>\n",
       "      <td>0 days 00:00:28.478000</td>\n",
       "      <td>01:51:37.951 01:51:39.462 BRIAN: Wow?</td>\n",
       "      <td>01:52:07.940 01:52:13.721 BRIAN: I want you to...</td>\n",
       "    </tr>\n",
       "    <tr>\n",
       "      <th>Binwin</th>\n",
       "      <td>0 days 00:00:17.505000</td>\n",
       "      <td>01:48:58.394 01:48:59.291 BINWIN: Of course not.</td>\n",
       "      <td>01:49:16.796 01:49:17.985 BINWIN: The K is sil...</td>\n",
       "    </tr>\n",
       "    <tr>\n",
       "      <th>Crowy</th>\n",
       "      <td>0 days 00:00:09.002000</td>\n",
       "      <td>01:48:46.193 01:48:47.026 CROWY: Hello.</td>\n",
       "      <td>01:48:56.028 01:48:58.394 CROWY: Let's talk ab...</td>\n",
       "    </tr>\n",
       "    <tr>\n",
       "      <th>Steve</th>\n",
       "      <td>0 days 00:00:08.214000</td>\n",
       "      <td>01:53:22.478 01:53:24.062 STEVE: Can't.\\nBRIAN...</td>\n",
       "      <td>01:53:32.276 01:53:33.109 STEVE: Action.</td>\n",
       "    </tr>\n",
       "  </tbody>\n",
       "</table>\n",
       "</div>"
      ],
      "text/plain": [
       "                       interval  \\\n",
       "Laura    0 days 00:39:52.257000   \n",
       "Liam     0 days 00:35:41.123000   \n",
       "Sam      0 days 00:33:37.794000   \n",
       "Marisha  0 days 00:27:28.475000   \n",
       "Mica     0 days 00:24:04.931000   \n",
       "Travis   0 days 00:20:13.912000   \n",
       "Matt     0 days 00:18:40.398000   \n",
       "Taliesin 0 days 00:18:14.548000   \n",
       "All      0 days 00:13:02.521000   \n",
       "Dani     0 days 00:01:40.605000   \n",
       "Brian    0 days 00:00:28.478000   \n",
       "Binwin   0 days 00:00:17.505000   \n",
       "Crowy    0 days 00:00:09.002000   \n",
       "Steve    0 days 00:00:08.214000   \n",
       "\n",
       "                                              starting_line  \\\n",
       "Laura     01:40:47.255 01:40:50.497 LAURA: You got it.\\n...   \n",
       "Liam      01:46:32.262 01:46:33.227 LIAM: Return to the ...   \n",
       "Sam              01:47:13.780 01:47:15.484 SAM: Yeah, yeah!   \n",
       "Marisha        01:46:30.593 01:46:32.262 MARISHA: Let's go.   \n",
       "Mica      04:34:57.321 04:34:59.136 MICA: Hobbling, stum...   \n",
       "Travis                04:31:48.609 04:31:50.042 TRAVIS: No.   \n",
       "Matt        01:54:10.290 01:54:11.783 MATT: It's happening!   \n",
       "Taliesin     01:40:18.660 01:40:19.825 TALIESIN: All right.   \n",
       "All              01:59:56.640 02:00:01.523 (dramatic music)   \n",
       "Dani      01:56:42.761 01:56:49.636 DANI: Off in the dis...   \n",
       "Brian                 01:51:37.951 01:51:39.462 BRIAN: Wow?   \n",
       "Binwin     01:48:58.394 01:48:59.291 BINWIN: Of course not.   \n",
       "Crowy               01:48:46.193 01:48:47.026 CROWY: Hello.   \n",
       "Steve     01:53:22.478 01:53:24.062 STEVE: Can't.\\nBRIAN...   \n",
       "\n",
       "                                                ending_line  \n",
       "Laura     02:20:42.754 02:20:53.278 LAURA: Mm, cupcakes....  \n",
       "Liam      02:22:14.350 02:22:20.567 LIAM: So today we ar...  \n",
       "Sam       02:20:53.278 02:20:59.098 SAM: All right.\\nCan...  \n",
       "Marisha         02:14:00.737 02:14:02.314 MARISHA: Oh shit.  \n",
       "Mica                04:59:04.067 04:59:05.102 MICA: I know!  \n",
       "Travis                04:52:03.954 04:52:05.320 TRAVIS: Hi.  \n",
       "Matt      02:12:52.181 02:13:04.044 MATT: And welcome ba...  \n",
       "Taliesin  01:58:34.373 01:59:54.841 TALIESIN: For your c...  \n",
       "All       02:13:04.044 02:13:05.852 (laughter and cheering)  \n",
       "Dani      01:58:30.241 01:58:34.373 DANI: I just want to...  \n",
       "Brian     01:52:07.940 01:52:13.721 BRIAN: I want you to...  \n",
       "Binwin    01:49:16.796 01:49:17.985 BINWIN: The K is sil...  \n",
       "Crowy     01:48:56.028 01:48:58.394 CROWY: Let's talk ab...  \n",
       "Steve              01:53:32.276 01:53:33.109 STEVE: Action.  "
      ]
     },
     "metadata": {},
     "output_type": "display_data"
    },
    {
     "data": {
      "text/markdown": [
       "# Episode 77 - A Tangled Web"
      ],
      "text/plain": [
       "<IPython.core.display.Markdown object>"
      ]
     },
     "metadata": {},
     "output_type": "display_data"
    },
    {
     "data": {
      "text/html": [
       "<div>\n",
       "<style scoped>\n",
       "    .dataframe tbody tr th:only-of-type {\n",
       "        vertical-align: middle;\n",
       "    }\n",
       "\n",
       "    .dataframe tbody tr th {\n",
       "        vertical-align: top;\n",
       "    }\n",
       "\n",
       "    .dataframe thead th {\n",
       "        text-align: right;\n",
       "    }\n",
       "</style>\n",
       "<table border=\"1\" class=\"dataframe\">\n",
       "  <thead>\n",
       "    <tr style=\"text-align: right;\">\n",
       "      <th></th>\n",
       "      <th>interval</th>\n",
       "      <th>starting_line</th>\n",
       "      <th>ending_line</th>\n",
       "    </tr>\n",
       "  </thead>\n",
       "  <tbody>\n",
       "    <tr>\n",
       "      <th>All</th>\n",
       "      <td>0 days 00:30:10.512000</td>\n",
       "      <td>02:47:43.380 02:47:45.561 (laughter)</td>\n",
       "      <td>03:17:56.073 03:17:58.323 (laughter)</td>\n",
       "    </tr>\n",
       "    <tr>\n",
       "      <th>Marisha</th>\n",
       "      <td>0 days 00:26:52.157000</td>\n",
       "      <td>01:33:37.870 01:33:42.815 MARISHA: Yes I do, y...</td>\n",
       "      <td>02:00:34.972 02:00:37.441 MARISHA: Was it like...</td>\n",
       "    </tr>\n",
       "    <tr>\n",
       "      <th>Taliesin</th>\n",
       "      <td>0 days 00:26:18.259000</td>\n",
       "      <td>01:34:03.673 01:34:04.506 TALIESIN: Caramel corn.</td>\n",
       "      <td>02:00:22.765 02:00:24.123 TALIESIN: Wow, that ...</td>\n",
       "    </tr>\n",
       "    <tr>\n",
       "      <th>Liam</th>\n",
       "      <td>0 days 00:23:54.791000</td>\n",
       "      <td>01:35:36.153 01:35:44.119 LIAM: Is it pretty?\\...</td>\n",
       "      <td>01:59:38.910 01:59:40.333 LIAM: I tug on it a ...</td>\n",
       "    </tr>\n",
       "    <tr>\n",
       "      <th>Sam</th>\n",
       "      <td>0 days 00:22:38.438000</td>\n",
       "      <td>01:35:44.119 01:35:51.773 SAM: What?\\nMATT: Wh...</td>\n",
       "      <td>01:58:30.211 01:58:33.813 SAM: (as Daft Punk) ...</td>\n",
       "    </tr>\n",
       "    <tr>\n",
       "      <th>Laura</th>\n",
       "      <td>0 days 00:20:20.812000</td>\n",
       "      <td>01:36:26.740 01:38:17.064 LAURA: He did it aga...</td>\n",
       "      <td>01:58:37.876 01:58:40.800 LAURA: That's the ki...</td>\n",
       "    </tr>\n",
       "    <tr>\n",
       "      <th>Travis</th>\n",
       "      <td>0 days 00:15:40.694000</td>\n",
       "      <td>01:42:41.130 01:42:43.870 TRAVIS: I think you'...</td>\n",
       "      <td>01:58:24.564 01:58:26.111 TRAVIS: Musicmaiden97.</td>\n",
       "    </tr>\n",
       "    <tr>\n",
       "      <th>Matt</th>\n",
       "      <td>0 days 00:13:00.850000</td>\n",
       "      <td>01:43:29.193 01:45:14.419 MATT: (groaning)\\nOh...</td>\n",
       "      <td>01:58:15.269 01:58:24.564 MATT: Welcome back, ...</td>\n",
       "    </tr>\n",
       "    <tr>\n",
       "      <th>Brian</th>\n",
       "      <td>0 days 00:00:24.820000</td>\n",
       "      <td>01:39:58.320 01:40:01.230 BRIAN: Howdy, new cr...</td>\n",
       "      <td>01:40:26.050 01:40:30.780 BRIAN: I don't know,...</td>\n",
       "    </tr>\n",
       "    <tr>\n",
       "      <th>Dani</th>\n",
       "      <td>0 days 00:00:11.648000</td>\n",
       "      <td>01:40:15.071 01:40:23.722 DANI: \"I was just do...</td>\n",
       "      <td>01:40:35.370 01:40:53.652 DANI: \"I could give ...</td>\n",
       "    </tr>\n",
       "  </tbody>\n",
       "</table>\n",
       "</div>"
      ],
      "text/plain": [
       "                       interval  \\\n",
       "All      0 days 00:30:10.512000   \n",
       "Marisha  0 days 00:26:52.157000   \n",
       "Taliesin 0 days 00:26:18.259000   \n",
       "Liam     0 days 00:23:54.791000   \n",
       "Sam      0 days 00:22:38.438000   \n",
       "Laura    0 days 00:20:20.812000   \n",
       "Travis   0 days 00:15:40.694000   \n",
       "Matt     0 days 00:13:00.850000   \n",
       "Brian    0 days 00:00:24.820000   \n",
       "Dani     0 days 00:00:11.648000   \n",
       "\n",
       "                                              starting_line  \\\n",
       "All                    02:47:43.380 02:47:45.561 (laughter)   \n",
       "Marisha   01:33:37.870 01:33:42.815 MARISHA: Yes I do, y...   \n",
       "Taliesin  01:34:03.673 01:34:04.506 TALIESIN: Caramel corn.   \n",
       "Liam      01:35:36.153 01:35:44.119 LIAM: Is it pretty?\\...   \n",
       "Sam       01:35:44.119 01:35:51.773 SAM: What?\\nMATT: Wh...   \n",
       "Laura     01:36:26.740 01:38:17.064 LAURA: He did it aga...   \n",
       "Travis    01:42:41.130 01:42:43.870 TRAVIS: I think you'...   \n",
       "Matt      01:43:29.193 01:45:14.419 MATT: (groaning)\\nOh...   \n",
       "Brian     01:39:58.320 01:40:01.230 BRIAN: Howdy, new cr...   \n",
       "Dani      01:40:15.071 01:40:23.722 DANI: \"I was just do...   \n",
       "\n",
       "                                                ending_line  \n",
       "All                    03:17:56.073 03:17:58.323 (laughter)  \n",
       "Marisha   02:00:34.972 02:00:37.441 MARISHA: Was it like...  \n",
       "Taliesin  02:00:22.765 02:00:24.123 TALIESIN: Wow, that ...  \n",
       "Liam      01:59:38.910 01:59:40.333 LIAM: I tug on it a ...  \n",
       "Sam       01:58:30.211 01:58:33.813 SAM: (as Daft Punk) ...  \n",
       "Laura     01:58:37.876 01:58:40.800 LAURA: That's the ki...  \n",
       "Travis     01:58:24.564 01:58:26.111 TRAVIS: Musicmaiden97.  \n",
       "Matt      01:58:15.269 01:58:24.564 MATT: Welcome back, ...  \n",
       "Brian     01:40:26.050 01:40:30.780 BRIAN: I don't know,...  \n",
       "Dani      01:40:35.370 01:40:53.652 DANI: \"I could give ...  "
      ]
     },
     "metadata": {},
     "output_type": "display_data"
    },
    {
     "data": {
      "text/markdown": [
       "# Episode 78 - Between the Lines"
      ],
      "text/plain": [
       "<IPython.core.display.Markdown object>"
      ]
     },
     "metadata": {},
     "output_type": "display_data"
    },
    {
     "data": {
      "text/html": [
       "<div>\n",
       "<style scoped>\n",
       "    .dataframe tbody tr th:only-of-type {\n",
       "        vertical-align: middle;\n",
       "    }\n",
       "\n",
       "    .dataframe tbody tr th {\n",
       "        vertical-align: top;\n",
       "    }\n",
       "\n",
       "    .dataframe thead th {\n",
       "        text-align: right;\n",
       "    }\n",
       "</style>\n",
       "<table border=\"1\" class=\"dataframe\">\n",
       "  <thead>\n",
       "    <tr style=\"text-align: right;\">\n",
       "      <th></th>\n",
       "      <th>interval</th>\n",
       "      <th>starting_line</th>\n",
       "      <th>ending_line</th>\n",
       "    </tr>\n",
       "  </thead>\n",
       "  <tbody>\n",
       "    <tr>\n",
       "      <th>Laura</th>\n",
       "      <td>0 days 00:29:22.066000</td>\n",
       "      <td>01:55:07.633 01:55:11.583 LAURA: No, my dress ...</td>\n",
       "      <td>02:24:33.649 02:24:34.657 LAURA: I just stare.</td>\n",
       "    </tr>\n",
       "    <tr>\n",
       "      <th>Liam</th>\n",
       "      <td>0 days 00:24:30.032000</td>\n",
       "      <td>01:56:56.964 01:56:58.214 LIAM: So it's no lon...</td>\n",
       "      <td>02:21:28.246 02:21:29.319 LIAM: I was just goi...</td>\n",
       "    </tr>\n",
       "    <tr>\n",
       "      <th>Marisha</th>\n",
       "      <td>0 days 00:22:56.981000</td>\n",
       "      <td>01:56:32.993 01:56:34.028 MARISHA: Sorry, yeah.</td>\n",
       "      <td>02:19:31.009 02:19:32.748 MARISHA: I learned s...</td>\n",
       "    </tr>\n",
       "    <tr>\n",
       "      <th>Taliesin</th>\n",
       "      <td>0 days 00:22:07.834000</td>\n",
       "      <td>01:57:24.769 01:57:25.777 TALIESIN: Back to Za...</td>\n",
       "      <td>02:19:33.611 02:19:36.271 TALIESIN: Thank you....</td>\n",
       "    </tr>\n",
       "    <tr>\n",
       "      <th>Matt</th>\n",
       "      <td>0 days 00:21:30.816000</td>\n",
       "      <td>01:57:34.883 01:57:56.548 MATT: Dragon head de...</td>\n",
       "      <td>02:19:27.364 02:19:30.051 MATT: Welcome back, ...</td>\n",
       "    </tr>\n",
       "    <tr>\n",
       "      <th>Sam</th>\n",
       "      <td>0 days 00:20:54.062000</td>\n",
       "      <td>02:04:12.619 02:04:17.494 SAM: I'm a fan of we...</td>\n",
       "      <td>02:25:11.556 02:25:13.330 SAM: Who can we talk...</td>\n",
       "    </tr>\n",
       "    <tr>\n",
       "      <th>All</th>\n",
       "      <td>0 days 00:18:01.729000</td>\n",
       "      <td>02:04:35.752 02:04:40.752 (dramatic music)</td>\n",
       "      <td>02:22:42.481 02:22:44.081 (laughter)</td>\n",
       "    </tr>\n",
       "    <tr>\n",
       "      <th>Travis</th>\n",
       "      <td>0 days 00:17:30.911000</td>\n",
       "      <td>02:03:02.008 02:03:06.246 TRAVIS: Down, down, ...</td>\n",
       "      <td>02:20:37.157 02:20:46.050 TRAVIS: Apart from t...</td>\n",
       "    </tr>\n",
       "    <tr>\n",
       "      <th>Brian</th>\n",
       "      <td>0 days 00:00:27.081000</td>\n",
       "      <td>02:00:30.402 02:00:31.715 BRIAN: Holy shit, wh...</td>\n",
       "      <td>02:00:58.796 02:01:02.517 BRIAN: No, I don't k...</td>\n",
       "    </tr>\n",
       "    <tr>\n",
       "      <th>Brittany</th>\n",
       "      <td>0 days 00:00:12.676000</td>\n",
       "      <td>01:59:28.833 01:59:34.694 BRITTANY: Ahoy there...</td>\n",
       "      <td>01:59:47.370 01:59:49.786 BRITTANY: I be Red B...</td>\n",
       "    </tr>\n",
       "  </tbody>\n",
       "</table>\n",
       "</div>"
      ],
      "text/plain": [
       "                       interval  \\\n",
       "Laura    0 days 00:29:22.066000   \n",
       "Liam     0 days 00:24:30.032000   \n",
       "Marisha  0 days 00:22:56.981000   \n",
       "Taliesin 0 days 00:22:07.834000   \n",
       "Matt     0 days 00:21:30.816000   \n",
       "Sam      0 days 00:20:54.062000   \n",
       "All      0 days 00:18:01.729000   \n",
       "Travis   0 days 00:17:30.911000   \n",
       "Brian    0 days 00:00:27.081000   \n",
       "Brittany 0 days 00:00:12.676000   \n",
       "\n",
       "                                              starting_line  \\\n",
       "Laura     01:55:07.633 01:55:11.583 LAURA: No, my dress ...   \n",
       "Liam      01:56:56.964 01:56:58.214 LIAM: So it's no lon...   \n",
       "Marisha     01:56:32.993 01:56:34.028 MARISHA: Sorry, yeah.   \n",
       "Taliesin  01:57:24.769 01:57:25.777 TALIESIN: Back to Za...   \n",
       "Matt      01:57:34.883 01:57:56.548 MATT: Dragon head de...   \n",
       "Sam       02:04:12.619 02:04:17.494 SAM: I'm a fan of we...   \n",
       "All              02:04:35.752 02:04:40.752 (dramatic music)   \n",
       "Travis    02:03:02.008 02:03:06.246 TRAVIS: Down, down, ...   \n",
       "Brian     02:00:30.402 02:00:31.715 BRIAN: Holy shit, wh...   \n",
       "Brittany  01:59:28.833 01:59:34.694 BRITTANY: Ahoy there...   \n",
       "\n",
       "                                                ending_line  \n",
       "Laura        02:24:33.649 02:24:34.657 LAURA: I just stare.  \n",
       "Liam      02:21:28.246 02:21:29.319 LIAM: I was just goi...  \n",
       "Marisha   02:19:31.009 02:19:32.748 MARISHA: I learned s...  \n",
       "Taliesin  02:19:33.611 02:19:36.271 TALIESIN: Thank you....  \n",
       "Matt      02:19:27.364 02:19:30.051 MATT: Welcome back, ...  \n",
       "Sam       02:25:11.556 02:25:13.330 SAM: Who can we talk...  \n",
       "All                    02:22:42.481 02:22:44.081 (laughter)  \n",
       "Travis    02:20:37.157 02:20:46.050 TRAVIS: Apart from t...  \n",
       "Brian     02:00:58.796 02:01:02.517 BRIAN: No, I don't k...  \n",
       "Brittany  01:59:47.370 01:59:49.786 BRITTANY: I be Red B...  "
      ]
     },
     "metadata": {},
     "output_type": "display_data"
    },
    {
     "data": {
      "text/markdown": [
       "# Episode 79 - Through the Trees"
      ],
      "text/plain": [
       "<IPython.core.display.Markdown object>"
      ]
     },
     "metadata": {},
     "output_type": "display_data"
    },
    {
     "data": {
      "text/html": [
       "<div>\n",
       "<style scoped>\n",
       "    .dataframe tbody tr th:only-of-type {\n",
       "        vertical-align: middle;\n",
       "    }\n",
       "\n",
       "    .dataframe tbody tr th {\n",
       "        vertical-align: top;\n",
       "    }\n",
       "\n",
       "    .dataframe thead th {\n",
       "        text-align: right;\n",
       "    }\n",
       "</style>\n",
       "<table border=\"1\" class=\"dataframe\">\n",
       "  <thead>\n",
       "    <tr style=\"text-align: right;\">\n",
       "      <th></th>\n",
       "      <th>interval</th>\n",
       "      <th>starting_line</th>\n",
       "      <th>ending_line</th>\n",
       "    </tr>\n",
       "  </thead>\n",
       "  <tbody>\n",
       "    <tr>\n",
       "      <th>All</th>\n",
       "      <td>0 days 00:25:15.650000</td>\n",
       "      <td>03:22:07.068 03:22:09.412 (low laughter)</td>\n",
       "      <td>03:47:25.062 03:47:26.440 (swooshing)</td>\n",
       "    </tr>\n",
       "    <tr>\n",
       "      <th>Laura</th>\n",
       "      <td>0 days 00:24:50.188000</td>\n",
       "      <td>01:38:34.622 01:38:57.762 LAURA: I have to pee...</td>\n",
       "      <td>02:03:47.950 02:03:50.340 LAURA: I got to pee,...</td>\n",
       "    </tr>\n",
       "    <tr>\n",
       "      <th>Taliesin</th>\n",
       "      <td>0 days 00:24:38.750000</td>\n",
       "      <td>01:38:57.762 01:38:59.160 TALIESIN: With our p...</td>\n",
       "      <td>02:03:37.910 02:03:40.540 TALIESIN: 123 feet.</td>\n",
       "    </tr>\n",
       "    <tr>\n",
       "      <th>Marisha</th>\n",
       "      <td>0 days 00:23:05.370000</td>\n",
       "      <td>01:42:05.790 01:42:12.290 MARISHA: Wake up to ...</td>\n",
       "      <td>02:05:17.660 02:05:19.350 MARISHA: Break.</td>\n",
       "    </tr>\n",
       "    <tr>\n",
       "      <th>Sam</th>\n",
       "      <td>0 days 00:19:28.440000</td>\n",
       "      <td>01:44:14.281 01:44:17.080 SAM: All right, go b...</td>\n",
       "      <td>02:03:45.520 02:03:47.950 SAM: Laura, did you ...</td>\n",
       "    </tr>\n",
       "    <tr>\n",
       "      <th>Liam</th>\n",
       "      <td>0 days 00:17:03.460000</td>\n",
       "      <td>01:47:11.070 01:47:27.500 LIAM: Yeah, good que...</td>\n",
       "      <td>02:04:30.960 02:04:37.063 LIAM: That's what yo...</td>\n",
       "    </tr>\n",
       "    <tr>\n",
       "      <th>Travis</th>\n",
       "      <td>0 days 00:14:51.403000</td>\n",
       "      <td>01:48:42.753 01:48:49.970 TRAVIS: Could've bee...</td>\n",
       "      <td>02:03:41.373 02:03:45.520 TRAVIS: I don't need...</td>\n",
       "    </tr>\n",
       "    <tr>\n",
       "      <th>Matt</th>\n",
       "      <td>0 days 00:12:49.461000</td>\n",
       "      <td>01:48:50.089 01:50:32.500 MATT: (as Pumat Sol)...</td>\n",
       "      <td>02:03:21.961 02:03:37.910 MATT: And welcome ba...</td>\n",
       "    </tr>\n",
       "    <tr>\n",
       "      <th>Dani</th>\n",
       "      <td>0 days 00:01:40.900000</td>\n",
       "      <td>01:42:38.614 01:42:39.780 DANI: What is going on?</td>\n",
       "      <td>01:44:20.680 01:44:44.934 DANI: You're as high...</td>\n",
       "    </tr>\n",
       "    <tr>\n",
       "      <th>Brian</th>\n",
       "      <td>0 days 00:00:44.520000</td>\n",
       "      <td>01:42:12.290 01:42:25.120 BRIAN: In the new ch...</td>\n",
       "      <td>01:43:09.640 01:43:13.763 BRIAN: I apologize, ...</td>\n",
       "    </tr>\n",
       "  </tbody>\n",
       "</table>\n",
       "</div>"
      ],
      "text/plain": [
       "                       interval  \\\n",
       "All      0 days 00:25:15.650000   \n",
       "Laura    0 days 00:24:50.188000   \n",
       "Taliesin 0 days 00:24:38.750000   \n",
       "Marisha  0 days 00:23:05.370000   \n",
       "Sam      0 days 00:19:28.440000   \n",
       "Liam     0 days 00:17:03.460000   \n",
       "Travis   0 days 00:14:51.403000   \n",
       "Matt     0 days 00:12:49.461000   \n",
       "Dani     0 days 00:01:40.900000   \n",
       "Brian    0 days 00:00:44.520000   \n",
       "\n",
       "                                              starting_line  \\\n",
       "All                03:22:07.068 03:22:09.412 (low laughter)   \n",
       "Laura     01:38:34.622 01:38:57.762 LAURA: I have to pee...   \n",
       "Taliesin  01:38:57.762 01:38:59.160 TALIESIN: With our p...   \n",
       "Marisha   01:42:05.790 01:42:12.290 MARISHA: Wake up to ...   \n",
       "Sam       01:44:14.281 01:44:17.080 SAM: All right, go b...   \n",
       "Liam      01:47:11.070 01:47:27.500 LIAM: Yeah, good que...   \n",
       "Travis    01:48:42.753 01:48:49.970 TRAVIS: Could've bee...   \n",
       "Matt      01:48:50.089 01:50:32.500 MATT: (as Pumat Sol)...   \n",
       "Dani      01:42:38.614 01:42:39.780 DANI: What is going on?   \n",
       "Brian     01:42:12.290 01:42:25.120 BRIAN: In the new ch...   \n",
       "\n",
       "                                                ending_line  \n",
       "All                   03:47:25.062 03:47:26.440 (swooshing)  \n",
       "Laura     02:03:47.950 02:03:50.340 LAURA: I got to pee,...  \n",
       "Taliesin      02:03:37.910 02:03:40.540 TALIESIN: 123 feet.  \n",
       "Marisha           02:05:17.660 02:05:19.350 MARISHA: Break.  \n",
       "Sam       02:03:45.520 02:03:47.950 SAM: Laura, did you ...  \n",
       "Liam      02:04:30.960 02:04:37.063 LIAM: That's what yo...  \n",
       "Travis    02:03:41.373 02:03:45.520 TRAVIS: I don't need...  \n",
       "Matt      02:03:21.961 02:03:37.910 MATT: And welcome ba...  \n",
       "Dani      01:44:20.680 01:44:44.934 DANI: You're as high...  \n",
       "Brian     01:43:09.640 01:43:13.763 BRIAN: I apologize, ...  "
      ]
     },
     "metadata": {},
     "output_type": "display_data"
    },
    {
     "data": {
      "text/markdown": [
       "# Episode 80 - The Folding Halls"
      ],
      "text/plain": [
       "<IPython.core.display.Markdown object>"
      ]
     },
     "metadata": {},
     "output_type": "display_data"
    },
    {
     "data": {
      "text/html": [
       "<div>\n",
       "<style scoped>\n",
       "    .dataframe tbody tr th:only-of-type {\n",
       "        vertical-align: middle;\n",
       "    }\n",
       "\n",
       "    .dataframe tbody tr th {\n",
       "        vertical-align: top;\n",
       "    }\n",
       "\n",
       "    .dataframe thead th {\n",
       "        text-align: right;\n",
       "    }\n",
       "</style>\n",
       "<table border=\"1\" class=\"dataframe\">\n",
       "  <thead>\n",
       "    <tr style=\"text-align: right;\">\n",
       "      <th></th>\n",
       "      <th>interval</th>\n",
       "      <th>starting_line</th>\n",
       "      <th>ending_line</th>\n",
       "    </tr>\n",
       "  </thead>\n",
       "  <tbody>\n",
       "    <tr>\n",
       "      <th>Liam</th>\n",
       "      <td>0 days 00:24:01.307000</td>\n",
       "      <td>01:41:19.171 01:41:23.551 LIAM: I know it's me...</td>\n",
       "      <td>02:05:24.858 02:05:26.724 LIAM: And we're goin...</td>\n",
       "    </tr>\n",
       "    <tr>\n",
       "      <th>Laura</th>\n",
       "      <td>0 days 00:22:29.289000</td>\n",
       "      <td>01:41:43.633 01:41:46.862 LAURA: We can do it ...</td>\n",
       "      <td>02:04:16.151 02:04:18.023 LAURA: We're in it, ...</td>\n",
       "    </tr>\n",
       "    <tr>\n",
       "      <th>Sam</th>\n",
       "      <td>0 days 00:22:26.128000</td>\n",
       "      <td>01:41:49.529 01:41:51.895 SAM: Oh yeah, yeah, ...</td>\n",
       "      <td>02:04:18.023 02:04:21.530 SAM: We're in the Ha...</td>\n",
       "    </tr>\n",
       "    <tr>\n",
       "      <th>All</th>\n",
       "      <td>0 days 00:21:49.133000</td>\n",
       "      <td>01:50:34.206 01:50:37.956 (dramatic orchestral...</td>\n",
       "      <td>02:12:27.089 02:12:28.330 (laughter)</td>\n",
       "    </tr>\n",
       "    <tr>\n",
       "      <th>Matt</th>\n",
       "      <td>0 days 00:21:24.874000</td>\n",
       "      <td>01:42:30.591 01:42:32.398 MATT: Yes, enjoy!</td>\n",
       "      <td>02:03:57.272 02:04:16.151 MATT: Welcome back! ...</td>\n",
       "    </tr>\n",
       "    <tr>\n",
       "      <th>Marisha</th>\n",
       "      <td>0 days 00:19:35.720000</td>\n",
       "      <td>01:42:36.820 01:45:17.030 MARISHA: Go ahead.\\n...</td>\n",
       "      <td>02:04:52.750 02:04:56.730 MARISHA: There's a f...</td>\n",
       "    </tr>\n",
       "    <tr>\n",
       "      <th>Taliesin</th>\n",
       "      <td>0 days 00:17:04.913000</td>\n",
       "      <td>01:47:18.878 01:47:20.702 TALIESIN: Excuse me....</td>\n",
       "      <td>02:04:25.615 02:04:26.448 TALIESIN: Lumbar.</td>\n",
       "    </tr>\n",
       "    <tr>\n",
       "      <th>Travis</th>\n",
       "      <td>0 days 00:14:37.979000</td>\n",
       "      <td>01:50:05.591 01:50:18.751 TRAVIS: Oh!\\nOh no, ...</td>\n",
       "      <td>02:04:56.730 02:04:57.739 TRAVIS: (shushing)</td>\n",
       "    </tr>\n",
       "    <tr>\n",
       "      <th>Brian</th>\n",
       "      <td>0 days 00:00:50.527000</td>\n",
       "      <td>01:46:28.793 01:46:30.175 BRIAN: Ascended One,...</td>\n",
       "      <td>01:47:20.702 01:47:23.687 BRIAN: Are you vapin...</td>\n",
       "    </tr>\n",
       "  </tbody>\n",
       "</table>\n",
       "</div>"
      ],
      "text/plain": [
       "                       interval  \\\n",
       "Liam     0 days 00:24:01.307000   \n",
       "Laura    0 days 00:22:29.289000   \n",
       "Sam      0 days 00:22:26.128000   \n",
       "All      0 days 00:21:49.133000   \n",
       "Matt     0 days 00:21:24.874000   \n",
       "Marisha  0 days 00:19:35.720000   \n",
       "Taliesin 0 days 00:17:04.913000   \n",
       "Travis   0 days 00:14:37.979000   \n",
       "Brian    0 days 00:00:50.527000   \n",
       "\n",
       "                                              starting_line  \\\n",
       "Liam      01:41:19.171 01:41:23.551 LIAM: I know it's me...   \n",
       "Laura     01:41:43.633 01:41:46.862 LAURA: We can do it ...   \n",
       "Sam       01:41:49.529 01:41:51.895 SAM: Oh yeah, yeah, ...   \n",
       "All       01:50:34.206 01:50:37.956 (dramatic orchestral...   \n",
       "Matt            01:42:30.591 01:42:32.398 MATT: Yes, enjoy!   \n",
       "Marisha   01:42:36.820 01:45:17.030 MARISHA: Go ahead.\\n...   \n",
       "Taliesin  01:47:18.878 01:47:20.702 TALIESIN: Excuse me....   \n",
       "Travis    01:50:05.591 01:50:18.751 TRAVIS: Oh!\\nOh no, ...   \n",
       "Brian     01:46:28.793 01:46:30.175 BRIAN: Ascended One,...   \n",
       "\n",
       "                                                ending_line  \n",
       "Liam      02:05:24.858 02:05:26.724 LIAM: And we're goin...  \n",
       "Laura     02:04:16.151 02:04:18.023 LAURA: We're in it, ...  \n",
       "Sam       02:04:18.023 02:04:21.530 SAM: We're in the Ha...  \n",
       "All                    02:12:27.089 02:12:28.330 (laughter)  \n",
       "Matt      02:03:57.272 02:04:16.151 MATT: Welcome back! ...  \n",
       "Marisha   02:04:52.750 02:04:56.730 MARISHA: There's a f...  \n",
       "Taliesin        02:04:25.615 02:04:26.448 TALIESIN: Lumbar.  \n",
       "Travis         02:04:56.730 02:04:57.739 TRAVIS: (shushing)  \n",
       "Brian     01:47:20.702 01:47:23.687 BRIAN: Are you vapin...  "
      ]
     },
     "metadata": {},
     "output_type": "display_data"
    },
    {
     "data": {
      "text/markdown": [
       "# Episode 81 - From Door to Door"
      ],
      "text/plain": [
       "<IPython.core.display.Markdown object>"
      ]
     },
     "metadata": {},
     "output_type": "display_data"
    },
    {
     "name": "stdout",
     "output_type": "stream",
     "text": [
      "Added to cast: Will\n"
     ]
    },
    {
     "data": {
      "text/html": [
       "<div>\n",
       "<style scoped>\n",
       "    .dataframe tbody tr th:only-of-type {\n",
       "        vertical-align: middle;\n",
       "    }\n",
       "\n",
       "    .dataframe tbody tr th {\n",
       "        vertical-align: top;\n",
       "    }\n",
       "\n",
       "    .dataframe thead th {\n",
       "        text-align: right;\n",
       "    }\n",
       "</style>\n",
       "<table border=\"1\" class=\"dataframe\">\n",
       "  <thead>\n",
       "    <tr style=\"text-align: right;\">\n",
       "      <th></th>\n",
       "      <th>interval</th>\n",
       "      <th>starting_line</th>\n",
       "      <th>ending_line</th>\n",
       "    </tr>\n",
       "  </thead>\n",
       "  <tbody>\n",
       "    <tr>\n",
       "      <th>Laura</th>\n",
       "      <td>0 days 00:30:29.840000</td>\n",
       "      <td>02:25:10.263 02:25:11.890 LAURA: Ooh, yeah, th...</td>\n",
       "      <td>02:55:41.730 02:55:43.030 LAURA: Yeah.\\nTRAVIS...</td>\n",
       "    </tr>\n",
       "    <tr>\n",
       "      <th>Liam</th>\n",
       "      <td>0 days 00:30:25.110000</td>\n",
       "      <td>02:26:10.490 02:26:12.610 LIAM: And Beau and J...</td>\n",
       "      <td>02:56:37.720 02:56:43.150 LIAM: Well, a questi...</td>\n",
       "    </tr>\n",
       "    <tr>\n",
       "      <th>Sam</th>\n",
       "      <td>0 days 00:29:26.900000</td>\n",
       "      <td>02:26:23.240 02:26:24.360 SAM: Command.</td>\n",
       "      <td>02:55:51.260 02:55:57.340 SAM: Caduceus, maybe...</td>\n",
       "    </tr>\n",
       "    <tr>\n",
       "      <th>Marisha</th>\n",
       "      <td>0 days 00:24:30.912000</td>\n",
       "      <td>02:31:01.360 02:31:03.543 MARISHA: Follow your...</td>\n",
       "      <td>02:55:34.455 02:55:35.530 MARISHA: (groans)</td>\n",
       "    </tr>\n",
       "    <tr>\n",
       "      <th>Matt</th>\n",
       "      <td>0 days 00:18:49.356000</td>\n",
       "      <td>02:35:55.790 02:35:56.940 MATT: We're going to...</td>\n",
       "      <td>02:54:46.296 02:55:29.840 MATT: And welcome ba...</td>\n",
       "    </tr>\n",
       "    <tr>\n",
       "      <th>All</th>\n",
       "      <td>0 days 00:18:40.417000</td>\n",
       "      <td>03:45:10.051 03:45:12.148 (laughter)</td>\n",
       "      <td>04:03:52.565 04:03:54.857 (crunching noises)</td>\n",
       "    </tr>\n",
       "    <tr>\n",
       "      <th>Taliesin</th>\n",
       "      <td>0 days 00:16:41.010000</td>\n",
       "      <td>02:38:49.343 02:38:54.520 TALIESIN: It is time...</td>\n",
       "      <td>02:55:35.530 02:55:38.160 TALIESIN: Okay, I'm ...</td>\n",
       "    </tr>\n",
       "    <tr>\n",
       "      <th>Travis</th>\n",
       "      <td>0 days 00:13:26.510000</td>\n",
       "      <td>02:41:59.370 02:42:03.330 TRAVIS: Oh, shit, oh...</td>\n",
       "      <td>02:55:29.840 02:55:31.230 TRAVIS: That we know...</td>\n",
       "    </tr>\n",
       "    <tr>\n",
       "      <th>Both</th>\n",
       "      <td>0 days 00:04:17.239000</td>\n",
       "      <td>02:36:57.040 02:36:59.123 BOTH: Well, hell--</td>\n",
       "      <td>02:41:16.362 02:41:18.653 BOTH: \"You are a dol...</td>\n",
       "    </tr>\n",
       "    <tr>\n",
       "      <th>Brian</th>\n",
       "      <td>0 days 00:01:03.590000</td>\n",
       "      <td>02:32:24.810 02:32:42.740 BRIAN: Good Lord.\\nS...</td>\n",
       "      <td>02:33:46.330 02:33:48.800 BRIAN: That eyebrow ...</td>\n",
       "    </tr>\n",
       "    <tr>\n",
       "      <th>Babs</th>\n",
       "      <td>0 days 00:00:04.370000</td>\n",
       "      <td>02:30:54.580 02:30:55.730 BABS: You can put ma...</td>\n",
       "      <td>02:31:00.100 02:31:01.360 BABS: Adorable case.</td>\n",
       "    </tr>\n",
       "    <tr>\n",
       "      <th>Dani</th>\n",
       "      <td>0 days 00:00:00</td>\n",
       "      <td>02:36:27.583 02:36:28.749 DANI: I mean--\\nBRIA...</td>\n",
       "      <td>02:36:28.749 02:36:39.410 DANI: There's no abi...</td>\n",
       "    </tr>\n",
       "  </tbody>\n",
       "</table>\n",
       "</div>"
      ],
      "text/plain": [
       "                       interval  \\\n",
       "Laura    0 days 00:30:29.840000   \n",
       "Liam     0 days 00:30:25.110000   \n",
       "Sam      0 days 00:29:26.900000   \n",
       "Marisha  0 days 00:24:30.912000   \n",
       "Matt     0 days 00:18:49.356000   \n",
       "All      0 days 00:18:40.417000   \n",
       "Taliesin 0 days 00:16:41.010000   \n",
       "Travis   0 days 00:13:26.510000   \n",
       "Both     0 days 00:04:17.239000   \n",
       "Brian    0 days 00:01:03.590000   \n",
       "Babs     0 days 00:00:04.370000   \n",
       "Dani            0 days 00:00:00   \n",
       "\n",
       "                                              starting_line  \\\n",
       "Laura     02:25:10.263 02:25:11.890 LAURA: Ooh, yeah, th...   \n",
       "Liam      02:26:10.490 02:26:12.610 LIAM: And Beau and J...   \n",
       "Sam                 02:26:23.240 02:26:24.360 SAM: Command.   \n",
       "Marisha   02:31:01.360 02:31:03.543 MARISHA: Follow your...   \n",
       "Matt      02:35:55.790 02:35:56.940 MATT: We're going to...   \n",
       "All                    03:45:10.051 03:45:12.148 (laughter)   \n",
       "Taliesin  02:38:49.343 02:38:54.520 TALIESIN: It is time...   \n",
       "Travis    02:41:59.370 02:42:03.330 TRAVIS: Oh, shit, oh...   \n",
       "Both           02:36:57.040 02:36:59.123 BOTH: Well, hell--   \n",
       "Brian     02:32:24.810 02:32:42.740 BRIAN: Good Lord.\\nS...   \n",
       "Babs      02:30:54.580 02:30:55.730 BABS: You can put ma...   \n",
       "Dani      02:36:27.583 02:36:28.749 DANI: I mean--\\nBRIA...   \n",
       "\n",
       "                                                ending_line  \n",
       "Laura     02:55:41.730 02:55:43.030 LAURA: Yeah.\\nTRAVIS...  \n",
       "Liam      02:56:37.720 02:56:43.150 LIAM: Well, a questi...  \n",
       "Sam       02:55:51.260 02:55:57.340 SAM: Caduceus, maybe...  \n",
       "Marisha         02:55:34.455 02:55:35.530 MARISHA: (groans)  \n",
       "Matt      02:54:46.296 02:55:29.840 MATT: And welcome ba...  \n",
       "All            04:03:52.565 04:03:54.857 (crunching noises)  \n",
       "Taliesin  02:55:35.530 02:55:38.160 TALIESIN: Okay, I'm ...  \n",
       "Travis    02:55:29.840 02:55:31.230 TRAVIS: That we know...  \n",
       "Both      02:41:16.362 02:41:18.653 BOTH: \"You are a dol...  \n",
       "Brian     02:33:46.330 02:33:48.800 BRIAN: That eyebrow ...  \n",
       "Babs         02:31:00.100 02:31:01.360 BABS: Adorable case.  \n",
       "Dani      02:36:28.749 02:36:39.410 DANI: There's no abi...  "
      ]
     },
     "metadata": {},
     "output_type": "display_data"
    },
    {
     "data": {
      "text/markdown": [
       "# Episode 82 - The Beat of the Permaheart"
      ],
      "text/plain": [
       "<IPython.core.display.Markdown object>"
      ]
     },
     "metadata": {},
     "output_type": "display_data"
    },
    {
     "name": "stdout",
     "output_type": "stream",
     "text": [
      "Added to cast: Vo\n"
     ]
    },
    {
     "data": {
      "text/html": [
       "<div>\n",
       "<style scoped>\n",
       "    .dataframe tbody tr th:only-of-type {\n",
       "        vertical-align: middle;\n",
       "    }\n",
       "\n",
       "    .dataframe tbody tr th {\n",
       "        vertical-align: top;\n",
       "    }\n",
       "\n",
       "    .dataframe thead th {\n",
       "        text-align: right;\n",
       "    }\n",
       "</style>\n",
       "<table border=\"1\" class=\"dataframe\">\n",
       "  <thead>\n",
       "    <tr style=\"text-align: right;\">\n",
       "      <th></th>\n",
       "      <th>interval</th>\n",
       "      <th>starting_line</th>\n",
       "      <th>ending_line</th>\n",
       "    </tr>\n",
       "  </thead>\n",
       "  <tbody>\n",
       "    <tr>\n",
       "      <th>Taliesin</th>\n",
       "      <td>0 days 00:33:09.867000</td>\n",
       "      <td>01:41:19.103 01:41:20.143 TALIESIN: Mm-hmm.</td>\n",
       "      <td>02:14:30.010 02:14:30.843 TALIESIN: Eight parter?</td>\n",
       "    </tr>\n",
       "    <tr>\n",
       "      <th>Liam</th>\n",
       "      <td>0 days 00:32:57.642000</td>\n",
       "      <td>01:43:01.876 01:43:04.046 LIAM: Good rolls, pe...</td>\n",
       "      <td>02:16:01.688 02:16:04.652 LIAM: That means ras...</td>\n",
       "    </tr>\n",
       "    <tr>\n",
       "      <th>Laura</th>\n",
       "      <td>0 days 00:31:49.708000</td>\n",
       "      <td>01:42:30.620 01:42:34.192 LAURA: Nope.\\nI mean...</td>\n",
       "      <td>02:14:23.900 02:14:25.041 LAURA: Sweet, good job.</td>\n",
       "    </tr>\n",
       "    <tr>\n",
       "      <th>Matt</th>\n",
       "      <td>0 days 00:29:17.864000</td>\n",
       "      <td>01:43:16.227 01:44:42.098 MATT: This is the ni...</td>\n",
       "      <td>02:13:59.962 02:14:17.810 MATT: And welcome ba...</td>\n",
       "    </tr>\n",
       "    <tr>\n",
       "      <th>Marisha</th>\n",
       "      <td>0 days 00:23:37.668000</td>\n",
       "      <td>01:52:05.438 01:52:26.984 MARISHA: Follow your...</td>\n",
       "      <td>02:16:04.652 02:16:06.397 MARISHA: What are th...</td>\n",
       "    </tr>\n",
       "    <tr>\n",
       "      <th>All</th>\n",
       "      <td>0 days 00:19:14.509000</td>\n",
       "      <td>03:46:00.169 03:46:01.166 (sighs)</td>\n",
       "      <td>04:05:15.675 04:05:16.697 (laughter)</td>\n",
       "    </tr>\n",
       "    <tr>\n",
       "      <th>Travis</th>\n",
       "      <td>0 days 00:17:20.401000</td>\n",
       "      <td>01:57:56.735 01:57:58.902 TRAVIS: I'm going un...</td>\n",
       "      <td>02:15:19.303 02:15:22.087 TRAVIS: Oh my god, o...</td>\n",
       "    </tr>\n",
       "    <tr>\n",
       "      <th>Sam</th>\n",
       "      <td>0 days 00:15:57.592000</td>\n",
       "      <td>01:42:46.991 01:42:49.472 SAM: We're in a craz...</td>\n",
       "      <td>01:58:47.064 01:59:46.251 SAM: I'm a fan of ho...</td>\n",
       "    </tr>\n",
       "    <tr>\n",
       "      <th>Vo</th>\n",
       "      <td>0 days 00:01:07.527000</td>\n",
       "      <td>01:56:11.337 01:56:12.399 VO: Little pig!</td>\n",
       "      <td>01:57:19.926 01:57:26.084 VO: Get them out, pl...</td>\n",
       "    </tr>\n",
       "    <tr>\n",
       "      <th>Dani</th>\n",
       "      <td>0 days 00:01:07.112000</td>\n",
       "      <td>01:50:12.666 01:50:13.779 DANI: I'm not even g...</td>\n",
       "      <td>01:51:20.891 01:51:24.558 DANI: That's what pe...</td>\n",
       "    </tr>\n",
       "    <tr>\n",
       "      <th>Brian</th>\n",
       "      <td>0 days 00:00:49.898000</td>\n",
       "      <td>01:50:13.779 01:50:23.407 BRIAN: \"About how th...</td>\n",
       "      <td>01:51:13.305 01:51:19.478 BRIAN: Someday, if I...</td>\n",
       "    </tr>\n",
       "    <tr>\n",
       "      <th>Brittany</th>\n",
       "      <td>0 days 00:00:14.860000</td>\n",
       "      <td>01:53:55.366 01:54:20.273 BRITTANY: \"Well, aft...</td>\n",
       "      <td>01:54:35.133 01:54:43.230 BRITTANY: \"The Diemo...</td>\n",
       "    </tr>\n",
       "    <tr>\n",
       "      <th>Babs</th>\n",
       "      <td>0 days 00:00:04.350000</td>\n",
       "      <td>01:51:58.700 01:51:59.799 BABS: You can put ma...</td>\n",
       "      <td>01:52:04.149 01:52:05.438 BABS: Adorable case.</td>\n",
       "    </tr>\n",
       "  </tbody>\n",
       "</table>\n",
       "</div>"
      ],
      "text/plain": [
       "                       interval  \\\n",
       "Taliesin 0 days 00:33:09.867000   \n",
       "Liam     0 days 00:32:57.642000   \n",
       "Laura    0 days 00:31:49.708000   \n",
       "Matt     0 days 00:29:17.864000   \n",
       "Marisha  0 days 00:23:37.668000   \n",
       "All      0 days 00:19:14.509000   \n",
       "Travis   0 days 00:17:20.401000   \n",
       "Sam      0 days 00:15:57.592000   \n",
       "Vo       0 days 00:01:07.527000   \n",
       "Dani     0 days 00:01:07.112000   \n",
       "Brian    0 days 00:00:49.898000   \n",
       "Brittany 0 days 00:00:14.860000   \n",
       "Babs     0 days 00:00:04.350000   \n",
       "\n",
       "                                              starting_line  \\\n",
       "Taliesin        01:41:19.103 01:41:20.143 TALIESIN: Mm-hmm.   \n",
       "Liam      01:43:01.876 01:43:04.046 LIAM: Good rolls, pe...   \n",
       "Laura     01:42:30.620 01:42:34.192 LAURA: Nope.\\nI mean...   \n",
       "Matt      01:43:16.227 01:44:42.098 MATT: This is the ni...   \n",
       "Marisha   01:52:05.438 01:52:26.984 MARISHA: Follow your...   \n",
       "All                       03:46:00.169 03:46:01.166 (sighs)   \n",
       "Travis    01:57:56.735 01:57:58.902 TRAVIS: I'm going un...   \n",
       "Sam       01:42:46.991 01:42:49.472 SAM: We're in a craz...   \n",
       "Vo                01:56:11.337 01:56:12.399 VO: Little pig!   \n",
       "Dani      01:50:12.666 01:50:13.779 DANI: I'm not even g...   \n",
       "Brian     01:50:13.779 01:50:23.407 BRIAN: \"About how th...   \n",
       "Brittany  01:53:55.366 01:54:20.273 BRITTANY: \"Well, aft...   \n",
       "Babs      01:51:58.700 01:51:59.799 BABS: You can put ma...   \n",
       "\n",
       "                                                ending_line  \n",
       "Taliesin  02:14:30.010 02:14:30.843 TALIESIN: Eight parter?  \n",
       "Liam      02:16:01.688 02:16:04.652 LIAM: That means ras...  \n",
       "Laura     02:14:23.900 02:14:25.041 LAURA: Sweet, good job.  \n",
       "Matt      02:13:59.962 02:14:17.810 MATT: And welcome ba...  \n",
       "Marisha   02:16:04.652 02:16:06.397 MARISHA: What are th...  \n",
       "All                    04:05:15.675 04:05:16.697 (laughter)  \n",
       "Travis    02:15:19.303 02:15:22.087 TRAVIS: Oh my god, o...  \n",
       "Sam       01:58:47.064 01:59:46.251 SAM: I'm a fan of ho...  \n",
       "Vo        01:57:19.926 01:57:26.084 VO: Get them out, pl...  \n",
       "Dani      01:51:20.891 01:51:24.558 DANI: That's what pe...  \n",
       "Brian     01:51:13.305 01:51:19.478 BRIAN: Someday, if I...  \n",
       "Brittany  01:54:35.133 01:54:43.230 BRITTANY: \"The Diemo...  \n",
       "Babs         01:52:04.149 01:52:05.438 BABS: Adorable case.  "
      ]
     },
     "metadata": {},
     "output_type": "display_data"
    },
    {
     "data": {
      "text/markdown": [
       "# Episode 83 - Dark Bargains"
      ],
      "text/plain": [
       "<IPython.core.display.Markdown object>"
      ]
     },
     "metadata": {},
     "output_type": "display_data"
    },
    {
     "name": "stdout",
     "output_type": "stream",
     "text": [
      "Added to cast: Arsequeef\n"
     ]
    },
    {
     "data": {
      "text/html": [
       "<div>\n",
       "<style scoped>\n",
       "    .dataframe tbody tr th:only-of-type {\n",
       "        vertical-align: middle;\n",
       "    }\n",
       "\n",
       "    .dataframe tbody tr th {\n",
       "        vertical-align: top;\n",
       "    }\n",
       "\n",
       "    .dataframe thead th {\n",
       "        text-align: right;\n",
       "    }\n",
       "</style>\n",
       "<table border=\"1\" class=\"dataframe\">\n",
       "  <thead>\n",
       "    <tr style=\"text-align: right;\">\n",
       "      <th></th>\n",
       "      <th>interval</th>\n",
       "      <th>starting_line</th>\n",
       "      <th>ending_line</th>\n",
       "    </tr>\n",
       "  </thead>\n",
       "  <tbody>\n",
       "    <tr>\n",
       "      <th>Laura</th>\n",
       "      <td>0 days 00:34:56.132000</td>\n",
       "      <td>02:00:42.349 02:00:47.834 LAURA: (whooshing)\\n...</td>\n",
       "      <td>02:35:43.966 02:35:45.190 LAURA: The Prison of...</td>\n",
       "    </tr>\n",
       "    <tr>\n",
       "      <th>Marisha</th>\n",
       "      <td>0 days 00:34:17.902000</td>\n",
       "      <td>02:00:47.834 02:00:48.947 MARISHA: (grunts)</td>\n",
       "      <td>02:35:06.849 02:35:07.682 MARISHA: We didn't d...</td>\n",
       "    </tr>\n",
       "    <tr>\n",
       "      <th>Liam</th>\n",
       "      <td>0 days 00:31:45.464000</td>\n",
       "      <td>02:01:13.654 02:01:17.780 LIAM: My palms have ...</td>\n",
       "      <td>02:33:03.244 02:33:05.063 LIAM: Is that your s...</td>\n",
       "    </tr>\n",
       "    <tr>\n",
       "      <th>Matt</th>\n",
       "      <td>0 days 00:30:51.479000</td>\n",
       "      <td>02:01:19.469 02:01:48.649 MATT: In the meantim...</td>\n",
       "      <td>02:32:40.128 02:32:48.652 MATT: And welcome ba...</td>\n",
       "    </tr>\n",
       "    <tr>\n",
       "      <th>Sam</th>\n",
       "      <td>0 days 00:24:43.375000</td>\n",
       "      <td>02:08:34.521 02:08:36.908 SAM: He does better ...</td>\n",
       "      <td>02:33:20.283 02:33:21.316 SAM: (gasps)\\nLAURA:...</td>\n",
       "    </tr>\n",
       "    <tr>\n",
       "      <th>All</th>\n",
       "      <td>0 days 00:19:52.085000</td>\n",
       "      <td>02:51:37.079 02:51:38.156 (laughter)</td>\n",
       "      <td>03:11:30.241 03:11:31.632 ALL: Oh!</td>\n",
       "    </tr>\n",
       "    <tr>\n",
       "      <th>Travis</th>\n",
       "      <td>0 days 00:15:59.425000</td>\n",
       "      <td>02:16:15.309 02:16:55.613 TRAVIS: Our father, ...</td>\n",
       "      <td>02:32:55.038 02:32:56.492 TRAVIS: Is it N-O-T-...</td>\n",
       "    </tr>\n",
       "    <tr>\n",
       "      <th>Taliesin</th>\n",
       "      <td>0 days 00:13:02.021000</td>\n",
       "      <td>02:18:27.360 02:19:47.745 TALIESIN: For your c...</td>\n",
       "      <td>02:32:49.766 02:32:50.618 TALIESIN: Big fan.</td>\n",
       "    </tr>\n",
       "    <tr>\n",
       "      <th>Jerry</th>\n",
       "      <td>0 days 00:02:42.828000</td>\n",
       "      <td>02:05:21.977 02:05:23.715 JERRY: That is a goo...</td>\n",
       "      <td>02:08:06.543 02:08:08.062 JERRY: No, that was ...</td>\n",
       "    </tr>\n",
       "    <tr>\n",
       "      <th>Brian</th>\n",
       "      <td>0 days 00:01:16.521000</td>\n",
       "      <td>02:08:38.222 02:08:50.696 BRIAN: Who put him--...</td>\n",
       "      <td>02:10:07.217 02:10:09.516 BRIAN: What?\\nOh no,...</td>\n",
       "    </tr>\n",
       "    <tr>\n",
       "      <th>Brittany</th>\n",
       "      <td>0 days 00:00:14.451000</td>\n",
       "      <td>02:11:31.989 02:11:57.067 BRITTANY: \"Well, aft...</td>\n",
       "      <td>02:12:11.518 02:12:19.568 BRITTANY: \"The Diemo...</td>\n",
       "    </tr>\n",
       "    <tr>\n",
       "      <th>Arsequeef</th>\n",
       "      <td>0 days 00:00:10.419000</td>\n",
       "      <td>02:08:11.781 02:08:13.090 ARSEQUEEF: Sam, stop...</td>\n",
       "      <td>02:08:23.509 02:08:25.386 ARSEQUEEF: I also ha...</td>\n",
       "    </tr>\n",
       "  </tbody>\n",
       "</table>\n",
       "</div>"
      ],
      "text/plain": [
       "                        interval  \\\n",
       "Laura     0 days 00:34:56.132000   \n",
       "Marisha   0 days 00:34:17.902000   \n",
       "Liam      0 days 00:31:45.464000   \n",
       "Matt      0 days 00:30:51.479000   \n",
       "Sam       0 days 00:24:43.375000   \n",
       "All       0 days 00:19:52.085000   \n",
       "Travis    0 days 00:15:59.425000   \n",
       "Taliesin  0 days 00:13:02.021000   \n",
       "Jerry     0 days 00:02:42.828000   \n",
       "Brian     0 days 00:01:16.521000   \n",
       "Brittany  0 days 00:00:14.451000   \n",
       "Arsequeef 0 days 00:00:10.419000   \n",
       "\n",
       "                                               starting_line  \\\n",
       "Laura      02:00:42.349 02:00:47.834 LAURA: (whooshing)\\n...   \n",
       "Marisha          02:00:47.834 02:00:48.947 MARISHA: (grunts)   \n",
       "Liam       02:01:13.654 02:01:17.780 LIAM: My palms have ...   \n",
       "Matt       02:01:19.469 02:01:48.649 MATT: In the meantim...   \n",
       "Sam        02:08:34.521 02:08:36.908 SAM: He does better ...   \n",
       "All                     02:51:37.079 02:51:38.156 (laughter)   \n",
       "Travis     02:16:15.309 02:16:55.613 TRAVIS: Our father, ...   \n",
       "Taliesin   02:18:27.360 02:19:47.745 TALIESIN: For your c...   \n",
       "Jerry      02:05:21.977 02:05:23.715 JERRY: That is a goo...   \n",
       "Brian      02:08:38.222 02:08:50.696 BRIAN: Who put him--...   \n",
       "Brittany   02:11:31.989 02:11:57.067 BRITTANY: \"Well, aft...   \n",
       "Arsequeef  02:08:11.781 02:08:13.090 ARSEQUEEF: Sam, stop...   \n",
       "\n",
       "                                                 ending_line  \n",
       "Laura      02:35:43.966 02:35:45.190 LAURA: The Prison of...  \n",
       "Marisha    02:35:06.849 02:35:07.682 MARISHA: We didn't d...  \n",
       "Liam       02:33:03.244 02:33:05.063 LIAM: Is that your s...  \n",
       "Matt       02:32:40.128 02:32:48.652 MATT: And welcome ba...  \n",
       "Sam        02:33:20.283 02:33:21.316 SAM: (gasps)\\nLAURA:...  \n",
       "All                       03:11:30.241 03:11:31.632 ALL: Oh!  \n",
       "Travis     02:32:55.038 02:32:56.492 TRAVIS: Is it N-O-T-...  \n",
       "Taliesin        02:32:49.766 02:32:50.618 TALIESIN: Big fan.  \n",
       "Jerry      02:08:06.543 02:08:08.062 JERRY: No, that was ...  \n",
       "Brian      02:10:07.217 02:10:09.516 BRIAN: What?\\nOh no,...  \n",
       "Brittany   02:12:11.518 02:12:19.568 BRITTANY: \"The Diemo...  \n",
       "Arsequeef  02:08:23.509 02:08:25.386 ARSEQUEEF: I also ha...  "
      ]
     },
     "metadata": {},
     "output_type": "display_data"
    },
    {
     "data": {
      "text/markdown": [
       "# Episode 84 - Titles and Tattoos"
      ],
      "text/plain": [
       "<IPython.core.display.Markdown object>"
      ]
     },
     "metadata": {},
     "output_type": "display_data"
    },
    {
     "data": {
      "text/html": [
       "<div>\n",
       "<style scoped>\n",
       "    .dataframe tbody tr th:only-of-type {\n",
       "        vertical-align: middle;\n",
       "    }\n",
       "\n",
       "    .dataframe tbody tr th {\n",
       "        vertical-align: top;\n",
       "    }\n",
       "\n",
       "    .dataframe thead th {\n",
       "        text-align: right;\n",
       "    }\n",
       "</style>\n",
       "<table border=\"1\" class=\"dataframe\">\n",
       "  <thead>\n",
       "    <tr style=\"text-align: right;\">\n",
       "      <th></th>\n",
       "      <th>interval</th>\n",
       "      <th>starting_line</th>\n",
       "      <th>ending_line</th>\n",
       "    </tr>\n",
       "  </thead>\n",
       "  <tbody>\n",
       "    <tr>\n",
       "      <th>Sam</th>\n",
       "      <td>0 days 00:36:17.568000</td>\n",
       "      <td>01:45:19.725 01:45:22.205 SAM: Makes me very s...</td>\n",
       "      <td>02:21:39.773 02:21:44.273 SAM: Yes, you should...</td>\n",
       "    </tr>\n",
       "    <tr>\n",
       "      <th>Marisha</th>\n",
       "      <td>0 days 00:34:12.892000</td>\n",
       "      <td>01:45:30.471 01:45:32.440 MARISHA: He can do i...</td>\n",
       "      <td>02:19:45.332 02:19:46.474 MARISHA: (laughs)</td>\n",
       "    </tr>\n",
       "    <tr>\n",
       "      <th>Taliesin</th>\n",
       "      <td>0 days 00:32:22.908000</td>\n",
       "      <td>01:47:14.249 01:47:15.169 TALIESIN: ♪ Chain! ♪</td>\n",
       "      <td>02:19:38.077 02:19:39.062 TALIESIN: That was a...</td>\n",
       "    </tr>\n",
       "    <tr>\n",
       "      <th>Liam</th>\n",
       "      <td>0 days 00:25:06.062000</td>\n",
       "      <td>03:02:25.584 03:02:27.820 LIAM: It's like Supe...</td>\n",
       "      <td>03:27:33.882 03:27:35.523 LIAM: One was glued ...</td>\n",
       "    </tr>\n",
       "    <tr>\n",
       "      <th>Matt</th>\n",
       "      <td>0 days 00:22:35.262000</td>\n",
       "      <td>01:56:25.932 01:56:32.124 MATT: I think we're ...</td>\n",
       "      <td>02:19:07.386 02:19:33.895 MATT: Welcome back.\\...</td>\n",
       "    </tr>\n",
       "    <tr>\n",
       "      <th>Laura</th>\n",
       "      <td>0 days 00:21:27.901000</td>\n",
       "      <td>02:01:52.234 02:01:58.699 LAURA: That is so we...</td>\n",
       "      <td>02:23:26.600 02:23:27.681 LAURA: Just Beau?</td>\n",
       "    </tr>\n",
       "    <tr>\n",
       "      <th>Travis</th>\n",
       "      <td>0 days 00:17:32.055000</td>\n",
       "      <td>02:01:58.699 02:02:05.189 TRAVIS: We're not-- ...</td>\n",
       "      <td>02:19:37.244 02:19:38.077 TRAVIS: Wow!</td>\n",
       "    </tr>\n",
       "    <tr>\n",
       "      <th>All</th>\n",
       "      <td>0 days 00:17:28.753000</td>\n",
       "      <td>03:05:55.870 03:05:57.245 (exclaiming)</td>\n",
       "      <td>03:23:25.998 03:23:28.849 (laughter)</td>\n",
       "    </tr>\n",
       "    <tr>\n",
       "      <th>Dani</th>\n",
       "      <td>0 days 00:05:06.220000</td>\n",
       "      <td>01:50:25.586 01:50:27.451 DANI: How many quest...</td>\n",
       "      <td>01:55:33.671 01:55:34.504 DANI: Yes!</td>\n",
       "    </tr>\n",
       "    <tr>\n",
       "      <th>Brian</th>\n",
       "      <td>0 days 00:01:19.188000</td>\n",
       "      <td>01:50:59.103 01:50:59.936 BRIAN: Hmm.</td>\n",
       "      <td>01:52:19.124 01:53:00.343 BRIAN: Hold on.\\nThi...</td>\n",
       "    </tr>\n",
       "  </tbody>\n",
       "</table>\n",
       "</div>"
      ],
      "text/plain": [
       "                       interval  \\\n",
       "Sam      0 days 00:36:17.568000   \n",
       "Marisha  0 days 00:34:12.892000   \n",
       "Taliesin 0 days 00:32:22.908000   \n",
       "Liam     0 days 00:25:06.062000   \n",
       "Matt     0 days 00:22:35.262000   \n",
       "Laura    0 days 00:21:27.901000   \n",
       "Travis   0 days 00:17:32.055000   \n",
       "All      0 days 00:17:28.753000   \n",
       "Dani     0 days 00:05:06.220000   \n",
       "Brian    0 days 00:01:19.188000   \n",
       "\n",
       "                                              starting_line  \\\n",
       "Sam       01:45:19.725 01:45:22.205 SAM: Makes me very s...   \n",
       "Marisha   01:45:30.471 01:45:32.440 MARISHA: He can do i...   \n",
       "Taliesin     01:47:14.249 01:47:15.169 TALIESIN: ♪ Chain! ♪   \n",
       "Liam      03:02:25.584 03:02:27.820 LIAM: It's like Supe...   \n",
       "Matt      01:56:25.932 01:56:32.124 MATT: I think we're ...   \n",
       "Laura     02:01:52.234 02:01:58.699 LAURA: That is so we...   \n",
       "Travis    02:01:58.699 02:02:05.189 TRAVIS: We're not-- ...   \n",
       "All                  03:05:55.870 03:05:57.245 (exclaiming)   \n",
       "Dani      01:50:25.586 01:50:27.451 DANI: How many quest...   \n",
       "Brian                 01:50:59.103 01:50:59.936 BRIAN: Hmm.   \n",
       "\n",
       "                                                ending_line  \n",
       "Sam       02:21:39.773 02:21:44.273 SAM: Yes, you should...  \n",
       "Marisha         02:19:45.332 02:19:46.474 MARISHA: (laughs)  \n",
       "Taliesin  02:19:38.077 02:19:39.062 TALIESIN: That was a...  \n",
       "Liam      03:27:33.882 03:27:35.523 LIAM: One was glued ...  \n",
       "Matt      02:19:07.386 02:19:33.895 MATT: Welcome back.\\...  \n",
       "Laura           02:23:26.600 02:23:27.681 LAURA: Just Beau?  \n",
       "Travis               02:19:37.244 02:19:38.077 TRAVIS: Wow!  \n",
       "All                    03:23:25.998 03:23:28.849 (laughter)  \n",
       "Dani                   01:55:33.671 01:55:34.504 DANI: Yes!  \n",
       "Brian     01:52:19.124 01:53:00.343 BRIAN: Hold on.\\nThi...  "
      ]
     },
     "metadata": {},
     "output_type": "display_data"
    },
    {
     "data": {
      "text/markdown": [
       "# Episode 85 - The Threads Converge"
      ],
      "text/plain": [
       "<IPython.core.display.Markdown object>"
      ]
     },
     "metadata": {},
     "output_type": "display_data"
    },
    {
     "data": {
      "text/html": [
       "<div>\n",
       "<style scoped>\n",
       "    .dataframe tbody tr th:only-of-type {\n",
       "        vertical-align: middle;\n",
       "    }\n",
       "\n",
       "    .dataframe tbody tr th {\n",
       "        vertical-align: top;\n",
       "    }\n",
       "\n",
       "    .dataframe thead th {\n",
       "        text-align: right;\n",
       "    }\n",
       "</style>\n",
       "<table border=\"1\" class=\"dataframe\">\n",
       "  <thead>\n",
       "    <tr style=\"text-align: right;\">\n",
       "      <th></th>\n",
       "      <th>interval</th>\n",
       "      <th>starting_line</th>\n",
       "      <th>ending_line</th>\n",
       "    </tr>\n",
       "  </thead>\n",
       "  <tbody>\n",
       "    <tr>\n",
       "      <th>Marisha</th>\n",
       "      <td>0 days 00:42:49.674000</td>\n",
       "      <td>02:32:03.072 02:32:04.572 MARISHA: Oh my god.</td>\n",
       "      <td>03:14:54.246 03:14:56.443 MARISHA: I don't kno...</td>\n",
       "    </tr>\n",
       "    <tr>\n",
       "      <th>Taliesin</th>\n",
       "      <td>0 days 00:29:35.079000</td>\n",
       "      <td>02:45:12.080 02:45:13.425 TALIESIN: We're all ...</td>\n",
       "      <td>03:14:48.504 03:14:51.004 TALIESIN: We had to ...</td>\n",
       "    </tr>\n",
       "    <tr>\n",
       "      <th>Matt</th>\n",
       "      <td>0 days 00:28:21.575000</td>\n",
       "      <td>02:45:50.139 02:46:00.757 MATT: Surprise, once...</td>\n",
       "      <td>03:14:22.332 03:14:42.395 MATT: Congratulation...</td>\n",
       "    </tr>\n",
       "    <tr>\n",
       "      <th>Liam</th>\n",
       "      <td>0 days 00:20:14.597000</td>\n",
       "      <td>02:55:01.482 02:55:09.655 LIAM: Overcooked 2!\\...</td>\n",
       "      <td>03:15:24.252 03:15:42.432 LIAM: One thing we c...</td>\n",
       "    </tr>\n",
       "    <tr>\n",
       "      <th>All</th>\n",
       "      <td>0 days 00:17:44.584000</td>\n",
       "      <td>03:14:19.890 03:14:22.332 (laughter)</td>\n",
       "      <td>03:32:06.916 03:32:08.371 (laughter)</td>\n",
       "    </tr>\n",
       "    <tr>\n",
       "      <th>Laura</th>\n",
       "      <td>0 days 00:17:35.075000</td>\n",
       "      <td>02:58:05.841 02:58:12.645 LAURA: That is so we...</td>\n",
       "      <td>03:15:47.720 03:15:50.553 LAURA: Yeah, because...</td>\n",
       "    </tr>\n",
       "    <tr>\n",
       "      <th>Travis</th>\n",
       "      <td>0 days 00:17:23.029000</td>\n",
       "      <td>02:58:12.645 02:58:21.121 TRAVIS: We're not go...</td>\n",
       "      <td>03:15:44.150 03:15:47.720 TRAVIS: Are we going...</td>\n",
       "    </tr>\n",
       "    <tr>\n",
       "      <th>Sam</th>\n",
       "      <td>0 days 00:16:28.169000</td>\n",
       "      <td>02:44:15.685 02:44:18.102 SAM: (laughs)</td>\n",
       "      <td>03:00:46.271 03:01:42.150 SAM: I'm a fan of ho...</td>\n",
       "    </tr>\n",
       "    <tr>\n",
       "      <th>Dani</th>\n",
       "      <td>0 days 00:01:34.836000</td>\n",
       "      <td>02:49:59.671 02:50:03.012 DANI: (laughs)</td>\n",
       "      <td>02:51:37.848 02:51:39.121 DANI: Yep.</td>\n",
       "    </tr>\n",
       "    <tr>\n",
       "      <th>Brian</th>\n",
       "      <td>0 days 00:01:09.642000</td>\n",
       "      <td>02:49:49.549 02:49:51.528 BRIAN: Stop it!</td>\n",
       "      <td>02:51:01.170 02:51:15.700 BRIAN: Our winner fo...</td>\n",
       "    </tr>\n",
       "  </tbody>\n",
       "</table>\n",
       "</div>"
      ],
      "text/plain": [
       "                       interval  \\\n",
       "Marisha  0 days 00:42:49.674000   \n",
       "Taliesin 0 days 00:29:35.079000   \n",
       "Matt     0 days 00:28:21.575000   \n",
       "Liam     0 days 00:20:14.597000   \n",
       "All      0 days 00:17:44.584000   \n",
       "Laura    0 days 00:17:35.075000   \n",
       "Travis   0 days 00:17:23.029000   \n",
       "Sam      0 days 00:16:28.169000   \n",
       "Dani     0 days 00:01:34.836000   \n",
       "Brian    0 days 00:01:09.642000   \n",
       "\n",
       "                                              starting_line  \\\n",
       "Marisha       02:32:03.072 02:32:04.572 MARISHA: Oh my god.   \n",
       "Taliesin  02:45:12.080 02:45:13.425 TALIESIN: We're all ...   \n",
       "Matt      02:45:50.139 02:46:00.757 MATT: Surprise, once...   \n",
       "Liam      02:55:01.482 02:55:09.655 LIAM: Overcooked 2!\\...   \n",
       "All                    03:14:19.890 03:14:22.332 (laughter)   \n",
       "Laura     02:58:05.841 02:58:12.645 LAURA: That is so we...   \n",
       "Travis    02:58:12.645 02:58:21.121 TRAVIS: We're not go...   \n",
       "Sam                 02:44:15.685 02:44:18.102 SAM: (laughs)   \n",
       "Dani               02:49:59.671 02:50:03.012 DANI: (laughs)   \n",
       "Brian             02:49:49.549 02:49:51.528 BRIAN: Stop it!   \n",
       "\n",
       "                                                ending_line  \n",
       "Marisha   03:14:54.246 03:14:56.443 MARISHA: I don't kno...  \n",
       "Taliesin  03:14:48.504 03:14:51.004 TALIESIN: We had to ...  \n",
       "Matt      03:14:22.332 03:14:42.395 MATT: Congratulation...  \n",
       "Liam      03:15:24.252 03:15:42.432 LIAM: One thing we c...  \n",
       "All                    03:32:06.916 03:32:08.371 (laughter)  \n",
       "Laura     03:15:47.720 03:15:50.553 LAURA: Yeah, because...  \n",
       "Travis    03:15:44.150 03:15:47.720 TRAVIS: Are we going...  \n",
       "Sam       03:00:46.271 03:01:42.150 SAM: I'm a fan of ho...  \n",
       "Dani                   02:51:37.848 02:51:39.121 DANI: Yep.  \n",
       "Brian     02:51:01.170 02:51:15.700 BRIAN: Our winner fo...  "
      ]
     },
     "metadata": {},
     "output_type": "display_data"
    },
    {
     "data": {
      "text/markdown": [
       "# Episode 86 - The Cathedral"
      ],
      "text/plain": [
       "<IPython.core.display.Markdown object>"
      ]
     },
     "metadata": {},
     "output_type": "display_data"
    },
    {
     "name": "stdout",
     "output_type": "stream",
     "text": [
      "Added to cast: Glenn\n",
      "Added to cast: Merry\n"
     ]
    },
    {
     "data": {
      "text/html": [
       "<div>\n",
       "<style scoped>\n",
       "    .dataframe tbody tr th:only-of-type {\n",
       "        vertical-align: middle;\n",
       "    }\n",
       "\n",
       "    .dataframe tbody tr th {\n",
       "        vertical-align: top;\n",
       "    }\n",
       "\n",
       "    .dataframe thead th {\n",
       "        text-align: right;\n",
       "    }\n",
       "</style>\n",
       "<table border=\"1\" class=\"dataframe\">\n",
       "  <thead>\n",
       "    <tr style=\"text-align: right;\">\n",
       "      <th></th>\n",
       "      <th>interval</th>\n",
       "      <th>starting_line</th>\n",
       "      <th>ending_line</th>\n",
       "    </tr>\n",
       "  </thead>\n",
       "  <tbody>\n",
       "    <tr>\n",
       "      <th>Taliesin</th>\n",
       "      <td>0 days 00:36:43.460000</td>\n",
       "      <td>02:54:07.700 02:54:09.926 TALIESIN: For you, i...</td>\n",
       "      <td>03:30:53.386 03:30:55.442 TALIESIN: That'll ta...</td>\n",
       "    </tr>\n",
       "    <tr>\n",
       "      <th>Laura</th>\n",
       "      <td>0 days 00:33:14.664000</td>\n",
       "      <td>02:53:17.022 02:53:19.406 LAURA: I go hug Yash...</td>\n",
       "      <td>03:26:34.070 03:26:36.655 LAURA: Did you succeed?</td>\n",
       "    </tr>\n",
       "    <tr>\n",
       "      <th>Sam</th>\n",
       "      <td>0 days 00:33:03.223000</td>\n",
       "      <td>02:52:03.333 02:52:04.667 SAM: I guess I had a...</td>\n",
       "      <td>03:25:07.890 03:25:09.142 SAM: Grats.</td>\n",
       "    </tr>\n",
       "    <tr>\n",
       "      <th>Ashley</th>\n",
       "      <td>0 days 00:32:15.579000</td>\n",
       "      <td>02:53:36.010 02:53:41.031 ASHLEY: Yes, I think...</td>\n",
       "      <td>03:25:56.610 03:25:57.510 ASHLEY: Yes.</td>\n",
       "    </tr>\n",
       "    <tr>\n",
       "      <th>Matt</th>\n",
       "      <td>0 days 00:29:20.134000</td>\n",
       "      <td>02:54:25.170 02:55:29.336 MATT: We have the\\nP...</td>\n",
       "      <td>03:24:49.470 03:25:07.890 MATT: Welcome back.\\...</td>\n",
       "    </tr>\n",
       "    <tr>\n",
       "      <th>Marisha</th>\n",
       "      <td>0 days 00:25:38.390000</td>\n",
       "      <td>03:02:25.210 03:02:29.570 MARISHA: Uh-huh.\\nTR...</td>\n",
       "      <td>03:28:07.960 03:28:10.405 MARISHA: But you com...</td>\n",
       "    </tr>\n",
       "    <tr>\n",
       "      <th>Travis</th>\n",
       "      <td>0 days 00:18:09.128000</td>\n",
       "      <td>03:07:34.960 03:07:37.052 TRAVIS: Two.\\nBRIAN:...</td>\n",
       "      <td>03:25:46.180 03:25:55.450 TRAVIS: First of all...</td>\n",
       "    </tr>\n",
       "    <tr>\n",
       "      <th>Liam</th>\n",
       "      <td>0 days 00:15:04.934000</td>\n",
       "      <td>03:10:13.080 03:11:48.036 LIAM: Subscribe or\\n...</td>\n",
       "      <td>03:26:52.970 03:26:55.626 LIAM: You haven't do...</td>\n",
       "    </tr>\n",
       "    <tr>\n",
       "      <th>All</th>\n",
       "      <td>0 days 00:12:58.944000</td>\n",
       "      <td>03:11:48.036 03:11:53.026 [dramatic orchestral...</td>\n",
       "      <td>03:24:51.970 03:24:53.150 (laughter)</td>\n",
       "    </tr>\n",
       "    <tr>\n",
       "      <th>Dani</th>\n",
       "      <td>0 days 00:02:14.881000</td>\n",
       "      <td>02:59:48.244 02:59:49.244 DANI: Yeah.\\nBRIAN: ...</td>\n",
       "      <td>03:02:04.125 03:02:05.500 DANI: Ooh, level\\nup...</td>\n",
       "    </tr>\n",
       "    <tr>\n",
       "      <th>Brian</th>\n",
       "      <td>0 days 00:00:51.917000</td>\n",
       "      <td>03:00:51.300 03:00:54.880 BRIAN: Good answer s...</td>\n",
       "      <td>03:01:46.797 03:01:54.685 BRIAN: So you're say...</td>\n",
       "    </tr>\n",
       "    <tr>\n",
       "      <th>Merry</th>\n",
       "      <td>0 days 00:00:18.330000</td>\n",
       "      <td>03:04:07.520 03:04:13.460 MERRY: Well, you wer...</td>\n",
       "      <td>03:04:31.790 03:04:41.210 MERRY: Mm-hmm.\\nBe m...</td>\n",
       "    </tr>\n",
       "    <tr>\n",
       "      <th>Max</th>\n",
       "      <td>0 days 00:00:07.488000</td>\n",
       "      <td>00:01:46.250 00:01:52.260 MAX: I-- I feel like...</td>\n",
       "      <td>00:01:59.748 00:02:05.320 MAX: Fine.\\nThis is ...</td>\n",
       "    </tr>\n",
       "  </tbody>\n",
       "</table>\n",
       "</div>"
      ],
      "text/plain": [
       "                       interval  \\\n",
       "Taliesin 0 days 00:36:43.460000   \n",
       "Laura    0 days 00:33:14.664000   \n",
       "Sam      0 days 00:33:03.223000   \n",
       "Ashley   0 days 00:32:15.579000   \n",
       "Matt     0 days 00:29:20.134000   \n",
       "Marisha  0 days 00:25:38.390000   \n",
       "Travis   0 days 00:18:09.128000   \n",
       "Liam     0 days 00:15:04.934000   \n",
       "All      0 days 00:12:58.944000   \n",
       "Dani     0 days 00:02:14.881000   \n",
       "Brian    0 days 00:00:51.917000   \n",
       "Merry    0 days 00:00:18.330000   \n",
       "Max      0 days 00:00:07.488000   \n",
       "\n",
       "                                              starting_line  \\\n",
       "Taliesin  02:54:07.700 02:54:09.926 TALIESIN: For you, i...   \n",
       "Laura     02:53:17.022 02:53:19.406 LAURA: I go hug Yash...   \n",
       "Sam       02:52:03.333 02:52:04.667 SAM: I guess I had a...   \n",
       "Ashley    02:53:36.010 02:53:41.031 ASHLEY: Yes, I think...   \n",
       "Matt      02:54:25.170 02:55:29.336 MATT: We have the\\nP...   \n",
       "Marisha   03:02:25.210 03:02:29.570 MARISHA: Uh-huh.\\nTR...   \n",
       "Travis    03:07:34.960 03:07:37.052 TRAVIS: Two.\\nBRIAN:...   \n",
       "Liam      03:10:13.080 03:11:48.036 LIAM: Subscribe or\\n...   \n",
       "All       03:11:48.036 03:11:53.026 [dramatic orchestral...   \n",
       "Dani      02:59:48.244 02:59:49.244 DANI: Yeah.\\nBRIAN: ...   \n",
       "Brian     03:00:51.300 03:00:54.880 BRIAN: Good answer s...   \n",
       "Merry     03:04:07.520 03:04:13.460 MERRY: Well, you wer...   \n",
       "Max       00:01:46.250 00:01:52.260 MAX: I-- I feel like...   \n",
       "\n",
       "                                                ending_line  \n",
       "Taliesin  03:30:53.386 03:30:55.442 TALIESIN: That'll ta...  \n",
       "Laura     03:26:34.070 03:26:36.655 LAURA: Did you succeed?  \n",
       "Sam                   03:25:07.890 03:25:09.142 SAM: Grats.  \n",
       "Ashley               03:25:56.610 03:25:57.510 ASHLEY: Yes.  \n",
       "Matt      03:24:49.470 03:25:07.890 MATT: Welcome back.\\...  \n",
       "Marisha   03:28:07.960 03:28:10.405 MARISHA: But you com...  \n",
       "Travis    03:25:46.180 03:25:55.450 TRAVIS: First of all...  \n",
       "Liam      03:26:52.970 03:26:55.626 LIAM: You haven't do...  \n",
       "All                    03:24:51.970 03:24:53.150 (laughter)  \n",
       "Dani      03:02:04.125 03:02:05.500 DANI: Ooh, level\\nup...  \n",
       "Brian     03:01:46.797 03:01:54.685 BRIAN: So you're say...  \n",
       "Merry     03:04:31.790 03:04:41.210 MERRY: Mm-hmm.\\nBe m...  \n",
       "Max       00:01:59.748 00:02:05.320 MAX: Fine.\\nThis is ...  "
      ]
     },
     "metadata": {},
     "output_type": "display_data"
    },
    {
     "data": {
      "text/markdown": [
       "# Episode 87 - Punishment and Politics"
      ],
      "text/plain": [
       "<IPython.core.display.Markdown object>"
      ]
     },
     "metadata": {},
     "output_type": "display_data"
    },
    {
     "name": "stdout",
     "output_type": "stream",
     "text": [
      "Added to cast: Flint\n"
     ]
    },
    {
     "data": {
      "text/html": [
       "<div>\n",
       "<style scoped>\n",
       "    .dataframe tbody tr th:only-of-type {\n",
       "        vertical-align: middle;\n",
       "    }\n",
       "\n",
       "    .dataframe tbody tr th {\n",
       "        vertical-align: top;\n",
       "    }\n",
       "\n",
       "    .dataframe thead th {\n",
       "        text-align: right;\n",
       "    }\n",
       "</style>\n",
       "<table border=\"1\" class=\"dataframe\">\n",
       "  <thead>\n",
       "    <tr style=\"text-align: right;\">\n",
       "      <th></th>\n",
       "      <th>interval</th>\n",
       "      <th>starting_line</th>\n",
       "      <th>ending_line</th>\n",
       "    </tr>\n",
       "  </thead>\n",
       "  <tbody>\n",
       "    <tr>\n",
       "      <th>Liam</th>\n",
       "      <td>0 days 00:33:03.953000</td>\n",
       "      <td>01:51:40.621 01:51:42.288 LIAM: So ready.\\nSAM...</td>\n",
       "      <td>02:24:46.241 02:24:47.357 LIAM: I don't imagin...</td>\n",
       "    </tr>\n",
       "    <tr>\n",
       "      <th>Laura</th>\n",
       "      <td>0 days 00:28:43.641000</td>\n",
       "      <td>01:53:00.300 01:53:01.357 LAURA: Punished.</td>\n",
       "      <td>02:21:44.998 02:21:54.539 LAURA: I just walk u...</td>\n",
       "    </tr>\n",
       "    <tr>\n",
       "      <th>Sam</th>\n",
       "      <td>0 days 00:27:51.226000</td>\n",
       "      <td>01:50:49.466 01:50:54.208 SAM: Hey.\\nDo we hav...</td>\n",
       "      <td>02:18:45.434 02:18:46.509 SAM: Matthew.\\nMATT:...</td>\n",
       "    </tr>\n",
       "    <tr>\n",
       "      <th>Ashley</th>\n",
       "      <td>0 days 00:26:14.097000</td>\n",
       "      <td>01:52:20.755 01:52:23.908 ASHLEY: I don't want...</td>\n",
       "      <td>02:18:38.005 02:18:42.472 ASHLEY: I just close...</td>\n",
       "    </tr>\n",
       "    <tr>\n",
       "      <th>Travis</th>\n",
       "      <td>0 days 00:23:35.335000</td>\n",
       "      <td>02:01:01.331 02:01:02.431 TRAVIS: Holy shit!</td>\n",
       "      <td>02:24:37.766 02:24:46.241 TRAVIS: I quickly tu...</td>\n",
       "    </tr>\n",
       "    <tr>\n",
       "      <th>Taliesin</th>\n",
       "      <td>0 days 00:21:44.961000</td>\n",
       "      <td>02:01:07.503 02:03:15.071 TALIESIN: Like a sym...</td>\n",
       "      <td>02:25:00.032 02:25:01.640 TALIESIN: You have a...</td>\n",
       "    </tr>\n",
       "    <tr>\n",
       "      <th>Marisha</th>\n",
       "      <td>0 days 00:20:39.561000</td>\n",
       "      <td>02:00:32.443 02:00:35.883 MARISHA: Oh, it's mu...</td>\n",
       "      <td>02:21:15.444 02:21:44.998 MARISHA: The what?\\n...</td>\n",
       "    </tr>\n",
       "    <tr>\n",
       "      <th>Matt</th>\n",
       "      <td>0 days 00:16:25.677000</td>\n",
       "      <td>02:00:53.185 02:00:56.089 MATT: God, what's go...</td>\n",
       "      <td>02:17:21.766 02:18:37.002 MATT: And welcome ba...</td>\n",
       "    </tr>\n",
       "    <tr>\n",
       "      <th>All</th>\n",
       "      <td>0 days 00:15:39.433000</td>\n",
       "      <td>02:03:20.595 02:03:23.345 (dramatic music)</td>\n",
       "      <td>02:19:02.778 02:19:03.774 (Matt and Sam chuckl...</td>\n",
       "    </tr>\n",
       "    <tr>\n",
       "      <th>Brian</th>\n",
       "      <td>0 days 00:01:43.362000</td>\n",
       "      <td>01:56:08.554 01:56:12.305 BRIAN: Wait, wait, w...</td>\n",
       "      <td>01:57:55.667 01:57:58.154 BRIAN: Can you take ...</td>\n",
       "    </tr>\n",
       "    <tr>\n",
       "      <th>Flint</th>\n",
       "      <td>0 days 00:00:10.165000</td>\n",
       "      <td>01:55:44.686 01:55:48.506 FLINT: Terry tells m...</td>\n",
       "      <td>01:55:58.671 01:56:08.554 FLINT: This is worse...</td>\n",
       "    </tr>\n",
       "  </tbody>\n",
       "</table>\n",
       "</div>"
      ],
      "text/plain": [
       "                       interval  \\\n",
       "Liam     0 days 00:33:03.953000   \n",
       "Laura    0 days 00:28:43.641000   \n",
       "Sam      0 days 00:27:51.226000   \n",
       "Ashley   0 days 00:26:14.097000   \n",
       "Travis   0 days 00:23:35.335000   \n",
       "Taliesin 0 days 00:21:44.961000   \n",
       "Marisha  0 days 00:20:39.561000   \n",
       "Matt     0 days 00:16:25.677000   \n",
       "All      0 days 00:15:39.433000   \n",
       "Brian    0 days 00:01:43.362000   \n",
       "Flint    0 days 00:00:10.165000   \n",
       "\n",
       "                                              starting_line  \\\n",
       "Liam      01:51:40.621 01:51:42.288 LIAM: So ready.\\nSAM...   \n",
       "Laura            01:53:00.300 01:53:01.357 LAURA: Punished.   \n",
       "Sam       01:50:49.466 01:50:54.208 SAM: Hey.\\nDo we hav...   \n",
       "Ashley    01:52:20.755 01:52:23.908 ASHLEY: I don't want...   \n",
       "Travis         02:01:01.331 02:01:02.431 TRAVIS: Holy shit!   \n",
       "Taliesin  02:01:07.503 02:03:15.071 TALIESIN: Like a sym...   \n",
       "Marisha   02:00:32.443 02:00:35.883 MARISHA: Oh, it's mu...   \n",
       "Matt      02:00:53.185 02:00:56.089 MATT: God, what's go...   \n",
       "All              02:03:20.595 02:03:23.345 (dramatic music)   \n",
       "Brian     01:56:08.554 01:56:12.305 BRIAN: Wait, wait, w...   \n",
       "Flint     01:55:44.686 01:55:48.506 FLINT: Terry tells m...   \n",
       "\n",
       "                                                ending_line  \n",
       "Liam      02:24:46.241 02:24:47.357 LIAM: I don't imagin...  \n",
       "Laura     02:21:44.998 02:21:54.539 LAURA: I just walk u...  \n",
       "Sam       02:18:45.434 02:18:46.509 SAM: Matthew.\\nMATT:...  \n",
       "Ashley    02:18:38.005 02:18:42.472 ASHLEY: I just close...  \n",
       "Travis    02:24:37.766 02:24:46.241 TRAVIS: I quickly tu...  \n",
       "Taliesin  02:25:00.032 02:25:01.640 TALIESIN: You have a...  \n",
       "Marisha   02:21:15.444 02:21:44.998 MARISHA: The what?\\n...  \n",
       "Matt      02:17:21.766 02:18:37.002 MATT: And welcome ba...  \n",
       "All       02:19:02.778 02:19:03.774 (Matt and Sam chuckl...  \n",
       "Brian     01:57:55.667 01:57:58.154 BRIAN: Can you take ...  \n",
       "Flint     01:55:58.671 01:56:08.554 FLINT: This is worse...  "
      ]
     },
     "metadata": {},
     "output_type": "display_data"
    },
    {
     "data": {
      "text/markdown": [
       "# Episode 88 - Unwanted Reunions"
      ],
      "text/plain": [
       "<IPython.core.display.Markdown object>"
      ]
     },
     "metadata": {},
     "output_type": "display_data"
    },
    {
     "data": {
      "text/html": [
       "<div>\n",
       "<style scoped>\n",
       "    .dataframe tbody tr th:only-of-type {\n",
       "        vertical-align: middle;\n",
       "    }\n",
       "\n",
       "    .dataframe tbody tr th {\n",
       "        vertical-align: top;\n",
       "    }\n",
       "\n",
       "    .dataframe thead th {\n",
       "        text-align: right;\n",
       "    }\n",
       "</style>\n",
       "<table border=\"1\" class=\"dataframe\">\n",
       "  <thead>\n",
       "    <tr style=\"text-align: right;\">\n",
       "      <th></th>\n",
       "      <th>interval</th>\n",
       "      <th>starting_line</th>\n",
       "      <th>ending_line</th>\n",
       "    </tr>\n",
       "  </thead>\n",
       "  <tbody>\n",
       "    <tr>\n",
       "      <th>Ashley</th>\n",
       "      <td>0 days 00:39:54.566000</td>\n",
       "      <td>01:30:27.493 01:30:28.796 ASHLEY: You got it.</td>\n",
       "      <td>02:10:23.362 02:10:28.881 ASHLEY: Thank you fo...</td>\n",
       "    </tr>\n",
       "    <tr>\n",
       "      <th>All</th>\n",
       "      <td>0 days 00:33:13.849000</td>\n",
       "      <td>02:32:03.827 02:32:08.627 (dramatic music)</td>\n",
       "      <td>03:05:22.476 03:05:24.711 (laughter)</td>\n",
       "    </tr>\n",
       "    <tr>\n",
       "      <th>Sam</th>\n",
       "      <td>0 days 00:32:56.075000</td>\n",
       "      <td>02:17:13.165 02:17:13.998 SAM: Yes.</td>\n",
       "      <td>02:50:10.073 02:50:13.167 SAM: How you feeling...</td>\n",
       "    </tr>\n",
       "    <tr>\n",
       "      <th>Laura</th>\n",
       "      <td>0 days 00:28:15.461000</td>\n",
       "      <td>02:19:08.261 02:19:10.594 LAURA: Oh.</td>\n",
       "      <td>02:47:26.055 02:47:32.226 LAURA: Mr. Martinet,...</td>\n",
       "    </tr>\n",
       "    <tr>\n",
       "      <th>Travis</th>\n",
       "      <td>0 days 00:25:48.264000</td>\n",
       "      <td>02:19:11.978 02:19:16.753 TRAVIS: Oh no!\\nThis...</td>\n",
       "      <td>02:45:05.017 02:45:06.250 TRAVIS: Yay.\\nLIAM: ...</td>\n",
       "    </tr>\n",
       "    <tr>\n",
       "      <th>Liam</th>\n",
       "      <td>0 days 00:25:23.477000</td>\n",
       "      <td>02:19:35.142 02:19:36.604 LIAM: Pow, pow, pow....</td>\n",
       "      <td>02:45:00.081 02:45:01.300 LIAM: Oh no!</td>\n",
       "    </tr>\n",
       "    <tr>\n",
       "      <th>Taliesin</th>\n",
       "      <td>0 days 00:21:37.274000</td>\n",
       "      <td>02:30:07.098 02:30:07.931 TALIESIN: Fuck, dude!</td>\n",
       "      <td>02:51:45.205 02:51:48.247 TALIESIN: Are we ins...</td>\n",
       "    </tr>\n",
       "    <tr>\n",
       "      <th>Marisha</th>\n",
       "      <td>0 days 00:19:54.757000</td>\n",
       "      <td>02:30:10.503 02:30:11.556 MARISHA: Sorry.</td>\n",
       "      <td>02:50:06.313 02:50:07.799 MARISHA: I'm assumin...</td>\n",
       "    </tr>\n",
       "    <tr>\n",
       "      <th>Matt</th>\n",
       "      <td>0 days 00:12:52.753000</td>\n",
       "      <td>02:30:16.295 02:31:59.579 MATT: Oh. Well! (chu...</td>\n",
       "      <td>02:44:52.332 02:45:00.081 MATT: Welcome back.\\...</td>\n",
       "    </tr>\n",
       "    <tr>\n",
       "      <th>Dani</th>\n",
       "      <td>0 days 00:02:46.646000</td>\n",
       "      <td>02:26:27.616 02:26:30.260 DANI: I'm trying to ...</td>\n",
       "      <td>02:29:16.906 02:29:18.140 DANI: (laughs)</td>\n",
       "    </tr>\n",
       "    <tr>\n",
       "      <th>Brian</th>\n",
       "      <td>0 days 00:00:49.953000</td>\n",
       "      <td>02:26:22.144 02:26:24.358 BRIAN: Would you min...</td>\n",
       "      <td>02:27:14.311 02:27:27.079 BRIAN: Beau's been m...</td>\n",
       "    </tr>\n",
       "  </tbody>\n",
       "</table>\n",
       "</div>"
      ],
      "text/plain": [
       "                       interval  \\\n",
       "Ashley   0 days 00:39:54.566000   \n",
       "All      0 days 00:33:13.849000   \n",
       "Sam      0 days 00:32:56.075000   \n",
       "Laura    0 days 00:28:15.461000   \n",
       "Travis   0 days 00:25:48.264000   \n",
       "Liam     0 days 00:25:23.477000   \n",
       "Taliesin 0 days 00:21:37.274000   \n",
       "Marisha  0 days 00:19:54.757000   \n",
       "Matt     0 days 00:12:52.753000   \n",
       "Dani     0 days 00:02:46.646000   \n",
       "Brian    0 days 00:00:49.953000   \n",
       "\n",
       "                                              starting_line  \\\n",
       "Ashley        01:30:27.493 01:30:28.796 ASHLEY: You got it.   \n",
       "All              02:32:03.827 02:32:08.627 (dramatic music)   \n",
       "Sam                     02:17:13.165 02:17:13.998 SAM: Yes.   \n",
       "Laura                  02:19:08.261 02:19:10.594 LAURA: Oh.   \n",
       "Travis    02:19:11.978 02:19:16.753 TRAVIS: Oh no!\\nThis...   \n",
       "Liam      02:19:35.142 02:19:36.604 LIAM: Pow, pow, pow....   \n",
       "Taliesin    02:30:07.098 02:30:07.931 TALIESIN: Fuck, dude!   \n",
       "Marisha           02:30:10.503 02:30:11.556 MARISHA: Sorry.   \n",
       "Matt      02:30:16.295 02:31:59.579 MATT: Oh. Well! (chu...   \n",
       "Dani      02:26:27.616 02:26:30.260 DANI: I'm trying to ...   \n",
       "Brian     02:26:22.144 02:26:24.358 BRIAN: Would you min...   \n",
       "\n",
       "                                                ending_line  \n",
       "Ashley    02:10:23.362 02:10:28.881 ASHLEY: Thank you fo...  \n",
       "All                    03:05:22.476 03:05:24.711 (laughter)  \n",
       "Sam       02:50:10.073 02:50:13.167 SAM: How you feeling...  \n",
       "Laura     02:47:26.055 02:47:32.226 LAURA: Mr. Martinet,...  \n",
       "Travis    02:45:05.017 02:45:06.250 TRAVIS: Yay.\\nLIAM: ...  \n",
       "Liam                 02:45:00.081 02:45:01.300 LIAM: Oh no!  \n",
       "Taliesin  02:51:45.205 02:51:48.247 TALIESIN: Are we ins...  \n",
       "Marisha   02:50:06.313 02:50:07.799 MARISHA: I'm assumin...  \n",
       "Matt      02:44:52.332 02:45:00.081 MATT: Welcome back.\\...  \n",
       "Dani               02:29:16.906 02:29:18.140 DANI: (laughs)  \n",
       "Brian     02:27:14.311 02:27:27.079 BRIAN: Beau's been m...  "
      ]
     },
     "metadata": {},
     "output_type": "display_data"
    },
    {
     "data": {
      "text/markdown": [
       "# Episode 89 - Lingering Wounds"
      ],
      "text/plain": [
       "<IPython.core.display.Markdown object>"
      ]
     },
     "metadata": {},
     "output_type": "display_data"
    },
    {
     "name": "stdout",
     "output_type": "stream",
     "text": [
      "Added to cast: Yev\n"
     ]
    },
    {
     "data": {
      "text/html": [
       "<div>\n",
       "<style scoped>\n",
       "    .dataframe tbody tr th:only-of-type {\n",
       "        vertical-align: middle;\n",
       "    }\n",
       "\n",
       "    .dataframe tbody tr th {\n",
       "        vertical-align: top;\n",
       "    }\n",
       "\n",
       "    .dataframe thead th {\n",
       "        text-align: right;\n",
       "    }\n",
       "</style>\n",
       "<table border=\"1\" class=\"dataframe\">\n",
       "  <thead>\n",
       "    <tr style=\"text-align: right;\">\n",
       "      <th></th>\n",
       "      <th>interval</th>\n",
       "      <th>starting_line</th>\n",
       "      <th>ending_line</th>\n",
       "    </tr>\n",
       "  </thead>\n",
       "  <tbody>\n",
       "    <tr>\n",
       "      <th>Ashley</th>\n",
       "      <td>0 days 00:39:28.446000</td>\n",
       "      <td>00:23:50.106 00:23:54.620 ASHLEY: Competitive ...</td>\n",
       "      <td>01:03:23.066 01:03:35.074 ASHLEY: (sighs) Well...</td>\n",
       "    </tr>\n",
       "    <tr>\n",
       "      <th>Taliesin</th>\n",
       "      <td>0 days 00:27:31.955000</td>\n",
       "      <td>01:37:13.683 01:37:16.595 TALIESIN: I thought ...</td>\n",
       "      <td>02:04:48.550 02:04:51.481 TALIESIN: What if he...</td>\n",
       "    </tr>\n",
       "    <tr>\n",
       "      <th>Laura</th>\n",
       "      <td>0 days 00:26:13.081000</td>\n",
       "      <td>01:37:50.117 01:37:51.617 LAURA: Oh, he likes it.</td>\n",
       "      <td>02:04:04.698 02:04:06.464 LAURA: She's actuall...</td>\n",
       "    </tr>\n",
       "    <tr>\n",
       "      <th>Liam</th>\n",
       "      <td>0 days 00:25:14.693000</td>\n",
       "      <td>01:12:51.638 01:13:02.817 LIAM: Nott needs som...</td>\n",
       "      <td>01:38:17.510 01:38:26.450 LIAM: As soon as the...</td>\n",
       "    </tr>\n",
       "    <tr>\n",
       "      <th>Travis</th>\n",
       "      <td>0 days 00:24:13.268000</td>\n",
       "      <td>01:39:35.912 01:39:37.495 TRAVIS: (quietly) Oh...</td>\n",
       "      <td>02:03:50.763 02:03:58.399 TRAVIS: So many ques...</td>\n",
       "    </tr>\n",
       "    <tr>\n",
       "      <th>Marisha</th>\n",
       "      <td>0 days 00:23:30.255000</td>\n",
       "      <td>02:03:48.516 02:03:49.874 MARISHA: Oh, man.</td>\n",
       "      <td>02:27:20.129 02:27:22.120 MARISHA: I've never ...</td>\n",
       "    </tr>\n",
       "    <tr>\n",
       "      <th>Matt</th>\n",
       "      <td>0 days 00:20:22.871000</td>\n",
       "      <td>02:05:37.077 02:06:52.268 MATT: Enter it once,...</td>\n",
       "      <td>02:27:15.139 02:27:18.459 MATT: Welcome back.\\...</td>\n",
       "    </tr>\n",
       "    <tr>\n",
       "      <th>All</th>\n",
       "      <td>0 days 00:16:14.888000</td>\n",
       "      <td>01:11:50.435 01:11:53.166 (laughter)</td>\n",
       "      <td>01:28:08.054 01:28:10.721 (Travis laughs)</td>\n",
       "    </tr>\n",
       "    <tr>\n",
       "      <th>Sam</th>\n",
       "      <td>0 days 00:14:33.325000</td>\n",
       "      <td>02:13:48.309 02:13:50.178 SAM: Fuck the brave....</td>\n",
       "      <td>02:28:23.503 02:28:24.433 SAM: Oh, god.</td>\n",
       "    </tr>\n",
       "    <tr>\n",
       "      <th>Dani</th>\n",
       "      <td>0 days 00:02:28.316000</td>\n",
       "      <td>02:10:38.584 02:10:40.170 DANI: Looks so good!</td>\n",
       "      <td>02:13:08.486 02:13:11.064 DANI: Oh, no!\\nBRIAN...</td>\n",
       "    </tr>\n",
       "    <tr>\n",
       "      <th>Brian</th>\n",
       "      <td>0 days 00:00:45.791000</td>\n",
       "      <td>02:08:49.095 02:09:03.885 BRIAN: Nott has been...</td>\n",
       "      <td>02:09:49.676 02:10:00.155 BRIAN: Does Nott bel...</td>\n",
       "    </tr>\n",
       "  </tbody>\n",
       "</table>\n",
       "</div>"
      ],
      "text/plain": [
       "                       interval  \\\n",
       "Ashley   0 days 00:39:28.446000   \n",
       "Taliesin 0 days 00:27:31.955000   \n",
       "Laura    0 days 00:26:13.081000   \n",
       "Liam     0 days 00:25:14.693000   \n",
       "Travis   0 days 00:24:13.268000   \n",
       "Marisha  0 days 00:23:30.255000   \n",
       "Matt     0 days 00:20:22.871000   \n",
       "All      0 days 00:16:14.888000   \n",
       "Sam      0 days 00:14:33.325000   \n",
       "Dani     0 days 00:02:28.316000   \n",
       "Brian    0 days 00:00:45.791000   \n",
       "\n",
       "                                              starting_line  \\\n",
       "Ashley    00:23:50.106 00:23:54.620 ASHLEY: Competitive ...   \n",
       "Taliesin  01:37:13.683 01:37:16.595 TALIESIN: I thought ...   \n",
       "Laura     01:37:50.117 01:37:51.617 LAURA: Oh, he likes it.   \n",
       "Liam      01:12:51.638 01:13:02.817 LIAM: Nott needs som...   \n",
       "Travis    01:39:35.912 01:39:37.495 TRAVIS: (quietly) Oh...   \n",
       "Marisha         02:03:48.516 02:03:49.874 MARISHA: Oh, man.   \n",
       "Matt      02:05:37.077 02:06:52.268 MATT: Enter it once,...   \n",
       "All                    01:11:50.435 01:11:53.166 (laughter)   \n",
       "Sam       02:13:48.309 02:13:50.178 SAM: Fuck the brave....   \n",
       "Dani         02:10:38.584 02:10:40.170 DANI: Looks so good!   \n",
       "Brian     02:08:49.095 02:09:03.885 BRIAN: Nott has been...   \n",
       "\n",
       "                                                ending_line  \n",
       "Ashley    01:03:23.066 01:03:35.074 ASHLEY: (sighs) Well...  \n",
       "Taliesin  02:04:48.550 02:04:51.481 TALIESIN: What if he...  \n",
       "Laura     02:04:04.698 02:04:06.464 LAURA: She's actuall...  \n",
       "Liam      01:38:17.510 01:38:26.450 LIAM: As soon as the...  \n",
       "Travis    02:03:50.763 02:03:58.399 TRAVIS: So many ques...  \n",
       "Marisha   02:27:20.129 02:27:22.120 MARISHA: I've never ...  \n",
       "Matt      02:27:15.139 02:27:18.459 MATT: Welcome back.\\...  \n",
       "All               01:28:08.054 01:28:10.721 (Travis laughs)  \n",
       "Sam                 02:28:23.503 02:28:24.433 SAM: Oh, god.  \n",
       "Dani      02:13:08.486 02:13:11.064 DANI: Oh, no!\\nBRIAN...  \n",
       "Brian     02:09:49.676 02:10:00.155 BRIAN: Does Nott bel...  "
      ]
     },
     "metadata": {},
     "output_type": "display_data"
    },
    {
     "data": {
      "text/markdown": [
       "# Episode 90 - Bathhouses and Bastions"
      ],
      "text/plain": [
       "<IPython.core.display.Markdown object>"
      ]
     },
     "metadata": {},
     "output_type": "display_data"
    },
    {
     "data": {
      "text/html": [
       "<div>\n",
       "<style scoped>\n",
       "    .dataframe tbody tr th:only-of-type {\n",
       "        vertical-align: middle;\n",
       "    }\n",
       "\n",
       "    .dataframe tbody tr th {\n",
       "        vertical-align: top;\n",
       "    }\n",
       "\n",
       "    .dataframe thead th {\n",
       "        text-align: right;\n",
       "    }\n",
       "</style>\n",
       "<table border=\"1\" class=\"dataframe\">\n",
       "  <thead>\n",
       "    <tr style=\"text-align: right;\">\n",
       "      <th></th>\n",
       "      <th>interval</th>\n",
       "      <th>starting_line</th>\n",
       "      <th>ending_line</th>\n",
       "    </tr>\n",
       "  </thead>\n",
       "  <tbody>\n",
       "    <tr>\n",
       "      <th>Ashley</th>\n",
       "      <td>0 days 00:29:33.234000</td>\n",
       "      <td>00:52:49.573 00:52:50.905 ASHLEY: Metal harves...</td>\n",
       "      <td>01:22:24.139 01:22:25.722 ASHLEY: And it's mad...</td>\n",
       "    </tr>\n",
       "    <tr>\n",
       "      <th>Sam</th>\n",
       "      <td>0 days 00:20:31.040000</td>\n",
       "      <td>00:52:46.899 00:52:48.732 SAM: That's it.\\nMAT...</td>\n",
       "      <td>01:13:19.772 01:13:22.695 SAM: Our butts are g...</td>\n",
       "    </tr>\n",
       "    <tr>\n",
       "      <th>Liam</th>\n",
       "      <td>0 days 00:17:50.438000</td>\n",
       "      <td>01:59:24.834 01:59:28.444 LIAM: Remember, labi...</td>\n",
       "      <td>02:17:18.882 02:17:21.992 LIAM: Sure, just a m...</td>\n",
       "    </tr>\n",
       "    <tr>\n",
       "      <th>Marisha</th>\n",
       "      <td>0 days 00:16:59.398000</td>\n",
       "      <td>02:39:17.748 02:39:19.820 MARISHA: I'm assumin...</td>\n",
       "      <td>02:56:19.218 02:56:21.991 MARISHA: I wonder if...</td>\n",
       "    </tr>\n",
       "    <tr>\n",
       "      <th>Laura</th>\n",
       "      <td>0 days 00:16:59.167000</td>\n",
       "      <td>01:59:23.518 01:59:24.834 LAURA: Merry Critmas.</td>\n",
       "      <td>02:16:24.001 02:16:28.634 LAURA: Hey, Yasha.\\n...</td>\n",
       "    </tr>\n",
       "    <tr>\n",
       "      <th>Taliesin</th>\n",
       "      <td>0 days 00:16:10.181000</td>\n",
       "      <td>02:37:12.299 02:37:13.132 TALIESIN: Yeah.</td>\n",
       "      <td>02:53:23.313 02:53:24.919 TALIESIN: That accent.</td>\n",
       "    </tr>\n",
       "    <tr>\n",
       "      <th>Travis</th>\n",
       "      <td>0 days 00:15:43.799000</td>\n",
       "      <td>01:59:29.448 01:59:31.781 TRAVIS: Fucking assh...</td>\n",
       "      <td>02:15:15.580 02:15:16.996 TRAVIS: Mother of no...</td>\n",
       "    </tr>\n",
       "    <tr>\n",
       "      <th>Matt</th>\n",
       "      <td>0 days 00:15:25.451000</td>\n",
       "      <td>01:59:31.781 01:59:33.185 MATT: Bye guys!</td>\n",
       "      <td>02:14:58.636 02:15:15.580 MATT: And welcome ba...</td>\n",
       "    </tr>\n",
       "    <tr>\n",
       "      <th>All</th>\n",
       "      <td>0 days 00:15:00.206000</td>\n",
       "      <td>02:01:54.442 02:01:57.192 (dramatic music)</td>\n",
       "      <td>02:16:57.398 02:17:00.065 (laughter)</td>\n",
       "    </tr>\n",
       "  </tbody>\n",
       "</table>\n",
       "</div>"
      ],
      "text/plain": [
       "                       interval  \\\n",
       "Ashley   0 days 00:29:33.234000   \n",
       "Sam      0 days 00:20:31.040000   \n",
       "Liam     0 days 00:17:50.438000   \n",
       "Marisha  0 days 00:16:59.398000   \n",
       "Laura    0 days 00:16:59.167000   \n",
       "Taliesin 0 days 00:16:10.181000   \n",
       "Travis   0 days 00:15:43.799000   \n",
       "Matt     0 days 00:15:25.451000   \n",
       "All      0 days 00:15:00.206000   \n",
       "\n",
       "                                              starting_line  \\\n",
       "Ashley    00:52:49.573 00:52:50.905 ASHLEY: Metal harves...   \n",
       "Sam       00:52:46.899 00:52:48.732 SAM: That's it.\\nMAT...   \n",
       "Liam      01:59:24.834 01:59:28.444 LIAM: Remember, labi...   \n",
       "Marisha   02:39:17.748 02:39:19.820 MARISHA: I'm assumin...   \n",
       "Laura       01:59:23.518 01:59:24.834 LAURA: Merry Critmas.   \n",
       "Taliesin          02:37:12.299 02:37:13.132 TALIESIN: Yeah.   \n",
       "Travis    01:59:29.448 01:59:31.781 TRAVIS: Fucking assh...   \n",
       "Matt              01:59:31.781 01:59:33.185 MATT: Bye guys!   \n",
       "All              02:01:54.442 02:01:57.192 (dramatic music)   \n",
       "\n",
       "                                                ending_line  \n",
       "Ashley    01:22:24.139 01:22:25.722 ASHLEY: And it's mad...  \n",
       "Sam       01:13:19.772 01:13:22.695 SAM: Our butts are g...  \n",
       "Liam      02:17:18.882 02:17:21.992 LIAM: Sure, just a m...  \n",
       "Marisha   02:56:19.218 02:56:21.991 MARISHA: I wonder if...  \n",
       "Laura     02:16:24.001 02:16:28.634 LAURA: Hey, Yasha.\\n...  \n",
       "Taliesin   02:53:23.313 02:53:24.919 TALIESIN: That accent.  \n",
       "Travis    02:15:15.580 02:15:16.996 TRAVIS: Mother of no...  \n",
       "Matt      02:14:58.636 02:15:15.580 MATT: And welcome ba...  \n",
       "All                    02:16:57.398 02:17:00.065 (laughter)  "
      ]
     },
     "metadata": {},
     "output_type": "display_data"
    },
    {
     "data": {
      "text/markdown": [
       "# Episode 91 - Stone to Clay"
      ],
      "text/plain": [
       "<IPython.core.display.Markdown object>"
      ]
     },
     "metadata": {},
     "output_type": "display_data"
    },
    {
     "data": {
      "text/html": [
       "<div>\n",
       "<style scoped>\n",
       "    .dataframe tbody tr th:only-of-type {\n",
       "        vertical-align: middle;\n",
       "    }\n",
       "\n",
       "    .dataframe tbody tr th {\n",
       "        vertical-align: top;\n",
       "    }\n",
       "\n",
       "    .dataframe thead th {\n",
       "        text-align: right;\n",
       "    }\n",
       "</style>\n",
       "<table border=\"1\" class=\"dataframe\">\n",
       "  <thead>\n",
       "    <tr style=\"text-align: right;\">\n",
       "      <th></th>\n",
       "      <th>interval</th>\n",
       "      <th>starting_line</th>\n",
       "      <th>ending_line</th>\n",
       "    </tr>\n",
       "  </thead>\n",
       "  <tbody>\n",
       "    <tr>\n",
       "      <th>Sam</th>\n",
       "      <td>0 days 00:35:21.929000</td>\n",
       "      <td>01:53:50.869 01:53:53.341 SAM: No--\\nLAURA: No...</td>\n",
       "      <td>02:29:15.270 02:29:17.710 SAM: Shit, over the ...</td>\n",
       "    </tr>\n",
       "    <tr>\n",
       "      <th>Laura</th>\n",
       "      <td>0 days 00:23:40.760000</td>\n",
       "      <td>02:04:45.340 02:04:47.530 LAURA: Snore-phan Ma...</td>\n",
       "      <td>02:28:28.290 02:28:33.705 LAURA: Two!\\nTRAVIS:...</td>\n",
       "    </tr>\n",
       "    <tr>\n",
       "      <th>Taliesin</th>\n",
       "      <td>0 days 00:23:40.536000</td>\n",
       "      <td>02:05:19.153 02:05:21.240 TALIESIN: Pilates fo...</td>\n",
       "      <td>02:29:01.776 02:29:03.206 TALIESIN: Yeah, it's...</td>\n",
       "    </tr>\n",
       "    <tr>\n",
       "      <th>Travis</th>\n",
       "      <td>0 days 00:23:11.143000</td>\n",
       "      <td>02:04:39.516 02:04:40.907 TRAVIS: Yes.\\nMATT: ...</td>\n",
       "      <td>02:27:52.050 02:27:53.330 TRAVIS: No, no.\\nMAR...</td>\n",
       "    </tr>\n",
       "    <tr>\n",
       "      <th>Ashley</th>\n",
       "      <td>0 days 00:22:23</td>\n",
       "      <td>01:01:50.811 01:02:20.760 ASHLEY: Oh.\\nMATT: \"...</td>\n",
       "      <td>01:24:43.760 01:24:52.798 ASHLEY: Underneath h...</td>\n",
       "    </tr>\n",
       "    <tr>\n",
       "      <th>Marisha</th>\n",
       "      <td>0 days 00:20:21.127000</td>\n",
       "      <td>02:06:21.423 02:07:27.010 MARISHA: There's got...</td>\n",
       "      <td>02:27:48.137 02:27:52.050 MARISHA: (knocking)\\...</td>\n",
       "    </tr>\n",
       "    <tr>\n",
       "      <th>Liam</th>\n",
       "      <td>0 days 00:15:58.580000</td>\n",
       "      <td>02:13:37.030 02:15:19.163 LIAM: Subscribe\\nor ...</td>\n",
       "      <td>02:31:17.743 02:31:19.900 LIAM: We should pass...</td>\n",
       "    </tr>\n",
       "    <tr>\n",
       "      <th>Matt</th>\n",
       "      <td>0 days 00:13:49.787000</td>\n",
       "      <td>02:13:23.450 02:13:25.255 MATT: Oh, I'm touchi...</td>\n",
       "      <td>02:27:15.042 02:27:18.170 MATT: Hello everyone...</td>\n",
       "    </tr>\n",
       "    <tr>\n",
       "      <th>All</th>\n",
       "      <td>0 days 00:13:25.682000</td>\n",
       "      <td>02:34:28.643 02:34:31.100 (laughter)</td>\n",
       "      <td>02:47:56.782 02:47:59.057 (laughter)</td>\n",
       "    </tr>\n",
       "    <tr>\n",
       "      <th>Dani</th>\n",
       "      <td>0 days 00:03:59.474000</td>\n",
       "      <td>02:07:37.050 02:07:39.500 DANI: Not a baseball...</td>\n",
       "      <td>02:11:38.974 02:11:41.020 DANI: Just Joaquin P...</td>\n",
       "    </tr>\n",
       "    <tr>\n",
       "      <th>Brian</th>\n",
       "      <td>0 days 00:00:35</td>\n",
       "      <td>02:07:58.950 02:08:17.910 BRIAN: \"In the fight...</td>\n",
       "      <td>02:08:52.910 02:09:32.400 BRIAN: Yep.\\nASHLEY:...</td>\n",
       "    </tr>\n",
       "  </tbody>\n",
       "</table>\n",
       "</div>"
      ],
      "text/plain": [
       "                       interval  \\\n",
       "Sam      0 days 00:35:21.929000   \n",
       "Laura    0 days 00:23:40.760000   \n",
       "Taliesin 0 days 00:23:40.536000   \n",
       "Travis   0 days 00:23:11.143000   \n",
       "Ashley          0 days 00:22:23   \n",
       "Marisha  0 days 00:20:21.127000   \n",
       "Liam     0 days 00:15:58.580000   \n",
       "Matt     0 days 00:13:49.787000   \n",
       "All      0 days 00:13:25.682000   \n",
       "Dani     0 days 00:03:59.474000   \n",
       "Brian           0 days 00:00:35   \n",
       "\n",
       "                                              starting_line  \\\n",
       "Sam       01:53:50.869 01:53:53.341 SAM: No--\\nLAURA: No...   \n",
       "Laura     02:04:45.340 02:04:47.530 LAURA: Snore-phan Ma...   \n",
       "Taliesin  02:05:19.153 02:05:21.240 TALIESIN: Pilates fo...   \n",
       "Travis    02:04:39.516 02:04:40.907 TRAVIS: Yes.\\nMATT: ...   \n",
       "Ashley    01:01:50.811 01:02:20.760 ASHLEY: Oh.\\nMATT: \"...   \n",
       "Marisha   02:06:21.423 02:07:27.010 MARISHA: There's got...   \n",
       "Liam      02:13:37.030 02:15:19.163 LIAM: Subscribe\\nor ...   \n",
       "Matt      02:13:23.450 02:13:25.255 MATT: Oh, I'm touchi...   \n",
       "All                    02:34:28.643 02:34:31.100 (laughter)   \n",
       "Dani      02:07:37.050 02:07:39.500 DANI: Not a baseball...   \n",
       "Brian     02:07:58.950 02:08:17.910 BRIAN: \"In the fight...   \n",
       "\n",
       "                                                ending_line  \n",
       "Sam       02:29:15.270 02:29:17.710 SAM: Shit, over the ...  \n",
       "Laura     02:28:28.290 02:28:33.705 LAURA: Two!\\nTRAVIS:...  \n",
       "Taliesin  02:29:01.776 02:29:03.206 TALIESIN: Yeah, it's...  \n",
       "Travis    02:27:52.050 02:27:53.330 TRAVIS: No, no.\\nMAR...  \n",
       "Ashley    01:24:43.760 01:24:52.798 ASHLEY: Underneath h...  \n",
       "Marisha   02:27:48.137 02:27:52.050 MARISHA: (knocking)\\...  \n",
       "Liam      02:31:17.743 02:31:19.900 LIAM: We should pass...  \n",
       "Matt      02:27:15.042 02:27:18.170 MATT: Hello everyone...  \n",
       "All                    02:47:56.782 02:47:59.057 (laughter)  \n",
       "Dani      02:11:38.974 02:11:41.020 DANI: Just Joaquin P...  \n",
       "Brian     02:08:52.910 02:09:32.400 BRIAN: Yep.\\nASHLEY:...  "
      ]
     },
     "metadata": {},
     "output_type": "display_data"
    },
    {
     "data": {
      "text/markdown": [
       "# Episode 92 - Home Is Where the Heart Is"
      ],
      "text/plain": [
       "<IPython.core.display.Markdown object>"
      ]
     },
     "metadata": {},
     "output_type": "display_data"
    },
    {
     "name": "stdout",
     "output_type": "stream",
     "text": [
      "Added to cast: Crowd\n"
     ]
    },
    {
     "data": {
      "text/html": [
       "<div>\n",
       "<style scoped>\n",
       "    .dataframe tbody tr th:only-of-type {\n",
       "        vertical-align: middle;\n",
       "    }\n",
       "\n",
       "    .dataframe tbody tr th {\n",
       "        vertical-align: top;\n",
       "    }\n",
       "\n",
       "    .dataframe thead th {\n",
       "        text-align: right;\n",
       "    }\n",
       "</style>\n",
       "<table border=\"1\" class=\"dataframe\">\n",
       "  <thead>\n",
       "    <tr style=\"text-align: right;\">\n",
       "      <th></th>\n",
       "      <th>interval</th>\n",
       "      <th>starting_line</th>\n",
       "      <th>ending_line</th>\n",
       "    </tr>\n",
       "  </thead>\n",
       "  <tbody>\n",
       "    <tr>\n",
       "      <th>Ashley</th>\n",
       "      <td>0 days 00:29:27.600000</td>\n",
       "      <td>01:43:12.020 01:43:13.170 ASHLEY: It's very co...</td>\n",
       "      <td>02:12:40.770 02:12:42.320 ASHLEY: No, please d...</td>\n",
       "    </tr>\n",
       "    <tr>\n",
       "      <th>Travis</th>\n",
       "      <td>0 days 00:29:06.465000</td>\n",
       "      <td>03:40:06.060 03:40:06.893 TRAVIS: Cheers.</td>\n",
       "      <td>04:09:13.358 04:09:14.870 TRAVIS: (whispering)...</td>\n",
       "    </tr>\n",
       "    <tr>\n",
       "      <th>Taliesin</th>\n",
       "      <td>0 days 00:28:50.360000</td>\n",
       "      <td>01:42:54.990 01:42:56.640 TALIESIN: Pick some ...</td>\n",
       "      <td>02:11:47.000 02:11:49.311 TALIESIN: As a child...</td>\n",
       "    </tr>\n",
       "    <tr>\n",
       "      <th>Marisha</th>\n",
       "      <td>0 days 00:27:37.782000</td>\n",
       "      <td>01:46:28.920 01:46:32.728 MARISHA: Yeah, that'...</td>\n",
       "      <td>02:14:10.510 02:14:12.210 MARISHA: You don't w...</td>\n",
       "    </tr>\n",
       "    <tr>\n",
       "      <th>Laura</th>\n",
       "      <td>0 days 00:26:58.360000</td>\n",
       "      <td>01:42:07.050 01:42:09.380 LAURA: Oh, he's goin...</td>\n",
       "      <td>02:09:07.740 02:09:10.970 LAURA: That's a good...</td>\n",
       "    </tr>\n",
       "    <tr>\n",
       "      <th>Matt</th>\n",
       "      <td>0 days 00:23:37.119000</td>\n",
       "      <td>01:43:33.577 01:44:27.133 MATT: But we'll come...</td>\n",
       "      <td>02:08:04.252 02:08:12.727 MATT: And welcome ba...</td>\n",
       "    </tr>\n",
       "    <tr>\n",
       "      <th>Liam</th>\n",
       "      <td>0 days 00:22:13.735000</td>\n",
       "      <td>01:46:20.120 01:46:26.085 LIAM: Shark mating.\\...</td>\n",
       "      <td>02:08:39.820 02:08:42.180 LIAM: How early we t...</td>\n",
       "    </tr>\n",
       "    <tr>\n",
       "      <th>All</th>\n",
       "      <td>0 days 00:20:34.526000</td>\n",
       "      <td>01:21:51.260 01:21:56.227 (laughter)</td>\n",
       "      <td>01:42:30.753 01:42:33.820 (laughter)</td>\n",
       "    </tr>\n",
       "    <tr>\n",
       "      <th>Sam</th>\n",
       "      <td>0 days 00:14:04.010000</td>\n",
       "      <td>02:53:10.470 02:53:12.560 SAM: To Maison Lionett!</td>\n",
       "      <td>03:07:16.570 03:07:17.970 SAM: This is where y...</td>\n",
       "    </tr>\n",
       "    <tr>\n",
       "      <th>Dani</th>\n",
       "      <td>0 days 00:03:43.880000</td>\n",
       "      <td>01:50:03.890 01:50:06.240 DANI: What?\\nBRIAN: ...</td>\n",
       "      <td>01:53:50.120 01:53:53.670 DANI: Sam Riegel, yo...</td>\n",
       "    </tr>\n",
       "    <tr>\n",
       "      <th>Brian</th>\n",
       "      <td>0 days 00:00:50.760000</td>\n",
       "      <td>01:49:39.040 01:49:41.150 BRIAN: You can't be ...</td>\n",
       "      <td>01:50:31.910 01:50:33.405 BRIAN: Just take in ...</td>\n",
       "    </tr>\n",
       "  </tbody>\n",
       "</table>\n",
       "</div>"
      ],
      "text/plain": [
       "                       interval  \\\n",
       "Ashley   0 days 00:29:27.600000   \n",
       "Travis   0 days 00:29:06.465000   \n",
       "Taliesin 0 days 00:28:50.360000   \n",
       "Marisha  0 days 00:27:37.782000   \n",
       "Laura    0 days 00:26:58.360000   \n",
       "Matt     0 days 00:23:37.119000   \n",
       "Liam     0 days 00:22:13.735000   \n",
       "All      0 days 00:20:34.526000   \n",
       "Sam      0 days 00:14:04.010000   \n",
       "Dani     0 days 00:03:43.880000   \n",
       "Brian    0 days 00:00:50.760000   \n",
       "\n",
       "                                              starting_line  \\\n",
       "Ashley    01:43:12.020 01:43:13.170 ASHLEY: It's very co...   \n",
       "Travis            03:40:06.060 03:40:06.893 TRAVIS: Cheers.   \n",
       "Taliesin  01:42:54.990 01:42:56.640 TALIESIN: Pick some ...   \n",
       "Marisha   01:46:28.920 01:46:32.728 MARISHA: Yeah, that'...   \n",
       "Laura     01:42:07.050 01:42:09.380 LAURA: Oh, he's goin...   \n",
       "Matt      01:43:33.577 01:44:27.133 MATT: But we'll come...   \n",
       "Liam      01:46:20.120 01:46:26.085 LIAM: Shark mating.\\...   \n",
       "All                    01:21:51.260 01:21:56.227 (laughter)   \n",
       "Sam       02:53:10.470 02:53:12.560 SAM: To Maison Lionett!   \n",
       "Dani      01:50:03.890 01:50:06.240 DANI: What?\\nBRIAN: ...   \n",
       "Brian     01:49:39.040 01:49:41.150 BRIAN: You can't be ...   \n",
       "\n",
       "                                                ending_line  \n",
       "Ashley    02:12:40.770 02:12:42.320 ASHLEY: No, please d...  \n",
       "Travis    04:09:13.358 04:09:14.870 TRAVIS: (whispering)...  \n",
       "Taliesin  02:11:47.000 02:11:49.311 TALIESIN: As a child...  \n",
       "Marisha   02:14:10.510 02:14:12.210 MARISHA: You don't w...  \n",
       "Laura     02:09:07.740 02:09:10.970 LAURA: That's a good...  \n",
       "Matt      02:08:04.252 02:08:12.727 MATT: And welcome ba...  \n",
       "Liam      02:08:39.820 02:08:42.180 LIAM: How early we t...  \n",
       "All                    01:42:30.753 01:42:33.820 (laughter)  \n",
       "Sam       03:07:16.570 03:07:17.970 SAM: This is where y...  \n",
       "Dani      01:53:50.120 01:53:53.670 DANI: Sam Riegel, yo...  \n",
       "Brian     01:50:31.910 01:50:33.405 BRIAN: Just take in ...  "
      ]
     },
     "metadata": {},
     "output_type": "display_data"
    },
    {
     "data": {
      "text/markdown": [
       "# Episode 93 - Misery Loves Company"
      ],
      "text/plain": [
       "<IPython.core.display.Markdown object>"
      ]
     },
     "metadata": {},
     "output_type": "display_data"
    },
    {
     "name": "stdout",
     "output_type": "stream",
     "text": [
      "Added to cast: Kyle\n"
     ]
    },
    {
     "data": {
      "text/html": [
       "<div>\n",
       "<style scoped>\n",
       "    .dataframe tbody tr th:only-of-type {\n",
       "        vertical-align: middle;\n",
       "    }\n",
       "\n",
       "    .dataframe tbody tr th {\n",
       "        vertical-align: top;\n",
       "    }\n",
       "\n",
       "    .dataframe thead th {\n",
       "        text-align: right;\n",
       "    }\n",
       "</style>\n",
       "<table border=\"1\" class=\"dataframe\">\n",
       "  <thead>\n",
       "    <tr style=\"text-align: right;\">\n",
       "      <th></th>\n",
       "      <th>interval</th>\n",
       "      <th>starting_line</th>\n",
       "      <th>ending_line</th>\n",
       "    </tr>\n",
       "  </thead>\n",
       "  <tbody>\n",
       "    <tr>\n",
       "      <th>Ashley</th>\n",
       "      <td>0 days 00:32:29.780000</td>\n",
       "      <td>02:06:15.320 02:06:42.780 ASHLEY: Skingorger.\\...</td>\n",
       "      <td>02:39:12.560 02:39:13.810 ASHLEY: We could jus...</td>\n",
       "    </tr>\n",
       "    <tr>\n",
       "      <th>Taliesin</th>\n",
       "      <td>0 days 00:30:11.115000</td>\n",
       "      <td>02:05:43.860 02:05:50.655 TALIESIN: Let me giv...</td>\n",
       "      <td>02:36:01.770 02:36:02.800 TALIESIN: Why?</td>\n",
       "    </tr>\n",
       "    <tr>\n",
       "      <th>Travis</th>\n",
       "      <td>0 days 00:25:24.940000</td>\n",
       "      <td>02:10:26.526 02:10:28.910 TRAVIS: ♪ Superstiti...</td>\n",
       "      <td>02:35:53.850 02:35:59.660 TRAVIS: How about we...</td>\n",
       "    </tr>\n",
       "    <tr>\n",
       "      <th>Matt</th>\n",
       "      <td>0 days 00:23:09.870000</td>\n",
       "      <td>02:10:28.910 02:11:30.730 MATT: ♪ Writing on t...</td>\n",
       "      <td>02:34:40.600 02:34:49.580 MATT: Hello, everyon...</td>\n",
       "    </tr>\n",
       "    <tr>\n",
       "      <th>Liam</th>\n",
       "      <td>0 days 00:21:56.146000</td>\n",
       "      <td>02:12:59.383 02:13:00.865 LIAM: Look at me, I'...</td>\n",
       "      <td>02:34:57.011 02:34:58.057 LIAM: (through cuppe...</td>\n",
       "    </tr>\n",
       "    <tr>\n",
       "      <th>All</th>\n",
       "      <td>0 days 00:21:38.342000</td>\n",
       "      <td>03:16:51.485 03:16:54.968 (laughter)</td>\n",
       "      <td>03:38:33.310 03:38:36.410 (blows raspberry)</td>\n",
       "    </tr>\n",
       "    <tr>\n",
       "      <th>Laura</th>\n",
       "      <td>0 days 00:15:33.940000</td>\n",
       "      <td>02:19:51.840 02:19:58.070 LAURA: Putah, Putahs...</td>\n",
       "      <td>02:35:32.010 02:35:33.990 LAURA: Like, an actu...</td>\n",
       "    </tr>\n",
       "    <tr>\n",
       "      <th>Marisha</th>\n",
       "      <td>0 days 00:15:20.815000</td>\n",
       "      <td>02:20:00.144 02:20:03.105 MARISHA: (laughs) Jo...</td>\n",
       "      <td>02:35:23.920 02:35:30.050 MARISHA: Should we r...</td>\n",
       "    </tr>\n",
       "    <tr>\n",
       "      <th>Sam</th>\n",
       "      <td>0 days 00:13:00.644000</td>\n",
       "      <td>02:21:42.612 02:21:48.936 SAM: Woo, uh, I'm no...</td>\n",
       "      <td>02:34:49.580 02:34:51.440 SAM: Woo, I love me ...</td>\n",
       "    </tr>\n",
       "    <tr>\n",
       "      <th>Dani</th>\n",
       "      <td>0 days 00:03:16.917000</td>\n",
       "      <td>02:16:08.360 02:16:09.193 DANI: Wow.</td>\n",
       "      <td>02:19:26.110 02:19:27.920 DANI: You can't stay...</td>\n",
       "    </tr>\n",
       "    <tr>\n",
       "      <th>Brian</th>\n",
       "      <td>0 days 00:00:39.810000</td>\n",
       "      <td>02:18:48.940 02:18:49.840 BRIAN: Okay.</td>\n",
       "      <td>02:19:29.650 02:19:50.930 BRIAN: Rickolas-- no...</td>\n",
       "    </tr>\n",
       "  </tbody>\n",
       "</table>\n",
       "</div>"
      ],
      "text/plain": [
       "                       interval  \\\n",
       "Ashley   0 days 00:32:29.780000   \n",
       "Taliesin 0 days 00:30:11.115000   \n",
       "Travis   0 days 00:25:24.940000   \n",
       "Matt     0 days 00:23:09.870000   \n",
       "Liam     0 days 00:21:56.146000   \n",
       "All      0 days 00:21:38.342000   \n",
       "Laura    0 days 00:15:33.940000   \n",
       "Marisha  0 days 00:15:20.815000   \n",
       "Sam      0 days 00:13:00.644000   \n",
       "Dani     0 days 00:03:16.917000   \n",
       "Brian    0 days 00:00:39.810000   \n",
       "\n",
       "                                              starting_line  \\\n",
       "Ashley    02:06:15.320 02:06:42.780 ASHLEY: Skingorger.\\...   \n",
       "Taliesin  02:05:43.860 02:05:50.655 TALIESIN: Let me giv...   \n",
       "Travis    02:10:26.526 02:10:28.910 TRAVIS: ♪ Superstiti...   \n",
       "Matt      02:10:28.910 02:11:30.730 MATT: ♪ Writing on t...   \n",
       "Liam      02:12:59.383 02:13:00.865 LIAM: Look at me, I'...   \n",
       "All                    03:16:51.485 03:16:54.968 (laughter)   \n",
       "Laura     02:19:51.840 02:19:58.070 LAURA: Putah, Putahs...   \n",
       "Marisha   02:20:00.144 02:20:03.105 MARISHA: (laughs) Jo...   \n",
       "Sam       02:21:42.612 02:21:48.936 SAM: Woo, uh, I'm no...   \n",
       "Dani                   02:16:08.360 02:16:09.193 DANI: Wow.   \n",
       "Brian                02:18:48.940 02:18:49.840 BRIAN: Okay.   \n",
       "\n",
       "                                                ending_line  \n",
       "Ashley    02:39:12.560 02:39:13.810 ASHLEY: We could jus...  \n",
       "Taliesin           02:36:01.770 02:36:02.800 TALIESIN: Why?  \n",
       "Travis    02:35:53.850 02:35:59.660 TRAVIS: How about we...  \n",
       "Matt      02:34:40.600 02:34:49.580 MATT: Hello, everyon...  \n",
       "Liam      02:34:57.011 02:34:58.057 LIAM: (through cuppe...  \n",
       "All             03:38:33.310 03:38:36.410 (blows raspberry)  \n",
       "Laura     02:35:32.010 02:35:33.990 LAURA: Like, an actu...  \n",
       "Marisha   02:35:23.920 02:35:30.050 MARISHA: Should we r...  \n",
       "Sam       02:34:49.580 02:34:51.440 SAM: Woo, I love me ...  \n",
       "Dani      02:19:26.110 02:19:27.920 DANI: You can't stay...  \n",
       "Brian     02:19:29.650 02:19:50.930 BRIAN: Rickolas-- no...  "
      ]
     },
     "metadata": {},
     "output_type": "display_data"
    },
    {
     "data": {
      "text/markdown": [
       "# Episode 94 - With Great Power..."
      ],
      "text/plain": [
       "<IPython.core.display.Markdown object>"
      ]
     },
     "metadata": {},
     "output_type": "display_data"
    },
    {
     "name": "stdout",
     "output_type": "stream",
     "text": [
      "Added to cast: Julie\n",
      "Added to cast: Henry\n"
     ]
    },
    {
     "data": {
      "text/html": [
       "<div>\n",
       "<style scoped>\n",
       "    .dataframe tbody tr th:only-of-type {\n",
       "        vertical-align: middle;\n",
       "    }\n",
       "\n",
       "    .dataframe tbody tr th {\n",
       "        vertical-align: top;\n",
       "    }\n",
       "\n",
       "    .dataframe thead th {\n",
       "        text-align: right;\n",
       "    }\n",
       "</style>\n",
       "<table border=\"1\" class=\"dataframe\">\n",
       "  <thead>\n",
       "    <tr style=\"text-align: right;\">\n",
       "      <th></th>\n",
       "      <th>interval</th>\n",
       "      <th>starting_line</th>\n",
       "      <th>ending_line</th>\n",
       "    </tr>\n",
       "  </thead>\n",
       "  <tbody>\n",
       "    <tr>\n",
       "      <th>Travis</th>\n",
       "      <td>0 days 00:27:22.762000</td>\n",
       "      <td>02:09:45.524 02:09:47.200 TRAVIS: Long rest, b...</td>\n",
       "      <td>02:37:09.962 02:37:16.600 TRAVIS: Not a fuckin...</td>\n",
       "    </tr>\n",
       "    <tr>\n",
       "      <th>Laura</th>\n",
       "      <td>0 days 00:26:26.372000</td>\n",
       "      <td>02:09:11.833 02:09:21.290 LAURA: (laughs) Yeah...</td>\n",
       "      <td>02:35:47.662 02:35:48.662 LAURA: Oh.\\nTALIESIN...</td>\n",
       "    </tr>\n",
       "    <tr>\n",
       "      <th>Matt</th>\n",
       "      <td>0 days 00:23:53.553000</td>\n",
       "      <td>02:10:37.058 02:10:39.149 MATT: But yeah, the ...</td>\n",
       "      <td>02:34:32.702 02:34:45.120 MATT: And welcome ba...</td>\n",
       "    </tr>\n",
       "    <tr>\n",
       "      <th>Ashley</th>\n",
       "      <td>0 days 00:23:04.059000</td>\n",
       "      <td>01:30:26.653 01:30:28.336 ASHLEY: That's amazi...</td>\n",
       "      <td>01:53:32.395 01:53:38.463 ASHLEY: And he's pro...</td>\n",
       "    </tr>\n",
       "    <tr>\n",
       "      <th>Liam</th>\n",
       "      <td>0 days 00:22:24.236000</td>\n",
       "      <td>02:13:14.943 02:13:16.424 LIAM: Look at me, I'...</td>\n",
       "      <td>02:35:40.660 02:35:42.820 LIAM: Early to bed, ...</td>\n",
       "    </tr>\n",
       "    <tr>\n",
       "      <th>Marisha</th>\n",
       "      <td>0 days 00:18:44.741000</td>\n",
       "      <td>02:18:06.953 02:18:10.810 MARISHA: -- stealthi...</td>\n",
       "      <td>02:36:55.551 02:36:57.334 MARISHA: I guess bac...</td>\n",
       "    </tr>\n",
       "    <tr>\n",
       "      <th>Taliesin</th>\n",
       "      <td>0 days 00:16:47.320000</td>\n",
       "      <td>02:19:02.290 02:19:03.980 TALIESIN: There's a ...</td>\n",
       "      <td>02:35:51.300 02:35:52.133 TALIESIN: Pa-pa-pa-pow.</td>\n",
       "    </tr>\n",
       "    <tr>\n",
       "      <th>Sam</th>\n",
       "      <td>0 days 00:15:31.686000</td>\n",
       "      <td>02:20:37.180 02:20:42.725 SAM: Woo, uh, I'm no...</td>\n",
       "      <td>02:36:14.411 02:36:15.919 SAM: Wait, you could...</td>\n",
       "    </tr>\n",
       "    <tr>\n",
       "      <th>All</th>\n",
       "      <td>0 days 00:14:00.373000</td>\n",
       "      <td>02:20:50.138 02:20:54.938 (dramatic music)</td>\n",
       "      <td>02:34:55.311 02:34:56.760 (paper rustling)</td>\n",
       "    </tr>\n",
       "    <tr>\n",
       "      <th>Dani</th>\n",
       "      <td>0 days 00:02:25.970000</td>\n",
       "      <td>02:15:47.020 02:15:48.250 DANI: Yeah, but just...</td>\n",
       "      <td>02:18:14.220 02:18:15.240 DANI: A natural one.</td>\n",
       "    </tr>\n",
       "    <tr>\n",
       "      <th>Brian</th>\n",
       "      <td>0 days 00:01:05.370000</td>\n",
       "      <td>02:15:43.950 02:15:44.970 BRIAN: Whoa.</td>\n",
       "      <td>02:16:50.340 02:17:02.220 BRIAN: \"When communi...</td>\n",
       "    </tr>\n",
       "  </tbody>\n",
       "</table>\n",
       "</div>"
      ],
      "text/plain": [
       "                       interval  \\\n",
       "Travis   0 days 00:27:22.762000   \n",
       "Laura    0 days 00:26:26.372000   \n",
       "Matt     0 days 00:23:53.553000   \n",
       "Ashley   0 days 00:23:04.059000   \n",
       "Liam     0 days 00:22:24.236000   \n",
       "Marisha  0 days 00:18:44.741000   \n",
       "Taliesin 0 days 00:16:47.320000   \n",
       "Sam      0 days 00:15:31.686000   \n",
       "All      0 days 00:14:00.373000   \n",
       "Dani     0 days 00:02:25.970000   \n",
       "Brian    0 days 00:01:05.370000   \n",
       "\n",
       "                                              starting_line  \\\n",
       "Travis    02:09:45.524 02:09:47.200 TRAVIS: Long rest, b...   \n",
       "Laura     02:09:11.833 02:09:21.290 LAURA: (laughs) Yeah...   \n",
       "Matt      02:10:37.058 02:10:39.149 MATT: But yeah, the ...   \n",
       "Ashley    01:30:26.653 01:30:28.336 ASHLEY: That's amazi...   \n",
       "Liam      02:13:14.943 02:13:16.424 LIAM: Look at me, I'...   \n",
       "Marisha   02:18:06.953 02:18:10.810 MARISHA: -- stealthi...   \n",
       "Taliesin  02:19:02.290 02:19:03.980 TALIESIN: There's a ...   \n",
       "Sam       02:20:37.180 02:20:42.725 SAM: Woo, uh, I'm no...   \n",
       "All              02:20:50.138 02:20:54.938 (dramatic music)   \n",
       "Dani      02:15:47.020 02:15:48.250 DANI: Yeah, but just...   \n",
       "Brian                02:15:43.950 02:15:44.970 BRIAN: Whoa.   \n",
       "\n",
       "                                                ending_line  \n",
       "Travis    02:37:09.962 02:37:16.600 TRAVIS: Not a fuckin...  \n",
       "Laura     02:35:47.662 02:35:48.662 LAURA: Oh.\\nTALIESIN...  \n",
       "Matt      02:34:32.702 02:34:45.120 MATT: And welcome ba...  \n",
       "Ashley    01:53:32.395 01:53:38.463 ASHLEY: And he's pro...  \n",
       "Liam      02:35:40.660 02:35:42.820 LIAM: Early to bed, ...  \n",
       "Marisha   02:36:55.551 02:36:57.334 MARISHA: I guess bac...  \n",
       "Taliesin  02:35:51.300 02:35:52.133 TALIESIN: Pa-pa-pa-pow.  \n",
       "Sam       02:36:14.411 02:36:15.919 SAM: Wait, you could...  \n",
       "All              02:34:55.311 02:34:56.760 (paper rustling)  \n",
       "Dani         02:18:14.220 02:18:15.240 DANI: A natural one.  \n",
       "Brian     02:16:50.340 02:17:02.220 BRIAN: \"When communi...  "
      ]
     },
     "metadata": {},
     "output_type": "display_data"
    },
    {
     "data": {
      "text/markdown": [
       "# Episode 95 - Blessing In Disguise"
      ],
      "text/plain": [
       "<IPython.core.display.Markdown object>"
      ]
     },
     "metadata": {},
     "output_type": "display_data"
    },
    {
     "name": "stdout",
     "output_type": "stream",
     "text": [
      "Added to cast: Matthew\n",
      "Added to cast: Bridget\n",
      "Added to cast: David\n"
     ]
    },
    {
     "data": {
      "text/html": [
       "<div>\n",
       "<style scoped>\n",
       "    .dataframe tbody tr th:only-of-type {\n",
       "        vertical-align: middle;\n",
       "    }\n",
       "\n",
       "    .dataframe tbody tr th {\n",
       "        vertical-align: top;\n",
       "    }\n",
       "\n",
       "    .dataframe thead th {\n",
       "        text-align: right;\n",
       "    }\n",
       "</style>\n",
       "<table border=\"1\" class=\"dataframe\">\n",
       "  <thead>\n",
       "    <tr style=\"text-align: right;\">\n",
       "      <th></th>\n",
       "      <th>interval</th>\n",
       "      <th>starting_line</th>\n",
       "      <th>ending_line</th>\n",
       "    </tr>\n",
       "  </thead>\n",
       "  <tbody>\n",
       "    <tr>\n",
       "      <th>Ashley</th>\n",
       "      <td>0 days 00:37:12.637000</td>\n",
       "      <td>01:40:08.616 01:40:13.443 ASHLEY: Yeah, I got ...</td>\n",
       "      <td>02:17:26.080 02:17:28.360 ASHLEY: I rolled a 10.</td>\n",
       "    </tr>\n",
       "    <tr>\n",
       "      <th>Marisha</th>\n",
       "      <td>0 days 00:24:52.387000</td>\n",
       "      <td>01:51:04.915 01:51:05.977 MARISHA: You mean th...</td>\n",
       "      <td>02:15:58.364 02:16:05.910 MARISHA: Oh my god. ...</td>\n",
       "    </tr>\n",
       "    <tr>\n",
       "      <th>Taliesin</th>\n",
       "      <td>0 days 00:24:10.277000</td>\n",
       "      <td>01:51:24.870 01:51:27.730 TALIESIN: I'm not go...</td>\n",
       "      <td>02:15:38.007 02:15:39.997 TALIESIN: I wanted t...</td>\n",
       "    </tr>\n",
       "    <tr>\n",
       "      <th>Liam</th>\n",
       "      <td>0 days 00:21:09.040000</td>\n",
       "      <td>01:54:37.800 01:54:45.080 LIAM: Ghosts.\\nSAM: ...</td>\n",
       "      <td>02:15:54.120 02:15:58.364 LIAM: That was a goo...</td>\n",
       "    </tr>\n",
       "    <tr>\n",
       "      <th>Sam</th>\n",
       "      <td>0 days 00:20:24.847000</td>\n",
       "      <td>00:10:11.459 00:10:13.443 SAM: We clap now, it...</td>\n",
       "      <td>00:30:38.290 00:30:41.082 SAM: I go to reach f...</td>\n",
       "    </tr>\n",
       "    <tr>\n",
       "      <th>Travis</th>\n",
       "      <td>0 days 00:19:47.674000</td>\n",
       "      <td>00:09:40.070 00:10:08.246 TRAVIS: Yes, yes yes...</td>\n",
       "      <td>00:29:55.920 00:29:57.100 TRAVIS: Fuck--\\nLAUR...</td>\n",
       "    </tr>\n",
       "    <tr>\n",
       "      <th>Laura</th>\n",
       "      <td>0 days 00:16:10.462000</td>\n",
       "      <td>02:00:26.720 02:00:33.580 LAURA: Oh my god,\\ny...</td>\n",
       "      <td>02:16:44.042 02:16:45.834 LAURA: You won't be.</td>\n",
       "    </tr>\n",
       "    <tr>\n",
       "      <th>All</th>\n",
       "      <td>0 days 00:13:51.149000</td>\n",
       "      <td>00:36:19.171 00:36:21.967 (laughter)</td>\n",
       "      <td>00:50:13.116 00:50:17.974 (laughter)</td>\n",
       "    </tr>\n",
       "    <tr>\n",
       "      <th>Matt</th>\n",
       "      <td>0 days 00:12:58.352000</td>\n",
       "      <td>02:00:49.121 02:02:34.110 MATT: (as Pumat Sol)...</td>\n",
       "      <td>02:15:32.462 02:15:35.670 MATT: And welcome ba...</td>\n",
       "    </tr>\n",
       "    <tr>\n",
       "      <th>Dani</th>\n",
       "      <td>0 days 00:03:13.407000</td>\n",
       "      <td>01:57:22.894 01:57:25.005 DANI: Ooh.\\nBRIAN: A...</td>\n",
       "      <td>02:00:38.412 02:00:41.080 DANI: You don't even...</td>\n",
       "    </tr>\n",
       "    <tr>\n",
       "      <th>Brian</th>\n",
       "      <td>0 days 00:00:45.840000</td>\n",
       "      <td>01:57:48.100 01:57:59.640 BRIAN: I can't belie...</td>\n",
       "      <td>01:58:45.480 01:58:49.572 BRIAN: \"What made yo...</td>\n",
       "    </tr>\n",
       "    <tr>\n",
       "      <th>Bridget</th>\n",
       "      <td>0 days 00:00:19.270000</td>\n",
       "      <td>01:54:36.710 01:54:37.800 BRIDGET: Should I sh...</td>\n",
       "      <td>01:54:57.070 01:54:58.680 BRIDGET: You killed ...</td>\n",
       "    </tr>\n",
       "    <tr>\n",
       "      <th>Matthew</th>\n",
       "      <td>0 days 00:00:15.541000</td>\n",
       "      <td>00:02:22.439 00:02:23.935 MATTHEW: I can't see...</td>\n",
       "      <td>00:02:39.476 00:02:41.970 MATTHEW: Switch the ...</td>\n",
       "    </tr>\n",
       "    <tr>\n",
       "      <th>David</th>\n",
       "      <td>0 days 00:00:02.763000</td>\n",
       "      <td>01:54:26.800 01:54:29.330 DAVID: Ghost.\\nSAM: ...</td>\n",
       "      <td>01:54:32.093 01:54:36.710 DAVID: That's a ghos...</td>\n",
       "    </tr>\n",
       "  </tbody>\n",
       "</table>\n",
       "</div>"
      ],
      "text/plain": [
       "                       interval  \\\n",
       "Ashley   0 days 00:37:12.637000   \n",
       "Marisha  0 days 00:24:52.387000   \n",
       "Taliesin 0 days 00:24:10.277000   \n",
       "Liam     0 days 00:21:09.040000   \n",
       "Sam      0 days 00:20:24.847000   \n",
       "Travis   0 days 00:19:47.674000   \n",
       "Laura    0 days 00:16:10.462000   \n",
       "All      0 days 00:13:51.149000   \n",
       "Matt     0 days 00:12:58.352000   \n",
       "Dani     0 days 00:03:13.407000   \n",
       "Brian    0 days 00:00:45.840000   \n",
       "Bridget  0 days 00:00:19.270000   \n",
       "Matthew  0 days 00:00:15.541000   \n",
       "David    0 days 00:00:02.763000   \n",
       "\n",
       "                                              starting_line  \\\n",
       "Ashley    01:40:08.616 01:40:13.443 ASHLEY: Yeah, I got ...   \n",
       "Marisha   01:51:04.915 01:51:05.977 MARISHA: You mean th...   \n",
       "Taliesin  01:51:24.870 01:51:27.730 TALIESIN: I'm not go...   \n",
       "Liam      01:54:37.800 01:54:45.080 LIAM: Ghosts.\\nSAM: ...   \n",
       "Sam       00:10:11.459 00:10:13.443 SAM: We clap now, it...   \n",
       "Travis    00:09:40.070 00:10:08.246 TRAVIS: Yes, yes yes...   \n",
       "Laura     02:00:26.720 02:00:33.580 LAURA: Oh my god,\\ny...   \n",
       "All                    00:36:19.171 00:36:21.967 (laughter)   \n",
       "Matt      02:00:49.121 02:02:34.110 MATT: (as Pumat Sol)...   \n",
       "Dani      01:57:22.894 01:57:25.005 DANI: Ooh.\\nBRIAN: A...   \n",
       "Brian     01:57:48.100 01:57:59.640 BRIAN: I can't belie...   \n",
       "Bridget   01:54:36.710 01:54:37.800 BRIDGET: Should I sh...   \n",
       "Matthew   00:02:22.439 00:02:23.935 MATTHEW: I can't see...   \n",
       "David     01:54:26.800 01:54:29.330 DAVID: Ghost.\\nSAM: ...   \n",
       "\n",
       "                                                ending_line  \n",
       "Ashley     02:17:26.080 02:17:28.360 ASHLEY: I rolled a 10.  \n",
       "Marisha   02:15:58.364 02:16:05.910 MARISHA: Oh my god. ...  \n",
       "Taliesin  02:15:38.007 02:15:39.997 TALIESIN: I wanted t...  \n",
       "Liam      02:15:54.120 02:15:58.364 LIAM: That was a goo...  \n",
       "Sam       00:30:38.290 00:30:41.082 SAM: I go to reach f...  \n",
       "Travis    00:29:55.920 00:29:57.100 TRAVIS: Fuck--\\nLAUR...  \n",
       "Laura        02:16:44.042 02:16:45.834 LAURA: You won't be.  \n",
       "All                    00:50:13.116 00:50:17.974 (laughter)  \n",
       "Matt      02:15:32.462 02:15:35.670 MATT: And welcome ba...  \n",
       "Dani      02:00:38.412 02:00:41.080 DANI: You don't even...  \n",
       "Brian     01:58:45.480 01:58:49.572 BRIAN: \"What made yo...  \n",
       "Bridget   01:54:57.070 01:54:58.680 BRIDGET: You killed ...  \n",
       "Matthew   00:02:39.476 00:02:41.970 MATTHEW: Switch the ...  \n",
       "David     01:54:32.093 01:54:36.710 DAVID: That's a ghos...  "
      ]
     },
     "metadata": {},
     "output_type": "display_data"
    },
    {
     "data": {
      "text/markdown": [
       "# Episode 96 - Family Shatters"
      ],
      "text/plain": [
       "<IPython.core.display.Markdown object>"
      ]
     },
     "metadata": {},
     "output_type": "display_data"
    },
    {
     "name": "stdout",
     "output_type": "stream",
     "text": [
      "Added to cast: Presenter\n"
     ]
    },
    {
     "data": {
      "text/html": [
       "<div>\n",
       "<style scoped>\n",
       "    .dataframe tbody tr th:only-of-type {\n",
       "        vertical-align: middle;\n",
       "    }\n",
       "\n",
       "    .dataframe tbody tr th {\n",
       "        vertical-align: top;\n",
       "    }\n",
       "\n",
       "    .dataframe thead th {\n",
       "        text-align: right;\n",
       "    }\n",
       "</style>\n",
       "<table border=\"1\" class=\"dataframe\">\n",
       "  <thead>\n",
       "    <tr style=\"text-align: right;\">\n",
       "      <th></th>\n",
       "      <th>interval</th>\n",
       "      <th>starting_line</th>\n",
       "      <th>ending_line</th>\n",
       "    </tr>\n",
       "  </thead>\n",
       "  <tbody>\n",
       "    <tr>\n",
       "      <th>Ashley</th>\n",
       "      <td>0 days 00:37:45.849000</td>\n",
       "      <td>01:48:37.600 01:48:40.134 ASHLEY: I'll follow ...</td>\n",
       "      <td>02:26:25.983 02:26:28.050 ASHLEY: I'm Yasha, I...</td>\n",
       "    </tr>\n",
       "    <tr>\n",
       "      <th>Marisha</th>\n",
       "      <td>0 days 00:26:47.890000</td>\n",
       "      <td>01:56:38.881 01:56:40.680 MARISHA: That's a lo...</td>\n",
       "      <td>02:23:28.570 02:23:29.650 MARISHA: So before.</td>\n",
       "    </tr>\n",
       "    <tr>\n",
       "      <th>Taliesin</th>\n",
       "      <td>0 days 00:24:54.209000</td>\n",
       "      <td>01:56:37.542 01:56:38.881 TALIESIN: Just a the...</td>\n",
       "      <td>02:21:33.090 02:21:34.250 TALIESIN: Fine art.</td>\n",
       "    </tr>\n",
       "    <tr>\n",
       "      <th>Travis</th>\n",
       "      <td>0 days 00:24:04.828000</td>\n",
       "      <td>01:57:15.583 01:57:17.142 TRAVIS: Oasis.</td>\n",
       "      <td>02:21:21.970 02:21:23.435 TRAVIS: Cookie2259.</td>\n",
       "    </tr>\n",
       "    <tr>\n",
       "      <th>Sam</th>\n",
       "      <td>0 days 00:23:10.450000</td>\n",
       "      <td>02:00:04.785 02:00:19.200 SAM: Is he still the...</td>\n",
       "      <td>02:23:29.650 02:23:30.980 SAM: That was nine y...</td>\n",
       "    </tr>\n",
       "    <tr>\n",
       "      <th>Laura</th>\n",
       "      <td>0 days 00:22:33.596000</td>\n",
       "      <td>01:59:58.418 02:00:02.404 LAURA: Ghost.\\nLIAM:...</td>\n",
       "      <td>02:22:36.000 02:22:38.383 LAURA: How long have...</td>\n",
       "    </tr>\n",
       "    <tr>\n",
       "      <th>Liam</th>\n",
       "      <td>0 days 00:19:08.312000</td>\n",
       "      <td>02:06:23.300 02:08:05.368 LIAM: Subscribe or d...</td>\n",
       "      <td>02:27:13.680 02:27:18.370 LIAM: Yeah, you have...</td>\n",
       "    </tr>\n",
       "    <tr>\n",
       "      <th>Matt</th>\n",
       "      <td>0 days 00:14:47.219000</td>\n",
       "      <td>02:06:16.410 02:06:21.701 MATT: Checks out, ye...</td>\n",
       "      <td>02:21:08.920 02:21:21.970 MATT: Welcome back.\\...</td>\n",
       "    </tr>\n",
       "    <tr>\n",
       "      <th>All</th>\n",
       "      <td>0 days 00:13:15.365000</td>\n",
       "      <td>02:08:11.246 02:08:13.888 (dramatic orchestral...</td>\n",
       "      <td>02:21:29.253 02:21:31.480 (laughter)</td>\n",
       "    </tr>\n",
       "    <tr>\n",
       "      <th>Dani</th>\n",
       "      <td>0 days 00:05:36.944000</td>\n",
       "      <td>02:00:29.093 02:00:31.830 DANI: What?\\nMATT: (...</td>\n",
       "      <td>02:06:08.774 02:06:10.780 DANI: It's so bright...</td>\n",
       "    </tr>\n",
       "    <tr>\n",
       "      <th>Brian</th>\n",
       "      <td>0 days 00:00:58.695000</td>\n",
       "      <td>02:01:50.880 02:02:07.335 BRIAN: \"At the start...</td>\n",
       "      <td>02:03:06.030 02:03:25.040 BRIAN: \"Even when fo...</td>\n",
       "    </tr>\n",
       "  </tbody>\n",
       "</table>\n",
       "</div>"
      ],
      "text/plain": [
       "                       interval  \\\n",
       "Ashley   0 days 00:37:45.849000   \n",
       "Marisha  0 days 00:26:47.890000   \n",
       "Taliesin 0 days 00:24:54.209000   \n",
       "Travis   0 days 00:24:04.828000   \n",
       "Sam      0 days 00:23:10.450000   \n",
       "Laura    0 days 00:22:33.596000   \n",
       "Liam     0 days 00:19:08.312000   \n",
       "Matt     0 days 00:14:47.219000   \n",
       "All      0 days 00:13:15.365000   \n",
       "Dani     0 days 00:05:36.944000   \n",
       "Brian    0 days 00:00:58.695000   \n",
       "\n",
       "                                              starting_line  \\\n",
       "Ashley    01:48:37.600 01:48:40.134 ASHLEY: I'll follow ...   \n",
       "Marisha   01:56:38.881 01:56:40.680 MARISHA: That's a lo...   \n",
       "Taliesin  01:56:37.542 01:56:38.881 TALIESIN: Just a the...   \n",
       "Travis             01:57:15.583 01:57:17.142 TRAVIS: Oasis.   \n",
       "Sam       02:00:04.785 02:00:19.200 SAM: Is he still the...   \n",
       "Laura     01:59:58.418 02:00:02.404 LAURA: Ghost.\\nLIAM:...   \n",
       "Liam      02:06:23.300 02:08:05.368 LIAM: Subscribe or d...   \n",
       "Matt      02:06:16.410 02:06:21.701 MATT: Checks out, ye...   \n",
       "All       02:08:11.246 02:08:13.888 (dramatic orchestral...   \n",
       "Dani      02:00:29.093 02:00:31.830 DANI: What?\\nMATT: (...   \n",
       "Brian     02:01:50.880 02:02:07.335 BRIAN: \"At the start...   \n",
       "\n",
       "                                                ending_line  \n",
       "Ashley    02:26:25.983 02:26:28.050 ASHLEY: I'm Yasha, I...  \n",
       "Marisha       02:23:28.570 02:23:29.650 MARISHA: So before.  \n",
       "Taliesin      02:21:33.090 02:21:34.250 TALIESIN: Fine art.  \n",
       "Travis        02:21:21.970 02:21:23.435 TRAVIS: Cookie2259.  \n",
       "Sam       02:23:29.650 02:23:30.980 SAM: That was nine y...  \n",
       "Laura     02:22:36.000 02:22:38.383 LAURA: How long have...  \n",
       "Liam      02:27:13.680 02:27:18.370 LIAM: Yeah, you have...  \n",
       "Matt      02:21:08.920 02:21:21.970 MATT: Welcome back.\\...  \n",
       "All                    02:21:29.253 02:21:31.480 (laughter)  \n",
       "Dani      02:06:08.774 02:06:10.780 DANI: It's so bright...  \n",
       "Brian     02:03:06.030 02:03:25.040 BRIAN: \"Even when fo...  "
      ]
     },
     "metadata": {},
     "output_type": "display_data"
    },
    {
     "data": {
      "text/markdown": [
       "# Episode 97 - The Fancy and the Fooled"
      ],
      "text/plain": [
       "<IPython.core.display.Markdown object>"
      ]
     },
     "metadata": {},
     "output_type": "display_data"
    },
    {
     "name": "stdout",
     "output_type": "stream",
     "text": [
      "Added to cast: Misty\n"
     ]
    },
    {
     "data": {
      "text/html": [
       "<div>\n",
       "<style scoped>\n",
       "    .dataframe tbody tr th:only-of-type {\n",
       "        vertical-align: middle;\n",
       "    }\n",
       "\n",
       "    .dataframe tbody tr th {\n",
       "        vertical-align: top;\n",
       "    }\n",
       "\n",
       "    .dataframe thead th {\n",
       "        text-align: right;\n",
       "    }\n",
       "</style>\n",
       "<table border=\"1\" class=\"dataframe\">\n",
       "  <thead>\n",
       "    <tr style=\"text-align: right;\">\n",
       "      <th></th>\n",
       "      <th>interval</th>\n",
       "      <th>starting_line</th>\n",
       "      <th>ending_line</th>\n",
       "    </tr>\n",
       "  </thead>\n",
       "  <tbody>\n",
       "    <tr>\n",
       "      <th>Brian</th>\n",
       "      <td>0 days 01:53:44.539000</td>\n",
       "      <td>00:06:36.028 00:07:03.211 BRIAN: And here to s...</td>\n",
       "      <td>02:00:47.750 02:00:58.104 BRIAN: Caduceus, pla...</td>\n",
       "    </tr>\n",
       "    <tr>\n",
       "      <th>Ashley</th>\n",
       "      <td>0 days 00:27:48.531000</td>\n",
       "      <td>03:01:13.262 03:01:16.516 ASHLEY: Oh, yeah, ye...</td>\n",
       "      <td>03:29:05.047 03:29:08.977 ASHLEY: I'm going to...</td>\n",
       "    </tr>\n",
       "    <tr>\n",
       "      <th>Marisha</th>\n",
       "      <td>0 days 00:24:59.344000</td>\n",
       "      <td>01:57:59.204 01:58:01.464 MARISHA: Did you los...</td>\n",
       "      <td>02:23:00.808 02:23:03.108 MARISHA: Yeah, and I...</td>\n",
       "    </tr>\n",
       "    <tr>\n",
       "      <th>Travis</th>\n",
       "      <td>0 days 00:24:34.651000</td>\n",
       "      <td>01:58:05.376 01:58:07.159 TRAVIS: Change back,...</td>\n",
       "      <td>02:22:41.810 02:22:44.210 TRAVIS: Is it a pair...</td>\n",
       "    </tr>\n",
       "    <tr>\n",
       "      <th>Laura</th>\n",
       "      <td>0 days 00:24:15.687000</td>\n",
       "      <td>01:58:12.076 01:58:13.020 LAURA: Ooh, that's p...</td>\n",
       "      <td>02:22:28.707 02:22:30.040 LAURA: Oh.</td>\n",
       "    </tr>\n",
       "    <tr>\n",
       "      <th>Taliesin</th>\n",
       "      <td>0 days 00:23:36.352000</td>\n",
       "      <td>02:06:59.725 02:08:20.048 TALIESIN: For your c...</td>\n",
       "      <td>02:31:56.400 02:31:59.022 TALIESIN: Are we goi...</td>\n",
       "    </tr>\n",
       "    <tr>\n",
       "      <th>Matt</th>\n",
       "      <td>0 days 00:22:53.416000</td>\n",
       "      <td>01:58:23.928 01:59:15.843 MATT: We'll see you ...</td>\n",
       "      <td>02:22:09.259 02:22:28.707 MATT: And welcome ba...</td>\n",
       "    </tr>\n",
       "    <tr>\n",
       "      <th>Sam</th>\n",
       "      <td>0 days 00:21:57.279000</td>\n",
       "      <td>02:00:31.703 02:00:32.761 SAM: Oh, oh, oh.</td>\n",
       "      <td>02:22:30.040 02:22:41.810 SAM: I Just want to ...</td>\n",
       "    </tr>\n",
       "    <tr>\n",
       "      <th>Liam</th>\n",
       "      <td>0 days 00:17:40.087000</td>\n",
       "      <td>02:06:45.447 02:06:48.471 LIAM: Oh, Henry's ba...</td>\n",
       "      <td>02:24:28.558 02:24:31.570 LIAM: Are we going t...</td>\n",
       "    </tr>\n",
       "    <tr>\n",
       "      <th>All</th>\n",
       "      <td>0 days 00:13:44.585000</td>\n",
       "      <td>02:08:22.415 02:08:27.015 (dramatic music)</td>\n",
       "      <td>02:22:11.600 02:22:16.583 [cheering]</td>\n",
       "    </tr>\n",
       "    <tr>\n",
       "      <th>Dani</th>\n",
       "      <td>0 days 00:03:56.560000</td>\n",
       "      <td>02:00:59.945 02:01:01.445 DANI: Brian!</td>\n",
       "      <td>02:04:58.005 02:05:00.070 DANI: (squealing)</td>\n",
       "    </tr>\n",
       "    <tr>\n",
       "      <th>Misty</th>\n",
       "      <td>0 days 00:00:13.328000</td>\n",
       "      <td>01:59:58.720 02:00:07.320 MISTY: Right here is...</td>\n",
       "      <td>02:00:20.648 02:00:22.330 MISTY: Yes, yes!</td>\n",
       "    </tr>\n",
       "  </tbody>\n",
       "</table>\n",
       "</div>"
      ],
      "text/plain": [
       "                       interval  \\\n",
       "Brian    0 days 01:53:44.539000   \n",
       "Ashley   0 days 00:27:48.531000   \n",
       "Marisha  0 days 00:24:59.344000   \n",
       "Travis   0 days 00:24:34.651000   \n",
       "Laura    0 days 00:24:15.687000   \n",
       "Taliesin 0 days 00:23:36.352000   \n",
       "Matt     0 days 00:22:53.416000   \n",
       "Sam      0 days 00:21:57.279000   \n",
       "Liam     0 days 00:17:40.087000   \n",
       "All      0 days 00:13:44.585000   \n",
       "Dani     0 days 00:03:56.560000   \n",
       "Misty    0 days 00:00:13.328000   \n",
       "\n",
       "                                              starting_line  \\\n",
       "Brian     00:06:36.028 00:07:03.211 BRIAN: And here to s...   \n",
       "Ashley    03:01:13.262 03:01:16.516 ASHLEY: Oh, yeah, ye...   \n",
       "Marisha   01:57:59.204 01:58:01.464 MARISHA: Did you los...   \n",
       "Travis    01:58:05.376 01:58:07.159 TRAVIS: Change back,...   \n",
       "Laura     01:58:12.076 01:58:13.020 LAURA: Ooh, that's p...   \n",
       "Taliesin  02:06:59.725 02:08:20.048 TALIESIN: For your c...   \n",
       "Matt      01:58:23.928 01:59:15.843 MATT: We'll see you ...   \n",
       "Sam              02:00:31.703 02:00:32.761 SAM: Oh, oh, oh.   \n",
       "Liam      02:06:45.447 02:06:48.471 LIAM: Oh, Henry's ba...   \n",
       "All              02:08:22.415 02:08:27.015 (dramatic music)   \n",
       "Dani                 02:00:59.945 02:01:01.445 DANI: Brian!   \n",
       "Misty     01:59:58.720 02:00:07.320 MISTY: Right here is...   \n",
       "\n",
       "                                                ending_line  \n",
       "Brian     02:00:47.750 02:00:58.104 BRIAN: Caduceus, pla...  \n",
       "Ashley    03:29:05.047 03:29:08.977 ASHLEY: I'm going to...  \n",
       "Marisha   02:23:00.808 02:23:03.108 MARISHA: Yeah, and I...  \n",
       "Travis    02:22:41.810 02:22:44.210 TRAVIS: Is it a pair...  \n",
       "Laura                  02:22:28.707 02:22:30.040 LAURA: Oh.  \n",
       "Taliesin  02:31:56.400 02:31:59.022 TALIESIN: Are we goi...  \n",
       "Matt      02:22:09.259 02:22:28.707 MATT: And welcome ba...  \n",
       "Sam       02:22:30.040 02:22:41.810 SAM: I Just want to ...  \n",
       "Liam      02:24:28.558 02:24:31.570 LIAM: Are we going t...  \n",
       "All                    02:22:11.600 02:22:16.583 [cheering]  \n",
       "Dani            02:04:58.005 02:05:00.070 DANI: (squealing)  \n",
       "Misty            02:00:20.648 02:00:22.330 MISTY: Yes, yes!  "
      ]
     },
     "metadata": {},
     "output_type": "display_data"
    },
    {
     "data": {
      "text/markdown": [
       "# Episode 98 - Dark Waters"
      ],
      "text/plain": [
       "<IPython.core.display.Markdown object>"
      ]
     },
     "metadata": {},
     "output_type": "display_data"
    },
    {
     "name": "stdout",
     "output_type": "stream",
     "text": [
      "Added to cast: Brandon\n",
      "Added to cast: Meredith\n",
      "Added to cast: Marc\n",
      "Added to cast: Eugene\n",
      "Added to cast: Mae\n",
      "Added to cast: Kevin\n",
      "Added to cast: Doc\n",
      "Added to cast: Mayy\n"
     ]
    },
    {
     "data": {
      "text/html": [
       "<div>\n",
       "<style scoped>\n",
       "    .dataframe tbody tr th:only-of-type {\n",
       "        vertical-align: middle;\n",
       "    }\n",
       "\n",
       "    .dataframe tbody tr th {\n",
       "        vertical-align: top;\n",
       "    }\n",
       "\n",
       "    .dataframe thead th {\n",
       "        text-align: right;\n",
       "    }\n",
       "</style>\n",
       "<table border=\"1\" class=\"dataframe\">\n",
       "  <thead>\n",
       "    <tr style=\"text-align: right;\">\n",
       "      <th></th>\n",
       "      <th>interval</th>\n",
       "      <th>starting_line</th>\n",
       "      <th>ending_line</th>\n",
       "    </tr>\n",
       "  </thead>\n",
       "  <tbody>\n",
       "    <tr>\n",
       "      <th>Travis</th>\n",
       "      <td>0 days 00:38:29.204000</td>\n",
       "      <td>01:19:26.323 01:19:35.493 TRAVIS: (wave crashi...</td>\n",
       "      <td>01:58:04.697 01:58:05.963 TRAVIS: (chanting) F...</td>\n",
       "    </tr>\n",
       "    <tr>\n",
       "      <th>Liam</th>\n",
       "      <td>0 days 00:30:45.692000</td>\n",
       "      <td>00:59:20.216 00:59:22.981 LIAM: Okay.\\nOkay, t...</td>\n",
       "      <td>01:30:08.673 01:30:09.839 LIAM: To the sea!</td>\n",
       "    </tr>\n",
       "    <tr>\n",
       "      <th>Taliesin</th>\n",
       "      <td>0 days 00:29:16.122000</td>\n",
       "      <td>01:29:21.782 01:29:23.649 TALIESIN: To the doc...</td>\n",
       "      <td>01:58:39.771 01:58:40.604 TALIESIN: Is that us?</td>\n",
       "    </tr>\n",
       "    <tr>\n",
       "      <th>Laura</th>\n",
       "      <td>0 days 00:29:03.179000</td>\n",
       "      <td>01:29:15.950 01:29:17.592 LAURA: Let's go.\\nMA...</td>\n",
       "      <td>01:58:20.771 01:58:39.771 LAURA: Oh gosh!\\nMAT...</td>\n",
       "    </tr>\n",
       "    <tr>\n",
       "      <th>Ashley</th>\n",
       "      <td>0 days 00:27:27.194000</td>\n",
       "      <td>01:32:26.240 01:32:27.087 ASHLEY: Magic.</td>\n",
       "      <td>01:59:54.281 01:59:55.114 ASHLEY: (whispering)...</td>\n",
       "    </tr>\n",
       "    <tr>\n",
       "      <th>Marisha</th>\n",
       "      <td>0 days 00:21:49.191000</td>\n",
       "      <td>01:19:09.320 01:19:11.940 MARISHA: Can I see w...</td>\n",
       "      <td>01:41:01.131 01:41:04.442 MARISHA: Are they ju...</td>\n",
       "    </tr>\n",
       "    <tr>\n",
       "      <th>All</th>\n",
       "      <td>0 days 00:19:07.371000</td>\n",
       "      <td>00:10:41.003 00:10:43.480 (laughter)</td>\n",
       "      <td>00:29:50.851 00:29:54.495 (laughter)</td>\n",
       "    </tr>\n",
       "    <tr>\n",
       "      <th>Matt</th>\n",
       "      <td>0 days 00:17:47.452000</td>\n",
       "      <td>01:40:00.618 01:40:07.760 MATT: We wanted to c...</td>\n",
       "      <td>01:57:55.212 01:58:04.697 MATT: And welcome ba...</td>\n",
       "    </tr>\n",
       "    <tr>\n",
       "      <th>Sam</th>\n",
       "      <td>0 days 00:14:32.517000</td>\n",
       "      <td>02:32:42.340 02:32:44.763 SAM: We'll table the...</td>\n",
       "      <td>02:47:17.280 02:47:19.285 SAM: Do we know wher...</td>\n",
       "    </tr>\n",
       "    <tr>\n",
       "      <th>Meredith</th>\n",
       "      <td>0 days 00:04:53.006000</td>\n",
       "      <td>01:34:18.060 01:34:25.711 MEREDITH: I'm just r...</td>\n",
       "      <td>01:39:18.717 01:39:24.862 MEREDITH: It's worki...</td>\n",
       "    </tr>\n",
       "    <tr>\n",
       "      <th>Kevin</th>\n",
       "      <td>0 days 00:04:26.944000</td>\n",
       "      <td>01:35:08.898 01:35:21.846 KEVIN: There is sort...</td>\n",
       "      <td>01:39:48.790 01:40:00.618 KEVIN: We are as exc...</td>\n",
       "    </tr>\n",
       "    <tr>\n",
       "      <th>Marc</th>\n",
       "      <td>0 days 00:03:33.740000</td>\n",
       "      <td>01:32:48.338 01:32:52.278 MARC: Even if you ar...</td>\n",
       "      <td>01:36:26.018 01:36:29.993 MARC: Everybody was,...</td>\n",
       "    </tr>\n",
       "    <tr>\n",
       "      <th>Jennifer</th>\n",
       "      <td>0 days 00:02:46.639000</td>\n",
       "      <td>01:34:59.243 01:35:08.898 JENNIFER: We had a m...</td>\n",
       "      <td>01:37:55.537 01:38:05.435 JENNIFER: Whittling ...</td>\n",
       "    </tr>\n",
       "    <tr>\n",
       "      <th>Mae</th>\n",
       "      <td>0 days 00:02:07.829000</td>\n",
       "      <td>01:34:25.711 01:34:43.269 MAE: This is somethi...</td>\n",
       "      <td>01:36:51.098 01:37:10.612 MAE: An adaptation n...</td>\n",
       "    </tr>\n",
       "    <tr>\n",
       "      <th>Brandon</th>\n",
       "      <td>0 days 00:02:02.249000</td>\n",
       "      <td>01:37:10.612 01:37:22.613 BRANDON: There's goi...</td>\n",
       "      <td>01:39:24.862 01:39:30.517 BRANDON: Nothing is ...</td>\n",
       "    </tr>\n",
       "    <tr>\n",
       "      <th>Eugene</th>\n",
       "      <td>0 days 00:01:01.715000</td>\n",
       "      <td>01:33:39.782 01:33:53.622 EUGENE: It's a fanta...</td>\n",
       "      <td>01:34:55.337 01:34:59.243 EUGENE: God, the wri...</td>\n",
       "    </tr>\n",
       "    <tr>\n",
       "      <th>Brian</th>\n",
       "      <td>0 days 00:00:08.937000</td>\n",
       "      <td>01:41:16.680 01:41:22.183 BRIAN: Do you unders...</td>\n",
       "      <td>01:41:31.120 01:41:34.450 BRIAN: Can I do that...</td>\n",
       "    </tr>\n",
       "    <tr>\n",
       "      <th>Misty</th>\n",
       "      <td>0 days 00:00:06.206000</td>\n",
       "      <td>01:32:01.326 01:32:03.709 MISTY: Do you have a...</td>\n",
       "      <td>01:32:09.915 01:32:11.487 MISTY: Yes, yes!</td>\n",
       "    </tr>\n",
       "  </tbody>\n",
       "</table>\n",
       "</div>"
      ],
      "text/plain": [
       "                       interval  \\\n",
       "Travis   0 days 00:38:29.204000   \n",
       "Liam     0 days 00:30:45.692000   \n",
       "Taliesin 0 days 00:29:16.122000   \n",
       "Laura    0 days 00:29:03.179000   \n",
       "Ashley   0 days 00:27:27.194000   \n",
       "Marisha  0 days 00:21:49.191000   \n",
       "All      0 days 00:19:07.371000   \n",
       "Matt     0 days 00:17:47.452000   \n",
       "Sam      0 days 00:14:32.517000   \n",
       "Meredith 0 days 00:04:53.006000   \n",
       "Kevin    0 days 00:04:26.944000   \n",
       "Marc     0 days 00:03:33.740000   \n",
       "Jennifer 0 days 00:02:46.639000   \n",
       "Mae      0 days 00:02:07.829000   \n",
       "Brandon  0 days 00:02:02.249000   \n",
       "Eugene   0 days 00:01:01.715000   \n",
       "Brian    0 days 00:00:08.937000   \n",
       "Misty    0 days 00:00:06.206000   \n",
       "\n",
       "                                              starting_line  \\\n",
       "Travis    01:19:26.323 01:19:35.493 TRAVIS: (wave crashi...   \n",
       "Liam      00:59:20.216 00:59:22.981 LIAM: Okay.\\nOkay, t...   \n",
       "Taliesin  01:29:21.782 01:29:23.649 TALIESIN: To the doc...   \n",
       "Laura     01:29:15.950 01:29:17.592 LAURA: Let's go.\\nMA...   \n",
       "Ashley             01:32:26.240 01:32:27.087 ASHLEY: Magic.   \n",
       "Marisha   01:19:09.320 01:19:11.940 MARISHA: Can I see w...   \n",
       "All                    00:10:41.003 00:10:43.480 (laughter)   \n",
       "Matt      01:40:00.618 01:40:07.760 MATT: We wanted to c...   \n",
       "Sam       02:32:42.340 02:32:44.763 SAM: We'll table the...   \n",
       "Meredith  01:34:18.060 01:34:25.711 MEREDITH: I'm just r...   \n",
       "Kevin     01:35:08.898 01:35:21.846 KEVIN: There is sort...   \n",
       "Marc      01:32:48.338 01:32:52.278 MARC: Even if you ar...   \n",
       "Jennifer  01:34:59.243 01:35:08.898 JENNIFER: We had a m...   \n",
       "Mae       01:34:25.711 01:34:43.269 MAE: This is somethi...   \n",
       "Brandon   01:37:10.612 01:37:22.613 BRANDON: There's goi...   \n",
       "Eugene    01:33:39.782 01:33:53.622 EUGENE: It's a fanta...   \n",
       "Brian     01:41:16.680 01:41:22.183 BRIAN: Do you unders...   \n",
       "Misty     01:32:01.326 01:32:03.709 MISTY: Do you have a...   \n",
       "\n",
       "                                                ending_line  \n",
       "Travis    01:58:04.697 01:58:05.963 TRAVIS: (chanting) F...  \n",
       "Liam            01:30:08.673 01:30:09.839 LIAM: To the sea!  \n",
       "Taliesin    01:58:39.771 01:58:40.604 TALIESIN: Is that us?  \n",
       "Laura     01:58:20.771 01:58:39.771 LAURA: Oh gosh!\\nMAT...  \n",
       "Ashley    01:59:54.281 01:59:55.114 ASHLEY: (whispering)...  \n",
       "Marisha   01:41:01.131 01:41:04.442 MARISHA: Are they ju...  \n",
       "All                    00:29:50.851 00:29:54.495 (laughter)  \n",
       "Matt      01:57:55.212 01:58:04.697 MATT: And welcome ba...  \n",
       "Sam       02:47:17.280 02:47:19.285 SAM: Do we know wher...  \n",
       "Meredith  01:39:18.717 01:39:24.862 MEREDITH: It's worki...  \n",
       "Kevin     01:39:48.790 01:40:00.618 KEVIN: We are as exc...  \n",
       "Marc      01:36:26.018 01:36:29.993 MARC: Everybody was,...  \n",
       "Jennifer  01:37:55.537 01:38:05.435 JENNIFER: Whittling ...  \n",
       "Mae       01:36:51.098 01:37:10.612 MAE: An adaptation n...  \n",
       "Brandon   01:39:24.862 01:39:30.517 BRANDON: Nothing is ...  \n",
       "Eugene    01:34:55.337 01:34:59.243 EUGENE: God, the wri...  \n",
       "Brian     01:41:31.120 01:41:34.450 BRIAN: Can I do that...  \n",
       "Misty            01:32:09.915 01:32:11.487 MISTY: Yes, yes!  "
      ]
     },
     "metadata": {},
     "output_type": "display_data"
    },
    {
     "data": {
      "text/markdown": [
       "# Episode 99 - High Seas, High Stakes"
      ],
      "text/plain": [
       "<IPython.core.display.Markdown object>"
      ]
     },
     "metadata": {},
     "output_type": "display_data"
    },
    {
     "name": "stdout",
     "output_type": "stream",
     "text": [
      "Added to cast: Satine\n"
     ]
    },
    {
     "data": {
      "text/html": [
       "<div>\n",
       "<style scoped>\n",
       "    .dataframe tbody tr th:only-of-type {\n",
       "        vertical-align: middle;\n",
       "    }\n",
       "\n",
       "    .dataframe tbody tr th {\n",
       "        vertical-align: top;\n",
       "    }\n",
       "\n",
       "    .dataframe thead th {\n",
       "        text-align: right;\n",
       "    }\n",
       "</style>\n",
       "<table border=\"1\" class=\"dataframe\">\n",
       "  <thead>\n",
       "    <tr style=\"text-align: right;\">\n",
       "      <th></th>\n",
       "      <th>interval</th>\n",
       "      <th>starting_line</th>\n",
       "      <th>ending_line</th>\n",
       "    </tr>\n",
       "  </thead>\n",
       "  <tbody>\n",
       "    <tr>\n",
       "      <th>Ashley</th>\n",
       "      <td>0 days 00:33:28.401000</td>\n",
       "      <td>02:29:33.282 02:29:35.699 ASHLEY: Oh my god.\\n...</td>\n",
       "      <td>03:03:04.100 03:03:07.292 ASHLEY: I feel like ...</td>\n",
       "    </tr>\n",
       "    <tr>\n",
       "      <th>Matt</th>\n",
       "      <td>0 days 00:26:41.810000</td>\n",
       "      <td>02:15:01.090 02:15:53.270 MATT: Hello everyone...</td>\n",
       "      <td>02:42:35.080 02:42:45.130 MATT: Welcome back e...</td>\n",
       "    </tr>\n",
       "    <tr>\n",
       "      <th>Taliesin</th>\n",
       "      <td>0 days 00:25:45.366000</td>\n",
       "      <td>01:36:01.270 01:36:03.260 TALIESIN: Cannons ar...</td>\n",
       "      <td>02:01:48.626 02:01:51.780 TALIESIN: Who's brin...</td>\n",
       "    </tr>\n",
       "    <tr>\n",
       "      <th>Laura</th>\n",
       "      <td>0 days 00:23:30.390000</td>\n",
       "      <td>02:17:46.630 02:19:50.370 LAURA: Hi.\\nSo I jus...</td>\n",
       "      <td>02:43:20.760 02:43:22.180 LAURA: Hey, where we...</td>\n",
       "    </tr>\n",
       "    <tr>\n",
       "      <th>Sam</th>\n",
       "      <td>0 days 00:19:21.534000</td>\n",
       "      <td>02:22:32.370 02:23:23.596 SAM: Happy fifth ann...</td>\n",
       "      <td>02:42:45.130 02:42:47.670 SAM: Oh, interesting...</td>\n",
       "    </tr>\n",
       "    <tr>\n",
       "      <th>Marisha</th>\n",
       "      <td>0 days 00:18:16.166000</td>\n",
       "      <td>02:23:28.080 02:25:09.684 MARISHA: Hello every...</td>\n",
       "      <td>02:43:25.850 02:43:29.330 MARISHA: Yeah, it ap...</td>\n",
       "    </tr>\n",
       "    <tr>\n",
       "      <th>Liam</th>\n",
       "      <td>0 days 00:16:59.510000</td>\n",
       "      <td>02:26:17.253 02:26:19.600 LIAM: Cheers\\nSAM: S...</td>\n",
       "      <td>02:43:19.110 02:43:20.760 LIAM: Hello.</td>\n",
       "    </tr>\n",
       "    <tr>\n",
       "      <th>All</th>\n",
       "      <td>0 days 00:15:38.893000</td>\n",
       "      <td>02:29:37.707 02:29:40.457 (dramatic orchestral...</td>\n",
       "      <td>02:45:19.350 02:45:20.470 (laughter)</td>\n",
       "    </tr>\n",
       "    <tr>\n",
       "      <th>Travis</th>\n",
       "      <td>0 days 00:14:14.860000</td>\n",
       "      <td>02:29:19.283 02:29:25.080 TRAVIS: Wow!\\nIt it ...</td>\n",
       "      <td>02:43:39.940 02:43:40.995 TRAVIS: Yep, gave th...</td>\n",
       "    </tr>\n",
       "    <tr>\n",
       "      <th>Brian</th>\n",
       "      <td>0 days 00:00:23.956000</td>\n",
       "      <td>02:27:19.050 02:27:26.560 BRIAN: The next morn...</td>\n",
       "      <td>02:27:50.516 02:27:55.244 BRIAN: Read your inv...</td>\n",
       "    </tr>\n",
       "    <tr>\n",
       "      <th>Dani</th>\n",
       "      <td>0 days 00:00:04.556000</td>\n",
       "      <td>02:29:25.080 02:29:26.650 DANI: She's in one s...</td>\n",
       "      <td>02:29:31.206 02:29:33.282 DANI: It was three m...</td>\n",
       "    </tr>\n",
       "  </tbody>\n",
       "</table>\n",
       "</div>"
      ],
      "text/plain": [
       "                       interval  \\\n",
       "Ashley   0 days 00:33:28.401000   \n",
       "Matt     0 days 00:26:41.810000   \n",
       "Taliesin 0 days 00:25:45.366000   \n",
       "Laura    0 days 00:23:30.390000   \n",
       "Sam      0 days 00:19:21.534000   \n",
       "Marisha  0 days 00:18:16.166000   \n",
       "Liam     0 days 00:16:59.510000   \n",
       "All      0 days 00:15:38.893000   \n",
       "Travis   0 days 00:14:14.860000   \n",
       "Brian    0 days 00:00:23.956000   \n",
       "Dani     0 days 00:00:04.556000   \n",
       "\n",
       "                                              starting_line  \\\n",
       "Ashley    02:29:33.282 02:29:35.699 ASHLEY: Oh my god.\\n...   \n",
       "Matt      02:15:01.090 02:15:53.270 MATT: Hello everyone...   \n",
       "Taliesin  01:36:01.270 01:36:03.260 TALIESIN: Cannons ar...   \n",
       "Laura     02:17:46.630 02:19:50.370 LAURA: Hi.\\nSo I jus...   \n",
       "Sam       02:22:32.370 02:23:23.596 SAM: Happy fifth ann...   \n",
       "Marisha   02:23:28.080 02:25:09.684 MARISHA: Hello every...   \n",
       "Liam      02:26:17.253 02:26:19.600 LIAM: Cheers\\nSAM: S...   \n",
       "All       02:29:37.707 02:29:40.457 (dramatic orchestral...   \n",
       "Travis    02:29:19.283 02:29:25.080 TRAVIS: Wow!\\nIt it ...   \n",
       "Brian     02:27:19.050 02:27:26.560 BRIAN: The next morn...   \n",
       "Dani      02:29:25.080 02:29:26.650 DANI: She's in one s...   \n",
       "\n",
       "                                                ending_line  \n",
       "Ashley    03:03:04.100 03:03:07.292 ASHLEY: I feel like ...  \n",
       "Matt      02:42:35.080 02:42:45.130 MATT: Welcome back e...  \n",
       "Taliesin  02:01:48.626 02:01:51.780 TALIESIN: Who's brin...  \n",
       "Laura     02:43:20.760 02:43:22.180 LAURA: Hey, where we...  \n",
       "Sam       02:42:45.130 02:42:47.670 SAM: Oh, interesting...  \n",
       "Marisha   02:43:25.850 02:43:29.330 MARISHA: Yeah, it ap...  \n",
       "Liam                 02:43:19.110 02:43:20.760 LIAM: Hello.  \n",
       "All                    02:45:19.350 02:45:20.470 (laughter)  \n",
       "Travis    02:43:39.940 02:43:40.995 TRAVIS: Yep, gave th...  \n",
       "Brian     02:27:50.516 02:27:55.244 BRIAN: Read your inv...  \n",
       "Dani      02:29:31.206 02:29:33.282 DANI: It was three m...  "
      ]
     },
     "metadata": {},
     "output_type": "display_data"
    },
    {
     "data": {
      "text/markdown": [
       "# Episode 100 - Hunted at Sea"
      ],
      "text/plain": [
       "<IPython.core.display.Markdown object>"
      ]
     },
     "metadata": {},
     "output_type": "display_data"
    },
    {
     "data": {
      "text/html": [
       "<div>\n",
       "<style scoped>\n",
       "    .dataframe tbody tr th:only-of-type {\n",
       "        vertical-align: middle;\n",
       "    }\n",
       "\n",
       "    .dataframe tbody tr th {\n",
       "        vertical-align: top;\n",
       "    }\n",
       "\n",
       "    .dataframe thead th {\n",
       "        text-align: right;\n",
       "    }\n",
       "</style>\n",
       "<table border=\"1\" class=\"dataframe\">\n",
       "  <thead>\n",
       "    <tr style=\"text-align: right;\">\n",
       "      <th></th>\n",
       "      <th>interval</th>\n",
       "      <th>starting_line</th>\n",
       "      <th>ending_line</th>\n",
       "    </tr>\n",
       "  </thead>\n",
       "  <tbody>\n",
       "    <tr>\n",
       "      <th>Liam</th>\n",
       "      <td>0 days 00:29:47.590000</td>\n",
       "      <td>01:51:31.680 01:51:35.730 LIAM: You have to si...</td>\n",
       "      <td>02:21:23.320 02:21:25.871 LIAM: That would be ...</td>\n",
       "    </tr>\n",
       "    <tr>\n",
       "      <th>Taliesin</th>\n",
       "      <td>0 days 00:28:35.721000</td>\n",
       "      <td>01:51:38.230 01:51:41.480 TALIESIN: And if Bea...</td>\n",
       "      <td>02:20:17.201 02:20:20.351 TALIESIN: Well, I me...</td>\n",
       "    </tr>\n",
       "    <tr>\n",
       "      <th>All</th>\n",
       "      <td>0 days 00:28:25.889000</td>\n",
       "      <td>01:53:50.520 01:53:52.369 (cheering)</td>\n",
       "      <td>02:22:18.258 02:22:20.451 (laughter)</td>\n",
       "    </tr>\n",
       "    <tr>\n",
       "      <th>Ashley</th>\n",
       "      <td>0 days 00:27:49.984000</td>\n",
       "      <td>01:51:01.340 01:51:03.450 ASHLEY: Or at least ...</td>\n",
       "      <td>02:18:53.434 02:18:55.121 ASHLEY: It is so coo...</td>\n",
       "    </tr>\n",
       "    <tr>\n",
       "      <th>Marisha</th>\n",
       "      <td>0 days 00:26:48.134000</td>\n",
       "      <td>01:53:36.717 01:53:38.077 MARISHA: I've never ...</td>\n",
       "      <td>02:20:26.211 02:20:27.161 MARISHA: Yeah.\\nSAM:...</td>\n",
       "    </tr>\n",
       "    <tr>\n",
       "      <th>Travis</th>\n",
       "      <td>0 days 00:26:29.441000</td>\n",
       "      <td>01:53:32.463 01:53:35.050 TRAVIS: We made it t...</td>\n",
       "      <td>02:20:04.491 02:20:07.401 TRAVIS: Anyone on th...</td>\n",
       "    </tr>\n",
       "    <tr>\n",
       "      <th>Sam</th>\n",
       "      <td>0 days 00:26:29.201000</td>\n",
       "      <td>01:53:38.077 01:53:39.370 SAM: Feels so great.</td>\n",
       "      <td>02:20:08.571 02:20:10.148 SAM: We're the first...</td>\n",
       "    </tr>\n",
       "    <tr>\n",
       "      <th>Laura</th>\n",
       "      <td>0 days 00:26:23.511000</td>\n",
       "      <td>01:53:24.913 01:53:26.350 LAURA: Rrr-umble!</td>\n",
       "      <td>02:19:49.861 02:19:51.901 LAURA: Do we see any...</td>\n",
       "    </tr>\n",
       "    <tr>\n",
       "      <th>Matt</th>\n",
       "      <td>0 days 00:24:43.251000</td>\n",
       "      <td>01:53:39.370 01:53:50.520 MATT: We'll be back ...</td>\n",
       "      <td>02:18:33.771 02:18:53.434 MATT: And welcome ba...</td>\n",
       "    </tr>\n",
       "  </tbody>\n",
       "</table>\n",
       "</div>"
      ],
      "text/plain": [
       "                       interval  \\\n",
       "Liam     0 days 00:29:47.590000   \n",
       "Taliesin 0 days 00:28:35.721000   \n",
       "All      0 days 00:28:25.889000   \n",
       "Ashley   0 days 00:27:49.984000   \n",
       "Marisha  0 days 00:26:48.134000   \n",
       "Travis   0 days 00:26:29.441000   \n",
       "Sam      0 days 00:26:29.201000   \n",
       "Laura    0 days 00:26:23.511000   \n",
       "Matt     0 days 00:24:43.251000   \n",
       "\n",
       "                                              starting_line  \\\n",
       "Liam      01:51:31.680 01:51:35.730 LIAM: You have to si...   \n",
       "Taliesin  01:51:38.230 01:51:41.480 TALIESIN: And if Bea...   \n",
       "All                    01:53:50.520 01:53:52.369 (cheering)   \n",
       "Ashley    01:51:01.340 01:51:03.450 ASHLEY: Or at least ...   \n",
       "Marisha   01:53:36.717 01:53:38.077 MARISHA: I've never ...   \n",
       "Travis    01:53:32.463 01:53:35.050 TRAVIS: We made it t...   \n",
       "Sam          01:53:38.077 01:53:39.370 SAM: Feels so great.   \n",
       "Laura           01:53:24.913 01:53:26.350 LAURA: Rrr-umble!   \n",
       "Matt      01:53:39.370 01:53:50.520 MATT: We'll be back ...   \n",
       "\n",
       "                                                ending_line  \n",
       "Liam      02:21:23.320 02:21:25.871 LIAM: That would be ...  \n",
       "Taliesin  02:20:17.201 02:20:20.351 TALIESIN: Well, I me...  \n",
       "All                    02:22:18.258 02:22:20.451 (laughter)  \n",
       "Ashley    02:18:53.434 02:18:55.121 ASHLEY: It is so coo...  \n",
       "Marisha   02:20:26.211 02:20:27.161 MARISHA: Yeah.\\nSAM:...  \n",
       "Travis    02:20:04.491 02:20:07.401 TRAVIS: Anyone on th...  \n",
       "Sam       02:20:08.571 02:20:10.148 SAM: We're the first...  \n",
       "Laura     02:19:49.861 02:19:51.901 LAURA: Do we see any...  \n",
       "Matt      02:18:33.771 02:18:53.434 MATT: And welcome ba...  "
      ]
     },
     "metadata": {},
     "output_type": "display_data"
    },
    {
     "data": {
      "text/markdown": [
       "# Episode 101 - Mysteries, Memories, and Music"
      ],
      "text/plain": [
       "<IPython.core.display.Markdown object>"
      ]
     },
     "metadata": {},
     "output_type": "display_data"
    },
    {
     "data": {
      "text/html": [
       "<div>\n",
       "<style scoped>\n",
       "    .dataframe tbody tr th:only-of-type {\n",
       "        vertical-align: middle;\n",
       "    }\n",
       "\n",
       "    .dataframe tbody tr th {\n",
       "        vertical-align: top;\n",
       "    }\n",
       "\n",
       "    .dataframe thead th {\n",
       "        text-align: right;\n",
       "    }\n",
       "</style>\n",
       "<table border=\"1\" class=\"dataframe\">\n",
       "  <thead>\n",
       "    <tr style=\"text-align: right;\">\n",
       "      <th></th>\n",
       "      <th>interval</th>\n",
       "      <th>starting_line</th>\n",
       "      <th>ending_line</th>\n",
       "    </tr>\n",
       "  </thead>\n",
       "  <tbody>\n",
       "    <tr>\n",
       "      <th>All</th>\n",
       "      <td>0 days 00:21:30.083000</td>\n",
       "      <td>02:26:17.531 02:26:18.865 (cheering)</td>\n",
       "      <td>02:47:48.948 02:47:50.153 (laughter)</td>\n",
       "    </tr>\n",
       "    <tr>\n",
       "      <th>Taliesin</th>\n",
       "      <td>0 days 00:21:12.260000</td>\n",
       "      <td>02:24:55.683 02:24:56.633 TALIESIN: Oh, I miss...</td>\n",
       "      <td>02:46:08.893 02:46:10.213 TALIESIN: 10.\\nMATT:...</td>\n",
       "    </tr>\n",
       "    <tr>\n",
       "      <th>Liam</th>\n",
       "      <td>0 days 00:20:35.602000</td>\n",
       "      <td>02:25:26.372 02:25:28.831 LIAM: (singing scat)</td>\n",
       "      <td>02:46:04.433 02:46:05.613 LIAM: 24.\\nMATT: All...</td>\n",
       "    </tr>\n",
       "    <tr>\n",
       "      <th>Sam</th>\n",
       "      <td>0 days 00:20:14.792000</td>\n",
       "      <td>02:25:32.387 02:25:34.581 SAM: That's good stuff.</td>\n",
       "      <td>02:45:49.373 02:45:51.303 SAM: I know, I think...</td>\n",
       "    </tr>\n",
       "    <tr>\n",
       "      <th>Marisha</th>\n",
       "      <td>0 days 00:20:12.038000</td>\n",
       "      <td>02:25:42.427 02:25:44.487 MARISHA: That was cu...</td>\n",
       "      <td>02:45:56.525 02:45:57.358 MARISHA: Okay.</td>\n",
       "    </tr>\n",
       "    <tr>\n",
       "      <th>Ashley</th>\n",
       "      <td>0 days 00:19:57.617000</td>\n",
       "      <td>02:26:07.980 02:26:09.646 ASHLEY: I have to pe...</td>\n",
       "      <td>02:46:07.263 02:46:08.893 ASHLEY: Eight.\\nMATT...</td>\n",
       "    </tr>\n",
       "    <tr>\n",
       "      <th>Laura</th>\n",
       "      <td>0 days 00:19:40.006000</td>\n",
       "      <td>02:26:07.147 02:26:07.980 LAURA: No.</td>\n",
       "      <td>02:45:47.986 02:45:49.373 LAURA: But we rolled...</td>\n",
       "    </tr>\n",
       "    <tr>\n",
       "      <th>Travis</th>\n",
       "      <td>0 days 00:19:39.349000</td>\n",
       "      <td>02:26:05.577 02:26:07.147 TRAVIS: What are you...</td>\n",
       "      <td>02:45:46.496 02:45:47.986 TRAVIS: (groans) Wha...</td>\n",
       "    </tr>\n",
       "    <tr>\n",
       "      <th>Matt</th>\n",
       "      <td>0 days 00:19:15.344000</td>\n",
       "      <td>02:26:10.857 02:26:17.531 MATT: Indeed, it's a...</td>\n",
       "      <td>02:45:32.875 02:45:39.093 MATT: And welcome ba...</td>\n",
       "    </tr>\n",
       "  </tbody>\n",
       "</table>\n",
       "</div>"
      ],
      "text/plain": [
       "                       interval  \\\n",
       "All      0 days 00:21:30.083000   \n",
       "Taliesin 0 days 00:21:12.260000   \n",
       "Liam     0 days 00:20:35.602000   \n",
       "Sam      0 days 00:20:14.792000   \n",
       "Marisha  0 days 00:20:12.038000   \n",
       "Ashley   0 days 00:19:57.617000   \n",
       "Laura    0 days 00:19:40.006000   \n",
       "Travis   0 days 00:19:39.349000   \n",
       "Matt     0 days 00:19:15.344000   \n",
       "\n",
       "                                              starting_line  \\\n",
       "All                    02:26:17.531 02:26:18.865 (cheering)   \n",
       "Taliesin  02:24:55.683 02:24:56.633 TALIESIN: Oh, I miss...   \n",
       "Liam         02:25:26.372 02:25:28.831 LIAM: (singing scat)   \n",
       "Sam       02:25:32.387 02:25:34.581 SAM: That's good stuff.   \n",
       "Marisha   02:25:42.427 02:25:44.487 MARISHA: That was cu...   \n",
       "Ashley    02:26:07.980 02:26:09.646 ASHLEY: I have to pe...   \n",
       "Laura                  02:26:07.147 02:26:07.980 LAURA: No.   \n",
       "Travis    02:26:05.577 02:26:07.147 TRAVIS: What are you...   \n",
       "Matt      02:26:10.857 02:26:17.531 MATT: Indeed, it's a...   \n",
       "\n",
       "                                                ending_line  \n",
       "All                    02:47:48.948 02:47:50.153 (laughter)  \n",
       "Taliesin  02:46:08.893 02:46:10.213 TALIESIN: 10.\\nMATT:...  \n",
       "Liam      02:46:04.433 02:46:05.613 LIAM: 24.\\nMATT: All...  \n",
       "Sam       02:45:49.373 02:45:51.303 SAM: I know, I think...  \n",
       "Marisha            02:45:56.525 02:45:57.358 MARISHA: Okay.  \n",
       "Ashley    02:46:07.263 02:46:08.893 ASHLEY: Eight.\\nMATT...  \n",
       "Laura     02:45:47.986 02:45:49.373 LAURA: But we rolled...  \n",
       "Travis    02:45:46.496 02:45:47.986 TRAVIS: (groans) Wha...  \n",
       "Matt      02:45:32.875 02:45:39.093 MATT: And welcome ba...  "
      ]
     },
     "metadata": {},
     "output_type": "display_data"
    },
    {
     "data": {
      "text/markdown": [
       "# Episode 103 - Maritime Mysteries"
      ],
      "text/plain": [
       "<IPython.core.display.Markdown object>"
      ]
     },
     "metadata": {},
     "output_type": "display_data"
    },
    {
     "data": {
      "text/html": [
       "<div>\n",
       "<style scoped>\n",
       "    .dataframe tbody tr th:only-of-type {\n",
       "        vertical-align: middle;\n",
       "    }\n",
       "\n",
       "    .dataframe tbody tr th {\n",
       "        vertical-align: top;\n",
       "    }\n",
       "\n",
       "    .dataframe thead th {\n",
       "        text-align: right;\n",
       "    }\n",
       "</style>\n",
       "<table border=\"1\" class=\"dataframe\">\n",
       "  <thead>\n",
       "    <tr style=\"text-align: right;\">\n",
       "      <th></th>\n",
       "      <th>interval</th>\n",
       "      <th>starting_line</th>\n",
       "      <th>ending_line</th>\n",
       "    </tr>\n",
       "  </thead>\n",
       "  <tbody>\n",
       "    <tr>\n",
       "      <th>Taliesin</th>\n",
       "      <td>0 days 00:21:38.215000</td>\n",
       "      <td>01:45:54.789 01:45:55.709 TALIESIN: All right.</td>\n",
       "      <td>02:07:33.924 02:07:35.434 TALIESIN: 14.</td>\n",
       "    </tr>\n",
       "    <tr>\n",
       "      <th>Marisha</th>\n",
       "      <td>0 days 00:19:29.350000</td>\n",
       "      <td>01:47:35.263 01:47:44.184 MARISHA: Are you abl...</td>\n",
       "      <td>02:07:13.534 02:07:15.192 MARISHA: Yeah, did we--</td>\n",
       "    </tr>\n",
       "    <tr>\n",
       "      <th>Laura</th>\n",
       "      <td>0 days 00:18:12.180000</td>\n",
       "      <td>01:48:52.545 01:48:55.204 LAURA: Okay, okay.</td>\n",
       "      <td>02:07:07.384 02:07:08.217 LAURA: Oh no.</td>\n",
       "    </tr>\n",
       "    <tr>\n",
       "      <th>Liam</th>\n",
       "      <td>0 days 00:18:03.030000</td>\n",
       "      <td>01:49:22.799 01:49:25.024 LIAM: I would be hap...</td>\n",
       "      <td>02:07:28.054 02:07:28.887 LIAM: 24.</td>\n",
       "    </tr>\n",
       "    <tr>\n",
       "      <th>Sam</th>\n",
       "      <td>0 days 00:17:12.565000</td>\n",
       "      <td>01:50:02.139 01:50:05.169 SAM: I need to know ...</td>\n",
       "      <td>02:07:17.734 02:07:19.014 SAM: Wisdom save.</td>\n",
       "    </tr>\n",
       "    <tr>\n",
       "      <th>Travis</th>\n",
       "      <td>0 days 00:17:04.137000</td>\n",
       "      <td>01:50:15.831 01:50:17.397 TRAVIS: Smart. Super...</td>\n",
       "      <td>02:07:21.534 02:07:23.171 TRAVIS: 12.\\nMATT: A...</td>\n",
       "    </tr>\n",
       "    <tr>\n",
       "      <th>Ashley</th>\n",
       "      <td>0 days 00:16:59.361000</td>\n",
       "      <td>01:50:13.542 01:50:15.831 ASHLEY: Wow.</td>\n",
       "      <td>02:07:15.192 02:07:16.794 ASHLEY: We didn't do...</td>\n",
       "    </tr>\n",
       "    <tr>\n",
       "      <th>All</th>\n",
       "      <td>0 days 00:16:32.960000</td>\n",
       "      <td>03:01:05.674 03:01:07.044 (whooshing)</td>\n",
       "      <td>03:17:40.004 03:17:42.320 (laughter)</td>\n",
       "    </tr>\n",
       "    <tr>\n",
       "      <th>Matt</th>\n",
       "      <td>0 days 00:12:47.159000</td>\n",
       "      <td>01:50:17.397 01:54:13.595 MATT: That was aweso...</td>\n",
       "      <td>02:07:00.754 02:07:07.114 MATT: And welcome ba...</td>\n",
       "    </tr>\n",
       "  </tbody>\n",
       "</table>\n",
       "</div>"
      ],
      "text/plain": [
       "                       interval  \\\n",
       "Taliesin 0 days 00:21:38.215000   \n",
       "Marisha  0 days 00:19:29.350000   \n",
       "Laura    0 days 00:18:12.180000   \n",
       "Liam     0 days 00:18:03.030000   \n",
       "Sam      0 days 00:17:12.565000   \n",
       "Travis   0 days 00:17:04.137000   \n",
       "Ashley   0 days 00:16:59.361000   \n",
       "All      0 days 00:16:32.960000   \n",
       "Matt     0 days 00:12:47.159000   \n",
       "\n",
       "                                              starting_line  \\\n",
       "Taliesin     01:45:54.789 01:45:55.709 TALIESIN: All right.   \n",
       "Marisha   01:47:35.263 01:47:44.184 MARISHA: Are you abl...   \n",
       "Laura          01:48:52.545 01:48:55.204 LAURA: Okay, okay.   \n",
       "Liam      01:49:22.799 01:49:25.024 LIAM: I would be hap...   \n",
       "Sam       01:50:02.139 01:50:05.169 SAM: I need to know ...   \n",
       "Travis    01:50:15.831 01:50:17.397 TRAVIS: Smart. Super...   \n",
       "Ashley               01:50:13.542 01:50:15.831 ASHLEY: Wow.   \n",
       "All                   03:01:05.674 03:01:07.044 (whooshing)   \n",
       "Matt      01:50:17.397 01:54:13.595 MATT: That was aweso...   \n",
       "\n",
       "                                                ending_line  \n",
       "Taliesin            02:07:33.924 02:07:35.434 TALIESIN: 14.  \n",
       "Marisha   02:07:13.534 02:07:15.192 MARISHA: Yeah, did we--  \n",
       "Laura               02:07:07.384 02:07:08.217 LAURA: Oh no.  \n",
       "Liam                    02:07:28.054 02:07:28.887 LIAM: 24.  \n",
       "Sam             02:07:17.734 02:07:19.014 SAM: Wisdom save.  \n",
       "Travis    02:07:21.534 02:07:23.171 TRAVIS: 12.\\nMATT: A...  \n",
       "Ashley    02:07:15.192 02:07:16.794 ASHLEY: We didn't do...  \n",
       "All                    03:17:40.004 03:17:42.320 (laughter)  \n",
       "Matt      02:07:00.754 02:07:07.114 MATT: And welcome ba...  "
      ]
     },
     "metadata": {},
     "output_type": "display_data"
    },
    {
     "data": {
      "text/markdown": [
       "# Episode 104 - The Ruined Sliver"
      ],
      "text/plain": [
       "<IPython.core.display.Markdown object>"
      ]
     },
     "metadata": {},
     "output_type": "display_data"
    },
    {
     "data": {
      "text/html": [
       "<div>\n",
       "<style scoped>\n",
       "    .dataframe tbody tr th:only-of-type {\n",
       "        vertical-align: middle;\n",
       "    }\n",
       "\n",
       "    .dataframe tbody tr th {\n",
       "        vertical-align: top;\n",
       "    }\n",
       "\n",
       "    .dataframe thead th {\n",
       "        text-align: right;\n",
       "    }\n",
       "</style>\n",
       "<table border=\"1\" class=\"dataframe\">\n",
       "  <thead>\n",
       "    <tr style=\"text-align: right;\">\n",
       "      <th></th>\n",
       "      <th>interval</th>\n",
       "      <th>starting_line</th>\n",
       "      <th>ending_line</th>\n",
       "    </tr>\n",
       "  </thead>\n",
       "  <tbody>\n",
       "    <tr>\n",
       "      <th>Taliesin</th>\n",
       "      <td>0 days 00:24:32.853000</td>\n",
       "      <td>01:13:08.070 01:13:09.020 TALIESIN: I'm so sorry.</td>\n",
       "      <td>01:37:41.873 01:37:43.230 TALIESIN: Interestin...</td>\n",
       "    </tr>\n",
       "    <tr>\n",
       "      <th>All</th>\n",
       "      <td>0 days 00:24:22.358000</td>\n",
       "      <td>03:01:53.238 03:01:54.071 (laughter)</td>\n",
       "      <td>03:26:16.429 03:26:19.487 (laughter)</td>\n",
       "    </tr>\n",
       "    <tr>\n",
       "      <th>Ashley</th>\n",
       "      <td>0 days 00:22:50.317000</td>\n",
       "      <td>00:04:06.510 00:04:07.343 ASHLEY: Grand.</td>\n",
       "      <td>00:26:57.660 00:26:59.760 ASHLEY: I mean, to b...</td>\n",
       "    </tr>\n",
       "    <tr>\n",
       "      <th>Liam</th>\n",
       "      <td>0 days 00:19:40.030000</td>\n",
       "      <td>01:13:38.365 01:13:39.640 LIAM: We better star...</td>\n",
       "      <td>01:33:19.670 01:33:21.356 LIAM: Oh, I rolled t...</td>\n",
       "    </tr>\n",
       "    <tr>\n",
       "      <th>Sam</th>\n",
       "      <td>0 days 00:19:05.313000</td>\n",
       "      <td>01:14:00.300 01:14:02.197 SAM: Descent into ma...</td>\n",
       "      <td>01:33:07.510 01:33:10.090 SAM: Dinosaur check,...</td>\n",
       "    </tr>\n",
       "    <tr>\n",
       "      <th>Marisha</th>\n",
       "      <td>0 days 00:18:44.407000</td>\n",
       "      <td>01:13:17.570 01:13:20.473 MARISHA: Oh, we're l...</td>\n",
       "      <td>01:32:04.880 01:32:08.522 MARISHA: Just blood ...</td>\n",
       "    </tr>\n",
       "    <tr>\n",
       "      <th>Laura</th>\n",
       "      <td>0 days 00:18:30.575000</td>\n",
       "      <td>01:13:06.140 01:13:07.115 LAURA: So dumb.</td>\n",
       "      <td>01:31:37.690 01:31:40.280 LAURA: Yes, I'll spe...</td>\n",
       "    </tr>\n",
       "    <tr>\n",
       "      <th>Matt</th>\n",
       "      <td>0 days 00:16:51.720000</td>\n",
       "      <td>01:14:08.163 01:14:12.280 MATT: We'll see you ...</td>\n",
       "      <td>01:31:04.000 01:31:37.690 MATT: And welcome ba...</td>\n",
       "    </tr>\n",
       "    <tr>\n",
       "      <th>Travis</th>\n",
       "      <td>0 days 00:14:03.483000</td>\n",
       "      <td>01:14:13.706 01:17:59.620 TRAVIS: Oh shit.\\n♪ ...</td>\n",
       "      <td>01:32:03.103 01:32:04.880 TRAVIS: (gasping)</td>\n",
       "    </tr>\n",
       "  </tbody>\n",
       "</table>\n",
       "</div>"
      ],
      "text/plain": [
       "                       interval  \\\n",
       "Taliesin 0 days 00:24:32.853000   \n",
       "All      0 days 00:24:22.358000   \n",
       "Ashley   0 days 00:22:50.317000   \n",
       "Liam     0 days 00:19:40.030000   \n",
       "Sam      0 days 00:19:05.313000   \n",
       "Marisha  0 days 00:18:44.407000   \n",
       "Laura    0 days 00:18:30.575000   \n",
       "Matt     0 days 00:16:51.720000   \n",
       "Travis   0 days 00:14:03.483000   \n",
       "\n",
       "                                              starting_line  \\\n",
       "Taliesin  01:13:08.070 01:13:09.020 TALIESIN: I'm so sorry.   \n",
       "All                    03:01:53.238 03:01:54.071 (laughter)   \n",
       "Ashley             00:04:06.510 00:04:07.343 ASHLEY: Grand.   \n",
       "Liam      01:13:38.365 01:13:39.640 LIAM: We better star...   \n",
       "Sam       01:14:00.300 01:14:02.197 SAM: Descent into ma...   \n",
       "Marisha   01:13:17.570 01:13:20.473 MARISHA: Oh, we're l...   \n",
       "Laura             01:13:06.140 01:13:07.115 LAURA: So dumb.   \n",
       "Matt      01:14:08.163 01:14:12.280 MATT: We'll see you ...   \n",
       "Travis    01:14:13.706 01:17:59.620 TRAVIS: Oh shit.\\n♪ ...   \n",
       "\n",
       "                                                ending_line  \n",
       "Taliesin  01:37:41.873 01:37:43.230 TALIESIN: Interestin...  \n",
       "All                    03:26:16.429 03:26:19.487 (laughter)  \n",
       "Ashley    00:26:57.660 00:26:59.760 ASHLEY: I mean, to b...  \n",
       "Liam      01:33:19.670 01:33:21.356 LIAM: Oh, I rolled t...  \n",
       "Sam       01:33:07.510 01:33:10.090 SAM: Dinosaur check,...  \n",
       "Marisha   01:32:04.880 01:32:08.522 MARISHA: Just blood ...  \n",
       "Laura     01:31:37.690 01:31:40.280 LAURA: Yes, I'll spe...  \n",
       "Matt      01:31:04.000 01:31:37.690 MATT: And welcome ba...  \n",
       "Travis          01:32:03.103 01:32:04.880 TRAVIS: (gasping)  "
      ]
     },
     "metadata": {},
     "output_type": "display_data"
    },
    {
     "data": {
      "text/markdown": [
       "# Episode 105 - Rumble at Rumblecusp"
      ],
      "text/plain": [
       "<IPython.core.display.Markdown object>"
      ]
     },
     "metadata": {},
     "output_type": "display_data"
    },
    {
     "data": {
      "text/html": [
       "<div>\n",
       "<style scoped>\n",
       "    .dataframe tbody tr th:only-of-type {\n",
       "        vertical-align: middle;\n",
       "    }\n",
       "\n",
       "    .dataframe tbody tr th {\n",
       "        vertical-align: top;\n",
       "    }\n",
       "\n",
       "    .dataframe thead th {\n",
       "        text-align: right;\n",
       "    }\n",
       "</style>\n",
       "<table border=\"1\" class=\"dataframe\">\n",
       "  <thead>\n",
       "    <tr style=\"text-align: right;\">\n",
       "      <th></th>\n",
       "      <th>interval</th>\n",
       "      <th>starting_line</th>\n",
       "      <th>ending_line</th>\n",
       "    </tr>\n",
       "  </thead>\n",
       "  <tbody>\n",
       "    <tr>\n",
       "      <th>Ashley</th>\n",
       "      <td>0 days 00:21:05.130000</td>\n",
       "      <td>02:33:40.770 02:33:43.615 ASHLEY: My god.\\nTRA...</td>\n",
       "      <td>02:54:48.745 02:54:50.720 ASHLEY: He looks so ...</td>\n",
       "    </tr>\n",
       "    <tr>\n",
       "      <th>Taliesin</th>\n",
       "      <td>0 days 00:19:14.901000</td>\n",
       "      <td>02:33:50.180 02:34:02.920 TALIESIN: We can go ...</td>\n",
       "      <td>02:53:17.821 02:53:18.654 TALIESIN: ♪ Motorin'. ♪</td>\n",
       "    </tr>\n",
       "    <tr>\n",
       "      <th>Marisha</th>\n",
       "      <td>0 days 00:18:51.850000</td>\n",
       "      <td>02:34:34.530 02:34:36.740 MARISHA: The D-Turt ...</td>\n",
       "      <td>02:53:28.590 02:53:32.170 MARISHA: Look at the...</td>\n",
       "    </tr>\n",
       "    <tr>\n",
       "      <th>Travis</th>\n",
       "      <td>0 days 00:18:07.750000</td>\n",
       "      <td>02:35:33.240 02:35:36.630 TRAVIS: Oh, oh, oh. ...</td>\n",
       "      <td>02:53:44.380 02:53:46.260 TRAVIS: Are you fuck...</td>\n",
       "    </tr>\n",
       "    <tr>\n",
       "      <th>Sam</th>\n",
       "      <td>0 days 00:17:45.967000</td>\n",
       "      <td>02:36:13.010 02:36:13.843 SAM: Yeah.</td>\n",
       "      <td>02:53:59.810 02:54:00.660 SAM: Yeah!\\nASHLEY: ...</td>\n",
       "    </tr>\n",
       "    <tr>\n",
       "      <th>Liam</th>\n",
       "      <td>0 days 00:17:24.031000</td>\n",
       "      <td>02:35:43.430 02:35:44.740 LIAM: Let's go, braw...</td>\n",
       "      <td>02:53:08.771 02:53:12.040 LIAM: Oh, look at th...</td>\n",
       "    </tr>\n",
       "    <tr>\n",
       "      <th>Laura</th>\n",
       "      <td>0 days 00:17:08.310000</td>\n",
       "      <td>02:35:56.614 02:36:03.730 LAURA: And you can a...</td>\n",
       "      <td>02:53:12.040 02:53:13.360 LAURA: He's so spark...</td>\n",
       "    </tr>\n",
       "    <tr>\n",
       "      <th>All</th>\n",
       "      <td>0 days 00:13:13.383000</td>\n",
       "      <td>04:16:44.687 04:16:46.685 (laughter)</td>\n",
       "      <td>04:30:00.068 04:30:00.901 (magic pulsing)</td>\n",
       "    </tr>\n",
       "    <tr>\n",
       "      <th>Matt</th>\n",
       "      <td>0 days 00:12:52.070000</td>\n",
       "      <td>01:11:40.440 01:11:45.390 MATT: Yeah, Heroes' ...</td>\n",
       "      <td>01:24:37.460 01:24:50.310 MATT: Vilya, mouth s...</td>\n",
       "    </tr>\n",
       "  </tbody>\n",
       "</table>\n",
       "</div>"
      ],
      "text/plain": [
       "                       interval  \\\n",
       "Ashley   0 days 00:21:05.130000   \n",
       "Taliesin 0 days 00:19:14.901000   \n",
       "Marisha  0 days 00:18:51.850000   \n",
       "Travis   0 days 00:18:07.750000   \n",
       "Sam      0 days 00:17:45.967000   \n",
       "Liam     0 days 00:17:24.031000   \n",
       "Laura    0 days 00:17:08.310000   \n",
       "All      0 days 00:13:13.383000   \n",
       "Matt     0 days 00:12:52.070000   \n",
       "\n",
       "                                              starting_line  \\\n",
       "Ashley    02:33:40.770 02:33:43.615 ASHLEY: My god.\\nTRA...   \n",
       "Taliesin  02:33:50.180 02:34:02.920 TALIESIN: We can go ...   \n",
       "Marisha   02:34:34.530 02:34:36.740 MARISHA: The D-Turt ...   \n",
       "Travis    02:35:33.240 02:35:36.630 TRAVIS: Oh, oh, oh. ...   \n",
       "Sam                    02:36:13.010 02:36:13.843 SAM: Yeah.   \n",
       "Liam      02:35:43.430 02:35:44.740 LIAM: Let's go, braw...   \n",
       "Laura     02:35:56.614 02:36:03.730 LAURA: And you can a...   \n",
       "All                    04:16:44.687 04:16:46.685 (laughter)   \n",
       "Matt      01:11:40.440 01:11:45.390 MATT: Yeah, Heroes' ...   \n",
       "\n",
       "                                                ending_line  \n",
       "Ashley    02:54:48.745 02:54:50.720 ASHLEY: He looks so ...  \n",
       "Taliesin  02:53:17.821 02:53:18.654 TALIESIN: ♪ Motorin'. ♪  \n",
       "Marisha   02:53:28.590 02:53:32.170 MARISHA: Look at the...  \n",
       "Travis    02:53:44.380 02:53:46.260 TRAVIS: Are you fuck...  \n",
       "Sam       02:53:59.810 02:54:00.660 SAM: Yeah!\\nASHLEY: ...  \n",
       "Liam      02:53:08.771 02:53:12.040 LIAM: Oh, look at th...  \n",
       "Laura     02:53:12.040 02:53:13.360 LAURA: He's so spark...  \n",
       "All               04:30:00.068 04:30:00.901 (magic pulsing)  \n",
       "Matt      01:24:37.460 01:24:50.310 MATT: Vilya, mouth s...  "
      ]
     },
     "metadata": {},
     "output_type": "display_data"
    },
    {
     "data": {
      "text/markdown": [
       "# Episode 106 - A Fog Lifted"
      ],
      "text/plain": [
       "<IPython.core.display.Markdown object>"
      ]
     },
     "metadata": {},
     "output_type": "display_data"
    },
    {
     "data": {
      "text/html": [
       "<div>\n",
       "<style scoped>\n",
       "    .dataframe tbody tr th:only-of-type {\n",
       "        vertical-align: middle;\n",
       "    }\n",
       "\n",
       "    .dataframe tbody tr th {\n",
       "        vertical-align: top;\n",
       "    }\n",
       "\n",
       "    .dataframe thead th {\n",
       "        text-align: right;\n",
       "    }\n",
       "</style>\n",
       "<table border=\"1\" class=\"dataframe\">\n",
       "  <thead>\n",
       "    <tr style=\"text-align: right;\">\n",
       "      <th></th>\n",
       "      <th>interval</th>\n",
       "      <th>starting_line</th>\n",
       "      <th>ending_line</th>\n",
       "    </tr>\n",
       "  </thead>\n",
       "  <tbody>\n",
       "    <tr>\n",
       "      <th>Ashley</th>\n",
       "      <td>0 days 00:35:14.730000</td>\n",
       "      <td>02:52:07.234 02:52:11.124 ASHLEY: Yeah, I didn...</td>\n",
       "      <td>03:27:25.854 03:27:30.327 ASHLEY: Make a big g...</td>\n",
       "    </tr>\n",
       "    <tr>\n",
       "      <th>All</th>\n",
       "      <td>0 days 00:21:50.308000</td>\n",
       "      <td>01:16:42.015 01:16:45.348 (laughter)</td>\n",
       "      <td>01:38:35.656 01:38:36.639 (laughter)</td>\n",
       "    </tr>\n",
       "    <tr>\n",
       "      <th>Taliesin</th>\n",
       "      <td>0 days 00:20:41.101000</td>\n",
       "      <td>01:49:56.450 01:49:57.533 TALIESIN: Yeah.</td>\n",
       "      <td>02:10:38.634 02:10:41.244 TALIESIN: I want to ...</td>\n",
       "    </tr>\n",
       "    <tr>\n",
       "      <th>Marisha</th>\n",
       "      <td>0 days 00:19:06.321000</td>\n",
       "      <td>01:52:27.990 01:52:30.373 MARISHA: It's true, ...</td>\n",
       "      <td>02:11:36.694 02:11:44.052 MARISHA: Anything th...</td>\n",
       "    </tr>\n",
       "    <tr>\n",
       "      <th>Sam</th>\n",
       "      <td>0 days 00:17:43.102000</td>\n",
       "      <td>01:52:30.373 01:52:34.202 SAM: I mean, we all ...</td>\n",
       "      <td>02:10:17.304 02:10:18.478 SAM: You know!</td>\n",
       "    </tr>\n",
       "    <tr>\n",
       "      <th>Laura</th>\n",
       "      <td>0 days 00:16:27.510000</td>\n",
       "      <td>01:53:52.193 01:53:53.401 LAURA: I'm so sorry,...</td>\n",
       "      <td>02:10:20.911 02:10:27.684 LAURA: And count up ...</td>\n",
       "    </tr>\n",
       "    <tr>\n",
       "      <th>Travis</th>\n",
       "      <td>0 days 00:16:21.466000</td>\n",
       "      <td>01:53:56.120 01:53:58.612 TRAVIS: Sprinkle's k...</td>\n",
       "      <td>02:10:20.078 02:10:20.911 TRAVIS: Yeah, yeah, ...</td>\n",
       "    </tr>\n",
       "    <tr>\n",
       "      <th>Liam</th>\n",
       "      <td>0 days 00:16:05.538000</td>\n",
       "      <td>01:54:05.783 01:54:12.940 LIAM: Drop that shit...</td>\n",
       "      <td>02:10:18.478 02:10:20.078 LIAM: I'd like to id...</td>\n",
       "    </tr>\n",
       "    <tr>\n",
       "      <th>Matt</th>\n",
       "      <td>0 days 00:12:55.317000</td>\n",
       "      <td>01:54:20.239 01:57:03.377 MATT: We'll return t...</td>\n",
       "      <td>02:09:58.694 02:10:15.836 MATT: And welcome ba...</td>\n",
       "    </tr>\n",
       "  </tbody>\n",
       "</table>\n",
       "</div>"
      ],
      "text/plain": [
       "                       interval  \\\n",
       "Ashley   0 days 00:35:14.730000   \n",
       "All      0 days 00:21:50.308000   \n",
       "Taliesin 0 days 00:20:41.101000   \n",
       "Marisha  0 days 00:19:06.321000   \n",
       "Sam      0 days 00:17:43.102000   \n",
       "Laura    0 days 00:16:27.510000   \n",
       "Travis   0 days 00:16:21.466000   \n",
       "Liam     0 days 00:16:05.538000   \n",
       "Matt     0 days 00:12:55.317000   \n",
       "\n",
       "                                              starting_line  \\\n",
       "Ashley    02:52:07.234 02:52:11.124 ASHLEY: Yeah, I didn...   \n",
       "All                    01:16:42.015 01:16:45.348 (laughter)   \n",
       "Taliesin          01:49:56.450 01:49:57.533 TALIESIN: Yeah.   \n",
       "Marisha   01:52:27.990 01:52:30.373 MARISHA: It's true, ...   \n",
       "Sam       01:52:30.373 01:52:34.202 SAM: I mean, we all ...   \n",
       "Laura     01:53:52.193 01:53:53.401 LAURA: I'm so sorry,...   \n",
       "Travis    01:53:56.120 01:53:58.612 TRAVIS: Sprinkle's k...   \n",
       "Liam      01:54:05.783 01:54:12.940 LIAM: Drop that shit...   \n",
       "Matt      01:54:20.239 01:57:03.377 MATT: We'll return t...   \n",
       "\n",
       "                                                ending_line  \n",
       "Ashley    03:27:25.854 03:27:30.327 ASHLEY: Make a big g...  \n",
       "All                    01:38:35.656 01:38:36.639 (laughter)  \n",
       "Taliesin  02:10:38.634 02:10:41.244 TALIESIN: I want to ...  \n",
       "Marisha   02:11:36.694 02:11:44.052 MARISHA: Anything th...  \n",
       "Sam                02:10:17.304 02:10:18.478 SAM: You know!  \n",
       "Laura     02:10:20.911 02:10:27.684 LAURA: And count up ...  \n",
       "Travis    02:10:20.078 02:10:20.911 TRAVIS: Yeah, yeah, ...  \n",
       "Liam      02:10:18.478 02:10:20.078 LIAM: I'd like to id...  \n",
       "Matt      02:09:58.694 02:10:15.836 MATT: And welcome ba...  "
      ]
     },
     "metadata": {},
     "output_type": "display_data"
    },
    {
     "data": {
      "text/markdown": [
       "# Episode 107 - Devoutness and Dicks"
      ],
      "text/plain": [
       "<IPython.core.display.Markdown object>"
      ]
     },
     "metadata": {},
     "output_type": "display_data"
    },
    {
     "data": {
      "text/html": [
       "<div>\n",
       "<style scoped>\n",
       "    .dataframe tbody tr th:only-of-type {\n",
       "        vertical-align: middle;\n",
       "    }\n",
       "\n",
       "    .dataframe tbody tr th {\n",
       "        vertical-align: top;\n",
       "    }\n",
       "\n",
       "    .dataframe thead th {\n",
       "        text-align: right;\n",
       "    }\n",
       "</style>\n",
       "<table border=\"1\" class=\"dataframe\">\n",
       "  <thead>\n",
       "    <tr style=\"text-align: right;\">\n",
       "      <th></th>\n",
       "      <th>interval</th>\n",
       "      <th>starting_line</th>\n",
       "      <th>ending_line</th>\n",
       "    </tr>\n",
       "  </thead>\n",
       "  <tbody>\n",
       "    <tr>\n",
       "      <th>Liam</th>\n",
       "      <td>0 days 00:33:36.848000</td>\n",
       "      <td>01:27:15.594 01:27:18.483 LIAM: I'm having vis...</td>\n",
       "      <td>02:00:55.331 02:00:57.328 LIAM: Yes, a T-Rex.\\...</td>\n",
       "    </tr>\n",
       "    <tr>\n",
       "      <th>Ashley</th>\n",
       "      <td>0 days 00:31:36.536000</td>\n",
       "      <td>01:29:05.424 01:29:10.857 ASHLEY: I could help...</td>\n",
       "      <td>02:00:47.393 02:00:48.226 ASHLEY: You need to ...</td>\n",
       "    </tr>\n",
       "    <tr>\n",
       "      <th>Sam</th>\n",
       "      <td>0 days 00:31:09.084000</td>\n",
       "      <td>01:32:35.194 01:32:37.964 SAM: That's right.\\n...</td>\n",
       "      <td>02:03:47.048 02:03:48.548 SAM: With advantage,...</td>\n",
       "    </tr>\n",
       "    <tr>\n",
       "      <th>Marisha</th>\n",
       "      <td>0 days 00:28:05.481000</td>\n",
       "      <td>01:32:17.494 01:32:20.976 MARISHA: Oh, the bea...</td>\n",
       "      <td>02:00:26.457 02:00:29.668 MARISHA: That gazebo...</td>\n",
       "    </tr>\n",
       "    <tr>\n",
       "      <th>Travis</th>\n",
       "      <td>0 days 00:27:31.550000</td>\n",
       "      <td>01:32:20.976 01:32:23.204 TRAVIS: Kieren is Po...</td>\n",
       "      <td>01:59:54.754 01:59:55.587 TRAVIS: Oh shit.</td>\n",
       "    </tr>\n",
       "    <tr>\n",
       "      <th>Taliesin</th>\n",
       "      <td>0 days 00:26:45.556000</td>\n",
       "      <td>01:33:10.904 01:33:14.304 TALIESIN: Nothing mo...</td>\n",
       "      <td>01:59:59.860 02:00:02.768 TALIESIN: ♪ (Jurassi...</td>\n",
       "    </tr>\n",
       "    <tr>\n",
       "      <th>Laura</th>\n",
       "      <td>0 days 00:26:44.683000</td>\n",
       "      <td>01:33:03.834 01:33:10.904 LAURA: We all die be...</td>\n",
       "      <td>01:59:55.587 01:59:58.123 LAURA: How did I for...</td>\n",
       "    </tr>\n",
       "    <tr>\n",
       "      <th>All</th>\n",
       "      <td>0 days 00:21:16.697000</td>\n",
       "      <td>03:31:49.207 03:31:52.184 (laughter)</td>\n",
       "      <td>03:53:08.881 03:53:11.450 (laughter)</td>\n",
       "    </tr>\n",
       "    <tr>\n",
       "      <th>Matt</th>\n",
       "      <td>0 days 00:12:56.915000</td>\n",
       "      <td>01:33:14.304 01:46:47.953 MATT: You're not wro...</td>\n",
       "      <td>01:59:44.868 01:59:53.381 MATT: Welcome back. ...</td>\n",
       "    </tr>\n",
       "  </tbody>\n",
       "</table>\n",
       "</div>"
      ],
      "text/plain": [
       "                       interval  \\\n",
       "Liam     0 days 00:33:36.848000   \n",
       "Ashley   0 days 00:31:36.536000   \n",
       "Sam      0 days 00:31:09.084000   \n",
       "Marisha  0 days 00:28:05.481000   \n",
       "Travis   0 days 00:27:31.550000   \n",
       "Taliesin 0 days 00:26:45.556000   \n",
       "Laura    0 days 00:26:44.683000   \n",
       "All      0 days 00:21:16.697000   \n",
       "Matt     0 days 00:12:56.915000   \n",
       "\n",
       "                                              starting_line  \\\n",
       "Liam      01:27:15.594 01:27:18.483 LIAM: I'm having vis...   \n",
       "Ashley    01:29:05.424 01:29:10.857 ASHLEY: I could help...   \n",
       "Sam       01:32:35.194 01:32:37.964 SAM: That's right.\\n...   \n",
       "Marisha   01:32:17.494 01:32:20.976 MARISHA: Oh, the bea...   \n",
       "Travis    01:32:20.976 01:32:23.204 TRAVIS: Kieren is Po...   \n",
       "Taliesin  01:33:10.904 01:33:14.304 TALIESIN: Nothing mo...   \n",
       "Laura     01:33:03.834 01:33:10.904 LAURA: We all die be...   \n",
       "All                    03:31:49.207 03:31:52.184 (laughter)   \n",
       "Matt      01:33:14.304 01:46:47.953 MATT: You're not wro...   \n",
       "\n",
       "                                                ending_line  \n",
       "Liam      02:00:55.331 02:00:57.328 LIAM: Yes, a T-Rex.\\...  \n",
       "Ashley    02:00:47.393 02:00:48.226 ASHLEY: You need to ...  \n",
       "Sam       02:03:47.048 02:03:48.548 SAM: With advantage,...  \n",
       "Marisha   02:00:26.457 02:00:29.668 MARISHA: That gazebo...  \n",
       "Travis           01:59:54.754 01:59:55.587 TRAVIS: Oh shit.  \n",
       "Taliesin  01:59:59.860 02:00:02.768 TALIESIN: ♪ (Jurassi...  \n",
       "Laura     01:59:55.587 01:59:58.123 LAURA: How did I for...  \n",
       "All                    03:53:08.881 03:53:11.450 (laughter)  \n",
       "Matt      01:59:44.868 01:59:53.381 MATT: Welcome back. ...  "
      ]
     },
     "metadata": {},
     "output_type": "display_data"
    },
    {
     "data": {
      "text/markdown": [
       "# Episode 108 - Traveler Con"
      ],
      "text/plain": [
       "<IPython.core.display.Markdown object>"
      ]
     },
     "metadata": {},
     "output_type": "display_data"
    },
    {
     "data": {
      "text/html": [
       "<div>\n",
       "<style scoped>\n",
       "    .dataframe tbody tr th:only-of-type {\n",
       "        vertical-align: middle;\n",
       "    }\n",
       "\n",
       "    .dataframe tbody tr th {\n",
       "        vertical-align: top;\n",
       "    }\n",
       "\n",
       "    .dataframe thead th {\n",
       "        text-align: right;\n",
       "    }\n",
       "</style>\n",
       "<table border=\"1\" class=\"dataframe\">\n",
       "  <thead>\n",
       "    <tr style=\"text-align: right;\">\n",
       "      <th></th>\n",
       "      <th>interval</th>\n",
       "      <th>starting_line</th>\n",
       "      <th>ending_line</th>\n",
       "    </tr>\n",
       "  </thead>\n",
       "  <tbody>\n",
       "    <tr>\n",
       "      <th>Taliesin</th>\n",
       "      <td>0 days 00:36:17.827000</td>\n",
       "      <td>00:40:01.580 00:40:03.363 TALIESIN: I'll see y...</td>\n",
       "      <td>01:16:21.190 01:16:22.023 TALIESIN: Yep.</td>\n",
       "    </tr>\n",
       "    <tr>\n",
       "      <th>All</th>\n",
       "      <td>0 days 00:35:42.291000</td>\n",
       "      <td>02:25:33.729 02:25:36.479 (crowd cheering)</td>\n",
       "      <td>03:01:18.770 03:01:21.520 (laughs)</td>\n",
       "    </tr>\n",
       "    <tr>\n",
       "      <th>Ashley</th>\n",
       "      <td>0 days 00:31:40.818000</td>\n",
       "      <td>02:11:29.805 02:11:33.217 ASHLEY: I thought sh...</td>\n",
       "      <td>02:43:14.035 02:43:18.195 ASHLEY: I'm going to...</td>\n",
       "    </tr>\n",
       "    <tr>\n",
       "      <th>Sam</th>\n",
       "      <td>0 days 00:31:27.608000</td>\n",
       "      <td>02:18:42.817 02:18:44.107 SAM: Use the hand.</td>\n",
       "      <td>02:50:11.715 02:50:15.025 SAM: Towards the lav...</td>\n",
       "    </tr>\n",
       "    <tr>\n",
       "      <th>Travis</th>\n",
       "      <td>0 days 00:29:17.679000</td>\n",
       "      <td>02:13:51.590 02:14:17.436 TRAVIS: Major Image,...</td>\n",
       "      <td>02:43:35.115 02:43:45.412 TRAVIS: I'm going to...</td>\n",
       "    </tr>\n",
       "    <tr>\n",
       "      <th>Marisha</th>\n",
       "      <td>0 days 00:19:58.152000</td>\n",
       "      <td>02:21:08.408 02:21:12.623 MARISHA: Oh shit!\\nO...</td>\n",
       "      <td>02:41:10.775 02:41:14.075 MARISHA: Am I still ...</td>\n",
       "    </tr>\n",
       "    <tr>\n",
       "      <th>Liam</th>\n",
       "      <td>0 days 00:18:57.616000</td>\n",
       "      <td>02:21:14.002 02:21:16.409 LIAM: That planar be...</td>\n",
       "      <td>02:40:14.025 02:40:19.775 LIAM: I will throw C...</td>\n",
       "    </tr>\n",
       "    <tr>\n",
       "      <th>Matt</th>\n",
       "      <td>0 days 00:18:08.293000</td>\n",
       "      <td>02:21:18.675 02:21:22.441 MATT: So we're going...</td>\n",
       "      <td>02:39:30.734 02:40:04.355 MATT: And welcome ba...</td>\n",
       "    </tr>\n",
       "    <tr>\n",
       "      <th>Laura</th>\n",
       "      <td>0 days 00:16:39.513000</td>\n",
       "      <td>01:01:43.177 01:01:46.256 LAURA: And I float a...</td>\n",
       "      <td>01:18:25.769 01:18:35.450 LAURA: I make sure e...</td>\n",
       "    </tr>\n",
       "  </tbody>\n",
       "</table>\n",
       "</div>"
      ],
      "text/plain": [
       "                       interval  \\\n",
       "Taliesin 0 days 00:36:17.827000   \n",
       "All      0 days 00:35:42.291000   \n",
       "Ashley   0 days 00:31:40.818000   \n",
       "Sam      0 days 00:31:27.608000   \n",
       "Travis   0 days 00:29:17.679000   \n",
       "Marisha  0 days 00:19:58.152000   \n",
       "Liam     0 days 00:18:57.616000   \n",
       "Matt     0 days 00:18:08.293000   \n",
       "Laura    0 days 00:16:39.513000   \n",
       "\n",
       "                                              starting_line  \\\n",
       "Taliesin  00:40:01.580 00:40:03.363 TALIESIN: I'll see y...   \n",
       "All              02:25:33.729 02:25:36.479 (crowd cheering)   \n",
       "Ashley    02:11:29.805 02:11:33.217 ASHLEY: I thought sh...   \n",
       "Sam            02:18:42.817 02:18:44.107 SAM: Use the hand.   \n",
       "Travis    02:13:51.590 02:14:17.436 TRAVIS: Major Image,...   \n",
       "Marisha   02:21:08.408 02:21:12.623 MARISHA: Oh shit!\\nO...   \n",
       "Liam      02:21:14.002 02:21:16.409 LIAM: That planar be...   \n",
       "Matt      02:21:18.675 02:21:22.441 MATT: So we're going...   \n",
       "Laura     01:01:43.177 01:01:46.256 LAURA: And I float a...   \n",
       "\n",
       "                                                ending_line  \n",
       "Taliesin           01:16:21.190 01:16:22.023 TALIESIN: Yep.  \n",
       "All                      03:01:18.770 03:01:21.520 (laughs)  \n",
       "Ashley    02:43:14.035 02:43:18.195 ASHLEY: I'm going to...  \n",
       "Sam       02:50:11.715 02:50:15.025 SAM: Towards the lav...  \n",
       "Travis    02:43:35.115 02:43:45.412 TRAVIS: I'm going to...  \n",
       "Marisha   02:41:10.775 02:41:14.075 MARISHA: Am I still ...  \n",
       "Liam      02:40:14.025 02:40:19.775 LIAM: I will throw C...  \n",
       "Matt      02:39:30.734 02:40:04.355 MATT: And welcome ba...  \n",
       "Laura     01:18:25.769 01:18:35.450 LAURA: I make sure e...  "
      ]
     },
     "metadata": {},
     "output_type": "display_data"
    },
    {
     "data": {
      "text/markdown": [
       "# Episode 109 - Frigid Propositions"
      ],
      "text/plain": [
       "<IPython.core.display.Markdown object>"
      ]
     },
     "metadata": {},
     "output_type": "display_data"
    },
    {
     "name": "stdout",
     "output_type": "stream",
     "text": [
      "Added to cast: Lauar\n"
     ]
    },
    {
     "data": {
      "text/html": [
       "<div>\n",
       "<style scoped>\n",
       "    .dataframe tbody tr th:only-of-type {\n",
       "        vertical-align: middle;\n",
       "    }\n",
       "\n",
       "    .dataframe tbody tr th {\n",
       "        vertical-align: top;\n",
       "    }\n",
       "\n",
       "    .dataframe thead th {\n",
       "        text-align: right;\n",
       "    }\n",
       "</style>\n",
       "<table border=\"1\" class=\"dataframe\">\n",
       "  <thead>\n",
       "    <tr style=\"text-align: right;\">\n",
       "      <th></th>\n",
       "      <th>interval</th>\n",
       "      <th>starting_line</th>\n",
       "      <th>ending_line</th>\n",
       "    </tr>\n",
       "  </thead>\n",
       "  <tbody>\n",
       "    <tr>\n",
       "      <th>Ashley</th>\n",
       "      <td>0 days 00:27:02.777000</td>\n",
       "      <td>03:11:43.247 03:11:47.758 ASHLEY: But you know...</td>\n",
       "      <td>03:38:50.535 03:38:55.887 ASHLEY: For clarific...</td>\n",
       "    </tr>\n",
       "    <tr>\n",
       "      <th>Marisha</th>\n",
       "      <td>0 days 00:26:30.026000</td>\n",
       "      <td>02:00:17.499 02:00:21.478 MARISHA: You're the ...</td>\n",
       "      <td>02:26:51.504 02:26:52.438 MARISHA: (imitating ...</td>\n",
       "    </tr>\n",
       "    <tr>\n",
       "      <th>Taliesin</th>\n",
       "      <td>0 days 00:25:35.727000</td>\n",
       "      <td>00:39:02.375 00:39:03.384 TALIESIN: That was a...</td>\n",
       "      <td>01:04:39.111 01:04:40.676 TALIESIN: No, it's o...</td>\n",
       "    </tr>\n",
       "    <tr>\n",
       "      <th>Sam</th>\n",
       "      <td>0 days 00:21:36.500000</td>\n",
       "      <td>02:03:03.648 02:03:07.157 SAM: A Kiwi goliath?...</td>\n",
       "      <td>02:24:43.657 02:24:46.252 SAM: It's a ring of ...</td>\n",
       "    </tr>\n",
       "    <tr>\n",
       "      <th>Laura</th>\n",
       "      <td>0 days 00:20:00.084000</td>\n",
       "      <td>02:01:01.427 02:01:07.363 LAURA: I pat Fjord o...</td>\n",
       "      <td>02:21:07.447 02:21:08.810 LAURA: Oh my goodness.</td>\n",
       "    </tr>\n",
       "    <tr>\n",
       "      <th>Liam</th>\n",
       "      <td>0 days 00:19:52.367000</td>\n",
       "      <td>02:01:35.955 02:01:40.590 LIAM: Amazing.\\nDrag...</td>\n",
       "      <td>02:21:32.957 02:21:34.577 LIAM: Oh my-\\nMARISH...</td>\n",
       "    </tr>\n",
       "    <tr>\n",
       "      <th>All</th>\n",
       "      <td>0 days 00:18:44.295000</td>\n",
       "      <td>02:05:58.629 02:06:01.957 (soft, dark music)</td>\n",
       "      <td>02:24:46.252 02:24:49.692 (laughter)</td>\n",
       "    </tr>\n",
       "    <tr>\n",
       "      <th>Travis</th>\n",
       "      <td>0 days 00:18:18.660000</td>\n",
       "      <td>02:03:07.157 02:03:08.687 TRAVIS: Oh, fucking ...</td>\n",
       "      <td>02:21:27.347 02:21:28.937 TRAVIS: Yeah, it's j...</td>\n",
       "    </tr>\n",
       "    <tr>\n",
       "      <th>Matt</th>\n",
       "      <td>0 days 00:12:41.260000</td>\n",
       "      <td>02:03:08.687 02:08:06.307 MATT: So take a shor...</td>\n",
       "      <td>02:20:47.567 02:21:07.447 MATT: And welcome ba...</td>\n",
       "    </tr>\n",
       "    <tr>\n",
       "      <th>Brian</th>\n",
       "      <td>0 days 00:00:15.515000</td>\n",
       "      <td>00:05:07.897 00:05:55.778 BRIAN: Hey gang, but...</td>\n",
       "      <td>00:06:11.293 00:06:12.935 BRIAN: Bye, love you!</td>\n",
       "    </tr>\n",
       "  </tbody>\n",
       "</table>\n",
       "</div>"
      ],
      "text/plain": [
       "                       interval  \\\n",
       "Ashley   0 days 00:27:02.777000   \n",
       "Marisha  0 days 00:26:30.026000   \n",
       "Taliesin 0 days 00:25:35.727000   \n",
       "Sam      0 days 00:21:36.500000   \n",
       "Laura    0 days 00:20:00.084000   \n",
       "Liam     0 days 00:19:52.367000   \n",
       "All      0 days 00:18:44.295000   \n",
       "Travis   0 days 00:18:18.660000   \n",
       "Matt     0 days 00:12:41.260000   \n",
       "Brian    0 days 00:00:15.515000   \n",
       "\n",
       "                                              starting_line  \\\n",
       "Ashley    03:11:43.247 03:11:47.758 ASHLEY: But you know...   \n",
       "Marisha   02:00:17.499 02:00:21.478 MARISHA: You're the ...   \n",
       "Taliesin  00:39:02.375 00:39:03.384 TALIESIN: That was a...   \n",
       "Sam       02:03:03.648 02:03:07.157 SAM: A Kiwi goliath?...   \n",
       "Laura     02:01:01.427 02:01:07.363 LAURA: I pat Fjord o...   \n",
       "Liam      02:01:35.955 02:01:40.590 LIAM: Amazing.\\nDrag...   \n",
       "All            02:05:58.629 02:06:01.957 (soft, dark music)   \n",
       "Travis    02:03:07.157 02:03:08.687 TRAVIS: Oh, fucking ...   \n",
       "Matt      02:03:08.687 02:08:06.307 MATT: So take a shor...   \n",
       "Brian     00:05:07.897 00:05:55.778 BRIAN: Hey gang, but...   \n",
       "\n",
       "                                                ending_line  \n",
       "Ashley    03:38:50.535 03:38:55.887 ASHLEY: For clarific...  \n",
       "Marisha   02:26:51.504 02:26:52.438 MARISHA: (imitating ...  \n",
       "Taliesin  01:04:39.111 01:04:40.676 TALIESIN: No, it's o...  \n",
       "Sam       02:24:43.657 02:24:46.252 SAM: It's a ring of ...  \n",
       "Laura      02:21:07.447 02:21:08.810 LAURA: Oh my goodness.  \n",
       "Liam      02:21:32.957 02:21:34.577 LIAM: Oh my-\\nMARISH...  \n",
       "All                    02:24:46.252 02:24:49.692 (laughter)  \n",
       "Travis    02:21:27.347 02:21:28.937 TRAVIS: Yeah, it's j...  \n",
       "Matt      02:20:47.567 02:21:07.447 MATT: And welcome ba...  \n",
       "Brian       00:06:11.293 00:06:12.935 BRIAN: Bye, love you!  "
      ]
     },
     "metadata": {},
     "output_type": "display_data"
    },
    {
     "data": {
      "text/markdown": [
       "# Episode 110 - Dinner with the Devil"
      ],
      "text/plain": [
       "<IPython.core.display.Markdown object>"
      ]
     },
     "metadata": {},
     "output_type": "display_data"
    },
    {
     "data": {
      "text/html": [
       "<div>\n",
       "<style scoped>\n",
       "    .dataframe tbody tr th:only-of-type {\n",
       "        vertical-align: middle;\n",
       "    }\n",
       "\n",
       "    .dataframe tbody tr th {\n",
       "        vertical-align: top;\n",
       "    }\n",
       "\n",
       "    .dataframe thead th {\n",
       "        text-align: right;\n",
       "    }\n",
       "</style>\n",
       "<table border=\"1\" class=\"dataframe\">\n",
       "  <thead>\n",
       "    <tr style=\"text-align: right;\">\n",
       "      <th></th>\n",
       "      <th>interval</th>\n",
       "      <th>starting_line</th>\n",
       "      <th>ending_line</th>\n",
       "    </tr>\n",
       "  </thead>\n",
       "  <tbody>\n",
       "    <tr>\n",
       "      <th>Ashley</th>\n",
       "      <td>0 days 00:30:33.842000</td>\n",
       "      <td>02:55:46.346 02:55:47.187 ASHLEY: Yes.</td>\n",
       "      <td>03:26:21.029 03:26:22.756 ASHLEY: That's a han...</td>\n",
       "    </tr>\n",
       "    <tr>\n",
       "      <th>Sam</th>\n",
       "      <td>0 days 00:29:59.444000</td>\n",
       "      <td>00:18:30.725 00:18:32.125 SAM: Take your time....</td>\n",
       "      <td>00:48:31.569 00:48:32.801 SAM: Well, one's alive.</td>\n",
       "    </tr>\n",
       "    <tr>\n",
       "      <th>All</th>\n",
       "      <td>0 days 00:28:29.054000</td>\n",
       "      <td>00:08:35.731 00:08:40.673 (flames whooshing)</td>\n",
       "      <td>00:37:09.727 00:37:12.061 (laughter)</td>\n",
       "    </tr>\n",
       "    <tr>\n",
       "      <th>Taliesin</th>\n",
       "      <td>0 days 00:26:08.886000</td>\n",
       "      <td>01:57:38.961 01:57:39.794 TALIESIN: Hmm.</td>\n",
       "      <td>02:23:48.680 02:23:51.256 TALIESIN: Is this ha...</td>\n",
       "    </tr>\n",
       "    <tr>\n",
       "      <th>Travis</th>\n",
       "      <td>0 days 00:21:59.501000</td>\n",
       "      <td>02:34:21.335 02:34:22.509 TRAVIS: Oh no.</td>\n",
       "      <td>02:56:22.010 02:56:23.563 TRAVIS: This insight...</td>\n",
       "    </tr>\n",
       "    <tr>\n",
       "      <th>Laura</th>\n",
       "      <td>0 days 00:20:08.734000</td>\n",
       "      <td>02:01:48.551 02:02:06.106 LAURA: Out of the oa...</td>\n",
       "      <td>02:22:14.840 02:22:25.680 LAURA: Can I look to...</td>\n",
       "    </tr>\n",
       "    <tr>\n",
       "      <th>Liam</th>\n",
       "      <td>0 days 00:19:51.423000</td>\n",
       "      <td>02:00:27.531 02:00:29.227 LIAM: The ball.\\nSAM...</td>\n",
       "      <td>02:20:20.650 02:20:54.270 LIAM: 15.\\nMATT: 15?...</td>\n",
       "    </tr>\n",
       "    <tr>\n",
       "      <th>Matt</th>\n",
       "      <td>0 days 00:16:59.575000</td>\n",
       "      <td>02:01:40.146 02:01:41.725 MATT: Ambition's Call.</td>\n",
       "      <td>02:18:41.300 02:20:16.483 MATT: Welcome back.\\...</td>\n",
       "    </tr>\n",
       "    <tr>\n",
       "      <th>Marisha</th>\n",
       "      <td>0 days 00:14:32.185000</td>\n",
       "      <td>02:04:45.131 02:06:26.735 MARISHA: Hello every...</td>\n",
       "      <td>02:20:58.920 02:20:59.940 MARISHA: 31.</td>\n",
       "    </tr>\n",
       "  </tbody>\n",
       "</table>\n",
       "</div>"
      ],
      "text/plain": [
       "                       interval  \\\n",
       "Ashley   0 days 00:30:33.842000   \n",
       "Sam      0 days 00:29:59.444000   \n",
       "All      0 days 00:28:29.054000   \n",
       "Taliesin 0 days 00:26:08.886000   \n",
       "Travis   0 days 00:21:59.501000   \n",
       "Laura    0 days 00:20:08.734000   \n",
       "Liam     0 days 00:19:51.423000   \n",
       "Matt     0 days 00:16:59.575000   \n",
       "Marisha  0 days 00:14:32.185000   \n",
       "\n",
       "                                              starting_line  \\\n",
       "Ashley               02:55:46.346 02:55:47.187 ASHLEY: Yes.   \n",
       "Sam       00:18:30.725 00:18:32.125 SAM: Take your time....   \n",
       "All            00:08:35.731 00:08:40.673 (flames whooshing)   \n",
       "Taliesin           01:57:38.961 01:57:39.794 TALIESIN: Hmm.   \n",
       "Travis             02:34:21.335 02:34:22.509 TRAVIS: Oh no.   \n",
       "Laura     02:01:48.551 02:02:06.106 LAURA: Out of the oa...   \n",
       "Liam      02:00:27.531 02:00:29.227 LIAM: The ball.\\nSAM...   \n",
       "Matt       02:01:40.146 02:01:41.725 MATT: Ambition's Call.   \n",
       "Marisha   02:04:45.131 02:06:26.735 MARISHA: Hello every...   \n",
       "\n",
       "                                                ending_line  \n",
       "Ashley    03:26:21.029 03:26:22.756 ASHLEY: That's a han...  \n",
       "Sam       00:48:31.569 00:48:32.801 SAM: Well, one's alive.  \n",
       "All                    00:37:09.727 00:37:12.061 (laughter)  \n",
       "Taliesin  02:23:48.680 02:23:51.256 TALIESIN: Is this ha...  \n",
       "Travis    02:56:22.010 02:56:23.563 TRAVIS: This insight...  \n",
       "Laura     02:22:14.840 02:22:25.680 LAURA: Can I look to...  \n",
       "Liam      02:20:20.650 02:20:54.270 LIAM: 15.\\nMATT: 15?...  \n",
       "Matt      02:18:41.300 02:20:16.483 MATT: Welcome back.\\...  \n",
       "Marisha              02:20:58.920 02:20:59.940 MARISHA: 31.  "
      ]
     },
     "metadata": {},
     "output_type": "display_data"
    }
   ],
   "source": [
    "episodes = parse_subtitles_directory('.')\n",
    "\n",
    "for episode in episodes:\n",
    "    display(Markdown(f'# Episode {episode[\"episode\"]} - {episode[\"title\"]}'))\n",
    "    \n",
    "    subtitles = get_episode_subtitles(episode['filename'])\n",
    "    # print duration, number of lines\n",
    "    lines_per_person = get_lines_per_cast_member(subtitles)\n",
    "    intervals_per_speaker = get_intervals_between_lines_per_speaker(lines_per_person)\n",
    "    longest_intervals = get_longest_interval_per_speaker(intervals_per_speaker)\n",
    "    \n",
    "    display(\n",
    "        df(longest_intervals).transpose().sort_values(by='interval', ascending=False)\n",
    "    )\n",
    "    \n",
    "    "
   ]
  },
  {
   "cell_type": "code",
   "execution_count": 19,
   "metadata": {},
   "outputs": [],
   "source": [
    "pprint = lambda x: display(Markdown(x))"
   ]
  },
  {
   "cell_type": "code",
   "execution_count": 25,
   "metadata": {
    "scrolled": true
   },
   "outputs": [
    {
     "data": {
      "text/markdown": [
       "## Matt's times"
      ],
      "text/plain": [
       "<IPython.core.display.Markdown object>"
      ]
     },
     "metadata": {},
     "output_type": "display_data"
    },
    {
     "data": {
      "text/markdown": [
       "### Episode 1 - Curious Beginnings "
      ],
      "text/plain": [
       "<IPython.core.display.Markdown object>"
      ]
     },
     "metadata": {},
     "output_type": "display_data"
    },
    {
     "data": {
      "text/markdown": [
       "**Interval**: 16 minutes and 57 seconds"
      ],
      "text/plain": [
       "<IPython.core.display.Markdown object>"
      ]
     },
     "metadata": {},
     "output_type": "display_data"
    },
    {
     "data": {
      "text/markdown": [
       "**Starting line**: 01:32:08.081 MATT: We'll see you here in a few minutes."
      ],
      "text/plain": [
       "<IPython.core.display.Markdown object>"
      ]
     },
     "metadata": {},
     "output_type": "display_data"
    },
    {
     "data": {
      "text/markdown": [
       "**Ending line**: 01:49:06.701 MATT: Welcome back, ladies and gentlemen. Guys!\n",
       "Wow!"
      ],
      "text/plain": [
       "<IPython.core.display.Markdown object>"
      ]
     },
     "metadata": {},
     "output_type": "display_data"
    },
    {
     "data": {
      "text/markdown": [
       "### Episode 2 - A Show of Scrutiny"
      ],
      "text/plain": [
       "<IPython.core.display.Markdown object>"
      ]
     },
     "metadata": {},
     "output_type": "display_data"
    },
    {
     "data": {
      "text/markdown": [
       "**Interval**: 14 minutes and 13 seconds"
      ],
      "text/plain": [
       "<IPython.core.display.Markdown object>"
      ]
     },
     "metadata": {},
     "output_type": "display_data"
    },
    {
     "data": {
      "text/markdown": [
       "**Starting line**: 02:06:01.514 MATT: Indeed. I suppose. Little low level mystery\n",
       "here. We'll see where this goes. All right guys,\n",
       "back here in a few minutes. We're going to take a\n",
       "quick restroom break, pick it up from here. We\n",
       "have video at the break for this week's contest,\n",
       "so if you're watching on Twitch, feel free to go\n",
       "ahead and pay attention to get the password and\n",
       "enter this contest, and we'll have the victor at\n",
       "the end of the break. We'll be back here in a few\n",
       "minutes, and we'll see you then."
      ],
      "text/plain": [
       "<IPython.core.display.Markdown object>"
      ]
     },
     "metadata": {},
     "output_type": "display_data"
    },
    {
     "data": {
      "text/markdown": [
       "**Ending line**: 02:20:41.677 MATT: Welcome back, everyone. Before we dive in,\n",
       "real fast, we do have a winner from the chat.\n",
       "Thanks, Sam. Congratulations to AvilynRain,\n",
       "AvilynRain in the Twitch chat! You won the awesome\n",
       "Wyrmwood prize package. Danoba will be in contact\n",
       "with you to get your contact information and get\n",
       "that sent out to you. Congratulations."
      ],
      "text/plain": [
       "<IPython.core.display.Markdown object>"
      ]
     },
     "metadata": {},
     "output_type": "display_data"
    },
    {
     "data": {
      "text/markdown": [
       "### Episode 3 - The Midnight Chase"
      ],
      "text/plain": [
       "<IPython.core.display.Markdown object>"
      ]
     },
     "metadata": {},
     "output_type": "display_data"
    },
    {
     "data": {
      "text/markdown": [
       "**Interval**: 14 minutes and 29 seconds"
      ],
      "text/plain": [
       "<IPython.core.display.Markdown object>"
      ]
     },
     "metadata": {},
     "output_type": "display_data"
    },
    {
     "data": {
      "text/markdown": [
       "**Starting line**: 02:12:57.535 MATT: It's time. We're going to go ahead and take\n",
       "a quick ten minute break, roughly. We have ten\n",
       "minutes so we get a little bathroom break. We'll\n",
       "be back here shortly. Make sure to stick around\n",
       "for a video at the break in which we have our\n",
       "Wyrmwood contest to win some awesome Wyrmwood\n",
       "stuff, so keep an eye. We'll be back here in a\n",
       "little bit. See you soon."
      ],
      "text/plain": [
       "<IPython.core.display.Markdown object>"
      ]
     },
     "metadata": {},
     "output_type": "display_data"
    },
    {
     "data": {
      "text/markdown": [
       "**Ending line**: 02:27:46.627 MATT: Welcome back! Sam!"
      ],
      "text/plain": [
       "<IPython.core.display.Markdown object>"
      ]
     },
     "metadata": {},
     "output_type": "display_data"
    },
    {
     "data": {
      "text/markdown": [
       "### Episode 4 - Disparate Pieces"
      ],
      "text/plain": [
       "<IPython.core.display.Markdown object>"
      ]
     },
     "metadata": {},
     "output_type": "display_data"
    },
    {
     "data": {
      "text/markdown": [
       "**Interval**: 11 minutes and 24 seconds"
      ],
      "text/plain": [
       "<IPython.core.display.Markdown object>"
      ]
     },
     "metadata": {},
     "output_type": "display_data"
    },
    {
     "data": {
      "text/markdown": [
       "**Starting line**: 01:59:57.902 MATT: (Elvis impression) \"Oh that was a natural\n",
       "20.\" We'll see you guys in a little bit."
      ],
      "text/plain": [
       "<IPython.core.display.Markdown object>"
      ]
     },
     "metadata": {},
     "output_type": "display_data"
    },
    {
     "data": {
      "text/markdown": [
       "**Ending line**: 02:11:25.900 MATT: Hello, everyone, and welcome back. Before we\n",
       "jump back in, we have our winner from the chat.\n",
       "The winner is Piamo_Feddie! If I am reading this\n",
       "correctly, Piamo_Feddie. Congratulations! Danoba\n",
       "will get your contact information, we'll get that\n",
       "sent out to you. Well done, and happy Valentine's\n",
       "Day. Now jumping back into the game, I would like\n",
       "to ask everyone but Marisha to leave the table,\n",
       "please."
      ],
      "text/plain": [
       "<IPython.core.display.Markdown object>"
      ]
     },
     "metadata": {},
     "output_type": "display_data"
    },
    {
     "data": {
      "text/markdown": [
       "### Episode 5 - The Open Road"
      ],
      "text/plain": [
       "<IPython.core.display.Markdown object>"
      ]
     },
     "metadata": {},
     "output_type": "display_data"
    },
    {
     "data": {
      "text/markdown": [
       "**Interval**: 14 minutes and 49 seconds"
      ],
      "text/plain": [
       "<IPython.core.display.Markdown object>"
      ]
     },
     "metadata": {},
     "output_type": "display_data"
    },
    {
     "data": {
      "text/markdown": [
       "**Starting line**: 02:56:46.921 MATT: No, they just started producing them. These\n",
       "are walnut Adventurer's Arsenal kits, and we're\n",
       "giving away two of them. The keyword tonight is\n",
       "map, M-A-P, based off last week's episode, thank\n",
       "you Deven. During the break in Twitch chat only,\n",
       "come in there and when you're prompted go ahead\n",
       "and enter the keyword, map, into the chat only\n",
       "once. More than once and you will be disqualified.\n",
       "Two of you will be chosen during the break, and\n",
       "we'll come back to see who wins that. See you guys here\n",
       "in a few minutes."
      ],
      "text/plain": [
       "<IPython.core.display.Markdown object>"
      ]
     },
     "metadata": {},
     "output_type": "display_data"
    },
    {
     "data": {
      "text/markdown": [
       "**Ending line**: 03:12:04.874 MATT: Welcome back, everybody. That was on the\n",
       "air, well done. The winner of the Adventure\n",
       "Arsenals are, we have two of them, TheBravestKoala\n",
       "and GrandmasterBlaq. Congratulations to both of\n",
       "you guys for the win, go ahead and Danoba will\n",
       "reach out to you and get your contact info and\n",
       "we'll get those to you. For those of you who are\n",
       "curious to look at it, this particular\n",
       "Kickstarter you can find on wyrmwoodgaming.com\n",
       "to look and see the cool thing this new release is\n",
       "going to entail, so thank you very much, Wyrmwood.\n",
       "All right, with some of the flames dying down, 30\n",
       "minutes or so of the chaos descending, the\n",
       "Crownsguard begin to come back, those that are\n",
       "still living, many of them wounded and tending to\n",
       "their wounds, or helping the survivors that are\n",
       "still within the town. You see some families are\n",
       "starting to unblock their entranceways and the\n",
       "people who had escaped the city are slowly\n",
       "beginning to filter in. You can hear the sobbing\n",
       "in the distance of families that are coming back to\n",
       "homes that have been destroyed. The smoke still\n",
       "chokes the air, and at this hour now it's probably\n",
       "pushing close to 11:00 or later. But as the guards\n",
       "come through and begin to take in the essence of what's\n",
       "happening, the armored individual that helped you\n",
       "when you first arrived and gave you the command to\n",
       "aid in this approaches. You see their half-elven\n",
       "face, solemn and tense, approach and extend a\n",
       "hand. \"There aren't many who would immediately\n",
       "\"jump into the fray as you did. I would say that we\n",
       "would have lost many more, and perhaps all of my\n",
       "\"men had you not been there, so thank you.\""
      ],
      "text/plain": [
       "<IPython.core.display.Markdown object>"
      ]
     },
     "metadata": {},
     "output_type": "display_data"
    },
    {
     "data": {
      "text/markdown": [
       "### Episode 6 - The Howling Mines"
      ],
      "text/plain": [
       "<IPython.core.display.Markdown object>"
      ]
     },
     "metadata": {},
     "output_type": "display_data"
    },
    {
     "data": {
      "text/markdown": [
       "**Interval**: 13 minutes and 42 seconds"
      ],
      "text/plain": [
       "<IPython.core.display.Markdown object>"
      ]
     },
     "metadata": {},
     "output_type": "display_data"
    },
    {
     "data": {
      "text/markdown": [
       "**Starting line**: 02:19:22.847 MATT: Before we get to that, however, we do have a\n",
       "giveaway from our friends at Wyrmwood, as you saw\n",
       "last week we have another of their black walnut,\n",
       "two of their Adventurer Arsenals to give away again\n",
       "this week. If you haven't seen, they're awesome,\n",
       "well-made, and if you open it up on the inside it\n",
       "has space for you dice, for your pen, a place\n",
       "for a mini or eraser or anything else you want to\n",
       "carry into your game. It fits into the dice box\n",
       "that comes with it as well. We're giving away two\n",
       "of these during the break. To enter this while\n",
       "we're gone at the break you can go into the Twitch\n",
       "chat and enter, when you're prompted, the code word\n",
       "gnoll. That's G-N-O-L-L. Do not enter it more than\n",
       "once or you'll be disqualified, and we'll come\n",
       "back from the break with two winners to this.\n",
       "Thank you so much. We'll see you guys here in a\n",
       "minute."
      ],
      "text/plain": [
       "<IPython.core.display.Markdown object>"
      ]
     },
     "metadata": {},
     "output_type": "display_data"
    },
    {
     "data": {
      "text/markdown": [
       "**Ending line**: 02:33:46.954 MATT: Welcome back. We have our two winners in the\n",
       "chat over the break. Congratulations on winning\n",
       "the Wyrmwood package to ding0atx and\n",
       "lunaimperial."
      ],
      "text/plain": [
       "<IPython.core.display.Markdown object>"
      ]
     },
     "metadata": {},
     "output_type": "display_data"
    },
    {
     "data": {
      "text/markdown": [
       "### Episode 7 - Hush"
      ],
      "text/plain": [
       "<IPython.core.display.Markdown object>"
      ]
     },
     "metadata": {},
     "output_type": "display_data"
    },
    {
     "name": "stdout",
     "output_type": "stream",
     "text": [
      "Added to cast: Khary\n"
     ]
    },
    {
     "data": {
      "text/markdown": [
       "**Interval**: 12 minutes and 18 seconds"
      ],
      "text/plain": [
       "<IPython.core.display.Markdown object>"
      ]
     },
     "metadata": {},
     "output_type": "display_data"
    },
    {
     "data": {
      "text/markdown": [
       "**Starting line**: 02:25:20.211 MATT: Oh, they give us plenty. Anyway, two of you\n",
       "will win this. When you're prompted in the chat\n",
       "and only in Twitch chat, to use the keyword\n",
       "'hush'. H-U-ace-H-S. H-U-S-H. There we go, I can\n",
       "spell. Brain not working, too much math. Hush in\n",
       "the chat, when you're prompted. Only enter once or\n",
       "you'll be disqualified, but we'll come back with\n",
       "two winners after the break. We'll see you guys\n",
       "here in a few minutes."
      ],
      "text/plain": [
       "<IPython.core.display.Markdown object>"
      ]
     },
     "metadata": {},
     "output_type": "display_data"
    },
    {
     "data": {
      "text/markdown": [
       "**Ending line**: 02:38:01.490 MATT: Hello and welcome back everybody. So, before\n",
       "we jump in here, we have our two winners in the\n",
       "chat of the Wyrmwood giveaway. They are\n",
       "Grugswald."
      ],
      "text/plain": [
       "<IPython.core.display.Markdown object>"
      ]
     },
     "metadata": {},
     "output_type": "display_data"
    },
    {
     "data": {
      "text/markdown": [
       "### Episode 8 - The Gates of Zadash"
      ],
      "text/plain": [
       "<IPython.core.display.Markdown object>"
      ]
     },
     "metadata": {},
     "output_type": "display_data"
    },
    {
     "data": {
      "text/markdown": [
       "**Interval**: 15 minutes and 34 seconds"
      ],
      "text/plain": [
       "<IPython.core.display.Markdown object>"
      ]
     },
     "metadata": {},
     "output_type": "display_data"
    },
    {
     "data": {
      "text/markdown": [
       "**Starting line**: 01:32:26.413 MATT: It's freaking great. A little section there\n",
       "for keeping a mini or whatever else you want to\n",
       "put in there, we're giving away two of these at\n",
       "the break so be prepared. Through a\n",
       "misunderstanding, you don't have to wait for a\n",
       "prompt, as soon as we go to break you can enter in\n",
       "the chat. So I apologize if I've been fucking with\n",
       "people, that's on me, that's my fault. For this\n",
       "week, the keyword is Gates, G-A-T-E-S, so when we\n",
       "go to the break enter the Twitch chat room. You\n",
       "can only enter it once, if you enter it more than\n",
       "once you'll be disqualified. I'll have two winners\n",
       "for you who will win two of this delightful things\n",
       "from my friends at Wyrmwood Gaming when we return.\n",
       "See you in just a minute."
      ],
      "text/plain": [
       "<IPython.core.display.Markdown object>"
      ]
     },
     "metadata": {},
     "output_type": "display_data"
    },
    {
     "data": {
      "text/markdown": [
       "**Ending line**: 01:48:37.471 MATT: Hello everyone, and welcome back. Before we\n",
       "hop back in, the two winners of the Wyrmwood\n",
       "giveaway are Jevons and Nicholas Fernandez. Jevons\n",
       "and Nicholas Fernandez, congratulations, you guys\n",
       "won. Danoba will contact you and get your\n",
       "information so we can get that sent out to you, so\n",
       "congrats. All right, everyone seems ready and\n",
       "iced."
      ],
      "text/plain": [
       "<IPython.core.display.Markdown object>"
      ]
     },
     "metadata": {},
     "output_type": "display_data"
    },
    {
     "data": {
      "text/markdown": [
       "### Episode 9 - Steam and Conversation"
      ],
      "text/plain": [
       "<IPython.core.display.Markdown object>"
      ]
     },
     "metadata": {},
     "output_type": "display_data"
    },
    {
     "data": {
      "text/markdown": [
       "**Interval**: 14 minutes and 46 seconds"
      ],
      "text/plain": [
       "<IPython.core.display.Markdown object>"
      ]
     },
     "metadata": {},
     "output_type": "display_data"
    },
    {
     "data": {
      "text/markdown": [
       "**Starting line**: 01:57:53.478 MATT: We'll be back here in a few minutes, we'll\n",
       "make this as quick of a break as we can so we can\n",
       "jump back in. In the meantime, guys, sit tight,\n",
       "we'll see you again in a few minutes."
      ],
      "text/plain": [
       "<IPython.core.display.Markdown object>"
      ]
     },
     "metadata": {},
     "output_type": "display_data"
    },
    {
     "data": {
      "text/markdown": [
       "**Ending line**: 02:12:46.890 MATT: Welcome back, everyone. Welcome back. Thank\n",
       "you for your patience. Once again, you didn't miss\n",
       "anything. Sorry, we didn't have a giveaway this\n",
       "week. We hope to have one up and going real soon\n",
       "from our folks at Wyrmwood. In the meantime, hang\n",
       "tight, you didn't miss anything."
      ],
      "text/plain": [
       "<IPython.core.display.Markdown object>"
      ]
     },
     "metadata": {},
     "output_type": "display_data"
    },
    {
     "data": {
      "text/markdown": [
       "### Episode 10 - Waste and Webs"
      ],
      "text/plain": [
       "<IPython.core.display.Markdown object>"
      ]
     },
     "metadata": {},
     "output_type": "display_data"
    },
    {
     "data": {
      "text/markdown": [
       "**Interval**: 14 minutes and 43 seconds"
      ],
      "text/plain": [
       "<IPython.core.display.Markdown object>"
      ]
     },
     "metadata": {},
     "output_type": "display_data"
    },
    {
     "data": {
      "text/markdown": [
       "**Starting line**: 01:46:35.052 MATT: No. But yes, that's the keyword. Only enter\n",
       "it once in chat because entering it more than once\n",
       "will disqualify you. Good luck, everyone. We'll\n",
       "announce the winner when we come back from the\n",
       "break. We'll be contacting the winners after the\n",
       "break so make sure you keep an eye on your\n",
       "whispers. We'll see you guys back here in a few\n",
       "minutes."
      ],
      "text/plain": [
       "<IPython.core.display.Markdown object>"
      ]
     },
     "metadata": {},
     "output_type": "display_data"
    },
    {
     "data": {
      "text/markdown": [
       "**Ending line**: 02:01:37.505 MATT: And welcome back. First and foremost, we\n",
       "know that some folks are having problems or issues\n",
       "with the D&amp;D Beyond discount code, which I think\n",
       "was \"InvisibleWand.\" They're working on it at D&amp;D\n",
       "Beyond, but don't worry, the code will be active\n",
       "for a while. Look for updates or keep trying.\n",
       "They're working on that. Also, we have our winner\n",
       "of our fantastic Wyrmwood giveaway.\n",
       "Congratulations to scopewar. Scopewar, you are the\n",
       "winner. We'll get that out to you, so well done.\n",
       "Bringing us back in. You guys had just noticed the\n",
       "furthest element of this segment of the sewer,\n",
       "where the webbing had become far more apparent.\n",
       "You had discovered a few bodies that came over.\n",
       "You had carved through one wall and caused that to\n",
       "fall off to the side, and leading to the very end\n",
       "of it, you saw an ascension that went to another\n",
       "exit grate into the city. A number of bodies, one\n",
       "large webbed mass of a few bodies and one\n",
       "individual that looked to be still alive, though\n",
       "unconscious and webbed against the wall."
      ],
      "text/plain": [
       "<IPython.core.display.Markdown object>"
      ]
     },
     "metadata": {},
     "output_type": "display_data"
    },
    {
     "data": {
      "text/markdown": [
       "### Episode 11 - Zemnian Nights"
      ],
      "text/plain": [
       "<IPython.core.display.Markdown object>"
      ]
     },
     "metadata": {},
     "output_type": "display_data"
    },
    {
     "data": {
      "text/markdown": [
       "**Interval**: 14 minutes and 59 seconds"
      ],
      "text/plain": [
       "<IPython.core.display.Markdown object>"
      ]
     },
     "metadata": {},
     "output_type": "display_data"
    },
    {
     "data": {
      "text/markdown": [
       "**Starting line**: 01:51:19.654 MATT: Before we go to break, guys, it'll be our\n",
       "Wyrmwood giveaway. This giveaway now is the cherry\n",
       "deck box. Which is a nice wood style, you can look\n",
       "inside, you get your fancy interior for your card\n",
       "decks and other things you want to hide in there.\n",
       "Ooh, it smells nice too. For this giveaway, go\n",
       "into the Twitch chat, it has begun! Right now the\n",
       "offer is only good for residents of the United\n",
       "States and Canada, because laws. Excluding Quebec,\n",
       "unfortunately. We're sorry, Quebec! For the\n",
       "official rules, the link will be in chat. Tonight\n",
       "the keyword is \"unrest.\" U-N-R-E-S-T. So you can\n",
       "enter that in the chat now. Enter it once only; if\n",
       "you do it more than once, you'll be disqualified.\n",
       "We'll come back with the winner here in a few\n",
       "minutes. See you guys in a minute!"
      ],
      "text/plain": [
       "<IPython.core.display.Markdown object>"
      ]
     },
     "metadata": {},
     "output_type": "display_data"
    },
    {
     "data": {
      "text/markdown": [
       "**Ending line**: 02:07:02.932 MATT: Welcome back, ladies and gentlemen."
      ],
      "text/plain": [
       "<IPython.core.display.Markdown object>"
      ]
     },
     "metadata": {},
     "output_type": "display_data"
    },
    {
     "data": {
      "text/markdown": [
       "### Episode 12 - Midnight Espionage"
      ],
      "text/plain": [
       "<IPython.core.display.Markdown object>"
      ]
     },
     "metadata": {},
     "output_type": "display_data"
    },
    {
     "name": "stdout",
     "output_type": "stream",
     "text": [
      "Added to cast: Everybody\n"
     ]
    },
    {
     "data": {
      "text/markdown": [
       "**Interval**: 13 minutes and 2 seconds"
      ],
      "text/plain": [
       "<IPython.core.display.Markdown object>"
      ]
     },
     "metadata": {},
     "output_type": "display_data"
    },
    {
     "data": {
      "text/markdown": [
       "**Starting line**: 01:31:49.700 MATT: It's a deck box. The pack comes with it,\n",
       "too. So go ahead and enter into the chat room--\n",
       "the word for this break is “Heist”. H-E-I-S-T.\n",
       "Remember, only enter it once. If you enter it more\n",
       "than once, you will be disqualified,\n",
       "unfortunately. We'll get to that, and we'll have\n",
       "the winner in the break. In the meantime, we'll\n",
       "see you back here in a few minutes."
      ],
      "text/plain": [
       "<IPython.core.display.Markdown object>"
      ]
     },
     "metadata": {},
     "output_type": "display_data"
    },
    {
     "data": {
      "text/markdown": [
       "**Ending line**: 01:45:11.080 MATT: Hello, and welcome back, everybody. We have\n",
       "a winner from the chat. Congratulations to\n",
       "PyroMalibu. PyroMalibu is the winner of the box.\n",
       "Denoba will get your information in the chat if he\n",
       "hasn't already, and we'll get that to you, so\n",
       "congratulations. So, as you guys all prepare for\n",
       "the evening’s rest, the next day-- is there\n",
       "anything you needed to do before the next day\n",
       "happens?"
      ],
      "text/plain": [
       "<IPython.core.display.Markdown object>"
      ]
     },
     "metadata": {},
     "output_type": "display_data"
    },
    {
     "data": {
      "text/markdown": [
       "### Episode 13 - Lost & Found"
      ],
      "text/plain": [
       "<IPython.core.display.Markdown object>"
      ]
     },
     "metadata": {},
     "output_type": "display_data"
    },
    {
     "data": {
      "text/markdown": [
       "**Interval**: 13 minutes and 42 seconds"
      ],
      "text/plain": [
       "<IPython.core.display.Markdown object>"
      ]
     },
     "metadata": {},
     "output_type": "display_data"
    },
    {
     "data": {
      "text/markdown": [
       "**Starting line**: 02:07:22.134 MATT: There’s a lot of interesting ways that could\n",
       "have gone. All right, so we have the black walnut\n",
       "deck box from our friends at Wyrmwood here. Also,\n",
       "apparently comes with a Magic the Gathering pack.\n",
       "These have been in all the boxes so you get a\n",
       "little gift in there. This will go out to one\n",
       "winner. You have to enter Twitch chat, starting\n",
       "now. You can only put the word in once, or you'll\n",
       "be disqualified, but the word tonight is\n",
       "\"Threats.\" T-H-R-E-A-T-S. Come into the Twitch\n",
       "chat, enter that. Once again, only, unfortunately,\n",
       "available to people in the United States and\n",
       "Canada, excluding Quebec. We're trying to figure\n",
       "out how to fix that in the future, but weird laws\n",
       "in giveaways. Anyway, we'll be back here in a few\n",
       "minutes. Much love and we'll see you soon."
      ],
      "text/plain": [
       "<IPython.core.display.Markdown object>"
      ]
     },
     "metadata": {},
     "output_type": "display_data"
    },
    {
     "data": {
      "text/markdown": [
       "**Ending line**: 02:21:45.156 MATT: And welcome back. Way late on that one."
      ],
      "text/plain": [
       "<IPython.core.display.Markdown object>"
      ]
     },
     "metadata": {},
     "output_type": "display_data"
    },
    {
     "data": {
      "text/markdown": [
       "### Episode 14 - Fleeting Memories"
      ],
      "text/plain": [
       "<IPython.core.display.Markdown object>"
      ]
     },
     "metadata": {},
     "output_type": "display_data"
    },
    {
     "name": "stdout",
     "output_type": "stream",
     "text": [
      "Added to cast: Joel\n"
     ]
    },
    {
     "data": {
      "text/markdown": [
       "**Interval**: 6 minutes and 59 seconds"
      ],
      "text/plain": [
       "<IPython.core.display.Markdown object>"
      ]
     },
     "metadata": {},
     "output_type": "display_data"
    },
    {
     "data": {
      "text/markdown": [
       "**Starting line**: 01:41:46.020 MATT: A huge thank you, of course, to our friends\n",
       "at D&amp;D Beyond, Geek and Sundry, and Wyrmwood for\n",
       "being so wonderful to support 826LA and bring joy\n",
       "to all of these kids. And, of course, we have to\n",
       "thank you, the Critters, whose continuous care and\n",
       "generosity even makes things like this possible.\n",
       "So I guess it's time, guys."
      ],
      "text/plain": [
       "<IPython.core.display.Markdown object>"
      ]
     },
     "metadata": {},
     "output_type": "display_data"
    },
    {
     "data": {
      "text/markdown": [
       "**Ending line**: 01:49:05.176 MATT: Welcome back. Great timing."
      ],
      "text/plain": [
       "<IPython.core.display.Markdown object>"
      ]
     },
     "metadata": {},
     "output_type": "display_data"
    },
    {
     "data": {
      "text/markdown": [
       "### Episode 15 - Where the River Goes"
      ],
      "text/plain": [
       "<IPython.core.display.Markdown object>"
      ]
     },
     "metadata": {},
     "output_type": "display_data"
    },
    {
     "data": {
      "text/markdown": [
       "**Interval**: 17 minutes and 34 seconds"
      ],
      "text/plain": [
       "<IPython.core.display.Markdown object>"
      ]
     },
     "metadata": {},
     "output_type": "display_data"
    },
    {
     "data": {
      "text/markdown": [
       "**Starting line**: 01:58:32.794 MATT: All right. And we'll come back to that after\n",
       "our break because it's just after nine o'clock. So\n",
       "we'll take a quick break here and be back here in\n",
       "just a moment, guys. Hold tight. In the meantime,\n",
       "we do have another Wyrmwood giveaway. We have a\n",
       "black poisonwood Hero Vault that we're giving out\n",
       "this time. Nice dark wood one. You can keep your\n",
       "minis, you can keep your dice, you can keep all\n",
       "sorts of things inside the small space here. If\n",
       "all of you want to come over into Twitch chat to\n",
       "enter this, you can only enter the word once. More\n",
       "than once and you will be disqualified. Once\n",
       "again, this is only for US residents and Canadian\n",
       "residents, outside of Quebec. The code word for\n",
       "tonight is \"river.\" So come on over, enter that\n",
       "into the chat, and we'll come back with a winner\n",
       "at the break! We'll see you guys in a minute."
      ],
      "text/plain": [
       "<IPython.core.display.Markdown object>"
      ]
     },
     "metadata": {},
     "output_type": "display_data"
    },
    {
     "data": {
      "text/markdown": [
       "**Ending line**: 02:16:51.351 MATT: Hello, and welcome back everybody! Glad we\n",
       "can join... us. Before we get back into the story,\n",
       "we have a winner. The winner for tonight's\n",
       "giveaway is TheMostJost!"
      ],
      "text/plain": [
       "<IPython.core.display.Markdown object>"
      ]
     },
     "metadata": {},
     "output_type": "display_data"
    },
    {
     "data": {
      "text/markdown": [
       "### Episode 16 - A Favor in Kind"
      ],
      "text/plain": [
       "<IPython.core.display.Markdown object>"
      ]
     },
     "metadata": {},
     "output_type": "display_data"
    },
    {
     "data": {
      "text/markdown": [
       "**Interval**: 12 minutes and 29 seconds"
      ],
      "text/plain": [
       "<IPython.core.display.Markdown object>"
      ]
     },
     "metadata": {},
     "output_type": "display_data"
    },
    {
     "data": {
      "text/markdown": [
       "**Starting line**: 02:06:34.269 MATT: (evil laughter)"
      ],
      "text/plain": [
       "<IPython.core.display.Markdown object>"
      ]
     },
     "metadata": {},
     "output_type": "display_data"
    },
    {
     "data": {
      "text/markdown": [
       "**Ending line**: 02:19:04.863 MATT: Welcome back everybody! First off we have--"
      ],
      "text/plain": [
       "<IPython.core.display.Markdown object>"
      ]
     },
     "metadata": {},
     "output_type": "display_data"
    },
    {
     "data": {
      "text/markdown": [
       "### Episode 17 - Harvest Close"
      ],
      "text/plain": [
       "<IPython.core.display.Markdown object>"
      ]
     },
     "metadata": {},
     "output_type": "display_data"
    },
    {
     "data": {
      "text/markdown": [
       "**Interval**: 12 minutes and 59 seconds"
      ],
      "text/plain": [
       "<IPython.core.display.Markdown object>"
      ]
     },
     "metadata": {},
     "output_type": "display_data"
    },
    {
     "data": {
      "text/markdown": [
       "**Starting line**: 01:57:44.885 MATT: That is, actually yes. You can have Jester's\n",
       "dice box, kind of. Tonight, the keyword is\n",
       "\"celebration.\" If you'd like to, come into the\n",
       "Twitch chat and enter the word \"celebration\" to\n",
       "become part of the drawing, as long as you are in\n",
       "the US and Canada outside of Quebec, otherwise you\n",
       "cannot enter. I am very sorry, laws are weird.\n",
       "Enter it only once. Any more than that and you may\n",
       "be disqualified. We will come back at the end of the\n",
       "break with a winner to be announced. Until then,\n",
       "we'll see you guys here in a few minutes."
      ],
      "text/plain": [
       "<IPython.core.display.Markdown object>"
      ]
     },
     "metadata": {},
     "output_type": "display_data"
    },
    {
     "data": {
      "text/markdown": [
       "**Ending line**: 02:11:11.804 MATT: You guys are so slow on the draw tonight.\n",
       "Welcome back, everybody. Before we get kicked back\n",
       "in, we have our winner of the Wyrmwood giveaway\n",
       "tonight which is mumbly_joe1212. Congratulations!\n",
       "Danoba will get your information if he hasn't\n",
       "already, and we'll get that shipped out to you.\n",
       "Congrats. Diving back in, folks. You have muscled\n",
       "your way through the crowd, making your way into\n",
       "the shaded interior of the front portion, the\n",
       "receiving chamber of the Victory Pit, this\n",
       "two-leveled circular forum-like structure in the\n",
       "center of the Pentamarket. You push in the crowd,\n",
       "and people are starting to find each other and\n",
       "push away to find seats into some of the openings\n",
       "that lead off to the sides in the center. There is\n",
       "a pedestal with a barker or an organizer up there\n",
       "in a long dark gray and brown set of robes, a\n",
       "human male in his late 50s who's fighting his own\n",
       "age and losing. The comb-over thinning hair and a\n",
       "broom-like gray mustache that's poorly colored\n",
       "with dark wax. He's shouting out to the crowd, he\n",
       "says, \"Please enter slowly, the event begins\n",
       "\"shortly in the next few hours. Would you push\n",
       "aside-- (muttering) Yes, right! This way, please,\n",
       "\"but go evenly!\" He's pushing off two different\n",
       "directions. What are you guys doing?"
      ],
      "text/plain": [
       "<IPython.core.display.Markdown object>"
      ]
     },
     "metadata": {},
     "output_type": "display_data"
    },
    {
     "data": {
      "text/markdown": [
       "### Episode 18 - Whispers of War"
      ],
      "text/plain": [
       "<IPython.core.display.Markdown object>"
      ]
     },
     "metadata": {},
     "output_type": "display_data"
    },
    {
     "data": {
      "text/markdown": [
       "**Interval**: 19 minutes and 26 seconds"
      ],
      "text/plain": [
       "<IPython.core.display.Markdown object>"
      ]
     },
     "metadata": {},
     "output_type": "display_data"
    },
    {
     "data": {
      "text/markdown": [
       "**Starting line**: 02:42:50.177 MATT: Oh, sure. Well, then!"
      ],
      "text/plain": [
       "<IPython.core.display.Markdown object>"
      ]
     },
     "metadata": {},
     "output_type": "display_data"
    },
    {
     "data": {
      "text/markdown": [
       "**Ending line**: 03:02:20.878 MATT: Can we retrieve the rest of the group,\n",
       "please? Back to the table. (sharp exhale)"
      ],
      "text/plain": [
       "<IPython.core.display.Markdown object>"
      ]
     },
     "metadata": {},
     "output_type": "display_data"
    },
    {
     "data": {
      "text/markdown": [
       "### Episode 19 - The Gentleman's Path"
      ],
      "text/plain": [
       "<IPython.core.display.Markdown object>"
      ]
     },
     "metadata": {},
     "output_type": "display_data"
    },
    {
     "data": {
      "text/markdown": [
       "**Interval**: 19 minutes and 50 seconds"
      ],
      "text/plain": [
       "<IPython.core.display.Markdown object>"
      ]
     },
     "metadata": {},
     "output_type": "display_data"
    },
    {
     "data": {
      "text/markdown": [
       "**Starting line**: 01:59:24.655 MATT: Thank you. We'll see you back here in a few\n",
       "minutes."
      ],
      "text/plain": [
       "<IPython.core.display.Markdown object>"
      ]
     },
     "metadata": {},
     "output_type": "display_data"
    },
    {
     "data": {
      "text/markdown": [
       "**Ending line**: 02:19:18.931 MATT: Welcome back, everybody. That was all right.\n",
       "Before we jump in, we do have a winner from the\n",
       "break for our fantastic Wyrmwood giveaway. The\n",
       "winner is Brian Spinkicker! Brian Spinkicker,\n",
       "congratulations. We'll get that out to you ASAP.\n",
       "Congrats to you, my friend. Exactly. I guess I\n",
       "should bring out the map."
      ],
      "text/plain": [
       "<IPython.core.display.Markdown object>"
      ]
     },
     "metadata": {},
     "output_type": "display_data"
    },
    {
     "data": {
      "text/markdown": [
       "### Episode 20 - Labenda Awaits"
      ],
      "text/plain": [
       "<IPython.core.display.Markdown object>"
      ]
     },
     "metadata": {},
     "output_type": "display_data"
    },
    {
     "data": {
      "text/markdown": [
       "**Interval**: 5 minutes and 19 seconds"
      ],
      "text/plain": [
       "<IPython.core.display.Markdown object>"
      ]
     },
     "metadata": {},
     "output_type": "display_data"
    },
    {
     "data": {
      "text/markdown": [
       "**Starting line**: 03:18:45.206 MATT: That was Kiri."
      ],
      "text/plain": [
       "<IPython.core.display.Markdown object>"
      ]
     },
     "metadata": {},
     "output_type": "display_data"
    },
    {
     "data": {
      "text/markdown": [
       "**Ending line**: 03:24:06.816 MATT: (like Beau) \"Ooh, I'm a captain.\""
      ],
      "text/plain": [
       "<IPython.core.display.Markdown object>"
      ]
     },
     "metadata": {},
     "output_type": "display_data"
    },
    {
     "data": {
      "text/markdown": [
       "### Episode 21 - Stalker in the Swamp"
      ],
      "text/plain": [
       "<IPython.core.display.Markdown object>"
      ]
     },
     "metadata": {},
     "output_type": "display_data"
    },
    {
     "name": "stdout",
     "output_type": "stream",
     "text": [
      "Added to cast: Mark\n"
     ]
    },
    {
     "data": {
      "text/markdown": [
       "**Interval**: 4 minutes and 56 seconds"
      ],
      "text/plain": [
       "<IPython.core.display.Markdown object>"
      ]
     },
     "metadata": {},
     "output_type": "display_data"
    },
    {
     "data": {
      "text/markdown": [
       "**Starting line**: 04:04:50.524 MATT: No, it's faded."
      ],
      "text/plain": [
       "<IPython.core.display.Markdown object>"
      ]
     },
     "metadata": {},
     "output_type": "display_data"
    },
    {
     "data": {
      "text/markdown": [
       "**Ending line**: 04:09:49.383 MATT: She's not being subtle."
      ],
      "text/plain": [
       "<IPython.core.display.Markdown object>"
      ]
     },
     "metadata": {},
     "output_type": "display_data"
    },
    {
     "data": {
      "text/markdown": [
       "### Episode 22 - Lost Treasures"
      ],
      "text/plain": [
       "<IPython.core.display.Markdown object>"
      ]
     },
     "metadata": {},
     "output_type": "display_data"
    },
    {
     "name": "stdout",
     "output_type": "stream",
     "text": [
      "Added to cast: Babs\n"
     ]
    },
    {
     "data": {
      "text/markdown": [
       "**Interval**: 4 minutes and 25 seconds"
      ],
      "text/plain": [
       "<IPython.core.display.Markdown object>"
      ]
     },
     "metadata": {},
     "output_type": "display_data"
    },
    {
     "data": {
      "text/markdown": [
       "**Starting line**: 00:36:33.365 MATT: Sure."
      ],
      "text/plain": [
       "<IPython.core.display.Markdown object>"
      ]
     },
     "metadata": {},
     "output_type": "display_data"
    },
    {
     "data": {
      "text/markdown": [
       "**Ending line**: 00:40:59.689 MATT: Okay. In the early dawn hours of the new\n",
       "day, as the blue begins to slowly become brighter\n",
       "in the distance--"
      ],
      "text/plain": [
       "<IPython.core.display.Markdown object>"
      ]
     },
     "metadata": {},
     "output_type": "display_data"
    },
    {
     "data": {
      "text/markdown": [
       "### Episode 23 - Have Bird, Will Travel"
      ],
      "text/plain": [
       "<IPython.core.display.Markdown object>"
      ]
     },
     "metadata": {},
     "output_type": "display_data"
    },
    {
     "data": {
      "text/markdown": [
       "**Interval**: 2 minutes and 58 seconds"
      ],
      "text/plain": [
       "<IPython.core.display.Markdown object>"
      ]
     },
     "metadata": {},
     "output_type": "display_data"
    },
    {
     "data": {
      "text/markdown": [
       "**Starting line**: 00:10:56.005 MATT: If I recall, you guys had taken a long rest\n",
       "after your previous battle, so now it's\n",
       "mid-morning, I'd say."
      ],
      "text/plain": [
       "<IPython.core.display.Markdown object>"
      ]
     },
     "metadata": {},
     "output_type": "display_data"
    },
    {
     "data": {
      "text/markdown": [
       "**Ending line**: 00:14:02.210 MATT: What is your marching order, if I could\n",
       "ask?"
      ],
      "text/plain": [
       "<IPython.core.display.Markdown object>"
      ]
     },
     "metadata": {},
     "output_type": "display_data"
    },
    {
     "data": {
      "text/markdown": [
       "### Episode 24 - The Hour of Honor"
      ],
      "text/plain": [
       "<IPython.core.display.Markdown object>"
      ]
     },
     "metadata": {},
     "output_type": "display_data"
    },
    {
     "data": {
      "text/markdown": [
       "**Interval**: 6 minutes and 27 seconds"
      ],
      "text/plain": [
       "<IPython.core.display.Markdown object>"
      ]
     },
     "metadata": {},
     "output_type": "display_data"
    },
    {
     "data": {
      "text/markdown": [
       "**Starting line**: 01:10:44.803 MATT: Then he goes and closes up his little\n",
       "satchel and walks away."
      ],
      "text/plain": [
       "<IPython.core.display.Markdown object>"
      ]
     },
     "metadata": {},
     "output_type": "display_data"
    },
    {
     "data": {
      "text/markdown": [
       "**Ending line**: 01:17:14.539 MATT: At this point, you guys are caught up with\n",
       "the rest of the crowd as you guys have meandered\n",
       "your way and look up and you can see the rest of\n",
       "your party has been wandering the street."
      ],
      "text/plain": [
       "<IPython.core.display.Markdown object>"
      ]
     },
     "metadata": {},
     "output_type": "display_data"
    },
    {
     "data": {
      "text/markdown": [
       "### Episode 25 - Divergent Paths "
      ],
      "text/plain": [
       "<IPython.core.display.Markdown object>"
      ]
     },
     "metadata": {},
     "output_type": "display_data"
    },
    {
     "data": {
      "text/markdown": [
       "**Interval**: 3 minutes and 11 seconds"
      ],
      "text/plain": [
       "<IPython.core.display.Markdown object>"
      ]
     },
     "metadata": {},
     "output_type": "display_data"
    },
    {
     "data": {
      "text/markdown": [
       "**Starting line**: 03:17:56.790 MATT: I think it was two copper."
      ],
      "text/plain": [
       "<IPython.core.display.Markdown object>"
      ]
     },
     "metadata": {},
     "output_type": "display_data"
    },
    {
     "data": {
      "text/markdown": [
       "**Ending line**: 03:21:09.403 MATT: That's amazing. Awesome. As that's\n",
       "happening, you guys have reached the exterior of\n",
       "the Tinkertop Inventions shop."
      ],
      "text/plain": [
       "<IPython.core.display.Markdown object>"
      ]
     },
     "metadata": {},
     "output_type": "display_data"
    },
    {
     "data": {
      "text/markdown": [
       "### Episode 26 - Found & Lost"
      ],
      "text/plain": [
       "<IPython.core.display.Markdown object>"
      ]
     },
     "metadata": {},
     "output_type": "display_data"
    },
    {
     "data": {
      "text/markdown": [
       "**Interval**: 5 minutes and 58 seconds"
      ],
      "text/plain": [
       "<IPython.core.display.Markdown object>"
      ]
     },
     "metadata": {},
     "output_type": "display_data"
    },
    {
     "data": {
      "text/markdown": [
       "**Starting line**: 00:34:03.662 MATT: Walked over as you poured the drink."
      ],
      "text/plain": [
       "<IPython.core.display.Markdown object>"
      ]
     },
     "metadata": {},
     "output_type": "display_data"
    },
    {
     "data": {
      "text/markdown": [
       "**Ending line**: 00:40:03.692 MATT: Make a history check."
      ],
      "text/plain": [
       "<IPython.core.display.Markdown object>"
      ]
     },
     "metadata": {},
     "output_type": "display_data"
    },
    {
     "data": {
      "text/markdown": [
       "### Episode 27 - Converging Fury "
      ],
      "text/plain": [
       "<IPython.core.display.Markdown object>"
      ]
     },
     "metadata": {},
     "output_type": "display_data"
    },
    {
     "name": "stdout",
     "output_type": "stream",
     "text": [
      "Added to cast: Sumalee\n"
     ]
    },
    {
     "data": {
      "text/markdown": [
       "**Interval**: 8 minutes and 47 seconds"
      ],
      "text/plain": [
       "<IPython.core.display.Markdown object>"
      ]
     },
     "metadata": {},
     "output_type": "display_data"
    },
    {
     "data": {
      "text/markdown": [
       "**Starting line**: 01:56:20.055 MATT: You do not."
      ],
      "text/plain": [
       "<IPython.core.display.Markdown object>"
      ]
     },
     "metadata": {},
     "output_type": "display_data"
    },
    {
     "data": {
      "text/markdown": [
       "**Ending line**: 02:05:08.288 MATT: As both Nila and Keg have enjoyed a decent\n",
       "meal, not as much as you'd expect for the money\n",
       "that was paid included for the evening's stay, but\n",
       "a meal nevertheless."
      ],
      "text/plain": [
       "<IPython.core.display.Markdown object>"
      ]
     },
     "metadata": {},
     "output_type": "display_data"
    },
    {
     "data": {
      "text/markdown": [
       "### Episode 28 - Within the Nest"
      ],
      "text/plain": [
       "<IPython.core.display.Markdown object>"
      ]
     },
     "metadata": {},
     "output_type": "display_data"
    },
    {
     "data": {
      "text/markdown": [
       "**Interval**: 10 minutes and 9 seconds"
      ],
      "text/plain": [
       "<IPython.core.display.Markdown object>"
      ]
     },
     "metadata": {},
     "output_type": "display_data"
    },
    {
     "data": {
      "text/markdown": [
       "**Starting line**: 01:00:23.772 MATT: You actually have not. You would have no\n",
       "idea."
      ],
      "text/plain": [
       "<IPython.core.display.Markdown object>"
      ]
     },
     "metadata": {},
     "output_type": "display_data"
    },
    {
     "data": {
      "text/markdown": [
       "**Ending line**: 01:10:36.680 MATT: It's a chitinous-looking metal breastplate\n",
       "that has a somewhat pearlescent turquoise\n",
       "green-blue tint to it that seems to shift in the\n",
       "light."
      ],
      "text/plain": [
       "<IPython.core.display.Markdown object>"
      ]
     },
     "metadata": {},
     "output_type": "display_data"
    },
    {
     "data": {
      "text/markdown": [
       "### Episode 29 - The Stalking Nightmare"
      ],
      "text/plain": [
       "<IPython.core.display.Markdown object>"
      ]
     },
     "metadata": {},
     "output_type": "display_data"
    },
    {
     "name": "stdout",
     "output_type": "stream",
     "text": [
      "Added to cast: Audience\n"
     ]
    },
    {
     "data": {
      "text/markdown": [
       "**Interval**: 5 minutes and 37 seconds"
      ],
      "text/plain": [
       "<IPython.core.display.Markdown object>"
      ]
     },
     "metadata": {},
     "output_type": "display_data"
    },
    {
     "data": {
      "text/markdown": [
       "**Starting line**: 02:05:27.289 MATT: Individual."
      ],
      "text/plain": [
       "<IPython.core.display.Markdown object>"
      ]
     },
     "metadata": {},
     "output_type": "display_data"
    },
    {
     "data": {
      "text/markdown": [
       "**Ending line**: 02:11:05.169 MATT: All right, you watch as this quiet,\n",
       "soundless image of Keg--"
      ],
      "text/plain": [
       "<IPython.core.display.Markdown object>"
      ]
     },
     "metadata": {},
     "output_type": "display_data"
    },
    {
     "data": {
      "text/markdown": [
       "### Episode 30 - The Journey Home"
      ],
      "text/plain": [
       "<IPython.core.display.Markdown object>"
      ]
     },
     "metadata": {},
     "output_type": "display_data"
    },
    {
     "data": {
      "text/markdown": [
       "**Interval**: 5 minutes and 27 seconds"
      ],
      "text/plain": [
       "<IPython.core.display.Markdown object>"
      ]
     },
     "metadata": {},
     "output_type": "display_data"
    },
    {
     "data": {
      "text/markdown": [
       "**Starting line**: 02:09:21.575 MATT: As this is happening, and you're watching\n",
       "carefully across the way, the scroll case is\n",
       "opened and a series of papers are handed to the\n",
       "crownsguard there. Then a handful of coin are\n",
       "passed over by Ophelia to the captain. Reads over\n",
       "the papers, hands them back, gives a hand motion\n",
       "to a group of about six or seven crownsguard at\n",
       "the gate. They begin to open it, and entry is\n",
       "given to the Empire. In the few days you've been\n",
       "gone, the carriages pick up speed once more and\n",
       "you re-enter the Dwendalian Empire, heading\n",
       "towards the northern side of the Marrow Valley.\n",
       "Welcome back."
      ],
      "text/plain": [
       "<IPython.core.display.Markdown object>"
      ]
     },
     "metadata": {},
     "output_type": "display_data"
    },
    {
     "data": {
      "text/markdown": [
       "**Ending line**: 02:15:32.702 MATT: Continuing southward through the night.\n",
       "Eventually, the carriages pull off to the side for\n",
       "the evening."
      ],
      "text/plain": [
       "<IPython.core.display.Markdown object>"
      ]
     },
     "metadata": {},
     "output_type": "display_data"
    },
    {
     "data": {
      "text/markdown": [
       "### Episode 31 - Commerce & Chaos"
      ],
      "text/plain": [
       "<IPython.core.display.Markdown object>"
      ]
     },
     "metadata": {},
     "output_type": "display_data"
    },
    {
     "data": {
      "text/markdown": [
       "**Interval**: 6 minutes and 35 seconds"
      ],
      "text/plain": [
       "<IPython.core.display.Markdown object>"
      ]
     },
     "metadata": {},
     "output_type": "display_data"
    },
    {
     "data": {
      "text/markdown": [
       "**Starting line**: 02:50:39.841 MATT: You see as the blade now is this unique\n",
       "merger of the falchion shape and size, but now\n",
       "holds this golden tint of the Summer's Dance. It\n",
       "curves towards the edge and has a slight pointed\n",
       "jagged arch in the back that the scimitar had\n",
       "previously held. But still contains the\n",
       "barnacle-encrusted pattern across the hilt and\n",
       "there in the center still is the central yellow\n",
       "gleaming eye."
      ],
      "text/plain": [
       "<IPython.core.display.Markdown object>"
      ]
     },
     "metadata": {},
     "output_type": "display_data"
    },
    {
     "data": {
      "text/markdown": [
       "**Ending line**: 02:57:47.019 MATT: No, that's what would have happened if it\n",
       "actually came out of your pee-hole."
      ],
      "text/plain": [
       "<IPython.core.display.Markdown object>"
      ]
     },
     "metadata": {},
     "output_type": "display_data"
    },
    {
     "data": {
      "text/markdown": [
       "### Episode 32 - Beyond the Boundaries "
      ],
      "text/plain": [
       "<IPython.core.display.Markdown object>"
      ]
     },
     "metadata": {},
     "output_type": "display_data"
    },
    {
     "data": {
      "text/markdown": [
       "**Interval**: 2 minutes and 20 seconds"
      ],
      "text/plain": [
       "<IPython.core.display.Markdown object>"
      ]
     },
     "metadata": {},
     "output_type": "display_data"
    },
    {
     "data": {
      "text/markdown": [
       "**Starting line**: 00:00:53.100 MATT: Sam."
      ],
      "text/plain": [
       "<IPython.core.display.Markdown object>"
      ]
     },
     "metadata": {},
     "output_type": "display_data"
    },
    {
     "data": {
      "text/markdown": [
       "**Ending line**: 00:03:14.583 MATT: Yeah!"
      ],
      "text/plain": [
       "<IPython.core.display.Markdown object>"
      ]
     },
     "metadata": {},
     "output_type": "display_data"
    },
    {
     "data": {
      "text/markdown": [
       "### Episode 33 - The Ruby and the Sapphire"
      ],
      "text/plain": [
       "<IPython.core.display.Markdown object>"
      ]
     },
     "metadata": {},
     "output_type": "display_data"
    },
    {
     "data": {
      "text/markdown": [
       "**Interval**: 5 minutes and 21 seconds"
      ],
      "text/plain": [
       "<IPython.core.display.Markdown object>"
      ]
     },
     "metadata": {},
     "output_type": "display_data"
    },
    {
     "data": {
      "text/markdown": [
       "**Starting line**: 00:14:34.756 MATT: Mighty Nein, as you close the final miles to\n",
       "the outskirts of the northern side of Nicodranas,\n",
       "the first and one of the major port towns in the\n",
       "Menagerie Coast, what would you like to do?"
      ],
      "text/plain": [
       "<IPython.core.display.Markdown object>"
      ]
     },
     "metadata": {},
     "output_type": "display_data"
    },
    {
     "data": {
      "text/markdown": [
       "**Ending line**: 00:20:10.147 MATT: Make an insight check."
      ],
      "text/plain": [
       "<IPython.core.display.Markdown object>"
      ]
     },
     "metadata": {},
     "output_type": "display_data"
    },
    {
     "data": {
      "text/markdown": [
       "### Episode 34 - Encroaching Waters"
      ],
      "text/plain": [
       "<IPython.core.display.Markdown object>"
      ]
     },
     "metadata": {},
     "output_type": "display_data"
    },
    {
     "name": "stdout",
     "output_type": "stream",
     "text": [
      "Added to cast: Max\n",
      "Added to cast: Cast\n"
     ]
    },
    {
     "data": {
      "text/markdown": [
       "**Interval**: 5 minutes and 24 seconds"
      ],
      "text/plain": [
       "<IPython.core.display.Markdown object>"
      ]
     },
     "metadata": {},
     "output_type": "display_data"
    },
    {
     "data": {
      "text/markdown": [
       "**Starting line**: 00:50:26.482 MATT: You have no idea who that is."
      ],
      "text/plain": [
       "<IPython.core.display.Markdown object>"
      ]
     },
     "metadata": {},
     "output_type": "display_data"
    },
    {
     "data": {
      "text/markdown": [
       "**Ending line**: 00:55:52.782 MATT: You see this bright crimson weasel that is\n",
       "now curled up in your hand and (chattering)."
      ],
      "text/plain": [
       "<IPython.core.display.Markdown object>"
      ]
     },
     "metadata": {},
     "output_type": "display_data"
    },
    {
     "data": {
      "text/markdown": [
       "### Episode 35 - Dockside Diplomacy"
      ],
      "text/plain": [
       "<IPython.core.display.Markdown object>"
      ]
     },
     "metadata": {},
     "output_type": "display_data"
    },
    {
     "data": {
      "text/markdown": [
       "**Interval**: 3 minutes and 3 seconds"
      ],
      "text/plain": [
       "<IPython.core.display.Markdown object>"
      ]
     },
     "metadata": {},
     "output_type": "display_data"
    },
    {
     "data": {
      "text/markdown": [
       "**Starting line**: 00:00:08.291 MATT: Before we get into tonight's game, we have\n",
       "some announcements to get through, so be patient\n",
       "with us for a moment as we give a big shout out\n",
       "and thanks to our two sponsors for tonight's\n",
       "episode, starting with our friends at D&amp;amp;D Beyond.\n",
       "Sam?"
      ],
      "text/plain": [
       "<IPython.core.display.Markdown object>"
      ]
     },
     "metadata": {},
     "output_type": "display_data"
    },
    {
     "data": {
      "text/markdown": [
       "**Ending line**: 00:03:22.492 MATT: Thank you, Sam."
      ],
      "text/plain": [
       "<IPython.core.display.Markdown object>"
      ]
     },
     "metadata": {},
     "output_type": "display_data"
    },
    {
     "data": {
      "text/markdown": [
       "### Episode 36 - O Captain, Who's Captain"
      ],
      "text/plain": [
       "<IPython.core.display.Markdown object>"
      ]
     },
     "metadata": {},
     "output_type": "display_data"
    },
    {
     "data": {
      "text/markdown": [
       "**Interval**: 13 minutes and 25 seconds"
      ],
      "text/plain": [
       "<IPython.core.display.Markdown object>"
      ]
     },
     "metadata": {},
     "output_type": "display_data"
    },
    {
     "data": {
      "text/markdown": [
       "**Starting line**: 00:58:36.522 MATT: As you guys are having this moment of\n",
       "conversation, you can't help but notice in the\n",
       "middle of this talk, quiet off to the side--\n",
       "Yasha's just on the outskirts of you, holding onto\n",
       "the rope of the sail. She hasn't tied it down yet,\n",
       "she's just using herself to hold and maneuver the\n",
       "sail because that's all she knows. But there is,\n",
       "on the far end on the port bow of the ship, is\n",
       "still Caduceus, legs curled up to the chest\n",
       "looking out over the ocean."
      ],
      "text/plain": [
       "<IPython.core.display.Markdown object>"
      ]
     },
     "metadata": {},
     "output_type": "display_data"
    },
    {
     "data": {
      "text/markdown": [
       "**Ending line**: 01:12:30.107 MATT: No, that was in the Wharf."
      ],
      "text/plain": [
       "<IPython.core.display.Markdown object>"
      ]
     },
     "metadata": {},
     "output_type": "display_data"
    },
    {
     "data": {
      "text/markdown": [
       "### Episode 37 - Dangerous Liaisons"
      ],
      "text/plain": [
       "<IPython.core.display.Markdown object>"
      ]
     },
     "metadata": {},
     "output_type": "display_data"
    },
    {
     "name": "stdout",
     "output_type": "stream",
     "text": [
      "Added to cast: Lenore\n"
     ]
    },
    {
     "data": {
      "text/markdown": [
       "**Interval**: 7 minutes and 6 seconds"
      ],
      "text/plain": [
       "<IPython.core.display.Markdown object>"
      ]
     },
     "metadata": {},
     "output_type": "display_data"
    },
    {
     "data": {
      "text/markdown": [
       "**Starting line**: 01:37:33.577 MATT: Yeah, sure."
      ],
      "text/plain": [
       "<IPython.core.display.Markdown object>"
      ]
     },
     "metadata": {},
     "output_type": "display_data"
    },
    {
     "data": {
      "text/markdown": [
       "**Ending line**: 01:44:41.881 MATT: Make a medicine check."
      ],
      "text/plain": [
       "<IPython.core.display.Markdown object>"
      ]
     },
     "metadata": {},
     "output_type": "display_data"
    },
    {
     "data": {
      "text/markdown": [
       "### Episode 38 - Welcome to the Jungle"
      ],
      "text/plain": [
       "<IPython.core.display.Markdown object>"
      ]
     },
     "metadata": {},
     "output_type": "display_data"
    },
    {
     "data": {
      "text/markdown": [
       "**Interval**: 4 minutes and 18 seconds"
      ],
      "text/plain": [
       "<IPython.core.display.Markdown object>"
      ]
     },
     "metadata": {},
     "output_type": "display_data"
    },
    {
     "data": {
      "text/markdown": [
       "**Starting line**: 00:46:20.927 MATT: Sure, all right. Most of the ones you come\n",
       "across are like a dull pink in color that fade to\n",
       "a green at the base. It's not a vibrant pink, just\n",
       "enough of that whitish red crossover to appear. A\n",
       "lot of them grow along the base of the roots of\n",
       "some of these jungle trees and you collect a few\n",
       "handfuls of them. Okay. Yes?"
      ],
      "text/plain": [
       "<IPython.core.display.Markdown object>"
      ]
     },
     "metadata": {},
     "output_type": "display_data"
    },
    {
     "data": {
      "text/markdown": [
       "**Ending line**: 00:51:04.036 MATT: Jamedi's a few feet ahead. He's currently\n",
       "leading the path. They're about 20 feet from each other."
      ],
      "text/plain": [
       "<IPython.core.display.Markdown object>"
      ]
     },
     "metadata": {},
     "output_type": "display_data"
    },
    {
     "data": {
      "text/markdown": [
       "### Episode 39 - Temple of the False Serpent"
      ],
      "text/plain": [
       "<IPython.core.display.Markdown object>"
      ]
     },
     "metadata": {},
     "output_type": "display_data"
    },
    {
     "data": {
      "text/markdown": [
       "**Interval**: 2 minutes and 44 seconds"
      ],
      "text/plain": [
       "<IPython.core.display.Markdown object>"
      ]
     },
     "metadata": {},
     "output_type": "display_data"
    },
    {
     "data": {
      "text/markdown": [
       "**Starting line**: 00:00:08.907 MATT: Before we get into tonight's episode, we're\n",
       "going to do some quick announcements. First and\n",
       "foremost, we brought tonight our fantastic\n",
       "returning sponsor for campaign 2, our friends at\n",
       "D&amp;amp;D Beyond! Sam!"
      ],
      "text/plain": [
       "<IPython.core.display.Markdown object>"
      ]
     },
     "metadata": {},
     "output_type": "display_data"
    },
    {
     "data": {
      "text/markdown": [
       "**Ending line**: 00:03:03.809 MATT: You look about as good a a job as Jester did\n",
       "to Yasha last week.\n",
       "LAURA and TALIESIN: He's a snake person!"
      ],
      "text/plain": [
       "<IPython.core.display.Markdown object>"
      ]
     },
     "metadata": {},
     "output_type": "display_data"
    },
    {
     "data": {
      "text/markdown": [
       "### Episode 40 - Dubious Pursuits"
      ],
      "text/plain": [
       "<IPython.core.display.Markdown object>"
      ]
     },
     "metadata": {},
     "output_type": "display_data"
    },
    {
     "data": {
      "text/markdown": [
       "**Interval**: 5 minutes and 49 seconds"
      ],
      "text/plain": [
       "<IPython.core.display.Markdown object>"
      ]
     },
     "metadata": {},
     "output_type": "display_data"
    },
    {
     "data": {
      "text/markdown": [
       "**Starting line**: 02:26:14.004 MATT: If you were to find a place of deep\n",
       "research, you could probably find more information\n",
       "about these entities, yes."
      ],
      "text/plain": [
       "<IPython.core.display.Markdown object>"
      ]
     },
     "metadata": {},
     "output_type": "display_data"
    },
    {
     "data": {
      "text/markdown": [
       "**Ending line**: 02:32:09.215 MATT: Yasha puts her hand on your shoulder and\n",
       "says, \"Faith is a funny thing. Be careful where\n",
       "you place it. It can give strength, or it can lead\n",
       "to terrible things.\""
      ],
      "text/plain": [
       "<IPython.core.display.Markdown object>"
      ]
     },
     "metadata": {},
     "output_type": "display_data"
    },
    {
     "data": {
      "text/markdown": [
       "### Episode 41 - A Pirate's Life for Me"
      ],
      "text/plain": [
       "<IPython.core.display.Markdown object>"
      ]
     },
     "metadata": {},
     "output_type": "display_data"
    },
    {
     "data": {
      "text/markdown": [
       "**Interval**: 5 minutes and 52 seconds"
      ],
      "text/plain": [
       "<IPython.core.display.Markdown object>"
      ]
     },
     "metadata": {},
     "output_type": "display_data"
    },
    {
     "data": {
      "text/markdown": [
       "**Starting line**: 00:12:11.170 MATT: We can say this is while Fjord is out."
      ],
      "text/plain": [
       "<IPython.core.display.Markdown object>"
      ]
     },
     "metadata": {},
     "output_type": "display_data"
    },
    {
     "data": {
      "text/markdown": [
       "**Ending line**: 00:18:06.373 MATT: You get to remove that item, and you get to\n",
       "add it to your--"
      ],
      "text/plain": [
       "<IPython.core.display.Markdown object>"
      ]
     },
     "metadata": {},
     "output_type": "display_data"
    },
    {
     "data": {
      "text/markdown": [
       "### Episode 42 - A Hole in the Plan"
      ],
      "text/plain": [
       "<IPython.core.display.Markdown object>"
      ]
     },
     "metadata": {},
     "output_type": "display_data"
    },
    {
     "data": {
      "text/markdown": [
       "**Interval**: 5 minutes and 44 seconds"
      ],
      "text/plain": [
       "<IPython.core.display.Markdown object>"
      ]
     },
     "metadata": {},
     "output_type": "display_data"
    },
    {
     "data": {
      "text/markdown": [
       "**Starting line**: 01:08:48.620 MATT: Jester?"
      ],
      "text/plain": [
       "<IPython.core.display.Markdown object>"
      ]
     },
     "metadata": {},
     "output_type": "display_data"
    },
    {
     "data": {
      "text/markdown": [
       "**Ending line**: 01:14:34.759 MATT: Make a perception check."
      ],
      "text/plain": [
       "<IPython.core.display.Markdown object>"
      ]
     },
     "metadata": {},
     "output_type": "display_data"
    },
    {
     "data": {
      "text/markdown": [
       "### Episode 43 - In Hot Water"
      ],
      "text/plain": [
       "<IPython.core.display.Markdown object>"
      ]
     },
     "metadata": {},
     "output_type": "display_data"
    },
    {
     "data": {
      "text/markdown": [
       "**Interval**: 5 minutes and 5 seconds"
      ],
      "text/plain": [
       "<IPython.core.display.Markdown object>"
      ]
     },
     "metadata": {},
     "output_type": "display_data"
    },
    {
     "data": {
      "text/markdown": [
       "**Starting line**: 02:36:35.903 MATT: Not quite. All the good food was kept for\n",
       "the captain and some of it's turning a little, but\n",
       "it's cheese. Some better treats and some sugared\n",
       "candies that were kept specifically, like a\n",
       "private stash for the captain, you manage to\n",
       "find."
      ],
      "text/plain": [
       "<IPython.core.display.Markdown object>"
      ]
     },
     "metadata": {},
     "output_type": "display_data"
    },
    {
     "data": {
      "text/markdown": [
       "**Ending line**: 02:41:59.247 MATT: Yeah."
      ],
      "text/plain": [
       "<IPython.core.display.Markdown object>"
      ]
     },
     "metadata": {},
     "output_type": "display_data"
    },
    {
     "data": {
      "text/markdown": [
       "### Episode 44 - The Diver's Grave"
      ],
      "text/plain": [
       "<IPython.core.display.Markdown object>"
      ]
     },
     "metadata": {},
     "output_type": "display_data"
    },
    {
     "data": {
      "text/markdown": [
       "**Interval**: 2 minutes and 24 seconds"
      ],
      "text/plain": [
       "<IPython.core.display.Markdown object>"
      ]
     },
     "metadata": {},
     "output_type": "display_data"
    },
    {
     "data": {
      "text/markdown": [
       "**Starting line**: 00:09:12.745 MATT: That was pretty awesome. That's our new\n",
       "intro guys. Travis and Sam kept this a secret from\n",
       "all of us for a long time."
      ],
      "text/plain": [
       "<IPython.core.display.Markdown object>"
      ]
     },
     "metadata": {},
     "output_type": "display_data"
    },
    {
     "data": {
      "text/markdown": [
       "**Ending line**: 00:11:46.999 MATT: Without further ado, let's go ahead and jump\n",
       "in to tonight's episode of Critical Role.\n",
       "(chanting) Role! Critical! Role!"
      ],
      "text/plain": [
       "<IPython.core.display.Markdown object>"
      ]
     },
     "metadata": {},
     "output_type": "display_data"
    },
    {
     "data": {
      "text/markdown": [
       "### Episode 45 - The Stowaway"
      ],
      "text/plain": [
       "<IPython.core.display.Markdown object>"
      ]
     },
     "metadata": {},
     "output_type": "display_data"
    },
    {
     "name": "stdout",
     "output_type": "stream",
     "text": [
      "Added to cast: Deborah\n"
     ]
    },
    {
     "data": {
      "text/markdown": [
       "**Interval**: 4 minutes and 27 seconds"
      ],
      "text/plain": [
       "<IPython.core.display.Markdown object>"
      ]
     },
     "metadata": {},
     "output_type": "display_data"
    },
    {
     "data": {
      "text/markdown": [
       "**Starting line**: 04:38:18.631 MATT: You watch her gnomish form vanish off the\n",
       "docks and mingle with the rest of the villagers of Bisaft."
      ],
      "text/plain": [
       "<IPython.core.display.Markdown object>"
      ]
     },
     "metadata": {},
     "output_type": "display_data"
    },
    {
     "data": {
      "text/markdown": [
       "**Ending line**: 04:42:50.389 MATT: You both quietly sit there, drinking your\n",
       "tea, finishing off the watch while the rest of\n",
       "your group sleeps soundly in their midday bunks,\n",
       "recovering from the strenuous activities of\n",
       "surviving three chambers of a hundred-chambered\n",
       "mage vault extraplanar home. We'll end it there\n",
       "and pick up on that next week."
      ],
      "text/plain": [
       "<IPython.core.display.Markdown object>"
      ]
     },
     "metadata": {},
     "output_type": "display_data"
    },
    {
     "data": {
      "text/markdown": [
       "### Episode 46 - A Storm of Memories"
      ],
      "text/plain": [
       "<IPython.core.display.Markdown object>"
      ]
     },
     "metadata": {},
     "output_type": "display_data"
    },
    {
     "data": {
      "text/markdown": [
       "**Interval**: 11 minutes and 40 seconds"
      ],
      "text/plain": [
       "<IPython.core.display.Markdown object>"
      ]
     },
     "metadata": {},
     "output_type": "display_data"
    },
    {
     "data": {
      "text/markdown": [
       "**Starting line**: 00:42:02.819 MATT: As you guys are finishing your meal and\n",
       "Yasha's quietly staring into the plate and eating\n",
       "with a distant intensity, like she's prone to--"
      ],
      "text/plain": [
       "<IPython.core.display.Markdown object>"
      ]
     },
     "metadata": {},
     "output_type": "display_data"
    },
    {
     "data": {
      "text/markdown": [
       "**Ending line**: 00:53:51.871 MATT: Make an investigation check."
      ],
      "text/plain": [
       "<IPython.core.display.Markdown object>"
      ]
     },
     "metadata": {},
     "output_type": "display_data"
    },
    {
     "data": {
      "text/markdown": [
       "### Episode 47 - The Second Seal"
      ],
      "text/plain": [
       "<IPython.core.display.Markdown object>"
      ]
     },
     "metadata": {},
     "output_type": "display_data"
    },
    {
     "data": {
      "text/markdown": [
       "**Interval**: 5 minutes and 59 seconds"
      ],
      "text/plain": [
       "<IPython.core.display.Markdown object>"
      ]
     },
     "metadata": {},
     "output_type": "display_data"
    },
    {
     "data": {
      "text/markdown": [
       "**Starting line**: 03:25:51.440 MATT: On the Balleater. Anything else?"
      ],
      "text/plain": [
       "<IPython.core.display.Markdown object>"
      ]
     },
     "metadata": {},
     "output_type": "display_data"
    },
    {
     "data": {
      "text/markdown": [
       "**Ending line**: 03:31:53.467 MATT: After a few days' journey, tending to your\n",
       "various bits of business, eventually the familiar\n",
       "sound of seagulls gathered near the coast meets\n",
       "your ears on the warm, sunny morning. As you wake\n",
       "up and glance up into the light of day past the\n",
       "stairs that lead to the deck, you can see the\n",
       "familiar sight of the harbor of Nicodranas. There,\n",
       "the familiar visual of the Mother's Lighthouse,\n",
       "greeting you in towards the bay. Caduceus, you\n",
       "can't help be but overtaken with that comforting\n",
       "welcome sense, and you swear for a minute you see\n",
       "her glance in your direction, but you blink-- Hmm,\n",
       "that was strange. You prepare your papers and make\n",
       "your way in towards one of the various openings\n",
       "across the harbor. We'll pick up there next week\n",
       "as it is getting late."
      ],
      "text/plain": [
       "<IPython.core.display.Markdown object>"
      ]
     },
     "metadata": {},
     "output_type": "display_data"
    },
    {
     "data": {
      "text/markdown": [
       "### Episode 48 - Homeward Bound"
      ],
      "text/plain": [
       "<IPython.core.display.Markdown object>"
      ]
     },
     "metadata": {},
     "output_type": "display_data"
    },
    {
     "data": {
      "text/markdown": [
       "**Interval**: 6 minutes and 12 seconds"
      ],
      "text/plain": [
       "<IPython.core.display.Markdown object>"
      ]
     },
     "metadata": {},
     "output_type": "display_data"
    },
    {
     "data": {
      "text/markdown": [
       "**Starting line**: 02:54:14.900 MATT: Yeah."
      ],
      "text/plain": [
       "<IPython.core.display.Markdown object>"
      ]
     },
     "metadata": {},
     "output_type": "display_data"
    },
    {
     "data": {
      "text/markdown": [
       "**Ending line**: 03:00:29.032 MATT: All right. Do you have any business\n",
       "in Trostenwald while you're there?"
      ],
      "text/plain": [
       "<IPython.core.display.Markdown object>"
      ]
     },
     "metadata": {},
     "output_type": "display_data"
    },
    {
     "data": {
      "text/markdown": [
       "### Episode 49 - A Game of Names"
      ],
      "text/plain": [
       "<IPython.core.display.Markdown object>"
      ]
     },
     "metadata": {},
     "output_type": "display_data"
    },
    {
     "name": "stdout",
     "output_type": "stream",
     "text": [
      "Added to cast: Dani\n"
     ]
    },
    {
     "data": {
      "text/markdown": [
       "**Interval**: 20 minutes and 59 seconds"
      ],
      "text/plain": [
       "<IPython.core.display.Markdown object>"
      ]
     },
     "metadata": {},
     "output_type": "display_data"
    },
    {
     "data": {
      "text/markdown": [
       "**Starting line**: 00:48:48.737 MATT: You're in the wagon. You're now on the\n",
       "western side of the village where you can see the\n",
       "northward Tillage all around."
      ],
      "text/plain": [
       "<IPython.core.display.Markdown object>"
      ]
     },
     "metadata": {},
     "output_type": "display_data"
    },
    {
     "data": {
      "text/markdown": [
       "**Ending line**: 01:09:55.284 MATT: Caleb, roll an intelligence check for me."
      ],
      "text/plain": [
       "<IPython.core.display.Markdown object>"
      ]
     },
     "metadata": {},
     "output_type": "display_data"
    },
    {
     "data": {
      "text/markdown": [
       "### Episode 50 - The Endless Burrows"
      ],
      "text/plain": [
       "<IPython.core.display.Markdown object>"
      ]
     },
     "metadata": {},
     "output_type": "display_data"
    },
    {
     "name": "stdout",
     "output_type": "stream",
     "text": [
      "Added to cast: Chris\n"
     ]
    },
    {
     "data": {
      "text/markdown": [
       "**Interval**: 3 minutes and 41 seconds"
      ],
      "text/plain": [
       "<IPython.core.display.Markdown object>"
      ]
     },
     "metadata": {},
     "output_type": "display_data"
    },
    {
     "data": {
      "text/markdown": [
       "**Starting line**: 02:39:38.093 MATT: Still hitting the skunk."
      ],
      "text/plain": [
       "<IPython.core.display.Markdown object>"
      ]
     },
     "metadata": {},
     "output_type": "display_data"
    },
    {
     "data": {
      "text/markdown": [
       "**Ending line**: 02:43:21.518 MATT: (laughing) All right, so\n",
       "what's the marching order?"
      ],
      "text/plain": [
       "<IPython.core.display.Markdown object>"
      ]
     },
     "metadata": {},
     "output_type": "display_data"
    },
    {
     "data": {
      "text/markdown": [
       "### Episode 51 - Xhorhas"
      ],
      "text/plain": [
       "<IPython.core.display.Markdown object>"
      ]
     },
     "metadata": {},
     "output_type": "display_data"
    },
    {
     "data": {
      "text/markdown": [
       "**Interval**: 3 minutes and 1 second"
      ],
      "text/plain": [
       "<IPython.core.display.Markdown object>"
      ]
     },
     "metadata": {},
     "output_type": "display_data"
    },
    {
     "data": {
      "text/markdown": [
       "**Starting line**: 00:00:32.452 MATT: I mean, that's the goal in general, I think.\n",
       "Anyway, before we get started for tonight's\n",
       "episode, we have some quick announcements to get\n",
       "through. First and foremost, our fantastic\n",
       "returning sponsor and friend of the show since the\n",
       "beginning of this campaign, D&amp;D Beyond. Sam."
      ],
      "text/plain": [
       "<IPython.core.display.Markdown object>"
      ]
     },
     "metadata": {},
     "output_type": "display_data"
    },
    {
     "data": {
      "text/markdown": [
       "**Ending line**: 00:03:47.859 MATT: Discord. Thank you very much, Samuel. Wow,\n",
       "there are a number of spells I will never be able\n",
       "to think of the right way again."
      ],
      "text/plain": [
       "<IPython.core.display.Markdown object>"
      ]
     },
     "metadata": {},
     "output_type": "display_data"
    },
    {
     "data": {
      "text/markdown": [
       "### Episode 52 - Feral Business"
      ],
      "text/plain": [
       "<IPython.core.display.Markdown object>"
      ]
     },
     "metadata": {},
     "output_type": "display_data"
    },
    {
     "name": "stdout",
     "output_type": "stream",
     "text": [
      "Added to cast: Narrator\n"
     ]
    },
    {
     "data": {
      "text/markdown": [
       "**Interval**: 19 minutes and 45 seconds"
      ],
      "text/plain": [
       "<IPython.core.display.Markdown object>"
      ]
     },
     "metadata": {},
     "output_type": "display_data"
    },
    {
     "data": {
      "text/markdown": [
       "**Starting line**: 01:44:13.347 MATT: It's a great color. Or as they put it here:\n",
       "\"genus pertocarpus.\" Pterocarpus, maybe?\n",
       "I don't know. I don't try and pronounce things on\n",
       "this show anymore. I get enough shit as it is. One\n",
       "of you lucky winners gets to win this. Since you\n",
       "are in our Twitch chat, you just have to enter the\n",
       "keyword \"beasts.\" Plural, beasts. Once. More than\n",
       "once and you will be disqualified. Once again,\n",
       "it's only for people in the US and Canada,\n",
       "excluding Quebec, because of dumb laws. We will\n",
       "return here with a winner posthaste. See you guys\n",
       "in a little bit."
      ],
      "text/plain": [
       "<IPython.core.display.Markdown object>"
      ]
     },
     "metadata": {},
     "output_type": "display_data"
    },
    {
     "data": {
      "text/markdown": [
       "**Ending line**: 02:04:32.399 MATT: Welcome back, everyone. Laura will be\n",
       "jumping in here in a second. She's taking care of\n",
       "baby stuff. In the meantime, we have our winner of\n",
       "our Wyrmwood giveaway, which is joechasura. I\n",
       "believe that's the proper name. Joechasura.\n",
       "Congratulations! We'll get you your brand new\n",
       "spanking Wyrmwood dice box ASAP."
      ],
      "text/plain": [
       "<IPython.core.display.Markdown object>"
      ]
     },
     "metadata": {},
     "output_type": "display_data"
    },
    {
     "data": {
      "text/markdown": [
       "### Episode 53 - Cornered"
      ],
      "text/plain": [
       "<IPython.core.display.Markdown object>"
      ]
     },
     "metadata": {},
     "output_type": "display_data"
    },
    {
     "data": {
      "text/markdown": [
       "**Interval**: 12 minutes and 38 seconds"
      ],
      "text/plain": [
       "<IPython.core.display.Markdown object>"
      ]
     },
     "metadata": {},
     "output_type": "display_data"
    },
    {
     "data": {
      "text/markdown": [
       "**Starting line**: 01:59:24.536 MATT: Apparently."
      ],
      "text/plain": [
       "<IPython.core.display.Markdown object>"
      ]
     },
     "metadata": {},
     "output_type": "display_data"
    },
    {
     "data": {
      "text/markdown": [
       "**Ending line**: 02:12:04.089 MATT: And welcome back, everybody. Before we jump\n",
       "back in, we do have a winner tonight. The winner\n",
       "is: 3nd720, 3 like number three, nd, 720!\n",
       "Congratulations."
      ],
      "text/plain": [
       "<IPython.core.display.Markdown object>"
      ]
     },
     "metadata": {},
     "output_type": "display_data"
    },
    {
     "data": {
      "text/markdown": [
       "### Episode 54 - Well Beneath"
      ],
      "text/plain": [
       "<IPython.core.display.Markdown object>"
      ]
     },
     "metadata": {},
     "output_type": "display_data"
    },
    {
     "name": "stdout",
     "output_type": "stream",
     "text": [
      "Added to cast: Laur\n",
      "Added to cast: Jennifer\n"
     ]
    },
    {
     "data": {
      "text/markdown": [
       "**Interval**: 15 minutes and 44 seconds"
      ],
      "text/plain": [
       "<IPython.core.display.Markdown object>"
      ]
     },
     "metadata": {},
     "output_type": "display_data"
    },
    {
     "data": {
      "text/markdown": [
       "**Starting line**: 02:11:20.950 MATT: Now we began this journey five years ago as\n",
       "a bunch of voice actors with a love of storytelling.\n",
       "With your generosity, we can come full circle\n",
       "back to our roots in voiceover animation.\n",
       "Thank you for sharing our excitement\n",
       "and your support of this project."
      ],
      "text/plain": [
       "<IPython.core.display.Markdown object>"
      ]
     },
     "metadata": {},
     "output_type": "display_data"
    },
    {
     "data": {
      "text/markdown": [
       "**Ending line**: 02:27:19.759 MATT: Hello everyone and welcome back.\n",
       "Sorry, we were having discussions\n",
       "about who's better, Joel or Mike.\n",
       "Those of you who know, I'm a Joel guy.\n",
       "We're mostly Joel guys.\n",
       "Bernie's a Mike guy."
      ],
      "text/plain": [
       "<IPython.core.display.Markdown object>"
      ]
     },
     "metadata": {},
     "output_type": "display_data"
    },
    {
     "data": {
      "text/markdown": [
       "### Episode 55 - Duplicity"
      ],
      "text/plain": [
       "<IPython.core.display.Markdown object>"
      ]
     },
     "metadata": {},
     "output_type": "display_data"
    },
    {
     "name": "stdout",
     "output_type": "stream",
     "text": [
      "Added to cast: Biscuit\n",
      "Added to cast: Amy\n"
     ]
    },
    {
     "data": {
      "text/markdown": [
       "**Interval**: 21 minutes and 27 seconds"
      ],
      "text/plain": [
       "<IPython.core.display.Markdown object>"
      ]
     },
     "metadata": {},
     "output_type": "display_data"
    },
    {
     "data": {
      "text/markdown": [
       "**Starting line**: 01:50:52.942 MATT: A beautiful Bolivian rosewood\n",
       "is what we got here tonight.\n",
       "Leather interior. It's very nice.\n",
       "One lucky winner has this at the end of the break.\n",
       "The code word for tonight is below.\n",
       "B-E-L-O-W.\n",
       "Go ahead and enter the word once\n",
       "in the Critical Role Twitch chat,\n",
       "more than once, you'll be disqualified.\n",
       "We will have a winner when we get back.\n",
       "Once again, only US and Canada, excluding Quebec,\n",
       "because dumb laws, but we love you,\n",
       "we'll see you just a second.\n",
       "♪ You got the perfect warlock ♪\n",
       "♪ Her weapons and supplies ♪\n",
       "♪ But you need a place to track your stuff ♪\n",
       "♪ 'Cause you're so disorganized ♪\n",
       "♪ You click, open a web page ♪\n",
       "♪ You heard about a Critical Role ♪\n",
       "♪ And now you're ready to kick some butt ♪\n",
       "♪ In a mind shaft full of gnolls ♪\n",
       "♪ It's D&amp;D, D&amp;D ♪\n",
       "♪ D&amp;D Beyond ♪\n",
       "♪ Yeah, D&amp;D, D&amp;D ♪\n",
       "♪ D&amp;D Beyond ♪\n",
       "♪ You got you stats, you got your sword, ♪\n",
       "♪ And you got your invisible wand ♪\n",
       "♪ It's D&amp;D, D&amp;D, D&amp;D ♪\n",
       "♪ D&amp;D Beyond ♪"
      ],
      "text/plain": [
       "<IPython.core.display.Markdown object>"
      ]
     },
     "metadata": {},
     "output_type": "display_data"
    },
    {
     "data": {
      "text/markdown": [
       "**Ending line**: 02:13:33.020 MATT: And welcome back.\n",
       "Our winner for tonight, for the fantastic\n",
       "Wyrmwood giveaway is King_Wataba.\n",
       "King_Wataba, congratulations.\n",
       "We will have that sent to you ASAP.\n",
       "To get into the speed of things,\n",
       "let's roll a new initiative,\n",
       "since we're now in the secondary combat."
      ],
      "text/plain": [
       "<IPython.core.display.Markdown object>"
      ]
     },
     "metadata": {},
     "output_type": "display_data"
    },
    {
     "data": {
      "text/markdown": [
       "### Episode 56 - The Favor"
      ],
      "text/plain": [
       "<IPython.core.display.Markdown object>"
      ]
     },
     "metadata": {},
     "output_type": "display_data"
    },
    {
     "name": "stdout",
     "output_type": "stream",
     "text": [
      "Added to cast: Ben\n",
      "Added to cast: Aimee\n",
      "Added to cast: Bobby\n",
      "Added to cast: Dave\n",
      "Added to cast: Grey\n",
      "Added to cast: Tim\n",
      "Added to cast: Yvette\n",
      "Added to cast: Tony\n",
      "Added to cast: Whitney\n"
     ]
    },
    {
     "data": {
      "text/markdown": [
       "**Interval**: 13 minutes and 8 seconds"
      ],
      "text/plain": [
       "<IPython.core.display.Markdown object>"
      ]
     },
     "metadata": {},
     "output_type": "display_data"
    },
    {
     "data": {
      "text/markdown": [
       "**Starting line**: 01:40:32.487 MATT: \"Oh! (chuckles)\n",
       "\"Would you look at that? I think it worked.\n",
       "\"You were right, Pumat Number Three.\n",
       "\"All we had to do was invoke that subscription cantrip.\n",
       "(echoing) \"Pumat Number Three?\n",
       "\"Oh boy.\n",
       "\"Well, hello there, I'm Pumat Prime.\n",
       "\"It's good to finally join you here in the Prime dimension.\n",
       "\"I see this is the Twitch Prime realm, I think,\n",
       "\"and oh, we're on the Critical Role channel, aren't we?\n",
       "\"Well, would you look at that, you got chat and everything.\n",
       "\"(chuckles)\n",
       "\"Respectfully, I was looking for the prime rib realm,\n",
       "\"but this isn't too bad.\n",
       "\"You see, if you already have access\n",
       "\"to the Amazon Prime realm, you can get a free subscription\n",
       "\"to the channel of your choice in the Twitch Prime realm.\n",
       "\"The two realms have a pretty good working relationship\n",
       "\"after that peace treaty the prime minister signed\n",
       "\"a few years back.\n",
       "\"You just have to remember to renew your Twitch Prime\n",
       "\"subscription at the top of each month, respectfully,\n",
       "\"and hey, if you're already a subscriber,\n",
       "\"you can spread the joy by gifting a subscription\n",
       "\"using the Gift a Sub button.\n",
       "\"That is, assuming the Empire hasn't sent\n",
       "\"a tax man to your shop here recently.\n",
       "\"All right, well, off to find that darn elusive\n",
       "\"prime rib realm.\n",
       "\"Who knew the prime dimension had so many pockets?\n",
       "\"Good luck. (chuckles)\n",
       "\"Pumat Three!\""
      ],
      "text/plain": [
       "<IPython.core.display.Markdown object>"
      ]
     },
     "metadata": {},
     "output_type": "display_data"
    },
    {
     "data": {
      "text/markdown": [
       "**Ending line**: 01:55:09.660 MATT: Welcome back, everyone.\n",
       "So, we have, the winner of our fantastic giveaway\n",
       "of the awesome tiles from our friends at Wyrmwood,\n",
       "is FurryPhotos.\n",
       "Congratulations, FurryPhotos.\n",
       "You have won this awesome Wyrmwood Kickstarter giveaway.\n",
       "We'll have that to you ASAP."
      ],
      "text/plain": [
       "<IPython.core.display.Markdown object>"
      ]
     },
     "metadata": {},
     "output_type": "display_data"
    },
    {
     "data": {
      "text/markdown": [
       "### Episode 57 - In Love and War"
      ],
      "text/plain": [
       "<IPython.core.display.Markdown object>"
      ]
     },
     "metadata": {},
     "output_type": "display_data"
    },
    {
     "name": "stdout",
     "output_type": "stream",
     "text": [
      "Added to cast: Jason\n"
     ]
    },
    {
     "data": {
      "text/markdown": [
       "**Interval**: 26 minutes and 52 seconds"
      ],
      "text/plain": [
       "<IPython.core.display.Markdown object>"
      ]
     },
     "metadata": {},
     "output_type": "display_data"
    },
    {
     "data": {
      "text/markdown": [
       "**Starting line**: 01:50:23.969 MATT: We're going to go and take a break here for\n",
       "a number of minutes.\n",
       "In the meantime, we do have our giveaway.\n",
       "Our friends at Wyrmwood\n",
       "are giving away another one of their Kickstarter sets\n",
       "of their fantastic, these are monkeywood tabletop tiles.\n",
       "This is the actual [inaudible].\n",
       "You can check out Wyrmwood's Kickstarter\n",
       "for these right now to pick up your own set.\n",
       "They're awesome, they magnetize together\n",
       "and they create all these cool elements.\n",
       "Like there's a dice jail, there's a spell slot coordinator,\n",
       "which you use magnets to pull it out, which is awesome."
      ],
      "text/plain": [
       "<IPython.core.display.Markdown object>"
      ]
     },
     "metadata": {},
     "output_type": "display_data"
    },
    {
     "data": {
      "text/markdown": [
       "**Ending line**: 02:17:47.189 MATT: And welcome back everyone.\n",
       "Well done, Laura!\n",
       "First and foremost, we have our winner of the giveaway.\n",
       "The winner of the Wyrmwood monkeywood tabletop tiles\n",
       "from their Kickstarter is SlyEladrin.\n",
       "(cheering)\n",
       "SlyEladrin, congratulations.\n",
       "It would be, yeah, from what court, though?\n",
       "So yes-- or I should say what season.\n",
       "You go ahead and we'll get that sent out to you ASAP,\n",
       "congratulations.\n",
       "Secondly, we found out during the break that\n",
       "somehow, I don't know, I can't be surprised anymore,\n",
       "you guys pushed through the Kickstarter\n",
       "to the 8.8 million stretch goal\n",
       "during the first half of the game tonight.\n",
       "So here's some motherfucking cheers, guys!"
      ],
      "text/plain": [
       "<IPython.core.display.Markdown object>"
      ]
     },
     "metadata": {},
     "output_type": "display_data"
    },
    {
     "data": {
      "text/markdown": [
       "### Episode 58 - Wood and Steel"
      ],
      "text/plain": [
       "<IPython.core.display.Markdown object>"
      ]
     },
     "metadata": {},
     "output_type": "display_data"
    },
    {
     "name": "stdout",
     "output_type": "stream",
     "text": [
      "Added to cast: Brittany\n"
     ]
    },
    {
     "data": {
      "text/markdown": [
       "**Interval**: 14 minutes and 49 seconds"
      ],
      "text/plain": [
       "<IPython.core.display.Markdown object>"
      ]
     },
     "metadata": {},
     "output_type": "display_data"
    },
    {
     "data": {
      "text/markdown": [
       "**Starting line**: 02:08:28.240 MATT: Yeah, it's about time."
      ],
      "text/plain": [
       "<IPython.core.display.Markdown object>"
      ]
     },
     "metadata": {},
     "output_type": "display_data"
    },
    {
     "data": {
      "text/markdown": [
       "**Ending line**: 02:23:21.170 MATT: Hello everyone and welcome back.\n",
       "First before we get to anything,\n",
       "we have our winner of the giveaway\n",
       "and the winner is HitmanUPS."
      ],
      "text/plain": [
       "<IPython.core.display.Markdown object>"
      ]
     },
     "metadata": {},
     "output_type": "display_data"
    },
    {
     "data": {
      "text/markdown": [
       "### Episode 59 - Perspective"
      ],
      "text/plain": [
       "<IPython.core.display.Markdown object>"
      ]
     },
     "metadata": {},
     "output_type": "display_data"
    },
    {
     "data": {
      "text/markdown": [
       "**Interval**: 21 minutes"
      ],
      "text/plain": [
       "<IPython.core.display.Markdown object>"
      ]
     },
     "metadata": {},
     "output_type": "display_data"
    },
    {
     "data": {
      "text/markdown": [
       "**Starting line**: 01:58:00.607 MATT: We'll be back here in just a few minutes.\n",
       "Before we come back, we do have our Wyrmwood giveaway\n",
       "from my friends at Wyrmwood.\n",
       "Tonight--you get to look at this.\n",
       "This is a fantastic, the tabletop tile sets\n",
       "that they've been making.\n",
       "These are various Wyrmwood types.\n",
       "You can see all the different types of wood available\n",
       "in this cluster here. Be sure to check out\n",
       "Wyrmwood's Kickstarter campaign\n",
       "to pick up your own set if you're interested.\n",
       "They have all different uses,\n",
       "like tiny dice roller set.\n",
       "Tiny dice prison.\n",
       "Trackers for spells and stuff.\n",
       "It's pretty badass, so check it out\n",
       "and see if it's something you like,\n",
       "but we have this to be given away\n",
       "to one of you folks when we return here from the break.\n",
       "Tonight's password is grateful, because we are.\n",
       "It is grateful, enter it once in the chat.\n",
       "Any more than that and you'll be disqualified.\n",
       "For our friends in the U.S. and Canada,\n",
       "and excluding Quebec who are applicable.\n",
       "We'll return here from the break\n",
       "and have a winner shortly.\n",
       "See you in a minute.\n",
       "♪ You got the perfect warlock ♪\n",
       "♪ Her weapons and supplies ♪\n",
       "♪ But you need a place to track your stuff ♪\n",
       "♪ 'Cause you're so disorganized ♪\n",
       "♪ You click open the webpage ♪\n",
       "♪ You heard about on Critical Role ♪\n",
       "♪ And now you're ready to kick some butt ♪\n",
       "♪ In that mineshaft full of gnolls ♪\n",
       "♪ It's D&amp;D ♪\n",
       "♪ D&amp;D ♪\n",
       "♪ D&amp;D Beyond ♪\n",
       "♪ Yeah D&amp;D ♪\n",
       "♪ D&amp;D ♪\n",
       "♪ D&amp;D Beyond ♪\n",
       "♪ You've got your stats ♪\n",
       "♪ You've got your swords ♪\n",
       "♪ And you've got your invisible wand ♪\n",
       "♪ It's D&amp;D ♪\n",
       "♪ D&amp;D ♪\n",
       "♪ D&amp;D ♪\n",
       "♪ D&amp;D ♪\n",
       "♪ D&amp;D Beyond ♪"
      ],
      "text/plain": [
       "<IPython.core.display.Markdown object>"
      ]
     },
     "metadata": {},
     "output_type": "display_data"
    },
    {
     "data": {
      "text/markdown": [
       "**Ending line**: 02:20:41.528 MATT: Hello everyone and welcome back.\n",
       "Before we get into the game, we have our winner.\n",
       "The winner of our Wyrmwood giveaway is, Nitsudje27.\n",
       "Congratulations Nitsudje.\n",
       "Might have been Nit-soo-jay, but Nit-soo-ge it is, 27.\n",
       "We'll get their information\n",
       "and get your win to you as soon as possible.\n",
       "So Mighty Nein.\n",
       "LIAM and TRAVIS: Yes?"
      ],
      "text/plain": [
       "<IPython.core.display.Markdown object>"
      ]
     },
     "metadata": {},
     "output_type": "display_data"
    },
    {
     "data": {
      "text/markdown": [
       "### Episode 60 - A Turtle By Any Other Name"
      ],
      "text/plain": [
       "<IPython.core.display.Markdown object>"
      ]
     },
     "metadata": {},
     "output_type": "display_data"
    },
    {
     "data": {
      "text/markdown": [
       "**Interval**: 18 minutes and 48 seconds"
      ],
      "text/plain": [
       "<IPython.core.display.Markdown object>"
      ]
     },
     "metadata": {},
     "output_type": "display_data"
    },
    {
     "data": {
      "text/markdown": [
       "**Starting line**: 02:05:08.457 MATT: We'll be back here shortly\n",
       "and see what this chaos is going to entail here.\n",
       "We have our Wyrmwood giveaway before we take off.\n",
       "Tonight's password is bedfellows, one word, bedfellows.\n",
       "Put that into our Twitch chat once.\n",
       "More than once and you'll be disqualified\n",
       "and once again this for people in the US and Canada,\n",
       "excluding Quebec because of stupid giveaway laws,\n",
       "but we'll have our winner back here in a few minutes,\n",
       "We'll see you guys then.\n",
       "♪ You got the perfect warlock ♪\n",
       "♪ Her weapons and supplies ♪\n",
       "♪ But you need a place to track your stuff ♪\n",
       "♪ 'Cause you're so disorganized ♪\n",
       "♪ You click open the webpage ♪\n",
       "♪ You heard about on Critical Role ♪\n",
       "♪ And now you're ready to kick some butt ♪\n",
       "♪ In that mineshaft full of gnolls ♪\n",
       "♪ It's D&amp;D, D&amp;D ♪\n",
       "♪ D&amp;D Beyond ♪\n",
       "♪ Yeah D&amp;D, D&amp;D ♪\n",
       "♪ D&amp;D Beyond ♪\n",
       "♪ You got your stats and you've got your swords ♪\n",
       "♪ And you got your invisible wand ♪\n",
       "♪ It's D&amp;D, D&amp;D ♪\n",
       "♪ D&amp;D ♪\n",
       "♪ D&amp;D Beyond ♪"
      ],
      "text/plain": [
       "<IPython.core.display.Markdown object>"
      ]
     },
     "metadata": {},
     "output_type": "display_data"
    },
    {
     "data": {
      "text/markdown": [
       "**Ending line**: 02:25:08.027 MATT: Welcome back.\n",
       "Before we get back to the game,\n",
       "we do have our winner of our Twitch giveaway,\n",
       "which is xgwenthercorpx.\n",
       "xgwenthercorpx.\n",
       "Awesome Xbox Live name and/or AOL account title."
      ],
      "text/plain": [
       "<IPython.core.display.Markdown object>"
      ]
     },
     "metadata": {},
     "output_type": "display_data"
    },
    {
     "data": {
      "text/markdown": [
       "### Episode 61 - Agreements"
      ],
      "text/plain": [
       "<IPython.core.display.Markdown object>"
      ]
     },
     "metadata": {},
     "output_type": "display_data"
    },
    {
     "name": "stdout",
     "output_type": "stream",
     "text": [
      "Added to cast: Binwin\n",
      "Added to cast: Crowy\n",
      "Added to cast: Jerry\n"
     ]
    },
    {
     "data": {
      "text/markdown": [
       "**Interval**: 21 minutes and 47 seconds"
      ],
      "text/plain": [
       "<IPython.core.display.Markdown object>"
      ]
     },
     "metadata": {},
     "output_type": "display_data"
    },
    {
     "data": {
      "text/markdown": [
       "**Starting line**: 01:47:43.163 MATT: In this area?"
      ],
      "text/plain": [
       "<IPython.core.display.Markdown object>"
      ]
     },
     "metadata": {},
     "output_type": "display_data"
    },
    {
     "data": {
      "text/markdown": [
       "**Ending line**: 02:09:31.634 MATT: And welcome back.\n",
       "Before we get into the game\n",
       "we do have our winner of our Wyrmwood giveaway.\n",
       "Congratulations to KittyCatPaddyWhack.\n",
       "KittyCatPaddyWhack, we'll get that sent out to you ASAP.\n",
       "Well done, y'all take care."
      ],
      "text/plain": [
       "<IPython.core.display.Markdown object>"
      ]
     },
     "metadata": {},
     "output_type": "display_data"
    },
    {
     "data": {
      "text/markdown": [
       "### Episode 62 - Domestic Respite"
      ],
      "text/plain": [
       "<IPython.core.display.Markdown object>"
      ]
     },
     "metadata": {},
     "output_type": "display_data"
    },
    {
     "data": {
      "text/markdown": [
       "**Interval**: 18 minutes and 45 seconds"
      ],
      "text/plain": [
       "<IPython.core.display.Markdown object>"
      ]
     },
     "metadata": {},
     "output_type": "display_data"
    },
    {
     "data": {
      "text/markdown": [
       "**Starting line**: 02:07:33.683 MATT: This awesome Figured Myrtle tabletop tray here,\n",
       "a beautiful wood inlay, leather interior\n",
       "from our friends at Wyrmwood, expertly crafted.\n",
       "Going to one of you lucky winners out there.\n",
       "Tonight's password is patron, P-A-T-R-O-N.\n",
       "So go ahead and enter it once in the chat on Twitch,\n",
       "more than that, you'll be disqualified.\n",
       "Once again, only US and Canada, excluding Quebec,\n",
       "because of stupid laws, but we'll come back here shortly\n",
       "with a winner. See you guys in a second.\n",
       "♪ You've got the perfect warlock ♪\n",
       "♪ Her weapons and supplies ♪\n",
       "♪ But you need a place to track your stuff ♪\n",
       "♪ 'Cause you're so disorganized ♪\n",
       "♪ You click open the webpage ♪\n",
       "♪ You heard about on Critical Role ♪\n",
       "♪ And now you're ready to kick some butt ♪\n",
       "♪ In a mineshaft full of gnolls ♪\n",
       "♪ It's D&amp;D, D&amp;D ♪\n",
       "♪ Yeah, D&amp;D Beyond ♪\n",
       "♪ Yeah, D&amp;D, D&amp;D ♪\n",
       "♪ D&amp;D Beyond ♪\n",
       "♪ You got your stats, you got your sword ♪\n",
       "♪ And you got your invisible wand ♪\n",
       "♪ It's D&amp;D, D&amp;D ♪\n",
       "♪ D&amp;D, D&amp;D ♪\n",
       "♪ D&amp;D Beyond ♪\n",
       "BRIAN (VO): Last time on Talks Machina."
      ],
      "text/plain": [
       "<IPython.core.display.Markdown object>"
      ]
     },
     "metadata": {},
     "output_type": "display_data"
    },
    {
     "data": {
      "text/markdown": [
       "**Ending line**: 02:27:36.960 MATT: Hello, everyone, and welcome back.\n",
       "So first, we have our winner of our giveaway,\n",
       "it is, congratulations to\n",
       "Wombandonly.\n",
       "TRAVIS: Womandonly?"
      ],
      "text/plain": [
       "<IPython.core.display.Markdown object>"
      ]
     },
     "metadata": {},
     "output_type": "display_data"
    },
    {
     "data": {
      "text/markdown": [
       "### Episode 63 - Intervention"
      ],
      "text/plain": [
       "<IPython.core.display.Markdown object>"
      ]
     },
     "metadata": {},
     "output_type": "display_data"
    },
    {
     "data": {
      "text/markdown": [
       "**Interval**: 12 minutes and 37 seconds"
      ],
      "text/plain": [
       "<IPython.core.display.Markdown object>"
      ]
     },
     "metadata": {},
     "output_type": "display_data"
    },
    {
     "data": {
      "text/markdown": [
       "**Starting line**: 02:16:52.528 MATT: (grunting)\n",
       "\"Oh,\n",
       "\"would you look at that?\n",
       "\"I think it worked.\n",
       "\"You were right, Pumat Number 3,\n",
       "\"all we had to do is invoke that subscription cantrip.\n",
       "\"Pumat Number 3?\n",
       "\"Oh boy,\n",
       "\"well hello there,\n",
       "\"I'm Pumat Prime.\n",
       "\"It's good to finally join you here\n",
       "\"in the Prime Dimension.\n",
       "\"I see this is the Twitch Prime Realm, I think, and\n",
       "\"oh, we're on the Critical Role channel, aren't we?\n",
       "\"Well, would you look at that?\n",
       "\"You got chat and everything.\n",
       "\"Respectfully, I was looking for the Prime Rib Realm,\n",
       "\"but this isn't too bad.\n",
       "\"You see, if you already have access\n",
       "\"to the Amazon Prime realm,\n",
       "\"you can get a free subscription\n",
       "\"to the channel of your choice\n",
       "\"in the Twitch Prime Realm.\n",
       "\"The two realms have a pretty good working relationship\n",
       "\"after that peace treaty\n",
       "\"the prime minister signed a few years back.\n",
       "\"You just have to remember\n",
       "\"to renew your Twitch Prime subscription\n",
       "\"at the top of each month, respectfully.\n",
       "\"And hey, if you're already a subscriber,\n",
       "\"you can spread the joy by gifting a subscription\n",
       "\"using the Gift a Sub button.\n",
       "\"That is assuming the Empire\n",
       "\"hasn't sent a tax man to your shop here recently.\n",
       "\"(nervous laughter)\n",
       "\"All right, well off to find that darn elusive\n",
       "\"Prime Rib Realm.\n",
       "\"Who knew the Prime Dimension had so many pockets?\n",
       "\"Good luck. (chuckles)\n",
       "\"Pumat 3?\"\n",
       "TALIESIN (VO): Subscribe.\n",
       "Resubscribe.\n",
       "Brian Foster is not a cabbage."
      ],
      "text/plain": [
       "<IPython.core.display.Markdown object>"
      ]
     },
     "metadata": {},
     "output_type": "display_data"
    },
    {
     "data": {
      "text/markdown": [
       "**Ending line**: 02:31:16.437 MATT: Welcome back.\n",
       "TRAVIS: Nobody said anything."
      ],
      "text/plain": [
       "<IPython.core.display.Markdown object>"
      ]
     },
     "metadata": {},
     "output_type": "display_data"
    },
    {
     "data": {
      "text/markdown": [
       "### Episode 64 - A Dangerous Chase"
      ],
      "text/plain": [
       "<IPython.core.display.Markdown object>"
      ]
     },
     "metadata": {},
     "output_type": "display_data"
    },
    {
     "name": "stdout",
     "output_type": "stream",
     "text": [
      "Added to cast: Producer\n"
     ]
    },
    {
     "data": {
      "text/markdown": [
       "**Interval**: 16 minutes and 26 seconds"
      ],
      "text/plain": [
       "<IPython.core.display.Markdown object>"
      ]
     },
     "metadata": {},
     "output_type": "display_data"
    },
    {
     "data": {
      "text/markdown": [
       "**Starting line**: 01:36:24.052 MATT: Love you guys.\n",
       "MARISHA: Bye. (laughs)\n",
       "BRIAN (VO): Last time on Talks Machina."
      ],
      "text/plain": [
       "<IPython.core.display.Markdown object>"
      ]
     },
     "metadata": {},
     "output_type": "display_data"
    },
    {
     "data": {
      "text/markdown": [
       "**Ending line**: 01:53:03.692 MATT: And welcome back.\n",
       "So.\n",
       "First and foremost, we have our winner of the giveaway.\n",
       "The winner of our fantastic"
      ],
      "text/plain": [
       "<IPython.core.display.Markdown object>"
      ]
     },
     "metadata": {},
     "output_type": "display_data"
    },
    {
     "data": {
      "text/markdown": [
       "### Episode 65 - Chases and Trees"
      ],
      "text/plain": [
       "<IPython.core.display.Markdown object>"
      ]
     },
     "metadata": {},
     "output_type": "display_data"
    },
    {
     "name": "stdout",
     "output_type": "stream",
     "text": [
      "Added to cast: Offscreen\n"
     ]
    },
    {
     "data": {
      "text/markdown": [
       "**Interval**: 13 minutes and 23 seconds"
      ],
      "text/plain": [
       "<IPython.core.display.Markdown object>"
      ]
     },
     "metadata": {},
     "output_type": "display_data"
    },
    {
     "data": {
      "text/markdown": [
       "**Starting line**: 02:14:05.924 MATT: Nice.\n",
       "TALIESIN: Nice."
      ],
      "text/plain": [
       "<IPython.core.display.Markdown object>"
      ]
     },
     "metadata": {},
     "output_type": "display_data"
    },
    {
     "data": {
      "text/markdown": [
       "**Ending line**: 02:27:30.616 MATT: And welcome back, slow on the draw, Liam O'Brien."
      ],
      "text/plain": [
       "<IPython.core.display.Markdown object>"
      ]
     },
     "metadata": {},
     "output_type": "display_data"
    },
    {
     "data": {
      "text/markdown": [
       "### Episode 66 - Beneath Bazzoxan"
      ],
      "text/plain": [
       "<IPython.core.display.Markdown object>"
      ]
     },
     "metadata": {},
     "output_type": "display_data"
    },
    {
     "name": "stdout",
     "output_type": "stream",
     "text": [
      "Added to cast: Christina\n"
     ]
    },
    {
     "data": {
      "text/markdown": [
       "**Interval**: 21 minutes and 36 seconds"
      ],
      "text/plain": [
       "<IPython.core.display.Markdown object>"
      ]
     },
     "metadata": {},
     "output_type": "display_data"
    },
    {
     "data": {
      "text/markdown": [
       "**Starting line**: 01:36:19.715 MATT: We want it only once.\n",
       "More than once and you'll be disqualified.\n",
       "We'll have one winner in return.\n",
       "Of course, for US and Canada, excluding Quebec.\n",
       "We'll see you guys in a few minutes."
      ],
      "text/plain": [
       "<IPython.core.display.Markdown object>"
      ]
     },
     "metadata": {},
     "output_type": "display_data"
    },
    {
     "data": {
      "text/markdown": [
       "**Ending line**: 01:58:03.760 MATT: Welcome back.\n",
       "We have our winner of the giveaway.\n",
       "The winner is Kmell86.\n",
       "Kmell86, congratulations.\n",
       "K-M-E-L-L 86.\n",
       "We'll get your winning dice box to you ASAP.\n",
       "Laura will be joining us in just a moment.\n",
       "She's finishing up there."
      ],
      "text/plain": [
       "<IPython.core.display.Markdown object>"
      ]
     },
     "metadata": {},
     "output_type": "display_data"
    },
    {
     "data": {
      "text/markdown": [
       "### Episode 67 - Beyond the Eyes of Angels"
      ],
      "text/plain": [
       "<IPython.core.display.Markdown object>"
      ]
     },
     "metadata": {},
     "output_type": "display_data"
    },
    {
     "data": {
      "text/markdown": [
       "**Interval**: 24 minutes and 17 seconds"
      ],
      "text/plain": [
       "<IPython.core.display.Markdown object>"
      ]
     },
     "metadata": {},
     "output_type": "display_data"
    },
    {
     "data": {
      "text/markdown": [
       "**Starting line**: 02:36:15.455 MATT: Not that far off.\n",
       "We'll be back here in a few minutes.\n",
       "We'll see you guys shortly.\n",
       "♪ You've got the perfect warlock ♪\n",
       "♪ Her weapons and supplies ♪\n",
       "♪ But you need a place to track your stuff ♪\n",
       "♪ 'cause you're so disorganized. ♪\n",
       "♪ You click open the webpage ♪\n",
       "♪ You heard about on Critical Role ♪\n",
       "♪ And now you're ready to kick some butt ♪\n",
       "♪ In that mineshaft full of gnolls ♪\n",
       "♪ It's D&amp;D! ♪\n",
       "♪ D&amp;D ♪\n",
       "♪ D&amp;D Beyond. Yeah, D&amp;D! ♪\n",
       "♪ D&amp;D Beyond ♪\n",
       "♪ You've got your stats, you've got your sword ♪\n",
       "♪ And you've got your invisible wand. ♪\n",
       "♪ It's D&amp;D, D&amp;D ♪\n",
       "♪ D&amp;D ♪\n",
       "♪ D&amp;D Beyond ♪\n",
       "TRAVIS (VO): Last time on Yee-Haw Game Ranch."
      ],
      "text/plain": [
       "<IPython.core.display.Markdown object>"
      ]
     },
     "metadata": {},
     "output_type": "display_data"
    },
    {
     "data": {
      "text/markdown": [
       "**Ending line**: 03:01:29.573 MATT: Welcome back, everybody.\n",
       "So we have a winner for our giveaway.\n",
       "The winner, one of my favorite online handles in a while,\n",
       "siegeweasel.\n",
       "TRAVIS: Oh, yeah!"
      ],
      "text/plain": [
       "<IPython.core.display.Markdown object>"
      ]
     },
     "metadata": {},
     "output_type": "display_data"
    },
    {
     "data": {
      "text/markdown": [
       "### Episode 68 - Reflections"
      ],
      "text/plain": [
       "<IPython.core.display.Markdown object>"
      ]
     },
     "metadata": {},
     "output_type": "display_data"
    },
    {
     "name": "stdout",
     "output_type": "stream",
     "text": [
      "Added to cast: Erica\n"
     ]
    },
    {
     "data": {
      "text/markdown": [
       "**Interval**: 19 minutes and 41 seconds"
      ],
      "text/plain": [
       "<IPython.core.display.Markdown object>"
      ]
     },
     "metadata": {},
     "output_type": "display_data"
    },
    {
     "data": {
      "text/markdown": [
       "**Starting line**: 02:02:36.866 MATT: Wait, Max is Brian?\n",
       "That doesn't even...\n",
       "Where'd everyone go?\n",
       "I guess it is the lonely couch after all.\n",
       "The fools.\n",
       "Well then,\n",
       "if they won't help me build CR Land,\n",
       "I'll just have to do it myself.\n",
       "FEMALE NARRATOR (V.O.): Delightful.\n",
       "Unrivaled.\n",
       "Beauteous.\n",
       "Sublime.\n",
       "Ceramic.\n",
       "TRAVIS (V.O.): (as Grog)\n",
       "♪ Da best part of dis mug ♪\n",
       "♪ Is that it can hold ale! ♪ Hee hee! ♪\n",
       "TRAVIS (V.O.): Previously on MAME Drop."
      ],
      "text/plain": [
       "<IPython.core.display.Markdown object>"
      ]
     },
     "metadata": {},
     "output_type": "display_data"
    },
    {
     "data": {
      "text/markdown": [
       "**Ending line**: 02:23:25.838 MATT: And welcome back, everybody."
      ],
      "text/plain": [
       "<IPython.core.display.Markdown object>"
      ]
     },
     "metadata": {},
     "output_type": "display_data"
    },
    {
     "data": {
      "text/markdown": [
       "### Episode 69 - The King's Cage"
      ],
      "text/plain": [
       "<IPython.core.display.Markdown object>"
      ]
     },
     "metadata": {},
     "output_type": "display_data"
    },
    {
     "name": "stdout",
     "output_type": "stream",
     "text": [
      "Added to cast: Both\n"
     ]
    },
    {
     "data": {
      "text/markdown": [
       "**Interval**: 24 minutes and 6 seconds"
      ],
      "text/plain": [
       "<IPython.core.display.Markdown object>"
      ]
     },
     "metadata": {},
     "output_type": "display_data"
    },
    {
     "data": {
      "text/markdown": [
       "**Starting line**: 01:30:05.450 MATT: It has a granite inlay which is fun.\n",
       "Tonight's key word is mirror, M-I-R-R-O-R.\n",
       "So enter the word mirror once.\n",
       "More than once and you'll be disqualified, into our chat.\n",
       "For folks in the US and Canada, excluding Quebec,\n",
       "you have the chance to win this when we return\n",
       "from our break.\n",
       "We'll see you here shortly.\n",
       "LIAM and ASHLEY: 69.\n",
       "♪ You got the perfect warlock ♪\n",
       "♪ Her weapons and supplies ♪\n",
       "♪ But you need a place to track your stuff ♪\n",
       "♪ 'cause you're so disorganized ♪\n",
       "♪ You click open the webpage ♪\n",
       "♪ You heard about on Critical Role ♪\n",
       "♪ And now you're ready to kick some butt ♪\n",
       "♪ In that mineshaft full of gnolls ♪\n",
       "♪ It's D&amp;D, D&amp;D ♪\n",
       "♪ D&amp;D Beyond ♪\n",
       "♪ Yeah, D&amp;D, D&amp;D ♪\n",
       "♪ D&amp;D Beyond ♪\n",
       "♪ You got your stats ♪\n",
       "♪ You've got your swords ♪\n",
       "♪ And you got your invisible wand ♪\n",
       "♪ It's D&amp;D, D&amp;D ♪\n",
       "♪ D&amp;D, D&amp;D ♪\n",
       "♪ D&amp;D Beyond ♪"
      ],
      "text/plain": [
       "<IPython.core.display.Markdown object>"
      ]
     },
     "metadata": {},
     "output_type": "display_data"
    },
    {
     "data": {
      "text/markdown": [
       "**Ending line**: 01:55:17.883 MATT: And welcome back.\n",
       "So before we get into the next leg of this combat,\n",
       "we have our winner of our Wyrmwood giveaway\n",
       "who gets the dice vault, the dwarven dice vault.\n",
       "The winner is Default Prophet."
      ],
      "text/plain": [
       "<IPython.core.display.Markdown object>"
      ]
     },
     "metadata": {},
     "output_type": "display_data"
    },
    {
     "data": {
      "text/markdown": [
       "### Episode 70 - Causatum"
      ],
      "text/plain": [
       "<IPython.core.display.Markdown object>"
      ]
     },
     "metadata": {},
     "output_type": "display_data"
    },
    {
     "data": {
      "text/markdown": [
       "**Interval**: 13 minutes and 10 seconds"
      ],
      "text/plain": [
       "<IPython.core.display.Markdown object>"
      ]
     },
     "metadata": {},
     "output_type": "display_data"
    },
    {
     "data": {
      "text/markdown": [
       "**Starting line**: 02:09:22.960 MATT: (groans)\n",
       "Well, would you look at that.\n",
       "I think it worked.\n",
       "You were right, Pumat Number Three.\n",
       "All we had to do was invoke that subscription cantrip.\n",
       "Pumat, Pumat Number Three?\n",
       "Oh boy.\n",
       "Well, hello there!\n",
       "I am Pumat Prime.\n",
       "It's good to finally join you here in the Prime Dimension.\n",
       "Ah, I see this is the Twitch Prime Realm, I think?\n",
       "And, oh.\n",
       "We're in the Critical Role channel, aren't we?\n",
       "Well, would you look at that, you got chat and everything.\n",
       "Respectfully, I was looking for the Prime Rib Realm\n",
       "but this isn't too bad.\n",
       "You see, if you already have access\n",
       "to the Amazon Prime Realm, you can get a free subscription\n",
       "to the channel of your choice in the Twitch Prime Realm.\n",
       "The two realms have a pretty good working relationship\n",
       "after that peace treaty\n",
       "the prime ministers signed a few years back.\n",
       "You just have to remember to renew\n",
       "your Twitch Prime subscription at the top of each month.\n",
       "Respectfully.\n",
       "And hey.\n",
       "If you're already a subscriber,\n",
       "you can spread the joy by gifting a subscription\n",
       "using the Gift a Sub button.\n",
       "That is assuming the Empire hasn't sent a tax man to\n",
       "your shop here recently. (nervous laughter)\n",
       "All right, well, off to find that\n",
       "darn elusive Prime Rib Realm.\n",
       "Who know the Prime Dimension had so many pockets?\n",
       "Good luck!\n",
       "Pumat Three?\n",
       "TALIESIN (V.O.): Subscribe.\n",
       "Resubscribe.\n",
       "Brian Foster is not a cabbage."
      ],
      "text/plain": [
       "<IPython.core.display.Markdown object>"
      ]
     },
     "metadata": {},
     "output_type": "display_data"
    },
    {
     "data": {
      "text/markdown": [
       "**Ending line**: 02:24:18.504 MATT: And welcome back.\n",
       "So...\n",
       "(laughter)\n",
       "We have our winner of the Pride dice vault.\n",
       "The winner is Drewcifer333.\n",
       "Congratulations, Drewcifer,\n",
       "we'll go ahead and get your vault ASAP."
      ],
      "text/plain": [
       "<IPython.core.display.Markdown object>"
      ]
     },
     "metadata": {},
     "output_type": "display_data"
    },
    {
     "data": {
      "text/markdown": [
       "### Episode 71 - Family Gathering"
      ],
      "text/plain": [
       "<IPython.core.display.Markdown object>"
      ]
     },
     "metadata": {},
     "output_type": "display_data"
    },
    {
     "name": "stdout",
     "output_type": "stream",
     "text": [
      "Added to cast: Ronin\n",
      "Added to cast: Siri\n"
     ]
    },
    {
     "data": {
      "text/markdown": [
       "**Interval**: 21 minutes and 16 seconds"
      ],
      "text/plain": [
       "<IPython.core.display.Markdown object>"
      ]
     },
     "metadata": {},
     "output_type": "display_data"
    },
    {
     "data": {
      "text/markdown": [
       "**Starting line**: 01:57:03.915 MATT: K-I-L-N, once.\n",
       "More than once and you'll be disqualified,\n",
       "in the chat for people in the US and Canada,\n",
       "excluding Quebec, we'll have a winner for you\n",
       "when we get back here in a few minutes.\n",
       "See you soon.\n",
       "♪ You got the perfect warlock ♪\n",
       "♪ Her weapons and supplies ♪\n",
       "♪ But you need a place to track your stuff ♪\n",
       "♪ 'Cause you're so disorganized ♪\n",
       "♪ You click, open the web page ♪\n",
       "♪ You heard about on Critical Role ♪\n",
       "♪ And now you're ready to kick some butt ♪\n",
       "♪ In that mineshaft full of gnolls ♪\n",
       "♪ It's D&amp;D, D&amp;D ♪\n",
       "♪ Yeah, D&amp;D Beyond ♪\n",
       "♪ Yeah, D&amp;D, D&amp;D ♪\n",
       "♪ Yeah, D&amp;D Beyond ♪\n",
       "♪ You got your stats, you've got your swords ♪\n",
       "♪ And you got your invisible wand ♪\n",
       "♪ It's D&amp;D, D&amp;D ♪\n",
       "♪ D&amp;D ♪\n",
       "♪ D&amp;D Beyond ♪"
      ],
      "text/plain": [
       "<IPython.core.display.Markdown object>"
      ]
     },
     "metadata": {},
     "output_type": "display_data"
    },
    {
     "data": {
      "text/markdown": [
       "**Ending line**: 02:19:18.138 MATT: Welcome back.\n",
       "Before we get into the game,\n",
       "we do have our winner of the Wyrmwood dice vault\n",
       "for the evening. The winner is Stonefoxspqr.\n",
       "Stonefox-S-P-Q-R.\n",
       "Spqr.\n",
       "Congratulations."
      ],
      "text/plain": [
       "<IPython.core.display.Markdown object>"
      ]
     },
     "metadata": {},
     "output_type": "display_data"
    },
    {
     "data": {
      "text/markdown": [
       "### Episode 72 - Clay and Dust"
      ],
      "text/plain": [
       "<IPython.core.display.Markdown object>"
      ]
     },
     "metadata": {},
     "output_type": "display_data"
    },
    {
     "name": "stdout",
     "output_type": "stream",
     "text": [
      "Added to cast: Benwin\n",
      "Added to cast: Ryan\n"
     ]
    },
    {
     "data": {
      "text/markdown": [
       "**Interval**: 17 minutes and 14 seconds"
      ],
      "text/plain": [
       "<IPython.core.display.Markdown object>"
      ]
     },
     "metadata": {},
     "output_type": "display_data"
    },
    {
     "data": {
      "text/markdown": [
       "**Starting line**: 02:23:27.704 MATT: Well it's a multiplier."
      ],
      "text/plain": [
       "<IPython.core.display.Markdown object>"
      ]
     },
     "metadata": {},
     "output_type": "display_data"
    },
    {
     "data": {
      "text/markdown": [
       "**Ending line**: 02:40:43.491 MATT: And welcome back.\n",
       "Before we get back into the game,\n",
       "we have our winner of the pah-dook dice vault,\n",
       "I've been corrected,\n",
       "as well as pawduck, some people have corrected.\n",
       "I've gotten multiple different pronunciation corrections\n",
       "on that, so I don't know who's right.\n",
       "Internet, always useful.\n",
       "The winner of the dice vault is Tarckturine.\n",
       "Tarckturine."
      ],
      "text/plain": [
       "<IPython.core.display.Markdown object>"
      ]
     },
     "metadata": {},
     "output_type": "display_data"
    },
    {
     "data": {
      "text/markdown": [
       "### Episode 73 - Uthodurn"
      ],
      "text/plain": [
       "<IPython.core.display.Markdown object>"
      ]
     },
     "metadata": {},
     "output_type": "display_data"
    },
    {
     "name": "stdout",
     "output_type": "stream",
     "text": [
      "Added to cast: Amanda\n"
     ]
    },
    {
     "data": {
      "text/markdown": [
       "**Interval**: 22 minutes and 37 seconds"
      ],
      "text/plain": [
       "<IPython.core.display.Markdown object>"
      ]
     },
     "metadata": {},
     "output_type": "display_data"
    },
    {
     "data": {
      "text/markdown": [
       "**Starting line**: 02:06:11.740 MATT: (laughs) You guys didn't roll well for stealth and\n",
       "on my table, I rolled that encounter."
      ],
      "text/plain": [
       "<IPython.core.display.Markdown object>"
      ]
     },
     "metadata": {},
     "output_type": "display_data"
    },
    {
     "data": {
      "text/markdown": [
       "**Ending line**: 02:28:54.870 MATT: And welcome back."
      ],
      "text/plain": [
       "<IPython.core.display.Markdown object>"
      ]
     },
     "metadata": {},
     "output_type": "display_data"
    },
    {
     "data": {
      "text/markdown": [
       "### Episode 74 - Manifold Morals"
      ],
      "text/plain": [
       "<IPython.core.display.Markdown object>"
      ]
     },
     "metadata": {},
     "output_type": "display_data"
    },
    {
     "name": "stdout",
     "output_type": "stream",
     "text": [
      "Added to cast: Adam\n",
      "Added to cast: Mica\n"
     ]
    },
    {
     "data": {
      "text/markdown": [
       "**Interval**: 22 minutes and 35 seconds"
      ],
      "text/plain": [
       "<IPython.core.display.Markdown object>"
      ]
     },
     "metadata": {},
     "output_type": "display_data"
    },
    {
     "data": {
      "text/markdown": [
       "**Starting line**: 02:09:13.501 MATT: I have to go to his house\n",
       "and pick up his dry cleaning after this."
      ],
      "text/plain": [
       "<IPython.core.display.Markdown object>"
      ]
     },
     "metadata": {},
     "output_type": "display_data"
    },
    {
     "data": {
      "text/markdown": [
       "**Ending line**: 02:31:51.945 MATT: And welcome back.\n",
       "Before we jump in,\n",
       "we do have the winner of the Wyrmwood giveaway,\n",
       "of our fantastic Purple Heart dice tray.\n",
       "The winner is AshenArt.\n",
       "AshenArt, congratulations. We'll get that sent to you ASAP."
      ],
      "text/plain": [
       "<IPython.core.display.Markdown object>"
      ]
     },
     "metadata": {},
     "output_type": "display_data"
    },
    {
     "data": {
      "text/markdown": [
       "### Episode 75 - Rime and Reason"
      ],
      "text/plain": [
       "<IPython.core.display.Markdown object>"
      ]
     },
     "metadata": {},
     "output_type": "display_data"
    },
    {
     "data": {
      "text/markdown": [
       "**Interval**: 24 minutes and 18 seconds"
      ],
      "text/plain": [
       "<IPython.core.display.Markdown object>"
      ]
     },
     "metadata": {},
     "output_type": "display_data"
    },
    {
     "data": {
      "text/markdown": [
       "**Starting line**: 02:24:12.107 MATT: Perfect.\n",
       "♪ You got the perfect warlock ♪\n",
       "♪ Her weapons and supplies ♪\n",
       "♪ But you need a place to track your stuff ♪\n",
       "♪ 'Cause you're so disorganized ♪\n",
       "♪ You click open the web page ♪\n",
       "♪ You heard about on Critical Role ♪\n",
       "♪ And now you're ready to kick some butt ♪\n",
       "♪ In that mineshaft full of gnolls ♪\n",
       "♪ It's D&amp;D, D&amp;D ♪\n",
       "♪ Yeah, D&amp;D Beyond ♪\n",
       "♪ Yeah D&amp;D, D&amp;D ♪\n",
       "♪ Yeah, D&amp;D Beyond ♪\n",
       "♪ You got your stats, you've got your swords ♪\n",
       "♪ And you got your invisible wand ♪\n",
       "♪ It's D&amp;D, D&amp;D ♪\n",
       "♪ D&amp;D ♪\n",
       "♪ D&amp;D Beyond ♪"
      ],
      "text/plain": [
       "<IPython.core.display.Markdown object>"
      ]
     },
     "metadata": {},
     "output_type": "display_data"
    },
    {
     "data": {
      "text/markdown": [
       "**Ending line**: 02:49:17.698 MATT: And welcome back.\n",
       "Aww, almost.\n",
       "Almost.\n",
       "So we have our winner of our Wyrmwood giveaway.\n",
       "The winner is Moonsstorm, with two S's,\n",
       "Moonsstorm, congratulations.\n",
       "We'll get you your victory Wyrmwood dice tray ASAP.\n",
       "Now, in the interim, Mighty Nein,\n",
       "you come to consciousness within the cavern\n",
       "after a long rest within the eight hours\n",
       "that you've rested,\n",
       "which was not long after the sun set.\n",
       "It is still dark."
      ],
      "text/plain": [
       "<IPython.core.display.Markdown object>"
      ]
     },
     "metadata": {},
     "output_type": "display_data"
    },
    {
     "data": {
      "text/markdown": [
       "### Episode 76 - Refjorged"
      ],
      "text/plain": [
       "<IPython.core.display.Markdown object>"
      ]
     },
     "metadata": {},
     "output_type": "display_data"
    },
    {
     "name": "stdout",
     "output_type": "stream",
     "text": [
      "Added to cast: Steve\n"
     ]
    },
    {
     "data": {
      "text/markdown": [
       "**Interval**: 18 minutes and 40 seconds"
      ],
      "text/plain": [
       "<IPython.core.display.Markdown object>"
      ]
     },
     "metadata": {},
     "output_type": "display_data"
    },
    {
     "data": {
      "text/markdown": [
       "**Starting line**: 01:54:10.290 MATT: It's happening!"
      ],
      "text/plain": [
       "<IPython.core.display.Markdown object>"
      ]
     },
     "metadata": {},
     "output_type": "display_data"
    },
    {
     "data": {
      "text/markdown": [
       "**Ending line**: 02:12:52.181 MATT: And welcome back.\n",
       "So, before we jump back in, we have our winner\n",
       "of our awesome Wyrmwood giveaway is-- I'm excited.\n",
       "Congratulations to Poop_d_pants."
      ],
      "text/plain": [
       "<IPython.core.display.Markdown object>"
      ]
     },
     "metadata": {},
     "output_type": "display_data"
    },
    {
     "data": {
      "text/markdown": [
       "### Episode 77 - A Tangled Web"
      ],
      "text/plain": [
       "<IPython.core.display.Markdown object>"
      ]
     },
     "metadata": {},
     "output_type": "display_data"
    },
    {
     "data": {
      "text/markdown": [
       "**Interval**: 13 minutes"
      ],
      "text/plain": [
       "<IPython.core.display.Markdown object>"
      ]
     },
     "metadata": {},
     "output_type": "display_data"
    },
    {
     "data": {
      "text/markdown": [
       "**Starting line**: 01:43:29.193 MATT: (groaning)\n",
       "Oh.\n",
       "Would you look at that, I think it worked.\n",
       "You were right, Pumat number three.\n",
       "All we had to do was invoke that subscription cantrip.\n",
       "Pumat number three?\n",
       "Oh boy.\n",
       "Well, hello there, I'm Pumat Prime.\n",
       "It's good to finally join you here in the Prime dimension.\n",
       "I see this is the Twitch Prime realm I think and,\n",
       "whoa,\n",
       "we're on the Critical Role channel, aren't we?\n",
       "Well, would you look at that?\n",
       "You got chat and everything.\n",
       "Respectfully, I was looking\n",
       "for the prime rib realm, but this isn't too bad.\n",
       "You see, if you already have access\n",
       "to the Amazon Prime realm, you can\n",
       "get a free subscription to the channel\n",
       "of your choice in the Twitch Prime realm.\n",
       "The two realms have a pretty good working\n",
       "relationship after that peace treaty\n",
       "the Prime Minister signed a few years back.\n",
       "You just have to remember to renew your Twitch\n",
       "Prime subscription at the top of each month,\n",
       "respectfully and hey, if you're already a subscriber,\n",
       "you can spread the joy by gifting\n",
       "a subscription using the Gift a Sub button.\n",
       "That is, assuming the Empire hasn't\n",
       "sent the tax man to your shop here recently.\n",
       "All right, well off to find\n",
       "that darn elusive prime rib realm.\n",
       "Who knew the Prime dimension had so many pockets?\n",
       "Good luck.\n",
       "Pumat three?\n",
       "TALIESIN (V.O.): Subscribe.\n",
       "Re-subscribe.\n",
       "Brian Foster is not a cabbage."
      ],
      "text/plain": [
       "<IPython.core.display.Markdown object>"
      ]
     },
     "metadata": {},
     "output_type": "display_data"
    },
    {
     "data": {
      "text/markdown": [
       "**Ending line**: 01:58:15.269 MATT: Welcome back, everybody.\n",
       "Before we get into the game, we have a winner.\n",
       "The winner of the awesome Wyrmwood\n",
       "giveaway box is musicmaiden97."
      ],
      "text/plain": [
       "<IPython.core.display.Markdown object>"
      ]
     },
     "metadata": {},
     "output_type": "display_data"
    },
    {
     "data": {
      "text/markdown": [
       "### Episode 78 - Between the Lines"
      ],
      "text/plain": [
       "<IPython.core.display.Markdown object>"
      ]
     },
     "metadata": {},
     "output_type": "display_data"
    },
    {
     "data": {
      "text/markdown": [
       "**Interval**: 21 minutes and 30 seconds"
      ],
      "text/plain": [
       "<IPython.core.display.Markdown object>"
      ]
     },
     "metadata": {},
     "output_type": "display_data"
    },
    {
     "data": {
      "text/markdown": [
       "**Starting line**: 01:57:34.883 MATT: Dragon head design right there,\n",
       "this is the Crystal Sully design.\n",
       "This is currently available through Wyrmwood's\n",
       "Kickstarter campaigns, so go ahead and check it out\n",
       "when you get a chance.\n",
       "The keyword for tonight is homeward,\n",
       "H-O-M-E-W-A-R-D, one word.\n",
       "Enter only once, more than once, you'll be disqualified,\n",
       "and once again, for folks in the US and Canada,\n",
       "excluding Quebec. We'll be back here in a few minutes\n",
       "with a winner.\n",
       "We'll see you in just a moment."
      ],
      "text/plain": [
       "<IPython.core.display.Markdown object>"
      ]
     },
     "metadata": {},
     "output_type": "display_data"
    },
    {
     "data": {
      "text/markdown": [
       "**Ending line**: 02:19:27.364 MATT: Welcome back, everybody.\n",
       "Wow."
      ],
      "text/plain": [
       "<IPython.core.display.Markdown object>"
      ]
     },
     "metadata": {},
     "output_type": "display_data"
    },
    {
     "data": {
      "text/markdown": [
       "### Episode 79 - Through the Trees"
      ],
      "text/plain": [
       "<IPython.core.display.Markdown object>"
      ]
     },
     "metadata": {},
     "output_type": "display_data"
    },
    {
     "data": {
      "text/markdown": [
       "**Interval**: 12 minutes and 49 seconds"
      ],
      "text/plain": [
       "<IPython.core.display.Markdown object>"
      ]
     },
     "metadata": {},
     "output_type": "display_data"
    },
    {
     "data": {
      "text/markdown": [
       "**Starting line**: 01:48:50.089 MATT: (as Pumat Sol) Well!\n",
       "Would you look at that, I think it worked.\n",
       "You were right, Pumat Number Three.\n",
       "All we had to do was invoke that subscription cantrip.\n",
       "Pumat, Pumat Number Three?\n",
       "Oh boy.\n",
       "Well, hello there.\n",
       "I am Pumat Prime.\n",
       "It's good to finally join you here in the Prime Dimension.\n",
       "I see this is the Twitch Prime Realm, I think.\n",
       "Oh!\n",
       "We're on the Critical Role Channel, aren't we?\n",
       "Well, would you look at that?\n",
       "You got chat and everything.\n",
       "Respectfully, I was looking for the Prime Rib Realm,\n",
       "but this isn't too bad.\n",
       "You see, if you already have access\n",
       "to the Amazon Prime Realm, you can get a free subscription\n",
       "to the channel of your choice in the Twitch Prime Realm.\n",
       "The two realms have a pretty good\n",
       "working relationship after that peace treaty\n",
       "the Prime Minister signed a few years back.\n",
       "You just have to remember to renew\n",
       "your Twitch Prime subscription at the top of each month,\n",
       "respectfully and hey, if you're already a subscriber,\n",
       "you can spread the joy by gifting a subscription\n",
       "using the Gift a Sub button.\n",
       "That is, assuming the Empire hasn't sent a tax man\n",
       "to your shop here recently.\n",
       "All right, well, off to find\n",
       "that darn elusive Prime Rib Realm.\n",
       "Who knew the Prime Dimension had so many pockets?\n",
       "Good luck.\n",
       "Pumat Three?\n",
       "TALIESIN (V.O.): Subscribe.\n",
       "Resubscribe!\n",
       "Brian Foster is not a cabbage."
      ],
      "text/plain": [
       "<IPython.core.display.Markdown object>"
      ]
     },
     "metadata": {},
     "output_type": "display_data"
    },
    {
     "data": {
      "text/markdown": [
       "**Ending line**: 02:03:21.961 MATT: And welcome back.\n",
       "Before jump into the game,\n",
       "we do have our winner of the Wyrmwood giveaway.\n",
       "The winner is Carnival Elite.\n",
       "With a key.\n",
       "Carnival Elite, you are the winner.\n",
       "We'll go ahead and send that to you ASAP, congratulations."
      ],
      "text/plain": [
       "<IPython.core.display.Markdown object>"
      ]
     },
     "metadata": {},
     "output_type": "display_data"
    },
    {
     "data": {
      "text/markdown": [
       "### Episode 80 - The Folding Halls"
      ],
      "text/plain": [
       "<IPython.core.display.Markdown object>"
      ]
     },
     "metadata": {},
     "output_type": "display_data"
    },
    {
     "data": {
      "text/markdown": [
       "**Interval**: 21 minutes and 24 seconds"
      ],
      "text/plain": [
       "<IPython.core.display.Markdown object>"
      ]
     },
     "metadata": {},
     "output_type": "display_data"
    },
    {
     "data": {
      "text/markdown": [
       "**Starting line**: 01:42:30.591 MATT: Yes, enjoy!"
      ],
      "text/plain": [
       "<IPython.core.display.Markdown object>"
      ]
     },
     "metadata": {},
     "output_type": "display_data"
    },
    {
     "data": {
      "text/markdown": [
       "**Ending line**: 02:03:57.272 MATT: Welcome back! Before we get into the game,\n",
       "we do have our winner of the Wyrmwood Hero Vault.\n",
       "The winner is BeerBaronessWA,\n",
       "which I assume is Washington, but BeerBaronessWA,\n",
       "congratulations, we'll get this\n",
       "sent to you A-S-A-P, well done.\n",
       "Alrighty."
      ],
      "text/plain": [
       "<IPython.core.display.Markdown object>"
      ]
     },
     "metadata": {},
     "output_type": "display_data"
    },
    {
     "data": {
      "text/markdown": [
       "### Episode 81 - From Door to Door"
      ],
      "text/plain": [
       "<IPython.core.display.Markdown object>"
      ]
     },
     "metadata": {},
     "output_type": "display_data"
    },
    {
     "name": "stdout",
     "output_type": "stream",
     "text": [
      "Added to cast: Will\n"
     ]
    },
    {
     "data": {
      "text/markdown": [
       "**Interval**: 18 minutes and 49 seconds"
      ],
      "text/plain": [
       "<IPython.core.display.Markdown object>"
      ]
     },
     "metadata": {},
     "output_type": "display_data"
    },
    {
     "data": {
      "text/markdown": [
       "**Starting line**: 02:35:55.790 MATT: We're going to storm his bedroom--"
      ],
      "text/plain": [
       "<IPython.core.display.Markdown object>"
      ]
     },
     "metadata": {},
     "output_type": "display_data"
    },
    {
     "data": {
      "text/markdown": [
       "**Ending line**: 02:54:46.296 MATT: And welcome back, so, before we get into it,\n",
       "we have our winner of our Wyrmwood giveaway.\n",
       "The winner tonight is HCHunter18.\n",
       "HCHunter18, congratulations, we'll get\n",
       "that to you ASAP, well done.\n",
       "All right, so as the adrenaline subsides\n",
       "in the calm, still interior of the chamber,\n",
       "the only sound right now reaching your ears is the hissing\n",
       "and bubbling of the liquefying metal\n",
       "on the opposite end. Jester and Beauregard a little worse\n",
       "for wear, a little frazzled.\n",
       "You all take a moment to yourself,\n",
       "as there is not danger chasing you\n",
       "from doorway to doorway any further."
      ],
      "text/plain": [
       "<IPython.core.display.Markdown object>"
      ]
     },
     "metadata": {},
     "output_type": "display_data"
    },
    {
     "data": {
      "text/markdown": [
       "### Episode 82 - The Beat of the Permaheart"
      ],
      "text/plain": [
       "<IPython.core.display.Markdown object>"
      ]
     },
     "metadata": {},
     "output_type": "display_data"
    },
    {
     "name": "stdout",
     "output_type": "stream",
     "text": [
      "Added to cast: Vo\n"
     ]
    },
    {
     "data": {
      "text/markdown": [
       "**Interval**: 29 minutes and 17 seconds"
      ],
      "text/plain": [
       "<IPython.core.display.Markdown object>"
      ]
     },
     "metadata": {},
     "output_type": "display_data"
    },
    {
     "data": {
      "text/markdown": [
       "**Starting line**: 01:43:16.227 MATT: This is the nice wenge, all the different things,\n",
       "I keep mispronouncing.\n",
       "Wing, whatever, I'm so sorry.\n",
       "I know I've heard it a million times,\n",
       "but I've also messed it up a million times,\n",
       "so I don't know what's right and what's wrong.\n",
       "But it's cool, it's dark wood, it's awesome.\n",
       "It's turquoise inlay, it's now currently available\n",
       "through Wyrmwood's Kickstarter campaign.\n",
       "It's most recent one, which is now live,\n",
       "but ends on Halloween, so check it out while you still can.\n",
       "The winner will go to one person in the chat\n",
       "who puts in the keyword. Keyword tonight\n",
       "is heart, H-E-A-R-T.\n",
       "Only once, more than once you'll be disqualified,\n",
       "and once again, US and Canada only, excluding Quebec.\n",
       "Be back here in a few minutes to find out who won.\n",
       "We'll see you shortly.\n",
       "LAURA: Oh god.\n",
       "♪ You got the perfect warlock ♪\n",
       "♪ Her weapons and supplies ♪\n",
       "♪ But you need a place to track your stuff ♪\n",
       "♪ 'cause you're so disorganized ♪\n",
       "♪ You click, open the web page ♪\n",
       "♪ You heard about on Critical Role ♪\n",
       "♪ And now you're ready to kick some butt ♪\n",
       "♪ In that mineshaft full of gnolls ♪\n",
       "♪ It's D&amp;D, D&amp;D ♪\n",
       "♪ Yeah, D&amp;D Beyond ♪\n",
       "♪ Yeah D&amp;D, D&amp;D ♪\n",
       "♪ Yeah, D&amp;D Beyond ♪\n",
       "♪ You've got your stats, you've got your swords ♪\n",
       "♪ And you got your invisible wand ♪\n",
       "♪ It's D&amp;D, D&amp;D ♪\n",
       "♪ D&amp;D ♪\n",
       "♪ D&amp;D Beyond ♪"
      ],
      "text/plain": [
       "<IPython.core.display.Markdown object>"
      ]
     },
     "metadata": {},
     "output_type": "display_data"
    },
    {
     "data": {
      "text/markdown": [
       "**Ending line**: 02:13:59.962 MATT: And welcome back.\n",
       "Before we jump into the latter half of the session,\n",
       "we have our giveaway winner, which is Sperlman19.\n",
       "Sperlman19, congratulations.\n",
       "We'll go ahead and get this sent to you ASAP\n",
       "and enjoy the special edition Wyrmwood coffin case.\n",
       "Awesome."
      ],
      "text/plain": [
       "<IPython.core.display.Markdown object>"
      ]
     },
     "metadata": {},
     "output_type": "display_data"
    },
    {
     "data": {
      "text/markdown": [
       "### Episode 83 - Dark Bargains"
      ],
      "text/plain": [
       "<IPython.core.display.Markdown object>"
      ]
     },
     "metadata": {},
     "output_type": "display_data"
    },
    {
     "name": "stdout",
     "output_type": "stream",
     "text": [
      "Added to cast: Arsequeef\n"
     ]
    },
    {
     "data": {
      "text/markdown": [
       "**Interval**: 30 minutes and 51 seconds"
      ],
      "text/plain": [
       "<IPython.core.display.Markdown object>"
      ]
     },
     "metadata": {},
     "output_type": "display_data"
    },
    {
     "data": {
      "text/markdown": [
       "**Starting line**: 02:01:19.469 MATT: In the meantime, we do have, our awesome friends\n",
       "at Wyrmwood are giving away the wenge with turquoise inlay\n",
       "coffin dice vault, which is available\n",
       "through their Kickstarter campaign,\n",
       "which ends tonight. If you haven't had a chance to get in,\n",
       "tonight's your last chance to do so.\n",
       "On Halloween, to win this awesome thing tonight,\n",
       "put it in the code word tonight, which is dread, D-R-E-A-D.\n",
       "Once only in the chat, more than once\n",
       "and you'll be disqualified, only folks in the US and Canada\n",
       "excluding Quebec because of stupid giveaway laws.\n",
       "We'll have a winner for you when we come back.\n",
       "(as McCree) Y'all just sit back a minute."
      ],
      "text/plain": [
       "<IPython.core.display.Markdown object>"
      ]
     },
     "metadata": {},
     "output_type": "display_data"
    },
    {
     "data": {
      "text/markdown": [
       "**Ending line**: 02:32:40.128 MATT: And welcome back.\n",
       "So before we get back into the game,\n",
       "we do have our winner of the Wyrmwood giveaway.\n",
       "It is Notfishhh."
      ],
      "text/plain": [
       "<IPython.core.display.Markdown object>"
      ]
     },
     "metadata": {},
     "output_type": "display_data"
    },
    {
     "data": {
      "text/markdown": [
       "### Episode 84 - Titles and Tattoos"
      ],
      "text/plain": [
       "<IPython.core.display.Markdown object>"
      ]
     },
     "metadata": {},
     "output_type": "display_data"
    },
    {
     "data": {
      "text/markdown": [
       "**Interval**: 22 minutes and 35 seconds"
      ],
      "text/plain": [
       "<IPython.core.display.Markdown object>"
      ]
     },
     "metadata": {},
     "output_type": "display_data"
    },
    {
     "data": {
      "text/markdown": [
       "**Starting line**: 01:56:25.932 MATT: I think we're finally back to those being funny again.\n",
       "It took a while.\n",
       "It took a long while."
      ],
      "text/plain": [
       "<IPython.core.display.Markdown object>"
      ]
     },
     "metadata": {},
     "output_type": "display_data"
    },
    {
     "data": {
      "text/markdown": [
       "**Ending line**: 02:19:07.386 MATT: Welcome back.\n",
       "So before we jump into-- they're different movies.\n",
       "We're debating Hereditary versus Midsommar.\n",
       "Anyway.\n",
       "Welcome back.\n",
       "We have our winner of our fantastic Wyrmwood giveaway!\n",
       "Congratulations to McComicker.\n",
       "McComicker, congratulations.\n",
       "McComicker, we'll have this sent to you ASAP, well done.\n",
       "All righty!\n",
       "Give you that, done."
      ],
      "text/plain": [
       "<IPython.core.display.Markdown object>"
      ]
     },
     "metadata": {},
     "output_type": "display_data"
    },
    {
     "data": {
      "text/markdown": [
       "### Episode 85 - The Threads Converge"
      ],
      "text/plain": [
       "<IPython.core.display.Markdown object>"
      ]
     },
     "metadata": {},
     "output_type": "display_data"
    },
    {
     "data": {
      "text/markdown": [
       "**Interval**: 28 minutes and 21 seconds"
      ],
      "text/plain": [
       "<IPython.core.display.Markdown object>"
      ]
     },
     "metadata": {},
     "output_type": "display_data"
    },
    {
     "data": {
      "text/markdown": [
       "**Starting line**: 02:45:50.139 MATT: Surprise, once and only once in the chatroom,\n",
       "more than once, you'll be disqualified,\n",
       "and for the U.S. and Canada only,\n",
       "excluding Quebec because of stupid laws,\n",
       "we will return shortly with the winner\n",
       "and the rest of the session.\n",
       "See you guys in a minute."
      ],
      "text/plain": [
       "<IPython.core.display.Markdown object>"
      ]
     },
     "metadata": {},
     "output_type": "display_data"
    },
    {
     "data": {
      "text/markdown": [
       "**Ending line**: 03:14:22.332 MATT: Congratulations, Laura Bailey, you got me.\n",
       "Welcome back, everyone.\n",
       "So we have the winner.\n",
       "The winner of the Wyrmwood giveaway is Think Not Think.\n",
       "Think Not Think. Think Not Th--\n",
       "I don't know how you'd say it with the emphasis,\n",
       "but congratulations, you won it,\n",
       "we'll get that to you ASAP.\n",
       "So."
      ],
      "text/plain": [
       "<IPython.core.display.Markdown object>"
      ]
     },
     "metadata": {},
     "output_type": "display_data"
    },
    {
     "data": {
      "text/markdown": [
       "### Episode 86 - The Cathedral"
      ],
      "text/plain": [
       "<IPython.core.display.Markdown object>"
      ]
     },
     "metadata": {},
     "output_type": "display_data"
    },
    {
     "name": "stdout",
     "output_type": "stream",
     "text": [
      "Added to cast: Glenn\n",
      "Added to cast: Merry\n"
     ]
    },
    {
     "data": {
      "text/markdown": [
       "**Interval**: 29 minutes and 20 seconds"
      ],
      "text/plain": [
       "<IPython.core.display.Markdown object>"
      ]
     },
     "metadata": {},
     "output_type": "display_data"
    },
    {
     "data": {
      "text/markdown": [
       "**Starting line**: 02:54:25.170 MATT: We have the\n",
       "Purpleheart dice tray,\n",
       "the Scanlan special,\n",
       "if you will,\n",
       "going to one lucky\n",
       "winner in the chat room.\n",
       "The codename tonight is Storm.\n",
       "Put it in once,\n",
       "not more than once,\n",
       "or you'll be disqualified.\n",
       "US and Canada only, excluding\n",
       "Quebec, because stupid laws.\n",
       "We'll have a winner\n",
       "for you shortly.\n",
       "♪ You got\n",
       "the perfect warlock ♪\n",
       "♪ her weapons and supplies ♪\n",
       "♪ But you need a place\n",
       "to track your stuff ♪\n",
       "♪ ‘cause you're so disorganized ♪\n",
       "♪ You click open the web page ♪\n",
       "♪ You heard about on Critical Role ♪\n",
       "♪ And now you're ready\n",
       "to kick some butt ♪\n",
       "♪ in a mineshaft full of gnolls ♪\n",
       "♪ It's D&amp;D! D&amp;D! D&amp;D Beyond! ♪\n",
       "♪ Yeah, D&amp;D! ♪\n",
       "♪ D&amp;D! ♪\n",
       "♪ D&amp;D Beyond! ♪\n",
       "♪ You got your stats,\n",
       "you’ve got your swords ♪\n",
       "♪ and you’ve got your invisible wand ♪\n",
       "♪ Its D&amp;D! D&amp;D! ♪\n",
       "♪ D&amp;D! D&amp;D Beyond! ♪"
      ],
      "text/plain": [
       "<IPython.core.display.Markdown object>"
      ]
     },
     "metadata": {},
     "output_type": "display_data"
    },
    {
     "data": {
      "text/markdown": [
       "**Ending line**: 03:24:49.470 MATT: Welcome back.\n",
       "So the winner of our\n",
       "giveaway at the break,\n",
       "who gets the lucky Scanlan\n",
       "purpleheart wood dice tray is\n",
       "Mr_Rekoj, Mr.\n",
       "Underscore R-E-K-O-J.\n",
       "Congratulations, we'll\n",
       "get that sent to you ASAP."
      ],
      "text/plain": [
       "<IPython.core.display.Markdown object>"
      ]
     },
     "metadata": {},
     "output_type": "display_data"
    },
    {
     "data": {
      "text/markdown": [
       "### Episode 87 - Punishment and Politics"
      ],
      "text/plain": [
       "<IPython.core.display.Markdown object>"
      ]
     },
     "metadata": {},
     "output_type": "display_data"
    },
    {
     "name": "stdout",
     "output_type": "stream",
     "text": [
      "Added to cast: Flint\n"
     ]
    },
    {
     "data": {
      "text/markdown": [
       "**Interval**: 16 minutes and 25 seconds"
      ],
      "text/plain": [
       "<IPython.core.display.Markdown object>"
      ]
     },
     "metadata": {},
     "output_type": "display_data"
    },
    {
     "data": {
      "text/markdown": [
       "**Starting line**: 02:00:53.185 MATT: God, what's going on?! I lost the beat!"
      ],
      "text/plain": [
       "<IPython.core.display.Markdown object>"
      ]
     },
     "metadata": {},
     "output_type": "display_data"
    },
    {
     "data": {
      "text/markdown": [
       "**Ending line**: 02:17:21.766 MATT: And welcome back.\n",
       "So-- that's a new one, velcro taint's a new one.\n",
       "Respect.\n",
       "Before we get back, do have our winner\n",
       "of our Wyrmwood giveaway. The winner is...\n",
       "Snarkysloane.\n",
       "Snarkysloane, congratulations, we'll go ahead\n",
       "and get you your Wyrmwood giveaway as soon as possible.\n",
       "So last we left off,\n",
       "you guys have stepped out\n",
       "into the raining cobblestone streets\n",
       "of the southern area beneath the Shimmer Ward\n",
       "within the city of Rexxentrum, being led by\n",
       "a host of Righteous Brand soldiers and the marshal.\n",
       "So as Marshal Ishmara brings you guys along,\n",
       "the streets you see in front of you are barren of townsfolk.\n",
       "Most buildings are closed up and silent.\n",
       "It's eerie, but the rain is somewhat welcoming,\n",
       "and Yasha, in particular, feeling the rain come down\n",
       "and hearing the distant rumble of thunder,\n",
       "it seems to be a very cleansing wash and experience.\n",
       "This is the first time you've come out into a storm\n",
       "in a while under your own will, and it feels nice."
      ],
      "text/plain": [
       "<IPython.core.display.Markdown object>"
      ]
     },
     "metadata": {},
     "output_type": "display_data"
    },
    {
     "data": {
      "text/markdown": [
       "### Episode 88 - Unwanted Reunions"
      ],
      "text/plain": [
       "<IPython.core.display.Markdown object>"
      ]
     },
     "metadata": {},
     "output_type": "display_data"
    },
    {
     "data": {
      "text/markdown": [
       "**Interval**: 12 minutes and 52 seconds"
      ],
      "text/plain": [
       "<IPython.core.display.Markdown object>"
      ]
     },
     "metadata": {},
     "output_type": "display_data"
    },
    {
     "data": {
      "text/markdown": [
       "**Starting line**: 02:30:16.295 MATT: Oh. Well! (chuckling)\n",
       "Would you look at that?\n",
       "I think it worked.\n",
       "You were right, Pumat number three.\n",
       "All we had to do was invoke that subscription cantrip.\n",
       "Pumat number three?\n",
       "Oh boy.\n",
       "Well, hello there.\n",
       "I'm Pumat Prime.\n",
       "It's good to finally join you\n",
       "here in the prime dimension.\n",
       "I see this is the Twitch Prime realm, I think,\n",
       "and oh, we're on the Critical Role\n",
       "channel, aren't we?\n",
       "Well, would you look at that,\n",
       "you got chat and everything.\n",
       "Respectfully, I was looking\n",
       "for the prime rib realm,\n",
       "but this isn't too bad.\n",
       "You see, if you already have access\n",
       "to the Amazon Prime realm,\n",
       "you can get a free subscription\n",
       "to the channel of your choice\n",
       "in the Twitch Prime realm.\n",
       "The two realms have a\n",
       "pretty good working relationship\n",
       "after that peace treaty the prime minister\n",
       "signed a few years back.\n",
       "You just have to remember to renew\n",
       "your Twitch Prime subscription\n",
       "at the top of each month,\n",
       "respectfully.\n",
       "And hey, if you're already a subscriber,\n",
       "you can spread the joy\n",
       "by gifting a subscription\n",
       "using the Gift a Sub button.\n",
       "That is, assuming the Empire\n",
       "hasn't sent a tax man\n",
       "to your shop here recently. (chuckling)\n",
       "All right, well, off to find that darn elusive\n",
       "prime rib realm.\n",
       "Who knew the prime dimension\n",
       "had so many pockets?\n",
       "Good luck. (chuckles)\n",
       "(echoing) Pumat three?\n",
       "TALIESIN (V.O.): Subscribe.\n",
       "Re-subscribe.\n",
       "Brian Foster is not a cabbage."
      ],
      "text/plain": [
       "<IPython.core.display.Markdown object>"
      ]
     },
     "metadata": {},
     "output_type": "display_data"
    },
    {
     "data": {
      "text/markdown": [
       "**Ending line**: 02:44:52.332 MATT: Welcome back.\n",
       "So, before we get back into the game,\n",
       "we do have our winner for this evening.\n",
       "The winner of our Wyrmwood giveaway is Forsakenpoet541."
      ],
      "text/plain": [
       "<IPython.core.display.Markdown object>"
      ]
     },
     "metadata": {},
     "output_type": "display_data"
    },
    {
     "data": {
      "text/markdown": [
       "### Episode 89 - Lingering Wounds"
      ],
      "text/plain": [
       "<IPython.core.display.Markdown object>"
      ]
     },
     "metadata": {},
     "output_type": "display_data"
    },
    {
     "name": "stdout",
     "output_type": "stream",
     "text": [
      "Added to cast: Yev\n"
     ]
    },
    {
     "data": {
      "text/markdown": [
       "**Interval**: 20 minutes and 22 seconds"
      ],
      "text/plain": [
       "<IPython.core.display.Markdown object>"
      ]
     },
     "metadata": {},
     "output_type": "display_data"
    },
    {
     "data": {
      "text/markdown": [
       "**Starting line**: 02:05:37.077 MATT: Enter it once, more than once,\n",
       "you'll be disqualified in the chat, and once again,\n",
       "US and Canada only, excluding Quebec because stupid laws,\n",
       "we'll have winner when we return here in a few minutes.\n",
       "♪ You got perfect warlock ♪\n",
       "♪ Her weapons and supplies ♪\n",
       "♪ But you need a place to track your stuff ♪\n",
       "♪ 'Cause you're so disorganized ♪\n",
       "♪ You click open the web page ♪\n",
       "♪ You heard about on Critical Role ♪\n",
       "♪ And now you're ready to kick some butt ♪\n",
       "♪ In that mineshaft full of gnolls ♪\n",
       "♪ It's D&amp;D, D&amp;D, yeah! ♪\n",
       "♪ D&amp;D Beyond ♪\n",
       "♪ Yeah, D&amp;D, D&amp;D, yeah! ♪\n",
       "♪ D&amp;D Beyond ♪\n",
       "♪ You got your stats, you've got your swords, ♪\n",
       "♪ And you got your invisible wand ♪\n",
       "♪ It's D&amp;D ♪\n",
       "♪ D&amp;D ♪\n",
       "♪ D&amp;D Beyond ♪\n",
       "YEV (V.O.): (humming \"We Didn't Start the Fire\")\n",
       "♪ Evil cultists, watery graves, magic fun ball misbehaves ♪\n",
       "♪ Giant forges, dead man teas, little talking crow ♪\n",
       "♪ Spurt and Twiggy not as twitchy ♪\n",
       "♪ Pumat Prime, dodecahedron, Uk'otoa, Traveler Con ♪\n",
       "♪ Tharizdun below ♪"
      ],
      "text/plain": [
       "<IPython.core.display.Markdown object>"
      ]
     },
     "metadata": {},
     "output_type": "display_data"
    },
    {
     "data": {
      "text/markdown": [
       "**Ending line**: 02:27:15.139 MATT: Welcome back.\n",
       "(laughter)"
      ],
      "text/plain": [
       "<IPython.core.display.Markdown object>"
      ]
     },
     "metadata": {},
     "output_type": "display_data"
    },
    {
     "data": {
      "text/markdown": [
       "### Episode 90 - Bathhouses and Bastions"
      ],
      "text/plain": [
       "<IPython.core.display.Markdown object>"
      ]
     },
     "metadata": {},
     "output_type": "display_data"
    },
    {
     "data": {
      "text/markdown": [
       "**Interval**: 15 minutes and 25 seconds"
      ],
      "text/plain": [
       "<IPython.core.display.Markdown object>"
      ]
     },
     "metadata": {},
     "output_type": "display_data"
    },
    {
     "data": {
      "text/markdown": [
       "**Starting line**: 01:59:31.781 MATT: Bye guys!"
      ],
      "text/plain": [
       "<IPython.core.display.Markdown object>"
      ]
     },
     "metadata": {},
     "output_type": "display_data"
    },
    {
     "data": {
      "text/markdown": [
       "**Ending line**: 02:14:58.636 MATT: And welcome back.\n",
       "So we have our winner of our break's giveaway\n",
       "of the Wyrmwood purpleheart tabletop dice tray is\n",
       "NobleKuahara.\n",
       "NobleKuahara, congratulations, we'll contact you\n",
       "and get that sent off ASAP, well won."
      ],
      "text/plain": [
       "<IPython.core.display.Markdown object>"
      ]
     },
     "metadata": {},
     "output_type": "display_data"
    },
    {
     "data": {
      "text/markdown": [
       "### Episode 91 - Stone to Clay"
      ],
      "text/plain": [
       "<IPython.core.display.Markdown object>"
      ]
     },
     "metadata": {},
     "output_type": "display_data"
    },
    {
     "data": {
      "text/markdown": [
       "**Interval**: 13 minutes and 49 seconds"
      ],
      "text/plain": [
       "<IPython.core.display.Markdown object>"
      ]
     },
     "metadata": {},
     "output_type": "display_data"
    },
    {
     "data": {
      "text/markdown": [
       "**Starting line**: 02:13:23.450 MATT: Oh, I'm touching it."
      ],
      "text/plain": [
       "<IPython.core.display.Markdown object>"
      ]
     },
     "metadata": {},
     "output_type": "display_data"
    },
    {
     "data": {
      "text/markdown": [
       "**Ending line**: 02:27:15.042 MATT: Hello everyone, welcome back.\n",
       "So--\n",
       "MARISHA: Got it in."
      ],
      "text/plain": [
       "<IPython.core.display.Markdown object>"
      ]
     },
     "metadata": {},
     "output_type": "display_data"
    },
    {
     "data": {
      "text/markdown": [
       "### Episode 92 - Home Is Where the Heart Is"
      ],
      "text/plain": [
       "<IPython.core.display.Markdown object>"
      ]
     },
     "metadata": {},
     "output_type": "display_data"
    },
    {
     "name": "stdout",
     "output_type": "stream",
     "text": [
      "Added to cast: Crowd\n"
     ]
    },
    {
     "data": {
      "text/markdown": [
       "**Interval**: 23 minutes and 37 seconds"
      ],
      "text/plain": [
       "<IPython.core.display.Markdown object>"
      ]
     },
     "metadata": {},
     "output_type": "display_data"
    },
    {
     "data": {
      "text/markdown": [
       "**Starting line**: 01:43:33.577 MATT: But we'll come back to you in a little bit\n",
       "with a winner, and the rest of tonight's session.\n",
       "So see you in a little bit.\n",
       "♪ You got the perfect warlock ♪\n",
       "♪ Her weapons and supplies ♪\n",
       "♪ But you need a place to track your stuff ♪\n",
       "♪ 'Cause you're so disorganized ♪\n",
       "♪ You click open the webpage ♪\n",
       "♪ You heard about on Critical Role ♪\n",
       "♪ And now, you're ready to kick some butt ♪\n",
       "♪ In that mineshaft full of gnolls ♪\n",
       "♪ It's D&amp;D ♪\n",
       "♪ (D&amp;D) ♪\n",
       "♪ D&amp;D Beyond ♪\n",
       "♪ Yeah, D&amp;D ♪\n",
       "♪ (D&amp;D) ♪\n",
       "♪ D&amp;D Beyond ♪\n",
       "♪ You got your stats, you've got your swords ♪\n",
       "♪ And you've got your invisible wand ♪\n",
       "♪ It's D&amp;D ♪\n",
       "♪ D&amp;D ♪\n",
       "♪ (drum fill) ♪\n",
       "♪ D&amp;D Beyond ♪"
      ],
      "text/plain": [
       "<IPython.core.display.Markdown object>"
      ]
     },
     "metadata": {},
     "output_type": "display_data"
    },
    {
     "data": {
      "text/markdown": [
       "**Ending line**: 02:08:04.252 MATT: And welcome back.\n",
       "So we have our winner of the Wyrmwood giveaway.\n",
       "The winner tonight is d__man.\n",
       "TRAVIS: Yeah!"
      ],
      "text/plain": [
       "<IPython.core.display.Markdown object>"
      ]
     },
     "metadata": {},
     "output_type": "display_data"
    },
    {
     "data": {
      "text/markdown": [
       "### Episode 93 - Misery Loves Company"
      ],
      "text/plain": [
       "<IPython.core.display.Markdown object>"
      ]
     },
     "metadata": {},
     "output_type": "display_data"
    },
    {
     "name": "stdout",
     "output_type": "stream",
     "text": [
      "Added to cast: Kyle\n"
     ]
    },
    {
     "data": {
      "text/markdown": [
       "**Interval**: 23 minutes and 9 seconds"
      ],
      "text/plain": [
       "<IPython.core.display.Markdown object>"
      ]
     },
     "metadata": {},
     "output_type": "display_data"
    },
    {
     "data": {
      "text/markdown": [
       "**Starting line**: 02:10:28.910 MATT: ♪ Writing on the wall ♪\n",
       "Put the word once into chat.\n",
       "Any more than once, you'll be disqualified,\n",
       "and once again, people in the US and Canada,\n",
       "only excluded in Quebec, because of stupid laws.\n",
       "We'll be back here in a few minutes,\n",
       "with the winner and the next leg of our journey.\n",
       "We'll see you guys in a minute.\n",
       "♪ You got the perfect warlock ♪\n",
       "♪ Her weapons and supplies ♪\n",
       "♪ But you need a place to track your stuff ♪\n",
       "♪ 'Cause you're so disorganized ♪\n",
       "♪ You click open the web page ♪\n",
       "♪ You heard about on Critical Role ♪\n",
       "♪ And now you're ready to kick some butt ♪\n",
       "♪ in that mineshaft full of gnolls ♪\n",
       "♪ It's D&amp;D, D&amp;D ♪\n",
       "♪ Yeah, D&amp;D Beyond ♪\n",
       "♪ Yeah, D&amp;D, D&amp;D ♪\n",
       "♪ Yeah, D&amp;D Beyond ♪\n",
       "♪ You got your stats ♪\n",
       "♪ You've got your swords ♪\n",
       "♪ And you got your invisible wand ♪\n",
       "♪ It's D&amp;D, D&amp;D ♪\n",
       "♪ D&amp;D, D&amp;D, D&amp;D ♪\n",
       "♪ D&amp;D Beyond ♪"
      ],
      "text/plain": [
       "<IPython.core.display.Markdown object>"
      ]
     },
     "metadata": {},
     "output_type": "display_data"
    },
    {
     "data": {
      "text/markdown": [
       "**Ending line**: 02:34:40.600 MATT: Hello, everyone, welcome back.\n",
       "Before we jump into the next half of our session,\n",
       "we do have one winner of our Wyrmwood giveaway.\n",
       "The winner is SRVfan32688."
      ],
      "text/plain": [
       "<IPython.core.display.Markdown object>"
      ]
     },
     "metadata": {},
     "output_type": "display_data"
    },
    {
     "data": {
      "text/markdown": [
       "### Episode 94 - With Great Power..."
      ],
      "text/plain": [
       "<IPython.core.display.Markdown object>"
      ]
     },
     "metadata": {},
     "output_type": "display_data"
    },
    {
     "name": "stdout",
     "output_type": "stream",
     "text": [
      "Added to cast: Julie\n",
      "Added to cast: Henry\n"
     ]
    },
    {
     "data": {
      "text/markdown": [
       "**Interval**: 23 minutes and 53 seconds"
      ],
      "text/plain": [
       "<IPython.core.display.Markdown object>"
      ]
     },
     "metadata": {},
     "output_type": "display_data"
    },
    {
     "data": {
      "text/markdown": [
       "**Starting line**: 02:10:37.058 MATT: But yeah, the word tonight is cupcake."
      ],
      "text/plain": [
       "<IPython.core.display.Markdown object>"
      ]
     },
     "metadata": {},
     "output_type": "display_data"
    },
    {
     "data": {
      "text/markdown": [
       "**Ending line**: 02:34:32.702 MATT: And welcome back.\n",
       "All righty, so we have our two winners\n",
       "for the two pieces in our Wyrmwood giveaway\n",
       "of these Valentine's Day inscripted bits.\n",
       "The winners are thintheveil.\n",
       "ALL: Ooh."
      ],
      "text/plain": [
       "<IPython.core.display.Markdown object>"
      ]
     },
     "metadata": {},
     "output_type": "display_data"
    },
    {
     "data": {
      "text/markdown": [
       "### Episode 95 - Blessing In Disguise"
      ],
      "text/plain": [
       "<IPython.core.display.Markdown object>"
      ]
     },
     "metadata": {},
     "output_type": "display_data"
    },
    {
     "name": "stdout",
     "output_type": "stream",
     "text": [
      "Added to cast: Matthew\n",
      "Added to cast: Bridget\n",
      "Added to cast: David\n"
     ]
    },
    {
     "data": {
      "text/markdown": [
       "**Interval**: 12 minutes and 58 seconds"
      ],
      "text/plain": [
       "<IPython.core.display.Markdown object>"
      ]
     },
     "metadata": {},
     "output_type": "display_data"
    },
    {
     "data": {
      "text/markdown": [
       "**Starting line**: 02:00:49.121 MATT: (as Pumat Sol) (grunts) Oh, well!\n",
       "Would you look at that?\n",
       "I think it worked.\n",
       "You were right, Pumat Number Three.\n",
       "All we had to do was invoke that subscription cantrip.\n",
       "Pumat Number Three?\n",
       "Oh boy.\n",
       "Well, hello there!\n",
       "I'm Pumat Prime.\n",
       "It's good to finally join you here in the Prime Dimension.\n",
       "I see this is the Twitch Prime realm,\n",
       "I think, and the, oh, we're on the\n",
       "Critical Role channel, aren't we?\n",
       "Well, would you look at that?\n",
       "You got chat and everything.\n",
       "Respectfully, I was looking for the\n",
       "prime rib realm, but this isn't too bad.\n",
       "You see, if you already have access to\n",
       "the Amazon Prime realm, you can get a free subscription\n",
       "to the channel of your choice in the Twitch Prime realm.\n",
       "The two realms have a pretty good\n",
       "working relationship after that peace treaty\n",
       "the Prime Minister signed a few years back.\n",
       "You just have to remember to renew\n",
       "your Twitch Prime subscription at\n",
       "the top of each month, respectfully.\n",
       "And hey, if you're already a subscriber,\n",
       "you can spread the joy by gifting\n",
       "a subscription using the Gift A Sub button.\n",
       "That is, assuming the Empire hasn't\n",
       "sent a taxman to your shoppe recently. (chuckles)\n",
       "All right, well, I'm off to find\n",
       "that darn elusive prime rib realm.\n",
       "Who knew the Prime Dimension had so many pockets?\n",
       "Good luck. (chuckles)\n",
       "Pumat Three!\n",
       "TALIESIN (V.O.): Subscribe.\n",
       "Re-subscribe.\n",
       "Brian Foster is not a cabbage."
      ],
      "text/plain": [
       "<IPython.core.display.Markdown object>"
      ]
     },
     "metadata": {},
     "output_type": "display_data"
    },
    {
     "data": {
      "text/markdown": [
       "**Ending line**: 02:15:32.462 MATT: And welcome back.\n",
       "You're getting lazy."
      ],
      "text/plain": [
       "<IPython.core.display.Markdown object>"
      ]
     },
     "metadata": {},
     "output_type": "display_data"
    },
    {
     "data": {
      "text/markdown": [
       "### Episode 96 - Family Shatters"
      ],
      "text/plain": [
       "<IPython.core.display.Markdown object>"
      ]
     },
     "metadata": {},
     "output_type": "display_data"
    },
    {
     "name": "stdout",
     "output_type": "stream",
     "text": [
      "Added to cast: Presenter\n"
     ]
    },
    {
     "data": {
      "text/markdown": [
       "**Interval**: 14 minutes and 47 seconds"
      ],
      "text/plain": [
       "<IPython.core.display.Markdown object>"
      ]
     },
     "metadata": {},
     "output_type": "display_data"
    },
    {
     "data": {
      "text/markdown": [
       "**Starting line**: 02:06:16.410 MATT: Checks out, yeah. Yep.\n",
       "BRIAN: You know what I mean.\n",
       "He's like, \"Ah, my fucking sister's kid's here again\n",
       "\"wearing my goddamn robe.\""
      ],
      "text/plain": [
       "<IPython.core.display.Markdown object>"
      ]
     },
     "metadata": {},
     "output_type": "display_data"
    },
    {
     "data": {
      "text/markdown": [
       "**Ending line**: 02:21:08.920 MATT: Welcome back.\n",
       "Go with the simple classic, Sam, I liked it.\n",
       "First, we have a winner, as picked during our break.\n",
       "The winner of our Wyrmwood giveaway is\n",
       "Cookie2259."
      ],
      "text/plain": [
       "<IPython.core.display.Markdown object>"
      ]
     },
     "metadata": {},
     "output_type": "display_data"
    },
    {
     "data": {
      "text/markdown": [
       "### Episode 97 - The Fancy and the Fooled"
      ],
      "text/plain": [
       "<IPython.core.display.Markdown object>"
      ]
     },
     "metadata": {},
     "output_type": "display_data"
    },
    {
     "name": "stdout",
     "output_type": "stream",
     "text": [
      "Added to cast: Misty\n"
     ]
    },
    {
     "data": {
      "text/markdown": [
       "**Interval**: 22 minutes and 53 seconds"
      ],
      "text/plain": [
       "<IPython.core.display.Markdown object>"
      ]
     },
     "metadata": {},
     "output_type": "display_data"
    },
    {
     "data": {
      "text/markdown": [
       "**Starting line**: 01:58:23.928 MATT: We'll see you guys here in just a little bit!\n",
       "♪ You got the perfect warlock ♪\n",
       "♪ Her weapons and supplies ♪\n",
       "♪ But you need a place to track your stuff ♪\n",
       "♪ 'Cause you're so disorganized ♪\n",
       "♪ You click open a web page ♪\n",
       "♪ You heard about on Critical Role ♪\n",
       "♪ And now you're ready to kick some butt ♪\n",
       "♪ In that mineshaft full of gnolls ♪\n",
       "♪ It's D&amp;D! ♪\n",
       "♪ D&amp;D, yeah! ♪\n",
       "♪ D&amp;D Beyond ♪\n",
       "♪ Yeah, D&amp;D ♪\n",
       "♪ D&amp;D, yeah! ♪\n",
       "♪ D&amp;D Beyond ♪\n",
       "♪ You got your stats, you got your swords ♪\n",
       "♪ And you got your invisible wand ♪\n",
       "♪ It's D&amp;D ♪\n",
       "♪ D&amp;D (D&amp;D) ♪\n",
       "♪ D&amp;D ♪\n",
       "♪ D&amp;D Beyond ♪"
      ],
      "text/plain": [
       "<IPython.core.display.Markdown object>"
      ]
     },
     "metadata": {},
     "output_type": "display_data"
    },
    {
     "data": {
      "text/markdown": [
       "**Ending line**: 02:22:09.259 MATT: And welcome back.\n",
       "All righty, so is there anything you guys wish to accomplish\n",
       "as you leave\n",
       "Veth Brenatto at the Chateau for a while?"
      ],
      "text/plain": [
       "<IPython.core.display.Markdown object>"
      ]
     },
     "metadata": {},
     "output_type": "display_data"
    },
    {
     "data": {
      "text/markdown": [
       "### Episode 98 - Dark Waters"
      ],
      "text/plain": [
       "<IPython.core.display.Markdown object>"
      ]
     },
     "metadata": {},
     "output_type": "display_data"
    },
    {
     "name": "stdout",
     "output_type": "stream",
     "text": [
      "Added to cast: Brandon\n",
      "Added to cast: Meredith\n",
      "Added to cast: Marc\n",
      "Added to cast: Eugene\n",
      "Added to cast: Mae\n",
      "Added to cast: Kevin\n",
      "Added to cast: Doc\n",
      "Added to cast: Mayy\n"
     ]
    },
    {
     "data": {
      "text/markdown": [
       "**Interval**: 17 minutes and 47 seconds"
      ],
      "text/plain": [
       "<IPython.core.display.Markdown object>"
      ]
     },
     "metadata": {},
     "output_type": "display_data"
    },
    {
     "data": {
      "text/markdown": [
       "**Starting line**: 01:40:00.618 MATT: We wanted to capture the spark and the magic of\n",
       "when we were playing at the table,\n",
       "just in a different form of media."
      ],
      "text/plain": [
       "<IPython.core.display.Markdown object>"
      ]
     },
     "metadata": {},
     "output_type": "display_data"
    },
    {
     "data": {
      "text/markdown": [
       "**Ending line**: 01:57:55.212 MATT: And welcome back.\n",
       "So before\n",
       "before we get into the game, we do have our Wyrmwood winner.\n",
       "Wyrmwood winner for tonight is FamTheWizard."
      ],
      "text/plain": [
       "<IPython.core.display.Markdown object>"
      ]
     },
     "metadata": {},
     "output_type": "display_data"
    },
    {
     "data": {
      "text/markdown": [
       "### Episode 99 - High Seas, High Stakes"
      ],
      "text/plain": [
       "<IPython.core.display.Markdown object>"
      ]
     },
     "metadata": {},
     "output_type": "display_data"
    },
    {
     "name": "stdout",
     "output_type": "stream",
     "text": [
      "Added to cast: Satine\n"
     ]
    },
    {
     "data": {
      "text/markdown": [
       "**Interval**: 26 minutes and 41 seconds"
      ],
      "text/plain": [
       "<IPython.core.display.Markdown object>"
      ]
     },
     "metadata": {},
     "output_type": "display_data"
    },
    {
     "data": {
      "text/markdown": [
       "**Starting line**: 02:15:01.090 MATT: Hello everyone,\n",
       "Matt here. Just wanted to say\n",
       "happy five year anniversary to Critical Role.\n",
       "This is, it's insane.\n",
       "I have no other way to express it.\n",
       "We're here on our fifth year of\n",
       "telling these stories on the internet\n",
       "and building the greatest community and fandom\n",
       "around the property on the internet, in my opinion.\n",
       "I'm just so thankful.\n",
       "I'm thankful, I've no other word to describe it.\n",
       "You've all been absolutely incredible.\n",
       "Your support for the show and what we're doing,\n",
       "your support for each other.\n",
       "And we're just super excited to continue\n",
       "to tell these stories with you\n",
       "to make fun content with you\n",
       "and be silly on the internet\n",
       "and hope you guys still continue to come along with us.\n",
       "So happy five year anniversary.\n",
       "I love you guys very much.\n",
       "And I guess to the next five, I guess!\n",
       "We'll see. (kiss)"
      ],
      "text/plain": [
       "<IPython.core.display.Markdown object>"
      ]
     },
     "metadata": {},
     "output_type": "display_data"
    },
    {
     "data": {
      "text/markdown": [
       "**Ending line**: 02:42:35.080 MATT: Welcome back everyone.\n",
       "Let me see if I have the information on our winner tonight.\n",
       "It hasn't come yet, strangely."
      ],
      "text/plain": [
       "<IPython.core.display.Markdown object>"
      ]
     },
     "metadata": {},
     "output_type": "display_data"
    },
    {
     "data": {
      "text/markdown": [
       "### Episode 100 - Hunted at Sea"
      ],
      "text/plain": [
       "<IPython.core.display.Markdown object>"
      ]
     },
     "metadata": {},
     "output_type": "display_data"
    },
    {
     "data": {
      "text/markdown": [
       "**Interval**: 24 minutes and 43 seconds"
      ],
      "text/plain": [
       "<IPython.core.display.Markdown object>"
      ]
     },
     "metadata": {},
     "output_type": "display_data"
    },
    {
     "data": {
      "text/markdown": [
       "**Starting line**: 01:53:39.370 MATT: We'll be back here in a few minutes\n",
       "to pick up where Rumblecusp has in store.\n",
       "Yeah, we have no other announcements or giveaways and stuff,\n",
       "during the break, so we're just going to go ahead\n",
       "and see you guys in a few minutes."
      ],
      "text/plain": [
       "<IPython.core.display.Markdown object>"
      ]
     },
     "metadata": {},
     "output_type": "display_data"
    },
    {
     "data": {
      "text/markdown": [
       "**Ending line**: 02:18:33.771 MATT: And welcome back.\n",
       "So before we jump into it, I want to give a big thanks\n",
       "to Critter Hannah Lampe, who send out this mini\n",
       "that they had painted three months ago,\n",
       "after the last episode, and I've kept\n",
       "care of it very soon, but you should check them out\n",
       "at @Art_ForArtsSake, on Twitter.\n",
       "Thank you so much, Hannah."
      ],
      "text/plain": [
       "<IPython.core.display.Markdown object>"
      ]
     },
     "metadata": {},
     "output_type": "display_data"
    },
    {
     "data": {
      "text/markdown": [
       "### Episode 101 - Mysteries, Memories, and Music"
      ],
      "text/plain": [
       "<IPython.core.display.Markdown object>"
      ]
     },
     "metadata": {},
     "output_type": "display_data"
    },
    {
     "data": {
      "text/markdown": [
       "**Interval**: 19 minutes and 15 seconds"
      ],
      "text/plain": [
       "<IPython.core.display.Markdown object>"
      ]
     },
     "metadata": {},
     "output_type": "display_data"
    },
    {
     "data": {
      "text/markdown": [
       "**Starting line**: 02:26:10.857 MATT: Indeed, it's all good.\n",
       "We don't have any announcements,\n",
       "or giveaways for the break,\n",
       "so we're just going to go straight to break!\n",
       "We'll see you guys here shortly."
      ],
      "text/plain": [
       "<IPython.core.display.Markdown object>"
      ]
     },
     "metadata": {},
     "output_type": "display_data"
    },
    {
     "data": {
      "text/markdown": [
       "**Ending line**: 02:45:32.875 MATT: And welcome back. So...\n",
       "(laughter)\n",
       "The Mighty Nein.\n",
       "ASHLEY: I'm so happy!"
      ],
      "text/plain": [
       "<IPython.core.display.Markdown object>"
      ]
     },
     "metadata": {},
     "output_type": "display_data"
    },
    {
     "data": {
      "text/markdown": [
       "### Episode 103 - Maritime Mysteries"
      ],
      "text/plain": [
       "<IPython.core.display.Markdown object>"
      ]
     },
     "metadata": {},
     "output_type": "display_data"
    },
    {
     "data": {
      "text/markdown": [
       "**Interval**: 12 minutes and 47 seconds"
      ],
      "text/plain": [
       "<IPython.core.display.Markdown object>"
      ]
     },
     "metadata": {},
     "output_type": "display_data"
    },
    {
     "data": {
      "text/markdown": [
       "**Starting line**: 01:50:17.397 MATT: That was awesome.\n",
       "All right, we will take a break here.\n",
       "We'll be back in a few minutes.\n",
       "Stick around, and we'll see what lies for us\n",
       "on the next half of our adventure tonight.\n",
       "So see you in a little bit.\n",
       "♪ You've got the perfect warlock ♪\n",
       "♪ Her weapons and supplies ♪\n",
       "♪ But you need a place to track your stuff ♪\n",
       "♪ 'Cause you're so disorganized ♪\n",
       "♪ You click open a webpage ♪\n",
       "♪ You heard about a Critical Role ♪\n",
       "♪ And now you're ready to kick some butt ♪\n",
       "♪ In a mine shaft full of gnolls ♪\n",
       "♪ It's D&amp;D ♪\n",
       "♪ D&amp;D ♪\n",
       "♪ Yeah ♪\n",
       "♪ D&amp;D Beyond ♪\n",
       "♪ Yeah, D&amp;D ♪\n",
       "♪ D&amp;D ♪\n",
       "♪ Yeah ♪\n",
       "♪ D&amp;D Beyond ♪\n",
       "♪ You got your staffs ♪\n",
       "♪ You got your swords ♪\n",
       "♪ And you got your invisible wand ♪\n",
       "♪ It's D&amp;D ♪\n",
       "♪ D&amp;D ♪\n",
       "♪ D&amp;D ♪\n",
       "♪ D&amp;D ♪\n",
       "♪ D&amp;D Beyond ♪\n",
       "Hey critters, Laura Bailey here.\n",
       "Let's see what's up in the Critical Role's shop.\n",
       "Ooh, look at this!\n",
       "Look at the details.\n",
       "Ooh!\n",
       "Darling, I recommend buying two,\n",
       "one for you and another for you.\n",
       "Let's be honest.\n",
       "It's so cute.\n",
       "I can't handle it.\n",
       "This is a lot of stuff, you guys,\n",
       "we have like so many cool things right now.\n",
       "All this and more!\n",
       "Now available in the Critical Role shop.\n",
       "Like a symphony playing to an empty theater,\n",
       "Critical Role dines alone without its audience.\n",
       "Yes.\n",
       "That validating and most enthusiastic congregation\n",
       "on the other side of the fourth wall.\n",
       "And what is this fourth wall\n",
       "separating the viewer from the creator,\n",
       "a portal to an often sought point of connection\n",
       "or the Twitch subscriptions zone.\n",
       "On the rare occasion that you miss the live bacchanal\n",
       "boasted by the ragtag group of thespians on Thursday night,\n",
       "you may always view the show on demand in the shadowland\n",
       "known as the Twitch subscription zone.\n",
       "Picture if you will, the necessary pieces\n",
       "to complete a jigsaw puzzle,\n",
       "but it's up to you to choose how it will be solved.\n",
       "You could of course subscribe with your debt rectangle,\n",
       "but many more divergent paths lie before you.\n",
       "Perhaps you found yourself in possession\n",
       "of an Amazon Prime account,\n",
       "you would then wake up to discover\n",
       "a free Twitch subscription each month\n",
       "for a channel of your choosing.\n",
       "But this artifact demands renewal,\n",
       "for you must resubscribe each month\n",
       "to quench it's unyielding thirst.\n",
       "One need not walk alone.\n",
       "Those who have already found their way\n",
       "can illuminate the path for others\n",
       "via the gift of sub button on Twitch.\n",
       "Critical Role is humbled by your subscription\n",
       "and wishes to thank you from behind the thin veil\n",
       "of this fourth wall.\n",
       "We hope you enjoy our content as much as we enjoy making it.\n",
       "And so ends another meandering digression,\n",
       "a complicated parody promo down an indistinct highway\n",
       "to the region we call the Twitch subscriptions zone.\n",
       "You will subscribe.\n",
       "Twitch Prime subscribe.\n",
       "Gift subscribe.\n",
       "Subscribe."
      ],
      "text/plain": [
       "<IPython.core.display.Markdown object>"
      ]
     },
     "metadata": {},
     "output_type": "display_data"
    },
    {
     "data": {
      "text/markdown": [
       "**Ending line**: 02:07:00.754 MATT: And welcome back.\n",
       "So as everyone comes to in the morning--"
      ],
      "text/plain": [
       "<IPython.core.display.Markdown object>"
      ]
     },
     "metadata": {},
     "output_type": "display_data"
    },
    {
     "data": {
      "text/markdown": [
       "### Episode 104 - The Ruined Sliver"
      ],
      "text/plain": [
       "<IPython.core.display.Markdown object>"
      ]
     },
     "metadata": {},
     "output_type": "display_data"
    },
    {
     "data": {
      "text/markdown": [
       "**Interval**: 16 minutes and 51 seconds"
      ],
      "text/plain": [
       "<IPython.core.display.Markdown object>"
      ]
     },
     "metadata": {},
     "output_type": "display_data"
    },
    {
     "data": {
      "text/markdown": [
       "**Starting line**: 01:14:08.163 MATT: We'll see you guys back here in a few minutes.\n",
       "Stay tuned."
      ],
      "text/plain": [
       "<IPython.core.display.Markdown object>"
      ]
     },
     "metadata": {},
     "output_type": "display_data"
    },
    {
     "data": {
      "text/markdown": [
       "**Ending line**: 01:31:04.000 MATT: And welcome back.\n",
       "So everyone.\n",
       "As you make your way, as we left off.\n",
       "Flying, some as birds, some as passengers\n",
       "through the sky, over the\n",
       "mountainous regions of the volcano of Rumblecusp.\n",
       "Heading across the northern edge,\n",
       "you come to the end of the hour-long\n",
       "first length of the journey, in which those\n",
       "who are using the spell must re-up.\n",
       "So Jester and Caleb, I take it you spend another slot?\n",
       "Are you able to spend another slot?"
      ],
      "text/plain": [
       "<IPython.core.display.Markdown object>"
      ]
     },
     "metadata": {},
     "output_type": "display_data"
    },
    {
     "data": {
      "text/markdown": [
       "### Episode 105 - Rumble at Rumblecusp"
      ],
      "text/plain": [
       "<IPython.core.display.Markdown object>"
      ]
     },
     "metadata": {},
     "output_type": "display_data"
    },
    {
     "data": {
      "text/markdown": [
       "**Interval**: 12 minutes and 52 seconds"
      ],
      "text/plain": [
       "<IPython.core.display.Markdown object>"
      ]
     },
     "metadata": {},
     "output_type": "display_data"
    },
    {
     "data": {
      "text/markdown": [
       "**Starting line**: 01:11:40.440 MATT: Yeah, Heroes' Feast is legit.\n",
       "MARISHA: While we eat...\n",
       "Hang on.\n",
       "MATT: Mm-hmm?"
      ],
      "text/plain": [
       "<IPython.core.display.Markdown object>"
      ]
     },
     "metadata": {},
     "output_type": "display_data"
    },
    {
     "data": {
      "text/markdown": [
       "**Ending line**: 01:24:37.460 MATT: Vilya, mouth still half-full with a pancake, goes,\n",
       "\"I know I've only just met you,\n",
       "\"but this is a tight family.\n",
       "\"Hold onto each other.\n",
       "\"This is important.\""
      ],
      "text/plain": [
       "<IPython.core.display.Markdown object>"
      ]
     },
     "metadata": {},
     "output_type": "display_data"
    },
    {
     "data": {
      "text/markdown": [
       "### Episode 106 - A Fog Lifted"
      ],
      "text/plain": [
       "<IPython.core.display.Markdown object>"
      ]
     },
     "metadata": {},
     "output_type": "display_data"
    },
    {
     "data": {
      "text/markdown": [
       "**Interval**: 12 minutes and 55 seconds"
      ],
      "text/plain": [
       "<IPython.core.display.Markdown object>"
      ]
     },
     "metadata": {},
     "output_type": "display_data"
    },
    {
     "data": {
      "text/markdown": [
       "**Starting line**: 01:54:20.239 MATT: We'll return to go over the spoils\n",
       "and what the next length of this journey entails, shortly.\n",
       "So we'll get back here from our break very soon,\n",
       "we'll see you guys in a little bit.\n",
       "♪ You got the perfect warlock ♪\n",
       "♪ Her weapons and supplies ♪\n",
       "♪ But you need a place to track your stuff ♪\n",
       "♪ 'Cause you're so disorganized ♪\n",
       "♪ You click open a webpage ♪\n",
       "♪ You heard about a Critical Role ♪\n",
       "♪ And now you're ready to kick some butt ♪\n",
       "♪ In a mineshaft full of gnolls ♪\n",
       "♪ It's DnD ♪\n",
       "♪ DnD yeah ♪\n",
       "♪ DnD Beyond ♪\n",
       "♪ Yeah DnD ♪\n",
       "♪ DnD yeah ♪\n",
       "♪ DnD Beyond ♪\n",
       "♪ You've got your stats you've got your swords ♪\n",
       "♪ And you've got your invisible wand ♪\n",
       "♪ It's DnD ♪\n",
       "♪ DnD ♪\n",
       "♪ DnD ♪\n",
       "♪ DnD Beyond ♪\n",
       "Hey critters.\n",
       "Laura Bailey here.\n",
       "Let's see what's up in the Critical Role shop.\n",
       "(upbeat trumpet music)\n",
       "Oh look at this.\n",
       "Look at the details oh.\n",
       "You're only like five clicks away from owning this.\n",
       "Maybe more if you have\n",
       "a lot of windows open on your browser\n",
       "I don't know your life.\n",
       "(whimsical noises)\n",
       "It's so cute.\n",
       "I can't handle it.\n",
       "(mouse clicks)\n",
       "All this and more.\n",
       "Now available in the Critical Role shop.\n",
       "I'm a fan of hot air balloon rides\n",
       "above the Venetian countryside.\n",
       "I'm a fan of Momlan.\n",
       "She's always got my back.\n",
       "I'm a fan of wine older than Taliesin.\n",
       "I'm a fan of Twitch subscriptions.\n",
       "I'm a fan of emotes by Arsequeef.\n",
       "They're neat.\n",
       "I'm a fan of a wife so cool people forget I exist.\n",
       "Exist exist exist.\n",
       "(crow caws)\n",
       "I'm a fan of wearing your skin as a mask."
      ],
      "text/plain": [
       "<IPython.core.display.Markdown object>"
      ]
     },
     "metadata": {},
     "output_type": "display_data"
    },
    {
     "data": {
      "text/markdown": [
       "**Ending line**: 02:09:58.694 MATT: And welcome back.\n",
       "So as we left off, Mighty Nein,\n",
       "you've just situated yourself\n",
       "in the remnants of the village of Vo,\n",
       "in the middle of its own chaos,\n",
       "trying to figure out what it is\n",
       "and where its denizens will be going soon.\n",
       "What would you like to do?"
      ],
      "text/plain": [
       "<IPython.core.display.Markdown object>"
      ]
     },
     "metadata": {},
     "output_type": "display_data"
    },
    {
     "data": {
      "text/markdown": [
       "### Episode 107 - Devoutness and Dicks"
      ],
      "text/plain": [
       "<IPython.core.display.Markdown object>"
      ]
     },
     "metadata": {},
     "output_type": "display_data"
    },
    {
     "data": {
      "text/markdown": [
       "**Interval**: 12 minutes and 56 seconds"
      ],
      "text/plain": [
       "<IPython.core.display.Markdown object>"
      ]
     },
     "metadata": {},
     "output_type": "display_data"
    },
    {
     "data": {
      "text/markdown": [
       "**Starting line**: 01:33:14.304 MATT: You're not wrong.\n",
       "We'll be back here shortly.\n",
       "We're going to take a little break\n",
       "and then we'll jump into the next few elements of\n",
       "preparation for Traveler Con, possibly hunting a T-Rex,\n",
       "it looks like, and see what else happens.\n",
       "We'll see you guys here shortly (laughing).\n",
       "♪ You got the perfect warlock ♪\n",
       "♪ Her weapons and supplies ♪\n",
       "♪ But you need a place to track your stuff ♪\n",
       "♪ 'Cause you're so disorganized ♪\n",
       "♪ You click, open the web page ♪\n",
       "♪ You heard about on Critical Role ♪\n",
       "♪ And now you're ready to kick some butt ♪\n",
       "♪ In a mineshaft full of gnolls ♪\n",
       "♪ It's D&amp;D, D&amp;D ♪\n",
       "♪ Yeah, D&amp;D Beyond ♪\n",
       "♪ Yeah D&amp;D, D&amp;D ♪\n",
       "♪ Yeah, D&amp;D Beyond ♪\n",
       "♪ You got your stats, you've got your swords ♪\n",
       "♪ And you got your invisible wand ♪\n",
       "♪ It's D&amp;D, D&amp;D ♪\n",
       "♪ D&amp;D ♪\n",
       "♪ D&amp;D Beyond ♪\n",
       "We're seeing these amazing designs coming in.\n",
       "Rooms and taverns and courts.\n",
       "Locations and color palettes.\n",
       "It's gorgeous, it's epic.\n",
       "It's beyond all our expectations.\n",
       "To see it all for the first time\n",
       "I went and I sat in my car\n",
       "and I just started crying.\n",
       "'Cause I was like, I can't believe this is real.\n",
       "The trajectory of this story over the years\n",
       "is constantly defined our expectations.\n",
       "The size and the scale of it\n",
       "has felt so large and sweeping to us in our minds.\n",
       "And so you think, what could possibly live up to it?\n",
       "And the team at Titmouse,\n",
       "has really been answering the call.\n",
       "Titmouse is one of the best animation studios around\n",
       "period.\n",
       "They check all the boxes.\n",
       "They've got animation cred up the wazoo\n",
       "they've worked on funny shows,\n",
       "dramatic shows.\n",
       "They've done it all.\n",
       "It truly feels like a company made of nerds.\n",
       "Just like our company.\n",
       "We instantly felt a kinship and a shared language.\n",
       "It kind of lowered the barrier to entry.\n",
       "The people at the top who define the culture\n",
       "and the attitude of the studio\n",
       "are themselves huge nerds.\n",
       "Super into this stuff.\n",
       "And not just for me,\n",
       "but for them,\n",
       "this is kind of the dream project\n",
       "because we're sort of living out\n",
       "our dream of finally getting\n",
       "to create this type of property.\n",
       "They aren't wanting to take,\n",
       "something that we've created\n",
       "and turn it into something completely different.\n",
       "They wanna honor what it was that we did.\n",
       "Everyone else seems genuinely as excited\n",
       "to be a part of this\n",
       "as we're excited to have it happening.\n",
       "I'm proud to count myself among the Critters.\n",
       "I was one of the 90,000 to back this project\n",
       "in the first place.\n",
       "I had no idea I was going to be on it.\n",
       "I remember very distinctly\n",
       "getting my eyes on some of Arthur Loftis,\n",
       "our directors first background pieces,\n",
       "and just being stunned.\n",
       "Not only is he a professional artist and designer,\n",
       "he's also a big Critical Role fan.\n",
       "So, the fact that you've got somebody\n",
       "who really knows the show,\n",
       "who's designing things even down to minute detail,\n",
       "like even Matt Mercer is like,\n",
       "Oh yeah, I forgot about that.\n",
       "But Arthur hasn't forgotten about it.\n",
       "Like he has put it in the show.\n",
       "And that's something you just don't get\n",
       "in any animated series.\n",
       "Usually the executive producer\n",
       "has to explain to the art director,\n",
       "the feeling that he's trying to evoke\n",
       "or she's trying to evoke,\n",
       "but Arthur knows that feeling\n",
       "because he watched it live.\n",
       "A lot of the vision does come from Arthur,\n",
       "but then where I add to it is\n",
       "how to make the world seem really alive and believable.\n",
       "My role as supervising director\n",
       "is to really coordinate work with the story team.\n",
       "We're literally translating idea into visual\n",
       "and finding opportunities that really push\n",
       "those moments to make the world feel\n",
       "that much more integrated.\n",
       "Sung Jin works on all the episodes.\n",
       "And he's got the big picture, the 10,000 foot view\n",
       "about where the story is going\n",
       "over the course of the season,\n",
       "where the story is going over the course of the series.\n",
       "He is so dedicated to making sure that\n",
       "it feels right for \"The Legend of Vox Machina.\"\n",
       "I have never felt more confident\n",
       "in letting other people handle a vision of mine\n",
       "than already seeing what they're doing with the whole team.\n",
       "We're getting to revisit all these great locations\n",
       "that we explored in the original Vox Machina campaign\n",
       "that we played through live.\n",
       "Locations like Emon.\n",
       "Emon is very much the central fantasy Metropolis\n",
       "of this continent,\n",
       "at least from a human society standpoint.\n",
       "And so, these first episodes really kind of introduce us\n",
       "to that place.\n",
       "The initial sketches that Arthur did of Emon\n",
       "were so striking and so epic\n",
       "in scale and scope\n",
       "that we had to go back and look at Matt's original drawings\n",
       "and be like,\n",
       "is this right?\n",
       "Does this match?\n",
       "And it does.\n",
       "He took what Matt did on a 2D piece of paper\n",
       "and turned it into a 3D world.\n",
       "I think when you think of Emon\n",
       "compared to other fantasy cities that you know,\n",
       "like Rivendell,\n",
       "there's gonna be a certain familiarity to Emon\n",
       "because it's kind of like a fantasy New York.\n",
       "There are elements to it\n",
       "that I think everyone can recognize.\n",
       "Stylistically.\n",
       "We just wanted to give people a nice way\n",
       "to sort of slip into this medieval fantasy world\n",
       "without being too challenged with the weirdness of like\n",
       "all the other stuff that's going to come later.\n",
       "Beyond Emon,\n",
       "there are a few locations that we get to explore\n",
       "in the animated series first season.\n",
       "Early on we get to visit the Shale Steps,\n",
       "which is a place that was not seen in the campaign\n",
       "streamed wise\n",
       "it's a coastal fishing city\n",
       "among a unique looking cliff range.\n",
       "That itself looks like waves frozen\n",
       "in the motion of crashing onto a shore.\n",
       "And then Vox Machina as you know,\n",
       "makes the journey from Emon to Whitestone.\n",
       "And even the journey that they take.\n",
       "Arthur has taken again, early maps\n",
       "that Matt drew up and turn them into real places\n",
       "with transitions,\n",
       "from forest to desert,\n",
       "to jungle, to mountain.\n",
       "We're looking at different landscapes\n",
       "existing in the real world.\n",
       "Taking ideas from each of them\n",
       "and sort of assigning them locations\n",
       "within the Critical Role world.\n",
       "For example, when we get closer to Whitestone,\n",
       "things look a bit more like Yosemite,\n",
       "it's the Alabaster Sierras.\n",
       "So we picked from the actual high Sierras\n",
       "and took those shapes,\n",
       "and the way the trees look,\n",
       "and the way the vegetation spreads across them\n",
       "and assigned it.\n",
       "Our other large location for season one\n",
       "is going to be Whitestone.\n",
       "The architectural language we really wanted to play with\n",
       "and make sure that it felt authentic.\n",
       "He went back into the history of the world\n",
       "and the history of the continent\n",
       "and thought,\n",
       "if people had sailed here via a boat,\n",
       "what would their architecture like?\n",
       "So, all of our buildings kind of have\n",
       "this feeling of like a ship's bow coming out of the ground.\n",
       "All the rooftops have sort of that sloping ships hull\n",
       "sort of shape to it.\n",
       "And that's something that\n",
       "none of us would have ever thought of.\n",
       "Not even Matt, really.\n",
       "You can't really mention the city of Whitestone\n",
       "without mentioning the Sun Tree.\n",
       "The first time I saw the Sun Tree\n",
       "(sighs)\n",
       "It was so epic.\n",
       "I've seen some fantastic iterations of the Sun Tree\n",
       "but what Arthur dropped on us,\n",
       "the first time that we saw the Sun Tree\n",
       "literally made our jaws drop.\n",
       "I'm personally more a fan of the small moments.\n",
       "So, Gilmore's Goods.\n",
       "It's something that we've pictured in our head for so long\n",
       "of what Gilmore's Glorious Goods looks like.\n",
       "There's so much detail.\n",
       "It's very specific.\n",
       "That was another thing that kind of took me by surprise\n",
       "is sort of the work that everyone put in\n",
       "to understand the world\n",
       "that we've been playing in for the past five years.\n",
       "And it's beautiful.\n",
       "It's so good.\n",
       "All of our locations are very unique from each other\n",
       "and we've gone to great lengths\n",
       "to make sure that every element we include in every scene\n",
       "really expresses the world as clearly\n",
       "and takes it further than whatever\n",
       "we were originally seeing in the stream online.\n",
       "You really feel like these are drawings of real places\n",
       "and not just a quick sketch of a random temple.\n",
       "All starts on paper,\n",
       "a bunch of just words describing characters in a story.\n",
       "Then we start to try and visualize it with Arthur's team.\n",
       "It's a multistage process.\n",
       "We start with storyboards\n",
       "that we're working off of\n",
       "that sort of give us an idea what the shot is,\n",
       "where characters are gonna be standing\n",
       "and what the general action of the scene is.\n",
       "And then a background designer\n",
       "is going to take that storyboard\n",
       "and just really flesh out the composition,\n",
       "figure out what design elements we want in there.\n",
       "A background painter takes it next\n",
       "adds lighting.\n",
       "That lighting is basically used\n",
       "to enhance the storytelling moment.\n",
       "A really good background by itself without anything else,\n",
       "evokes emotion.\n",
       "It tells you instantly\n",
       "what the scene is going to be like.\n",
       "It's a lot like a DP for live action.\n",
       "You're trying to express\n",
       "what the story is telling you\n",
       "through light and color.\n",
       "when it comes,\n",
       "not even just to animation,\n",
       "but film in general,\n",
       "framing is everything.\n",
       "Wherever you place your characters\n",
       "and wherever you place your action\n",
       "is going to have an intense impact\n",
       "on how the audience feels\n",
       "and how the audience relates to what's happening.\n",
       "It's wild to do all these different things\n",
       "and then have them slowly converge\n",
       "into one final piece of media.\n",
       "We have many, many more months of production ahead of us.\n",
       "We're getting into the nitty gritty of it.\n",
       "It's a never ending circle of\n",
       "work, and creativity, and energy\n",
       "that's going into the series.\n",
       "Finally, all of this work,\n",
       "it's all come to fruition.\n",
       "We're really trying to elevate ourselves\n",
       "to create an animated show\n",
       "that even we've never done before.\n",
       "I think the fans and Critters are gonna be floored\n",
       "by what we've made for them.\n",
       "You ain't seen nothing yet.\n",
       "Hey Critters, Laura Bailey here.\n",
       "Let's see what's up in the Critical Role shop.\n",
       "Ooh, look at this!\n",
       "Look at the details, ooh!\n",
       "It's so cute, I can't handle it!\n",
       "Darling, I recommend buying two.\n",
       "One for you and another for you.\n",
       "Let's be honest.\n",
       "You're only like five clicks away from owning this.\n",
       "Maybe more if you have a lot of windows open\n",
       "on your browser, I don't know your life?\n",
       "This is a lot of stuff you guys.\n",
       "We have like so many cool things right now.\n",
       "All of this and more now available\n",
       "in the Critical Role shop.\n",
       "Would you look at that?\n",
       "I think it worked.\n",
       "You were right Pumat number three.\n",
       "All we had to do was invoke that subscription, cantrip.\n",
       "Pumat number three?\n",
       "Oh boy, well, hello there.\n",
       "I am Pumat Prime.\n",
       "It's good to finally join you here in the Prime dimension.\n",
       "I see this as the Twitch Prime realm I think.\n",
       "Oh, we're on the Critical Role channel, aren't we?\n",
       "Well, would you look at that, you got chat and everything.\n",
       "Respectfully, I was looking for the Prime Rib realm,\n",
       "but this isn't too bad.\n",
       "You see, if you already have access\n",
       "to the Amazon Prime realm, you can get a free subscription\n",
       "to the channel of your choice in the Twitch Prime realm.\n",
       "The two realms have a pretty good working relationship\n",
       "after that peace treaty, the Prime minister signed\n",
       "a few years back.\n",
       "You just have to remember to renew\n",
       "your Twitch Prime subscription\n",
       "at the top of each month, respectfully.\n",
       "And hey, if you're already a subscriber,\n",
       "you can spread the joy by gifting a subscription\n",
       "using the gift to sub button,\n",
       "that is assuming the empire hasn't sent a tax man\n",
       "to your shop here recently.\n",
       "All right, well, off to find\n",
       "that darn elusive Prime Rib realm.\n",
       "Who knew the Prime dimension had so many pockets, good luck.\n",
       "Pumat three?\n",
       "Subscribe, resubscribe.\n",
       "Brian Foster is not a cabbage."
      ],
      "text/plain": [
       "<IPython.core.display.Markdown object>"
      ]
     },
     "metadata": {},
     "output_type": "display_data"
    },
    {
     "data": {
      "text/markdown": [
       "**Ending line**: 01:59:44.868 MATT: Welcome back. So.\n",
       "Four days until Traveler Con.\n",
       "You guys have amassed yourselves as the hunting crew."
      ],
      "text/plain": [
       "<IPython.core.display.Markdown object>"
      ]
     },
     "metadata": {},
     "output_type": "display_data"
    },
    {
     "data": {
      "text/markdown": [
       "### Episode 108 - Traveler Con"
      ],
      "text/plain": [
       "<IPython.core.display.Markdown object>"
      ]
     },
     "metadata": {},
     "output_type": "display_data"
    },
    {
     "data": {
      "text/markdown": [
       "**Interval**: 18 minutes and 8 seconds"
      ],
      "text/plain": [
       "<IPython.core.display.Markdown object>"
      ]
     },
     "metadata": {},
     "output_type": "display_data"
    },
    {
     "data": {
      "text/markdown": [
       "**Starting line**: 02:21:18.675 MATT: So we're going to come back\n",
       "here in just a few minutes,\n",
       "We're going to take a quick break\n",
       "and we'll see you guys here shortly."
      ],
      "text/plain": [
       "<IPython.core.display.Markdown object>"
      ]
     },
     "metadata": {},
     "output_type": "display_data"
    },
    {
     "data": {
      "text/markdown": [
       "**Ending line**: 02:39:30.734 MATT: And welcome back.\n",
       "So, as you all stand at the edge of Rumblecusp,\n",
       "looking at these white pearlescent chains\n",
       "that wrap around both the body and the mouth of the Traveler\n",
       "in his true form revealed, dragging him up\n",
       "towards this celestial being that is descended from a\n",
       "nonsensically apparated moon in the sky,\n",
       "calling him for his lies amongst the populous\n",
       "of followers there.\n",
       "What do you wish to do?"
      ],
      "text/plain": [
       "<IPython.core.display.Markdown object>"
      ]
     },
     "metadata": {},
     "output_type": "display_data"
    },
    {
     "data": {
      "text/markdown": [
       "### Episode 109 - Frigid Propositions"
      ],
      "text/plain": [
       "<IPython.core.display.Markdown object>"
      ]
     },
     "metadata": {},
     "output_type": "display_data"
    },
    {
     "name": "stdout",
     "output_type": "stream",
     "text": [
      "Added to cast: Lauar\n"
     ]
    },
    {
     "data": {
      "text/markdown": [
       "**Interval**: 12 minutes and 41 seconds"
      ],
      "text/plain": [
       "<IPython.core.display.Markdown object>"
      ]
     },
     "metadata": {},
     "output_type": "display_data"
    },
    {
     "data": {
      "text/markdown": [
       "**Starting line**: 02:03:08.687 MATT: So take a short break here.\n",
       "We'll be back here in just a few minutes,\n",
       "so see you guys here right quick.\n",
       "Now experience the ultimate way to play\n",
       "by sitting at a table with your friends,\n",
       "with your face in a screen.\n",
       "Progress!\n",
       "D and D Beyond.\n",
       "Log in to explore strange worlds and fantastical cities,\n",
       "thanks to a company based in a really boring one\n",
       "that handles all the tedious math and reference stuff\n",
       "for you, so you can finally unleash the epic quest\n",
       "you've been crafting since middle school on your friends,\n",
       "or just do what most people use it for,\n",
       "breaking out endless new characters\n",
       "while they're bored at work.\n",
       "I could finish these spreadsheets,\n",
       "but what if this Paladin owned a horse?\n",
       "Perfect.\n",
       "D and D Beyond, play with advantage.\n",
       "Hello?\n",
       "Hello.\n",
       "What is this place, where am I?\n",
       "What happened to the rest of my body?\n",
       "Oh no.\n",
       "Did I die?\n",
       "Wait a minute.\n",
       "Are we on the internet?\n",
       "[Dani] Soon!\n",
       "Oh shit!\n",
       "Hey Critters, Laura Bailey here.\n",
       "Let's see what's up in the Critical Role shop.\n",
       "Ooh, look at this.\n",
       "Look at the details, ooh!\n",
       "You're only five clicks away from owning this,\n",
       "maybe more if you have a lot of windows open\n",
       "on your browser, I don't know your life.\n",
       "It's so cute, I can't handle it.\n",
       "Darling, I'd recommend buying two.\n",
       "One for you and another for you.\n",
       "Let's be honest.\n",
       "This is a lot of stuff you guys.\n",
       "We have like so many cool things right now.\n",
       "All this and more, now available in the Critical Role shop.\n",
       "Like a symphony playing to an empty theater,\n",
       "Critical Role dines alone without its audience.\n",
       "Yes, that validating and most enthusiastic congregation\n",
       "on the other side of the fourth wall.\n",
       "And what is fourth wall,\n",
       "separating the viewer from the creator.\n",
       "A portal to an often sought point of connection\n",
       "or the Twitch subscription zone?\n",
       "On the rare occasion that you miss the live bacchanal\n",
       "boasted by the ragtag group of thespians on Thursday night,\n",
       "you may always view the show on demand\n",
       "in the shadowland known as the Twitch subscription zone.\n",
       "Picture if you will,\n",
       "the necessary pieces to complete a jigsaw puzzle,\n",
       "but it's up to you to choose how it will be solved.\n",
       "You could of course subscribe with your debt rectangle,\n",
       "but many more divergent paths lie before you.\n",
       "Perhaps you found yourself in possession\n",
       "of an Amazon prime account.\n",
       "You would then wake up to discover\n",
       "a free Twitch subscription each month\n",
       "for a channel of your choosing.\n",
       "But this artifact demands renewal,\n",
       "for you must resubscribe each month\n",
       "to quench its unyielding thirst.\n",
       "One need not walk alone.\n",
       "Those who have already found their way\n",
       "can illuminate the path for others\n",
       "via the gift a sub button on Twitch.\n",
       "Critical Role is humbled by your subscription\n",
       "and wishes to thank you from behind the thin veil\n",
       "of this fourth wall.\n",
       "We hope you enjoy our content as much as we enjoy making it.\n",
       "And so ends another meandering digression,\n",
       "a complicated parody promo down an indistinct highway\n",
       "to the region we call the Twitch subscription zone.\n",
       "You will subscribe.\n",
       "Twitch prime subscribe, gift subscribe.\n",
       "Subscribe."
      ],
      "text/plain": [
       "<IPython.core.display.Markdown object>"
      ]
     },
     "metadata": {},
     "output_type": "display_data"
    },
    {
     "data": {
      "text/markdown": [
       "**Ending line**: 02:20:47.567 MATT: And welcome back.\n",
       "So, as you all stand now in the center\n",
       "of the Endless Emporium of Enchanted Eccentricities,\n",
       "you see who you assume to be Thaydeen there,\n",
       "arms out on the edges of the central counter, going,\n",
       "\"So, what are you looking for, if I might ask, huh?\""
      ],
      "text/plain": [
       "<IPython.core.display.Markdown object>"
      ]
     },
     "metadata": {},
     "output_type": "display_data"
    },
    {
     "data": {
      "text/markdown": [
       "### Episode 110 - Dinner with the Devil"
      ],
      "text/plain": [
       "<IPython.core.display.Markdown object>"
      ]
     },
     "metadata": {},
     "output_type": "display_data"
    },
    {
     "data": {
      "text/markdown": [
       "**Interval**: 16 minutes and 59 seconds"
      ],
      "text/plain": [
       "<IPython.core.display.Markdown object>"
      ]
     },
     "metadata": {},
     "output_type": "display_data"
    },
    {
     "data": {
      "text/markdown": [
       "**Starting line**: 02:01:40.146 MATT: Ambition's Call."
      ],
      "text/plain": [
       "<IPython.core.display.Markdown object>"
      ]
     },
     "metadata": {},
     "output_type": "display_data"
    },
    {
     "data": {
      "text/markdown": [
       "**Ending line**: 02:18:41.300 MATT: Welcome back.\n",
       "So. The gates (creaking)\n",
       "open before you.\n",
       "The courtyard, leading to the tower.\n",
       "As you walk through, it's a beautiful,\n",
       "if slightly ominous, patch of forest surrounding this tower.\n",
       "You can see faint fire bugs glowing\n",
       "and fading in and out in the distance,\n",
       "but just far enough out of reach,\n",
       "as you walk this paved path that leads through.\n",
       "Eventually, you find yourself to the base of the tower\n",
       "where this massive set of arched double doors\n",
       "that wait for you open into a low-lit antechamber.\n",
       "As you walk into the tower chamber proper,\n",
       "you are met with a patterned carpet of dark brown and red\n",
       "that meets wall to wall.\n",
       "No furniture, just an open entry.\n",
       "You can see a beautiful crystal chandelier\n",
       "that hangs above you in the center\n",
       "of the partially domed ceiling.\n",
       "You can see intricately carved wooden panels\n",
       "wrap around the doorless walls, aside from the entryway,\n",
       "housing large paintings set within elaborate frames.\n",
       "You can see one large landscape that shows an odd sunrise,\n",
       "it seems, over a desolate plain of rock and flame,\n",
       "a sky of burning clouds and haze.\n",
       "Anyone here who is trained in arcana, if you'd like to roll?"
      ],
      "text/plain": [
       "<IPython.core.display.Markdown object>"
      ]
     },
     "metadata": {},
     "output_type": "display_data"
    }
   ],
   "source": [
    "pprint(\"## Matt's times\")\n",
    "for episode in episodes:\n",
    "    subtitles = get_episode_subtitles(episode['filename'])\n",
    "    pprint(f'### Episode {episode[\"episode\"]} - {episode[\"title\"]}')\n",
    "    lines_per_person = get_lines_per_cast_member(subtitles)\n",
    "    intervals_per_speaker = get_intervals_between_lines_per_speaker(lines_per_person)\n",
    "    longest_intervals = get_longest_interval_per_speaker(intervals_per_speaker)\n",
    "    matt = df(longest_intervals)['Matt']\n",
    "\n",
    "    pprint(f\"**Interval**: {humanfriendly.module.format_timespan(matt['interval'].seconds)}\")\n",
    "    pprint(f'**Starting line**: {matt[\"starting_line\"].start} {matt[\"starting_line\"].text}')\n",
    "    pprint(f'**Ending line**: {matt[\"ending_line\"].start} {matt[\"ending_line\"].text}')"
   ]
  },
  {
   "cell_type": "code",
   "execution_count": 110,
   "metadata": {},
   "outputs": [],
   "source": [
    "episodes = parse_subtitles_directory('.')\n",
    "\n",
    "for episode in episodes:\n",
    "    episode['subtitles'] = get_episode_subtitles(episode['filename'])"
   ]
  },
  {
   "cell_type": "code",
   "execution_count": 111,
   "metadata": {},
   "outputs": [],
   "source": [
    "line_count = []\n",
    "\n",
    "for episode in episodes:\n",
    "    # print duration, number of lines\n",
    "    lines_per_person = get_lines_per_cast_member(episode['subtitles'])\n",
    "    \n",
    "    episode_counts = {}\n",
    "    episode_counts['title'] = episode['title']\n",
    "    episode_counts['episode'] = episode['episode']\n",
    "    for person, lines in lines_per_person.items():\n",
    "#         episode_counts[person] = len(lines)\n",
    "          episode_counts[person] = sum([len(x.text) for x in lines_per_person[person]])\n",
    "    line_count.append(episode_counts)\n"
   ]
  },
  {
   "cell_type": "code",
   "execution_count": 113,
   "metadata": {},
   "outputs": [],
   "source": [
    "line_count = df(line_count)"
   ]
  },
  {
   "cell_type": "code",
   "execution_count": 107,
   "metadata": {},
   "outputs": [
    {
     "data": {
      "text/html": [
       "<div>\n",
       "<style scoped>\n",
       "    .dataframe tbody tr th:only-of-type {\n",
       "        vertical-align: middle;\n",
       "    }\n",
       "\n",
       "    .dataframe tbody tr th {\n",
       "        vertical-align: top;\n",
       "    }\n",
       "\n",
       "    .dataframe thead th {\n",
       "        text-align: right;\n",
       "    }\n",
       "</style>\n",
       "<table border=\"1\" class=\"dataframe\">\n",
       "  <thead>\n",
       "    <tr style=\"text-align: right;\">\n",
       "      <th></th>\n",
       "      <th>episode</th>\n",
       "      <th>title</th>\n",
       "      <th>Matt</th>\n",
       "    </tr>\n",
       "  </thead>\n",
       "  <tbody>\n",
       "    <tr>\n",
       "      <th>48</th>\n",
       "      <td>49</td>\n",
       "      <td>A Game of Names</td>\n",
       "      <td>51344</td>\n",
       "    </tr>\n",
       "    <tr>\n",
       "      <th>76</th>\n",
       "      <td>77</td>\n",
       "      <td>A Tangled Web</td>\n",
       "      <td>57834</td>\n",
       "    </tr>\n",
       "    <tr>\n",
       "      <th>36</th>\n",
       "      <td>37</td>\n",
       "      <td>Dangerous Liaisons</td>\n",
       "      <td>58049</td>\n",
       "    </tr>\n",
       "    <tr>\n",
       "      <th>90</th>\n",
       "      <td>91</td>\n",
       "      <td>Stone to Clay</td>\n",
       "      <td>59568</td>\n",
       "    </tr>\n",
       "    <tr>\n",
       "      <th>91</th>\n",
       "      <td>92</td>\n",
       "      <td>Home Is Where the Heart Is</td>\n",
       "      <td>61468</td>\n",
       "    </tr>\n",
       "    <tr>\n",
       "      <th>...</th>\n",
       "      <td>...</td>\n",
       "      <td>...</td>\n",
       "      <td>...</td>\n",
       "    </tr>\n",
       "    <tr>\n",
       "      <th>24</th>\n",
       "      <td>25</td>\n",
       "      <td>Divergent Paths</td>\n",
       "      <td>110675</td>\n",
       "    </tr>\n",
       "    <tr>\n",
       "      <th>54</th>\n",
       "      <td>55</td>\n",
       "      <td>Duplicity</td>\n",
       "      <td>111005</td>\n",
       "    </tr>\n",
       "    <tr>\n",
       "      <th>6</th>\n",
       "      <td>7</td>\n",
       "      <td>Hush</td>\n",
       "      <td>113136</td>\n",
       "    </tr>\n",
       "    <tr>\n",
       "      <th>85</th>\n",
       "      <td>86</td>\n",
       "      <td>The Cathedral</td>\n",
       "      <td>117997</td>\n",
       "    </tr>\n",
       "    <tr>\n",
       "      <th>16</th>\n",
       "      <td>17</td>\n",
       "      <td>Harvest Close</td>\n",
       "      <td>123134</td>\n",
       "    </tr>\n",
       "  </tbody>\n",
       "</table>\n",
       "<p>109 rows × 3 columns</p>\n",
       "</div>"
      ],
      "text/plain": [
       "   episode                       title    Matt\n",
       "48      49             A Game of Names   51344\n",
       "76      77               A Tangled Web   57834\n",
       "36      37          Dangerous Liaisons   58049\n",
       "90      91               Stone to Clay   59568\n",
       "91      92  Home Is Where the Heart Is   61468\n",
       "..     ...                         ...     ...\n",
       "24      25            Divergent Paths   110675\n",
       "54      55                   Duplicity  111005\n",
       "6        7                        Hush  113136\n",
       "85      86               The Cathedral  117997\n",
       "16      17               Harvest Close  123134\n",
       "\n",
       "[109 rows x 3 columns]"
      ]
     },
     "execution_count": 107,
     "metadata": {},
     "output_type": "execute_result"
    }
   ],
   "source": [
    "line_count[['episode', 'title', 'Matt']].sort_values(by='Matt')"
   ]
  },
  {
   "cell_type": "code",
   "execution_count": 93,
   "metadata": {},
   "outputs": [],
   "source": [
    "counts = counts.reindex(columns=['episode', 'title', 'Matt'])"
   ]
  },
  {
   "cell_type": "code",
   "execution_count": 95,
   "metadata": {},
   "outputs": [
    {
     "data": {
      "text/html": [
       "<div>\n",
       "<style scoped>\n",
       "    .dataframe tbody tr th:only-of-type {\n",
       "        vertical-align: middle;\n",
       "    }\n",
       "\n",
       "    .dataframe tbody tr th {\n",
       "        vertical-align: top;\n",
       "    }\n",
       "\n",
       "    .dataframe thead th {\n",
       "        text-align: right;\n",
       "    }\n",
       "</style>\n",
       "<table border=\"1\" class=\"dataframe\">\n",
       "  <thead>\n",
       "    <tr style=\"text-align: right;\">\n",
       "      <th></th>\n",
       "      <th>episode</th>\n",
       "      <th>title</th>\n",
       "      <th>Matt</th>\n",
       "    </tr>\n",
       "  </thead>\n",
       "  <tbody>\n",
       "    <tr>\n",
       "      <th>36</th>\n",
       "      <td>37</td>\n",
       "      <td>Dangerous Liaisons</td>\n",
       "      <td>378</td>\n",
       "    </tr>\n",
       "    <tr>\n",
       "      <th>29</th>\n",
       "      <td>30</td>\n",
       "      <td>The Journey Home</td>\n",
       "      <td>378</td>\n",
       "    </tr>\n",
       "    <tr>\n",
       "      <th>0</th>\n",
       "      <td>1</td>\n",
       "      <td>Curious Beginnings</td>\n",
       "      <td>397</td>\n",
       "    </tr>\n",
       "    <tr>\n",
       "      <th>56</th>\n",
       "      <td>57</td>\n",
       "      <td>In Love and War</td>\n",
       "      <td>410</td>\n",
       "    </tr>\n",
       "    <tr>\n",
       "      <th>48</th>\n",
       "      <td>49</td>\n",
       "      <td>A Game of Names</td>\n",
       "      <td>421</td>\n",
       "    </tr>\n",
       "    <tr>\n",
       "      <th>...</th>\n",
       "      <td>...</td>\n",
       "      <td>...</td>\n",
       "      <td>...</td>\n",
       "    </tr>\n",
       "    <tr>\n",
       "      <th>38</th>\n",
       "      <td>39</td>\n",
       "      <td>Temple of the False Serpent</td>\n",
       "      <td>1069</td>\n",
       "    </tr>\n",
       "    <tr>\n",
       "      <th>97</th>\n",
       "      <td>98</td>\n",
       "      <td>Dark Waters</td>\n",
       "      <td>1108</td>\n",
       "    </tr>\n",
       "    <tr>\n",
       "      <th>81</th>\n",
       "      <td>82</td>\n",
       "      <td>The Beat of the Permaheart</td>\n",
       "      <td>1112</td>\n",
       "    </tr>\n",
       "    <tr>\n",
       "      <th>54</th>\n",
       "      <td>55</td>\n",
       "      <td>Duplicity</td>\n",
       "      <td>1171</td>\n",
       "    </tr>\n",
       "    <tr>\n",
       "      <th>85</th>\n",
       "      <td>86</td>\n",
       "      <td>The Cathedral</td>\n",
       "      <td>1298</td>\n",
       "    </tr>\n",
       "  </tbody>\n",
       "</table>\n",
       "<p>109 rows × 3 columns</p>\n",
       "</div>"
      ],
      "text/plain": [
       "   episode                        title  Matt\n",
       "36      37           Dangerous Liaisons   378\n",
       "29      30             The Journey Home   378\n",
       "0        1          Curious Beginnings    397\n",
       "56      57              In Love and War   410\n",
       "48      49              A Game of Names   421\n",
       "..     ...                          ...   ...\n",
       "38      39  Temple of the False Serpent  1069\n",
       "97      98                  Dark Waters  1108\n",
       "81      82   The Beat of the Permaheart  1112\n",
       "54      55                    Duplicity  1171\n",
       "85      86                The Cathedral  1298\n",
       "\n",
       "[109 rows x 3 columns]"
      ]
     },
     "execution_count": 95,
     "metadata": {},
     "output_type": "execute_result"
    }
   ],
   "source": [
    "counts[['episode', 'title', 'Matt']].sort_values(by='Matt')"
   ]
  },
  {
   "cell_type": "code",
   "execution_count": 32,
   "metadata": {},
   "outputs": [],
   "source": [
    "cast = counts['cast']"
   ]
  },
  {
   "cell_type": "code",
   "execution_count": 34,
   "metadata": {},
   "outputs": [
    {
     "data": {
      "text/plain": [
       "[RangeIndex(start=0, stop=109, step=1)]"
      ]
     },
     "execution_count": 34,
     "metadata": {},
     "output_type": "execute_result"
    }
   ],
   "source": [
    "cast.axes"
   ]
  },
  {
   "cell_type": "code",
   "execution_count": 35,
   "metadata": {},
   "outputs": [
    {
     "data": {
      "text/plain": [
       "0      {'Matt': 397, 'All': 112, 'Laura': 283, 'Travi...\n",
       "1      {'Matt': 658, 'Travis': 259, 'Taliesin': 288, ...\n",
       "2      {'Matt': 777, 'All': 59, 'Liam': 306, 'Sam': 2...\n",
       "3      {'Matt': 542, 'All': 51, 'Sam': 204, 'Travis':...\n",
       "4      {'Matt': 659, 'Laura': 288, 'All': 36, 'Travis...\n",
       "                             ...                        \n",
       "104    {'Matt': 535, 'Travis': 308, 'Ashley': 154, 'A...\n",
       "105    {'Matt': 609, 'All': 129, 'Taliesin': 216, 'Sa...\n",
       "106    {'Matt': 487, 'All': 123, 'Sam': 189, 'Laura':...\n",
       "107    {'Matt': 560, 'All': 126, 'Sam': 161, 'Ashley'...\n",
       "108    {'Matt': 476, 'All': 94, 'Sam': 204, 'Laura': ...\n",
       "Name: cast, Length: 109, dtype: object"
      ]
     },
     "execution_count": 35,
     "metadata": {},
     "output_type": "execute_result"
    }
   ],
   "source": [
    "cast.transpose()"
   ]
  },
  {
   "cell_type": "code",
   "execution_count": 36,
   "metadata": {},
   "outputs": [
    {
     "data": {
      "text/plain": [
       "0      {'Matt': 397, 'All': 112, 'Laura': 283, 'Travi...\n",
       "1      {'Matt': 658, 'Travis': 259, 'Taliesin': 288, ...\n",
       "2      {'Matt': 777, 'All': 59, 'Liam': 306, 'Sam': 2...\n",
       "3      {'Matt': 542, 'All': 51, 'Sam': 204, 'Travis':...\n",
       "4      {'Matt': 659, 'Laura': 288, 'All': 36, 'Travis...\n",
       "                             ...                        \n",
       "104    {'Matt': 535, 'Travis': 308, 'Ashley': 154, 'A...\n",
       "105    {'Matt': 609, 'All': 129, 'Taliesin': 216, 'Sa...\n",
       "106    {'Matt': 487, 'All': 123, 'Sam': 189, 'Laura':...\n",
       "107    {'Matt': 560, 'All': 126, 'Sam': 161, 'Ashley'...\n",
       "108    {'Matt': 476, 'All': 94, 'Sam': 204, 'Laura': ...\n",
       "Name: cast, Length: 109, dtype: object"
      ]
     },
     "execution_count": 36,
     "metadata": {},
     "output_type": "execute_result"
    }
   ],
   "source": [
    "cast"
   ]
  },
  {
   "cell_type": "code",
   "execution_count": 38,
   "metadata": {},
   "outputs": [
    {
     "data": {
      "text/html": [
       "<div>\n",
       "<style scoped>\n",
       "    .dataframe tbody tr th:only-of-type {\n",
       "        vertical-align: middle;\n",
       "    }\n",
       "\n",
       "    .dataframe tbody tr th {\n",
       "        vertical-align: top;\n",
       "    }\n",
       "\n",
       "    .dataframe thead th {\n",
       "        text-align: right;\n",
       "    }\n",
       "</style>\n",
       "<table border=\"1\" class=\"dataframe\">\n",
       "  <thead>\n",
       "    <tr style=\"text-align: right;\">\n",
       "      <th></th>\n",
       "      <th>cast</th>\n",
       "    </tr>\n",
       "  </thead>\n",
       "  <tbody>\n",
       "    <tr>\n",
       "      <th>0</th>\n",
       "      <td>{'Matt': 397, 'All': 112, 'Laura': 283, 'Travi...</td>\n",
       "    </tr>\n",
       "    <tr>\n",
       "      <th>1</th>\n",
       "      <td>{'Matt': 658, 'Travis': 259, 'Taliesin': 288, ...</td>\n",
       "    </tr>\n",
       "    <tr>\n",
       "      <th>2</th>\n",
       "      <td>{'Matt': 777, 'All': 59, 'Liam': 306, 'Sam': 2...</td>\n",
       "    </tr>\n",
       "    <tr>\n",
       "      <th>3</th>\n",
       "      <td>{'Matt': 542, 'All': 51, 'Sam': 204, 'Travis':...</td>\n",
       "    </tr>\n",
       "    <tr>\n",
       "      <th>4</th>\n",
       "      <td>{'Matt': 659, 'Laura': 288, 'All': 36, 'Travis...</td>\n",
       "    </tr>\n",
       "    <tr>\n",
       "      <th>...</th>\n",
       "      <td>...</td>\n",
       "    </tr>\n",
       "    <tr>\n",
       "      <th>104</th>\n",
       "      <td>{'Matt': 535, 'Travis': 308, 'Ashley': 154, 'A...</td>\n",
       "    </tr>\n",
       "    <tr>\n",
       "      <th>105</th>\n",
       "      <td>{'Matt': 609, 'All': 129, 'Taliesin': 216, 'Sa...</td>\n",
       "    </tr>\n",
       "    <tr>\n",
       "      <th>106</th>\n",
       "      <td>{'Matt': 487, 'All': 123, 'Sam': 189, 'Laura':...</td>\n",
       "    </tr>\n",
       "    <tr>\n",
       "      <th>107</th>\n",
       "      <td>{'Matt': 560, 'All': 126, 'Sam': 161, 'Ashley'...</td>\n",
       "    </tr>\n",
       "    <tr>\n",
       "      <th>108</th>\n",
       "      <td>{'Matt': 476, 'All': 94, 'Sam': 204, 'Laura': ...</td>\n",
       "    </tr>\n",
       "  </tbody>\n",
       "</table>\n",
       "<p>109 rows × 1 columns</p>\n",
       "</div>"
      ],
      "text/plain": [
       "                                                  cast\n",
       "0    {'Matt': 397, 'All': 112, 'Laura': 283, 'Travi...\n",
       "1    {'Matt': 658, 'Travis': 259, 'Taliesin': 288, ...\n",
       "2    {'Matt': 777, 'All': 59, 'Liam': 306, 'Sam': 2...\n",
       "3    {'Matt': 542, 'All': 51, 'Sam': 204, 'Travis':...\n",
       "4    {'Matt': 659, 'Laura': 288, 'All': 36, 'Travis...\n",
       "..                                                 ...\n",
       "104  {'Matt': 535, 'Travis': 308, 'Ashley': 154, 'A...\n",
       "105  {'Matt': 609, 'All': 129, 'Taliesin': 216, 'Sa...\n",
       "106  {'Matt': 487, 'All': 123, 'Sam': 189, 'Laura':...\n",
       "107  {'Matt': 560, 'All': 126, 'Sam': 161, 'Ashley'...\n",
       "108  {'Matt': 476, 'All': 94, 'Sam': 204, 'Laura': ...\n",
       "\n",
       "[109 rows x 1 columns]"
      ]
     },
     "execution_count": 38,
     "metadata": {},
     "output_type": "execute_result"
    }
   ],
   "source": [
    "cast.to_frame()"
   ]
  },
  {
   "cell_type": "code",
   "execution_count": null,
   "metadata": {},
   "outputs": [],
   "source": []
  }
 ],
 "metadata": {
  "kernelspec": {
   "display_name": "Python 3",
   "language": "python",
   "name": "python3"
  },
  "language_info": {
   "codemirror_mode": {
    "name": "ipython",
    "version": 3
   },
   "file_extension": ".py",
   "mimetype": "text/x-python",
   "name": "python",
   "nbconvert_exporter": "python",
   "pygments_lexer": "ipython3",
   "version": "3.8.6"
  }
 },
 "nbformat": 4,
 "nbformat_minor": 4
}
